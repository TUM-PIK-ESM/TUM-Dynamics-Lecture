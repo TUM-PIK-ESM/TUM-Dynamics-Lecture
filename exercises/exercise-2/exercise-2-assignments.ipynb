{
 "cells": [
  {
   "cell_type": "markdown",
   "metadata": {},
   "source": [
    "# Exercise 2 \n",
    "\n"
   ]
  },
  {
   "cell_type": "markdown",
   "metadata": {},
   "source": [
    "# Git and GitHub\n",
    "\n",
    "1. Create a new repository for this class on GitHub.\n",
    "2. Clone that repository to your computer.\n",
    "3. Create a Julia environment for your project. Add the `Plots` package.\n",
    "4. You should now see the files Project.toml and Manifest.toml in your project directory. Commit them to your repo with an appropriate commit message.\n",
    "5. Push your changes to GitHub. Do you now see the two files on GitHub?"
   ]
  },
  {
   "cell_type": "markdown",
   "metadata": {},
   "source": [
    "# Code the Euler Solvers\n",
    "\n",
    "Implement both the simple and improved Euler solver in Julia. Code them, so that their input arguments are the rhs of the differential equation, parameters of the rhs and initial conditions."
   ]
  },
  {
   "cell_type": "markdown",
   "metadata": {},
   "source": [
    "## Test Your Solvers with the Lotka-Volterra System\n",
    "\n",
    "Now, test your solvers by integrating the Lotka-Volterra system (LV), modelling predetator-prey dynamics. In this model the prey, here hares, have unlimited food supply but are hunted by predators, here foxes. The predators only hunt the prey, and otherwise die if no prey is available. When $H$ is the amount of hares, and $F$ is the amount of foxes, then their population dynamics are described by \n",
    "\n",
    "$ \\frac{dH}{dt} = \\alpha H - \\beta H F \\\\\n",
    "   \\frac{dF}{dt} = -\\gamma F + \\delta H F $\n",
    "\n",
    "All parameters are positive, real numbers.\n",
    "\n",
    "* What could the four different terms in the LV stand for? \n",
    "\n",
    "* Integrate the LV from $t_0=0$ to $t_{end}=50$ with $\\alpha=1$, $\\beta=0.5$, $\\gamma=1.$, $\\delta=0.2$ and $x_0=[20.,5.]$ \n",
    "\n",
    "* Test both solvers for different step sizes $\\Delta t =0.01$, $\\Delta t =0.05$, $\\Delta t=0.1$. What are you observing? \n",
    "\n",
    "* Looking at the trajectories you get, can you think of one major short coming of the model? Where is it the most unrealistic?\n",
    "\n",
    "* In the end, make sure you commit and push all files you were working on to your Git repository\n",
    "\n",
    "### Tips\n",
    "\n",
    "* The initial conditions (like the states) need to be floating numbers, not integer, so intialize them as floats (e.g. `[20., 20.]` instead of `[20, 20]`), otherwise you might run into errors"
   ]
  },
  {
   "cell_type": "markdown",
   "metadata": {},
   "source": [
    "\n",
    "## DifferentialEquations.jl \n",
    "\n",
    "* Similar to the notes in the lecture, integrate the Lotka Volterra system with `DifferentialEquations.jl`. \n",
    "* Try out different solvers like `Tsit5()`, `Vern8()`, `Rosenbrock23()` and plot their solution compared to the Euler solvers you implemented. For a system as \"easy\" as the LV, you will probably not see large differences in accuracy, but note and compare their different performance with `@btime` from `BenchmarkTools.jl`. Also experiment with how the adaptive stepsize tolerances like `reltol` (default: $10^{-3}$) and `abstol` (default: $10^{-6}$) influence the performance of the solver \n",
    "\n",
    "\n",
    "* `Tsit5()` is one of the default solvers of DifferentialEquations.jl, it is a Runge-Kutta solver with 5th-order accuracy and adaptive stepsize. It's a good default choice\n",
    "* `Vern8()` is also a adaptive stepsize Runge-Kutta solver, but with 8th-order accuracy. Thus it is more accurate but slower than the `Tsit5()`\n",
    "* `Rosenbrock23()` is a different kind of solver. It is an implicit solver that is different to the explicit Runge-Kutta and Euler solvers we talked about. It is setup to deal with \"stiff\" ODEs. Stiff ODEs are numerically harder to solve. They occur e.g. when there is a large difference in scale between the different dimensions of a system/model. They can also solve non-stiff ODEs, but generally they are slower than the explicit solvers for these cases (for a similar accuracy). "
   ]
  }
 ],
 "metadata": {
  "kernelspec": {
   "display_name": "Julia 1.7.2",
   "language": "julia",
   "name": "julia-1.7"
  },
  "language_info": {
   "file_extension": ".jl",
   "mimetype": "application/julia",
   "name": "julia",
   "version": "1.7.2"
  },
  "title": "Scientific Programming and Dynamic Modelling in Julia"
 },
 "nbformat": 4,
 "nbformat_minor": 2
}
