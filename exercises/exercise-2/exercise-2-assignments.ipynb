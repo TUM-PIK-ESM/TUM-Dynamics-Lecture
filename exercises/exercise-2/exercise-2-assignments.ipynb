{
 "cells": [
  {
   "cell_type": "markdown",
   "metadata": {},
   "source": [
    "# Exercise 2 \n",
    "\n"
   ]
  },
  {
   "cell_type": "markdown",
   "metadata": {},
   "source": [
    "# Git and GitHub\n",
    "\n",
    "1. Create a new repository for this class on GitHub.\n",
    "2. Clone that repository to your computer.\n",
    "3. Create a Julia environment for your project. Add the `Plots` package.\n",
    "4. You should now see the files Project.toml and Manifest.toml in your project directory. Commit them to your repo with an appropriate commit message.\n",
    "5. Push your changes to GitHub. Do you now see the two files on GitHub?"
   ]
  },
  {
   "cell_type": "markdown",
   "metadata": {},
   "source": [
    "# Types, Structs, and Multiple Dispatch\n",
    "\n",
    "\n",
    "The genus [*Homo*](https://en.wikipedia.org/wiki/Homo) includes the species *Homo sapiens* (modern humans) as well as several other extinct species.\n",
    "\n",
    "1. Translate [this taxonomy](https://en.wikipedia.org/wiki/Homo#Phylogeny) (only the bottom right part, from Homo onwards) into a Julia type hierarchy:  \n",
    "    a. Species which evolved into other species, for example *Homo heidelbergensis*, should be represented as Julia abstract types, with their descendants as corresponding Julia subtypes.  \n",
    "    b. For *Homo neanderthalensis*, *Denisova people* and *Homo sapiens*, create a composite type (struct) containing some information about them, for example, the individual's name.   \n",
    "    c. Ignore the remaining species without descendants.\n",
    "    \n",
    "    \n",
    "2. Given instances of any two of the composite types you just defined, can you define a Julia function to print their most recent common ancestor using multiple dispatch? For example, the most recent common ancestor of *Homo sapiens* and *Homo neanderthalensis* is *Homo heidelbergensis*. If the two individuals are of the same species, print that."
   ]
  },
  {
   "cell_type": "markdown",
   "metadata": {},
   "source": [
    "# Code the Euler Solvers\n",
    "\n",
    "Implement both the simple and improved Euler solver in Julia's OOP style. \n",
    "\n",
    "* Write a `struct` that specifices the ODE problem that you are trying to solve, saving all information about the Differential Equation and initial condition, parameters and time span, Tip: `structs` can also hold functions!\n",
    "* Write `struct`s for each of the two solver variants \n",
    "* Write a function `solve` that accepts the problem and solver types and returns a trajectory of the system "
   ]
  },
  {
   "cell_type": "markdown",
   "metadata": {},
   "source": [
    "## Test Your Solvers with the Lotka-Volterra System\n",
    "\n",
    "Now, test your solvers by integrating the Lotka-Volterra system (LV), modelling predetator-prey dynamics. In this model the prey, here rabbits, have unlimited food supply but are hunted by predators, here foxes. The predators only hunt the prey, and otherwise die if no prey is available. When $R$ is the amount of rabbits, and $F$ is the amount of foxes, then their population dynamics are described by \n",
    "\n",
    "$ \\frac{dH}{dt} = \\alpha H - \\beta H F \\\\\n",
    "   \\frac{dF}{dt} = -\\gamma F + \\delta H F $\n",
    "\n",
    "All parameters are positive, real numbers.\n",
    "\n",
    "* What could the four different terms in the LV stand for? \n",
    "\n",
    "* Integrate the LV from $t_0=0$ to $t_{end}=50$ with $\\alpha=1$, $\\beta=0.5$, $\\gamma=1.$, $\\delta=0.2$ and $x_0=[20.,5.]$ \n",
    "\n",
    "* Test both solvers for different step sizes $\\Delta t =0.01$, $\\Delta t =0.05$, $\\Delta t=0.1$. What are you observing? \n",
    "\n",
    "* Looking at the trajectories you get, can you think of one major short coming of the model? Where is it the most unrealistic?\n",
    "\n",
    "* In the end, make sure you commit and push all files you were working on to your Git repository\n",
    "\n",
    "### Tips\n",
    "\n",
    "* The initial conditions (like the states) need to be floating numbers, not integer, so intialize them as floats (e.g. `[20., 20.]` instead of `[20, 20]`), otherwise you might run into errors"
   ]
  }
 ],
 "metadata": {
  "kernelspec": {
   "display_name": "Julia 1.7.2",
   "language": "julia",
   "name": "julia-1.7"
  },
  "language_info": {
   "file_extension": ".jl",
   "mimetype": "application/julia",
   "name": "julia",
   "version": "1.7.2"
  },
  "title": "Scientific Programming and Dynamic Modelling in Julia"
 },
 "nbformat": 4,
 "nbformat_minor": 2
}
