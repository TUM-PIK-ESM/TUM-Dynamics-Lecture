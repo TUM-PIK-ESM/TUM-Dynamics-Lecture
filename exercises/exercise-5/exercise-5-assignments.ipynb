{
 "cells": [
  {
   "cell_type": "markdown",
   "id": "cbee3e45",
   "metadata": {},
   "source": [
    "# Exercise 4\n",
    "\n",
    "## Computing the Maximum Lyapunov Exponent\n",
    "\n",
    "* Investigate how two trajectories that start only small pertubation $\\delta_0$ apart diverge from each other:\n",
    "    * Start from a random initial initial conditions and solve the Lorenz equation far enough so that the trajectory ends on the attractor \n",
    "    * Take the last point of that \"transient\" as a new initial condition. From that point on solve two trajectories $\\mathbf{x}_1$ and $\\mathbf{x}_2$, one perturbed by a small value $\\delta_0$\n",
    "    * Plot both trajectories in the same plot, what do you observe? \n",
    "    * Now compute $\\delta(t) = ||\\mathbf{x}_1 - \\mathbf{x}_2||$ and plot it on a logarithmic scale. Why does $\\delta(t)$ saturate and doesn't increase further at some point?\n",
    "\n",
    "\n",
    "* Estimate the maximum Lyapunov exponent $\\lambda_{\\max}$ of the Lorenz equation by: \n",
    "    * $N$ times repeat the previous steps to compute $\\delta(t)$ from different initial conditions\n",
    "    * We know that $\\delta(t) \\approx \\delta_0 e^{\\lambda_{max}t}$\n",
    "    * You can construct a time axis by using the $\\Delta t$ from the `trajectory` command\n",
    "    * Estimate $\\lambda_{max}$ for each trial by computing the slope in the logartihmic plot. You can do this by performing a linear regression\n",
    "        * When $y=a*x+b$, in matrix form we can write it as $\\begin{pmatrix}y_1\\\\y_2\\\\\\vdots \\end{pmatrix} =  \\begin{pmatrix} 1 & x_1 \\\\ 1 & x_2 \\\\ \\vdots & \\vdots \\end{pmatrix}\\begin{pmatrix}b \\\\ a\\end{pmatrix}$ or $\\mathbf{y}=\\mathbf{X}\\mathbf{c}$, which you can solve via `X \\ y`\n",
    "    * Return the average $\\lambda_{max}$ of your $N$ trials\n",
    "    * Remember to also write a doc string for your routine \n",
    "\n",
    "* Compare your estimate to the routine from `DynamicalSystems.jl` called `lyapunov`.\n",
    "\n",
    "\n"
   ]
  }
 ],
 "metadata": {
  "kernelspec": {
   "display_name": "Julia 1.7.2",
   "language": "julia",
   "name": "julia-1.7"
  },
  "language_info": {
   "file_extension": ".jl",
   "mimetype": "application/julia",
   "name": "julia",
   "version": "1.7.2"
  }
 },
 "nbformat": 4,
 "nbformat_minor": 5
}
