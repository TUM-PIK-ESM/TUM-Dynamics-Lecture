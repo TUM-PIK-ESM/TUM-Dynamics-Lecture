{
 "cells": [
  {
   "cell_type": "markdown",
   "metadata": {},
   "source": [
    "# Exercise 1 \n",
    "\n",
    "## Setting up Julia \n",
    "\n",
    "* Make sure you have installed Julia and an Editor with Julia support like VSCode \n",
    "* Create a new folder for the lecture \n",
    "* Launch Julia in the folder \n",
    "* In the Julia REPL: \n",
    "    * `]` brings you to the Julia packet manager \n",
    "    * `;` brings you to a bash shell \n",
    "* Activate a new local Julia environment in the Julia packet manager with `activate .` (We will talk a bit more about environments in the next lecture)\n",
    "* Add the Plotting library with `add Plots` in the Julia packet manager\n",
    "* When you write a script, always first activate the local environment with `import Pkg; Pkg.activate(\".\")` "
   ]
  },
  {
   "cell_type": "markdown",
   "metadata": {},
   "source": [
    "## Logistic Map \n",
    "\n",
    "### Code the Logistic Map\n",
    "\n",
    "Write a function that returns a $N$ steps long trajectory of a logistic map given an initial condition $x_0$ and parameter value $r$, where $1 < r < 4$."
   ]
  },
  {
   "cell_type": "markdown",
   "metadata": {},
   "source": [
    "### Plot trajectories\n",
    "\n",
    "Julia has one major plotting library `Plots.jl` that can use different backends for plotting (like Python's matplotlib or plotly). After importing the library with `using Plots`, a basic plot is called by `plot(x,y)`. If you want to add to an exisiting plot, use `plot!(x,y)`. You can adjust the plot by adding keyword arguments. Some common keyword arguments are: \n",
    "\n",
    "* `ylims=[lower_limit, upper_limit]`\n",
    "* `xlims=[lower_limit, upper_limit]`\n",
    "* `title`\n",
    "* `xlabel`\n",
    "* `ylabel`\n",
    "* all further keyword arguments are listed there: https://docs.juliaplots.org/stable/attributes/\n",
    "\n",
    "For those how are familiar with Python, you can also use `matplotlib.pyplot` directly, there is a Julia wrapper, called `PyPlot.jl`. The syntax is almost the same as in Python. See its documentation (https://github.com/JuliaPy/PyPlot.jl) for how exactly it translates. \n",
    "\n",
    "Now, plot trajectories of the logistic map for different values of $1 < r < 4$, that are $N=50$ steps long. \n"
   ]
  },
  {
   "cell_type": "markdown",
   "metadata": {},
   "source": [
    "### Explore the Logistic Map\n",
    "\n",
    "If you keep the $r$ constant, e.g. at $r=2.9$ and $r=3.2$, what are you observing for different initial conditions $x_0$? \n"
   ]
  },
  {
   "cell_type": "markdown",
   "metadata": {},
   "source": [
    "At which points $r_c \\in [2.7;3.6]$  does the trajectory change its behaviour and how? "
   ]
  },
  {
   "cell_type": "markdown",
   "metadata": {},
   "source": [
    "### Plotting a famous diagram\n",
    "\n",
    "Plot a diagram with $r$ on the x axis and the last 50 points of 100 steps long trajectories of a logistic map on the y axis for $2.5 < r < 4$. Use the same initial conditions $x_0$ for every trajectory.\n",
    "\n",
    "#### Tips \n",
    "\n",
    "* use `scatter!` For the plots. The keyword argument `markersize` determines the size of the scatter points, it should be $<1$ here\n",
    "* If you use any plot inside of a loop, use the `show=true` argument so that your editor really shows the plot"
   ]
  }
 ],
 "metadata": {
  "kernelspec": {
   "display_name": "Julia 1.7.2",
   "language": "julia",
   "name": "julia-1.7"
  },
  "language_info": {
   "file_extension": ".jl",
   "mimetype": "application/julia",
   "name": "julia",
   "version": "1.7.2"
  },
  "title": "Scientific Programming and Dynamic Modelling in Julia"
 },
 "nbformat": 4,
 "nbformat_minor": 2
}
