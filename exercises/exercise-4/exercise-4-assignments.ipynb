{
 "cells": [
  {
   "cell_type": "markdown",
   "id": "cbee3e45",
   "metadata": {},
   "source": [
    "# Exercise 4\n",
    "\n",
    "## Phase Portraits and Lotka-Volterra\n",
    "\n",
    "### Lotka-Volterra Model for Competition \n",
    "\n",
    "First, we do a slightly different Lotka-Volterra Model, its variation for competition. Imagine we have a population of rabbits and and one of sheeps. Both are competing for the same limited food supply (grass). Similar to the logistic growth model, each population will have its own carrying capacity. Both reproduce, but rabbits reproduce a bit faster than sheep. When a sheep and a rabbit compete for the same patch of grass, the sheep will more often \"win\" and chase the rabbit away than the other way around. These conflicts occur more often when the populations are larger, thus we assume they are directly proportional to their population. \n",
    "\n",
    "One of modelling this is done by the following equation: \n",
    "\n",
    "$\\frac{dR}{dt} = R(3 - R - 2S)\\\\\n",
    "\\frac{dS}{dt} = S(2 - S - R)$\n",
    "\n",
    "The first two terms correspond to the logistic growth of each seperate species, where rabbits reproduce a bit faster. The last term models the conflicts between two species. \n",
    "\n",
    "* Now, implement this model and plot a phase portrait similar to how it was done in the lecture. From the phase portrait deduct the stability of the system and what kind of behaviour occurs. \n",
    "\n",
    "### Lotka-Volterra Model for Predetor-Prey Dynamics \n",
    "\n",
    "* Plot a phase portrait for the Lotka-Volterra model for predetor-prey dynamics as it given in the last exercises. What kind of dynamics can you see? \n",
    "\n"
   ]
  },
  {
   "cell_type": "markdown",
   "id": "a9d5795b",
   "metadata": {},
   "source": [
    "## Type Inference and Type Stability\n",
    "\n",
    "Consider the following implentation of the Lotka-Volterra model. "
   ]
  },
  {
   "cell_type": "code",
   "execution_count": null,
   "id": "309c8d5a",
   "metadata": {},
   "outputs": [
    {
     "data": {
      "text/plain": [
       "lotka_volterra (generic function with 1 method)"
      ]
     },
     "metadata": {},
     "output_type": "display_data"
    }
   ],
   "source": [
    "α = 1.0\n",
    "β = 0.5\n",
    "γ = 1.0\n",
    "δ = 0.2\n",
    "\n",
    "function lotka_volterra(x)\n",
    "    return [α*x[1] - β*x[1]*x[2], -γ*x[2] + δ*x[1]*x[2]]\n",
    "end"
   ]
  },
  {
   "cell_type": "markdown",
   "id": "9685eb1f",
   "metadata": {},
   "source": [
    "1. Is it type-stable? Why / why not?\n",
    "2. If not, write a type stable version of the function.\n",
    "3. Use the `@btime` macro from the `BenchmarkTools` package to compare the performance of the type-stable and type-unstable versions of the function."
   ]
  },
  {
   "cell_type": "markdown",
   "id": "08858061",
   "metadata": {},
   "source": [
    "## Git\n",
    "\n",
    "Remember to commit and push everything to your Git repository"
   ]
  }
 ],
 "metadata": {
  "kernelspec": {
   "display_name": "Julia 1.7.2",
   "language": "julia",
   "name": "julia-1.7"
  },
  "language_info": {
   "file_extension": ".jl",
   "mimetype": "application/julia",
   "name": "julia",
   "version": "1.7.2"
  }
 },
 "nbformat": 4,
 "nbformat_minor": 5
}
