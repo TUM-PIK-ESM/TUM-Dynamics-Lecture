{
 "cells": [
  {
   "cell_type": "markdown",
   "id": "39452e84",
   "metadata": {},
   "source": [
    "# Exercise 4: Reimplement the Euler Solvers\n",
    "\n",
    "- In the second exercise, you implemented the simple and improved Euler solvers using functions. After today's lecture, you're ready to take a more structured approach. \n",
    "\n",
    "\n",
    "- Conceputally, we could think of the procedure for solving an ODE as involving three objects:\n",
    "\n",
    "    1. An ODE problem type, which consists of the right-hand side function, initial conditions, parameters and timespan of your problem.\n",
    "    2. An ODE algorithm type, which describes a specific solver algorithm.\n",
    "    3. An ODE solution type, which contains the computed trajectory and the times where the solver stopped.\n",
    "\n",
    "\n",
    "- For this week's exercise:\n",
    "    1. Create structs for each of these object types. \n",
    "    2. Write a function `solve` that accepts instances of your problem and algorithm types, like `solve(prob, alg)`, and carries out the correct procedure for the given solver algorithm. Your `solve` function should return an instance of your solution type.\n",
    "    3. Bonus: Write a method for the `plot` function from the `Plots` package which accepts an instance of your solution object and makes a sensible plot, like `plot(solution)`.\n",
    "    4. Test your solvers on the Lotka-Volterra system.\n",
    "\n",
    "\n",
    "- Hints:\n",
    "    - Structs can also hold functions! All Julia functions are subtypes of the abstract type `Function`.\n",
    "    - You might find it easiest to begin by implementing your solution without any type annotations or type parameters. When that works, add type annotations. Finally, make your types and functions parametric. \n",
    "    - You might find it interesting to use the `@btime` macro from [BenchmarkTools.jl](https://forms.gle/SdDGr1E46v89dSBX8) to observe how the speed of your code changes as you add concrete type annotations.\n",
    "    - Remember to use abstract types to define relationships between related concrete types, for example, your two solver algorithms.\n",
    "    - An `Array` of dimension `N` and containing objects of type `T` is a subtype of `AbstractArray{T,N}`."
   ]
  },
  {
   "cell_type": "markdown",
   "id": "0d8541b2",
   "metadata": {},
   "source": [
    "# Survey\n",
    "\n",
    "- Reminder: please take three minutes to fill out the survey! https://forms.gle/SdDGr1E46v89dSBX8"
   ]
  }
 ],
 "metadata": {
  "kernelspec": {
   "display_name": "Julia 1.8.2",
   "language": "julia",
   "name": "julia-1.8"
  },
  "language_info": {
   "file_extension": ".jl",
   "mimetype": "application/julia",
   "name": "julia",
   "version": "1.8.2"
  }
 },
 "nbformat": 4,
 "nbformat_minor": 5
}
