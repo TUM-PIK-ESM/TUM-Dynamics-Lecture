{
 "cells": [
  {
   "cell_type": "markdown",
   "id": "8098f805",
   "metadata": {},
   "source": [
    "# Exercise 9\n",
    "\n",
    "* Add the Ghil Sellers EBM to your EBM package from Exercise 8 or create a new package for it \n",
    "* For initial conditions of the type `T_0 * ones(n)`, at which value `T_0` is the basin boundary between the cold and warm state of the system, try to estimate it correctly up to one digit after the decimal point.\n",
    "* Also implement a fourth order central difference scheme and try the same basin boundary estimation again, you can look up the coefficients on [Wikipedia](https://en.wikipedia.org/wiki/Finite_difference_coefficient)\n",
    "* Add an additional modifier $\\mu$ to the outgoing radition, so that for $\\mu=1$ the radiation stays the same \n",
    "* Do a bifurcation diagram similar to the one demonstrated in Lecture 8, in which you take $\\mu$ as the control parameter and vary it within $\\mu \\in [0.95;1.02]$ in small steps for various initial condtions and track how the average temperature of the final state changes and when both a cold and a warm state coexist. \n",
    "* Use the performance tips from the second part of the lecture to further optimize the code, focus e.g. on the `struct`s and their types"
   ]
  }
 ],
 "metadata": {
  "kernelspec": {
   "display_name": "Julia 1.7.2",
   "language": "julia",
   "name": "julia-1.7"
  },
  "language_info": {
   "file_extension": ".jl",
   "mimetype": "application/julia",
   "name": "julia",
   "version": "1.7.2"
  }
 },
 "nbformat": 4,
 "nbformat_minor": 5
}
