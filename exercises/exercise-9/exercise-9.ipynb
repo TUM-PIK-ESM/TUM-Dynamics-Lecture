{
 "cells": [
  {
   "cell_type": "markdown",
   "id": "b805e277",
   "metadata": {},
   "source": [
    "# Exercise 9 \n",
    "\n",
    "## Documenter.jl and Continuous Deployment \n",
    "\n",
    "* Use [PkgTemplates.jl](https://github.com/invenia/PkgTemplates.jl) to create a new Git repository for your implementation of the Complex Ginsburg Landau Equation, below.\n",
    "\n",
    "* Write comprehensive docstrings for your package, including all functions and types, in accordance with the Julia documentation [guidelines](https://docs.julialang.org/en/v1/manual/documentation/). \n",
    "\n",
    "* Use [Documenter.jl](https://juliadocs.github.io/Documenter.jl/stable/) to automatically generate documentation from those docstrings. You should also include a homepage explaining the purpose of your package, as well as any other information you consider relevant. See the [examples](https://juliadocs.github.io/Documenter.jl/stable/man/examples/) section of the Documenter.jl docs for inspiration of how other projects structure their documentation.\n",
    "\n",
    "* As shown in the lecture, set up a CD pipeline to automatically build your documentation and host it on GitHub Pages. (It is still highly recommended to build and host your documentation locally during development.)\n",
    "\n",
    "\n",
    "## PDEs: The Complex Ginsburg Landau Equation \n",
    "\n",
    "* Integrate the Complex Ginsburg Landau Equation (CGLE) \n",
    "$$\\begin{align} \n",
    "    \\frac{\\partial u}{\\partial t} = (1 + i\\alpha)\\Delta u - (1 + i\\beta)|u|^2u\\end{align} + u $$ \n",
    "* For this problem apply periodic boundary conditions: modify the 2D Laplacian from the lecture so that it works with periodic boundary conditions\n",
    "    * Think about what the neighbouring grid points of the boundary nodes are in this case and modify the finite difference matrix accordingly\n",
    "    * You won't need an extra `struct` for the boundary condition in this case\n",
    "* Use $\\alpha=2$, $\\beta=-1$ as parameters for the equation\n",
    "* Initially use $n=50$, $L=75$, but later you can try out different values \n",
    "* As an initial conditions use: `u0 = 0.01*(rand(ComplexF64, (n,n)) .- (0.5 + 0.5im))`\n",
    "* Plot an animation of a long trajectory of the system (use the absolute value of the states)\n",
    "* What kind of dynamics can you observe? \n",
    "* Increase the domain, to $n=128$, $L = 192$\n",
    "\n"
   ]
  }
 ],
 "metadata": {
  "kernelspec": {
   "display_name": "Julia 1.7.2",
   "language": "julia",
   "name": "julia-1.7"
  },
  "language_info": {
   "file_extension": ".jl",
   "mimetype": "application/julia",
   "name": "julia",
   "version": "1.7.2"
  }
 },
 "nbformat": 4,
 "nbformat_minor": 5
}
