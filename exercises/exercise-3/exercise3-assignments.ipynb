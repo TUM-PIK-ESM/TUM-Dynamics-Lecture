{
 "cells": [
  {
   "cell_type": "markdown",
   "id": "cbee3e45",
   "metadata": {},
   "source": [
    "# Exercise 3\n",
    "\n",
    "## Stability of a Double Well \n",
    "\n",
    "Explore the stability of the system $$\\frac{dx}{dt} = x - x^3.$$ What are the fixed points of the system and what's their stability? Which intervals of initial conditions lead to which of the stable fixed points?\n",
    "\n",
    "## Phase Portraits and Lotka-Volterra\n",
    "\n",
    "### Lotka-Volterra Model for Competition \n",
    "\n",
    "First, we do a slightly different Lotka-Volterra Model, its variation for competition. Imagine we have a population of rabbits and and one of sheeps. Both are competing for the same limited food supply (grass). Similar to the logistic growth model, each population will have its own carrying capacity. Both reproduce, but rabbits reproduce a bit faster than sheep. When a sheep and a rabbit compete for the same patch of grass, the sheep will more often \"win\" and chase the rabbit away than the other way around. These conflicts occur more often when the populations are larger, thus we assume they are directly proportional to their population. \n",
    "\n",
    "One of modelling this is done by the following equation: \n",
    "\n",
    "$\\frac{dR}{dt} = R(3 - R - 2S)\\\\\n",
    "\\frac{dS}{dt} = S(2 - S - R)$\n",
    "\n",
    "The first two terms correspond to the logistic growth of each seperate species, where rabbits reproduce a bit faster. The last term models the conflicts between two species. \n",
    "\n",
    "* Now, implement this model and plot a phase portrait similar to how it was done in the lecture. From the phase portrait deduct the stability of the system and what kind of behaviour occurs. \n",
    "\n",
    "### Lotka-Volterra Model for Predetor-Prey Dynamics \n",
    "\n",
    "* Plot a phase portrait for the Lotka-Volterra model for predetor-prey dynamics as it given in the last exercises. What kind of dynamics can you see? \n"
   ]
  }
 ],
 "metadata": {
  "kernelspec": {
   "display_name": "Julia 1.9.2",
   "language": "julia",
   "name": "julia-1.9"
  },
  "language_info": {
   "file_extension": ".jl",
   "mimetype": "application/julia",
   "name": "julia",
   "version": "1.9.2"
  }
 },
 "nbformat": 4,
 "nbformat_minor": 5
}
