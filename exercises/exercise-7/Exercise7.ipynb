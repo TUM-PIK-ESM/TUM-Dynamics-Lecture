{
 "cells": [
  {
   "cell_type": "markdown",
   "id": "e1e31b58",
   "metadata": {},
   "source": [
    "# Exercise 7\n",
    "\n",
    "## EBM Package\n",
    "\n",
    "* Set up a package for EBMs using `PkgTemplates`. Include CI using GitHub Actions and set up a remote repository on GitHub. In the rest of the exercise, create a new branch for each part of the exercise and practice branching and merging (including merging both locally, from the command line, and via a PR on GitHub). Make sure to write tests for all of your functions. Can you see the tests passing on GitHub Actions?\n",
    "* Add functions for all zero-dimensional EBMs talked about in the lecture. Include tests that they all result in fixed points.\n",
    "* How do the fixed points change if you use Budyko's approach for the outgoing radiation?\n",
    "* Can you think of another ansatz to model a temperature dependend albedo? The albedo has to exhibit realistic values for given temperatures, as given in the lecture or on Wikipedia (https://en.wikipedia.org/wiki/File:Albedo-e_hg.svg). Include it in your package and investigate its dynamics."
   ]
  }
 ],
 "metadata": {
  "kernelspec": {
   "display_name": "Julia 1.7.2",
   "language": "julia",
   "name": "julia-1.7"
  },
  "language_info": {
   "file_extension": ".jl",
   "mimetype": "application/julia",
   "name": "julia",
   "version": "1.7.2"
  }
 },
 "nbformat": 4,
 "nbformat_minor": 5
}
