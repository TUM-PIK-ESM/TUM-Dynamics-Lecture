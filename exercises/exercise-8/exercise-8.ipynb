{
 "cells": [
  {
   "cell_type": "markdown",
   "id": "b805e277",
   "metadata": {},
   "source": [
    "# Exercise 8\n",
    "\n",
    "\n",
    "## PDEs: The Complex Ginsburg Landau Equation \n",
    "\n",
    "* Integrate the Complex Ginsburg Landau Equation (CGLE) \n",
    "$$\\begin{align} \n",
    "    \\frac{\\partial u}{\\partial t} = (1 + i\\alpha)\\Delta u - (1 + i\\beta)|u|^2u\\end{align} + u $$ \n",
    "* For this problem apply periodic boundary conditions: modify the 2D Laplacian from the lecture so that it works with periodic boundary conditions\n",
    "    * Think about what the neighbouring grid points of the boundary nodes are in this case and modify the finite difference matrix accordingly\n",
    "    * You won't need an extra `struct` for the boundary condition in this case\n",
    "* Use $\\alpha=2$, $\\beta=-1$ as parameters for the equation\n",
    "* Initially use $n=50$, $L=75$, but later you can try out different values \n",
    "* As an initial conditions use: `u0 = 0.01*(rand(ComplexF64, (n,n)) .- (0.5 + 0.5im))`\n",
    "* Plot an animation of a long trajectory of the system (use the absolute value of the states)\n",
    "* What kind of dynamics can you observe? \n",
    "* Increase the domain, to $n=128$, $L = 192$"
   ]
  }
 ],
 "metadata": {
  "kernelspec": {
   "display_name": "Julia 1.7.2",
   "language": "julia",
   "name": "julia-1.7"
  },
  "language_info": {
   "file_extension": ".jl",
   "mimetype": "application/julia",
   "name": "julia",
   "version": "1.7.2"
  }
 },
 "nbformat": 4,
 "nbformat_minor": 5
}
