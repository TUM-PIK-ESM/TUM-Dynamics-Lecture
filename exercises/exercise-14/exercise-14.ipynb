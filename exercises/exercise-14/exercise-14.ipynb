{
 "cells": [
  {
   "cell_type": "markdown",
   "id": "c6d4a4b9-0d0f-4605-adc0-8b4f3c275068",
   "metadata": {},
   "source": [
    "# Exercise 11\n",
    "\n",
    "* In the lecture, we trained an FNO on the 16x16 Darcy flow dataset.\n",
    "\n",
    "* Download the 32x32 Darcy flow dataset from here: https://zenodo.org/records/12784353\n",
    "\n",
    "* Evaluate our trained model on the higher resolution dataset (i.e. do zero-shot super-resolution). How does it perform?"
   ]
  }
 ],
 "metadata": {
  "kernelspec": {
   "display_name": "Julia 1.10.5",
   "language": "julia",
   "name": "julia-1.10"
  },
  "language_info": {
   "file_extension": ".jl",
   "mimetype": "application/julia",
   "name": "julia",
   "version": "1.10.5"
  }
 },
 "nbformat": 4,
 "nbformat_minor": 5
}
