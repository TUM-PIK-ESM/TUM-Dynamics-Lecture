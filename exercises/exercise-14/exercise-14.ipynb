{
 "cells": [
  {
   "cell_type": "markdown",
   "id": "e956bc32",
   "metadata": {},
   "source": [
    "# Exercise 13 - SINDy for the Rössler System \n",
    "\n",
    "Use the SINDy algorthim as presented in the lecture on a Rössler system. The Rössler system is a three-dimensional chaotic dynamical system given by the governing equations: \n",
    "$$\\frac{dx}{dt} = -y-z \\\\\n",
    "\\frac{dy}{dt} = x + ay \\\\ \n",
    "\\frac{dz}{dt} = b + z(x - c),$$\n",
    "with the most common parameter choices $a=0.1$, $b=0.1$, $c=14$. The Rössler system was set up by Otto Rössler to be a \"minimal\" chaotic system, as it is a three dimensional system with only nonlinearity. It was later found to be usefull for modelling certain chemical reactions as well. \n",
    "\n",
    "* Generate training data from the known Rössler system with `DifferentialEquations.jl` or `DynamicalSystems.jl`\n",
    "* Use the training data for SINDy, to investigate if the algorithm can recover the governing equations correctly with the help of `DataDrivenDiffEq.jl` \n",
    "* How long, i.e. how much, training data do you need for the SINDy algorithm to sucussfully fit the Rössler equation? "
   ]
  }
 ],
 "metadata": {
  "kernelspec": {
   "display_name": "Julia 1.8.5",
   "language": "julia",
   "name": "julia-1.8"
  },
  "language_info": {
   "file_extension": ".jl",
   "mimetype": "application/julia",
   "name": "julia",
   "version": "1.8.5"
  }
 },
 "nbformat": 4,
 "nbformat_minor": 5
}
