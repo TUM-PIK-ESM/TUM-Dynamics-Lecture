{
 "cells": [
  {
   "cell_type": "markdown",
   "id": "9445f6c2",
   "metadata": {},
   "source": [
    "# Exercise 6"
   ]
  },
  {
   "cell_type": "markdown",
   "id": "8e2e7706",
   "metadata": {},
   "source": [
    "## 1. Optimal Embeddings and Lyapunov Exponents\n",
    "The [Rössler system](https://en.wikipedia.org/wiki/R%C3%B6ssler_attractor) is a three-dimensional continuous-time nonlinear dynamical system with chaotic dynamics similar to the Lorenz system. The equations of motion are,\n",
    "\n",
    "$$\\begin{aligned} \\frac{dx}{dt} & = -y - z \\\\ \\frac{dy}{dt} & = x + ay \\\\ \\frac{dz}{dt} & = b + z(x-c) \\end{aligned}$$\n",
    "\n",
    "1. Compute a trajectory of the Rössler system with the default parameters in DynamicalSystems.jl and plot the attractor in the $x-y$, $x-z$, and $y-z$ planes.\n",
    "2. Create a one-dimensional time series from this trajectory by keeping only the first dimension.\n",
    "3. Given your one-dimensional time series, use the `pecuzal_embedding` routine from DynamicalSystems.jl to estimate the optimal embedding dimension and delays for the Rössler system.\n",
    "4. Use the optimal embedding to estimate the Lyapunov exponent of the Rössler system using the methods `lyapunov_from_data` and `linear_region`, as shown in the lecture. Remember to plot $E(k) - E(0)$ versus $k \\times \\Delta t$. How does your estimate compare to the true Lyapunov exponent? Discuss your answer."
   ]
  },
  {
   "cell_type": "markdown",
   "id": "4ce6db44",
   "metadata": {},
   "source": [
    "## 2. Fractal Dimension of the Lorenz Attractor\n",
    "1. Estimate the fractal dimension of the Lorenz attractor with the Grassberger Procaccia Correlation dimension and the Kaplan-Yorke dimension.\n",
    "2. For the correlation dimension integrate a very long trajectory and then compute the ($\\ln\\epsilon$, $\\ln C$) graph. Do this computation parallized, parallize the for loop that computes $C$ for different $\\epsilon$ values.\n",
    "3. Estimate the correlation dimension as the slope in the ($\\ln\\epsilon$, $\\ln C$) graph.\n",
    "4. Compare your results for the Correlation dimension to that of DynamicalSystems.jl and the Kaplan-Yorke dimension."
   ]
  }
 ],
 "metadata": {
  "kernelspec": {
   "display_name": "Julia 1.7.2",
   "language": "julia",
   "name": "julia-1.7"
  },
  "language_info": {
   "file_extension": ".jl",
   "mimetype": "application/julia",
   "name": "julia",
   "version": "1.7.2"
  }
 },
 "nbformat": 4,
 "nbformat_minor": 5
}
