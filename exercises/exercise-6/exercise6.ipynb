{
 "cells": [
  {
   "cell_type": "markdown",
   "id": "8f583ca3",
   "metadata": {},
   "source": [
    "# Exercise 6\n",
    "\n",
    "## SIRV Model\n",
    "\n",
    "- The SIR model in the absence of demography (births and deaths) is,\n",
    "\n",
    "$$\n",
    "\\begin{aligned}\n",
    "\\frac{dS}{dt} & = -\\beta I S \\\\[3pt]\n",
    "\\frac{dI}{dt} & = \\beta I S - \\gamma I \\\\[3pt]\n",
    "\\frac{dR}{dt} & = \\gamma I\n",
    "\\end{aligned}\n",
    "$$\n",
    "\n",
    "where $\\beta$ is the transmission rate and $\\gamma$ is the recovery rate.\n",
    "\n",
    "- We may extend this to include a separate class of vaccinated individuals,\n",
    "\n",
    "$$\n",
    "\\begin{aligned}\n",
    "\\frac{dS}{dt} & = -\\beta I S -vS\\\\[3pt]\n",
    "\\frac{dI}{dt} & = \\beta I S - \\gamma I \\\\[3pt]\n",
    "\\frac{dR}{dt} & = \\gamma I \\\\[3pt]\n",
    "\\frac{dV}{dt} & = vS\n",
    "\\end{aligned}\n",
    "$$\n",
    "\n",
    "where the vaccination rate $v$ measures the proportion of the susceptible population which is vaccinated per unit time, and the vaccination is assumed to be 100% effective. We call this an SIRV model.\n",
    "\n",
    "- How could you modify the basic SIRV model to make it more realistic? For example, a (non-exhaustive) list of things you could include:\n",
    "\n",
    "1. Imperfect vaccination efficacy, i.e. the vaccination is not 100% effective.\n",
    "2. Decaying immunity from vaccination.\n",
    "3. Decaying immunity from infection.\n",
    "4. Seasonality in the contact rate $\\beta$.\n",
    "5. The effect of lockdowns and other interventions on $\\beta$.\n",
    "\n",
    "- Set up a model (or models) and use the tools you have learned so far in this lecture series to investigate the dynamics of an epidemic for various initial conditions and model parameters.\n",
    "<br>\n",
    "\n",
    "- Hint: If you want to model Covid-19, [this paper](https://www.ncbi.nlm.nih.gov/pmc/articles/PMC7321055/pdf/main.pdf) uses parameter values of $\\beta = 0.35$ and $\\gamma = 0.035$.\n",
    "<br>\n",
    "\n",
    "\n",
    "- **Write your implementation of the compartmental model as a Julia package.** Make sure that you write tests that ensure that your model works. Include docstrings and build the documentation with Documenter.jl."
   ]
  }
 ],
 "metadata": {
  "kernelspec": {
   "display_name": "Julia 1.9.3",
   "language": "julia",
   "name": "julia-1.9"
  },
  "language_info": {
   "file_extension": ".jl",
   "mimetype": "application/julia",
   "name": "julia",
   "version": "1.9.3"
  }
 },
 "nbformat": 4,
 "nbformat_minor": 5
}
