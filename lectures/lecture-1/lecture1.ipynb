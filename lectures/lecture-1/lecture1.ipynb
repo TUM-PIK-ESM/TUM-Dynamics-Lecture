{
 "cells": [
  {
   "cell_type": "markdown",
   "id": "eb8dcfff",
   "metadata": {},
   "source": [
    "# Lecture 1 - Introduction to the Julia Programming Language"
   ]
  },
  {
   "cell_type": "markdown",
   "id": "3c32d32a",
   "metadata": {},
   "source": [
    "## Contents\n",
    "1. [Why Julia?](#why-julia)\n",
    "2. [Arrays](#arrays)\n",
    "3. [Functions](#functions)\n",
    "4. [Control Flow - The for Loop](#loops)\n",
    "5. [Further Reading](#further-reading)\n",
    "6. [Next Week](#next-week)"
   ]
  },
  {
   "cell_type": "markdown",
   "id": "21bf2b23",
   "metadata": {},
   "source": [
    "## 1. Why Julia? <a class=\"anchor\" id=\"why-julia\"></a>\n",
    "\n",
    "- Historically, we might divide programming languages commonly used for scientific computing into so-called **high-level** and **low-level** languages:\n",
    "\n",
    "\n",
    "| Language Type | Implementation | Type System | Syntax | Speed | Examples\n",
    "| :- | :- | :- | :- | :- | :- |\n",
    "| High-level | [Interpreted](https://en.wikipedia.org/wiki/Interpreter_(computing)) | [Dynamic](https://en.wikipedia.org/wiki/Type_system#Dynamic_type_checking_and_runtime_type_information) | Easy, modern | Painfully slow | Python, R, Mathematica\n",
    "| Low-level | [Compiled](https://en.wikipedia.org/wiki/Compiled_language) | [Static](https://en.wikipedia.org/wiki/Type_system#Static_type_checking) | Hard, obscure | Blazing fast | Fortran, C, C++\n",
    "\n",
    "\n",
    "- This divide gives rise to the [**two-language problem**](https://www.nature.com/articles/d41586-019-02310-3): scientific programmes are often prototyped in a high-level language, but then have to be translated into a low-level language when speed becomes important.\n",
    "<br>\n",
    "\n",
    "- See [J. K. Ousterhout, \"Scripting: higher level programming for the 21st Century,\" in Computer, vol. 31, no. 3, pp. 23-30, March 1998, doi: 10.1109/2.660187](https://ieeexplore.ieee.org/document/660187) for more on the divide between high- and low-level languages.\n",
    "<br> \n",
    "\n",
    "- Julia aims to solve the two-language problem, giving scientists the flexibility to write code with the ease of Python while executing with the speed of Fortran or C, all inside one language.\n",
    "<br>\n",
    "\n",
    "- That is to say, Julia offers the best of both worlds:\n",
    "    - It's ([JIT](https://en.wikipedia.org/wiki/Just-in-time_compilation)) **compiled**\n",
    "    - It's **dynamically typed**\n",
    "    - It has a **modern syntax**\n",
    "    - It's **exceptionally** [**fast**](https://julialang.org/benchmarks/)<br>\n",
    "<br>\n",
    "\n",
    "- In addition to the core Julia language, there are state-of-the-art libraries for, amongst other things:\n",
    "    - Scientific computing, e.g. [DifferentialEquations.jl](https://diffeq.sciml.ai/stable/), [ModelingToolkit.jl](https://mtk.sciml.ai/stable/)\n",
    "    - Machine learning, e.g. [Flux.jl](https://fluxml.ai/Flux.jl/stable/), [Lux.jl](https://lux.csail.mit.edu/stable/)\n",
    "    - Scientific machine learning (SciML), e.g. [DiffEqFlux.jl](https://diffeqflux.sciml.ai/dev/)\n",
    "    - Countless domain-specific applications, e.g. [DynamicalSystems.jl](https://juliadynamics.github.io/DynamicalSystems.jl/latest/)\n",
    "    - Automatic differentiation, e.g. [Zygote.jl](https://fluxml.ai/Zygote.jl/latest/), [Enzyme.jl](https://github.com/EnzymeAD/Enzyme.jl)\n",
    "    - Plotting, e.g. [Makie.jl](https://makie.juliaplots.org/stable/)\n",
    "<br>\n",
    "<br>\n",
    "- Next generation climate models are being written in Julia, e.g. the [CliMA](https://clima.caltech.edu/) project, which includes [Oceananigans.jl](https://github.com/CliMA/Oceananigans.jl), as well as [SpeedyWeather.jl](https://github.com/SpeedyWeather/SpeedyWeather.jl).\n",
    "<br>\n",
    "- Over the course of this lecture series, you will learn not only how and why Julia is so fast, but also how to write your own clean and efficient Julia programmes."
   ]
  },
  {
   "attachments": {
    "array_layout.png": {
     "image/png": "[encoded data removed]"
    }
   },
   "cell_type": "markdown",
   "id": "11ff4055",
   "metadata": {},
   "source": [
    "## 2. Arrays <a class=\"anchor\" id=\"arrays\"></a>\n",
    "- Arrays are probably the single most important data structure in scientific computing.\n",
    "<br>\n",
    "\n",
    "- An array is simply an **ordered collection of objects**, usually all of the same type.\n",
    "<br>\n",
    "\n",
    "- Each element of an array has an **integer index**, corresponding to its relative position in the array.\n",
    "<br>\n",
    "\n",
    "- The elements of an array are **stored contiguously in your computer's memory**.\n",
    "<br>\n",
    "\n",
    "- That is, the $i$-th item in the array is stored directly adjacent to the $(i+1)$-th item. This means that the position (memory address) of each element can be calculated based only on the position of the first element and the index.\n",
    "\n",
    "\n",
    "![array_layout.png](attachment:array_layout.png)\n",
    "[Source (adapted)](https://dyclassroom.com/c/c-pointers-and-one-dimensional-array)\n",
    "\n",
    "\n",
    "- Ultimately, this makes it extremely efficient to get or modify specific elements of an array, as well as to traverse the entire array from start to finish."
   ]
  },
  {
   "cell_type": "code",
   "execution_count": 1,
   "id": "2e8e32ea",
   "metadata": {},
   "outputs": [
    {
     "data": {
      "text/plain": [
       "5-element Vector{String}:\n",
       " \"H\"\n",
       " \"e\"\n",
       " \"l\"\n",
       " \"l\"\n",
       " \"o\""
      ]
     },
     "execution_count": 1,
     "metadata": {},
     "output_type": "execute_result"
    }
   ],
   "source": [
    "hello = [\"H\", \"e\", \"l\", \"l\", \"o\"]"
   ]
  },
  {
   "cell_type": "code",
   "execution_count": 2,
   "id": "d838ce18",
   "metadata": {},
   "outputs": [
    {
     "name": "stdout",
     "output_type": "stream",
     "text": [
      "H\n",
      "e\n",
      "l\n",
      "l\n",
      "o\n"
     ]
    }
   ],
   "source": [
    "for letter in hello\n",
    "    println(letter)\n",
    "end"
   ]
  },
  {
   "cell_type": "markdown",
   "id": "850d4f8c",
   "metadata": {},
   "source": [
    "### 2.1. The Julia `Array` type\n",
    "\n",
    "- Consistent with Julia's emphasis on technical computing, `Array` is a core data type of the Julia programming language (and now even faster in [Julia 1.11](https://julialang.org/blog/2024/10/julia-1.11-highlights/))."
   ]
  },
  {
   "cell_type": "code",
   "execution_count": 3,
   "id": "422a22c5",
   "metadata": {},
   "outputs": [
    {
     "data": {
      "text/plain": [
       "3-element Vector{Float64}:\n",
       " 0.947949106986187\n",
       " 0.85599826513953\n",
       " 0.3429587345775347"
      ]
     },
     "execution_count": 3,
     "metadata": {},
     "output_type": "execute_result"
    }
   ],
   "source": [
    "a = rand(3)"
   ]
  },
  {
   "cell_type": "code",
   "execution_count": 4,
   "id": "75333848",
   "metadata": {},
   "outputs": [
    {
     "data": {
      "text/plain": [
       "Vector{Float64}\u001b[90m (alias for \u001b[39m\u001b[90mArray{Float64, 1}\u001b[39m\u001b[90m)\u001b[39m"
      ]
     },
     "execution_count": 4,
     "metadata": {},
     "output_type": "execute_result"
    }
   ],
   "source": [
    "typeof(a)"
   ]
  },
  {
   "cell_type": "markdown",
   "id": "c51e5891",
   "metadata": {},
   "source": [
    "- **Note:** `Vector` is an alias for a one-dimensional `Array`.\n",
    "<br>\n",
    "\n",
    "- What follows are some key things you need to know about Julia arrays."
   ]
  },
  {
   "cell_type": "markdown",
   "id": "eed4e421",
   "metadata": {},
   "source": [
    "#### 2.1.1. `Array` is 1-indexed\n",
    "\n",
    "- Unlike other programming languages you might be familiar with, Julia arrays are 1-indexed rather than 0-indexed."
   ]
  },
  {
   "cell_type": "code",
   "execution_count": 5,
   "id": "032f71e8",
   "metadata": {},
   "outputs": [
    {
     "ename": "LoadError",
     "evalue": "BoundsError: attempt to access 3-element Vector{Float64} at index [0]",
     "output_type": "error",
     "traceback": [
      "BoundsError: attempt to access 3-element Vector{Float64} at index [0]",
      "",
      "Stacktrace:",
      " [1] throw_boundserror(A::Vector{Float64}, I::Tuple{Int64})",
      "   @ Base ./essentials.jl:14",
      " [2] getindex(A::Vector{Float64}, i::Int64)",
      "   @ Base ./essentials.jl:916",
      " [3] top-level scope",
      "   @ In[5]:1"
     ]
    }
   ],
   "source": [
    "a[0]  # Attempt to get the element at position 0 of a"
   ]
  },
  {
   "cell_type": "code",
   "execution_count": 6,
   "id": "1ef3325d",
   "metadata": {},
   "outputs": [
    {
     "data": {
      "text/plain": [
       "0.947949106986187"
      ]
     },
     "execution_count": 6,
     "metadata": {},
     "output_type": "execute_result"
    }
   ],
   "source": [
    "a[1]  # Get the first element of a"
   ]
  },
  {
   "cell_type": "markdown",
   "id": "5e7d5827",
   "metadata": {},
   "source": [
    "#### 2.1.2. `Array` is mutable\n",
    "\n",
    "- The elements of an array can be modified after it has been created."
   ]
  },
  {
   "cell_type": "code",
   "execution_count": 7,
   "id": "42bf4532",
   "metadata": {},
   "outputs": [
    {
     "data": {
      "text/plain": [
       "3-element Vector{Float64}:\n",
       " 0.947949106986187\n",
       " 0.85599826513953\n",
       " 0.3429587345775347"
      ]
     },
     "execution_count": 7,
     "metadata": {},
     "output_type": "execute_result"
    }
   ],
   "source": [
    "a"
   ]
  },
  {
   "cell_type": "code",
   "execution_count": 8,
   "id": "3c41a84c",
   "metadata": {},
   "outputs": [
    {
     "data": {
      "text/plain": [
       "3-element Vector{Float64}:\n",
       " 0.947949106986187\n",
       " 1.0\n",
       " 0.3429587345775347"
      ]
     },
     "execution_count": 8,
     "metadata": {},
     "output_type": "execute_result"
    }
   ],
   "source": [
    "a[2] = 1.0  # Set the second element of a equal to 1.0\n",
    "a"
   ]
  },
  {
   "cell_type": "markdown",
   "id": "35fb129c",
   "metadata": {},
   "source": [
    "#### 2.1.3. `Array` should only contain objects of a single type\n",
    "\n",
    "- In general, the `Array` type in Julia may contain objects of arbitrary type:"
   ]
  },
  {
   "cell_type": "code",
   "execution_count": 10,
   "id": "f62e5018",
   "metadata": {},
   "outputs": [
    {
     "data": {
      "text/plain": [
       "4-element Vector{Any}:\n",
       "    1.0f0\n",
       "    1\n",
       " true\n",
       "     #1 (generic function with 1 method)"
      ]
     },
     "execution_count": 10,
     "metadata": {},
     "output_type": "execute_result"
    }
   ],
   "source": [
    "bad_array = [\n",
    "    1.0f0,   # Float32 \n",
    "    1,       # Int64\n",
    "    true,    # Bool\n",
    "    () -> 1, # Function\n",
    "]"
   ]
  },
  {
   "cell_type": "code",
   "execution_count": 11,
   "id": "5893b3dd",
   "metadata": {},
   "outputs": [
    {
     "data": {
      "text/plain": [
       "Any"
      ]
     },
     "execution_count": 11,
     "metadata": {},
     "output_type": "execute_result"
    }
   ],
   "source": [
    "eltype(bad_array)  # eltype returns the element type of an Array object"
   ]
  },
  {
   "cell_type": "markdown",
   "id": "383e0977",
   "metadata": {},
   "source": [
    "- **Do not do create arrays like this!** In practice, arrays should always contain objects of the **same concrete type**, especially in performance critical parts of your code.\n",
    "<br>\n",
    "\n",
    "- *Why do you think this is important?*\n",
    "<br>\n",
    "\n",
    "- Julia really wants your arrays to have a specific type. So much so, that if you attempt to create an `Array` containing objects of different types, Julia will attempt to [convert](https://docs.julialang.org/en/v1/manual/conversion-and-promotion/#conversion-and-promotion) them to a common type, if possible."
   ]
  },
  {
   "cell_type": "code",
   "execution_count": 13,
   "id": "ef36f143",
   "metadata": {},
   "outputs": [
    {
     "data": {
      "text/plain": [
       "3-element Vector{Float32}:\n",
       " 1.0\n",
       " 1.0\n",
       " 1.0"
      ]
     },
     "execution_count": 13,
     "metadata": {},
     "output_type": "execute_result"
    }
   ],
   "source": [
    "b = [\n",
    "    1.0f0,  # Float32\n",
    "    1,      # Int64\n",
    "    true,   # Bool\n",
    "]"
   ]
  },
  {
   "cell_type": "code",
   "execution_count": 14,
   "id": "2044818c",
   "metadata": {},
   "outputs": [
    {
     "data": {
      "text/plain": [
       "Float32"
      ]
     },
     "execution_count": 14,
     "metadata": {},
     "output_type": "execute_result"
    }
   ],
   "source": [
    "eltype(b)"
   ]
  },
  {
   "cell_type": "markdown",
   "id": "c09d3e29",
   "metadata": {},
   "source": [
    "#### 2.1.4. `Array` can have arbitrary dimensions\n",
    "\n",
    "- In Julia, arrays can have **arbitrary dimensions**. You could think of an array as a finite n-dimensional grid, with an object placed at each gridpoint."
   ]
  },
  {
   "cell_type": "code",
   "execution_count": 15,
   "id": "cda60a3e",
   "metadata": {},
   "outputs": [
    {
     "data": {
      "text/plain": [
       "3×5 Matrix{Float64}:\n",
       " 0.293578  0.866684  0.363264  0.385822  0.134824\n",
       " 0.397022  0.952356  0.877105  0.536034  0.186568\n",
       " 0.588778  0.817729  0.923305  0.983361  0.939273"
      ]
     },
     "execution_count": 15,
     "metadata": {},
     "output_type": "execute_result"
    }
   ],
   "source": [
    "b = rand(3, 5)"
   ]
  },
  {
   "cell_type": "code",
   "execution_count": 16,
   "id": "efae91a3",
   "metadata": {
    "scrolled": true
   },
   "outputs": [
    {
     "data": {
      "text/plain": [
       "Matrix{Float64}\u001b[90m (alias for \u001b[39m\u001b[90mArray{Float64, 2}\u001b[39m\u001b[90m)\u001b[39m"
      ]
     },
     "execution_count": 16,
     "metadata": {},
     "output_type": "execute_result"
    }
   ],
   "source": [
    "typeof(b)"
   ]
  },
  {
   "cell_type": "markdown",
   "id": "7b43bb67",
   "metadata": {},
   "source": [
    "- **Note:** `Matrix` is an alias for a two-dimensional `Array`."
   ]
  },
  {
   "cell_type": "code",
   "execution_count": 17,
   "id": "1d50da85",
   "metadata": {},
   "outputs": [
    {
     "data": {
      "text/plain": [
       "2"
      ]
     },
     "execution_count": 17,
     "metadata": {},
     "output_type": "execute_result"
    }
   ],
   "source": [
    "ndims(b)  # ndims returns the dimensionality of an Array"
   ]
  },
  {
   "cell_type": "markdown",
   "id": "78a6d64c",
   "metadata": {},
   "source": [
    "- As you might expect, we can straightforwardly create arrays of higher and higher dimensions (but it becomes harder and harder to display them)."
   ]
  },
  {
   "cell_type": "code",
   "execution_count": 18,
   "id": "4b188036",
   "metadata": {},
   "outputs": [
    {
     "data": {
      "text/plain": [
       "3×3×3×3 Array{Float64, 4}:\n",
       "[:, :, 1, 1] =\n",
       " 0.609188  0.482969   0.867781\n",
       " 0.901135  0.0317175  0.601912\n",
       " 0.336412  0.460496   0.537188\n",
       "\n",
       "[:, :, 2, 1] =\n",
       " 0.903471  0.101334  0.497138\n",
       " 0.765733  0.676238  0.248724\n",
       " 0.963139  0.750482  0.746295\n",
       "\n",
       "[:, :, 3, 1] =\n",
       " 0.214588  0.503994  0.710461\n",
       " 0.659564  0.739534  0.294663\n",
       " 0.106871  0.838818  0.852831\n",
       "\n",
       "[:, :, 1, 2] =\n",
       " 0.423121  0.218526  0.347086\n",
       " 0.945492  0.973748  0.700774\n",
       " 0.113289  0.462813  0.234279\n",
       "\n",
       "[:, :, 2, 2] =\n",
       " 0.880232   0.902832  0.32\n",
       " 0.14373    0.393133  0.188289\n",
       " 0.0801476  0.773328  0.122356\n",
       "\n",
       "[:, :, 3, 2] =\n",
       " 0.996353  0.585616  0.527137\n",
       " 0.151617  0.441024  0.534377\n",
       " 0.588474  0.546752  0.0460532\n",
       "\n",
       "[:, :, 1, 3] =\n",
       " 0.0931321  0.546376  0.0356651\n",
       " 0.0469795  0.690784  0.28038\n",
       " 0.72424    0.383839  0.275309\n",
       "\n",
       "[:, :, 2, 3] =\n",
       " 0.259999    0.363005    0.363921\n",
       " 0.486308    0.118375    0.201098\n",
       " 0.00689879  0.00177062  0.517822\n",
       "\n",
       "[:, :, 3, 3] =\n",
       " 0.0414783  0.360994   0.616354\n",
       " 0.35401    0.0312757  0.944478\n",
       " 0.368752   0.860083   0.961215"
      ]
     },
     "execution_count": 18,
     "metadata": {},
     "output_type": "execute_result"
    }
   ],
   "source": [
    "c = rand(3, 3, 3, 3)"
   ]
  },
  {
   "cell_type": "code",
   "execution_count": 19,
   "id": "cefbbd71",
   "metadata": {},
   "outputs": [
    {
     "data": {
      "text/plain": [
       "Array{Float64, 4}"
      ]
     },
     "execution_count": 19,
     "metadata": {},
     "output_type": "execute_result"
    }
   ],
   "source": [
    "typeof(c)"
   ]
  },
  {
   "cell_type": "code",
   "execution_count": 20,
   "id": "f3642e2d",
   "metadata": {},
   "outputs": [
    {
     "data": {
      "text/plain": [
       "4"
      ]
     },
     "execution_count": 20,
     "metadata": {},
     "output_type": "execute_result"
    }
   ],
   "source": [
    "ndims(c)"
   ]
  },
  {
   "cell_type": "markdown",
   "id": "dc3dabef",
   "metadata": {},
   "source": [
    "### 2.2. Constructing and Initialising Arrays\n",
    "#### 2.2.1. Array Literals\n",
    "- One-dimensional arrays (vectors) can be directly constructed using square brackets and comma-separated elements:"
   ]
  },
  {
   "cell_type": "code",
   "execution_count": 24,
   "id": "35528f41",
   "metadata": {},
   "outputs": [
    {
     "data": {
      "text/plain": [
       "2×3 Matrix{Float64}:\n",
       " 0.375325  0.873975  0.485696\n",
       " 0.203854  0.270773  0.932281"
      ]
     },
     "execution_count": 24,
     "metadata": {},
     "output_type": "execute_result"
    }
   ],
   "source": [
    "A = rand(2, 3)"
   ]
  },
  {
   "cell_type": "code",
   "execution_count": 25,
   "id": "4e67c81b",
   "metadata": {},
   "outputs": [
    {
     "data": {
      "text/plain": [
       "3-element Vector{Float64}:\n",
       " 1.0\n",
       " 2.0\n",
       " 3.0"
      ]
     },
     "execution_count": 25,
     "metadata": {},
     "output_type": "execute_result"
    }
   ],
   "source": [
    "b = [1.0, 2.0, 3.0]"
   ]
  },
  {
   "cell_type": "code",
   "execution_count": 26,
   "id": "3d7f4bae",
   "metadata": {},
   "outputs": [
    {
     "data": {
      "text/plain": [
       "2-element Vector{Float64}:\n",
       " 3.5803648588412833\n",
       " 3.5422432032399946"
      ]
     },
     "execution_count": 26,
     "metadata": {},
     "output_type": "execute_result"
    }
   ],
   "source": [
    "A * b"
   ]
  },
  {
   "cell_type": "markdown",
   "id": "b50e9f36",
   "metadata": {},
   "source": [
    "- Elements separated by tabs or spaces are *horizontally concatenated*. This can be useful for creating matrix literals, for example:"
   ]
  },
  {
   "cell_type": "code",
   "execution_count": 27,
   "id": "d1117328",
   "metadata": {},
   "outputs": [
    {
     "data": {
      "text/plain": [
       "1×3 Matrix{Float64}:\n",
       " 1.0  2.0  3.0"
      ]
     },
     "execution_count": 27,
     "metadata": {},
     "output_type": "execute_result"
    }
   ],
   "source": [
    "c = [1.0 2.0 3.0]"
   ]
  },
  {
   "cell_type": "code",
   "execution_count": 29,
   "id": "fd33cf40",
   "metadata": {},
   "outputs": [
    {
     "data": {
      "text/plain": [
       "2×1 Matrix{Float64}:\n",
       " 3.5803648588412833\n",
       " 3.5422432032399946"
      ]
     },
     "execution_count": 29,
     "metadata": {},
     "output_type": "execute_result"
    }
   ],
   "source": [
    "A * c'"
   ]
  },
  {
   "cell_type": "code",
   "execution_count": 23,
   "id": "ce9346a5",
   "metadata": {},
   "outputs": [
    {
     "data": {
      "text/plain": [
       "2×3 Matrix{Int64}:\n",
       " 1  4  7\n",
       " 2  5  8"
      ]
     },
     "execution_count": 23,
     "metadata": {},
     "output_type": "execute_result"
    }
   ],
   "source": [
    "a = [1, 2]; b = [4, 5]; c = [7, 8]  # vectors\n",
    "\n",
    "[a b c]"
   ]
  },
  {
   "cell_type": "markdown",
   "id": "e6acf3ff",
   "metadata": {},
   "source": [
    "- Elements separated by semi-colons or newlines are *vertically concatenated*. This leads to some especially useful syntax for matrix literals:"
   ]
  },
  {
   "cell_type": "code",
   "execution_count": 30,
   "id": "3f5d35e2",
   "metadata": {},
   "outputs": [
    {
     "data": {
      "text/plain": [
       "2×3 Matrix{Int64}:\n",
       " 1  4  7\n",
       " 2  5  8"
      ]
     },
     "execution_count": 30,
     "metadata": {},
     "output_type": "execute_result"
    }
   ],
   "source": [
    "[1 4 7\n",
    " 2 5 8]"
   ]
  },
  {
   "cell_type": "markdown",
   "id": "19a740fc",
   "metadata": {},
   "source": [
    "#### 2.2.2. Some Useful Functions for Constructing Arrays\n",
    "- Full list of functions [here](https://docs.julialang.org/en/v1/manual/arrays/#Construction-and-Initialization). \n",
    "<br>\n",
    "\n",
    "- In all of the following functions, `T` is the element type of the array. If the argument `T` is omitted, it defaults to `Float64`.\n",
    "<br>\n",
    "\n",
    "- Functions like this are useful, for example, when you wish to [pre-allocate](https://docs.julialang.org/en/v1/manual/performance-tips/#Pre-allocating-outputs) the output of some function or procedure."
   ]
  },
  {
   "cell_type": "markdown",
   "id": "299824a8",
   "metadata": {},
   "source": [
    "1. `zeros(T, dims...)` - an array of all zeroes."
   ]
  },
  {
   "cell_type": "code",
   "execution_count": 32,
   "id": "777610b8",
   "metadata": {},
   "outputs": [
    {
     "data": {
      "text/plain": [
       "3×4 Matrix{Float32}:\n",
       " 0.0  0.0  0.0  0.0\n",
       " 0.0  0.0  0.0  0.0\n",
       " 0.0  0.0  0.0  0.0"
      ]
     },
     "execution_count": 32,
     "metadata": {},
     "output_type": "execute_result"
    }
   ],
   "source": [
    "zeros(Float32, 3, 4)"
   ]
  },
  {
   "cell_type": "markdown",
   "id": "70db332f",
   "metadata": {},
   "source": [
    "2. `ones(T, dims...)` - an array of all ones."
   ]
  },
  {
   "cell_type": "code",
   "execution_count": 33,
   "id": "456da653",
   "metadata": {},
   "outputs": [
    {
     "data": {
      "text/plain": [
       "3×4 Matrix{Float32}:\n",
       " 1.0  1.0  1.0  1.0\n",
       " 1.0  1.0  1.0  1.0\n",
       " 1.0  1.0  1.0  1.0"
      ]
     },
     "execution_count": 33,
     "metadata": {},
     "output_type": "execute_result"
    }
   ],
   "source": [
    "ones(Float32, 3, 4)"
   ]
  },
  {
   "cell_type": "markdown",
   "id": "06794915",
   "metadata": {},
   "source": [
    "3. `rand(T, dims...)` - an array with random, iid and uniformly distributed values in the half-open interval `[0, 1)`."
   ]
  },
  {
   "cell_type": "code",
   "execution_count": 34,
   "id": "5ba0793b",
   "metadata": {},
   "outputs": [
    {
     "data": {
      "text/plain": [
       "3×4 Matrix{Float64}:\n",
       " 0.647204  0.855729   0.767905  0.537181\n",
       " 0.769502  0.112161   0.853808  0.81298\n",
       " 0.801706  0.0561667  0.67736   0.387552"
      ]
     },
     "execution_count": 34,
     "metadata": {},
     "output_type": "execute_result"
    }
   ],
   "source": [
    "rand(3, 4)"
   ]
  },
  {
   "cell_type": "markdown",
   "id": "57f9dca8",
   "metadata": {},
   "source": [
    "4. `randn(T, dims...)` - an array with random, iid and standard normally distributed values."
   ]
  },
  {
   "cell_type": "code",
   "execution_count": 35,
   "id": "24e6d77d",
   "metadata": {},
   "outputs": [
    {
     "data": {
      "text/plain": [
       "3×4 Matrix{Float64}:\n",
       "  0.0845981  -1.18128    0.3094   1.70239\n",
       " -0.628786   -1.15505   -1.04168  1.214\n",
       " -0.672012    0.206177  -0.40557  0.566812"
      ]
     },
     "execution_count": 35,
     "metadata": {},
     "output_type": "execute_result"
    }
   ],
   "source": [
    "randn(3, 4)"
   ]
  },
  {
   "cell_type": "markdown",
   "id": "55542e2f",
   "metadata": {},
   "source": [
    "5. `similar(A)` - create an uninitialized array with the same element type and size as the array `A`."
   ]
  },
  {
   "cell_type": "code",
   "execution_count": 36,
   "id": "61708186",
   "metadata": {},
   "outputs": [
    {
     "data": {
      "text/plain": [
       "3×4 Matrix{Float64}:\n",
       " 6.94761e-310  6.94761e-310  6.94761e-310  6.94761e-310\n",
       " 6.9476e-310   6.94761e-310  6.94761e-310  6.9476e-310\n",
       " 6.94761e-310  6.94761e-310  6.94761e-310  6.94761e-310"
      ]
     },
     "execution_count": 36,
     "metadata": {},
     "output_type": "execute_result"
    }
   ],
   "source": [
    "A = rand(3, 4);\n",
    "B = similar(A)"
   ]
  },
  {
   "cell_type": "markdown",
   "id": "7fffb3f7",
   "metadata": {},
   "source": [
    "6. `fill(x, dims...)` - return an array filled with the value `x`."
   ]
  },
  {
   "cell_type": "code",
   "execution_count": 37,
   "id": "66a1a163",
   "metadata": {},
   "outputs": [
    {
     "data": {
      "text/plain": [
       "3×4 Matrix{Irrational{:π}}:\n",
       " π  π  π  π\n",
       " π  π  π  π\n",
       " π  π  π  π"
      ]
     },
     "execution_count": 37,
     "metadata": {},
     "output_type": "execute_result"
    }
   ],
   "source": [
    "fill(π, 3, 4)"
   ]
  },
  {
   "cell_type": "markdown",
   "id": "307b49b2",
   "metadata": {},
   "source": [
    "7. `fill!(A, x)` - fill the array `A` with the value `x`."
   ]
  },
  {
   "cell_type": "code",
   "execution_count": 39,
   "id": "d1cf43e7",
   "metadata": {},
   "outputs": [
    {
     "data": {
      "text/plain": [
       "2×3 Matrix{Float64}:\n",
       " 0.633787  0.129629   0.404668\n",
       " 0.319455  0.0932355  0.825103"
      ]
     },
     "execution_count": 39,
     "metadata": {},
     "output_type": "execute_result"
    }
   ],
   "source": [
    "A = rand(2, 3)"
   ]
  },
  {
   "cell_type": "code",
   "execution_count": 40,
   "id": "d0f38747",
   "metadata": {},
   "outputs": [
    {
     "data": {
      "text/plain": [
       "2×3 Matrix{Float64}:\n",
       " 1.0  1.0  1.0\n",
       " 1.0  1.0  1.0"
      ]
     },
     "execution_count": 40,
     "metadata": {},
     "output_type": "execute_result"
    }
   ],
   "source": [
    "fill!(A, 1)"
   ]
  },
  {
   "cell_type": "code",
   "execution_count": 41,
   "id": "d18898f1",
   "metadata": {},
   "outputs": [
    {
     "data": {
      "text/plain": [
       "2×3 Matrix{Float64}:\n",
       " 1.0  1.0  1.0\n",
       " 1.0  1.0  1.0"
      ]
     },
     "execution_count": 41,
     "metadata": {},
     "output_type": "execute_result"
    }
   ],
   "source": [
    "A"
   ]
  },
  {
   "cell_type": "markdown",
   "id": "bcc95e41",
   "metadata": {},
   "source": [
    "- **Note:** A function name ending with `!` indicates that the function modifies its arguments \"in-place\"."
   ]
  },
  {
   "cell_type": "markdown",
   "id": "29f8f770",
   "metadata": {},
   "source": [
    "### 2.3. Array Indexing\n",
    "- The general syntax for indexing into an n-dimensional array `A` is:\n",
    "\n",
    "    `A[I_1, I_2, ..., I_n]`,\n",
    "\n",
    "    where each `I_k` may be a scalar integer, an array of integers, or any other supported index (see the [docs]((https://docs.julialang.org/en/v1/manual/arrays/#man-supported-index-types)) for other supported indices)."
   ]
  },
  {
   "cell_type": "code",
   "execution_count": 42,
   "id": "6b997ada",
   "metadata": {},
   "outputs": [],
   "source": [
    "A = rand(3, 4, 6);"
   ]
  },
  {
   "cell_type": "code",
   "execution_count": 43,
   "id": "fc28f3c1",
   "metadata": {},
   "outputs": [
    {
     "data": {
      "text/plain": [
       "Array{Float64, 3}"
      ]
     },
     "execution_count": 43,
     "metadata": {},
     "output_type": "execute_result"
    }
   ],
   "source": [
    "typeof(A)"
   ]
  },
  {
   "cell_type": "code",
   "execution_count": 44,
   "id": "e257e2f1",
   "metadata": {},
   "outputs": [
    {
     "data": {
      "text/plain": [
       "0.1913079833082706"
      ]
     },
     "execution_count": 44,
     "metadata": {},
     "output_type": "execute_result"
    }
   ],
   "source": [
    "A[2, 1, 2]"
   ]
  },
  {
   "cell_type": "code",
   "execution_count": 45,
   "id": "3aba4faf",
   "metadata": {},
   "outputs": [
    {
     "data": {
      "text/plain": [
       "2-element Vector{Float64}:\n",
       " 0.6707979180294772\n",
       " 0.1913079833082706"
      ]
     },
     "execution_count": 45,
     "metadata": {},
     "output_type": "execute_result"
    }
   ],
   "source": [
    "A[2, 1, [1,2]]"
   ]
  },
  {
   "cell_type": "code",
   "execution_count": 47,
   "id": "3a800139",
   "metadata": {},
   "outputs": [
    {
     "data": {
      "text/plain": [
       "3-element Vector{Float64}:\n",
       " 0.6707979180294772\n",
       " 0.1913079833082706\n",
       " 0.6598471780705788"
      ]
     },
     "execution_count": 47,
     "metadata": {},
     "output_type": "execute_result"
    }
   ],
   "source": [
    "A[2, 1, 1:3]"
   ]
  },
  {
   "cell_type": "markdown",
   "id": "b58b16ba",
   "metadata": {},
   "source": [
    "- The `end` keyword may be used to indicate the last index in a given dimension."
   ]
  },
  {
   "cell_type": "code",
   "execution_count": 48,
   "id": "450b9c4a",
   "metadata": {},
   "outputs": [
    {
     "data": {
      "text/plain": [
       "3-element Vector{Float64}:\n",
       " 0.45732432553284863\n",
       " 0.7495262136386662\n",
       " 0.2980236358372814"
      ]
     },
     "execution_count": 48,
     "metadata": {},
     "output_type": "execute_result"
    }
   ],
   "source": [
    "A[2, end-1, 1:3]"
   ]
  },
  {
   "cell_type": "markdown",
   "id": "d484f222",
   "metadata": {},
   "source": [
    "### 2.4. Indexed Assignment\n",
    "- Remember, arrays are mutable!\n",
    "<br>\n",
    "\n",
    "- Similar to array indexing, the general syntax for assigning values in an n-dimensional array `A` is:\n",
    "\n",
    "    `A[I_1, I_2, ..., I_n] = X`,\n",
    "\n",
    "    where each `I_k` may be a scalar integer, an array of integers, or any other supported index."
   ]
  },
  {
   "cell_type": "code",
   "execution_count": 49,
   "id": "d3a1178b",
   "metadata": {},
   "outputs": [
    {
     "data": {
      "text/plain": [
       "3×4 Matrix{Float64}:\n",
       " 0.0846948  2.0       0.740276  0.628577\n",
       " 0.311098   0.805171  0.78677   0.937145\n",
       " 0.717668   0.776778  0.850688  0.592888"
      ]
     },
     "execution_count": 49,
     "metadata": {},
     "output_type": "execute_result"
    }
   ],
   "source": [
    "A = rand(3, 4);\n",
    "A[1, 2] = 2\n",
    "A"
   ]
  },
  {
   "cell_type": "markdown",
   "id": "32fdd73a",
   "metadata": {},
   "source": [
    "- If any index `I_k` is itself an array, then the right hand side `X` must also be an array with the same shape as the result of indexing `A[I_1, I_2, ..., I_n]` or a vector with the same number of elements. "
   ]
  },
  {
   "cell_type": "code",
   "execution_count": 50,
   "id": "365d826a",
   "metadata": {},
   "outputs": [
    {
     "data": {
      "text/plain": [
       "2-element Vector{Float64}:\n",
       " 0.08469475302303042\n",
       " 2.0"
      ]
     },
     "execution_count": 50,
     "metadata": {},
     "output_type": "execute_result"
    }
   ],
   "source": [
    "A[1, [1,2]]"
   ]
  },
  {
   "cell_type": "code",
   "execution_count": 51,
   "id": "809ab21f",
   "metadata": {},
   "outputs": [
    {
     "data": {
      "text/plain": [
       "3×4 Matrix{Float64}:\n",
       " 3.0       4.0       0.740276  0.628577\n",
       " 0.311098  0.805171  0.78677   0.937145\n",
       " 0.717668  0.776778  0.850688  0.592888"
      ]
     },
     "execution_count": 51,
     "metadata": {},
     "output_type": "execute_result"
    }
   ],
   "source": [
    "A[1, [1,2]] = [3, 4]\n",
    "A"
   ]
  },
  {
   "cell_type": "markdown",
   "id": "fc5aa716",
   "metadata": {},
   "source": [
    "- The element-wise assignment operator `.=` may be used to broadcast `X` across the selected locations:\n",
    "\n",
    "    `A[I_1, I_2, ..., I_n] .= X`"
   ]
  },
  {
   "cell_type": "code",
   "execution_count": 52,
   "id": "d7a3c0ba",
   "metadata": {},
   "outputs": [
    {
     "data": {
      "text/plain": [
       "3×4 Matrix{Float64}:\n",
       " 1.0       1.0       1.0       1.0\n",
       " 0.779922  0.796661  0.703163  0.828802\n",
       " 0.730725  0.980566  0.641586  0.86435"
      ]
     },
     "execution_count": 52,
     "metadata": {},
     "output_type": "execute_result"
    }
   ],
   "source": [
    "A = rand(3, 4);\n",
    "A[1, :] .= 1.0;\n",
    "A"
   ]
  },
  {
   "cell_type": "markdown",
   "id": "bd362686",
   "metadata": {},
   "source": [
    "### 2.5. Growing and Shrinking an Array\n",
    "- Use `push!` to add an item to the end of a (one-dimensional) array. This extends the array."
   ]
  },
  {
   "cell_type": "code",
   "execution_count": 53,
   "id": "1174fe78",
   "metadata": {},
   "outputs": [
    {
     "data": {
      "text/plain": [
       "3-element Vector{Float64}:\n",
       " 0.3242025018983883\n",
       " 0.071481596811372\n",
       " 0.8921547293442795"
      ]
     },
     "execution_count": 53,
     "metadata": {},
     "output_type": "execute_result"
    }
   ],
   "source": [
    "a = rand(3)"
   ]
  },
  {
   "cell_type": "code",
   "execution_count": 74,
   "id": "47f2ddbd",
   "metadata": {},
   "outputs": [
    {
     "data": {
      "text/plain": [
       "4-element Vector{Float64}:\n",
       " 3.141592653589793\n",
       " 3.141592653589793\n",
       " 3.141592653589793\n",
       " 3.141592653589793"
      ]
     },
     "execution_count": 74,
     "metadata": {},
     "output_type": "execute_result"
    }
   ],
   "source": [
    "push!(a, π)"
   ]
  },
  {
   "cell_type": "markdown",
   "id": "f69775fc",
   "metadata": {},
   "source": [
    "- Use `pop!` to get an item from the end of a (one-dimensional) array. This shrinks the array."
   ]
  },
  {
   "cell_type": "code",
   "execution_count": 76,
   "id": "a629f2a8",
   "metadata": {},
   "outputs": [
    {
     "data": {
      "text/plain": [
       "3.141592653589793"
      ]
     },
     "execution_count": 76,
     "metadata": {},
     "output_type": "execute_result"
    }
   ],
   "source": [
    "pop!(a)"
   ]
  },
  {
   "cell_type": "code",
   "execution_count": 65,
   "id": "674da6c4",
   "metadata": {},
   "outputs": [
    {
     "data": {
      "text/plain": [
       "4-element Vector{Float64}:\n",
       " 0.3242025018983883\n",
       " 0.071481596811372\n",
       " 0.8921547293442795\n",
       " 3.141592653589793"
      ]
     },
     "execution_count": 65,
     "metadata": {},
     "output_type": "execute_result"
    }
   ],
   "source": [
    "a"
   ]
  },
  {
   "cell_type": "markdown",
   "id": "17bcdbed",
   "metadata": {},
   "source": [
    "- *Why do we usually prefer adding items to and removing items from the **end** of an array? What happens if we add an item in the middle of an array?*"
   ]
  },
  {
   "cell_type": "markdown",
   "id": "7f61be4d",
   "metadata": {},
   "source": [
    "## 3. Functions  <a class=\"anchor\" id=\"functions\"></a>\n",
    "- At a high level, functions in Julia are conceputally similar to mathematical functions: they map inputs to return values.\n",
    "\n",
    "### 3.1. Defining Functions\n",
    "\n",
    "- There are three main ways of defining a function in Julia.\n",
    "\n",
    "#### 3.1.1. Standard Function Definition Syntax \n",
    "\n",
    "- This is probably the form you'll see and use most often."
   ]
  },
  {
   "cell_type": "code",
   "execution_count": 77,
   "id": "6b66823f",
   "metadata": {
    "scrolled": true
   },
   "outputs": [
    {
     "data": {
      "text/plain": [
       "f (generic function with 1 method)"
      ]
     },
     "execution_count": 77,
     "metadata": {},
     "output_type": "execute_result"
    }
   ],
   "source": [
    "function f(x, y)\n",
    "    x + y\n",
    "end"
   ]
  },
  {
   "cell_type": "code",
   "execution_count": 78,
   "id": "789df0e4",
   "metadata": {
    "scrolled": true
   },
   "outputs": [
    {
     "data": {
      "text/plain": [
       "3"
      ]
     },
     "execution_count": 78,
     "metadata": {},
     "output_type": "execute_result"
    }
   ],
   "source": [
    "f(1, 2)"
   ]
  },
  {
   "cell_type": "markdown",
   "id": "f59f3b2f",
   "metadata": {},
   "source": [
    "#### 3.1.2. Compact \"Assignment Form\" Syntax\n",
    "\n",
    "- Short, one-line functions can be written in \"assignment form\", exactly how you would write them down mathematically."
   ]
  },
  {
   "cell_type": "code",
   "execution_count": 79,
   "id": "6c3778b2",
   "metadata": {},
   "outputs": [
    {
     "data": {
      "text/plain": [
       "g (generic function with 1 method)"
      ]
     },
     "execution_count": 79,
     "metadata": {},
     "output_type": "execute_result"
    }
   ],
   "source": [
    "g(x, y) = x + y"
   ]
  },
  {
   "cell_type": "code",
   "execution_count": 80,
   "id": "1a873768",
   "metadata": {},
   "outputs": [
    {
     "data": {
      "text/plain": [
       "3"
      ]
     },
     "execution_count": 80,
     "metadata": {},
     "output_type": "execute_result"
    }
   ],
   "source": [
    "g(1, 2)"
   ]
  },
  {
   "cell_type": "markdown",
   "id": "445726c1",
   "metadata": {},
   "source": [
    "#### 3.1.3. Anonymous Functions\n",
    "\n",
    "- Functions don't have to be given a name; they can also be created \"anonymously\".\n",
    "<br>\n",
    "\n",
    "- Anonymous functions are often used when passing a function as an argument to another function. For example, to square all of the elements in an array, we could use `map` together with an anonymous function:"
   ]
  },
  {
   "cell_type": "code",
   "execution_count": 82,
   "id": "a1bb1f64",
   "metadata": {},
   "outputs": [
    {
     "data": {
      "text/plain": [
       "4-element Vector{Int64}:\n",
       " 1\n",
       " 2\n",
       " 3\n",
       " 4"
      ]
     },
     "execution_count": 82,
     "metadata": {},
     "output_type": "execute_result"
    }
   ],
   "source": [
    "numbers = [1, 2, 3, 4]"
   ]
  },
  {
   "cell_type": "code",
   "execution_count": 83,
   "id": "c20ae1a3",
   "metadata": {},
   "outputs": [
    {
     "data": {
      "text/plain": [
       "4-element Vector{Int64}:\n",
       "  1\n",
       "  4\n",
       "  9\n",
       " 16"
      ]
     },
     "execution_count": 83,
     "metadata": {},
     "output_type": "execute_result"
    }
   ],
   "source": [
    "map(x -> x^2, numbers)"
   ]
  },
  {
   "cell_type": "markdown",
   "id": "987e51b7",
   "metadata": {},
   "source": [
    "- Anonymous functions can also be assigned to a variable."
   ]
  },
  {
   "cell_type": "code",
   "execution_count": 84,
   "id": "3e7045e4",
   "metadata": {},
   "outputs": [
    {
     "data": {
      "text/plain": [
       "#7 (generic function with 1 method)"
      ]
     },
     "execution_count": 84,
     "metadata": {},
     "output_type": "execute_result"
    }
   ],
   "source": [
    "a = x -> x^2"
   ]
  },
  {
   "cell_type": "markdown",
   "id": "e0025d45",
   "metadata": {},
   "source": [
    "- To call an anonymous function which has been assigned to a variable, simply call the variable it is assigned to like a regular function."
   ]
  },
  {
   "cell_type": "code",
   "execution_count": 85,
   "id": "6ced5b85",
   "metadata": {},
   "outputs": [
    {
     "data": {
      "text/plain": [
       "25"
      ]
     },
     "execution_count": 85,
     "metadata": {},
     "output_type": "execute_result"
    }
   ],
   "source": [
    "a(5)"
   ]
  },
  {
   "cell_type": "markdown",
   "id": "a6f9b4a8",
   "metadata": {},
   "source": [
    "#### 3.1.4. Example function definition: Lotka-Volterra (predator-prey) equations\n",
    "\n",
    "- The Lotka-Volterra system is a classic dynamical system you will encounter often in these lectures.\n",
    "<br>\n",
    "\n",
    "- It describes the interaction between two species, where one acts as a predator and the other as prey.\n",
    "<br>\n",
    "\n",
    "- The rate of change of the predator and prey populations are determined by the nonlinear differential equations\n",
    "\n",
    "$$\n",
    "\\begin{aligned}\n",
    "\\frac{dx}{dt} & = \\alpha x - \\beta xy \\\\[3pt]\n",
    "\\frac{dy}{dt} & = \\delta xy - \\gamma y \\\\[3pt]\n",
    "\\end{aligned}\n",
    "$$\n",
    "\n",
    "where $x$ and $y$ are the prey and predator populations, respectively, and $\\alpha, \\beta, \\delta, \\gamma$ are positive real parameters describing the interation of the two species.\n",
    "\n",
    "- Let's write a function to calculate both $\\frac{dx}{dt}$ and $\\frac{dy}{dt}$, given the instantaneous state $u = (x,y)$ of the system and some parameters $p=(\\alpha, \\beta, \\delta, \\gamma)$."
   ]
  },
  {
   "cell_type": "code",
   "execution_count": 88,
   "id": "a40161b7",
   "metadata": {},
   "outputs": [
    {
     "data": {
      "text/plain": [
       "lotka_volterra (generic function with 1 method)"
      ]
     },
     "execution_count": 88,
     "metadata": {},
     "output_type": "execute_result"
    }
   ],
   "source": [
    "function lotka_volterra(u, p)\n",
    "    x, y = u\n",
    "    α, β, δ, γ = p\n",
    "    \n",
    "    dx = α * x - β * x * y\n",
    "    dy = δ * x * y - γ * y\n",
    "    \n",
    "    return dx, dy\n",
    "end"
   ]
  },
  {
   "cell_type": "code",
   "execution_count": null,
   "id": "ea320e31",
   "metadata": {},
   "outputs": [],
   "source": [
    "lotka_volterra(rand(2), rand(4))"
   ]
  },
  {
   "cell_type": "code",
   "execution_count": 89,
   "id": "136f5d39",
   "metadata": {},
   "outputs": [
    {
     "data": {
      "text/plain": [
       "lotka_volterra (generic function with 1 method)"
      ]
     },
     "execution_count": 89,
     "metadata": {},
     "output_type": "execute_result"
    }
   ],
   "source": [
    "function lotka_volterra(u, p)\n",
    "    🦊, 🐇 = u\n",
    "    α, β, δ, γ = p\n",
    "    \n",
    "    d🦊 = α * 🦊 - β * 🦊 * 🐇\n",
    "    d🐇 = δ * 🦊 * 🐇 - γ * 🐇\n",
    "    \n",
    "    return d🦊, d🐇\n",
    "end"
   ]
  },
  {
   "cell_type": "code",
   "execution_count": 90,
   "id": "d17ad8f6",
   "metadata": {},
   "outputs": [
    {
     "data": {
      "text/plain": [
       "(0.4981321316002586, -0.18130725898459854)"
      ]
     },
     "execution_count": 90,
     "metadata": {},
     "output_type": "execute_result"
    }
   ],
   "source": [
    "lotka_volterra(rand(2), rand(4))"
   ]
  },
  {
   "cell_type": "markdown",
   "id": "62e611d3",
   "metadata": {},
   "source": [
    "- **Aside**: Julia supports [Unicode input](https://docs.julialang.org/en/v1/manual/unicode-input/). To add a Unicode character to your code, simply type a backslash followed by the LaTeX-like abbreviation corresponding to that character.\n",
    "<br>\n",
    "\n",
    "- As a scientist, this means you can achieve a **one-to-one correspondence between equations and code**, greatly improving (in my opinion) the readability and correctness of your code."
   ]
  },
  {
   "cell_type": "markdown",
   "id": "d55f0c12",
   "metadata": {},
   "source": [
    "### 3.2. Calling Functions\n",
    "- Functions are called with the standard parenthesis syntax."
   ]
  },
  {
   "cell_type": "code",
   "execution_count": null,
   "id": "6b731ce7",
   "metadata": {
    "scrolled": true
   },
   "outputs": [],
   "source": [
    "u = rand(2)\n",
    "p = rand(4)\n",
    "lotka_volterra(u, p)"
   ]
  },
  {
   "cell_type": "markdown",
   "id": "aa24cfb4",
   "metadata": {},
   "source": [
    "### 3.3. Returning from Functions\n",
    "- By default, a function will return the value of the **last expression evaluated**."
   ]
  },
  {
   "cell_type": "code",
   "execution_count": 92,
   "id": "68fbb89c",
   "metadata": {},
   "outputs": [
    {
     "data": {
      "text/plain": [
       "add_three (generic function with 1 method)"
      ]
     },
     "execution_count": 92,
     "metadata": {},
     "output_type": "execute_result"
    }
   ],
   "source": [
    "function add_three(x, y, z)\n",
    "    a = x + y\n",
    "    a + z  # this is the last expression in my function\n",
    "end"
   ]
  },
  {
   "cell_type": "code",
   "execution_count": 93,
   "id": "6affda8b",
   "metadata": {},
   "outputs": [
    {
     "data": {
      "text/plain": [
       "6"
      ]
     },
     "execution_count": 93,
     "metadata": {},
     "output_type": "execute_result"
    }
   ],
   "source": [
    "add_three(1, 2, 3)"
   ]
  },
  {
   "cell_type": "markdown",
   "id": "41f8e5c0",
   "metadata": {},
   "source": [
    "- Alternatively, a value can be returned explicitly using the `return` keyword."
   ]
  },
  {
   "cell_type": "code",
   "execution_count": 94,
   "id": "df28dd57",
   "metadata": {},
   "outputs": [
    {
     "data": {
      "text/plain": [
       "add_two (generic function with 1 method)"
      ]
     },
     "execution_count": 94,
     "metadata": {},
     "output_type": "execute_result"
    }
   ],
   "source": [
    "function add_two(x, y, z)\n",
    "    return a = x + y\n",
    "    a + z  # this code is unreachable, is never evaluated\n",
    "end"
   ]
  },
  {
   "cell_type": "code",
   "execution_count": 95,
   "id": "9fe727e5",
   "metadata": {},
   "outputs": [
    {
     "data": {
      "text/plain": [
       "3"
      ]
     },
     "execution_count": 95,
     "metadata": {},
     "output_type": "execute_result"
    }
   ],
   "source": [
    "add_two(1, 2, 3)"
   ]
  },
  {
   "cell_type": "markdown",
   "id": "86e477c6",
   "metadata": {},
   "source": [
    "- This is useful, for example, when some control flow exists in your function and the desired logic depends on the values of the inputs. In such a case, you can control the behaviour of the function with the `return` keyword."
   ]
  },
  {
   "cell_type": "code",
   "execution_count": 96,
   "id": "cce43ae4",
   "metadata": {},
   "outputs": [
    {
     "data": {
      "text/plain": [
       "my_dumb_operator (generic function with 1 method)"
      ]
     },
     "execution_count": 96,
     "metadata": {},
     "output_type": "execute_result"
    }
   ],
   "source": [
    "function my_dumb_operator(a, b, operation)\n",
    "    if operation == :add\n",
    "        return a + b\n",
    "    elseif operation == :subtract\n",
    "        return a - b\n",
    "    else\n",
    "        error(\"operation must be either :add or :subtract\")\n",
    "    end\n",
    "    println(\"This code is unreachable!\")\n",
    "end"
   ]
  },
  {
   "cell_type": "code",
   "execution_count": 98,
   "id": "d1fa3fc2",
   "metadata": {},
   "outputs": [
    {
     "data": {
      "text/plain": [
       "-1"
      ]
     },
     "execution_count": 98,
     "metadata": {},
     "output_type": "execute_result"
    }
   ],
   "source": [
    "my_dumb_operator(1, 2, :subtract)"
   ]
  },
  {
   "cell_type": "markdown",
   "id": "1f7eb37a",
   "metadata": {},
   "source": [
    "- Many functions do not return anything (for example, if they do file I/O, or if they modify their arguments in-place). In this case, the Julia convention is to explicitly `return nothing`."
   ]
  },
  {
   "cell_type": "code",
   "execution_count": 99,
   "id": "19edb5f7",
   "metadata": {},
   "outputs": [
    {
     "data": {
      "text/plain": [
       "say_hello (generic function with 1 method)"
      ]
     },
     "execution_count": 99,
     "metadata": {},
     "output_type": "execute_result"
    }
   ],
   "source": [
    "function say_hello()\n",
    "    println(\"Hello, world!\")\n",
    "    return nothing  # this makes your code easy to understand and reason about\n",
    "end"
   ]
  },
  {
   "cell_type": "code",
   "execution_count": 100,
   "id": "9aa94a6d",
   "metadata": {},
   "outputs": [
    {
     "name": "stdout",
     "output_type": "stream",
     "text": [
      "Hello, world!\n"
     ]
    }
   ],
   "source": [
    "say_hello()"
   ]
  },
  {
   "cell_type": "markdown",
   "id": "c9adab16",
   "metadata": {},
   "source": [
    "- Multiple values can also be returned from a function:"
   ]
  },
  {
   "cell_type": "code",
   "execution_count": 101,
   "id": "4cff1a1c",
   "metadata": {},
   "outputs": [
    {
     "data": {
      "text/plain": [
       "self_and_square (generic function with 1 method)"
      ]
     },
     "execution_count": 101,
     "metadata": {},
     "output_type": "execute_result"
    }
   ],
   "source": [
    "function self_and_square(x)\n",
    "    return x, x^2  # each value to be returned is separated by a comma\n",
    "end"
   ]
  },
  {
   "cell_type": "code",
   "execution_count": 102,
   "id": "b0788bb0",
   "metadata": {},
   "outputs": [
    {
     "data": {
      "text/plain": [
       "(2, 4)"
      ]
     },
     "execution_count": 102,
     "metadata": {},
     "output_type": "execute_result"
    }
   ],
   "source": [
    "x, x² = self_and_square(2)"
   ]
  },
  {
   "cell_type": "code",
   "execution_count": 104,
   "id": "11c01d84",
   "metadata": {},
   "outputs": [
    {
     "data": {
      "text/plain": [
       "2"
      ]
     },
     "execution_count": 104,
     "metadata": {},
     "output_type": "execute_result"
    }
   ],
   "source": [
    "x"
   ]
  },
  {
   "cell_type": "code",
   "execution_count": 103,
   "id": "25bbd963",
   "metadata": {},
   "outputs": [
    {
     "data": {
      "text/plain": [
       "4"
      ]
     },
     "execution_count": 103,
     "metadata": {},
     "output_type": "execute_result"
    }
   ],
   "source": [
    "x²"
   ]
  },
  {
   "cell_type": "code",
   "execution_count": 105,
   "id": "f987207a",
   "metadata": {
    "scrolled": true
   },
   "outputs": [
    {
     "data": {
      "text/plain": [
       "(2, 4)"
      ]
     },
     "execution_count": 105,
     "metadata": {},
     "output_type": "execute_result"
    }
   ],
   "source": [
    "y = self_and_square(2)"
   ]
  },
  {
   "cell_type": "code",
   "execution_count": 106,
   "id": "9f527d9a",
   "metadata": {},
   "outputs": [
    {
     "data": {
      "text/plain": [
       "Tuple{Int64, Int64}"
      ]
     },
     "execution_count": 106,
     "metadata": {},
     "output_type": "execute_result"
    }
   ],
   "source": [
    "typeof(y) # more on tuples later"
   ]
  },
  {
   "cell_type": "markdown",
   "id": "a5f34da3",
   "metadata": {},
   "source": [
    "### 3.4. Functions with Default Arguments\n",
    "- Function arguments can be given default values using the assignment operator `=` in the function signature.\n",
    "<br>\n",
    "\n",
    "- Arguments with defaults are then **optional** - you can call the function with or without them."
   ]
  },
  {
   "cell_type": "code",
   "execution_count": null,
   "id": "74a44fae",
   "metadata": {},
   "outputs": [],
   "source": [
    "function calculate_pay_with_bonus(hours, rate, bonus = 0.0)\n",
    "   return hours * rate + bonus\n",
    "end"
   ]
  },
  {
   "cell_type": "code",
   "execution_count": null,
   "id": "e5ddae88",
   "metadata": {
    "scrolled": true
   },
   "outputs": [],
   "source": [
    "calculate_pay_with_bonus(10, 15)"
   ]
  },
  {
   "cell_type": "code",
   "execution_count": null,
   "id": "f52bc5c9",
   "metadata": {},
   "outputs": [],
   "source": [
    "calculate_pay_with_bonus(10, 15, 20)"
   ]
  },
  {
   "cell_type": "markdown",
   "id": "ae7ad060",
   "metadata": {},
   "source": [
    "- This function can now be called with either two or three arguments."
   ]
  },
  {
   "cell_type": "markdown",
   "id": "45d02377",
   "metadata": {},
   "source": [
    "### 3.5. Functions with Keyword Arguments\n",
    "- All of the functions we've seen so far have **positional arguments**; functions are defined with arguments in a particular order and must then be called with the arguments provided in precisely the same order.\n",
    "<br>\n",
    "\n",
    "- For functions with many arguments, this can quickly become confusing and a potential source of errors. Instead, you should consider **keyword arguments**.\n",
    "<br>\n",
    "\n",
    "- Keyword arguments are **passed by name** rather than position.\n",
    "<br>\n",
    "\n",
    "- Keyword arguments can be **passed in any order**.\n",
    "<br>\n",
    "\n",
    "- For functions with many arguments, this will make your code more readable and less prone to errors.\n",
    "<br>\n",
    "\n",
    "- When defining a function, **keyword arguments are separated from positional arguments by a semi-colon**."
   ]
  },
  {
   "cell_type": "code",
   "execution_count": null,
   "id": "0ea51dc2",
   "metadata": {},
   "outputs": [],
   "source": [
    "function calculate_pay_with_bonus(hours, rate; bonus = 0.0)\n",
    "   return hours * rate + bonus\n",
    "end"
   ]
  },
  {
   "cell_type": "code",
   "execution_count": null,
   "id": "089973bc",
   "metadata": {},
   "outputs": [],
   "source": [
    "calculate_pay_with_bonus(10, 15, bonus = 20)"
   ]
  },
  {
   "cell_type": "code",
   "execution_count": null,
   "id": "6418f0ab",
   "metadata": {},
   "outputs": [],
   "source": [
    "function calculate_pay_with_bonus_and_tip(hours, rate; bonus = 0.0, tip = 0.0)\n",
    "   return hours * rate + bonus + tip\n",
    "end"
   ]
  },
  {
   "cell_type": "code",
   "execution_count": null,
   "id": "260a25c8",
   "metadata": {},
   "outputs": [],
   "source": [
    "calculate_pay_with_bonus_and_tip(10, 15, bonus = 20, tip = 10)"
   ]
  },
  {
   "cell_type": "markdown",
   "id": "18119b94",
   "metadata": {},
   "source": [
    "## 4. Control Flow - The `for` Loop <a class=\"anchor\" id=\"loops\"></a>\n",
    "\n",
    "- Often in scientific programming we want to repeat some algorithmic procedure a number of times, e.g. until some condition is satisfied or over a given range of values. This kind of repeated evaluation is typically achieved using a loop construct.\n",
    "\n",
    "### 4.1. The `for` Loop\n",
    "\n",
    "- The most common loop in Julia is the `for` loop."
   ]
  },
  {
   "cell_type": "code",
   "execution_count": 107,
   "id": "743b2d38",
   "metadata": {
    "scrolled": true
   },
   "outputs": [
    {
     "name": "stdout",
     "output_type": "stream",
     "text": [
      "1\n",
      "2\n",
      "3\n",
      "4\n",
      "5\n"
     ]
    }
   ],
   "source": [
    "for i = 1:5\n",
    "    println(i)\n",
    "end"
   ]
  },
  {
   "cell_type": "markdown",
   "id": "8771cbba",
   "metadata": {},
   "source": [
    "- The `for` loop can also iterate over all the items of a container (e.g. `Array`, `Tuple`), not just a range object:"
   ]
  },
  {
   "cell_type": "code",
   "execution_count": 108,
   "id": "e72a0e99",
   "metadata": {
    "scrolled": true
   },
   "outputs": [
    {
     "name": "stdout",
     "output_type": "stream",
     "text": [
      "1\n",
      "2\n",
      "3\n",
      "4\n",
      "5\n"
     ]
    }
   ],
   "source": [
    "range = [1, 2, 3, 4, 5]\n",
    "for i in range\n",
    "    println(i)\n",
    "end"
   ]
  },
  {
   "cell_type": "markdown",
   "id": "cc58041a",
   "metadata": {},
   "source": [
    "- **Note:** when iterating over a container, the Julia convention is to use the `in` keyword, but it's entirely equivalent to using `=`.\n",
    "<br>\n",
    "\n",
    "- In the most general case, any Julia object implementing the [iteration interface](https://docs.julialang.org/en/v1/manual/interfaces/#man-interface-iteration) may be iterated over in a `for` loop.\n",
    "<br>\n",
    "\n",
    "- If you're used to Python, you might be somewhat allergic to `for` loops, favouring instead list comprehensions or vectorized operations. You don't have to worry about this in Julia - `for` loops are fast!"
   ]
  },
  {
   "cell_type": "markdown",
   "id": "96686dcf",
   "metadata": {},
   "source": [
    "### 4.2. Early Stopping: The `break` keyword\n",
    "- A loop can be terminated immediately using the `break` keyword."
   ]
  },
  {
   "cell_type": "code",
   "execution_count": 109,
   "id": "1c8d1350",
   "metadata": {},
   "outputs": [
    {
     "name": "stdout",
     "output_type": "stream",
     "text": [
      "1\n",
      "2\n",
      "3\n"
     ]
    }
   ],
   "source": [
    "for i = 1:5\n",
    "    println(i)\n",
    "    if i == 3\n",
    "        break\n",
    "    end\n",
    "end"
   ]
  },
  {
   "cell_type": "markdown",
   "id": "c5c28d7c",
   "metadata": {},
   "source": [
    "### 4.3. Jumping Ahead: The `continue` keyword\n",
    "- All or part of the loop body can be skipped using the `continue` keyword. The next iteration will then be started immediately."
   ]
  },
  {
   "cell_type": "code",
   "execution_count": 110,
   "id": "da9846fc",
   "metadata": {},
   "outputs": [
    {
     "name": "stdout",
     "output_type": "stream",
     "text": [
      "3\n",
      "6\n",
      "9\n"
     ]
    }
   ],
   "source": [
    "for i = 1:10\n",
    "   if i % 3 != 0\n",
    "       continue\n",
    "   end\n",
    "   println(i)\n",
    "end"
   ]
  },
  {
   "cell_type": "markdown",
   "id": "94716a4a",
   "metadata": {},
   "source": [
    "### 4.4. The `Range` Object\n",
    "- We've been using ranges, e.g. `1:10`, frequently. This is a very useful construct for generating sequences of numbers and takes the general form:\n",
    "\n",
    "    ```julia\n",
    "    a:b:c\n",
    "    ```\n",
    "\n",
    "    where `a` is the starting number, `c` is the ending number, and `b` is the stepsize. By default `b = 1`.<br><br>\n",
    "\n",
    "- **Note:** ranges in Julia are **inclusive**.\n",
    "<br>\n",
    "    \n",
    "- How could we simplify the previous loop using an appropriate `Range` object?"
   ]
  },
  {
   "cell_type": "code",
   "execution_count": 111,
   "id": "7b5a2ed1",
   "metadata": {},
   "outputs": [
    {
     "name": "stdout",
     "output_type": "stream",
     "text": [
      "3\n",
      "6\n",
      "9\n"
     ]
    }
   ],
   "source": [
    "for i = 3:3:10\n",
    "    println(i)\n",
    "end"
   ]
  },
  {
   "cell_type": "markdown",
   "id": "ac76afaf",
   "metadata": {},
   "source": [
    "- **Tip**: Convert any `Range` object into an `Array` of its members using the `collect` function."
   ]
  },
  {
   "cell_type": "code",
   "execution_count": 112,
   "id": "3343b2b9",
   "metadata": {},
   "outputs": [
    {
     "data": {
      "text/plain": [
       "1:3"
      ]
     },
     "execution_count": 112,
     "metadata": {},
     "output_type": "execute_result"
    }
   ],
   "source": [
    "1:3"
   ]
  },
  {
   "cell_type": "code",
   "execution_count": 114,
   "id": "4f1a9b17",
   "metadata": {},
   "outputs": [
    {
     "data": {
      "text/plain": [
       "UnitRange{Int64}"
      ]
     },
     "execution_count": 114,
     "metadata": {},
     "output_type": "execute_result"
    }
   ],
   "source": [
    "typeof(1:3)"
   ]
  },
  {
   "cell_type": "code",
   "execution_count": 115,
   "id": "be61ba2c",
   "metadata": {},
   "outputs": [
    {
     "data": {
      "text/plain": [
       "3-element Vector{Int64}:\n",
       " 1\n",
       " 2\n",
       " 3"
      ]
     },
     "execution_count": 115,
     "metadata": {},
     "output_type": "execute_result"
    }
   ],
   "source": [
    "collect(1:3)"
   ]
  },
  {
   "cell_type": "markdown",
   "id": "882a10d8",
   "metadata": {},
   "source": [
    "- **Tip**: `Range` objects can also be used in `Array` indexing."
   ]
  },
  {
   "cell_type": "code",
   "execution_count": 116,
   "id": "c8c245dc",
   "metadata": {},
   "outputs": [
    {
     "data": {
      "text/plain": [
       "3×4 Matrix{Float64}:\n",
       " 0.63529   0.827215   0.931323  0.154945\n",
       " 0.249934  0.381754   0.275005  0.412802\n",
       " 0.739288  0.0225166  0.91217   0.598665"
      ]
     },
     "execution_count": 116,
     "metadata": {},
     "output_type": "execute_result"
    }
   ],
   "source": [
    "a = rand(3,4)"
   ]
  },
  {
   "cell_type": "code",
   "execution_count": 117,
   "id": "8f6e5bd4",
   "metadata": {},
   "outputs": [
    {
     "data": {
      "text/plain": [
       "2-element Vector{Float64}:\n",
       " 0.635290350375193\n",
       " 0.8272153836152041"
      ]
     },
     "execution_count": 117,
     "metadata": {},
     "output_type": "execute_result"
    }
   ],
   "source": [
    "a[1, 1:2]  # inclusive!"
   ]
  },
  {
   "cell_type": "markdown",
   "id": "67875849",
   "metadata": {},
   "source": [
    "### 4.5. Nested Loops\n",
    "- Loops can be nested arbitrarily:"
   ]
  },
  {
   "cell_type": "code",
   "execution_count": 118,
   "id": "75f0a4d6",
   "metadata": {},
   "outputs": [
    {
     "name": "stdout",
     "output_type": "stream",
     "text": [
      "(1, 3)\n",
      "(2, 3)\n"
     ]
    }
   ],
   "source": [
    "for i = 1:2  # outer loop\n",
    "    for j = 3:4  # inner loop\n",
    "        println((i, j))  # Cartesian product of 1:2 and 3:4\n",
    "        break            # breaks only the innermost enclosing loop\n",
    "    end\n",
    "end"
   ]
  },
  {
   "cell_type": "markdown",
   "id": "3034401c",
   "metadata": {},
   "source": [
    "- In Julia, nested loops can be combined into a single outer loop:"
   ]
  },
  {
   "cell_type": "code",
   "execution_count": 119,
   "id": "3a219262",
   "metadata": {},
   "outputs": [
    {
     "name": "stdout",
     "output_type": "stream",
     "text": [
      "(1, 3)\n"
     ]
    }
   ],
   "source": [
    "for i = 1:2, j = 3:4\n",
    "    println((i, j))\n",
    "    break\n",
    "end"
   ]
  },
  {
   "cell_type": "markdown",
   "id": "88542441",
   "metadata": {},
   "source": [
    "- Are the two forms of the nested loop equivalent?"
   ]
  },
  {
   "cell_type": "markdown",
   "id": "2df68ad9",
   "metadata": {},
   "source": [
    "## 5. Further Reading <a class=\"anchor\" id=\"further-reading\"></a>\n",
    "1. These notes draw heavily on the official Julia [documentation](https://docs.julialang.org/en/v1/). For a more detailed introduction, see in particular the sections on:\n",
    "    - [Multi-dimensional Arrays](https://docs.julialang.org/en/v1/manual/arrays/)\n",
    "    - [Functions](https://docs.julialang.org/en/v1/manual/functions/)\n",
    "    - [Control Flow](https://docs.julialang.org/en/v1/manual/control-flow/)<br><br>\n",
    "2. There is a huge amount of material, both introductory and advanced, on the YouTube channel of the [Julia Programming Language](https://www.youtube.com/c/TheJuliaLanguage).\n",
    "<br>\n",
    "\n",
    "3. Tim Holy's [short course](https://www.youtube.com/watch?v=x4oi0IKf52w&list=PL-G47MxHVTewUm5ywggLvmbUCNOD2RbKA) on scientific programming in Julia is pretty good, albeit now a bit outdated."
   ]
  },
  {
   "cell_type": "markdown",
   "id": "14880b26",
   "metadata": {},
   "source": [
    "## 6. Next Week <a class=\"anchor\" id=\"next-week\"></a>\n",
    "1. [Pkg.jl](https://pkgdocs.julialang.org/v1/), the Julia package manager.<br><br>\n",
    "2. Solving differential equations in Julia using [DifferentialEquations.jl](https://diffeq.sciml.ai/stable/).<br><br>\n",
    "2. Introduction to [Git](https://git-scm.com/) and [GitHub](https://github.com/)."
   ]
  }
 ],
 "metadata": {
  "kernelspec": {
   "display_name": "Julia 1.11.5",
   "language": "julia",
   "name": "julia-1.11"
  },
  "language_info": {
   "file_extension": ".jl",
   "mimetype": "application/julia",
   "name": "julia",
   "version": "1.11.5"
  }
 },
 "nbformat": 4,
 "nbformat_minor": 5
}
