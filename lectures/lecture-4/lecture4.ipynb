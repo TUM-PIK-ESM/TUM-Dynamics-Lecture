{
 "cells": [
  {
   "cell_type": "markdown",
   "id": "0e0cc316",
   "metadata": {},
   "source": [
    "# Lecture 4 - Julia - Types, Methods and Multiple Dispatch\n",
    "\n",
    "## Julia, The Story So Far\n",
    "\n",
    "- In lecture 1, we introduced the basics of the Julia programming language, including arrays, functions, and basic flow control.\n",
    "- In lecture 2, we introduced Pkg.jl, the Julia package manager, as well as the library DifferentialEquations.jl.\n",
    "- Today, we'll \"remove the training wheels\" and discuss Julia's type system in a lot more detail than before.\n",
    "\n",
    "## Contents\n",
    "1. [Types](#types)\n",
    "2. [Composite Types](#composite-types)\n",
    "3. [Parametric Types](#parametric-types)\n",
    "4. [Methods and Multiple Dispatch](#methods)\n",
    "5. [Parametric Methods](#parametric-methods)\n",
    "6. [Conclusion](#conclusion)\n",
    "7. [Further Reading](#further-reading)\n",
    "8. [Next Week](#next-week)\n",
    "9. [Quick Survey](#survey)"
   ]
  },
  {
   "cell_type": "code",
   "execution_count": 7,
   "id": "afb7794f",
   "metadata": {
    "scrolled": true
   },
   "outputs": [
    {
     "name": "stderr",
     "output_type": "stream",
     "text": [
      "\u001b[32m\u001b[1m  Activating\u001b[22m\u001b[39m new project at `/tmp/jl_KWvCQ4`\n",
      "\u001b[32m\u001b[1m   Resolving\u001b[22m\u001b[39m package versions...\n",
      "\u001b[32m\u001b[1m    Updating\u001b[22m\u001b[39m `/tmp/jl_KWvCQ4/Project.toml`\n",
      " \u001b[90m [1520ce14] \u001b[39m\u001b[92m+ AbstractTrees v0.4.3\u001b[39m\n",
      " \u001b[90m [6e4b80f9] \u001b[39m\u001b[92m+ BenchmarkTools v1.3.2\u001b[39m\n",
      "\u001b[32m\u001b[1m    Updating\u001b[22m\u001b[39m `/tmp/jl_KWvCQ4/Manifest.toml`\n",
      " \u001b[90m [1520ce14] \u001b[39m\u001b[92m+ AbstractTrees v0.4.3\u001b[39m\n",
      " \u001b[90m [6e4b80f9] \u001b[39m\u001b[92m+ BenchmarkTools v1.3.2\u001b[39m\n",
      " \u001b[90m [682c06a0] \u001b[39m\u001b[92m+ JSON v0.21.3\u001b[39m\n",
      " \u001b[90m [69de0a69] \u001b[39m\u001b[92m+ Parsers v2.5.0\u001b[39m\n",
      " \u001b[90m [66db9d55] \u001b[39m\u001b[92m+ SnoopPrecompile v1.0.1\u001b[39m\n",
      " \u001b[90m [56f22d72] \u001b[39m\u001b[92m+ Artifacts\u001b[39m\n",
      " \u001b[90m [ade2ca70] \u001b[39m\u001b[92m+ Dates\u001b[39m\n",
      " \u001b[90m [8f399da3] \u001b[39m\u001b[92m+ Libdl\u001b[39m\n",
      " \u001b[90m [37e2e46d] \u001b[39m\u001b[92m+ LinearAlgebra\u001b[39m\n",
      " \u001b[90m [56ddb016] \u001b[39m\u001b[92m+ Logging\u001b[39m\n",
      " \u001b[90m [a63ad114] \u001b[39m\u001b[92m+ Mmap\u001b[39m\n",
      " \u001b[90m [de0858da] \u001b[39m\u001b[92m+ Printf\u001b[39m\n",
      " \u001b[90m [9abbd945] \u001b[39m\u001b[92m+ Profile\u001b[39m\n",
      " \u001b[90m [9a3f8284] \u001b[39m\u001b[92m+ Random\u001b[39m\n",
      " \u001b[90m [ea8e919c] \u001b[39m\u001b[92m+ SHA v0.7.0\u001b[39m\n",
      " \u001b[90m [9e88b42a] \u001b[39m\u001b[92m+ Serialization\u001b[39m\n",
      " \u001b[90m [2f01184e] \u001b[39m\u001b[92m+ SparseArrays\u001b[39m\n",
      " \u001b[90m [10745b16] \u001b[39m\u001b[92m+ Statistics\u001b[39m\n",
      " \u001b[90m [cf7118a7] \u001b[39m\u001b[92m+ UUIDs\u001b[39m\n",
      " \u001b[90m [4ec0a83e] \u001b[39m\u001b[92m+ Unicode\u001b[39m\n",
      " \u001b[90m [e66e0078] \u001b[39m\u001b[92m+ CompilerSupportLibraries_jll v0.5.2+0\u001b[39m\n",
      " \u001b[90m [4536629a] \u001b[39m\u001b[92m+ OpenBLAS_jll v0.3.20+0\u001b[39m\n",
      " \u001b[90m [8e850b90] \u001b[39m\u001b[92m+ libblastrampoline_jll v5.1.1+0\u001b[39m\n"
     ]
    }
   ],
   "source": [
    "# Create a temporary environment and add a couple of useful packages for this lecture\n",
    "using Pkg\n",
    "Pkg.activate(; temp = true)\n",
    "Pkg.add([\"BenchmarkTools\", \"AbstractTrees\"])"
   ]
  },
  {
   "cell_type": "code",
   "execution_count": 8,
   "id": "a64ec58d",
   "metadata": {},
   "outputs": [],
   "source": [
    "using BenchmarkTools, AbstractTrees\n",
    "\n",
    "# Useful code snippet for printing type trees\n",
    "AbstractTrees.children(x::Type) = subtypes(x)"
   ]
  },
  {
   "cell_type": "markdown",
   "id": "a3f8e327",
   "metadata": {},
   "source": [
    "## 1. Types <a class=\"anchor\" id=\"types\"></a>\n",
    "\n",
    "- Every value in Julia is a first-class object, and **all objects have a type**.\n",
    "\n",
    "\n",
    "- In the words of the Julia documentation,\n",
    "\n",
    "\n",
    "> There is no division between object and non-object values: all values in Julia are true objects having a type that belongs to a single, fully connected type graph, all nodes of which are equally first-class as types.\n",
    "\n",
    "\n",
    "- What do we mean when we're talking about a fully connected type graph?"
   ]
  },
  {
   "cell_type": "code",
   "execution_count": 9,
   "id": "93a4b88d",
   "metadata": {
    "scrolled": false
   },
   "outputs": [
    {
     "name": "stdout",
     "output_type": "stream",
     "text": [
      "Number\n",
      "├─ Complex\n",
      "└─ Real\n",
      "   ├─ AbstractFloat\n",
      "   │  ├─ BigFloat\n",
      "   │  ├─ Float16\n",
      "   │  ├─ Float32\n",
      "   │  └─ Float64\n",
      "   ├─ AbstractIrrational\n",
      "   │  └─ Irrational\n",
      "   ├─ Integer\n",
      "   │  ├─ Bool\n",
      "   │  ├─ Signed\n",
      "   │  │  ├─ BigInt\n",
      "   │  │  ├─ Int128\n",
      "   │  │  ├─ Int16\n",
      "   │  │  ├─ Int32\n",
      "   │  │  ├─ Int64\n",
      "   │  │  └─ Int8\n",
      "   │  └─ Unsigned\n",
      "   │     ├─ UInt128\n",
      "   │     ├─ UInt16\n",
      "   │     ├─ UInt32\n",
      "   │     ├─ UInt64\n",
      "   │     └─ UInt8\n",
      "   └─ Rational\n"
     ]
    }
   ],
   "source": [
    "print_tree(Number)"
   ]
  },
  {
   "cell_type": "markdown",
   "id": "27cac7cc",
   "metadata": {},
   "source": [
    "- Why do we need a [type system](https://en.wikipedia.org/wiki/Type_system) at all? Types are essential in specifying the **structure and behaviour** of our program, both at a high level (the code we write in Julia) and at a low level (the underlying actions taken by our computer when we run our code)."
   ]
  },
  {
   "cell_type": "code",
   "execution_count": 10,
   "id": "8742ce87",
   "metadata": {},
   "outputs": [
    {
     "data": {
      "text/plain": [
       "Float64"
      ]
     },
     "execution_count": 10,
     "metadata": {},
     "output_type": "execute_result"
    }
   ],
   "source": [
    "typeof(1.0)"
   ]
  },
  {
   "cell_type": "code",
   "execution_count": 11,
   "id": "a811c73f",
   "metadata": {},
   "outputs": [
    {
     "data": {
      "text/plain": [
       "Int64"
      ]
     },
     "execution_count": 11,
     "metadata": {},
     "output_type": "execute_result"
    }
   ],
   "source": [
    "typeof(1)"
   ]
  },
  {
   "cell_type": "code",
   "execution_count": 12,
   "id": "89b48f9f",
   "metadata": {},
   "outputs": [
    {
     "data": {
      "text/plain": [
       "\"0011111111110000000000000000000000000000000000000000000000000000\""
      ]
     },
     "execution_count": 12,
     "metadata": {},
     "output_type": "execute_result"
    }
   ],
   "source": [
    "bitstring(1.0)"
   ]
  },
  {
   "cell_type": "code",
   "execution_count": 13,
   "id": "7df39eeb",
   "metadata": {},
   "outputs": [
    {
     "data": {
      "text/plain": [
       "\"0000000000000000000000000000000000000000000000000000000000000001\""
      ]
     },
     "execution_count": 13,
     "metadata": {},
     "output_type": "execute_result"
    }
   ],
   "source": [
    "bitstring(1)"
   ]
  },
  {
   "cell_type": "code",
   "execution_count": 14,
   "id": "99d7eb06",
   "metadata": {},
   "outputs": [
    {
     "name": "stdout",
     "output_type": "stream",
     "text": [
      "\t\u001b[0m.text\n",
      "\t\u001b[0m.file\t\u001b[0m\"+\"\n",
      "\t\u001b[0m.globl\t\u001b[0m\"julia_+_3126\"                  \u001b[90m# -- Begin function julia_+_3126\u001b[39m\n",
      "\t\u001b[0m.p2align\t\u001b[33m4\u001b[39m\u001b[0m, \u001b[33m0x90\u001b[39m\n",
      "\t\u001b[0m.type\t\u001b[0m\"julia_+_3126\"\u001b[0m,\u001b[0m@function\n",
      "\u001b[91m\"julia_+_3126\":\u001b[39m                         \u001b[90m# @\"julia_+_3126\"\u001b[39m\n",
      "\u001b[90m; ┌ @ int.jl:87 within `+`\u001b[39m\n",
      "\t\u001b[0m.cfi_startproc\n",
      "\u001b[90m# %bb.0:                                # %top\u001b[39m\n",
      "\t\u001b[96m\u001b[1mleaq\u001b[22m\u001b[39m\t\u001b[33m(\u001b[39m\u001b[0m%rdi\u001b[0m,\u001b[0m%rsi\u001b[33m)\u001b[39m\u001b[0m, \u001b[0m%rax               \u001b[90m# encoding: [0x48,0x8d,0x04,0x37]\u001b[39m\n",
      "\t\u001b[96m\u001b[1mretq\u001b[22m\u001b[39m                                    \u001b[90m# encoding: [0xc3]\u001b[39m\n",
      "\u001b[91m.Lfunc_end0:\u001b[39m\n",
      "\t\u001b[0m.size\t\u001b[0m\"julia_+_3126\"\u001b[0m, \u001b[0m.Lfunc_end0-\"julia_+_3126\"\n",
      "\t\u001b[0m.cfi_endproc\n",
      "\u001b[90m; └\u001b[39m\n",
      "                                        \u001b[90m# -- End function\u001b[39m\n",
      "\t\u001b[0m.section\t\u001b[0m\".note.GNU-stack\"\u001b[0m,\u001b[0m\"\"\u001b[0m,\u001b[0m@progbits\n"
     ]
    }
   ],
   "source": [
    "@code_native binary = true 1 + 1"
   ]
  },
  {
   "cell_type": "code",
   "execution_count": 15,
   "id": "ff85aa47",
   "metadata": {},
   "outputs": [
    {
     "name": "stdout",
     "output_type": "stream",
     "text": [
      "\t\u001b[0m.text\n",
      "\t\u001b[0m.file\t\u001b[0m\"+\"\n",
      "\t\u001b[0m.globl\t\u001b[0m\"julia_+_3161\"                  \u001b[90m# -- Begin function julia_+_3161\u001b[39m\n",
      "\t\u001b[0m.p2align\t\u001b[33m4\u001b[39m\u001b[0m, \u001b[33m0x90\u001b[39m\n",
      "\t\u001b[0m.type\t\u001b[0m\"julia_+_3161\"\u001b[0m,\u001b[0m@function\n",
      "\u001b[91m\"julia_+_3161\":\u001b[39m                         \u001b[90m# @\"julia_+_3161\"\u001b[39m\n",
      "\u001b[90m; ┌ @ float.jl:383 within `+`\u001b[39m\n",
      "\t\u001b[0m.cfi_startproc\n",
      "\u001b[90m# %bb.0:                                # %top\u001b[39m\n",
      "\t\u001b[96m\u001b[1mvaddsd\u001b[22m\u001b[39m\t\u001b[0m%xmm1\u001b[0m, \u001b[0m%xmm0\u001b[0m, \u001b[0m%xmm0             \u001b[90m# encoding: [0xc5,0xfb,0x58,0xc1]\u001b[39m\n",
      "\t\u001b[96m\u001b[1mretq\u001b[22m\u001b[39m                                    \u001b[90m# encoding: [0xc3]\u001b[39m\n",
      "\u001b[91m.Lfunc_end0:\u001b[39m\n",
      "\t\u001b[0m.size\t\u001b[0m\"julia_+_3161\"\u001b[0m, \u001b[0m.Lfunc_end0-\"julia_+_3161\"\n",
      "\t\u001b[0m.cfi_endproc\n",
      "\u001b[90m; └\u001b[39m\n",
      "                                        \u001b[90m# -- End function\u001b[39m\n",
      "\t\u001b[0m.section\t\u001b[0m\".note.GNU-stack\"\u001b[0m,\u001b[0m\"\"\u001b[0m,\u001b[0m@progbits\n"
     ]
    }
   ],
   "source": [
    "@code_native binary = true 1.0 + 1.0"
   ]
  },
  {
   "cell_type": "markdown",
   "id": "94ce4a78",
   "metadata": {},
   "source": [
    "- Julia's type system is **dynamic**.\n",
    "\n",
    "\n",
    "- In a statically typed language, such as C, C++, and Fortran, every variable has a type which must be specified in advance by the programmer. For example, in C, `int a;`.\n",
    "\n",
    "\n",
    "- In a dynamically typed language, such as Python and Julia, values have a type only at runtime, and do not have to be specified in advance. This can save time for the programmer, and make your code more generic (it can work with many different kinds of runtime types).\n",
    "\n",
    "\n",
    "- **Since Julia is dynamically typed, types are associated with values, not variables.** A variable is simply a name \"bound\" to a value."
   ]
  },
  {
   "cell_type": "markdown",
   "id": "e2163ad1",
   "metadata": {},
   "source": [
    "### 1.1. Abstract and Concrete Types\n",
    "\n",
    "- We said earlier that all Julia types belong to \"a single, fully connected type graph, all nodes of which are equally first-class as types.\"\n",
    "\n",
    "\n",
    "- We can further classify the types in the type graph as either:\n",
    "    1. **Abstract**, or\n",
    "    2. **Concrete**.\n",
    "\n",
    "\n",
    "- **Key Fact 1**: All Julia objects are instances of a concrete type."
   ]
  },
  {
   "cell_type": "code",
   "execution_count": 16,
   "id": "92c6aab1",
   "metadata": {},
   "outputs": [
    {
     "data": {
      "text/plain": [
       "Float64"
      ]
     },
     "execution_count": 16,
     "metadata": {},
     "output_type": "execute_result"
    }
   ],
   "source": [
    "typeof(1.0)"
   ]
  },
  {
   "cell_type": "code",
   "execution_count": 17,
   "id": "68659764",
   "metadata": {
    "scrolled": false
   },
   "outputs": [
    {
     "data": {
      "text/plain": [
       "true"
      ]
     },
     "execution_count": 17,
     "metadata": {},
     "output_type": "execute_result"
    }
   ],
   "source": [
    "isconcretetype(typeof(1.0))"
   ]
  },
  {
   "cell_type": "code",
   "execution_count": 18,
   "id": "b9e68169",
   "metadata": {},
   "outputs": [
    {
     "data": {
      "text/plain": [
       "is_instance_of_concrete_type (generic function with 1 method)"
      ]
     },
     "execution_count": 18,
     "metadata": {},
     "output_type": "execute_result"
    }
   ],
   "source": [
    "is_instance_of_concrete_type(x) = isconcretetype(typeof(x))  # Returns true for all x"
   ]
  },
  {
   "cell_type": "code",
   "execution_count": 19,
   "id": "342de4fd",
   "metadata": {},
   "outputs": [
    {
     "data": {
      "text/plain": [
       "true"
      ]
     },
     "execution_count": 19,
     "metadata": {},
     "output_type": "execute_result"
    }
   ],
   "source": [
    "is_instance_of_concrete_type(Float64)"
   ]
  },
  {
   "cell_type": "markdown",
   "id": "030464f7",
   "metadata": {},
   "source": [
    "- In turn, all concrete types are subtypes of at least one abstract type."
   ]
  },
  {
   "cell_type": "code",
   "execution_count": 20,
   "id": "145a3a24",
   "metadata": {},
   "outputs": [
    {
     "data": {
      "text/plain": [
       "AbstractFloat"
      ]
     },
     "execution_count": 20,
     "metadata": {},
     "output_type": "execute_result"
    }
   ],
   "source": [
    "supertype(typeof(1.0))"
   ]
  },
  {
   "cell_type": "code",
   "execution_count": 21,
   "id": "77a0e825",
   "metadata": {},
   "outputs": [
    {
     "data": {
      "text/plain": [
       "true"
      ]
     },
     "execution_count": 21,
     "metadata": {},
     "output_type": "execute_result"
    }
   ],
   "source": [
    "isabstracttype(AbstractFloat)"
   ]
  },
  {
   "cell_type": "code",
   "execution_count": null,
   "id": "aa52f99d",
   "metadata": {},
   "outputs": [],
   "source": [
    "print_tree(Any)"
   ]
  },
  {
   "cell_type": "markdown",
   "id": "7ce49148",
   "metadata": {},
   "source": [
    "- The abstract type `Any` sits at the top of the type tree. By definition, all types, both abstract and concrete, are subtypes of `Any`.\n",
    "\n",
    "\n",
    "- We can use the operator `<:`, meaning \"is a subtype of\" to test whether one type is a subtype of another type."
   ]
  },
  {
   "cell_type": "code",
   "execution_count": 23,
   "id": "4f6ae74c",
   "metadata": {},
   "outputs": [
    {
     "data": {
      "text/plain": [
       "is_subtype_of_Any (generic function with 1 method)"
      ]
     },
     "execution_count": 23,
     "metadata": {},
     "output_type": "execute_result"
    }
   ],
   "source": [
    "is_subtype_of_Any(x) = typeof(x) <: Any  # Returns true for all x"
   ]
  },
  {
   "cell_type": "code",
   "execution_count": 24,
   "id": "c25b2a8b",
   "metadata": {},
   "outputs": [
    {
     "data": {
      "text/plain": [
       "true"
      ]
     },
     "execution_count": 24,
     "metadata": {},
     "output_type": "execute_result"
    }
   ],
   "source": [
    "is_subtype_of_Any(Float64)"
   ]
  },
  {
   "cell_type": "markdown",
   "id": "b4b50427",
   "metadata": {},
   "source": [
    "- **Key Fact 2**: Concrete types may not subtype each other. \n",
    "\n",
    "\n",
    "- In other words, **concrete types are final**, and only abstract types may be supertypes."
   ]
  },
  {
   "cell_type": "code",
   "execution_count": 25,
   "id": "b931e111",
   "metadata": {},
   "outputs": [
    {
     "data": {
      "text/plain": [
       "has_abstract_supertype (generic function with 1 method)"
      ]
     },
     "execution_count": 25,
     "metadata": {},
     "output_type": "execute_result"
    }
   ],
   "source": [
    "has_abstract_supertype(x) = isabstracttype(supertype(typeof(x)))  # Returns true for all x"
   ]
  },
  {
   "cell_type": "markdown",
   "id": "9887fe62",
   "metadata": {},
   "source": [
    "- **Key Fact 3**: Abstract types cannot be instantiated. \n",
    "\n",
    "\n",
    "- (This is really the same as Key Fact 1, but it's worth emphasising again.)\n",
    "\n",
    "\n",
    "- Therefore, abstract types serve only to describe relationships between related concrete types within Julia's type hierarchy. \n",
    "\n",
    "\n",
    "- Abstract types are branches in the type tree while concrete types are leaves."
   ]
  },
  {
   "cell_type": "code",
   "execution_count": 26,
   "id": "95a4abf8",
   "metadata": {},
   "outputs": [
    {
     "name": "stdout",
     "output_type": "stream",
     "text": [
      "Number\n",
      "├─ Complex\n",
      "└─ Real\n",
      "   ├─ AbstractFloat\n",
      "   │  ├─ BigFloat\n",
      "   │  ├─ Float16\n",
      "   │  ├─ Float32\n",
      "   │  └─ Float64\n",
      "   ├─ AbstractIrrational\n",
      "   │  └─ Irrational\n",
      "   ├─ Integer\n",
      "   │  ├─ Bool\n",
      "   │  ├─ Signed\n",
      "   │  │  ├─ BigInt\n",
      "   │  │  ├─ Int128\n",
      "   │  │  ├─ Int16\n",
      "   │  │  ├─ Int32\n",
      "   │  │  ├─ Int64\n",
      "   │  │  └─ Int8\n",
      "   │  └─ Unsigned\n",
      "   │     ├─ UInt128\n",
      "   │     ├─ UInt16\n",
      "   │     ├─ UInt32\n",
      "   │     ├─ UInt64\n",
      "   │     └─ UInt8\n",
      "   └─ Rational\n"
     ]
    }
   ],
   "source": [
    "print_tree(Number)"
   ]
  },
  {
   "cell_type": "markdown",
   "id": "785f97c2",
   "metadata": {},
   "source": [
    "- Why do we even need abstract types then, if they can never be instantiated?\n",
    "\n",
    "\n",
    "- A well-defined type hierarchy, used in combination with **methods** and **multiple dispatch**, allows you to define behaviour for entire families of related concrete types. More on this later."
   ]
  },
  {
   "cell_type": "markdown",
   "id": "40dbdced",
   "metadata": {},
   "source": [
    "### 1.2. Defining Abstract Types\n",
    "\n",
    "- You can define your own abstract types using the `abstract type` keyword."
   ]
  },
  {
   "cell_type": "code",
   "execution_count": 27,
   "id": "ddaa29ce",
   "metadata": {},
   "outputs": [],
   "source": [
    "abstract type Animal end"
   ]
  },
  {
   "cell_type": "markdown",
   "id": "939abd2f",
   "metadata": {},
   "source": [
    "- In this context, we can use the `<:` operator - \"is a subtype of\" - to indicate relationships between types and thereby construct a user-defined type hierarchy."
   ]
  },
  {
   "cell_type": "code",
   "execution_count": 28,
   "id": "98f8e376",
   "metadata": {},
   "outputs": [],
   "source": [
    "abstract type Feline <: Animal end\n",
    "abstract type Canine <: Animal end"
   ]
  },
  {
   "cell_type": "code",
   "execution_count": 29,
   "id": "e0c5fb87",
   "metadata": {},
   "outputs": [
    {
     "name": "stdout",
     "output_type": "stream",
     "text": [
      "Animal\n",
      "├─ Canine\n",
      "└─ Feline\n"
     ]
    }
   ],
   "source": [
    "print_tree(Animal)"
   ]
  },
  {
   "cell_type": "markdown",
   "id": "31693037",
   "metadata": {},
   "source": [
    "- Remember, we can't instantiate abstract types, so we still can't create any animals. \n"
   ]
  },
  {
   "cell_type": "markdown",
   "id": "88c599d9",
   "metadata": {},
   "source": [
    "## 2. Composite Types (structs)  <a class=\"anchor\" id=\"composite-types\"></a>\n",
    "\n",
    "- How can we define our own concrete types? \n",
    "\n",
    "\n",
    "- The most common user-defined type in Julia is a **composite type** or `struct`. This is the Julia equivalent of a `Class` in Python.\n",
    "\n",
    "\n",
    "### 2.1. Defining Composite Types\n",
    "\n",
    "- Composite types are introduced with the `struct` keyword followed by a block of field names."
   ]
  },
  {
   "cell_type": "code",
   "execution_count": 30,
   "id": "76b3c034",
   "metadata": {},
   "outputs": [],
   "source": [
    "struct Foo\n",
    "    baz\n",
    "    qux\n",
    "    quux\n",
    "end"
   ]
  },
  {
   "cell_type": "code",
   "execution_count": 31,
   "id": "bb9728c3",
   "metadata": {},
   "outputs": [
    {
     "data": {
      "text/plain": [
       "Foo(\"a\", \"b\", \"c\")"
      ]
     },
     "execution_count": 31,
     "metadata": {},
     "output_type": "execute_result"
    }
   ],
   "source": [
    "foo = Foo(\"a\", \"b\", \"c\")"
   ]
  },
  {
   "cell_type": "markdown",
   "id": "cfd5b6a8",
   "metadata": {},
   "source": [
    "- You can also add type annotations to struct definitions, using the `::` operator (meaning \"is a\")."
   ]
  },
  {
   "cell_type": "code",
   "execution_count": 32,
   "id": "4a507c48",
   "metadata": {},
   "outputs": [],
   "source": [
    "struct Bar\n",
    "    baz  # implicit ::Any\n",
    "    qux::Float64\n",
    "    quux::Int64\n",
    "end"
   ]
  },
  {
   "cell_type": "code",
   "execution_count": 33,
   "id": "02dd2e80",
   "metadata": {},
   "outputs": [
    {
     "ename": "LoadError",
     "evalue": "MethodError: \u001b[0mCannot `convert` an object of type \u001b[92mString\u001b[39m\u001b[0m to an object of type \u001b[91mFloat64\u001b[39m\n\u001b[0mClosest candidates are:\n\u001b[0m  convert(::Type{T}, \u001b[91m::T\u001b[39m) where T<:Number at number.jl:6\n\u001b[0m  convert(::Type{T}, \u001b[91m::Number\u001b[39m) where T<:Number at number.jl:7\n\u001b[0m  convert(::Type{T}, \u001b[91m::Base.TwicePrecision\u001b[39m) where T<:Number at twiceprecision.jl:273\n\u001b[0m  ...",
     "output_type": "error",
     "traceback": [
      "MethodError: \u001b[0mCannot `convert` an object of type \u001b[92mString\u001b[39m\u001b[0m to an object of type \u001b[91mFloat64\u001b[39m\n\u001b[0mClosest candidates are:\n\u001b[0m  convert(::Type{T}, \u001b[91m::T\u001b[39m) where T<:Number at number.jl:6\n\u001b[0m  convert(::Type{T}, \u001b[91m::Number\u001b[39m) where T<:Number at number.jl:7\n\u001b[0m  convert(::Type{T}, \u001b[91m::Base.TwicePrecision\u001b[39m) where T<:Number at twiceprecision.jl:273\n\u001b[0m  ...",
      "",
      "Stacktrace:",
      " [1] Bar(baz::String, qux::String, quux::String)",
      "   @ Main ./In[32]:2",
      " [2] top-level scope",
      "   @ In[33]:1",
      " [3] eval",
      "   @ ./boot.jl:368 [inlined]",
      " [4] include_string(mapexpr::typeof(REPL.softscope), mod::Module, code::String, filename::String)",
      "   @ Base ./loading.jl:1428"
     ]
    }
   ],
   "source": [
    "bar = Bar(\"a\", \"b\", \"c\")"
   ]
  },
  {
   "cell_type": "markdown",
   "id": "096bd5b1",
   "metadata": {},
   "source": [
    "- Doing this can make your code readable, ensure correctness, and has implications for performance (more on this later). However, it can also make your code less flexible if you include overly restrictive type annotations.\n",
    "\n",
    "\n",
    "- Whenever you omit an explicit type annotation on the field of a struct, `::Any` is implied.\n",
    "\n",
    "\n",
    "- As with the definition of abstract types, we can use the `<:` operator - \"is a subtype of\" - to indicate that a composite type is a subtype of a specific abstract type."
   ]
  },
  {
   "cell_type": "code",
   "execution_count": 34,
   "id": "b17e0463",
   "metadata": {},
   "outputs": [],
   "source": [
    "struct Dog <: Canine\n",
    "    name\n",
    "    home\n",
    "end\n",
    "\n",
    "struct Wolf <: Canine\n",
    "    name\n",
    "    pack\n",
    "end\n",
    "\n",
    "struct Cat <: Feline\n",
    "    name\n",
    "    home\n",
    "end\n",
    "\n",
    "struct Lion <: Feline\n",
    "    name\n",
    "    pride\n",
    "end"
   ]
  },
  {
   "cell_type": "code",
   "execution_count": 35,
   "id": "64f1bd58",
   "metadata": {},
   "outputs": [
    {
     "name": "stdout",
     "output_type": "stream",
     "text": [
      "Animal\n",
      "├─ Canine\n",
      "│  ├─ Dog\n",
      "│  └─ Wolf\n",
      "└─ Feline\n",
      "   ├─ Cat\n",
      "   └─ Lion\n"
     ]
    }
   ],
   "source": [
    "print_tree(Animal)"
   ]
  },
  {
   "cell_type": "markdown",
   "id": "5e174a8e",
   "metadata": {},
   "source": [
    "### 2.2. Instantiating Composite Types\n",
    "\n",
    "- To create a new object of a given type, simply apply the type name like a function."
   ]
  },
  {
   "cell_type": "code",
   "execution_count": 36,
   "id": "f1935d5f",
   "metadata": {},
   "outputs": [
    {
     "data": {
      "text/plain": [
       "Dog(\"Sammy\", \"Schmidt Family\")"
      ]
     },
     "execution_count": 36,
     "metadata": {},
     "output_type": "execute_result"
    }
   ],
   "source": [
    "sammy = Dog(\"Sammy\", \"Schmidt Family\")"
   ]
  },
  {
   "cell_type": "code",
   "execution_count": 37,
   "id": "ba8e9ebd",
   "metadata": {},
   "outputs": [
    {
     "data": {
      "text/plain": [
       "(:name, :home)"
      ]
     },
     "execution_count": 37,
     "metadata": {},
     "output_type": "execute_result"
    }
   ],
   "source": [
    "fieldnames(Dog)"
   ]
  },
  {
   "cell_type": "markdown",
   "id": "f90d2002",
   "metadata": {},
   "source": [
    "- When we call the type name like this, we are actually calling a **constructor** for that type, which is a function which returns an instance of the given type.\n",
    "\n",
    "\n",
    "- Two default constructors are created automatically every time we declare a new composite type:\n",
    "    1. One which accepts any arguments and attempts to convert them to the types of the fields.\n",
    "    2. Another which accepts arguments matching the field types exactly."
   ]
  },
  {
   "cell_type": "code",
   "execution_count": 38,
   "id": "59711ff6",
   "metadata": {},
   "outputs": [],
   "source": [
    "struct A\n",
    "    a::Float32\n",
    "    b::Float64\n",
    "end"
   ]
  },
  {
   "cell_type": "code",
   "execution_count": 39,
   "id": "d8d8ecc7",
   "metadata": {},
   "outputs": [
    {
     "data": {
      "text/plain": [
       "A(1.0f0, 1.0)"
      ]
     },
     "execution_count": 39,
     "metadata": {},
     "output_type": "execute_result"
    }
   ],
   "source": [
    "A(1.0, 1.0)"
   ]
  },
  {
   "cell_type": "code",
   "execution_count": 41,
   "id": "6569700e",
   "metadata": {},
   "outputs": [
    {
     "data": {
      "text/plain": [
       "Float32"
      ]
     },
     "execution_count": 41,
     "metadata": {},
     "output_type": "execute_result"
    }
   ],
   "source": [
    "typeof(1.0f0)"
   ]
  },
  {
   "cell_type": "code",
   "execution_count": 42,
   "id": "ff70a938",
   "metadata": {},
   "outputs": [
    {
     "data": {
      "text/plain": [
       "Float64"
      ]
     },
     "execution_count": 42,
     "metadata": {},
     "output_type": "execute_result"
    }
   ],
   "source": [
    "typeof(1.0e0)"
   ]
  },
  {
   "cell_type": "markdown",
   "id": "a81fb0d1",
   "metadata": {},
   "source": [
    "### 2.3. Accessing the Fields of a Composite Type\n",
    "\n",
    "- You can access the field names of a composite type using the standard `foo.bar` notation."
   ]
  },
  {
   "cell_type": "code",
   "execution_count": 43,
   "id": "974a3dc6",
   "metadata": {},
   "outputs": [
    {
     "data": {
      "text/plain": [
       "\"Sammy\""
      ]
     },
     "execution_count": 43,
     "metadata": {},
     "output_type": "execute_result"
    }
   ],
   "source": [
    "sammy.name"
   ]
  },
  {
   "cell_type": "code",
   "execution_count": 44,
   "id": "fd19bb4c",
   "metadata": {},
   "outputs": [
    {
     "data": {
      "text/plain": [
       "\"Schmidt Family\""
      ]
     },
     "execution_count": 44,
     "metadata": {},
     "output_type": "execute_result"
    }
   ],
   "source": [
    "sammy.home"
   ]
  },
  {
   "cell_type": "markdown",
   "id": "0a7ff7a5",
   "metadata": {},
   "source": [
    "### 2.4. Structs are Not Mutable\n",
    "\n",
    "- Composite objects declared with `struct` are **immutable**; they cannot be modified after construction."
   ]
  },
  {
   "cell_type": "code",
   "execution_count": 45,
   "id": "e88dd2a8",
   "metadata": {},
   "outputs": [
    {
     "data": {
      "text/plain": [
       "(:name, :home)"
      ]
     },
     "execution_count": 45,
     "metadata": {},
     "output_type": "execute_result"
    }
   ],
   "source": [
    "fieldnames(Dog)"
   ]
  },
  {
   "cell_type": "code",
   "execution_count": 47,
   "id": "25f81aa2",
   "metadata": {},
   "outputs": [
    {
     "data": {
      "text/plain": [
       "\"Sammy\""
      ]
     },
     "execution_count": 47,
     "metadata": {},
     "output_type": "execute_result"
    }
   ],
   "source": [
    "sammy.name"
   ]
  },
  {
   "cell_type": "code",
   "execution_count": 48,
   "id": "14616be5",
   "metadata": {},
   "outputs": [
    {
     "ename": "LoadError",
     "evalue": "setfield!: immutable struct of type Dog cannot be changed",
     "output_type": "error",
     "traceback": [
      "setfield!: immutable struct of type Dog cannot be changed",
      "",
      "Stacktrace:",
      " [1] setproperty!(x::Dog, f::Symbol, v::String)",
      "   @ Base ./Base.jl:39",
      " [2] top-level scope",
      "   @ In[48]:1",
      " [3] eval",
      "   @ ./boot.jl:368 [inlined]",
      " [4] include_string(mapexpr::typeof(REPL.softscope), mod::Module, code::String, filename::String)",
      "   @ Base ./loading.jl:1428"
     ]
    }
   ],
   "source": [
    "sammy.name = \"Good Boy\""
   ]
  },
  {
   "cell_type": "markdown",
   "id": "94e7f219",
   "metadata": {},
   "source": [
    "- **N.B.** An immutable object might contain mutable objects, such as arrays, as fields. Those mutable field values will remain mutable; only the fields of the immutable object itself cannot be changed to point to different objects."
   ]
  },
  {
   "cell_type": "code",
   "execution_count": 49,
   "id": "b671f122",
   "metadata": {},
   "outputs": [
    {
     "data": {
      "text/plain": [
       "2-element Vector{Float64}:\n",
       " 1.0\n",
       " 2.0"
      ]
     },
     "execution_count": 49,
     "metadata": {},
     "output_type": "execute_result"
    }
   ],
   "source": [
    "struct ArrayStruct\n",
    "    a::Array\n",
    "end\n",
    "array_struct = ArrayStruct([1.0, 2.0])\n",
    "array_struct.a"
   ]
  },
  {
   "cell_type": "code",
   "execution_count": 50,
   "id": "12031dc6",
   "metadata": {},
   "outputs": [
    {
     "data": {
      "text/plain": [
       "2-element Vector{Float64}:\n",
       " 3.0\n",
       " 2.0"
      ]
     },
     "execution_count": 50,
     "metadata": {},
     "output_type": "execute_result"
    }
   ],
   "source": [
    "# Modify the mutable object\n",
    "array_struct.a[1] = 3.0\n",
    "array_struct.a"
   ]
  },
  {
   "cell_type": "code",
   "execution_count": 51,
   "id": "602d90f3",
   "metadata": {},
   "outputs": [
    {
     "ename": "LoadError",
     "evalue": "setfield!: immutable struct of type ArrayStruct cannot be changed",
     "output_type": "error",
     "traceback": [
      "setfield!: immutable struct of type ArrayStruct cannot be changed",
      "",
      "Stacktrace:",
      " [1] setproperty!(x::ArrayStruct, f::Symbol, v::Vector{Float64})",
      "   @ Base ./Base.jl:39",
      " [2] top-level scope",
      "   @ In[51]:2",
      " [3] eval",
      "   @ ./boot.jl:368 [inlined]",
      " [4] include_string(mapexpr::typeof(REPL.softscope), mod::Module, code::String, filename::String)",
      "   @ Base ./loading.jl:1428"
     ]
    }
   ],
   "source": [
    "# Attempt to modify the field value itself\n",
    "array_struct.a = [3.0, 4.0]"
   ]
  },
  {
   "cell_type": "markdown",
   "id": "d7c5dcc4",
   "metadata": {},
   "source": [
    "- Why is it like this? Isn't this unnecessarily restrictive for the programmer?\n",
    "\n",
    "\n",
    "- The main reason for structs to be immutable is to allow the compiler to effectively optimise your code. In particular, it allows your objects to be stored efficiently in memory. (Hopefully) more on this in a later lecture.\n",
    "\n",
    "\n",
    "- If you really do need a mutable struct, you can simply declare one with the `mutable` keyword:"
   ]
  },
  {
   "cell_type": "code",
   "execution_count": 52,
   "id": "c4dfa4d5",
   "metadata": {},
   "outputs": [
    {
     "data": {
      "text/plain": [
       "\"original value\""
      ]
     },
     "execution_count": 52,
     "metadata": {},
     "output_type": "execute_result"
    }
   ],
   "source": [
    "mutable struct MyMutableStruct\n",
    "    a\n",
    "end\n",
    "m = MyMutableStruct(\"original value\")\n",
    "m.a"
   ]
  },
  {
   "cell_type": "code",
   "execution_count": 53,
   "id": "433928b4",
   "metadata": {},
   "outputs": [
    {
     "data": {
      "text/plain": [
       "\"new value\""
      ]
     },
     "execution_count": 53,
     "metadata": {},
     "output_type": "execute_result"
    }
   ],
   "source": [
    "m.a = \"new value\"\n",
    "m.a"
   ]
  },
  {
   "cell_type": "markdown",
   "id": "23b8a9aa",
   "metadata": {},
   "source": [
    "- Be warned that using mutable structs will almost certainly impact the performance of your program and should be avoided in performane critical code.\n",
    "\n",
    "\n",
    "- If you find yourself regularly reaching for mutable structs, it may be because you are still transitioning to the \"Julian\" way of thinking."
   ]
  },
  {
   "cell_type": "markdown",
   "id": "3f40571c",
   "metadata": {},
   "source": [
    "### 2.5. Avoid Abstract Type Annotations\n",
    "\n",
    "- To enable Julia to compile your source code into highly efficient machine code, it is strongly advised to avoid abstract type annotations in performance critical code. \n",
    "\n",
    "\n",
    "- For example, don't do this:"
   ]
  },
  {
   "cell_type": "code",
   "execution_count": 54,
   "id": "8a9b8220",
   "metadata": {},
   "outputs": [
    {
     "name": "stdout",
     "output_type": "stream",
     "text": [
      "  26.610 ns (1 allocation: 16 bytes)\n"
     ]
    },
    {
     "data": {
      "text/plain": [
       "12.0"
      ]
     },
     "execution_count": 54,
     "metadata": {},
     "output_type": "execute_result"
    }
   ],
   "source": [
    "struct TwoThings\n",
    "    a\n",
    "    b\n",
    "end\n",
    "\n",
    "function multiply(two_things)\n",
    "    return two_things.a * two_things.b\n",
    "end\n",
    "\n",
    "two_things = TwoThings(3.0, 4.0)\n",
    "\n",
    "@btime multiply(two_things)"
   ]
  },
  {
   "cell_type": "markdown",
   "id": "8bb4c59d",
   "metadata": {},
   "source": [
    "- Or this:"
   ]
  },
  {
   "cell_type": "code",
   "execution_count": 55,
   "id": "7707ba0d",
   "metadata": {
    "scrolled": true
   },
   "outputs": [
    {
     "name": "stdout",
     "output_type": "stream",
     "text": [
      "  27.751 ns (1 allocation: 16 bytes)\n"
     ]
    },
    {
     "data": {
      "text/plain": [
       "12.0"
      ]
     },
     "execution_count": 55,
     "metadata": {},
     "output_type": "execute_result"
    }
   ],
   "source": [
    "struct TwoAbstractFloats\n",
    "    a::AbstractFloat\n",
    "    b::AbstractFloat\n",
    "end\n",
    "\n",
    "two_floats = TwoAbstractFloats(3.0, 4.0)\n",
    "\n",
    "@btime multiply(two_floats)"
   ]
  },
  {
   "cell_type": "markdown",
   "id": "69ad543f",
   "metadata": {},
   "source": [
    "- What if we had used concrete type annotations instead?"
   ]
  },
  {
   "cell_type": "code",
   "execution_count": 56,
   "id": "e6b69f9f",
   "metadata": {},
   "outputs": [
    {
     "name": "stdout",
     "output_type": "stream",
     "text": [
      "  16.382 ns (1 allocation: 16 bytes)\n"
     ]
    },
    {
     "data": {
      "text/plain": [
       "12.0"
      ]
     },
     "execution_count": 56,
     "metadata": {},
     "output_type": "execute_result"
    }
   ],
   "source": [
    "struct TwoFloat64s\n",
    "    a::Float64\n",
    "    b::Float64\n",
    "end\n",
    "\n",
    "two_float64s = TwoFloat64s(3.0, 4.0)\n",
    "\n",
    "@btime multiply(two_float64s)"
   ]
  },
  {
   "cell_type": "code",
   "execution_count": 57,
   "id": "57d61159",
   "metadata": {},
   "outputs": [],
   "source": [
    "struct TwoFloat32\n",
    "    a::Float32\n",
    "    b::Float32\n",
    "end"
   ]
  },
  {
   "cell_type": "markdown",
   "id": "2193bdc3",
   "metadata": {},
   "source": [
    "- Even for such a trivial operation, we can see that there is a significant impact on speed due to the abstract type annotations.\n",
    "\n",
    "\n",
    "- However, we also don't want to create a new, distinct composite type for every possible combination of concrete field types. Fortunately, Julia's parametric type system provides convenient syntax for defining entire families of structs with concrete field types."
   ]
  },
  {
   "cell_type": "markdown",
   "id": "8b57ef4f",
   "metadata": {},
   "source": [
    "## 3. Parametric Types <a class=\"anchor\" id=\"parametric-types\"></a>\n",
    "\n",
    "- We just saw how to define composite types, or structs. For example, to define a point in 2D Cartesian space we could do:"
   ]
  },
  {
   "cell_type": "code",
   "execution_count": 58,
   "id": "c1061521",
   "metadata": {},
   "outputs": [],
   "source": [
    "struct PointGeneric\n",
    "    x\n",
    "    y\n",
    "end"
   ]
  },
  {
   "cell_type": "markdown",
   "id": "fb06fbd6",
   "metadata": {},
   "source": [
    "- In addition, we saw that we can annotate the struct's fields with types, either abstract or concrete, and that this can have consequences for the performance of our code. For example:"
   ]
  },
  {
   "cell_type": "code",
   "execution_count": 59,
   "id": "7319ba25",
   "metadata": {},
   "outputs": [],
   "source": [
    "struct PointFloat64\n",
    "    x::Float64\n",
    "    y::Float64\n",
    "end"
   ]
  },
  {
   "cell_type": "code",
   "execution_count": 60,
   "id": "a6a0668d",
   "metadata": {},
   "outputs": [
    {
     "data": {
      "text/plain": [
       "distance (generic function with 1 method)"
      ]
     },
     "execution_count": 60,
     "metadata": {},
     "output_type": "execute_result"
    }
   ],
   "source": [
    "function distance(point)\n",
    "    (; x, y) = point\n",
    "    return sqrt(x^2 + y^2)\n",
    "end"
   ]
  },
  {
   "cell_type": "code",
   "execution_count": 61,
   "id": "814488e0",
   "metadata": {},
   "outputs": [
    {
     "name": "stdout",
     "output_type": "stream",
     "text": [
      "  77.641 ns (4 allocations: 64 bytes)\n"
     ]
    },
    {
     "data": {
      "text/plain": [
       "5.0"
      ]
     },
     "execution_count": 61,
     "metadata": {},
     "output_type": "execute_result"
    }
   ],
   "source": [
    "p1 = PointGeneric(3.0, 4.0)\n",
    "@btime distance(p1)"
   ]
  },
  {
   "cell_type": "code",
   "execution_count": 62,
   "id": "bd1aed72",
   "metadata": {},
   "outputs": [
    {
     "name": "stdout",
     "output_type": "stream",
     "text": [
      "  16.170 ns (1 allocation: 16 bytes)\n"
     ]
    },
    {
     "data": {
      "text/plain": [
       "5.0"
      ]
     },
     "execution_count": 62,
     "metadata": {},
     "output_type": "execute_result"
    }
   ],
   "source": [
    "p2 = PointFloat64(3.0, 4.0)\n",
    "@btime distance(p2)"
   ]
  },
  {
   "cell_type": "markdown",
   "id": "ffed870b",
   "metadata": {},
   "source": [
    "- Creating a new `Point`-like type for every possible concrete type its fields could take is of course tedious and restrictive. Do not write code like this!"
   ]
  },
  {
   "cell_type": "markdown",
   "id": "64eeec30",
   "metadata": {},
   "source": [
    "### 3.1. Parametric Composite Types \n",
    "\n",
    "- Julia's type system is **parametric**: types can take parameters, such that type declarations actually introduce an entire family of new types - one for each possible combination of the parameter values.\n",
    "\n",
    "\n",
    "- We can think of this like a mathematical function with parameters, e.g. $f(x, y \\,; a, b)$.\n",
    "\n",
    "\n",
    "- Type parameters are introduced immediately after the type name, surrounded by curly braces:"
   ]
  },
  {
   "cell_type": "code",
   "execution_count": 63,
   "id": "f8c07e72",
   "metadata": {},
   "outputs": [],
   "source": [
    "struct Point{T}\n",
    "   x::T\n",
    "   y::T\n",
    "end"
   ]
  },
  {
   "cell_type": "markdown",
   "id": "8bc6a223",
   "metadata": {},
   "source": [
    "- `T`, the type parameter, can be *any* Julia type.\n",
    "\n",
    "\n",
    "- This particular declaration defines a new parametric type, `Point{T}`, holding two \"coordinates\", each of the same type `T`.\n",
    "\n",
    "\n",
    "- For example, `Point{Float64}` is a concrete type equivalent to the type defined by replacing `T` in the definition of `Point` with `Float64`. That is, `Point{Float64}` is equivalent to the `PointFloat64` struct that we defined earlier."
   ]
  },
  {
   "cell_type": "code",
   "execution_count": 65,
   "id": "36eaee6e",
   "metadata": {},
   "outputs": [
    {
     "data": {
      "text/plain": [
       "true"
      ]
     },
     "execution_count": 65,
     "metadata": {},
     "output_type": "execute_result"
    }
   ],
   "source": [
    "isconcretetype(Point{Float64})"
   ]
  },
  {
   "cell_type": "code",
   "execution_count": 67,
   "id": "e58a1436",
   "metadata": {},
   "outputs": [
    {
     "data": {
      "text/plain": [
       "Point{String}"
      ]
     },
     "execution_count": 67,
     "metadata": {},
     "output_type": "execute_result"
    }
   ],
   "source": [
    "Point{String}"
   ]
  },
  {
   "cell_type": "code",
   "execution_count": 68,
   "id": "52adf9fa",
   "metadata": {},
   "outputs": [
    {
     "name": "stdout",
     "output_type": "stream",
     "text": [
      "  79.734 ns (4 allocations: 64 bytes)\n"
     ]
    },
    {
     "data": {
      "text/plain": [
       "5.0"
      ]
     },
     "execution_count": 68,
     "metadata": {},
     "output_type": "execute_result"
    }
   ],
   "source": [
    "p3 = Point{Any}(3.0, 4.0)\n",
    "@btime distance(p3)"
   ]
  },
  {
   "cell_type": "code",
   "execution_count": 69,
   "id": "e8ed5c2a",
   "metadata": {},
   "outputs": [
    {
     "name": "stdout",
     "output_type": "stream",
     "text": [
      "  16.015 ns (1 allocation: 16 bytes)\n"
     ]
    },
    {
     "data": {
      "text/plain": [
       "5.0"
      ]
     },
     "execution_count": 69,
     "metadata": {},
     "output_type": "execute_result"
    }
   ],
   "source": [
    "p4 = Point{Float64}(3.0, 4.0)\n",
    "@btime distance(p4)"
   ]
  },
  {
   "cell_type": "code",
   "execution_count": 70,
   "id": "a9e37b5d",
   "metadata": {
    "scrolled": true
   },
   "outputs": [
    {
     "data": {
      "text/plain": [
       "true"
      ]
     },
     "execution_count": 70,
     "metadata": {},
     "output_type": "execute_result"
    }
   ],
   "source": [
    "isconcretetype(Point{Float64})"
   ]
  },
  {
   "cell_type": "code",
   "execution_count": 72,
   "id": "96a643f8",
   "metadata": {
    "scrolled": true
   },
   "outputs": [
    {
     "data": {
      "text/plain": [
       "false"
      ]
     },
     "execution_count": 72,
     "metadata": {},
     "output_type": "execute_result"
    }
   ],
   "source": [
    "isabstracttype(Point)"
   ]
  },
  {
   "cell_type": "code",
   "execution_count": 73,
   "id": "02f0abbd",
   "metadata": {},
   "outputs": [
    {
     "data": {
      "text/plain": [
       "true"
      ]
     },
     "execution_count": 73,
     "metadata": {},
     "output_type": "execute_result"
    }
   ],
   "source": [
    "isstructtype(Point)"
   ]
  },
  {
   "cell_type": "code",
   "execution_count": 74,
   "id": "0dba62e8",
   "metadata": {},
   "outputs": [
    {
     "data": {
      "text/plain": [
       "Point{Any}(3.0, 4.0)"
      ]
     },
     "execution_count": 74,
     "metadata": {},
     "output_type": "execute_result"
    }
   ],
   "source": [
    "p3"
   ]
  },
  {
   "cell_type": "code",
   "execution_count": 75,
   "id": "9b6bcffb",
   "metadata": {},
   "outputs": [
    {
     "data": {
      "text/plain": [
       "Point{Float64}(3.0, 4.0)"
      ]
     },
     "execution_count": 75,
     "metadata": {},
     "output_type": "execute_result"
    }
   ],
   "source": [
    "p4"
   ]
  },
  {
   "cell_type": "code",
   "execution_count": 76,
   "id": "b0bb9b7e",
   "metadata": {},
   "outputs": [
    {
     "data": {
      "text/plain": [
       "Point{Any}"
      ]
     },
     "execution_count": 76,
     "metadata": {},
     "output_type": "execute_result"
    }
   ],
   "source": [
    "typeof(p3)"
   ]
  },
  {
   "cell_type": "code",
   "execution_count": 77,
   "id": "216850b9",
   "metadata": {},
   "outputs": [
    {
     "data": {
      "text/plain": [
       "Point{Float64}"
      ]
     },
     "execution_count": 77,
     "metadata": {},
     "output_type": "execute_result"
    }
   ],
   "source": [
    "typeof(p4)"
   ]
  },
  {
   "cell_type": "markdown",
   "id": "42fd1e9e",
   "metadata": {},
   "source": [
    "- We see therefore that our parametric definition of `Point{T}` actually declares an unlimited number of types, one for each possible value of `T`, each of which is now a usable concrete type. "
   ]
  },
  {
   "cell_type": "markdown",
   "id": "2aada622",
   "metadata": {},
   "source": [
    "- When creating an instance of `Point`, the value of the parameter type `T` can be omitted if it is unambiguous:"
   ]
  },
  {
   "cell_type": "code",
   "execution_count": 80,
   "id": "db5699fe",
   "metadata": {},
   "outputs": [
    {
     "data": {
      "text/plain": [
       "Point{Float64}(1.0, 2.0)"
      ]
     },
     "execution_count": 80,
     "metadata": {},
     "output_type": "execute_result"
    }
   ],
   "source": [
    "Point(1.0, 2.0)"
   ]
  },
  {
   "cell_type": "code",
   "execution_count": 81,
   "id": "af8ce393",
   "metadata": {},
   "outputs": [
    {
     "data": {
      "text/plain": [
       "Point{String}(\"1.0\", \"2.0\")"
      ]
     },
     "execution_count": 81,
     "metadata": {},
     "output_type": "execute_result"
    }
   ],
   "source": [
    "Point(\"1.0\", \"2.0\")"
   ]
  },
  {
   "cell_type": "markdown",
   "id": "d0b9000d",
   "metadata": {},
   "source": [
    "- `Point` itself is a valid type object (neither abstract nor concrete!) containing all possible instances of `Point{T}` as subtypes:"
   ]
  },
  {
   "cell_type": "code",
   "execution_count": 83,
   "id": "5cade840",
   "metadata": {},
   "outputs": [
    {
     "data": {
      "text/plain": [
       "true"
      ]
     },
     "execution_count": 83,
     "metadata": {},
     "output_type": "execute_result"
    }
   ],
   "source": [
    "Point{Float64} <: Point"
   ]
  },
  {
   "cell_type": "code",
   "execution_count": 85,
   "id": "841a2c39",
   "metadata": {},
   "outputs": [
    {
     "data": {
      "text/plain": [
       "true"
      ]
     },
     "execution_count": 85,
     "metadata": {},
     "output_type": "execute_result"
    }
   ],
   "source": [
    "Point{Any} <: Point"
   ]
  },
  {
   "cell_type": "markdown",
   "id": "d2fba9d0",
   "metadata": {},
   "source": [
    "- However, concrete `Point` types with different values of `T` are never subtypes of each other:"
   ]
  },
  {
   "cell_type": "code",
   "execution_count": 88,
   "id": "820b5d64",
   "metadata": {},
   "outputs": [
    {
     "data": {
      "text/plain": [
       "false"
      ]
     },
     "execution_count": 88,
     "metadata": {},
     "output_type": "execute_result"
    }
   ],
   "source": [
    "Point{Float64} <: Point{AbstractFloat}"
   ]
  },
  {
   "cell_type": "code",
   "execution_count": 87,
   "id": "d27fd453",
   "metadata": {},
   "outputs": [
    {
     "data": {
      "text/plain": [
       "true"
      ]
     },
     "execution_count": 87,
     "metadata": {},
     "output_type": "execute_result"
    }
   ],
   "source": [
    "Float64 <: AbstractFloat"
   ]
  },
  {
   "cell_type": "markdown",
   "id": "09bc7de2",
   "metadata": {},
   "source": [
    "- This is because Julia's type system is **invariant**, which means that, for any three types `A`, `B`, `C`, where `C` is parametrised by another type, `A <: B` does not imply that `C{A} <: C{B}`."
   ]
  },
  {
   "cell_type": "markdown",
   "id": "b07ebb5e",
   "metadata": {},
   "source": [
    "- Often, we will want to restrict the possible values of the type parameter `T`. For example, to restrict our coordinates to real numbers, we could have done:"
   ]
  },
  {
   "cell_type": "code",
   "execution_count": 89,
   "id": "dabadc7c",
   "metadata": {},
   "outputs": [],
   "source": [
    "struct PointReal{T<:Real}\n",
    "   x::T\n",
    "   y::T\n",
    "end"
   ]
  },
  {
   "cell_type": "code",
   "execution_count": 90,
   "id": "2ed08394",
   "metadata": {
    "scrolled": true
   },
   "outputs": [
    {
     "ename": "LoadError",
     "evalue": "TypeError: in PointReal, in T, expected T<:Real, got Type{String}",
     "output_type": "error",
     "traceback": [
      "TypeError: in PointReal, in T, expected T<:Real, got Type{String}",
      "",
      "Stacktrace:",
      " [1] top-level scope",
      "   @ In[90]:1",
      " [2] eval",
      "   @ ./boot.jl:368 [inlined]",
      " [3] include_string(mapexpr::typeof(REPL.softscope), mod::Module, code::String, filename::String)",
      "   @ Base ./loading.jl:1428"
     ]
    }
   ],
   "source": [
    "PointReal{String}"
   ]
  },
  {
   "cell_type": "code",
   "execution_count": 91,
   "id": "25a86a59",
   "metadata": {},
   "outputs": [
    {
     "data": {
      "text/plain": [
       "count_subtypes (generic function with 1 method)"
      ]
     },
     "execution_count": 91,
     "metadata": {},
     "output_type": "execute_result"
    }
   ],
   "source": [
    "function count_subtypes(T)\n",
    "    count = 0\n",
    "    \n",
    "    for subtype in subtypes(T)\n",
    "        count += 1\n",
    "        if !isconcretetype(subtype)\n",
    "            count += count_subtypes(subtype)\n",
    "        end\n",
    "    end\n",
    "    \n",
    "    return count\n",
    "end"
   ]
  },
  {
   "cell_type": "code",
   "execution_count": 92,
   "id": "73cf0b43",
   "metadata": {},
   "outputs": [
    {
     "data": {
      "text/plain": [
       "23"
      ]
     },
     "execution_count": 92,
     "metadata": {},
     "output_type": "execute_result"
    }
   ],
   "source": [
    "count_subtypes(Real)"
   ]
  },
  {
   "cell_type": "code",
   "execution_count": 93,
   "id": "28532891",
   "metadata": {},
   "outputs": [
    {
     "name": "stdout",
     "output_type": "stream",
     "text": [
      "Real\n",
      "├─ AbstractFloat\n",
      "│  ├─ BigFloat\n",
      "│  ├─ Float16\n",
      "│  ├─ Float32\n",
      "│  └─ Float64\n",
      "├─ AbstractIrrational\n",
      "│  └─ Irrational\n",
      "├─ Integer\n",
      "│  ├─ Bool\n",
      "│  ├─ Signed\n",
      "│  │  ├─ BigInt\n",
      "│  │  ├─ Int128\n",
      "│  │  ├─ Int16\n",
      "│  │  ├─ Int32\n",
      "│  │  ├─ Int64\n",
      "│  │  └─ Int8\n",
      "│  └─ Unsigned\n",
      "│     ├─ UInt128\n",
      "│     ├─ UInt16\n",
      "│     ├─ UInt32\n",
      "│     ├─ UInt64\n",
      "│     └─ UInt8\n",
      "└─ Rational\n"
     ]
    }
   ],
   "source": [
    "print_tree(Real)"
   ]
  },
  {
   "cell_type": "markdown",
   "id": "46d3ad8f",
   "metadata": {},
   "source": [
    "- We can also have multiple type parameters for a single parametric type. For example:"
   ]
  },
  {
   "cell_type": "code",
   "execution_count": 94,
   "id": "bbc6c9df",
   "metadata": {},
   "outputs": [],
   "source": [
    "struct Person{A<:AbstractString, B<:Integer, C<:Real}\n",
    "    name::A\n",
    "    age::B\n",
    "    height::C\n",
    "    weight::C\n",
    "end"
   ]
  },
  {
   "cell_type": "code",
   "execution_count": 96,
   "id": "34f6a1de",
   "metadata": {},
   "outputs": [
    {
     "ename": "LoadError",
     "evalue": "MethodError: no method matching Person(::String, ::Int64, ::Float64, ::String)\n\u001b[0mClosest candidates are:\n\u001b[0m  Person(::A, ::B, ::C, \u001b[91m::C\u001b[39m) where {A<:AbstractString, B<:Integer, C<:Real} at In[94]:2",
     "output_type": "error",
     "traceback": [
      "MethodError: no method matching Person(::String, ::Int64, ::Float64, ::String)\n\u001b[0mClosest candidates are:\n\u001b[0m  Person(::A, ::B, ::C, \u001b[91m::C\u001b[39m) where {A<:AbstractString, B<:Integer, C<:Real} at In[94]:2",
      "",
      "Stacktrace:",
      " [1] top-level scope",
      "   @ In[96]:1",
      " [2] eval",
      "   @ ./boot.jl:368 [inlined]",
      " [3] include_string(mapexpr::typeof(REPL.softscope), mod::Module, code::String, filename::String)",
      "   @ Base ./loading.jl:1428"
     ]
    }
   ],
   "source": [
    "Person(\"Alistair\", 30, 1.0, \"1.0\")"
   ]
  },
  {
   "cell_type": "markdown",
   "id": "db4d27ab",
   "metadata": {},
   "source": [
    "### 3.2. Parametric Abstract Types\n",
    "\n",
    "- Parametric abstract type declarations declare a collection of abstract types, in much the same way:"
   ]
  },
  {
   "cell_type": "code",
   "execution_count": 97,
   "id": "4cefb62c",
   "metadata": {},
   "outputs": [],
   "source": [
    "abstract type Pointy{T} end"
   ]
  },
  {
   "cell_type": "markdown",
   "id": "1065984a",
   "metadata": {},
   "source": [
    "- Once again, our parametric type declaration defines an unlimited number of abstract types, one for every possible value of `T`.\n",
    "\n",
    "\n",
    "- We could have declared `Point{T}` to be a subtype of `Pointy{T}`. For example:"
   ]
  },
  {
   "cell_type": "code",
   "execution_count": 98,
   "id": "c98c2ad1",
   "metadata": {},
   "outputs": [],
   "source": [
    "struct Point2D{T} <: Pointy{T}\n",
    "   x::T\n",
    "   y::T\n",
    "end"
   ]
  },
  {
   "cell_type": "code",
   "execution_count": 99,
   "id": "482c5d70",
   "metadata": {},
   "outputs": [],
   "source": [
    "struct Point3D{T} <: Pointy{T}\n",
    "   x::T\n",
    "   y::T\n",
    "   z::T\n",
    "end"
   ]
  },
  {
   "cell_type": "markdown",
   "id": "819b7610",
   "metadata": {},
   "source": [
    "- We now have a distinct type tree for each allowed (real) value of `T`. For example:"
   ]
  },
  {
   "cell_type": "code",
   "execution_count": 100,
   "id": "1e26b446",
   "metadata": {},
   "outputs": [
    {
     "name": "stdout",
     "output_type": "stream",
     "text": [
      "Pointy{Float64}\n",
      "├─ Point2D{Float64}\n",
      "└─ Point3D{Float64}\n"
     ]
    }
   ],
   "source": [
    "print_tree(Pointy{Float64})"
   ]
  },
  {
   "cell_type": "code",
   "execution_count": 101,
   "id": "d37759d1",
   "metadata": {},
   "outputs": [
    {
     "name": "stdout",
     "output_type": "stream",
     "text": [
      "Pointy{Int32}\n",
      "├─ Point2D{Int32}\n",
      "└─ Point3D{Int32}\n"
     ]
    }
   ],
   "source": [
    "print_tree(Pointy{Int32})"
   ]
  },
  {
   "cell_type": "code",
   "execution_count": 102,
   "id": "ac9135c3",
   "metadata": {},
   "outputs": [
    {
     "name": "stdout",
     "output_type": "stream",
     "text": [
      "Pointy\n",
      "├─ Point2D\n",
      "└─ Point3D\n"
     ]
    }
   ],
   "source": [
    "print_tree(Pointy)"
   ]
  },
  {
   "cell_type": "markdown",
   "id": "3ca05333",
   "metadata": {},
   "source": [
    "## Summary So Far\n",
    "\n",
    "1. Types in Julia can be abstract or concrete.\n",
    "2. A composite type is introduced with the `struct` keyword and consists of a block of field names along with optional type annotations.\n",
    "3. Structs are immutable.\n",
    "4. Abstract type annotations can slow down your code.\n",
    "5. Parametric types define entire families of types."
   ]
  },
  {
   "cell_type": "markdown",
   "id": "47e13976",
   "metadata": {},
   "source": [
    "## 4. Methods and Multiple Dispatch <a class=\"anchor\" id=\"methods\"></a>\n",
    "\n",
    "### 4.1 Methods\n",
    "\n",
    "\n",
    "- Remember from the first lecture that a function maps a tuple of arguments to a return value.\n",
    "\n",
    "\n",
    "- From the Julia documentation (emphasis mine):\n",
    "\n",
    "\n",
    "> It is common for the same conceptual function or operation to be implemented quite differently for **different types of arguments**: adding two integers is very different from adding two floating-point numbers, both of which are distinct from adding an integer to a floating-point number. Despite their implementation differences, these operations all fall under the general concept of \"addition\". Accordingly, in Julia, these behaviors all belong to a single object: the + function.\n",
    "\n",
    "\n",
    "- Conceptually, we have one function (addition), with many possible behaviours, depending on the types of the inputs (integers, floats, matrices, and so on).\n",
    "\n",
    "\n",
    "- **A definition of one possible behaviour for a function, given the number and types of its arguments, is called a method.**"
   ]
  },
  {
   "cell_type": "code",
   "execution_count": 103,
   "id": "15e433f0",
   "metadata": {
    "scrolled": true
   },
   "outputs": [
    {
     "data": {
      "text/html": [
       "# 206 methods for generic function <b>+</b>:<ul><li> +(x::<b>T</b>, y::<b>T</b>)<i> where T<:Union{Int128, Int16, Int32, Int64, Int8, UInt128, UInt16, UInt32, UInt64, UInt8}</i> in Base at <a href=\"https://github.com/JuliaLang/julia/tree/36034abf26062acad4af9dcec7c4fc53b260dbb4/base/int.jl#L87\" target=\"_blank\">int.jl:87</a></li> <li> +(x::<b>T</b>, y::<b>T</b>)<i> where T<:Union{Float16, Float32, Float64}</i> in Base at <a href=\"https://github.com/JuliaLang/julia/tree/36034abf26062acad4af9dcec7c4fc53b260dbb4/base/float.jl#L383\" target=\"_blank\">float.jl:383</a></li> <li> +(c::<b>Union{UInt16, UInt32, UInt64, UInt8}</b>, x::<b>BigInt</b>) in Base.GMP at <a href=\"https://github.com/JuliaLang/julia/tree/36034abf26062acad4af9dcec7c4fc53b260dbb4/base/gmp.jl#L531\" target=\"_blank\">gmp.jl:531</a></li> <li> +(c::<b>Union{Int16, Int32, Int64, Int8}</b>, x::<b>BigInt</b>) in Base.GMP at <a href=\"https://github.com/JuliaLang/julia/tree/36034abf26062acad4af9dcec7c4fc53b260dbb4/base/gmp.jl#L537\" target=\"_blank\">gmp.jl:537</a></li> <li> +(c::<b>Union{UInt16, UInt32, UInt64, UInt8}</b>, x::<b>BigFloat</b>) in Base.MPFR at <a href=\"https://github.com/JuliaLang/julia/tree/36034abf26062acad4af9dcec7c4fc53b260dbb4/base/mpfr.jl#L398\" target=\"_blank\">mpfr.jl:398</a></li> <li> +(c::<b>Union{Int16, Int32, Int64, Int8}</b>, x::<b>BigFloat</b>) in Base.MPFR at <a href=\"https://github.com/JuliaLang/julia/tree/36034abf26062acad4af9dcec7c4fc53b260dbb4/base/mpfr.jl#L406\" target=\"_blank\">mpfr.jl:406</a></li> <li> +(c::<b>Union{Float16, Float32, Float64}</b>, x::<b>BigFloat</b>) in Base.MPFR at <a href=\"https://github.com/JuliaLang/julia/tree/36034abf26062acad4af9dcec7c4fc53b260dbb4/base/mpfr.jl#L414\" target=\"_blank\">mpfr.jl:414</a></li> <li> +(x::<b>Union{Dates.CompoundPeriod, Dates.Period}</b>) in Dates at <a href=\"file:///cache/build/default-amdci4-6/julialang/julia-release-1-dot-8/usr/share/julia/stdlib/v1.8/Dates/src/periods.jl\" target=\"_blank\">/opt/julia-1.8.2/share/julia/stdlib/v1.8/Dates/src/periods.jl:378</a></li> <li> +(A::<b>LinearAlgebra.Hermitian</b>, B::<b>LinearAlgebra.Hermitian</b>) in LinearAlgebra at <a href=\"file:///cache/build/default-amdci4-6/julialang/julia-release-1-dot-8/usr/share/julia/stdlib/v1.8/LinearAlgebra/src/symmetric.jl\" target=\"_blank\">/opt/julia-1.8.2/share/julia/stdlib/v1.8/LinearAlgebra/src/symmetric.jl:469</a></li> <li> +(A::<b>LinearAlgebra.Hermitian</b>, B::<b>LinearAlgebra.SymTridiagonal{var\"#s882\", V} where {var\"#s882\"<:Real, V<:AbstractVector{var\"#s882\"}}</b>) in LinearAlgebra at <a href=\"file:///cache/build/default-amdci4-6/julialang/julia-release-1-dot-8/usr/share/julia/stdlib/v1.8/LinearAlgebra/src/symmetric.jl\" target=\"_blank\">/opt/julia-1.8.2/share/julia/stdlib/v1.8/LinearAlgebra/src/symmetric.jl:488</a></li> <li> +(H::<b>LinearAlgebra.Hermitian</b>, D::<b>LinearAlgebra.Diagonal{var\"#s885\", V} where {var\"#s885\"<:Real, V<:AbstractVector{var\"#s885\"}}</b>) in LinearAlgebra at <a href=\"file:///cache/build/default-amdci4-6/julialang/julia-release-1-dot-8/usr/share/julia/stdlib/v1.8/LinearAlgebra/src/diagonal.jl\" target=\"_blank\">/opt/julia-1.8.2/share/julia/stdlib/v1.8/LinearAlgebra/src/diagonal.jl:197</a></li> <li> +(A::<b>LinearAlgebra.Hermitian</b>, J::<b>LinearAlgebra.UniformScaling{<:Complex}</b>) in LinearAlgebra at <a href=\"file:///cache/build/default-amdci4-6/julialang/julia-release-1-dot-8/usr/share/julia/stdlib/v1.8/LinearAlgebra/src/uniformscaling.jl\" target=\"_blank\">/opt/julia-1.8.2/share/julia/stdlib/v1.8/LinearAlgebra/src/uniformscaling.jl:195</a></li> <li> +(A::<b>LinearAlgebra.Hermitian{<:Any, <:SparseArrays.AbstractSparseMatrix}</b>, B::<b>SparseArrays.AbstractSparseMatrix</b>) in SparseArrays at <a href=\"file:///cache/build/default-amdci4-6/julialang/julia-release-1-dot-8/usr/share/julia/stdlib/v1.8/SparseArrays/src/linalg.jl\" target=\"_blank\">/opt/julia-1.8.2/share/julia/stdlib/v1.8/SparseArrays/src/linalg.jl:15</a></li> <li> +(A::<b>LinearAlgebra.Hermitian</b>, B::<b>SparseArrays.AbstractSparseMatrix</b>) in SparseArrays at <a href=\"file:///cache/build/default-amdci4-6/julialang/julia-release-1-dot-8/usr/share/julia/stdlib/v1.8/SparseArrays/src/linalg.jl\" target=\"_blank\">/opt/julia-1.8.2/share/julia/stdlib/v1.8/SparseArrays/src/linalg.jl:18</a></li> <li> +(A::<b>LinearAlgebra.Hermitian{<:Any, <:SparseArrays.AbstractSparseMatrix}</b>, B::<b>LinearAlgebra.Symmetric{<:Real, <:SparseArrays.AbstractSparseMatrix}</b>) in SparseArrays at <a href=\"file:///cache/build/default-amdci4-6/julialang/julia-release-1-dot-8/usr/share/julia/stdlib/v1.8/SparseArrays/src/linalg.jl\" target=\"_blank\">/opt/julia-1.8.2/share/julia/stdlib/v1.8/SparseArrays/src/linalg.jl:26</a></li> <li> +(A::<b>LinearAlgebra.Hermitian</b>, B::<b>LinearAlgebra.Symmetric{var\"#s885\", S} where {var\"#s885\"<:Real, S<:(AbstractMatrix{<:var\"#s885\"})}</b>) in LinearAlgebra at <a href=\"file:///cache/build/default-amdci4-6/julialang/julia-release-1-dot-8/usr/share/julia/stdlib/v1.8/LinearAlgebra/src/symmetric.jl\" target=\"_blank\">/opt/julia-1.8.2/share/julia/stdlib/v1.8/LinearAlgebra/src/symmetric.jl:483</a></li> <li> +(A::<b>LinearAlgebra.Hermitian{<:Any, <:SparseArrays.AbstractSparseMatrix}</b>, B::<b>LinearAlgebra.Symmetric{<:Any, <:SparseArrays.AbstractSparseMatrix}</b>) in SparseArrays at <a href=\"file:///cache/build/default-amdci4-6/julialang/julia-release-1-dot-8/usr/share/julia/stdlib/v1.8/SparseArrays/src/linalg.jl\" target=\"_blank\">/opt/julia-1.8.2/share/julia/stdlib/v1.8/SparseArrays/src/linalg.jl:24</a></li> <li> +(x::<b>P</b>, y::<b>P</b>)<i> where P<:Dates.Period</i> in Dates at <a href=\"file:///cache/build/default-amdci4-6/julialang/julia-release-1-dot-8/usr/share/julia/stdlib/v1.8/Dates/src/periods.jl\" target=\"_blank\">/opt/julia-1.8.2/share/julia/stdlib/v1.8/Dates/src/periods.jl:77</a></li> <li> +(x::<b>Dates.Period</b>, y::<b>Dates.Period</b>) in Dates at <a href=\"file:///cache/build/default-amdci4-6/julialang/julia-release-1-dot-8/usr/share/julia/stdlib/v1.8/Dates/src/periods.jl\" target=\"_blank\">/opt/julia-1.8.2/share/julia/stdlib/v1.8/Dates/src/periods.jl:367</a></li> <li> +(y::<b>Dates.Period</b>, x::<b>Dates.CompoundPeriod</b>) in Dates at <a href=\"file:///cache/build/default-amdci4-6/julialang/julia-release-1-dot-8/usr/share/julia/stdlib/v1.8/Dates/src/periods.jl\" target=\"_blank\">/opt/julia-1.8.2/share/julia/stdlib/v1.8/Dates/src/periods.jl:369</a></li> <li> +(y::<b>Dates.Period</b>, x::<b>Dates.TimeType</b>) in Dates at <a href=\"file:///cache/build/default-amdci4-6/julialang/julia-release-1-dot-8/usr/share/julia/stdlib/v1.8/Dates/src/arithmetic.jl\" target=\"_blank\">/opt/julia-1.8.2/share/julia/stdlib/v1.8/Dates/src/arithmetic.jl:85</a></li> <li> +(x::<b>Dates.Period</b>, r::<b>AbstractRange{<:Dates.TimeType}</b>) in Dates at <a href=\"file:///cache/build/default-amdci4-6/julialang/julia-release-1-dot-8/usr/share/julia/stdlib/v1.8/Dates/src/ranges.jl\" target=\"_blank\">/opt/julia-1.8.2/share/julia/stdlib/v1.8/Dates/src/ranges.jl:63</a></li> <li> +(y::<b>Union{Dates.CompoundPeriod, Dates.Period}</b>, x::<b>AbstractArray{<:Dates.TimeType}</b>) in Dates at <a href=\"file:///cache/build/default-amdci4-6/julialang/julia-release-1-dot-8/usr/share/julia/stdlib/v1.8/Dates/src/deprecated.jl\" target=\"_blank\">/opt/julia-1.8.2/share/julia/stdlib/v1.8/Dates/src/deprecated.jl:14</a></li> <li> +(A::<b>SparseArrays.AbstractSparseMatrix</b>, B::<b>LinearAlgebra.Hermitian{<:Any, <:SparseArrays.AbstractSparseMatrix}</b>) in SparseArrays at <a href=\"file:///cache/build/default-amdci4-6/julialang/julia-release-1-dot-8/usr/share/julia/stdlib/v1.8/SparseArrays/src/linalg.jl\" target=\"_blank\">/opt/julia-1.8.2/share/julia/stdlib/v1.8/SparseArrays/src/linalg.jl:14</a></li> <li> +(A::<b>SparseArrays.AbstractSparseMatrix</b>, B::<b>LinearAlgebra.Hermitian</b>) in SparseArrays at <a href=\"file:///cache/build/default-amdci4-6/julialang/julia-release-1-dot-8/usr/share/julia/stdlib/v1.8/SparseArrays/src/linalg.jl\" target=\"_blank\">/opt/julia-1.8.2/share/julia/stdlib/v1.8/SparseArrays/src/linalg.jl:17</a></li> <li> +(A::<b>SparseArrays.AbstractSparseMatrix</b>, B::<b>LinearAlgebra.Symmetric{<:Any, <:SparseArrays.AbstractSparseMatrix}</b>) in SparseArrays at <a href=\"file:///cache/build/default-amdci4-6/julialang/julia-release-1-dot-8/usr/share/julia/stdlib/v1.8/SparseArrays/src/linalg.jl\" target=\"_blank\">/opt/julia-1.8.2/share/julia/stdlib/v1.8/SparseArrays/src/linalg.jl:14</a></li> <li> +(A::<b>SparseArrays.AbstractSparseMatrix</b>, B::<b>LinearAlgebra.Symmetric</b>) in SparseArrays at <a href=\"file:///cache/build/default-amdci4-6/julialang/julia-release-1-dot-8/usr/share/julia/stdlib/v1.8/SparseArrays/src/linalg.jl\" target=\"_blank\">/opt/julia-1.8.2/share/julia/stdlib/v1.8/SparseArrays/src/linalg.jl:17</a></li> <li> +(A::<b>LinearAlgebra.UpperTriangular</b>, B::<b>LinearAlgebra.UpperTriangular</b>) in LinearAlgebra at <a href=\"file:///cache/build/default-amdci4-6/julialang/julia-release-1-dot-8/usr/share/julia/stdlib/v1.8/LinearAlgebra/src/triangular.jl\" target=\"_blank\">/opt/julia-1.8.2/share/julia/stdlib/v1.8/LinearAlgebra/src/triangular.jl:638</a></li> <li> +(A::<b>LinearAlgebra.UpperTriangular</b>, B::<b>LinearAlgebra.UnitUpperTriangular</b>) in LinearAlgebra at <a href=\"file:///cache/build/default-amdci4-6/julialang/julia-release-1-dot-8/usr/share/julia/stdlib/v1.8/LinearAlgebra/src/triangular.jl\" target=\"_blank\">/opt/julia-1.8.2/share/julia/stdlib/v1.8/LinearAlgebra/src/triangular.jl:640</a></li> <li> +(x::<b>LinearAlgebra.UpperTriangular</b>, H::<b>LinearAlgebra.UpperHessenberg</b>) in LinearAlgebra at <a href=\"file:///cache/build/default-amdci4-6/julialang/julia-release-1-dot-8/usr/share/julia/stdlib/v1.8/LinearAlgebra/src/hessenberg.jl\" target=\"_blank\">/opt/julia-1.8.2/share/julia/stdlib/v1.8/LinearAlgebra/src/hessenberg.jl:109</a></li> <li> +(A::<b>LinearAlgebra.UpperTriangular</b>, B::<b>LinearAlgebra.Bidiagonal</b>) in LinearAlgebra at <a href=\"file:///cache/build/default-amdci4-6/julialang/julia-release-1-dot-8/usr/share/julia/stdlib/v1.8/LinearAlgebra/src/special.jl\" target=\"_blank\">/opt/julia-1.8.2/share/julia/stdlib/v1.8/LinearAlgebra/src/special.jl:98</a></li> <li> +(A::<b>BitArray</b>, B::<b>BitArray</b>) in Base at <a href=\"https://github.com/JuliaLang/julia/tree/36034abf26062acad4af9dcec7c4fc53b260dbb4/base/bitarray.jl#L1184\" target=\"_blank\">bitarray.jl:1184</a></li> <li> +(A::<b>LinearAlgebra.UnitUpperTriangular</b>, B::<b>LinearAlgebra.UpperTriangular</b>) in LinearAlgebra at <a href=\"file:///cache/build/default-amdci4-6/julialang/julia-release-1-dot-8/usr/share/julia/stdlib/v1.8/LinearAlgebra/src/triangular.jl\" target=\"_blank\">/opt/julia-1.8.2/share/julia/stdlib/v1.8/LinearAlgebra/src/triangular.jl:642</a></li> <li> +(A::<b>LinearAlgebra.UnitUpperTriangular</b>, B::<b>LinearAlgebra.UnitUpperTriangular</b>) in LinearAlgebra at <a href=\"file:///cache/build/default-amdci4-6/julialang/julia-release-1-dot-8/usr/share/julia/stdlib/v1.8/LinearAlgebra/src/triangular.jl\" target=\"_blank\">/opt/julia-1.8.2/share/julia/stdlib/v1.8/LinearAlgebra/src/triangular.jl:644</a></li> <li> +(UL::<b>LinearAlgebra.UnitUpperTriangular</b>, J::<b>LinearAlgebra.UniformScaling</b>) in LinearAlgebra at <a href=\"file:///cache/build/default-amdci4-6/julialang/julia-release-1-dot-8/usr/share/julia/stdlib/v1.8/LinearAlgebra/src/uniformscaling.jl\" target=\"_blank\">/opt/julia-1.8.2/share/julia/stdlib/v1.8/LinearAlgebra/src/uniformscaling.jl:181</a></li> <li> +(x::<b>LinearAlgebra.UnitUpperTriangular</b>, H::<b>LinearAlgebra.UpperHessenberg</b>) in LinearAlgebra at <a href=\"file:///cache/build/default-amdci4-6/julialang/julia-release-1-dot-8/usr/share/julia/stdlib/v1.8/LinearAlgebra/src/hessenberg.jl\" target=\"_blank\">/opt/julia-1.8.2/share/julia/stdlib/v1.8/LinearAlgebra/src/hessenberg.jl:109</a></li> <li> +(A::<b>LinearAlgebra.UnitUpperTriangular</b>, B::<b>LinearAlgebra.Bidiagonal</b>) in LinearAlgebra at <a href=\"file:///cache/build/default-amdci4-6/julialang/julia-release-1-dot-8/usr/share/julia/stdlib/v1.8/LinearAlgebra/src/special.jl\" target=\"_blank\">/opt/julia-1.8.2/share/julia/stdlib/v1.8/LinearAlgebra/src/special.jl:98</a></li> <li> +(z::<b>Complex</b>, w::<b>Complex</b>) in Base at <a href=\"https://github.com/JuliaLang/julia/tree/36034abf26062acad4af9dcec7c4fc53b260dbb4/base/complex.jl#L288\" target=\"_blank\">complex.jl:288</a></li> <li> +(Da::<b>LinearAlgebra.Diagonal</b>, Db::<b>LinearAlgebra.Diagonal</b>) in LinearAlgebra at <a href=\"file:///cache/build/default-amdci4-6/julialang/julia-release-1-dot-8/usr/share/julia/stdlib/v1.8/LinearAlgebra/src/diagonal.jl\" target=\"_blank\">/opt/julia-1.8.2/share/julia/stdlib/v1.8/LinearAlgebra/src/diagonal.jl:184</a></li> <li> +(D::<b>LinearAlgebra.Diagonal</b>, S::<b>LinearAlgebra.Symmetric</b>) in LinearAlgebra at <a href=\"file:///cache/build/default-amdci4-6/julialang/julia-release-1-dot-8/usr/share/julia/stdlib/v1.8/LinearAlgebra/src/diagonal.jl\" target=\"_blank\">/opt/julia-1.8.2/share/julia/stdlib/v1.8/LinearAlgebra/src/diagonal.jl:188</a></li> <li> +(D::<b>LinearAlgebra.Diagonal{var\"#s885\", V} where {var\"#s885\"<:Real, V<:AbstractVector{var\"#s885\"}}</b>, H::<b>LinearAlgebra.Hermitian</b>) in LinearAlgebra at <a href=\"file:///cache/build/default-amdci4-6/julialang/julia-release-1-dot-8/usr/share/julia/stdlib/v1.8/LinearAlgebra/src/diagonal.jl\" target=\"_blank\">/opt/julia-1.8.2/share/julia/stdlib/v1.8/LinearAlgebra/src/diagonal.jl:194</a></li> <li> +(x::<b>LinearAlgebra.Diagonal</b>, H::<b>LinearAlgebra.UpperHessenberg</b>) in LinearAlgebra at <a href=\"file:///cache/build/default-amdci4-6/julialang/julia-release-1-dot-8/usr/share/julia/stdlib/v1.8/LinearAlgebra/src/hessenberg.jl\" target=\"_blank\">/opt/julia-1.8.2/share/julia/stdlib/v1.8/LinearAlgebra/src/hessenberg.jl:109</a></li> <li> +(A::<b>LinearAlgebra.Diagonal</b>, B::<b>LinearAlgebra.Bidiagonal</b>) in LinearAlgebra at <a href=\"file:///cache/build/default-amdci4-6/julialang/julia-release-1-dot-8/usr/share/julia/stdlib/v1.8/LinearAlgebra/src/special.jl\" target=\"_blank\">/opt/julia-1.8.2/share/julia/stdlib/v1.8/LinearAlgebra/src/special.jl:137</a></li> <li> +(A::<b>LinearAlgebra.Diagonal</b>, B::<b>LinearAlgebra.SymTridiagonal</b>) in LinearAlgebra at <a href=\"file:///cache/build/default-amdci4-6/julialang/julia-release-1-dot-8/usr/share/julia/stdlib/v1.8/LinearAlgebra/src/special.jl\" target=\"_blank\">/opt/julia-1.8.2/share/julia/stdlib/v1.8/LinearAlgebra/src/special.jl:147</a></li> <li> +(A::<b>LinearAlgebra.Diagonal</b>, B::<b>LinearAlgebra.Tridiagonal</b>) in LinearAlgebra at <a href=\"file:///cache/build/default-amdci4-6/julialang/julia-release-1-dot-8/usr/share/julia/stdlib/v1.8/LinearAlgebra/src/special.jl\" target=\"_blank\">/opt/julia-1.8.2/share/julia/stdlib/v1.8/LinearAlgebra/src/special.jl:175</a></li> <li> +(A::<b>LinearAlgebra.Diagonal{var\"#s885\", V} where {var\"#s885\"<:Number, V<:AbstractVector{var\"#s885\"}}</b>, B::<b>LinearAlgebra.UniformScaling</b>) in LinearAlgebra at <a href=\"file:///cache/build/default-amdci4-6/julialang/julia-release-1-dot-8/usr/share/julia/stdlib/v1.8/LinearAlgebra/src/special.jl\" target=\"_blank\">/opt/julia-1.8.2/share/julia/stdlib/v1.8/LinearAlgebra/src/special.jl:253</a></li> <li> +(r1::<b>LinRange{T}</b>, r2::<b>LinRange{T}</b>)<i> where T</i> in Base at <a href=\"https://github.com/JuliaLang/julia/tree/36034abf26062acad4af9dcec7c4fc53b260dbb4/base/range.jl#L1431\" target=\"_blank\">range.jl:1431</a></li> <li> +(x::<b>Rational</b>, y::<b>Integer</b>) in Base at <a href=\"https://github.com/JuliaLang/julia/tree/36034abf26062acad4af9dcec7c4fc53b260dbb4/base/rational.jl#L313\" target=\"_blank\">rational.jl:313</a></li> <li> +(x::<b>AbstractIrrational</b>, y::<b>AbstractIrrational</b>) in Base at <a href=\"https://github.com/JuliaLang/julia/tree/36034abf26062acad4af9dcec7c4fc53b260dbb4/base/irrationals.jl#L158\" target=\"_blank\">irrationals.jl:158</a></li> <li> +(A::<b>LinearAlgebra.UnitLowerTriangular</b>, B::<b>LinearAlgebra.LowerTriangular</b>) in LinearAlgebra at <a href=\"file:///cache/build/default-amdci4-6/julialang/julia-release-1-dot-8/usr/share/julia/stdlib/v1.8/LinearAlgebra/src/triangular.jl\" target=\"_blank\">/opt/julia-1.8.2/share/julia/stdlib/v1.8/LinearAlgebra/src/triangular.jl:643</a></li> <li> +(A::<b>LinearAlgebra.UnitLowerTriangular</b>, B::<b>LinearAlgebra.UnitLowerTriangular</b>) in LinearAlgebra at <a href=\"file:///cache/build/default-amdci4-6/julialang/julia-release-1-dot-8/usr/share/julia/stdlib/v1.8/LinearAlgebra/src/triangular.jl\" target=\"_blank\">/opt/julia-1.8.2/share/julia/stdlib/v1.8/LinearAlgebra/src/triangular.jl:645</a></li> <li> +(UL::<b>LinearAlgebra.UnitLowerTriangular</b>, J::<b>LinearAlgebra.UniformScaling</b>) in LinearAlgebra at <a href=\"file:///cache/build/default-amdci4-6/julialang/julia-release-1-dot-8/usr/share/julia/stdlib/v1.8/LinearAlgebra/src/uniformscaling.jl\" target=\"_blank\">/opt/julia-1.8.2/share/julia/stdlib/v1.8/LinearAlgebra/src/uniformscaling.jl:181</a></li> <li> +(A::<b>LinearAlgebra.UnitLowerTriangular</b>, B::<b>LinearAlgebra.Bidiagonal</b>) in LinearAlgebra at <a href=\"file:///cache/build/default-amdci4-6/julialang/julia-release-1-dot-8/usr/share/julia/stdlib/v1.8/LinearAlgebra/src/special.jl\" target=\"_blank\">/opt/julia-1.8.2/share/julia/stdlib/v1.8/LinearAlgebra/src/special.jl:98</a></li> <li> +(x::<b>T</b>, y::<b>Integer</b>)<i> where T<:AbstractChar</i> in Base at <a href=\"https://github.com/JuliaLang/julia/tree/36034abf26062acad4af9dcec7c4fc53b260dbb4/base/char.jl#L237\" target=\"_blank\">char.jl:237</a></li> <li> +(A::<b>LinearAlgebra.SymTridiagonal</b>, B::<b>LinearAlgebra.SymTridiagonal</b>) in LinearAlgebra at <a href=\"file:///cache/build/default-amdci4-6/julialang/julia-release-1-dot-8/usr/share/julia/stdlib/v1.8/LinearAlgebra/src/tridiag.jl\" target=\"_blank\">/opt/julia-1.8.2/share/julia/stdlib/v1.8/LinearAlgebra/src/tridiag.jl:207</a></li> <li> +(A::<b>LinearAlgebra.SymTridiagonal</b>, B::<b>LinearAlgebra.Symmetric</b>) in LinearAlgebra at <a href=\"file:///cache/build/default-amdci4-6/julialang/julia-release-1-dot-8/usr/share/julia/stdlib/v1.8/LinearAlgebra/src/symmetric.jl\" target=\"_blank\">/opt/julia-1.8.2/share/julia/stdlib/v1.8/LinearAlgebra/src/symmetric.jl:485</a></li> <li> +(A::<b>LinearAlgebra.SymTridiagonal{var\"#s883\", V} where {var\"#s883\"<:Real, V<:AbstractVector{var\"#s883\"}}</b>, B::<b>LinearAlgebra.Hermitian</b>) in LinearAlgebra at <a href=\"file:///cache/build/default-amdci4-6/julialang/julia-release-1-dot-8/usr/share/julia/stdlib/v1.8/LinearAlgebra/src/symmetric.jl\" target=\"_blank\">/opt/julia-1.8.2/share/julia/stdlib/v1.8/LinearAlgebra/src/symmetric.jl:487</a></li> <li> +(x::<b>LinearAlgebra.SymTridiagonal</b>, H::<b>LinearAlgebra.UpperHessenberg</b>) in LinearAlgebra at <a href=\"file:///cache/build/default-amdci4-6/julialang/julia-release-1-dot-8/usr/share/julia/stdlib/v1.8/LinearAlgebra/src/hessenberg.jl\" target=\"_blank\">/opt/julia-1.8.2/share/julia/stdlib/v1.8/LinearAlgebra/src/hessenberg.jl:109</a></li> <li> +(A::<b>LinearAlgebra.SymTridiagonal</b>, B::<b>LinearAlgebra.Diagonal</b>) in LinearAlgebra at <a href=\"file:///cache/build/default-amdci4-6/julialang/julia-release-1-dot-8/usr/share/julia/stdlib/v1.8/LinearAlgebra/src/special.jl\" target=\"_blank\">/opt/julia-1.8.2/share/julia/stdlib/v1.8/LinearAlgebra/src/special.jl:157</a></li> <li> +(A::<b>LinearAlgebra.SymTridiagonal</b>, B::<b>LinearAlgebra.Tridiagonal</b>) in LinearAlgebra at <a href=\"file:///cache/build/default-amdci4-6/julialang/julia-release-1-dot-8/usr/share/julia/stdlib/v1.8/LinearAlgebra/src/special.jl\" target=\"_blank\">/opt/julia-1.8.2/share/julia/stdlib/v1.8/LinearAlgebra/src/special.jl:171</a></li> <li> +(A::<b>LinearAlgebra.SymTridiagonal</b>, B::<b>LinearAlgebra.Bidiagonal</b>) in LinearAlgebra at <a href=\"file:///cache/build/default-amdci4-6/julialang/julia-release-1-dot-8/usr/share/julia/stdlib/v1.8/LinearAlgebra/src/special.jl\" target=\"_blank\">/opt/julia-1.8.2/share/julia/stdlib/v1.8/LinearAlgebra/src/special.jl:225</a></li> <li> +(A::<b>LinearAlgebra.SymTridiagonal{var\"#s885\", V} where {var\"#s885\"<:Number, V<:AbstractVector{var\"#s885\"}}</b>, B::<b>LinearAlgebra.UniformScaling</b>) in LinearAlgebra at <a href=\"file:///cache/build/default-amdci4-6/julialang/julia-release-1-dot-8/usr/share/julia/stdlib/v1.8/LinearAlgebra/src/special.jl\" target=\"_blank\">/opt/julia-1.8.2/share/julia/stdlib/v1.8/LinearAlgebra/src/special.jl:243</a></li> <li> +(A::<b>LinearAlgebra.LowerTriangular</b>, B::<b>LinearAlgebra.LowerTriangular</b>) in LinearAlgebra at <a href=\"file:///cache/build/default-amdci4-6/julialang/julia-release-1-dot-8/usr/share/julia/stdlib/v1.8/LinearAlgebra/src/triangular.jl\" target=\"_blank\">/opt/julia-1.8.2/share/julia/stdlib/v1.8/LinearAlgebra/src/triangular.jl:639</a></li> <li> +(A::<b>LinearAlgebra.LowerTriangular</b>, B::<b>LinearAlgebra.UnitLowerTriangular</b>) in LinearAlgebra at <a href=\"file:///cache/build/default-amdci4-6/julialang/julia-release-1-dot-8/usr/share/julia/stdlib/v1.8/LinearAlgebra/src/triangular.jl\" target=\"_blank\">/opt/julia-1.8.2/share/julia/stdlib/v1.8/LinearAlgebra/src/triangular.jl:641</a></li> <li> +(A::<b>LinearAlgebra.LowerTriangular</b>, B::<b>LinearAlgebra.Bidiagonal</b>) in LinearAlgebra at <a href=\"file:///cache/build/default-amdci4-6/julialang/julia-release-1-dot-8/usr/share/julia/stdlib/v1.8/LinearAlgebra/src/special.jl\" target=\"_blank\">/opt/julia-1.8.2/share/julia/stdlib/v1.8/LinearAlgebra/src/special.jl:98</a></li> <li> +(A::<b>LinearAlgebra.Tridiagonal</b>, B::<b>LinearAlgebra.Tridiagonal</b>) in LinearAlgebra at <a href=\"file:///cache/build/default-amdci4-6/julialang/julia-release-1-dot-8/usr/share/julia/stdlib/v1.8/LinearAlgebra/src/tridiag.jl\" target=\"_blank\">/opt/julia-1.8.2/share/julia/stdlib/v1.8/LinearAlgebra/src/tridiag.jl:741</a></li> <li> +(x::<b>LinearAlgebra.Tridiagonal</b>, H::<b>LinearAlgebra.UpperHessenberg</b>) in LinearAlgebra at <a href=\"file:///cache/build/default-amdci4-6/julialang/julia-release-1-dot-8/usr/share/julia/stdlib/v1.8/LinearAlgebra/src/hessenberg.jl\" target=\"_blank\">/opt/julia-1.8.2/share/julia/stdlib/v1.8/LinearAlgebra/src/hessenberg.jl:109</a></li> <li> +(A::<b>LinearAlgebra.Tridiagonal</b>, B::<b>LinearAlgebra.SymTridiagonal</b>) in LinearAlgebra at <a href=\"file:///cache/build/default-amdci4-6/julialang/julia-release-1-dot-8/usr/share/julia/stdlib/v1.8/LinearAlgebra/src/special.jl\" target=\"_blank\">/opt/julia-1.8.2/share/julia/stdlib/v1.8/LinearAlgebra/src/special.jl:169</a></li> <li> +(A::<b>LinearAlgebra.Tridiagonal</b>, B::<b>LinearAlgebra.Diagonal</b>) in LinearAlgebra at <a href=\"file:///cache/build/default-amdci4-6/julialang/julia-release-1-dot-8/usr/share/julia/stdlib/v1.8/LinearAlgebra/src/special.jl\" target=\"_blank\">/opt/julia-1.8.2/share/julia/stdlib/v1.8/LinearAlgebra/src/special.jl:185</a></li> <li> +(A::<b>LinearAlgebra.Tridiagonal</b>, B::<b>LinearAlgebra.Bidiagonal</b>) in LinearAlgebra at <a href=\"file:///cache/build/default-amdci4-6/julialang/julia-release-1-dot-8/usr/share/julia/stdlib/v1.8/LinearAlgebra/src/special.jl\" target=\"_blank\">/opt/julia-1.8.2/share/julia/stdlib/v1.8/LinearAlgebra/src/special.jl:205</a></li> <li> +(A::<b>LinearAlgebra.Tridiagonal{var\"#s885\", V} where {var\"#s885\"<:Number, V<:AbstractVector{var\"#s885\"}}</b>, B::<b>LinearAlgebra.UniformScaling</b>) in LinearAlgebra at <a href=\"file:///cache/build/default-amdci4-6/julialang/julia-release-1-dot-8/usr/share/julia/stdlib/v1.8/LinearAlgebra/src/special.jl\" target=\"_blank\">/opt/julia-1.8.2/share/julia/stdlib/v1.8/LinearAlgebra/src/special.jl:238</a></li> <li> +(index1::<b>CartesianIndex{N}</b>, index2::<b>CartesianIndex{N}</b>)<i> where N</i> in Base.IteratorsMD at <a href=\"https://github.com/JuliaLang/julia/tree/36034abf26062acad4af9dcec7c4fc53b260dbb4/base/multidimensional.jl#L114\" target=\"_blank\">multidimensional.jl:114</a></li> <li> +(r1::<b>OrdinalRange</b>, r2::<b>OrdinalRange</b>) in Base at <a href=\"https://github.com/JuliaLang/julia/tree/36034abf26062acad4af9dcec7c4fc53b260dbb4/base/range.jl#L1424\" target=\"_blank\">range.jl:1424</a></li> <li> +(y::<b>AbstractFloat</b>, x::<b>Bool</b>) in Base at <a href=\"https://github.com/JuliaLang/julia/tree/36034abf26062acad4af9dcec7c4fc53b260dbb4/base/bool.jl#L172\" target=\"_blank\">bool.jl:172</a></li> <li> +(y::<b>Dates.TimeType</b>, x::<b>StridedArray{<:Union{Dates.CompoundPeriod, Dates.Period}}</b>) in Dates at <a href=\"file:///cache/build/default-amdci4-6/julialang/julia-release-1-dot-8/usr/share/julia/stdlib/v1.8/Dates/src/deprecated.jl\" target=\"_blank\">/opt/julia-1.8.2/share/julia/stdlib/v1.8/Dates/src/deprecated.jl:18</a></li> <li> +(x::<b>Dates.Instant</b>) in Dates at <a href=\"file:///cache/build/default-amdci4-6/julialang/julia-release-1-dot-8/usr/share/julia/stdlib/v1.8/Dates/src/arithmetic.jl\" target=\"_blank\">/opt/julia-1.8.2/share/julia/stdlib/v1.8/Dates/src/arithmetic.jl:4</a></li> <li> +(A::<b>LinearAlgebra.Bidiagonal</b>, B::<b>LinearAlgebra.Bidiagonal</b>) in LinearAlgebra at <a href=\"file:///cache/build/default-amdci4-6/julialang/julia-release-1-dot-8/usr/share/julia/stdlib/v1.8/LinearAlgebra/src/bidiag.jl\" target=\"_blank\">/opt/julia-1.8.2/share/julia/stdlib/v1.8/LinearAlgebra/src/bidiag.jl:365</a></li> <li> +(x::<b>LinearAlgebra.Bidiagonal</b>, H::<b>LinearAlgebra.UpperHessenberg</b>) in LinearAlgebra at <a href=\"file:///cache/build/default-amdci4-6/julialang/julia-release-1-dot-8/usr/share/julia/stdlib/v1.8/LinearAlgebra/src/hessenberg.jl\" target=\"_blank\">/opt/julia-1.8.2/share/julia/stdlib/v1.8/LinearAlgebra/src/hessenberg.jl:109</a></li> <li> +(A::<b>LinearAlgebra.Bidiagonal</b>, B::<b>LinearAlgebra.UpperTriangular</b>) in LinearAlgebra at <a href=\"file:///cache/build/default-amdci4-6/julialang/julia-release-1-dot-8/usr/share/julia/stdlib/v1.8/LinearAlgebra/src/special.jl\" target=\"_blank\">/opt/julia-1.8.2/share/julia/stdlib/v1.8/LinearAlgebra/src/special.jl:106</a></li> <li> +(A::<b>LinearAlgebra.Bidiagonal</b>, B::<b>LinearAlgebra.UnitUpperTriangular</b>) in LinearAlgebra at <a href=\"file:///cache/build/default-amdci4-6/julialang/julia-release-1-dot-8/usr/share/julia/stdlib/v1.8/LinearAlgebra/src/special.jl\" target=\"_blank\">/opt/julia-1.8.2/share/julia/stdlib/v1.8/LinearAlgebra/src/special.jl:106</a></li> <li> +(A::<b>LinearAlgebra.Bidiagonal</b>, B::<b>LinearAlgebra.LowerTriangular</b>) in LinearAlgebra at <a href=\"file:///cache/build/default-amdci4-6/julialang/julia-release-1-dot-8/usr/share/julia/stdlib/v1.8/LinearAlgebra/src/special.jl\" target=\"_blank\">/opt/julia-1.8.2/share/julia/stdlib/v1.8/LinearAlgebra/src/special.jl:106</a></li> <li> +(A::<b>LinearAlgebra.Bidiagonal</b>, B::<b>LinearAlgebra.UnitLowerTriangular</b>) in LinearAlgebra at <a href=\"file:///cache/build/default-amdci4-6/julialang/julia-release-1-dot-8/usr/share/julia/stdlib/v1.8/LinearAlgebra/src/special.jl\" target=\"_blank\">/opt/julia-1.8.2/share/julia/stdlib/v1.8/LinearAlgebra/src/special.jl:106</a></li> <li> +(A::<b>LinearAlgebra.Bidiagonal</b>, B::<b>LinearAlgebra.Diagonal</b>) in LinearAlgebra at <a href=\"file:///cache/build/default-amdci4-6/julialang/julia-release-1-dot-8/usr/share/julia/stdlib/v1.8/LinearAlgebra/src/special.jl\" target=\"_blank\">/opt/julia-1.8.2/share/julia/stdlib/v1.8/LinearAlgebra/src/special.jl:127</a></li> <li> +(A::<b>LinearAlgebra.Bidiagonal</b>, B::<b>LinearAlgebra.Tridiagonal</b>) in LinearAlgebra at <a href=\"file:///cache/build/default-amdci4-6/julialang/julia-release-1-dot-8/usr/share/julia/stdlib/v1.8/LinearAlgebra/src/special.jl\" target=\"_blank\">/opt/julia-1.8.2/share/julia/stdlib/v1.8/LinearAlgebra/src/special.jl:195</a></li> <li> +(A::<b>LinearAlgebra.Bidiagonal</b>, B::<b>LinearAlgebra.SymTridiagonal</b>) in LinearAlgebra at <a href=\"file:///cache/build/default-amdci4-6/julialang/julia-release-1-dot-8/usr/share/julia/stdlib/v1.8/LinearAlgebra/src/special.jl\" target=\"_blank\">/opt/julia-1.8.2/share/julia/stdlib/v1.8/LinearAlgebra/src/special.jl:215</a></li> <li> +(A::<b>LinearAlgebra.Bidiagonal{var\"#s885\", V} where {var\"#s885\"<:Number, V<:AbstractVector{var\"#s885\"}}</b>, B::<b>LinearAlgebra.UniformScaling</b>) in LinearAlgebra at <a href=\"file:///cache/build/default-amdci4-6/julialang/julia-release-1-dot-8/usr/share/julia/stdlib/v1.8/LinearAlgebra/src/special.jl\" target=\"_blank\">/opt/julia-1.8.2/share/julia/stdlib/v1.8/LinearAlgebra/src/special.jl:248</a></li> <li> +(x::<b>Ptr</b>, y::<b>Integer</b>) in Base at <a href=\"https://github.com/JuliaLang/julia/tree/36034abf26062acad4af9dcec7c4fc53b260dbb4/base/pointer.jl#L159\" target=\"_blank\">pointer.jl:159</a></li> <li> +(A::<b>SparseArrays.AbstractSparseMatrixCSC</b>, B::<b>SparseArrays.AbstractSparseMatrixCSC</b>) in SparseArrays at <a href=\"file:///cache/build/default-amdci4-6/julialang/julia-release-1-dot-8/usr/share/julia/stdlib/v1.8/SparseArrays/src/sparsematrix.jl\" target=\"_blank\">/opt/julia-1.8.2/share/julia/stdlib/v1.8/SparseArrays/src/sparsematrix.jl:1829</a></li> <li> +(x::<b>SparseArrays.AbstractSparseVector</b>, y::<b>SparseArrays.AbstractSparseVector</b>) in SparseArrays at <a href=\"file:///cache/build/default-amdci4-6/julialang/julia-release-1-dot-8/usr/share/julia/stdlib/v1.8/SparseArrays/src/sparsevector.jl\" target=\"_blank\">/opt/julia-1.8.2/share/julia/stdlib/v1.8/SparseArrays/src/sparsevector.jl:1384</a></li> <li> +(A::<b>SparseArrays.AbstractSparseMatrixCSC</b>, B::<b>Array</b>) in SparseArrays at <a href=\"file:///cache/build/default-amdci4-6/julialang/julia-release-1-dot-8/usr/share/julia/stdlib/v1.8/SparseArrays/src/sparsematrix.jl\" target=\"_blank\">/opt/julia-1.8.2/share/julia/stdlib/v1.8/SparseArrays/src/sparsematrix.jl:1832</a></li> <li> +(A::<b>SparseArrays.AbstractSparseMatrixCSC</b>, J::<b>LinearAlgebra.UniformScaling</b>) in SparseArrays at <a href=\"file:///cache/build/default-amdci4-6/julialang/julia-release-1-dot-8/usr/share/julia/stdlib/v1.8/SparseArrays/src/sparsematrix.jl\" target=\"_blank\">/opt/julia-1.8.2/share/julia/stdlib/v1.8/SparseArrays/src/sparsematrix.jl:3821</a></li> <li> +(r::<b>AbstractRange{<:Dates.TimeType}</b>, x::<b>Dates.Period</b>) in Dates at <a href=\"file:///cache/build/default-amdci4-6/julialang/julia-release-1-dot-8/usr/share/julia/stdlib/v1.8/Dates/src/ranges.jl\" target=\"_blank\">/opt/julia-1.8.2/share/julia/stdlib/v1.8/Dates/src/ranges.jl:64</a></li> <li> +(x::<b>AbstractArray{<:Dates.TimeType}</b>, y::<b>Union{Dates.CompoundPeriod, Dates.Period}</b>) in Dates at <a href=\"file:///cache/build/default-amdci4-6/julialang/julia-release-1-dot-8/usr/share/julia/stdlib/v1.8/Dates/src/deprecated.jl\" target=\"_blank\">/opt/julia-1.8.2/share/julia/stdlib/v1.8/Dates/src/deprecated.jl:6</a></li> <li> +(x::<b>Base.TwicePrecision</b>, y::<b>Number</b>) in Base at <a href=\"https://github.com/JuliaLang/julia/tree/36034abf26062acad4af9dcec7c4fc53b260dbb4/base/twiceprecision.jl#L290\" target=\"_blank\">twiceprecision.jl:290</a></li> <li> +(x::<b>Base.TwicePrecision{T}</b>, y::<b>Base.TwicePrecision{T}</b>)<i> where T</i> in Base at <a href=\"https://github.com/JuliaLang/julia/tree/36034abf26062acad4af9dcec7c4fc53b260dbb4/base/twiceprecision.jl#L296\" target=\"_blank\">twiceprecision.jl:296</a></li> <li> +(x::<b>Base.TwicePrecision</b>, y::<b>Base.TwicePrecision</b>) in Base at <a href=\"https://github.com/JuliaLang/julia/tree/36034abf26062acad4af9dcec7c4fc53b260dbb4/base/twiceprecision.jl#L301\" target=\"_blank\">twiceprecision.jl:301</a></li> <li> +(J::<b>LinearAlgebra.UniformScaling</b>) in LinearAlgebra at <a href=\"file:///cache/build/default-amdci4-6/julialang/julia-release-1-dot-8/usr/share/julia/stdlib/v1.8/LinearAlgebra/src/uniformscaling.jl\" target=\"_blank\">/opt/julia-1.8.2/share/julia/stdlib/v1.8/LinearAlgebra/src/uniformscaling.jl:149</a></li> <li> +(J::<b>LinearAlgebra.UniformScaling</b>, x::<b>Number</b>) in LinearAlgebra at <a href=\"file:///cache/build/default-amdci4-6/julialang/julia-release-1-dot-8/usr/share/julia/stdlib/v1.8/LinearAlgebra/src/uniformscaling.jl\" target=\"_blank\">/opt/julia-1.8.2/share/julia/stdlib/v1.8/LinearAlgebra/src/uniformscaling.jl:144</a></li> <li> +(J1::<b>LinearAlgebra.UniformScaling</b>, J2::<b>LinearAlgebra.UniformScaling</b>) in LinearAlgebra at <a href=\"file:///cache/build/default-amdci4-6/julialang/julia-release-1-dot-8/usr/share/julia/stdlib/v1.8/LinearAlgebra/src/uniformscaling.jl\" target=\"_blank\">/opt/julia-1.8.2/share/julia/stdlib/v1.8/LinearAlgebra/src/uniformscaling.jl:150</a></li> <li> +(J::<b>LinearAlgebra.UniformScaling</b>, B::<b>BitMatrix</b>) in LinearAlgebra at <a href=\"file:///cache/build/default-amdci4-6/julialang/julia-release-1-dot-8/usr/share/julia/stdlib/v1.8/LinearAlgebra/src/uniformscaling.jl\" target=\"_blank\">/opt/julia-1.8.2/share/julia/stdlib/v1.8/LinearAlgebra/src/uniformscaling.jl:152</a></li> <li> +(x::<b>LinearAlgebra.UniformScaling</b>, H::<b>LinearAlgebra.UpperHessenberg</b>) in LinearAlgebra at <a href=\"file:///cache/build/default-amdci4-6/julialang/julia-release-1-dot-8/usr/share/julia/stdlib/v1.8/LinearAlgebra/src/hessenberg.jl\" target=\"_blank\">/opt/julia-1.8.2/share/julia/stdlib/v1.8/LinearAlgebra/src/hessenberg.jl:109</a></li> <li> +(J::<b>LinearAlgebra.UniformScaling</b>, F::<b>LinearAlgebra.Hessenberg</b>) in LinearAlgebra at <a href=\"file:///cache/build/default-amdci4-6/julialang/julia-release-1-dot-8/usr/share/julia/stdlib/v1.8/LinearAlgebra/src/hessenberg.jl\" target=\"_blank\">/opt/julia-1.8.2/share/julia/stdlib/v1.8/LinearAlgebra/src/hessenberg.jl:642</a></li> <li> +(A::<b>LinearAlgebra.UniformScaling</b>, B::<b>LinearAlgebra.Tridiagonal{var\"#s885\", V} where {var\"#s885\"<:Number, V<:AbstractVector{var\"#s885\"}}</b>) in LinearAlgebra at <a href=\"file:///cache/build/default-amdci4-6/julialang/julia-release-1-dot-8/usr/share/julia/stdlib/v1.8/LinearAlgebra/src/special.jl\" target=\"_blank\">/opt/julia-1.8.2/share/julia/stdlib/v1.8/LinearAlgebra/src/special.jl:257</a></li> <li> +(A::<b>LinearAlgebra.UniformScaling</b>, B::<b>LinearAlgebra.SymTridiagonal{var\"#s885\", V} where {var\"#s885\"<:Number, V<:AbstractVector{var\"#s885\"}}</b>) in LinearAlgebra at <a href=\"file:///cache/build/default-amdci4-6/julialang/julia-release-1-dot-8/usr/share/julia/stdlib/v1.8/LinearAlgebra/src/special.jl\" target=\"_blank\">/opt/julia-1.8.2/share/julia/stdlib/v1.8/LinearAlgebra/src/special.jl:262</a></li> <li> +(A::<b>LinearAlgebra.UniformScaling</b>, B::<b>LinearAlgebra.Bidiagonal{var\"#s885\", V} where {var\"#s885\"<:Number, V<:AbstractVector{var\"#s885\"}}</b>) in LinearAlgebra at <a href=\"file:///cache/build/default-amdci4-6/julialang/julia-release-1-dot-8/usr/share/julia/stdlib/v1.8/LinearAlgebra/src/special.jl\" target=\"_blank\">/opt/julia-1.8.2/share/julia/stdlib/v1.8/LinearAlgebra/src/special.jl:267</a></li> <li> +(A::<b>LinearAlgebra.UniformScaling</b>, B::<b>LinearAlgebra.Diagonal{var\"#s885\", V} where {var\"#s885\"<:Number, V<:AbstractVector{var\"#s885\"}}</b>) in LinearAlgebra at <a href=\"file:///cache/build/default-amdci4-6/julialang/julia-release-1-dot-8/usr/share/julia/stdlib/v1.8/LinearAlgebra/src/special.jl\" target=\"_blank\">/opt/julia-1.8.2/share/julia/stdlib/v1.8/LinearAlgebra/src/special.jl:272</a></li> <li> +(J::<b>LinearAlgebra.UniformScaling</b>, A::<b>AbstractMatrix</b>) in LinearAlgebra at <a href=\"file:///cache/build/default-amdci4-6/julialang/julia-release-1-dot-8/usr/share/julia/stdlib/v1.8/LinearAlgebra/src/uniformscaling.jl\" target=\"_blank\">/opt/julia-1.8.2/share/julia/stdlib/v1.8/LinearAlgebra/src/uniformscaling.jl:153</a></li> <li> +(x::<b>Dates.AbstractTime</b>, y::<b>Missing</b>) in Dates at <a href=\"file:///cache/build/default-amdci4-6/julialang/julia-release-1-dot-8/usr/share/julia/stdlib/v1.8/Dates/src/arithmetic.jl\" target=\"_blank\">/opt/julia-1.8.2/share/julia/stdlib/v1.8/Dates/src/arithmetic.jl:88</a></li> <li> +(A::<b>LinearAlgebra.AbstractTriangular</b>, B::<b>LinearAlgebra.AbstractTriangular</b>) in LinearAlgebra at <a href=\"file:///cache/build/default-amdci4-6/julialang/julia-release-1-dot-8/usr/share/julia/stdlib/v1.8/LinearAlgebra/src/triangular.jl\" target=\"_blank\">/opt/julia-1.8.2/share/julia/stdlib/v1.8/LinearAlgebra/src/triangular.jl:646</a></li> <li> +(F::<b>LinearAlgebra.Hessenberg</b>, J::<b>LinearAlgebra.UniformScaling</b>) in LinearAlgebra at <a href=\"file:///cache/build/default-amdci4-6/julialang/julia-release-1-dot-8/usr/share/julia/stdlib/v1.8/LinearAlgebra/src/hessenberg.jl\" target=\"_blank\">/opt/julia-1.8.2/share/julia/stdlib/v1.8/LinearAlgebra/src/hessenberg.jl:641</a></li> <li> +(r1::<b>StepRangeLen{T, R}</b>, r2::<b>StepRangeLen{T, R}</b>)<i> where {R<:Base.TwicePrecision, T}</i> in Base at <a href=\"https://github.com/JuliaLang/julia/tree/36034abf26062acad4af9dcec7c4fc53b260dbb4/base/twiceprecision.jl#L644\" target=\"_blank\">twiceprecision.jl:644</a></li> <li> +(r1::<b>StepRangeLen{T, S}</b>, r2::<b>StepRangeLen{T, S}</b>)<i> where {T, S}</i> in Base at <a href=\"https://github.com/JuliaLang/julia/tree/36034abf26062acad4af9dcec7c4fc53b260dbb4/base/range.jl#L1447\" target=\"_blank\">range.jl:1447</a></li> <li> +(r1::<b>Union{LinRange, OrdinalRange, StepRangeLen}</b>, r2::<b>Union{LinRange, OrdinalRange, StepRangeLen}</b>) in Base at <a href=\"https://github.com/JuliaLang/julia/tree/36034abf26062acad4af9dcec7c4fc53b260dbb4/base/range.jl#L1440\" target=\"_blank\">range.jl:1440</a></li> <li> +(A::<b>LinearAlgebra.Symmetric</b>, B::<b>LinearAlgebra.Symmetric</b>) in LinearAlgebra at <a href=\"file:///cache/build/default-amdci4-6/julialang/julia-release-1-dot-8/usr/share/julia/stdlib/v1.8/LinearAlgebra/src/symmetric.jl\" target=\"_blank\">/opt/julia-1.8.2/share/julia/stdlib/v1.8/LinearAlgebra/src/symmetric.jl:469</a></li> <li> +(A::<b>LinearAlgebra.Symmetric</b>, B::<b>LinearAlgebra.SymTridiagonal</b>) in LinearAlgebra at <a href=\"file:///cache/build/default-amdci4-6/julialang/julia-release-1-dot-8/usr/share/julia/stdlib/v1.8/LinearAlgebra/src/symmetric.jl\" target=\"_blank\">/opt/julia-1.8.2/share/julia/stdlib/v1.8/LinearAlgebra/src/symmetric.jl:486</a></li> <li> +(S::<b>LinearAlgebra.Symmetric</b>, D::<b>LinearAlgebra.Diagonal</b>) in LinearAlgebra at <a href=\"file:///cache/build/default-amdci4-6/julialang/julia-release-1-dot-8/usr/share/julia/stdlib/v1.8/LinearAlgebra/src/diagonal.jl\" target=\"_blank\">/opt/julia-1.8.2/share/julia/stdlib/v1.8/LinearAlgebra/src/diagonal.jl:191</a></li> <li> +(A::<b>LinearAlgebra.Symmetric{<:Any, <:SparseArrays.AbstractSparseMatrix}</b>, B::<b>SparseArrays.AbstractSparseMatrix</b>) in SparseArrays at <a href=\"file:///cache/build/default-amdci4-6/julialang/julia-release-1-dot-8/usr/share/julia/stdlib/v1.8/SparseArrays/src/linalg.jl\" target=\"_blank\">/opt/julia-1.8.2/share/julia/stdlib/v1.8/SparseArrays/src/linalg.jl:15</a></li> <li> +(A::<b>LinearAlgebra.Symmetric</b>, B::<b>SparseArrays.AbstractSparseMatrix</b>) in SparseArrays at <a href=\"file:///cache/build/default-amdci4-6/julialang/julia-release-1-dot-8/usr/share/julia/stdlib/v1.8/SparseArrays/src/linalg.jl\" target=\"_blank\">/opt/julia-1.8.2/share/julia/stdlib/v1.8/SparseArrays/src/linalg.jl:18</a></li> <li> +(A::<b>LinearAlgebra.Symmetric{<:Real, <:SparseArrays.AbstractSparseMatrix}</b>, B::<b>LinearAlgebra.Hermitian{<:Any, <:SparseArrays.AbstractSparseMatrix}</b>) in SparseArrays at <a href=\"file:///cache/build/default-amdci4-6/julialang/julia-release-1-dot-8/usr/share/julia/stdlib/v1.8/SparseArrays/src/linalg.jl\" target=\"_blank\">/opt/julia-1.8.2/share/julia/stdlib/v1.8/SparseArrays/src/linalg.jl:25</a></li> <li> +(A::<b>LinearAlgebra.Symmetric{var\"#s884\", S} where {var\"#s884\"<:Real, S<:(AbstractMatrix{<:var\"#s884\"})}</b>, B::<b>LinearAlgebra.Hermitian</b>) in LinearAlgebra at <a href=\"file:///cache/build/default-amdci4-6/julialang/julia-release-1-dot-8/usr/share/julia/stdlib/v1.8/LinearAlgebra/src/symmetric.jl\" target=\"_blank\">/opt/julia-1.8.2/share/julia/stdlib/v1.8/LinearAlgebra/src/symmetric.jl:484</a></li> <li> +(A::<b>LinearAlgebra.Symmetric{<:Any, <:SparseArrays.AbstractSparseMatrix}</b>, B::<b>LinearAlgebra.Hermitian{<:Any, <:SparseArrays.AbstractSparseMatrix}</b>) in SparseArrays at <a href=\"file:///cache/build/default-amdci4-6/julialang/julia-release-1-dot-8/usr/share/julia/stdlib/v1.8/SparseArrays/src/linalg.jl\" target=\"_blank\">/opt/julia-1.8.2/share/julia/stdlib/v1.8/SparseArrays/src/linalg.jl:23</a></li> <li> +(A::<b>Array</b>, Bs::<b>Array...</b>) in Base at <a href=\"https://github.com/JuliaLang/julia/tree/36034abf26062acad4af9dcec7c4fc53b260dbb4/base/arraymath.jl#L12\" target=\"_blank\">arraymath.jl:12</a></li> <li> +(X::<b>StridedArray{<:Union{Dates.CompoundPeriod, Dates.Period}}</b>, Y::<b>StridedArray{<:Union{Dates.CompoundPeriod, Dates.Period}}</b>) in Dates at <a href=\"file:///cache/build/default-amdci4-6/julialang/julia-release-1-dot-8/usr/share/julia/stdlib/v1.8/Dates/src/deprecated.jl\" target=\"_blank\">/opt/julia-1.8.2/share/julia/stdlib/v1.8/Dates/src/deprecated.jl:62</a></li> <li> +(A::<b>Array</b>, B::<b>SparseArrays.AbstractSparseMatrixCSC</b>) in SparseArrays at <a href=\"file:///cache/build/default-amdci4-6/julialang/julia-release-1-dot-8/usr/share/julia/stdlib/v1.8/SparseArrays/src/sparsematrix.jl\" target=\"_blank\">/opt/julia-1.8.2/share/julia/stdlib/v1.8/SparseArrays/src/sparsematrix.jl:1833</a></li> <li> +(x::<b>StridedArray{<:Union{Dates.CompoundPeriod, Dates.Period}}</b>) in Dates at <a href=\"file:///cache/build/default-amdci4-6/julialang/julia-release-1-dot-8/usr/share/julia/stdlib/v1.8/Dates/src/deprecated.jl\" target=\"_blank\">/opt/julia-1.8.2/share/julia/stdlib/v1.8/Dates/src/deprecated.jl:55</a></li> <li> +(x::<b>StridedArray{<:Union{Dates.CompoundPeriod, Dates.Period}}</b>, y::<b>Dates.TimeType</b>) in Dates at <a href=\"file:///cache/build/default-amdci4-6/julialang/julia-release-1-dot-8/usr/share/julia/stdlib/v1.8/Dates/src/deprecated.jl\" target=\"_blank\">/opt/julia-1.8.2/share/julia/stdlib/v1.8/Dates/src/deprecated.jl:10</a></li> <li> +(A::<b>LinearAlgebra.UpperHessenberg</b>, B::<b>LinearAlgebra.UpperHessenberg</b>) in LinearAlgebra at <a href=\"file:///cache/build/default-amdci4-6/julialang/julia-release-1-dot-8/usr/share/julia/stdlib/v1.8/LinearAlgebra/src/hessenberg.jl\" target=\"_blank\">/opt/julia-1.8.2/share/julia/stdlib/v1.8/LinearAlgebra/src/hessenberg.jl:101</a></li> <li> +(H::<b>LinearAlgebra.UpperHessenberg</b>, x::<b>LinearAlgebra.UniformScaling</b>) in LinearAlgebra at <a href=\"file:///cache/build/default-amdci4-6/julialang/julia-release-1-dot-8/usr/share/julia/stdlib/v1.8/LinearAlgebra/src/hessenberg.jl\" target=\"_blank\">/opt/julia-1.8.2/share/julia/stdlib/v1.8/LinearAlgebra/src/hessenberg.jl:108</a></li> <li> +(H::<b>LinearAlgebra.UpperHessenberg</b>, x::<b>LinearAlgebra.Diagonal</b>) in LinearAlgebra at <a href=\"file:///cache/build/default-amdci4-6/julialang/julia-release-1-dot-8/usr/share/julia/stdlib/v1.8/LinearAlgebra/src/hessenberg.jl\" target=\"_blank\">/opt/julia-1.8.2/share/julia/stdlib/v1.8/LinearAlgebra/src/hessenberg.jl:108</a></li> <li> +(H::<b>LinearAlgebra.UpperHessenberg</b>, x::<b>LinearAlgebra.Bidiagonal</b>) in LinearAlgebra at <a href=\"file:///cache/build/default-amdci4-6/julialang/julia-release-1-dot-8/usr/share/julia/stdlib/v1.8/LinearAlgebra/src/hessenberg.jl\" target=\"_blank\">/opt/julia-1.8.2/share/julia/stdlib/v1.8/LinearAlgebra/src/hessenberg.jl:108</a></li> <li> +(H::<b>LinearAlgebra.UpperHessenberg</b>, x::<b>LinearAlgebra.Tridiagonal</b>) in LinearAlgebra at <a href=\"file:///cache/build/default-amdci4-6/julialang/julia-release-1-dot-8/usr/share/julia/stdlib/v1.8/LinearAlgebra/src/hessenberg.jl\" target=\"_blank\">/opt/julia-1.8.2/share/julia/stdlib/v1.8/LinearAlgebra/src/hessenberg.jl:108</a></li> <li> +(H::<b>LinearAlgebra.UpperHessenberg</b>, x::<b>LinearAlgebra.SymTridiagonal</b>) in LinearAlgebra at <a href=\"file:///cache/build/default-amdci4-6/julialang/julia-release-1-dot-8/usr/share/julia/stdlib/v1.8/LinearAlgebra/src/hessenberg.jl\" target=\"_blank\">/opt/julia-1.8.2/share/julia/stdlib/v1.8/LinearAlgebra/src/hessenberg.jl:108</a></li> <li> +(H::<b>LinearAlgebra.UpperHessenberg</b>, x::<b>LinearAlgebra.UpperTriangular</b>) in LinearAlgebra at <a href=\"file:///cache/build/default-amdci4-6/julialang/julia-release-1-dot-8/usr/share/julia/stdlib/v1.8/LinearAlgebra/src/hessenberg.jl\" target=\"_blank\">/opt/julia-1.8.2/share/julia/stdlib/v1.8/LinearAlgebra/src/hessenberg.jl:108</a></li> <li> +(H::<b>LinearAlgebra.UpperHessenberg</b>, x::<b>LinearAlgebra.UnitUpperTriangular</b>) in LinearAlgebra at <a href=\"file:///cache/build/default-amdci4-6/julialang/julia-release-1-dot-8/usr/share/julia/stdlib/v1.8/LinearAlgebra/src/hessenberg.jl\" target=\"_blank\">/opt/julia-1.8.2/share/julia/stdlib/v1.8/LinearAlgebra/src/hessenberg.jl:108</a></li> <li> +(A::<b>AbstractArray</b>, B::<b>AbstractArray</b>) in Base at <a href=\"https://github.com/JuliaLang/julia/tree/36034abf26062acad4af9dcec7c4fc53b260dbb4/base/arraymath.jl#L6\" target=\"_blank\">arraymath.jl:6</a></li> <li> +(dt::<b>Dates.DateTime</b>, y::<b>Dates.Year</b>) in Dates at <a href=\"file:///cache/build/default-amdci4-6/julialang/julia-release-1-dot-8/usr/share/julia/stdlib/v1.8/Dates/src/arithmetic.jl\" target=\"_blank\">/opt/julia-1.8.2/share/julia/stdlib/v1.8/Dates/src/arithmetic.jl:23</a></li> <li> +(dt::<b>Dates.DateTime</b>, z::<b>Dates.Month</b>) in Dates at <a href=\"file:///cache/build/default-amdci4-6/julialang/julia-release-1-dot-8/usr/share/julia/stdlib/v1.8/Dates/src/arithmetic.jl\" target=\"_blank\">/opt/julia-1.8.2/share/julia/stdlib/v1.8/Dates/src/arithmetic.jl:47</a></li> <li> +(x::<b>Dates.DateTime</b>, y::<b>Dates.Quarter</b>) in Dates at <a href=\"file:///cache/build/default-amdci4-6/julialang/julia-release-1-dot-8/usr/share/julia/stdlib/v1.8/Dates/src/arithmetic.jl\" target=\"_blank\">/opt/julia-1.8.2/share/julia/stdlib/v1.8/Dates/src/arithmetic.jl:75</a></li> <li> +(x::<b>Dates.DateTime</b>, y::<b>Dates.Period</b>) in Dates at <a href=\"file:///cache/build/default-amdci4-6/julialang/julia-release-1-dot-8/usr/share/julia/stdlib/v1.8/Dates/src/arithmetic.jl\" target=\"_blank\">/opt/julia-1.8.2/share/julia/stdlib/v1.8/Dates/src/arithmetic.jl:81</a></li> <li> +(x::<b>BigInt</b>, c::<b>Union{UInt16, UInt32, UInt64, UInt8}</b>) in Base.GMP at <a href=\"https://github.com/JuliaLang/julia/tree/36034abf26062acad4af9dcec7c4fc53b260dbb4/base/gmp.jl#L530\" target=\"_blank\">gmp.jl:530</a></li> <li> +(x::<b>BigInt</b>, c::<b>Union{Int16, Int32, Int64, Int8}</b>) in Base.GMP at <a href=\"https://github.com/JuliaLang/julia/tree/36034abf26062acad4af9dcec7c4fc53b260dbb4/base/gmp.jl#L536\" target=\"_blank\">gmp.jl:536</a></li> <li> +(x::<b>BigInt</b>, y::<b>BigInt</b>) in Base.GMP at <a href=\"https://github.com/JuliaLang/julia/tree/36034abf26062acad4af9dcec7c4fc53b260dbb4/base/gmp.jl#L482\" target=\"_blank\">gmp.jl:482</a></li> <li> +(a::<b>BigInt</b>, b::<b>BigInt</b>, c::<b>BigInt</b>) in Base.GMP at <a href=\"https://github.com/JuliaLang/julia/tree/36034abf26062acad4af9dcec7c4fc53b260dbb4/base/gmp.jl#L522\" target=\"_blank\">gmp.jl:522</a></li> <li> +(a::<b>BigInt</b>, b::<b>BigInt</b>, c::<b>BigInt</b>, d::<b>BigInt</b>) in Base.GMP at <a href=\"https://github.com/JuliaLang/julia/tree/36034abf26062acad4af9dcec7c4fc53b260dbb4/base/gmp.jl#L523\" target=\"_blank\">gmp.jl:523</a></li> <li> +(a::<b>BigInt</b>, b::<b>BigInt</b>, c::<b>BigInt</b>, d::<b>BigInt</b>, e::<b>BigInt</b>) in Base.GMP at <a href=\"https://github.com/JuliaLang/julia/tree/36034abf26062acad4af9dcec7c4fc53b260dbb4/base/gmp.jl#L524\" target=\"_blank\">gmp.jl:524</a></li> <li> +(x::<b>BigInt</b>, y::<b>BigInt</b>, rest::<b>BigInt...</b>) in Base.GMP at <a href=\"https://github.com/JuliaLang/julia/tree/36034abf26062acad4af9dcec7c4fc53b260dbb4/base/gmp.jl#L657\" target=\"_blank\">gmp.jl:657</a></li> <li> +(c::<b>BigInt</b>, x::<b>BigFloat</b>) in Base.MPFR at <a href=\"https://github.com/JuliaLang/julia/tree/36034abf26062acad4af9dcec7c4fc53b260dbb4/base/mpfr.jl#L422\" target=\"_blank\">mpfr.jl:422</a></li> <li> +(x::<b>Dates.Time</b>, y::<b>Dates.TimePeriod</b>) in Dates at <a href=\"file:///cache/build/default-amdci4-6/julialang/julia-release-1-dot-8/usr/share/julia/stdlib/v1.8/Dates/src/arithmetic.jl\" target=\"_blank\">/opt/julia-1.8.2/share/julia/stdlib/v1.8/Dates/src/arithmetic.jl:83</a></li> <li> +(t::<b>Dates.Time</b>, dt::<b>Dates.Date</b>) in Dates at <a href=\"file:///cache/build/default-amdci4-6/julialang/julia-release-1-dot-8/usr/share/julia/stdlib/v1.8/Dates/src/arithmetic.jl\" target=\"_blank\">/opt/julia-1.8.2/share/julia/stdlib/v1.8/Dates/src/arithmetic.jl:20</a></li> <li> +(::<b>Missing</b>) in Base at <a href=\"https://github.com/JuliaLang/julia/tree/36034abf26062acad4af9dcec7c4fc53b260dbb4/base/missing.jl#L101\" target=\"_blank\">missing.jl:101</a></li> <li> +(::<b>Missing</b>, ::<b>Number</b>) in Base at <a href=\"https://github.com/JuliaLang/julia/tree/36034abf26062acad4af9dcec7c4fc53b260dbb4/base/missing.jl#L123\" target=\"_blank\">missing.jl:123</a></li> <li> +(x::<b>Missing</b>, y::<b>Dates.AbstractTime</b>) in Dates at <a href=\"file:///cache/build/default-amdci4-6/julialang/julia-release-1-dot-8/usr/share/julia/stdlib/v1.8/Dates/src/arithmetic.jl\" target=\"_blank\">/opt/julia-1.8.2/share/julia/stdlib/v1.8/Dates/src/arithmetic.jl:89</a></li> <li> +(::<b>Missing</b>, ::<b>Missing</b>) in Base at <a href=\"https://github.com/JuliaLang/julia/tree/36034abf26062acad4af9dcec7c4fc53b260dbb4/base/missing.jl#L122\" target=\"_blank\">missing.jl:122</a></li> <li> +(x::<b>Bool</b>) in Base at <a href=\"https://github.com/JuliaLang/julia/tree/36034abf26062acad4af9dcec7c4fc53b260dbb4/base/bool.jl#L159\" target=\"_blank\">bool.jl:159</a></li> <li> +(x::<b>Number</b>, y::<b>Base.TwicePrecision</b>) in Base at <a href=\"https://github.com/JuliaLang/julia/tree/36034abf26062acad4af9dcec7c4fc53b260dbb4/base/twiceprecision.jl#L294\" target=\"_blank\">twiceprecision.jl:294</a></li> <li> +(::<b>Number</b>, ::<b>Missing</b>) in Base at <a href=\"https://github.com/JuliaLang/julia/tree/36034abf26062acad4af9dcec7c4fc53b260dbb4/base/missing.jl#L124\" target=\"_blank\">missing.jl:124</a></li> <li> +(x::<b>Number</b>, J::<b>LinearAlgebra.UniformScaling</b>) in LinearAlgebra at <a href=\"file:///cache/build/default-amdci4-6/julialang/julia-release-1-dot-8/usr/share/julia/stdlib/v1.8/LinearAlgebra/src/uniformscaling.jl\" target=\"_blank\">/opt/julia-1.8.2/share/julia/stdlib/v1.8/LinearAlgebra/src/uniformscaling.jl:145</a></li> <li> +(x::<b>Integer</b>, y::<b>Ptr</b>) in Base at <a href=\"https://github.com/JuliaLang/julia/tree/36034abf26062acad4af9dcec7c4fc53b260dbb4/base/pointer.jl#L161\" target=\"_blank\">pointer.jl:161</a></li> <li> +(y::<b>Integer</b>, x::<b>Rational</b>) in Base at <a href=\"https://github.com/JuliaLang/julia/tree/36034abf26062acad4af9dcec7c4fc53b260dbb4/base/rational.jl#L320\" target=\"_blank\">rational.jl:320</a></li> <li> +(x::<b>Integer</b>, y::<b>AbstractChar</b>) in Base at <a href=\"https://github.com/JuliaLang/julia/tree/36034abf26062acad4af9dcec7c4fc53b260dbb4/base/char.jl#L247\" target=\"_blank\">char.jl:247</a></li> <li> +(x::<b>Bool</b>, y::<b>T</b>)<i> where T<:AbstractFloat</i> in Base at <a href=\"https://github.com/JuliaLang/julia/tree/36034abf26062acad4af9dcec7c4fc53b260dbb4/base/bool.jl#L169\" target=\"_blank\">bool.jl:169</a></li> <li> +(x::<b>Bool</b>, y::<b>Bool</b>) in Base at <a href=\"https://github.com/JuliaLang/julia/tree/36034abf26062acad4af9dcec7c4fc53b260dbb4/base/bool.jl#L162\" target=\"_blank\">bool.jl:162</a></li> <li> +(a::<b>Integer</b>, b::<b>Integer</b>) in Base at <a href=\"https://github.com/JuliaLang/julia/tree/36034abf26062acad4af9dcec7c4fc53b260dbb4/base/int.jl#L987\" target=\"_blank\">int.jl:987</a></li> <li> +(x::<b>Bool</b>, z::<b>Complex{Bool}</b>) in Base at <a href=\"https://github.com/JuliaLang/julia/tree/36034abf26062acad4af9dcec7c4fc53b260dbb4/base/complex.jl#L299\" target=\"_blank\">complex.jl:299</a></li> <li> +(x::<b>Real</b>, z::<b>Complex{Bool}</b>) in Base at <a href=\"https://github.com/JuliaLang/julia/tree/36034abf26062acad4af9dcec7c4fc53b260dbb4/base/complex.jl#L313\" target=\"_blank\">complex.jl:313</a></li> <li> +(x::<b>Bool</b>, z::<b>Complex</b>) in Base at <a href=\"https://github.com/JuliaLang/julia/tree/36034abf26062acad4af9dcec7c4fc53b260dbb4/base/complex.jl#L306\" target=\"_blank\">complex.jl:306</a></li> <li> +(x::<b>Real</b>, z::<b>Complex</b>) in Base at <a href=\"https://github.com/JuliaLang/julia/tree/36034abf26062acad4af9dcec7c4fc53b260dbb4/base/complex.jl#L325\" target=\"_blank\">complex.jl:325</a></li> <li> +(z::<b>Complex{Bool}</b>, x::<b>Bool</b>) in Base at <a href=\"https://github.com/JuliaLang/julia/tree/36034abf26062acad4af9dcec7c4fc53b260dbb4/base/complex.jl#L300\" target=\"_blank\">complex.jl:300</a></li> <li> +(z::<b>Complex</b>, x::<b>Bool</b>) in Base at <a href=\"https://github.com/JuliaLang/julia/tree/36034abf26062acad4af9dcec7c4fc53b260dbb4/base/complex.jl#L307\" target=\"_blank\">complex.jl:307</a></li> <li> +(z::<b>Complex{Bool}</b>, x::<b>Real</b>) in Base at <a href=\"https://github.com/JuliaLang/julia/tree/36034abf26062acad4af9dcec7c4fc53b260dbb4/base/complex.jl#L314\" target=\"_blank\">complex.jl:314</a></li> <li> +(z::<b>Complex</b>) in Base at <a href=\"https://github.com/JuliaLang/julia/tree/36034abf26062acad4af9dcec7c4fc53b260dbb4/base/complex.jl#L286\" target=\"_blank\">complex.jl:286</a></li> <li> +(z::<b>Complex</b>, x::<b>Real</b>) in Base at <a href=\"https://github.com/JuliaLang/julia/tree/36034abf26062acad4af9dcec7c4fc53b260dbb4/base/complex.jl#L326\" target=\"_blank\">complex.jl:326</a></li> <li> +(x::<b>Rational{BigInt}</b>, y::<b>Rational{BigInt}</b>) in Base.GMP.MPQ at <a href=\"https://github.com/JuliaLang/julia/tree/36034abf26062acad4af9dcec7c4fc53b260dbb4/base/gmp.jl#L922\" target=\"_blank\">gmp.jl:922</a></li> <li> +(x::<b>Rational</b>) in Base at <a href=\"https://github.com/JuliaLang/julia/tree/36034abf26062acad4af9dcec7c4fc53b260dbb4/base/rational.jl#L270\" target=\"_blank\">rational.jl:270</a></li> <li> +(x::<b>Rational</b>, y::<b>Rational</b>) in Base at <a href=\"https://github.com/JuliaLang/julia/tree/36034abf26062acad4af9dcec7c4fc53b260dbb4/base/rational.jl#L284\" target=\"_blank\">rational.jl:284</a></li> <li> +(level::<b>Base.CoreLogging.LogLevel</b>, inc::<b>Integer</b>) in Base.CoreLogging at <a href=\"https://github.com/JuliaLang/julia/tree/36034abf26062acad4af9dcec7c4fc53b260dbb4/base/logging.jl#L131\" target=\"_blank\">logging.jl:131</a></li> <li> +(B::<b>BitMatrix</b>, J::<b>LinearAlgebra.UniformScaling</b>) in LinearAlgebra at <a href=\"file:///cache/build/default-amdci4-6/julialang/julia-release-1-dot-8/usr/share/julia/stdlib/v1.8/LinearAlgebra/src/uniformscaling.jl\" target=\"_blank\">/opt/julia-1.8.2/share/julia/stdlib/v1.8/LinearAlgebra/src/uniformscaling.jl:151</a></li> <li> +(A::<b>AbstractMatrix</b>, J::<b>LinearAlgebra.UniformScaling</b>) in LinearAlgebra at <a href=\"file:///cache/build/default-amdci4-6/julialang/julia-release-1-dot-8/usr/share/julia/stdlib/v1.8/LinearAlgebra/src/uniformscaling.jl\" target=\"_blank\">/opt/julia-1.8.2/share/julia/stdlib/v1.8/LinearAlgebra/src/uniformscaling.jl:214</a></li> <li> +(x::<b>AbstractArray{<:Number}</b>) in Base at <a href=\"https://github.com/JuliaLang/julia/tree/36034abf26062acad4af9dcec7c4fc53b260dbb4/base/abstractarraymath.jl#L220\" target=\"_blank\">abstractarraymath.jl:220</a></li> <li> +(dt::<b>Dates.Date</b>, t::<b>Dates.Time</b>) in Dates at <a href=\"file:///cache/build/default-amdci4-6/julialang/julia-release-1-dot-8/usr/share/julia/stdlib/v1.8/Dates/src/arithmetic.jl\" target=\"_blank\">/opt/julia-1.8.2/share/julia/stdlib/v1.8/Dates/src/arithmetic.jl:19</a></li> <li> +(dt::<b>Dates.Date</b>, y::<b>Dates.Year</b>) in Dates at <a href=\"file:///cache/build/default-amdci4-6/julialang/julia-release-1-dot-8/usr/share/julia/stdlib/v1.8/Dates/src/arithmetic.jl\" target=\"_blank\">/opt/julia-1.8.2/share/julia/stdlib/v1.8/Dates/src/arithmetic.jl:27</a></li> <li> +(dt::<b>Dates.Date</b>, z::<b>Dates.Month</b>) in Dates at <a href=\"file:///cache/build/default-amdci4-6/julialang/julia-release-1-dot-8/usr/share/julia/stdlib/v1.8/Dates/src/arithmetic.jl\" target=\"_blank\">/opt/julia-1.8.2/share/julia/stdlib/v1.8/Dates/src/arithmetic.jl:54</a></li> <li> +(x::<b>Dates.Date</b>, y::<b>Dates.Quarter</b>) in Dates at <a href=\"file:///cache/build/default-amdci4-6/julialang/julia-release-1-dot-8/usr/share/julia/stdlib/v1.8/Dates/src/arithmetic.jl\" target=\"_blank\">/opt/julia-1.8.2/share/julia/stdlib/v1.8/Dates/src/arithmetic.jl:73</a></li> <li> +(x::<b>Dates.Date</b>, y::<b>Dates.Week</b>) in Dates at <a href=\"file:///cache/build/default-amdci4-6/julialang/julia-release-1-dot-8/usr/share/julia/stdlib/v1.8/Dates/src/arithmetic.jl\" target=\"_blank\">/opt/julia-1.8.2/share/julia/stdlib/v1.8/Dates/src/arithmetic.jl:77</a></li> <li> +(x::<b>Dates.Date</b>, y::<b>Dates.Day</b>) in Dates at <a href=\"file:///cache/build/default-amdci4-6/julialang/julia-release-1-dot-8/usr/share/julia/stdlib/v1.8/Dates/src/arithmetic.jl\" target=\"_blank\">/opt/julia-1.8.2/share/julia/stdlib/v1.8/Dates/src/arithmetic.jl:79</a></li> <li> +(x::<b>Dates.TimeType</b>) in Dates at <a href=\"file:///cache/build/default-amdci4-6/julialang/julia-release-1-dot-8/usr/share/julia/stdlib/v1.8/Dates/src/arithmetic.jl\" target=\"_blank\">/opt/julia-1.8.2/share/julia/stdlib/v1.8/Dates/src/arithmetic.jl:8</a></li> <li> +(a::<b>Dates.TimeType</b>, b::<b>Dates.Period</b>, c::<b>Dates.Period</b>) in Dates at <a href=\"file:///cache/build/default-amdci4-6/julialang/julia-release-1-dot-8/usr/share/julia/stdlib/v1.8/Dates/src/periods.jl\" target=\"_blank\">/opt/julia-1.8.2/share/julia/stdlib/v1.8/Dates/src/periods.jl:389</a></li> <li> +(a::<b>Dates.TimeType</b>, b::<b>Dates.Period</b>, c::<b>Dates.Period</b>, d::<b>Dates.Period...</b>) in Dates at <a href=\"file:///cache/build/default-amdci4-6/julialang/julia-release-1-dot-8/usr/share/julia/stdlib/v1.8/Dates/src/periods.jl\" target=\"_blank\">/opt/julia-1.8.2/share/julia/stdlib/v1.8/Dates/src/periods.jl:390</a></li> <li> +(x::<b>Dates.TimeType</b>, y::<b>Dates.CompoundPeriod</b>) in Dates at <a href=\"file:///cache/build/default-amdci4-6/julialang/julia-release-1-dot-8/usr/share/julia/stdlib/v1.8/Dates/src/periods.jl\" target=\"_blank\">/opt/julia-1.8.2/share/julia/stdlib/v1.8/Dates/src/periods.jl:392</a></li> <li> +(x::<b>BigFloat</b>, c::<b>Union{UInt16, UInt32, UInt64, UInt8}</b>) in Base.MPFR at <a href=\"https://github.com/JuliaLang/julia/tree/36034abf26062acad4af9dcec7c4fc53b260dbb4/base/mpfr.jl#L393\" target=\"_blank\">mpfr.jl:393</a></li> <li> +(x::<b>BigFloat</b>, c::<b>Union{Int16, Int32, Int64, Int8}</b>) in Base.MPFR at <a href=\"https://github.com/JuliaLang/julia/tree/36034abf26062acad4af9dcec7c4fc53b260dbb4/base/mpfr.jl#L401\" target=\"_blank\">mpfr.jl:401</a></li> <li> +(x::<b>BigFloat</b>, c::<b>Union{Float16, Float32, Float64}</b>) in Base.MPFR at <a href=\"https://github.com/JuliaLang/julia/tree/36034abf26062acad4af9dcec7c4fc53b260dbb4/base/mpfr.jl#L409\" target=\"_blank\">mpfr.jl:409</a></li> <li> +(x::<b>BigFloat</b>, y::<b>BigFloat</b>) in Base.MPFR at <a href=\"https://github.com/JuliaLang/julia/tree/36034abf26062acad4af9dcec7c4fc53b260dbb4/base/mpfr.jl#L386\" target=\"_blank\">mpfr.jl:386</a></li> <li> +(x::<b>BigFloat</b>, c::<b>BigInt</b>) in Base.MPFR at <a href=\"https://github.com/JuliaLang/julia/tree/36034abf26062acad4af9dcec7c4fc53b260dbb4/base/mpfr.jl#L417\" target=\"_blank\">mpfr.jl:417</a></li> <li> +(a::<b>BigFloat</b>, b::<b>BigFloat</b>, c::<b>BigFloat</b>) in Base.MPFR at <a href=\"https://github.com/JuliaLang/julia/tree/36034abf26062acad4af9dcec7c4fc53b260dbb4/base/mpfr.jl#L558\" target=\"_blank\">mpfr.jl:558</a></li> <li> +(a::<b>BigFloat</b>, b::<b>BigFloat</b>, c::<b>BigFloat</b>, d::<b>BigFloat</b>) in Base.MPFR at <a href=\"https://github.com/JuliaLang/julia/tree/36034abf26062acad4af9dcec7c4fc53b260dbb4/base/mpfr.jl#L564\" target=\"_blank\">mpfr.jl:564</a></li> <li> +(a::<b>BigFloat</b>, b::<b>BigFloat</b>, c::<b>BigFloat</b>, d::<b>BigFloat</b>, e::<b>BigFloat</b>) in Base.MPFR at <a href=\"https://github.com/JuliaLang/julia/tree/36034abf26062acad4af9dcec7c4fc53b260dbb4/base/mpfr.jl#L571\" target=\"_blank\">mpfr.jl:571</a></li> <li> +(x::<b>Number</b>) in Base at <a href=\"https://github.com/JuliaLang/julia/tree/36034abf26062acad4af9dcec7c4fc53b260dbb4/base/operators.jl#L528\" target=\"_blank\">operators.jl:528</a></li> <li> +(x::<b>T</b>, y::<b>T</b>)<i> where T<:Number</i> in Base at <a href=\"https://github.com/JuliaLang/julia/tree/36034abf26062acad4af9dcec7c4fc53b260dbb4/base/promotion.jl#L463\" target=\"_blank\">promotion.jl:463</a></li> <li> +(x::<b>Number</b>, y::<b>Number</b>) in Base at <a href=\"https://github.com/JuliaLang/julia/tree/36034abf26062acad4af9dcec7c4fc53b260dbb4/base/promotion.jl#L388\" target=\"_blank\">promotion.jl:388</a></li> <li> +(x::<b>Dates.CompoundPeriod</b>, y::<b>Dates.Period</b>) in Dates at <a href=\"file:///cache/build/default-amdci4-6/julialang/julia-release-1-dot-8/usr/share/julia/stdlib/v1.8/Dates/src/periods.jl\" target=\"_blank\">/opt/julia-1.8.2/share/julia/stdlib/v1.8/Dates/src/periods.jl:368</a></li> <li> +(x::<b>Dates.CompoundPeriod</b>, y::<b>Dates.TimeType</b>) in Dates at <a href=\"file:///cache/build/default-amdci4-6/julialang/julia-release-1-dot-8/usr/share/julia/stdlib/v1.8/Dates/src/periods.jl\" target=\"_blank\">/opt/julia-1.8.2/share/julia/stdlib/v1.8/Dates/src/periods.jl:398</a></li> <li> +(x::<b>Dates.CompoundPeriod</b>, y::<b>Dates.CompoundPeriod</b>) in Dates at <a href=\"file:///cache/build/default-amdci4-6/julialang/julia-release-1-dot-8/usr/share/julia/stdlib/v1.8/Dates/src/periods.jl\" target=\"_blank\">/opt/julia-1.8.2/share/julia/stdlib/v1.8/Dates/src/periods.jl:370</a></li> <li> +(a::<b>Pkg.Resolve.FieldValue</b>, b::<b>Pkg.Resolve.FieldValue</b>) in Pkg.Resolve at <a href=\"file:///cache/build/default-amdci4-6/julialang/julia-release-1-dot-8/usr/share/julia/stdlib/v1.8/Pkg/src/Resolve/fieldvalues.jl\" target=\"_blank\">/opt/julia-1.8.2/share/julia/stdlib/v1.8/Pkg/src/Resolve/fieldvalues.jl:43</a></li> <li> +(a::<b>Pkg.Resolve.VersionWeight</b>, b::<b>Pkg.Resolve.VersionWeight</b>) in Pkg.Resolve at <a href=\"file:///cache/build/default-amdci4-6/julialang/julia-release-1-dot-8/usr/share/julia/stdlib/v1.8/Pkg/src/Resolve/versionweights.jl\" target=\"_blank\">/opt/julia-1.8.2/share/julia/stdlib/v1.8/Pkg/src/Resolve/versionweights.jl:22</a></li> <li> +(a, b, c, xs...) in Base at <a href=\"https://github.com/JuliaLang/julia/tree/36034abf26062acad4af9dcec7c4fc53b260dbb4/base/operators.jl#L591\" target=\"_blank\">operators.jl:591</a></li> </ul>"
      ],
      "text/plain": [
       "# 206 methods for generic function \"+\":\n",
       "[1] +(x::T, y::T) where T<:Union{Int128, Int16, Int32, Int64, Int8, UInt128, UInt16, UInt32, UInt64, UInt8} in Base at int.jl:87\n",
       "[2] +(x::T, y::T) where T<:Union{Float16, Float32, Float64} in Base at float.jl:383\n",
       "[3] +(c::Union{UInt16, UInt32, UInt64, UInt8}, x::BigInt) in Base.GMP at gmp.jl:531\n",
       "[4] +(c::Union{Int16, Int32, Int64, Int8}, x::BigInt) in Base.GMP at gmp.jl:537\n",
       "[5] +(c::Union{UInt16, UInt32, UInt64, UInt8}, x::BigFloat) in Base.MPFR at mpfr.jl:398\n",
       "[6] +(c::Union{Int16, Int32, Int64, Int8}, x::BigFloat) in Base.MPFR at mpfr.jl:406\n",
       "[7] +(c::Union{Float16, Float32, Float64}, x::BigFloat) in Base.MPFR at mpfr.jl:414\n",
       "[8] +(x::Union{Dates.CompoundPeriod, Dates.Period}) in Dates at /opt/julia-1.8.2/share/julia/stdlib/v1.8/Dates/src/periods.jl:378\n",
       "[9] +(A::LinearAlgebra.Hermitian, B::LinearAlgebra.Hermitian) in LinearAlgebra at /opt/julia-1.8.2/share/julia/stdlib/v1.8/LinearAlgebra/src/symmetric.jl:469\n",
       "[10] +(A::LinearAlgebra.Hermitian, B::LinearAlgebra.SymTridiagonal{var\"#s882\", V} where {var\"#s882\"<:Real, V<:AbstractVector{var\"#s882\"}}) in LinearAlgebra at /opt/julia-1.8.2/share/julia/stdlib/v1.8/LinearAlgebra/src/symmetric.jl:488\n",
       "[11] +(H::LinearAlgebra.Hermitian, D::LinearAlgebra.Diagonal{var\"#s885\", V} where {var\"#s885\"<:Real, V<:AbstractVector{var\"#s885\"}}) in LinearAlgebra at /opt/julia-1.8.2/share/julia/stdlib/v1.8/LinearAlgebra/src/diagonal.jl:197\n",
       "[12] +(A::LinearAlgebra.Hermitian, J::LinearAlgebra.UniformScaling{<:Complex}) in LinearAlgebra at /opt/julia-1.8.2/share/julia/stdlib/v1.8/LinearAlgebra/src/uniformscaling.jl:195\n",
       "[13] +(A::LinearAlgebra.Hermitian{<:Any, <:SparseArrays.AbstractSparseMatrix}, B::SparseArrays.AbstractSparseMatrix) in SparseArrays at /opt/julia-1.8.2/share/julia/stdlib/v1.8/SparseArrays/src/linalg.jl:15\n",
       "[14] +(A::LinearAlgebra.Hermitian, B::SparseArrays.AbstractSparseMatrix) in SparseArrays at /opt/julia-1.8.2/share/julia/stdlib/v1.8/SparseArrays/src/linalg.jl:18\n",
       "[15] +(A::LinearAlgebra.Hermitian{<:Any, <:SparseArrays.AbstractSparseMatrix}, B::LinearAlgebra.Symmetric{<:Real, <:SparseArrays.AbstractSparseMatrix}) in SparseArrays at /opt/julia-1.8.2/share/julia/stdlib/v1.8/SparseArrays/src/linalg.jl:26\n",
       "[16] +(A::LinearAlgebra.Hermitian, B::LinearAlgebra.Symmetric{var\"#s885\", S} where {var\"#s885\"<:Real, S<:(AbstractMatrix{<:var\"#s885\"})}) in LinearAlgebra at /opt/julia-1.8.2/share/julia/stdlib/v1.8/LinearAlgebra/src/symmetric.jl:483\n",
       "[17] +(A::LinearAlgebra.Hermitian{<:Any, <:SparseArrays.AbstractSparseMatrix}, B::LinearAlgebra.Symmetric{<:Any, <:SparseArrays.AbstractSparseMatrix}) in SparseArrays at /opt/julia-1.8.2/share/julia/stdlib/v1.8/SparseArrays/src/linalg.jl:24\n",
       "[18] +(x::P, y::P) where P<:Dates.Period in Dates at /opt/julia-1.8.2/share/julia/stdlib/v1.8/Dates/src/periods.jl:77\n",
       "[19] +(x::Dates.Period, y::Dates.Period) in Dates at /opt/julia-1.8.2/share/julia/stdlib/v1.8/Dates/src/periods.jl:367\n",
       "[20] +(y::Dates.Period, x::Dates.CompoundPeriod) in Dates at /opt/julia-1.8.2/share/julia/stdlib/v1.8/Dates/src/periods.jl:369\n",
       "[21] +(y::Dates.Period, x::Dates.TimeType) in Dates at /opt/julia-1.8.2/share/julia/stdlib/v1.8/Dates/src/arithmetic.jl:85\n",
       "[22] +(x::Dates.Period, r::AbstractRange{<:Dates.TimeType}) in Dates at /opt/julia-1.8.2/share/julia/stdlib/v1.8/Dates/src/ranges.jl:63\n",
       "[23] +(y::Union{Dates.CompoundPeriod, Dates.Period}, x::AbstractArray{<:Dates.TimeType}) in Dates at /opt/julia-1.8.2/share/julia/stdlib/v1.8/Dates/src/deprecated.jl:14\n",
       "[24] +(A::SparseArrays.AbstractSparseMatrix, B::LinearAlgebra.Hermitian{<:Any, <:SparseArrays.AbstractSparseMatrix}) in SparseArrays at /opt/julia-1.8.2/share/julia/stdlib/v1.8/SparseArrays/src/linalg.jl:14\n",
       "[25] +(A::SparseArrays.AbstractSparseMatrix, B::LinearAlgebra.Hermitian) in SparseArrays at /opt/julia-1.8.2/share/julia/stdlib/v1.8/SparseArrays/src/linalg.jl:17\n",
       "[26] +(A::SparseArrays.AbstractSparseMatrix, B::LinearAlgebra.Symmetric{<:Any, <:SparseArrays.AbstractSparseMatrix}) in SparseArrays at /opt/julia-1.8.2/share/julia/stdlib/v1.8/SparseArrays/src/linalg.jl:14\n",
       "[27] +(A::SparseArrays.AbstractSparseMatrix, B::LinearAlgebra.Symmetric) in SparseArrays at /opt/julia-1.8.2/share/julia/stdlib/v1.8/SparseArrays/src/linalg.jl:17\n",
       "[28] +(A::LinearAlgebra.UpperTriangular, B::LinearAlgebra.UpperTriangular) in LinearAlgebra at /opt/julia-1.8.2/share/julia/stdlib/v1.8/LinearAlgebra/src/triangular.jl:638\n",
       "[29] +(A::LinearAlgebra.UpperTriangular, B::LinearAlgebra.UnitUpperTriangular) in LinearAlgebra at /opt/julia-1.8.2/share/julia/stdlib/v1.8/LinearAlgebra/src/triangular.jl:640\n",
       "[30] +(x::LinearAlgebra.UpperTriangular, H::LinearAlgebra.UpperHessenberg) in LinearAlgebra at /opt/julia-1.8.2/share/julia/stdlib/v1.8/LinearAlgebra/src/hessenberg.jl:109\n",
       "[31] +(A::LinearAlgebra.UpperTriangular, B::LinearAlgebra.Bidiagonal) in LinearAlgebra at /opt/julia-1.8.2/share/julia/stdlib/v1.8/LinearAlgebra/src/special.jl:98\n",
       "[32] +(A::BitArray, B::BitArray) in Base at bitarray.jl:1184\n",
       "[33] +(A::LinearAlgebra.UnitUpperTriangular, B::LinearAlgebra.UpperTriangular) in LinearAlgebra at /opt/julia-1.8.2/share/julia/stdlib/v1.8/LinearAlgebra/src/triangular.jl:642\n",
       "[34] +(A::LinearAlgebra.UnitUpperTriangular, B::LinearAlgebra.UnitUpperTriangular) in LinearAlgebra at /opt/julia-1.8.2/share/julia/stdlib/v1.8/LinearAlgebra/src/triangular.jl:644\n",
       "[35] +(UL::LinearAlgebra.UnitUpperTriangular, J::LinearAlgebra.UniformScaling) in LinearAlgebra at /opt/julia-1.8.2/share/julia/stdlib/v1.8/LinearAlgebra/src/uniformscaling.jl:181\n",
       "[36] +(x::LinearAlgebra.UnitUpperTriangular, H::LinearAlgebra.UpperHessenberg) in LinearAlgebra at /opt/julia-1.8.2/share/julia/stdlib/v1.8/LinearAlgebra/src/hessenberg.jl:109\n",
       "[37] +(A::LinearAlgebra.UnitUpperTriangular, B::LinearAlgebra.Bidiagonal) in LinearAlgebra at /opt/julia-1.8.2/share/julia/stdlib/v1.8/LinearAlgebra/src/special.jl:98\n",
       "[38] +(z::Complex, w::Complex) in Base at complex.jl:288\n",
       "[39] +(Da::LinearAlgebra.Diagonal, Db::LinearAlgebra.Diagonal) in LinearAlgebra at /opt/julia-1.8.2/share/julia/stdlib/v1.8/LinearAlgebra/src/diagonal.jl:184\n",
       "[40] +(D::LinearAlgebra.Diagonal, S::LinearAlgebra.Symmetric) in LinearAlgebra at /opt/julia-1.8.2/share/julia/stdlib/v1.8/LinearAlgebra/src/diagonal.jl:188\n",
       "[41] +(D::LinearAlgebra.Diagonal{var\"#s885\", V} where {var\"#s885\"<:Real, V<:AbstractVector{var\"#s885\"}}, H::LinearAlgebra.Hermitian) in LinearAlgebra at /opt/julia-1.8.2/share/julia/stdlib/v1.8/LinearAlgebra/src/diagonal.jl:194\n",
       "[42] +(x::LinearAlgebra.Diagonal, H::LinearAlgebra.UpperHessenberg) in LinearAlgebra at /opt/julia-1.8.2/share/julia/stdlib/v1.8/LinearAlgebra/src/hessenberg.jl:109\n",
       "[43] +(A::LinearAlgebra.Diagonal, B::LinearAlgebra.Bidiagonal) in LinearAlgebra at /opt/julia-1.8.2/share/julia/stdlib/v1.8/LinearAlgebra/src/special.jl:137\n",
       "[44] +(A::LinearAlgebra.Diagonal, B::LinearAlgebra.SymTridiagonal) in LinearAlgebra at /opt/julia-1.8.2/share/julia/stdlib/v1.8/LinearAlgebra/src/special.jl:147\n",
       "[45] +(A::LinearAlgebra.Diagonal, B::LinearAlgebra.Tridiagonal) in LinearAlgebra at /opt/julia-1.8.2/share/julia/stdlib/v1.8/LinearAlgebra/src/special.jl:175\n",
       "[46] +(A::LinearAlgebra.Diagonal{var\"#s885\", V} where {var\"#s885\"<:Number, V<:AbstractVector{var\"#s885\"}}, B::LinearAlgebra.UniformScaling) in LinearAlgebra at /opt/julia-1.8.2/share/julia/stdlib/v1.8/LinearAlgebra/src/special.jl:253\n",
       "[47] +(r1::LinRange{T}, r2::LinRange{T}) where T in Base at range.jl:1431\n",
       "[48] +(x::Rational, y::Integer) in Base at rational.jl:313\n",
       "[49] +(x::AbstractIrrational, y::AbstractIrrational) in Base at irrationals.jl:158\n",
       "[50] +(A::LinearAlgebra.UnitLowerTriangular, B::LinearAlgebra.LowerTriangular) in LinearAlgebra at /opt/julia-1.8.2/share/julia/stdlib/v1.8/LinearAlgebra/src/triangular.jl:643\n",
       "[51] +(A::LinearAlgebra.UnitLowerTriangular, B::LinearAlgebra.UnitLowerTriangular) in LinearAlgebra at /opt/julia-1.8.2/share/julia/stdlib/v1.8/LinearAlgebra/src/triangular.jl:645\n",
       "[52] +(UL::LinearAlgebra.UnitLowerTriangular, J::LinearAlgebra.UniformScaling) in LinearAlgebra at /opt/julia-1.8.2/share/julia/stdlib/v1.8/LinearAlgebra/src/uniformscaling.jl:181\n",
       "[53] +(A::LinearAlgebra.UnitLowerTriangular, B::LinearAlgebra.Bidiagonal) in LinearAlgebra at /opt/julia-1.8.2/share/julia/stdlib/v1.8/LinearAlgebra/src/special.jl:98\n",
       "[54] +(x::T, y::Integer) where T<:AbstractChar in Base at char.jl:237\n",
       "[55] +(A::LinearAlgebra.SymTridiagonal, B::LinearAlgebra.SymTridiagonal) in LinearAlgebra at /opt/julia-1.8.2/share/julia/stdlib/v1.8/LinearAlgebra/src/tridiag.jl:207\n",
       "[56] +(A::LinearAlgebra.SymTridiagonal, B::LinearAlgebra.Symmetric) in LinearAlgebra at /opt/julia-1.8.2/share/julia/stdlib/v1.8/LinearAlgebra/src/symmetric.jl:485\n",
       "[57] +(A::LinearAlgebra.SymTridiagonal{var\"#s883\", V} where {var\"#s883\"<:Real, V<:AbstractVector{var\"#s883\"}}, B::LinearAlgebra.Hermitian) in LinearAlgebra at /opt/julia-1.8.2/share/julia/stdlib/v1.8/LinearAlgebra/src/symmetric.jl:487\n",
       "[58] +(x::LinearAlgebra.SymTridiagonal, H::LinearAlgebra.UpperHessenberg) in LinearAlgebra at /opt/julia-1.8.2/share/julia/stdlib/v1.8/LinearAlgebra/src/hessenberg.jl:109\n",
       "[59] +(A::LinearAlgebra.SymTridiagonal, B::LinearAlgebra.Diagonal) in LinearAlgebra at /opt/julia-1.8.2/share/julia/stdlib/v1.8/LinearAlgebra/src/special.jl:157\n",
       "[60] +(A::LinearAlgebra.SymTridiagonal, B::LinearAlgebra.Tridiagonal) in LinearAlgebra at /opt/julia-1.8.2/share/julia/stdlib/v1.8/LinearAlgebra/src/special.jl:171\n",
       "[61] +(A::LinearAlgebra.SymTridiagonal, B::LinearAlgebra.Bidiagonal) in LinearAlgebra at /opt/julia-1.8.2/share/julia/stdlib/v1.8/LinearAlgebra/src/special.jl:225\n",
       "[62] +(A::LinearAlgebra.SymTridiagonal{var\"#s885\", V} where {var\"#s885\"<:Number, V<:AbstractVector{var\"#s885\"}}, B::LinearAlgebra.UniformScaling) in LinearAlgebra at /opt/julia-1.8.2/share/julia/stdlib/v1.8/LinearAlgebra/src/special.jl:243\n",
       "[63] +(A::LinearAlgebra.LowerTriangular, B::LinearAlgebra.LowerTriangular) in LinearAlgebra at /opt/julia-1.8.2/share/julia/stdlib/v1.8/LinearAlgebra/src/triangular.jl:639\n",
       "[64] +(A::LinearAlgebra.LowerTriangular, B::LinearAlgebra.UnitLowerTriangular) in LinearAlgebra at /opt/julia-1.8.2/share/julia/stdlib/v1.8/LinearAlgebra/src/triangular.jl:641\n",
       "[65] +(A::LinearAlgebra.LowerTriangular, B::LinearAlgebra.Bidiagonal) in LinearAlgebra at /opt/julia-1.8.2/share/julia/stdlib/v1.8/LinearAlgebra/src/special.jl:98\n",
       "[66] +(A::LinearAlgebra.Tridiagonal, B::LinearAlgebra.Tridiagonal) in LinearAlgebra at /opt/julia-1.8.2/share/julia/stdlib/v1.8/LinearAlgebra/src/tridiag.jl:741\n",
       "[67] +(x::LinearAlgebra.Tridiagonal, H::LinearAlgebra.UpperHessenberg) in LinearAlgebra at /opt/julia-1.8.2/share/julia/stdlib/v1.8/LinearAlgebra/src/hessenberg.jl:109\n",
       "[68] +(A::LinearAlgebra.Tridiagonal, B::LinearAlgebra.SymTridiagonal) in LinearAlgebra at /opt/julia-1.8.2/share/julia/stdlib/v1.8/LinearAlgebra/src/special.jl:169\n",
       "[69] +(A::LinearAlgebra.Tridiagonal, B::LinearAlgebra.Diagonal) in LinearAlgebra at /opt/julia-1.8.2/share/julia/stdlib/v1.8/LinearAlgebra/src/special.jl:185\n",
       "[70] +(A::LinearAlgebra.Tridiagonal, B::LinearAlgebra.Bidiagonal) in LinearAlgebra at /opt/julia-1.8.2/share/julia/stdlib/v1.8/LinearAlgebra/src/special.jl:205\n",
       "[71] +(A::LinearAlgebra.Tridiagonal{var\"#s885\", V} where {var\"#s885\"<:Number, V<:AbstractVector{var\"#s885\"}}, B::LinearAlgebra.UniformScaling) in LinearAlgebra at /opt/julia-1.8.2/share/julia/stdlib/v1.8/LinearAlgebra/src/special.jl:238\n",
       "[72] +(index1::CartesianIndex{N}, index2::CartesianIndex{N}) where N in Base.IteratorsMD at multidimensional.jl:114\n",
       "[73] +(r1::OrdinalRange, r2::OrdinalRange) in Base at range.jl:1424\n",
       "[74] +(y::AbstractFloat, x::Bool) in Base at bool.jl:172\n",
       "[75] +(y::Dates.TimeType, x::StridedArray{<:Union{Dates.CompoundPeriod, Dates.Period}}) in Dates at /opt/julia-1.8.2/share/julia/stdlib/v1.8/Dates/src/deprecated.jl:18\n",
       "[76] +(x::Dates.Instant) in Dates at /opt/julia-1.8.2/share/julia/stdlib/v1.8/Dates/src/arithmetic.jl:4\n",
       "[77] +(A::LinearAlgebra.Bidiagonal, B::LinearAlgebra.Bidiagonal) in LinearAlgebra at /opt/julia-1.8.2/share/julia/stdlib/v1.8/LinearAlgebra/src/bidiag.jl:365\n",
       "[78] +(x::LinearAlgebra.Bidiagonal, H::LinearAlgebra.UpperHessenberg) in LinearAlgebra at /opt/julia-1.8.2/share/julia/stdlib/v1.8/LinearAlgebra/src/hessenberg.jl:109\n",
       "[79] +(A::LinearAlgebra.Bidiagonal, B::LinearAlgebra.UpperTriangular) in LinearAlgebra at /opt/julia-1.8.2/share/julia/stdlib/v1.8/LinearAlgebra/src/special.jl:106\n",
       "[80] +(A::LinearAlgebra.Bidiagonal, B::LinearAlgebra.UnitUpperTriangular) in LinearAlgebra at /opt/julia-1.8.2/share/julia/stdlib/v1.8/LinearAlgebra/src/special.jl:106\n",
       "[81] +(A::LinearAlgebra.Bidiagonal, B::LinearAlgebra.LowerTriangular) in LinearAlgebra at /opt/julia-1.8.2/share/julia/stdlib/v1.8/LinearAlgebra/src/special.jl:106\n",
       "[82] +(A::LinearAlgebra.Bidiagonal, B::LinearAlgebra.UnitLowerTriangular) in LinearAlgebra at /opt/julia-1.8.2/share/julia/stdlib/v1.8/LinearAlgebra/src/special.jl:106\n",
       "[83] +(A::LinearAlgebra.Bidiagonal, B::LinearAlgebra.Diagonal) in LinearAlgebra at /opt/julia-1.8.2/share/julia/stdlib/v1.8/LinearAlgebra/src/special.jl:127\n",
       "[84] +(A::LinearAlgebra.Bidiagonal, B::LinearAlgebra.Tridiagonal) in LinearAlgebra at /opt/julia-1.8.2/share/julia/stdlib/v1.8/LinearAlgebra/src/special.jl:195\n",
       "[85] +(A::LinearAlgebra.Bidiagonal, B::LinearAlgebra.SymTridiagonal) in LinearAlgebra at /opt/julia-1.8.2/share/julia/stdlib/v1.8/LinearAlgebra/src/special.jl:215\n",
       "[86] +(A::LinearAlgebra.Bidiagonal{var\"#s885\", V} where {var\"#s885\"<:Number, V<:AbstractVector{var\"#s885\"}}, B::LinearAlgebra.UniformScaling) in LinearAlgebra at /opt/julia-1.8.2/share/julia/stdlib/v1.8/LinearAlgebra/src/special.jl:248\n",
       "[87] +(x::Ptr, y::Integer) in Base at pointer.jl:159\n",
       "[88] +(A::SparseArrays.AbstractSparseMatrixCSC, B::SparseArrays.AbstractSparseMatrixCSC) in SparseArrays at /opt/julia-1.8.2/share/julia/stdlib/v1.8/SparseArrays/src/sparsematrix.jl:1829\n",
       "[89] +(x::SparseArrays.AbstractSparseVector, y::SparseArrays.AbstractSparseVector) in SparseArrays at /opt/julia-1.8.2/share/julia/stdlib/v1.8/SparseArrays/src/sparsevector.jl:1384\n",
       "[90] +(A::SparseArrays.AbstractSparseMatrixCSC, B::Array) in SparseArrays at /opt/julia-1.8.2/share/julia/stdlib/v1.8/SparseArrays/src/sparsematrix.jl:1832\n",
       "[91] +(A::SparseArrays.AbstractSparseMatrixCSC, J::LinearAlgebra.UniformScaling) in SparseArrays at /opt/julia-1.8.2/share/julia/stdlib/v1.8/SparseArrays/src/sparsematrix.jl:3821\n",
       "[92] +(r::AbstractRange{<:Dates.TimeType}, x::Dates.Period) in Dates at /opt/julia-1.8.2/share/julia/stdlib/v1.8/Dates/src/ranges.jl:64\n",
       "[93] +(x::AbstractArray{<:Dates.TimeType}, y::Union{Dates.CompoundPeriod, Dates.Period}) in Dates at /opt/julia-1.8.2/share/julia/stdlib/v1.8/Dates/src/deprecated.jl:6\n",
       "[94] +(x::Base.TwicePrecision, y::Number) in Base at twiceprecision.jl:290\n",
       "[95] +(x::Base.TwicePrecision{T}, y::Base.TwicePrecision{T}) where T in Base at twiceprecision.jl:296\n",
       "[96] +(x::Base.TwicePrecision, y::Base.TwicePrecision) in Base at twiceprecision.jl:301\n",
       "[97] +(J::LinearAlgebra.UniformScaling) in LinearAlgebra at /opt/julia-1.8.2/share/julia/stdlib/v1.8/LinearAlgebra/src/uniformscaling.jl:149\n",
       "[98] +(J::LinearAlgebra.UniformScaling, x::Number) in LinearAlgebra at /opt/julia-1.8.2/share/julia/stdlib/v1.8/LinearAlgebra/src/uniformscaling.jl:144\n",
       "[99] +(J1::LinearAlgebra.UniformScaling, J2::LinearAlgebra.UniformScaling) in LinearAlgebra at /opt/julia-1.8.2/share/julia/stdlib/v1.8/LinearAlgebra/src/uniformscaling.jl:150\n",
       "[100] +(J::LinearAlgebra.UniformScaling, B::BitMatrix) in LinearAlgebra at /opt/julia-1.8.2/share/julia/stdlib/v1.8/LinearAlgebra/src/uniformscaling.jl:152\n",
       "[101] +(x::LinearAlgebra.UniformScaling, H::LinearAlgebra.UpperHessenberg) in LinearAlgebra at /opt/julia-1.8.2/share/julia/stdlib/v1.8/LinearAlgebra/src/hessenberg.jl:109\n",
       "[102] +(J::LinearAlgebra.UniformScaling, F::LinearAlgebra.Hessenberg) in LinearAlgebra at /opt/julia-1.8.2/share/julia/stdlib/v1.8/LinearAlgebra/src/hessenberg.jl:642\n",
       "[103] +(A::LinearAlgebra.UniformScaling, B::LinearAlgebra.Tridiagonal{var\"#s885\", V} where {var\"#s885\"<:Number, V<:AbstractVector{var\"#s885\"}}) in LinearAlgebra at /opt/julia-1.8.2/share/julia/stdlib/v1.8/LinearAlgebra/src/special.jl:257\n",
       "[104] +(A::LinearAlgebra.UniformScaling, B::LinearAlgebra.SymTridiagonal{var\"#s885\", V} where {var\"#s885\"<:Number, V<:AbstractVector{var\"#s885\"}}) in LinearAlgebra at /opt/julia-1.8.2/share/julia/stdlib/v1.8/LinearAlgebra/src/special.jl:262\n",
       "[105] +(A::LinearAlgebra.UniformScaling, B::LinearAlgebra.Bidiagonal{var\"#s885\", V} where {var\"#s885\"<:Number, V<:AbstractVector{var\"#s885\"}}) in LinearAlgebra at /opt/julia-1.8.2/share/julia/stdlib/v1.8/LinearAlgebra/src/special.jl:267\n",
       "[106] +(A::LinearAlgebra.UniformScaling, B::LinearAlgebra.Diagonal{var\"#s885\", V} where {var\"#s885\"<:Number, V<:AbstractVector{var\"#s885\"}}) in LinearAlgebra at /opt/julia-1.8.2/share/julia/stdlib/v1.8/LinearAlgebra/src/special.jl:272\n",
       "[107] +(J::LinearAlgebra.UniformScaling, A::AbstractMatrix) in LinearAlgebra at /opt/julia-1.8.2/share/julia/stdlib/v1.8/LinearAlgebra/src/uniformscaling.jl:153\n",
       "[108] +(x::Dates.AbstractTime, y::Missing) in Dates at /opt/julia-1.8.2/share/julia/stdlib/v1.8/Dates/src/arithmetic.jl:88\n",
       "[109] +(A::LinearAlgebra.AbstractTriangular, B::LinearAlgebra.AbstractTriangular) in LinearAlgebra at /opt/julia-1.8.2/share/julia/stdlib/v1.8/LinearAlgebra/src/triangular.jl:646\n",
       "[110] +(F::LinearAlgebra.Hessenberg, J::LinearAlgebra.UniformScaling) in LinearAlgebra at /opt/julia-1.8.2/share/julia/stdlib/v1.8/LinearAlgebra/src/hessenberg.jl:641\n",
       "[111] +(r1::StepRangeLen{T, R}, r2::StepRangeLen{T, R}) where {R<:Base.TwicePrecision, T} in Base at twiceprecision.jl:644\n",
       "[112] +(r1::StepRangeLen{T, S}, r2::StepRangeLen{T, S}) where {T, S} in Base at range.jl:1447\n",
       "[113] +(r1::Union{LinRange, OrdinalRange, StepRangeLen}, r2::Union{LinRange, OrdinalRange, StepRangeLen}) in Base at range.jl:1440\n",
       "[114] +(A::LinearAlgebra.Symmetric, B::LinearAlgebra.Symmetric) in LinearAlgebra at /opt/julia-1.8.2/share/julia/stdlib/v1.8/LinearAlgebra/src/symmetric.jl:469\n",
       "[115] +(A::LinearAlgebra.Symmetric, B::LinearAlgebra.SymTridiagonal) in LinearAlgebra at /opt/julia-1.8.2/share/julia/stdlib/v1.8/LinearAlgebra/src/symmetric.jl:486\n",
       "[116] +(S::LinearAlgebra.Symmetric, D::LinearAlgebra.Diagonal) in LinearAlgebra at /opt/julia-1.8.2/share/julia/stdlib/v1.8/LinearAlgebra/src/diagonal.jl:191\n",
       "[117] +(A::LinearAlgebra.Symmetric{<:Any, <:SparseArrays.AbstractSparseMatrix}, B::SparseArrays.AbstractSparseMatrix) in SparseArrays at /opt/julia-1.8.2/share/julia/stdlib/v1.8/SparseArrays/src/linalg.jl:15\n",
       "[118] +(A::LinearAlgebra.Symmetric, B::SparseArrays.AbstractSparseMatrix) in SparseArrays at /opt/julia-1.8.2/share/julia/stdlib/v1.8/SparseArrays/src/linalg.jl:18\n",
       "[119] +(A::LinearAlgebra.Symmetric{<:Real, <:SparseArrays.AbstractSparseMatrix}, B::LinearAlgebra.Hermitian{<:Any, <:SparseArrays.AbstractSparseMatrix}) in SparseArrays at /opt/julia-1.8.2/share/julia/stdlib/v1.8/SparseArrays/src/linalg.jl:25\n",
       "[120] +(A::LinearAlgebra.Symmetric{var\"#s884\", S} where {var\"#s884\"<:Real, S<:(AbstractMatrix{<:var\"#s884\"})}, B::LinearAlgebra.Hermitian) in LinearAlgebra at /opt/julia-1.8.2/share/julia/stdlib/v1.8/LinearAlgebra/src/symmetric.jl:484\n",
       "[121] +(A::LinearAlgebra.Symmetric{<:Any, <:SparseArrays.AbstractSparseMatrix}, B::LinearAlgebra.Hermitian{<:Any, <:SparseArrays.AbstractSparseMatrix}) in SparseArrays at /opt/julia-1.8.2/share/julia/stdlib/v1.8/SparseArrays/src/linalg.jl:23\n",
       "[122] +(A::Array, Bs::Array...) in Base at arraymath.jl:12\n",
       "[123] +(X::StridedArray{<:Union{Dates.CompoundPeriod, Dates.Period}}, Y::StridedArray{<:Union{Dates.CompoundPeriod, Dates.Period}}) in Dates at /opt/julia-1.8.2/share/julia/stdlib/v1.8/Dates/src/deprecated.jl:62\n",
       "[124] +(A::Array, B::SparseArrays.AbstractSparseMatrixCSC) in SparseArrays at /opt/julia-1.8.2/share/julia/stdlib/v1.8/SparseArrays/src/sparsematrix.jl:1833\n",
       "[125] +(x::StridedArray{<:Union{Dates.CompoundPeriod, Dates.Period}}) in Dates at /opt/julia-1.8.2/share/julia/stdlib/v1.8/Dates/src/deprecated.jl:55\n",
       "[126] +(x::StridedArray{<:Union{Dates.CompoundPeriod, Dates.Period}}, y::Dates.TimeType) in Dates at /opt/julia-1.8.2/share/julia/stdlib/v1.8/Dates/src/deprecated.jl:10\n",
       "[127] +(A::LinearAlgebra.UpperHessenberg, B::LinearAlgebra.UpperHessenberg) in LinearAlgebra at /opt/julia-1.8.2/share/julia/stdlib/v1.8/LinearAlgebra/src/hessenberg.jl:101\n",
       "[128] +(H::LinearAlgebra.UpperHessenberg, x::LinearAlgebra.UniformScaling) in LinearAlgebra at /opt/julia-1.8.2/share/julia/stdlib/v1.8/LinearAlgebra/src/hessenberg.jl:108\n",
       "[129] +(H::LinearAlgebra.UpperHessenberg, x::LinearAlgebra.Diagonal) in LinearAlgebra at /opt/julia-1.8.2/share/julia/stdlib/v1.8/LinearAlgebra/src/hessenberg.jl:108\n",
       "[130] +(H::LinearAlgebra.UpperHessenberg, x::LinearAlgebra.Bidiagonal) in LinearAlgebra at /opt/julia-1.8.2/share/julia/stdlib/v1.8/LinearAlgebra/src/hessenberg.jl:108\n",
       "[131] +(H::LinearAlgebra.UpperHessenberg, x::LinearAlgebra.Tridiagonal) in LinearAlgebra at /opt/julia-1.8.2/share/julia/stdlib/v1.8/LinearAlgebra/src/hessenberg.jl:108\n",
       "[132] +(H::LinearAlgebra.UpperHessenberg, x::LinearAlgebra.SymTridiagonal) in LinearAlgebra at /opt/julia-1.8.2/share/julia/stdlib/v1.8/LinearAlgebra/src/hessenberg.jl:108\n",
       "[133] +(H::LinearAlgebra.UpperHessenberg, x::LinearAlgebra.UpperTriangular) in LinearAlgebra at /opt/julia-1.8.2/share/julia/stdlib/v1.8/LinearAlgebra/src/hessenberg.jl:108\n",
       "[134] +(H::LinearAlgebra.UpperHessenberg, x::LinearAlgebra.UnitUpperTriangular) in LinearAlgebra at /opt/julia-1.8.2/share/julia/stdlib/v1.8/LinearAlgebra/src/hessenberg.jl:108\n",
       "[135] +(A::AbstractArray, B::AbstractArray) in Base at arraymath.jl:6\n",
       "[136] +(dt::Dates.DateTime, y::Dates.Year) in Dates at /opt/julia-1.8.2/share/julia/stdlib/v1.8/Dates/src/arithmetic.jl:23\n",
       "[137] +(dt::Dates.DateTime, z::Dates.Month) in Dates at /opt/julia-1.8.2/share/julia/stdlib/v1.8/Dates/src/arithmetic.jl:47\n",
       "[138] +(x::Dates.DateTime, y::Dates.Quarter) in Dates at /opt/julia-1.8.2/share/julia/stdlib/v1.8/Dates/src/arithmetic.jl:75\n",
       "[139] +(x::Dates.DateTime, y::Dates.Period) in Dates at /opt/julia-1.8.2/share/julia/stdlib/v1.8/Dates/src/arithmetic.jl:81\n",
       "[140] +(x::BigInt, c::Union{UInt16, UInt32, UInt64, UInt8}) in Base.GMP at gmp.jl:530\n",
       "[141] +(x::BigInt, c::Union{Int16, Int32, Int64, Int8}) in Base.GMP at gmp.jl:536\n",
       "[142] +(x::BigInt, y::BigInt) in Base.GMP at gmp.jl:482\n",
       "[143] +(a::BigInt, b::BigInt, c::BigInt) in Base.GMP at gmp.jl:522\n",
       "[144] +(a::BigInt, b::BigInt, c::BigInt, d::BigInt) in Base.GMP at gmp.jl:523\n",
       "[145] +(a::BigInt, b::BigInt, c::BigInt, d::BigInt, e::BigInt) in Base.GMP at gmp.jl:524\n",
       "[146] +(x::BigInt, y::BigInt, rest::BigInt...) in Base.GMP at gmp.jl:657\n",
       "[147] +(c::BigInt, x::BigFloat) in Base.MPFR at mpfr.jl:422\n",
       "[148] +(x::Dates.Time, y::Dates.TimePeriod) in Dates at /opt/julia-1.8.2/share/julia/stdlib/v1.8/Dates/src/arithmetic.jl:83\n",
       "[149] +(t::Dates.Time, dt::Dates.Date) in Dates at /opt/julia-1.8.2/share/julia/stdlib/v1.8/Dates/src/arithmetic.jl:20\n",
       "[150] +(::Missing) in Base at missing.jl:101\n",
       "[151] +(::Missing, ::Number) in Base at missing.jl:123\n",
       "[152] +(x::Missing, y::Dates.AbstractTime) in Dates at /opt/julia-1.8.2/share/julia/stdlib/v1.8/Dates/src/arithmetic.jl:89\n",
       "[153] +(::Missing, ::Missing) in Base at missing.jl:122\n",
       "[154] +(x::Bool) in Base at bool.jl:159\n",
       "[155] +(x::Number, y::Base.TwicePrecision) in Base at twiceprecision.jl:294\n",
       "[156] +(::Number, ::Missing) in Base at missing.jl:124\n",
       "[157] +(x::Number, J::LinearAlgebra.UniformScaling) in LinearAlgebra at /opt/julia-1.8.2/share/julia/stdlib/v1.8/LinearAlgebra/src/uniformscaling.jl:145\n",
       "[158] +(x::Integer, y::Ptr) in Base at pointer.jl:161\n",
       "[159] +(y::Integer, x::Rational) in Base at rational.jl:320\n",
       "[160] +(x::Integer, y::AbstractChar) in Base at char.jl:247\n",
       "[161] +(x::Bool, y::T) where T<:AbstractFloat in Base at bool.jl:169\n",
       "[162] +(x::Bool, y::Bool) in Base at bool.jl:162\n",
       "[163] +(a::Integer, b::Integer) in Base at int.jl:987\n",
       "[164] +(x::Bool, z::Complex{Bool}) in Base at complex.jl:299\n",
       "[165] +(x::Real, z::Complex{Bool}) in Base at complex.jl:313\n",
       "[166] +(x::Bool, z::Complex) in Base at complex.jl:306\n",
       "[167] +(x::Real, z::Complex) in Base at complex.jl:325\n",
       "[168] +(z::Complex{Bool}, x::Bool) in Base at complex.jl:300\n",
       "[169] +(z::Complex, x::Bool) in Base at complex.jl:307\n",
       "[170] +(z::Complex{Bool}, x::Real) in Base at complex.jl:314\n",
       "[171] +(z::Complex) in Base at complex.jl:286\n",
       "[172] +(z::Complex, x::Real) in Base at complex.jl:326\n",
       "[173] +(x::Rational{BigInt}, y::Rational{BigInt}) in Base.GMP.MPQ at gmp.jl:922\n",
       "[174] +(x::Rational) in Base at rational.jl:270\n",
       "[175] +(x::Rational, y::Rational) in Base at rational.jl:284\n",
       "[176] +(level::Base.CoreLogging.LogLevel, inc::Integer) in Base.CoreLogging at logging.jl:131\n",
       "[177] +(B::BitMatrix, J::LinearAlgebra.UniformScaling) in LinearAlgebra at /opt/julia-1.8.2/share/julia/stdlib/v1.8/LinearAlgebra/src/uniformscaling.jl:151\n",
       "[178] +(A::AbstractMatrix, J::LinearAlgebra.UniformScaling) in LinearAlgebra at /opt/julia-1.8.2/share/julia/stdlib/v1.8/LinearAlgebra/src/uniformscaling.jl:214\n",
       "[179] +(x::AbstractArray{<:Number}) in Base at abstractarraymath.jl:220\n",
       "[180] +(dt::Dates.Date, t::Dates.Time) in Dates at /opt/julia-1.8.2/share/julia/stdlib/v1.8/Dates/src/arithmetic.jl:19\n",
       "[181] +(dt::Dates.Date, y::Dates.Year) in Dates at /opt/julia-1.8.2/share/julia/stdlib/v1.8/Dates/src/arithmetic.jl:27\n",
       "[182] +(dt::Dates.Date, z::Dates.Month) in Dates at /opt/julia-1.8.2/share/julia/stdlib/v1.8/Dates/src/arithmetic.jl:54\n",
       "[183] +(x::Dates.Date, y::Dates.Quarter) in Dates at /opt/julia-1.8.2/share/julia/stdlib/v1.8/Dates/src/arithmetic.jl:73\n",
       "[184] +(x::Dates.Date, y::Dates.Week) in Dates at /opt/julia-1.8.2/share/julia/stdlib/v1.8/Dates/src/arithmetic.jl:77\n",
       "[185] +(x::Dates.Date, y::Dates.Day) in Dates at /opt/julia-1.8.2/share/julia/stdlib/v1.8/Dates/src/arithmetic.jl:79\n",
       "[186] +(x::Dates.TimeType) in Dates at /opt/julia-1.8.2/share/julia/stdlib/v1.8/Dates/src/arithmetic.jl:8\n",
       "[187] +(a::Dates.TimeType, b::Dates.Period, c::Dates.Period) in Dates at /opt/julia-1.8.2/share/julia/stdlib/v1.8/Dates/src/periods.jl:389\n",
       "[188] +(a::Dates.TimeType, b::Dates.Period, c::Dates.Period, d::Dates.Period...) in Dates at /opt/julia-1.8.2/share/julia/stdlib/v1.8/Dates/src/periods.jl:390\n",
       "[189] +(x::Dates.TimeType, y::Dates.CompoundPeriod) in Dates at /opt/julia-1.8.2/share/julia/stdlib/v1.8/Dates/src/periods.jl:392\n",
       "[190] +(x::BigFloat, c::Union{UInt16, UInt32, UInt64, UInt8}) in Base.MPFR at mpfr.jl:393\n",
       "[191] +(x::BigFloat, c::Union{Int16, Int32, Int64, Int8}) in Base.MPFR at mpfr.jl:401\n",
       "[192] +(x::BigFloat, c::Union{Float16, Float32, Float64}) in Base.MPFR at mpfr.jl:409\n",
       "[193] +(x::BigFloat, y::BigFloat) in Base.MPFR at mpfr.jl:386\n",
       "[194] +(x::BigFloat, c::BigInt) in Base.MPFR at mpfr.jl:417\n",
       "[195] +(a::BigFloat, b::BigFloat, c::BigFloat) in Base.MPFR at mpfr.jl:558\n",
       "[196] +(a::BigFloat, b::BigFloat, c::BigFloat, d::BigFloat) in Base.MPFR at mpfr.jl:564\n",
       "[197] +(a::BigFloat, b::BigFloat, c::BigFloat, d::BigFloat, e::BigFloat) in Base.MPFR at mpfr.jl:571\n",
       "[198] +(x::Number) in Base at operators.jl:528\n",
       "[199] +(x::T, y::T) where T<:Number in Base at promotion.jl:463\n",
       "[200] +(x::Number, y::Number) in Base at promotion.jl:388\n",
       "[201] +(x::Dates.CompoundPeriod, y::Dates.Period) in Dates at /opt/julia-1.8.2/share/julia/stdlib/v1.8/Dates/src/periods.jl:368\n",
       "[202] +(x::Dates.CompoundPeriod, y::Dates.TimeType) in Dates at /opt/julia-1.8.2/share/julia/stdlib/v1.8/Dates/src/periods.jl:398\n",
       "[203] +(x::Dates.CompoundPeriod, y::Dates.CompoundPeriod) in Dates at /opt/julia-1.8.2/share/julia/stdlib/v1.8/Dates/src/periods.jl:370\n",
       "[204] +(a::Pkg.Resolve.FieldValue, b::Pkg.Resolve.FieldValue) in Pkg.Resolve at /opt/julia-1.8.2/share/julia/stdlib/v1.8/Pkg/src/Resolve/fieldvalues.jl:43\n",
       "[205] +(a::Pkg.Resolve.VersionWeight, b::Pkg.Resolve.VersionWeight) in Pkg.Resolve at /opt/julia-1.8.2/share/julia/stdlib/v1.8/Pkg/src/Resolve/versionweights.jl:22\n",
       "[206] +(a, b, c, xs...) in Base at operators.jl:591"
      ]
     },
     "execution_count": 103,
     "metadata": {},
     "output_type": "execute_result"
    }
   ],
   "source": [
    "methods(+)"
   ]
  },
  {
   "cell_type": "code",
   "execution_count": 104,
   "id": "f6ca12a3",
   "metadata": {},
   "outputs": [
    {
     "data": {
      "text/plain": [
       "f (generic function with 2 methods)"
      ]
     },
     "execution_count": 104,
     "metadata": {},
     "output_type": "execute_result"
    }
   ],
   "source": [
    "function f(a, b = 1)\n",
    "    a + b\n",
    "end"
   ]
  },
  {
   "cell_type": "code",
   "execution_count": 105,
   "id": "e68dd2e1",
   "metadata": {
    "scrolled": false
   },
   "outputs": [
    {
     "data": {
      "text/html": [
       "# 2 methods for generic function <b>f</b>:<ul><li> f(a) in Main at In[104]:1</li> <li> f(a, b) in Main at In[104]:1</li> </ul>"
      ],
      "text/plain": [
       "# 2 methods for generic function \"f\":\n",
       "[1] f(a) in Main at In[104]:1\n",
       "[2] f(a, b) in Main at In[104]:1"
      ]
     },
     "execution_count": 105,
     "metadata": {},
     "output_type": "execute_result"
    }
   ],
   "source": [
    "methods(f)"
   ]
  },
  {
   "cell_type": "markdown",
   "id": "deb92fe8",
   "metadata": {},
   "source": [
    "### 4.2. Multiple Dispatch\n",
    "\n",
    "- Given a single function with many methods, how does Julia choose which method to call?\n",
    "\n",
    "> The choice of which method to execute when a function is applied is called dispatch. **Julia allows the dispatch process to choose which of a function's methods to call based on the number of arguments given, and on the types of all of the function's arguments**. This is different than traditional object-oriented languages, where dispatch occurs based only on the first argument, which often has a special argument syntax, and is sometimes implied rather than explicitly written as an argument. **Using all of a function's arguments to choose which method should be invoked, rather than just the first, is known as multiple dispatch**. \n",
    "\n",
    "\n",
    "- In particular, Julia will automatically select the **most specific** method matching the arguments provided.\n",
    "\n",
    "\n",
    "- What do we mean by most specific? Multiple dispatch can work on both abstract types and concrete types, and subtypes are considered more specific than their supertypes. \n",
    "\n",
    "\n",
    "- This is why a well-defined type hierarchy and multiple dispatch go hand-in-hand.\n",
    "\n",
    "\n",
    "### 4.3. Defining Methods\n",
    "\n",
    "\n",
    "- To define new methods, simply use the same function definition syntax we saw in the first lecture:\n",
    "    1. The first time you define a function with a given name, the function object will be created along with a single method.\n",
    "    2. Each subsequent function declaration with the same function name and distinct arguments (distinct by either number or type) will create a new method associated with the existing function."
   ]
  },
  {
   "cell_type": "code",
   "execution_count": 106,
   "id": "bbe66058",
   "metadata": {},
   "outputs": [
    {
     "data": {
      "text/plain": [
       "add (generic function with 1 method)"
      ]
     },
     "execution_count": 106,
     "metadata": {},
     "output_type": "execute_result"
    }
   ],
   "source": [
    "function add(x, y)\n",
    "    x + y\n",
    "end"
   ]
  },
  {
   "cell_type": "code",
   "execution_count": 107,
   "id": "fa13bdb2",
   "metadata": {},
   "outputs": [
    {
     "data": {
      "text/html": [
       "# 1 method for generic function <b>add</b>:<ul><li> add(x, y) in Main at In[106]:1</li> </ul>"
      ],
      "text/plain": [
       "# 1 method for generic function \"add\":\n",
       "[1] add(x, y) in Main at In[106]:1"
      ]
     },
     "execution_count": 107,
     "metadata": {},
     "output_type": "execute_result"
    }
   ],
   "source": [
    "methods(add)"
   ]
  },
  {
   "cell_type": "code",
   "execution_count": 108,
   "id": "726a9cd2",
   "metadata": {},
   "outputs": [
    {
     "data": {
      "text/plain": [
       "add (generic function with 2 methods)"
      ]
     },
     "execution_count": 108,
     "metadata": {},
     "output_type": "execute_result"
    }
   ],
   "source": [
    "function add(x::Float64, y::Float64)\n",
    "    x + y\n",
    "end"
   ]
  },
  {
   "cell_type": "code",
   "execution_count": 109,
   "id": "6721424f",
   "metadata": {
    "scrolled": true
   },
   "outputs": [
    {
     "data": {
      "text/html": [
       "# 2 methods for generic function <b>add</b>:<ul><li> add(x::<b>Float64</b>, y::<b>Float64</b>) in Main at In[108]:1</li> <li> add(x, y) in Main at In[106]:1</li> </ul>"
      ],
      "text/plain": [
       "# 2 methods for generic function \"add\":\n",
       "[1] add(x::Float64, y::Float64) in Main at In[108]:1\n",
       "[2] add(x, y) in Main at In[106]:1"
      ]
     },
     "execution_count": 109,
     "metadata": {},
     "output_type": "execute_result"
    }
   ],
   "source": [
    "methods(add)"
   ]
  },
  {
   "cell_type": "code",
   "execution_count": 110,
   "id": "ef50bd0e",
   "metadata": {},
   "outputs": [
    {
     "data": {
      "text/plain": [
       "add (generic function with 3 methods)"
      ]
     },
     "execution_count": 110,
     "metadata": {},
     "output_type": "execute_result"
    }
   ],
   "source": [
    "function add(x::Float64, y::Float32)\n",
    "    x + y\n",
    "end"
   ]
  },
  {
   "cell_type": "code",
   "execution_count": 111,
   "id": "90c1693f",
   "metadata": {},
   "outputs": [
    {
     "data": {
      "text/html": [
       "# 3 methods for generic function <b>add</b>:<ul><li> add(x::<b>Float64</b>, y::<b>Float64</b>) in Main at In[108]:1</li> <li> add(x::<b>Float64</b>, y::<b>Float32</b>) in Main at In[110]:1</li> <li> add(x, y) in Main at In[106]:1</li> </ul>"
      ],
      "text/plain": [
       "# 3 methods for generic function \"add\":\n",
       "[1] add(x::Float64, y::Float64) in Main at In[108]:1\n",
       "[2] add(x::Float64, y::Float32) in Main at In[110]:1\n",
       "[3] add(x, y) in Main at In[106]:1"
      ]
     },
     "execution_count": 111,
     "metadata": {},
     "output_type": "execute_result"
    }
   ],
   "source": [
    "methods(add)"
   ]
  },
  {
   "cell_type": "code",
   "execution_count": 112,
   "id": "54106b83",
   "metadata": {},
   "outputs": [
    {
     "data": {
      "text/plain": [
       "add (generic function with 4 methods)"
      ]
     },
     "execution_count": 112,
     "metadata": {},
     "output_type": "execute_result"
    }
   ],
   "source": [
    "function add(x, y, z)\n",
    "    x + y + z\n",
    "end"
   ]
  },
  {
   "cell_type": "code",
   "execution_count": 113,
   "id": "a4218b30",
   "metadata": {},
   "outputs": [
    {
     "data": {
      "text/html": [
       "# 4 methods for generic function <b>add</b>:<ul><li> add(x::<b>Float64</b>, y::<b>Float64</b>) in Main at In[108]:1</li> <li> add(x::<b>Float64</b>, y::<b>Float32</b>) in Main at In[110]:1</li> <li> add(x, y) in Main at In[106]:1</li> <li> add(x, y, z) in Main at In[112]:1</li> </ul>"
      ],
      "text/plain": [
       "# 4 methods for generic function \"add\":\n",
       "[1] add(x::Float64, y::Float64) in Main at In[108]:1\n",
       "[2] add(x::Float64, y::Float32) in Main at In[110]:1\n",
       "[3] add(x, y) in Main at In[106]:1\n",
       "[4] add(x, y, z) in Main at In[112]:1"
      ]
     },
     "execution_count": 113,
     "metadata": {},
     "output_type": "execute_result"
    }
   ],
   "source": [
    "methods(add)"
   ]
  },
  {
   "cell_type": "code",
   "execution_count": 117,
   "id": "75dbec2b",
   "metadata": {},
   "outputs": [
    {
     "data": {
      "text/plain": [
       "6"
      ]
     },
     "execution_count": 117,
     "metadata": {},
     "output_type": "execute_result"
    }
   ],
   "source": [
    "add(1, 2, 3)"
   ]
  },
  {
   "cell_type": "code",
   "execution_count": 116,
   "id": "0185674f",
   "metadata": {},
   "outputs": [
    {
     "data": {
      "text/plain": [
       "3.0f0"
      ]
     },
     "execution_count": 116,
     "metadata": {},
     "output_type": "execute_result"
    }
   ],
   "source": [
    "add(1, 2f0)"
   ]
  },
  {
   "cell_type": "markdown",
   "id": "c967f0f8",
   "metadata": {},
   "source": [
    "- Note that, **unlike type annotations on structs, type annotations do not have impact on the performance of methods**. \n",
    "\n",
    "\n",
    "- Instead, each time you call a function with a new combination of arguments for the first time, Julia will automatically compile an efficient version of that function for those specific argument types. Each subsequent invocation of the function with the same argument types will use the already compiled method."
   ]
  },
  {
   "cell_type": "code",
   "execution_count": 119,
   "id": "c2b1b239",
   "metadata": {},
   "outputs": [
    {
     "data": {
      "text/html": [
       "# 4 methods for generic function <b>add</b>:<ul><li> add(x::<b>Float64</b>, y::<b>Float64</b>) in Main at In[108]:1</li> <li> add(x::<b>Float64</b>, y::<b>Float32</b>) in Main at In[110]:1</li> <li> add(x, y) in Main at In[106]:1</li> <li> add(x, y, z) in Main at In[112]:1</li> </ul>"
      ],
      "text/plain": [
       "# 4 methods for generic function \"add\":\n",
       "[1] add(x::Float64, y::Float64) in Main at In[108]:1\n",
       "[2] add(x::Float64, y::Float32) in Main at In[110]:1\n",
       "[3] add(x, y) in Main at In[106]:1\n",
       "[4] add(x, y, z) in Main at In[112]:1"
      ]
     },
     "execution_count": 119,
     "metadata": {},
     "output_type": "execute_result"
    }
   ],
   "source": [
    "methods(add)"
   ]
  },
  {
   "cell_type": "code",
   "execution_count": 120,
   "id": "f8ed64d7",
   "metadata": {},
   "outputs": [
    {
     "name": "stdout",
     "output_type": "stream",
     "text": [
      "  1.305 ns (0 allocations: 0 bytes)\n"
     ]
    },
    {
     "data": {
      "text/plain": [
       "3.0f0"
      ]
     },
     "execution_count": 120,
     "metadata": {},
     "output_type": "execute_result"
    }
   ],
   "source": [
    "@btime add(1f0, 2f0)  # 32-bit floats"
   ]
  },
  {
   "cell_type": "code",
   "execution_count": 121,
   "id": "4ffb31db",
   "metadata": {},
   "outputs": [
    {
     "data": {
      "text/plain": [
       "add (generic function with 5 methods)"
      ]
     },
     "execution_count": 121,
     "metadata": {},
     "output_type": "execute_result"
    }
   ],
   "source": [
    "function add(x::Float32, y::Float32)\n",
    "    x + y\n",
    "end"
   ]
  },
  {
   "cell_type": "code",
   "execution_count": 122,
   "id": "ab28706d",
   "metadata": {},
   "outputs": [
    {
     "data": {
      "text/html": [
       "# 5 methods for generic function <b>add</b>:<ul><li> add(x::<b>Float64</b>, y::<b>Float64</b>) in Main at In[108]:1</li> <li> add(x::<b>Float64</b>, y::<b>Float32</b>) in Main at In[110]:1</li> <li> add(x::<b>Float32</b>, y::<b>Float32</b>) in Main at In[121]:1</li> <li> add(x, y) in Main at In[106]:1</li> <li> add(x, y, z) in Main at In[112]:1</li> </ul>"
      ],
      "text/plain": [
       "# 5 methods for generic function \"add\":\n",
       "[1] add(x::Float64, y::Float64) in Main at In[108]:1\n",
       "[2] add(x::Float64, y::Float32) in Main at In[110]:1\n",
       "[3] add(x::Float32, y::Float32) in Main at In[121]:1\n",
       "[4] add(x, y) in Main at In[106]:1\n",
       "[5] add(x, y, z) in Main at In[112]:1"
      ]
     },
     "execution_count": 122,
     "metadata": {},
     "output_type": "execute_result"
    }
   ],
   "source": [
    "methods(add)"
   ]
  },
  {
   "cell_type": "code",
   "execution_count": 123,
   "id": "60112622",
   "metadata": {
    "scrolled": true
   },
   "outputs": [
    {
     "name": "stdout",
     "output_type": "stream",
     "text": [
      "  1.303 ns (0 allocations: 0 bytes)\n"
     ]
    },
    {
     "data": {
      "text/plain": [
       "3.0f0"
      ]
     },
     "execution_count": 123,
     "metadata": {},
     "output_type": "execute_result"
    }
   ],
   "source": [
    "@btime add(1f0, 2f0)"
   ]
  },
  {
   "cell_type": "markdown",
   "id": "d907c1c1",
   "metadata": {},
   "source": [
    "### 4.4. Example: Animals\n",
    "\n",
    "- Earlier, we defined some animals. Now, let's add behaviour using methods and multiple dispatch."
   ]
  },
  {
   "cell_type": "code",
   "execution_count": 124,
   "id": "129d0fde",
   "metadata": {
    "scrolled": true
   },
   "outputs": [
    {
     "name": "stdout",
     "output_type": "stream",
     "text": [
      "Animal\n",
      "├─ Canine\n",
      "│  ├─ Dog\n",
      "│  └─ Wolf\n",
      "└─ Feline\n",
      "   ├─ Cat\n",
      "   └─ Lion\n"
     ]
    }
   ],
   "source": [
    "print_tree(Animal)"
   ]
  },
  {
   "cell_type": "code",
   "execution_count": 125,
   "id": "0291add2",
   "metadata": {},
   "outputs": [
    {
     "data": {
      "text/plain": [
       "(:name, :home)"
      ]
     },
     "execution_count": 125,
     "metadata": {},
     "output_type": "execute_result"
    }
   ],
   "source": [
    "fieldnames(Dog)"
   ]
  },
  {
   "cell_type": "code",
   "execution_count": 126,
   "id": "7882a6dd",
   "metadata": {},
   "outputs": [
    {
     "data": {
      "text/plain": [
       "(:name, :pack)"
      ]
     },
     "execution_count": 126,
     "metadata": {},
     "output_type": "execute_result"
    }
   ],
   "source": [
    "fieldnames(Wolf)"
   ]
  },
  {
   "cell_type": "code",
   "execution_count": 127,
   "id": "04f3f7a5",
   "metadata": {},
   "outputs": [
    {
     "data": {
      "text/plain": [
       "(:name, :home)"
      ]
     },
     "execution_count": 127,
     "metadata": {},
     "output_type": "execute_result"
    }
   ],
   "source": [
    "fieldnames(Cat)"
   ]
  },
  {
   "cell_type": "code",
   "execution_count": 128,
   "id": "74b5aacc",
   "metadata": {},
   "outputs": [
    {
     "data": {
      "text/plain": [
       "(:name, :pride)"
      ]
     },
     "execution_count": 128,
     "metadata": {},
     "output_type": "execute_result"
    }
   ],
   "source": [
    "fieldnames(Lion)"
   ]
  },
  {
   "cell_type": "code",
   "execution_count": 129,
   "id": "a69b3654",
   "metadata": {},
   "outputs": [],
   "source": [
    "# Create some animals\n",
    "teddy = Dog(\"Teddy\", \"Fischer Family\")\n",
    "yukon = Wolf(\"Yukon\", \"Inner Alaska Pack\")\n",
    "felix = Cat(\"Felix\", \"Müller Family\")\n",
    "simba = Lion(\"Simba\", \"Mount Elgon Pride\");"
   ]
  },
  {
   "cell_type": "code",
   "execution_count": 130,
   "id": "670236c4",
   "metadata": {},
   "outputs": [
    {
     "data": {
      "text/plain": [
       "encounter (generic function with 2 methods)"
      ]
     },
     "execution_count": 130,
     "metadata": {},
     "output_type": "execute_result"
    }
   ],
   "source": [
    "# Methods can be annotated with abstract types\n",
    "function encounter(canine_one::Canine, canine_two::Canine)\n",
    "    println(\"Uncertain whether these two canines will get along. Remain wary.\")\n",
    "end\n",
    "\n",
    "# Methods without type annotations will accept any type\n",
    "function encounter(animal_one, animal_two)\n",
    "    println(\"No well defined encounter for a $(typeof(animal_one)) and a $(typeof(animal_two)).\")\n",
    "end"
   ]
  },
  {
   "cell_type": "code",
   "execution_count": 131,
   "id": "d7b59ea1",
   "metadata": {},
   "outputs": [
    {
     "data": {
      "text/html": [
       "# 2 methods for generic function <b>encounter</b>:<ul><li> encounter(canine_one::<b>Canine</b>, canine_two::<b>Canine</b>) in Main at In[130]:2</li> <li> encounter(animal_one, animal_two) in Main at In[130]:7</li> </ul>"
      ],
      "text/plain": [
       "# 2 methods for generic function \"encounter\":\n",
       "[1] encounter(canine_one::Canine, canine_two::Canine) in Main at In[130]:2\n",
       "[2] encounter(animal_one, animal_two) in Main at In[130]:7"
      ]
     },
     "execution_count": 131,
     "metadata": {},
     "output_type": "execute_result"
    }
   ],
   "source": [
    "methods(encounter)"
   ]
  },
  {
   "cell_type": "code",
   "execution_count": 132,
   "id": "3d5bfe5e",
   "metadata": {},
   "outputs": [
    {
     "name": "stdout",
     "output_type": "stream",
     "text": [
      "Uncertain whether these two canines will get along. Remain wary.\n"
     ]
    }
   ],
   "source": [
    "encounter(teddy, yukon)"
   ]
  },
  {
   "cell_type": "code",
   "execution_count": 133,
   "id": "4b7fd208",
   "metadata": {},
   "outputs": [
    {
     "name": "stdout",
     "output_type": "stream",
     "text": [
      "No well defined encounter for a Dog and a Cat.\n"
     ]
    }
   ],
   "source": [
    "encounter(teddy, felix)"
   ]
  },
  {
   "cell_type": "code",
   "execution_count": 134,
   "id": "8c72bf30",
   "metadata": {},
   "outputs": [
    {
     "data": {
      "text/plain": [
       "encounter (generic function with 6 methods)"
      ]
     },
     "execution_count": 134,
     "metadata": {},
     "output_type": "execute_result"
    }
   ],
   "source": [
    "# Define more specific methods annotated with concrete types\n",
    "function encounter(dog_one::Dog, dog_two::Dog)\n",
    "    println(\"$(dog_one.name) wags tail. So does $(dog_two.name).\")\n",
    "end\n",
    "\n",
    "function encounter(cat_one::Cat, cat_two::Cat)\n",
    "    println(\"No thanks.\")\n",
    "end\n",
    "\n",
    "function encounter(dog::Dog, cat::Cat)\n",
    "    println(\"$(cat.name) chases $(dog.name) away.\")\n",
    "end\n",
    "\n",
    "encounter(cat::Cat, dog::Dog) = play(dog, cat)  # Allow arguments to be provided in either order"
   ]
  },
  {
   "cell_type": "code",
   "execution_count": 135,
   "id": "045f124a",
   "metadata": {},
   "outputs": [
    {
     "data": {
      "text/html": [
       "# 6 methods for generic function <b>encounter</b>:<ul><li> encounter(dog_one::<b>Dog</b>, dog_two::<b>Dog</b>) in Main at In[134]:2</li> <li> encounter(canine_one::<b>Canine</b>, canine_two::<b>Canine</b>) in Main at In[130]:2</li> <li> encounter(cat_one::<b>Cat</b>, cat_two::<b>Cat</b>) in Main at In[134]:6</li> <li> encounter(dog::<b>Dog</b>, cat::<b>Cat</b>) in Main at In[134]:10</li> <li> encounter(cat::<b>Cat</b>, dog::<b>Dog</b>) in Main at In[134]:14</li> <li> encounter(animal_one, animal_two) in Main at In[130]:7</li> </ul>"
      ],
      "text/plain": [
       "# 6 methods for generic function \"encounter\":\n",
       "[1] encounter(dog_one::Dog, dog_two::Dog) in Main at In[134]:2\n",
       "[2] encounter(canine_one::Canine, canine_two::Canine) in Main at In[130]:2\n",
       "[3] encounter(cat_one::Cat, cat_two::Cat) in Main at In[134]:6\n",
       "[4] encounter(dog::Dog, cat::Cat) in Main at In[134]:10\n",
       "[5] encounter(cat::Cat, dog::Dog) in Main at In[134]:14\n",
       "[6] encounter(animal_one, animal_two) in Main at In[130]:7"
      ]
     },
     "execution_count": 135,
     "metadata": {},
     "output_type": "execute_result"
    }
   ],
   "source": [
    "methods(encounter)"
   ]
  },
  {
   "cell_type": "code",
   "execution_count": 136,
   "id": "5d1f6c8b",
   "metadata": {},
   "outputs": [
    {
     "name": "stdout",
     "output_type": "stream",
     "text": [
      "Felix chases Teddy away.\n"
     ]
    }
   ],
   "source": [
    "encounter(teddy, felix)"
   ]
  },
  {
   "cell_type": "code",
   "execution_count": 137,
   "id": "b88518b5",
   "metadata": {
    "scrolled": true
   },
   "outputs": [
    {
     "name": "stdout",
     "output_type": "stream",
     "text": [
      "No well defined encounter for a Lion and a Cat.\n"
     ]
    }
   ],
   "source": [
    "encounter(simba, felix)"
   ]
  },
  {
   "cell_type": "code",
   "execution_count": 138,
   "id": "0dd01cf0",
   "metadata": {},
   "outputs": [
    {
     "name": "stdout",
     "output_type": "stream",
     "text": [
      "No thanks.\n"
     ]
    }
   ],
   "source": [
    "encounter(felix, felix)"
   ]
  },
  {
   "cell_type": "markdown",
   "id": "3ad68b44",
   "metadata": {},
   "source": [
    "- **Multiple dispatch is one of the core programming paradigms of the Julia language.**\n",
    "\n",
    "\n",
    "- How does this compare to standard object-oriented languages? How would you do same example with the animals and their encounters in Python?\n",
    "\n",
    "\n",
    "\n",
    "- **Tip**: To get the most out of Julia's multiple dispatch, avoid the temptation to define overly specific functions. For example, you could define a method `encounter` for *any* objects which can do a thing called encounter. Add methods to the function `encounter` instead of defining new functions like `encounter_dog_dog` or `encounter_dog_dog_dog`."
   ]
  },
  {
   "cell_type": "markdown",
   "id": "ef0aab1e",
   "metadata": {},
   "source": [
    "## 5. Parametric Methods <a class=\"anchor\" id=\"parametric-methods\"></a>\n",
    "\n",
    "\n",
    "- Type parameters can also be used in method definitions. For example:"
   ]
  },
  {
   "cell_type": "code",
   "execution_count": 139,
   "id": "db3bb467",
   "metadata": {},
   "outputs": [
    {
     "data": {
      "text/plain": [
       "f (generic function with 3 methods)"
      ]
     },
     "execution_count": 139,
     "metadata": {},
     "output_type": "execute_result"
    }
   ],
   "source": [
    "function f(x::T, y::T) where {T}\n",
    "    return true\n",
    "end\n",
    "\n",
    "function f(x, y)\n",
    "    return false\n",
    "end"
   ]
  },
  {
   "cell_type": "code",
   "execution_count": 140,
   "id": "efb084e5",
   "metadata": {},
   "outputs": [
    {
     "data": {
      "text/plain": [
       "true"
      ]
     },
     "execution_count": 140,
     "metadata": {},
     "output_type": "execute_result"
    }
   ],
   "source": [
    "f(1.0, 1.0)"
   ]
  },
  {
   "cell_type": "code",
   "execution_count": 141,
   "id": "78224928",
   "metadata": {},
   "outputs": [
    {
     "data": {
      "text/plain": [
       "false"
      ]
     },
     "execution_count": 141,
     "metadata": {},
     "output_type": "execute_result"
    }
   ],
   "source": [
    "f(1.0, 1.0f0)"
   ]
  },
  {
   "cell_type": "markdown",
   "id": "a504c6b9",
   "metadata": {},
   "source": [
    "- What do you think this function does?\n"
   ]
  },
  {
   "cell_type": "markdown",
   "id": "5aabf792",
   "metadata": {},
   "source": [
    "- As before, the values of `T` can be restricted to subtypes of a given type. For example:"
   ]
  },
  {
   "cell_type": "code",
   "execution_count": 143,
   "id": "34e7a12b",
   "metadata": {},
   "outputs": [
    {
     "data": {
      "text/plain": [
       "f_numeric (generic function with 2 methods)"
      ]
     },
     "execution_count": 143,
     "metadata": {},
     "output_type": "execute_result"
    }
   ],
   "source": [
    "function f_numeric(x::T, y::T) where {T<:Number}\n",
    "    return true\n",
    "end\n",
    "\n",
    "function f_numeric(x, y)\n",
    "    return false\n",
    "end"
   ]
  },
  {
   "cell_type": "markdown",
   "id": "3ab8d659",
   "metadata": {},
   "source": [
    "- What do you think this function does?"
   ]
  },
  {
   "cell_type": "code",
   "execution_count": 145,
   "id": "3fd802d7",
   "metadata": {},
   "outputs": [
    {
     "data": {
      "text/plain": [
       "false"
      ]
     },
     "execution_count": 145,
     "metadata": {},
     "output_type": "execute_result"
    }
   ],
   "source": [
    "f_numeric(\"1.0\", \"1.0\")"
   ]
  },
  {
   "cell_type": "markdown",
   "id": "a1ce0125",
   "metadata": {},
   "source": [
    "- The method type parameter `T` can also be used inside the function body:"
   ]
  },
  {
   "cell_type": "code",
   "execution_count": 146,
   "id": "a69fe3e0",
   "metadata": {},
   "outputs": [
    {
     "data": {
      "text/plain": [
       "g (generic function with 1 method)"
      ]
     },
     "execution_count": 146,
     "metadata": {},
     "output_type": "execute_result"
    }
   ],
   "source": [
    "function g(x::T) where T\n",
    "    return T\n",
    "end"
   ]
  },
  {
   "cell_type": "markdown",
   "id": "8962d0ef",
   "metadata": {},
   "source": [
    "- What do you think this function does?"
   ]
  },
  {
   "cell_type": "code",
   "execution_count": 148,
   "id": "24b55a64",
   "metadata": {},
   "outputs": [
    {
     "data": {
      "text/plain": [
       "Float64"
      ]
     },
     "execution_count": 148,
     "metadata": {},
     "output_type": "execute_result"
    }
   ],
   "source": [
    "g(1.0)  # typeof(1.0)"
   ]
  },
  {
   "cell_type": "code",
   "execution_count": 149,
   "id": "4ae712ba",
   "metadata": {},
   "outputs": [
    {
     "data": {
      "text/plain": [
       "String"
      ]
     },
     "execution_count": 149,
     "metadata": {},
     "output_type": "execute_result"
    }
   ],
   "source": [
    "g(\"1\")"
   ]
  },
  {
   "cell_type": "markdown",
   "id": "362658db",
   "metadata": {},
   "source": [
    "- As before, multiple type parameters are possible:"
   ]
  },
  {
   "cell_type": "code",
   "execution_count": 150,
   "id": "e251bb01",
   "metadata": {
    "scrolled": true
   },
   "outputs": [
    {
     "data": {
      "text/plain": [
       "concat_number_to_string (generic function with 2 methods)"
      ]
     },
     "execution_count": 150,
     "metadata": {},
     "output_type": "execute_result"
    }
   ],
   "source": [
    "function concat_number_to_string(x::S, y::N) where {S<:AbstractString, N<:Number}\n",
    "    return x * string(y)\n",
    "end\n",
    "\n",
    "function concat_number_to_string(x::N, y::S) where {N<:Number, S<:AbstractString}\n",
    "    return string(x) * y\n",
    "end"
   ]
  },
  {
   "cell_type": "code",
   "execution_count": 151,
   "id": "24939242",
   "metadata": {},
   "outputs": [
    {
     "data": {
      "text/plain": [
       "\"My number is 1.0\""
      ]
     },
     "execution_count": 151,
     "metadata": {},
     "output_type": "execute_result"
    }
   ],
   "source": [
    "concat_number_to_string(\"My number is \", 1.0)"
   ]
  },
  {
   "cell_type": "code",
   "execution_count": 152,
   "id": "7a25ea32",
   "metadata": {},
   "outputs": [
    {
     "data": {
      "text/plain": [
       "\"1.0 is my number.\""
      ]
     },
     "execution_count": 152,
     "metadata": {},
     "output_type": "execute_result"
    }
   ],
   "source": [
    "concat_number_to_string(1.0, \" is my number.\")"
   ]
  },
  {
   "cell_type": "markdown",
   "id": "630c0896",
   "metadata": {},
   "source": [
    "- Why are parametric methods useful? One use-case is to ensure the **correctness** of your code, by enforcing invariants."
   ]
  },
  {
   "cell_type": "code",
   "execution_count": 153,
   "id": "732a0b95",
   "metadata": {},
   "outputs": [
    {
     "data": {
      "text/plain": [
       "strict_add (generic function with 1 method)"
      ]
     },
     "execution_count": 153,
     "metadata": {},
     "output_type": "execute_result"
    }
   ],
   "source": [
    "function strict_add(x::T, y::T) where {T}\n",
    "    x + y\n",
    "end"
   ]
  },
  {
   "cell_type": "code",
   "execution_count": 154,
   "id": "cc1303cc",
   "metadata": {},
   "outputs": [
    {
     "ename": "LoadError",
     "evalue": "MethodError: no method matching strict_add(::Float32, ::Float64)\n\u001b[0mClosest candidates are:\n\u001b[0m  strict_add(::T, \u001b[91m::T\u001b[39m) where T at In[153]:1",
     "output_type": "error",
     "traceback": [
      "MethodError: no method matching strict_add(::Float32, ::Float64)\n\u001b[0mClosest candidates are:\n\u001b[0m  strict_add(::T, \u001b[91m::T\u001b[39m) where T at In[153]:1",
      "",
      "Stacktrace:",
      " [1] top-level scope",
      "   @ In[154]:1",
      " [2] eval",
      "   @ ./boot.jl:368 [inlined]",
      " [3] include_string(mapexpr::typeof(REPL.softscope), mod::Module, code::String, filename::String)",
      "   @ Base ./loading.jl:1428"
     ]
    }
   ],
   "source": [
    "strict_add(1f0, 2e0)"
   ]
  },
  {
   "cell_type": "code",
   "execution_count": 155,
   "id": "5b68e4c1",
   "metadata": {
    "scrolled": true
   },
   "outputs": [
    {
     "data": {
      "text/plain": [
       "CodeInfo(\n",
       "\u001b[90m1 ─\u001b[39m %1 = Base.add_float(x, y)\n",
       "\u001b[90m└──\u001b[39m      return %1\n",
       ")"
      ]
     },
     "execution_count": 155,
     "metadata": {},
     "output_type": "execute_result"
    }
   ],
   "source": [
    "@code_lowered 1f0 + 1f0"
   ]
  },
  {
   "cell_type": "code",
   "execution_count": 156,
   "id": "126949e2",
   "metadata": {},
   "outputs": [
    {
     "data": {
      "text/plain": [
       "CodeInfo(\n",
       "\u001b[90m1 ─\u001b[39m %1 = Base.promote(x, y)\n",
       "\u001b[90m│  \u001b[39m %2 = Core._apply_iterate(Base.iterate, Base.:+, %1)\n",
       "\u001b[90m└──\u001b[39m      return %2\n",
       ")"
      ]
     },
     "execution_count": 156,
     "metadata": {},
     "output_type": "execute_result"
    }
   ],
   "source": [
    "@code_lowered 1.0f0 + 2.0e0"
   ]
  },
  {
   "cell_type": "markdown",
   "id": "bc0cf892",
   "metadata": {},
   "source": [
    "## 6. Conclusion <a class=\"anchor\" id=\"multiple-dispatch\"></a>\n",
    "\n",
    "- When you need to define custom structure and behaviour in Julia - which will be often - think about:  \n",
    "    1. Structs (for structure).\n",
    "    2. Methods which operate on your structs (for behaviour)."
   ]
  },
  {
   "cell_type": "markdown",
   "id": "d43baf95",
   "metadata": {},
   "source": [
    "## 7. Further Reading <a class=\"anchor\" id=\"further-reading\"></a>\n",
    "\n",
    "- The [official Julia documentation](https://docs.julialang.org/en/v1/) is quite thorough and well-explained on the topics we've covered today:  \n",
    "\n",
    "    1. [Types](https://docs.julialang.org/en/v1/manual/types/)\n",
    "    2. [Methods and Multiple Dispatch](https://docs.julialang.org/en/v1/manual/methods/)\n",
    "    3. [Julia Performance Tips](https://docs.julialang.org/en/v1/manual/performance-tips/)\n",
    "    \n",
    "    \n",
    "\n",
    "- [JuliaCon 2019 | The Unreasonable Effectiveness of Multiple Dispatch | Stefan Karpinski](https://www.youtube.com/watch?v=kc9HwsxE1OY)\n"
   ]
  },
  {
   "cell_type": "markdown",
   "id": "c288a55c",
   "metadata": {},
   "source": [
    "## 8. Next Week <a class=\"anchor\" id=\"next-week\"></a>\n",
    "1. Chaos in Dynamical Systems, Part I\n",
    "2. [DynamicalSystems.jl](https://juliadynamics.github.io/DynamicalSystems.jl/latest/), Part I"
   ]
  },
  {
   "cell_type": "markdown",
   "id": "c7345dcc",
   "metadata": {},
   "source": [
    "## 9. Quick Survey  <a class=\"anchor\" id=\"survey\"></a>\n",
    "\n",
    "- Please take three minutes to fill out this survey on the course so far: https://forms.gle/SdDGr1E46v89dSBX8\n",
    "\n",
    "\n",
    "- The more feedback we get, the more we can tailor the course to you!"
   ]
  }
 ],
 "metadata": {
  "kernelspec": {
   "display_name": "Julia 1.8.2",
   "language": "julia",
   "name": "julia-1.8"
  },
  "language_info": {
   "file_extension": ".jl",
   "mimetype": "application/julia",
   "name": "julia",
   "version": "1.8.2"
  }
 },
 "nbformat": 4,
 "nbformat_minor": 5
}
