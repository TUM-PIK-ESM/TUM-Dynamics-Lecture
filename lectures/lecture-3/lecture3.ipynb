{
 "cells": [
  {
   "cell_type": "markdown",
   "id": "4f0ebff0",
   "metadata": {},
   "source": [
    "# Lecture 3 - Julia - Parametric Types and Methods, Mutable Structs\n",
    "\n",
    "## Contents\n",
    "1. [Parametric Types](#parametric-types)\n",
    "2. [Parametric Methods](#parametric-methods)\n",
    "3. [Structs are Immutable](#structs-immutable)\n",
    "4. [Further Reading](#further-reading)"
   ]
  },
  {
   "cell_type": "code",
   "execution_count": 1,
   "id": "513a4823",
   "metadata": {},
   "outputs": [],
   "source": [
    "# Useful code snippet for printing type trees\n",
    "using AbstractTrees\n",
    "AbstractTrees.children(x::Type) = subtypes(x)"
   ]
  },
  {
   "cell_type": "markdown",
   "id": "bb2dcf5a",
   "metadata": {},
   "source": [
    "## 1. Parametric Types <a class=\"anchor\" id=\"parametric-types\"></a>\n",
    "\n",
    "- In the last lecture we saw how to define composite types, or structs. For example, to define a point in 2D Cartesian space we could do:"
   ]
  },
  {
   "cell_type": "code",
   "execution_count": 2,
   "id": "8e2668e8",
   "metadata": {},
   "outputs": [],
   "source": [
    "struct MyPoint\n",
    "    x\n",
    "    y\n",
    "end"
   ]
  },
  {
   "cell_type": "markdown",
   "id": "c16cc9a2",
   "metadata": {},
   "source": [
    "- Additionally, we could annotate the struct's fields with types, either abstract or concrete. For example:"
   ]
  },
  {
   "cell_type": "code",
   "execution_count": 3,
   "id": "f4be60e2",
   "metadata": {},
   "outputs": [],
   "source": [
    "struct MyPointReal\n",
    "    x::Real\n",
    "    y::Real\n",
    "end"
   ]
  },
  {
   "cell_type": "code",
   "execution_count": 4,
   "id": "c9784f3c",
   "metadata": {},
   "outputs": [],
   "source": [
    "struct MyPointFloat64\n",
    "    x::Float64\n",
    "    y::Float64\n",
    "end"
   ]
  },
  {
   "cell_type": "markdown",
   "id": "bf6ddb68",
   "metadata": {},
   "source": [
    "- Of course, this is a tedious coding style. Don't do this!\n",
    "\n",
    "\n",
    "- Fortunately, Julia provides powerful machinery for easily defining entire families of types."
   ]
  },
  {
   "cell_type": "markdown",
   "id": "fed8b54e",
   "metadata": {},
   "source": [
    "### 1.1. Parametric Composite Types \n",
    "\n",
    "- Julia's type system is *parametric*: types can take parameters, so that type declarations actually introduce an entire family of new types - one for each possible combination of the parameter values.\n",
    "\n",
    "\n",
    "- Type parameters are introduced immediately after the type name, surrounded by curly braces:"
   ]
  },
  {
   "cell_type": "code",
   "execution_count": 5,
   "id": "620aa54c",
   "metadata": {},
   "outputs": [],
   "source": [
    "struct Point{T}\n",
    "   x::T\n",
    "   y::T\n",
    "end"
   ]
  },
  {
   "cell_type": "markdown",
   "id": "a3971df1",
   "metadata": {},
   "source": [
    "- `T` can be *any* Julia type.\n",
    "\n",
    "\n",
    "- This declaration defines a new parametric type, `Point{T}`, holding two \"coordinates\" of type `T`.\n",
    "\n",
    "\n",
    "- For example, `Point{Float64}` is a concrete type equivalent to the type defined by replacing `T` in the definition of `Point` with `Float64`. That is, `Point{Float64}` is functionally equivalent to the `MyPointFloat64` struct that we defined earlier."
   ]
  },
  {
   "cell_type": "code",
   "execution_count": 6,
   "id": "97b04668",
   "metadata": {},
   "outputs": [
    {
     "data": {
      "text/plain": [
       "true"
      ]
     },
     "execution_count": 6,
     "metadata": {},
     "output_type": "execute_result"
    }
   ],
   "source": [
    "isconcretetype(Point{Float64})"
   ]
  },
  {
   "cell_type": "code",
   "execution_count": 7,
   "id": "2d99343e",
   "metadata": {},
   "outputs": [
    {
     "data": {
      "text/plain": [
       "false"
      ]
     },
     "execution_count": 7,
     "metadata": {},
     "output_type": "execute_result"
    }
   ],
   "source": [
    "isconcretetype(Point)"
   ]
  },
  {
   "cell_type": "markdown",
   "id": "c0ac423b",
   "metadata": {},
   "source": [
    "- We see therefore that our parametric definition of `Point{T}` actually declares an unlimited number of types, one for each possible value of `T`, each of which is now a usable concrete type. "
   ]
  },
  {
   "cell_type": "code",
   "execution_count": 8,
   "id": "e2c665b2",
   "metadata": {},
   "outputs": [
    {
     "data": {
      "text/plain": [
       "Point{Float64}(1.0, 2.0)"
      ]
     },
     "execution_count": 8,
     "metadata": {},
     "output_type": "execute_result"
    }
   ],
   "source": [
    "Point{Float64}(1.0, 2.0)"
   ]
  },
  {
   "cell_type": "code",
   "execution_count": 9,
   "id": "88b946e3",
   "metadata": {},
   "outputs": [
    {
     "data": {
      "text/plain": [
       "Point{String}(\"1.0\", \"2.0\")"
      ]
     },
     "execution_count": 9,
     "metadata": {},
     "output_type": "execute_result"
    }
   ],
   "source": [
    "Point{String}(\"1.0\", \"2.0\")"
   ]
  },
  {
   "cell_type": "markdown",
   "id": "b26eb397",
   "metadata": {},
   "source": [
    "- When creating an instance of `Point`, the value of the parameter type `T` can be omitted if it is unambiguous:"
   ]
  },
  {
   "cell_type": "code",
   "execution_count": 10,
   "id": "c846cfb8",
   "metadata": {},
   "outputs": [
    {
     "data": {
      "text/plain": [
       "Point{Float64}(1.0, 2.0)"
      ]
     },
     "execution_count": 10,
     "metadata": {},
     "output_type": "execute_result"
    }
   ],
   "source": [
    "Point(1.0, 2.0)"
   ]
  },
  {
   "cell_type": "code",
   "execution_count": 11,
   "id": "6316d0b8",
   "metadata": {},
   "outputs": [
    {
     "data": {
      "text/plain": [
       "Point{String}(\"1.0\", \"2.0\")"
      ]
     },
     "execution_count": 11,
     "metadata": {},
     "output_type": "execute_result"
    }
   ],
   "source": [
    "Point(\"1.0\", \"2.0\")"
   ]
  },
  {
   "cell_type": "markdown",
   "id": "dc778868",
   "metadata": {},
   "source": [
    "- `Point` itself is a valid type object (neither abstract nor concrete!) containing all possible instances of `Point{T}` as subtypes:"
   ]
  },
  {
   "cell_type": "code",
   "execution_count": 12,
   "id": "87544612",
   "metadata": {},
   "outputs": [
    {
     "data": {
      "text/plain": [
       "true"
      ]
     },
     "execution_count": 12,
     "metadata": {},
     "output_type": "execute_result"
    }
   ],
   "source": [
    "Point{Float64} <: Point"
   ]
  },
  {
   "cell_type": "markdown",
   "id": "2868221b",
   "metadata": {},
   "source": [
    "- However, concrete `Point` types with different values of `T` are never subtypes of each other:"
   ]
  },
  {
   "cell_type": "code",
   "execution_count": 13,
   "id": "0ba5b62e",
   "metadata": {},
   "outputs": [
    {
     "data": {
      "text/plain": [
       "false"
      ]
     },
     "execution_count": 13,
     "metadata": {},
     "output_type": "execute_result"
    }
   ],
   "source": [
    "Point{Float64} <: Point{AbstractFloat}"
   ]
  },
  {
   "cell_type": "markdown",
   "id": "99845102",
   "metadata": {},
   "source": [
    "- Often, we will want to restrict the possible values of the type parameter `T`. For example, to restrict our coordinates to real numbers, we could have done:"
   ]
  },
  {
   "cell_type": "code",
   "execution_count": 19,
   "id": "a93a4073",
   "metadata": {},
   "outputs": [],
   "source": [
    "struct PointReal{T<:Real}\n",
    "   x::T\n",
    "   y::T\n",
    "end"
   ]
  },
  {
   "cell_type": "code",
   "execution_count": 20,
   "id": "bd89bf7b",
   "metadata": {},
   "outputs": [
    {
     "ename": "LoadError",
     "evalue": "TypeError: in PointReal, in T, expected T<:Real, got Type{String}",
     "output_type": "error",
     "traceback": [
      "TypeError: in PointReal, in T, expected T<:Real, got Type{String}",
      "",
      "Stacktrace:",
      " [1] top-level scope",
      "   @ In[20]:1",
      " [2] eval",
      "   @ ./boot.jl:373 [inlined]",
      " [3] include_string(mapexpr::typeof(REPL.softscope), mod::Module, code::String, filename::String)",
      "   @ Base ./loading.jl:1196"
     ]
    }
   ],
   "source": [
    "PointReal{String}"
   ]
  },
  {
   "cell_type": "markdown",
   "id": "70938dc0",
   "metadata": {},
   "source": [
    "- We can also have multiple type parameters for a single parametric type. For example:"
   ]
  },
  {
   "cell_type": "code",
   "execution_count": 21,
   "id": "20bf3a23",
   "metadata": {},
   "outputs": [],
   "source": [
    "struct Person{A<:AbstractString, B<:Integer, C<:Real}\n",
    "    name::A\n",
    "    age::B\n",
    "    height::C\n",
    "    weight::C\n",
    "end"
   ]
  },
  {
   "cell_type": "markdown",
   "id": "0d85f891",
   "metadata": {},
   "source": [
    "### 1.2. Parametric Abstract Types\n",
    "\n",
    "- Parametric abstract type declarations declare a collection of abstract types, in much the same way:"
   ]
  },
  {
   "cell_type": "code",
   "execution_count": 22,
   "id": "ecb3be29",
   "metadata": {},
   "outputs": [],
   "source": [
    "abstract type Pointy{T} end"
   ]
  },
  {
   "cell_type": "markdown",
   "id": "20cf779e",
   "metadata": {},
   "source": [
    "- Once again, we have a distinct abstract type for every possible value of `T`.\n",
    "\n",
    "\n",
    "- We could have declared `Point{T}` to be a subtype of `Pointy{T}`. For example:"
   ]
  },
  {
   "cell_type": "code",
   "execution_count": 23,
   "id": "ecb497fc",
   "metadata": {},
   "outputs": [],
   "source": [
    "struct Point2D{T} <: Pointy{T}\n",
    "   x::T\n",
    "   y::T\n",
    "end"
   ]
  },
  {
   "cell_type": "code",
   "execution_count": 24,
   "id": "6a64895e",
   "metadata": {},
   "outputs": [],
   "source": [
    "struct Point3D{T} <: Pointy{T}\n",
    "   x::T\n",
    "   y::T\n",
    "   z::T\n",
    "end"
   ]
  },
  {
   "cell_type": "markdown",
   "id": "27cde368",
   "metadata": {},
   "source": [
    "- We now have a distinct type tree for each allowed (real) value of `T`. For example:"
   ]
  },
  {
   "cell_type": "code",
   "execution_count": 25,
   "id": "bd8f2311",
   "metadata": {},
   "outputs": [
    {
     "name": "stdout",
     "output_type": "stream",
     "text": [
      "Pointy{Float64}\n",
      "├─ Point2D{Float64}\n",
      "└─ Point3D{Float64}\n"
     ]
    }
   ],
   "source": [
    "print_tree(Pointy{Float64})"
   ]
  },
  {
   "cell_type": "code",
   "execution_count": 26,
   "id": "78f92592",
   "metadata": {},
   "outputs": [
    {
     "name": "stdout",
     "output_type": "stream",
     "text": [
      "Pointy{Int32}\n",
      "├─ Point2D{Int32}\n",
      "└─ Point3D{Int32}\n"
     ]
    }
   ],
   "source": [
    "print_tree(Pointy{Int32})"
   ]
  },
  {
   "cell_type": "code",
   "execution_count": 27,
   "id": "20af677d",
   "metadata": {
    "scrolled": true
   },
   "outputs": [
    {
     "name": "stdout",
     "output_type": "stream",
     "text": [
      "Pointy\n",
      "├─ Point2D\n",
      "└─ Point3D\n"
     ]
    }
   ],
   "source": [
    "print_tree(Pointy)"
   ]
  },
  {
   "cell_type": "markdown",
   "id": "a25c9fd5",
   "metadata": {},
   "source": [
    "### 1.3. Performance Considerations\n",
    "\n",
    "- To allow Julia to compile your code into efficient machine code, it is strongly advised to avoid writing structs with abstract field types. For example, don't do this:"
   ]
  },
  {
   "cell_type": "code",
   "execution_count": 28,
   "id": "9095b75b",
   "metadata": {},
   "outputs": [],
   "source": [
    "struct slow_struct\n",
    "    a::AbstractFloat\n",
    "end"
   ]
  },
  {
   "cell_type": "markdown",
   "id": "f9dc6f0a",
   "metadata": {},
   "source": [
    "- Parametric types offer a much better alternative:"
   ]
  },
  {
   "cell_type": "code",
   "execution_count": 29,
   "id": "c0ed8717",
   "metadata": {},
   "outputs": [],
   "source": [
    "struct fast_struct{T<:AbstractFloat}\n",
    "    a::T\n",
    "end"
   ]
  },
  {
   "cell_type": "markdown",
   "id": "55de075c",
   "metadata": {},
   "source": [
    "- The reason for the difference is the Julia compiler's use of type inference to optimise your code. The type of an individual instance of `fast_struct` also contains information about the type of `a`, allowing the Julia compiler to make the necessary optimisations:"
   ]
  },
  {
   "cell_type": "code",
   "execution_count": 30,
   "id": "404a4160",
   "metadata": {},
   "outputs": [
    {
     "data": {
      "text/plain": [
       "fast_struct{Float64}"
      ]
     },
     "execution_count": 30,
     "metadata": {},
     "output_type": "execute_result"
    }
   ],
   "source": [
    "typeof(fast_struct(1.0))"
   ]
  },
  {
   "cell_type": "markdown",
   "id": "ee462e2e",
   "metadata": {},
   "source": [
    "- On the other hand, the type of an instance of `slow_struct` tell the compiler nothing about the type of `a`:"
   ]
  },
  {
   "cell_type": "code",
   "execution_count": 31,
   "id": "5417605c",
   "metadata": {},
   "outputs": [
    {
     "data": {
      "text/plain": [
       "slow_struct"
      ]
     },
     "execution_count": 31,
     "metadata": {},
     "output_type": "execute_result"
    }
   ],
   "source": [
    "typeof(slow_struct(1.0))"
   ]
  },
  {
   "cell_type": "markdown",
   "id": "12641c41",
   "metadata": {},
   "source": [
    "- Let's look at a straightforward example:"
   ]
  },
  {
   "cell_type": "code",
   "execution_count": 2,
   "id": "1b4b99e6",
   "metadata": {},
   "outputs": [],
   "source": [
    "struct NumbersAmbiguous\n",
    "    a\n",
    "    b\n",
    "end"
   ]
  },
  {
   "cell_type": "code",
   "execution_count": 3,
   "id": "a582b93d",
   "metadata": {},
   "outputs": [],
   "source": [
    "struct NumbersTyped{T<:Real}\n",
    "    a::T\n",
    "    b::T\n",
    "end"
   ]
  },
  {
   "cell_type": "code",
   "execution_count": 4,
   "id": "e8a430ce",
   "metadata": {},
   "outputs": [
    {
     "data": {
      "text/plain": [
       "multiply (generic function with 1 method)"
      ]
     },
     "execution_count": 4,
     "metadata": {},
     "output_type": "execute_result"
    }
   ],
   "source": [
    "function multiply(numbers)\n",
    "    return numbers.a * numbers.b\n",
    "end"
   ]
  },
  {
   "cell_type": "code",
   "execution_count": 5,
   "id": "cac84f6a",
   "metadata": {},
   "outputs": [
    {
     "data": {
      "text/plain": [
       "NumbersAmbiguous"
      ]
     },
     "execution_count": 5,
     "metadata": {},
     "output_type": "execute_result"
    }
   ],
   "source": [
    "numbers_ambiguous = NumbersAmbiguous(1.0, 2.0)\n",
    "typeof(numbers_ambiguous)"
   ]
  },
  {
   "cell_type": "code",
   "execution_count": 6,
   "id": "13cc1bce",
   "metadata": {},
   "outputs": [
    {
     "data": {
      "text/plain": [
       "NumbersTyped{Float64}"
      ]
     },
     "execution_count": 6,
     "metadata": {},
     "output_type": "execute_result"
    }
   ],
   "source": [
    "numbers_typed = NumbersTyped(1.0, 2.0)\n",
    "typeof(numbers_typed)"
   ]
  },
  {
   "cell_type": "code",
   "execution_count": 8,
   "id": "4c7f80fd",
   "metadata": {},
   "outputs": [
    {
     "name": "stdout",
     "output_type": "stream",
     "text": [
      "  25.221 ns (1 allocation: 16 bytes)\n"
     ]
    },
    {
     "data": {
      "text/plain": [
       "2.0"
      ]
     },
     "execution_count": 8,
     "metadata": {},
     "output_type": "execute_result"
    }
   ],
   "source": [
    "using BenchmarkTools\n",
    "@btime multiply(numbers_ambiguous)"
   ]
  },
  {
   "cell_type": "code",
   "execution_count": 9,
   "id": "3bd363bc",
   "metadata": {},
   "outputs": [
    {
     "name": "stdout",
     "output_type": "stream",
     "text": [
      "  15.712 ns (1 allocation: 16 bytes)\n"
     ]
    },
    {
     "data": {
      "text/plain": [
       "2.0"
      ]
     },
     "execution_count": 9,
     "metadata": {},
     "output_type": "execute_result"
    }
   ],
   "source": [
    "@btime multiply(numbers_typed)"
   ]
  },
  {
   "cell_type": "markdown",
   "id": "38dae5bd",
   "metadata": {},
   "source": [
    "## 2. Parametric Methods <a class=\"anchor\" id=\"parametric-methods\"></a>\n",
    "\n",
    "- In the last lecture, we learned about methods and multiple dispatch.\n",
    "\n",
    "\n",
    "- Type parameters can also be used in method definitions. For example:"
   ]
  },
  {
   "cell_type": "code",
   "execution_count": 32,
   "id": "3d39adf9",
   "metadata": {},
   "outputs": [
    {
     "data": {
      "text/plain": [
       "f (generic function with 2 methods)"
      ]
     },
     "execution_count": 32,
     "metadata": {},
     "output_type": "execute_result"
    }
   ],
   "source": [
    "function f(x::T, y::T) where T\n",
    "    return true\n",
    "end\n",
    "\n",
    "function f(x, y)\n",
    "    return false\n",
    "end"
   ]
  },
  {
   "cell_type": "markdown",
   "id": "0f1b8b19",
   "metadata": {},
   "source": [
    "- What do you think this function does?\n",
    "\n",
    "\n",
    "- As before, the values of `T` can be restricted to subtypes of a given type. For example:"
   ]
  },
  {
   "cell_type": "code",
   "execution_count": 33,
   "id": "961888df",
   "metadata": {},
   "outputs": [
    {
     "data": {
      "text/plain": [
       "f_numeric (generic function with 2 methods)"
      ]
     },
     "execution_count": 33,
     "metadata": {},
     "output_type": "execute_result"
    }
   ],
   "source": [
    "function f_numeric(x::T, y::T) where {T<:Number}\n",
    "    return true\n",
    "end\n",
    "\n",
    "function f_numeric(x, y)\n",
    "    return false\n",
    "end"
   ]
  },
  {
   "cell_type": "markdown",
   "id": "df860457",
   "metadata": {},
   "source": [
    "- The method type parameter `T` can also be used inside the function body:"
   ]
  },
  {
   "cell_type": "code",
   "execution_count": 34,
   "id": "fddc14f8",
   "metadata": {},
   "outputs": [
    {
     "data": {
      "text/plain": [
       "g (generic function with 1 method)"
      ]
     },
     "execution_count": 34,
     "metadata": {},
     "output_type": "execute_result"
    }
   ],
   "source": [
    "function g(x::T) where T\n",
    "    return T\n",
    "end"
   ]
  },
  {
   "cell_type": "markdown",
   "id": "902c0e41",
   "metadata": {},
   "source": [
    "- What do you think this function does?\n",
    "\n",
    "\n",
    "- As before, multiple parameters are possible:"
   ]
  },
  {
   "cell_type": "code",
   "execution_count": 35,
   "id": "f27b87c9",
   "metadata": {},
   "outputs": [
    {
     "data": {
      "text/plain": [
       "concat_number_to_string (generic function with 2 methods)"
      ]
     },
     "execution_count": 35,
     "metadata": {},
     "output_type": "execute_result"
    }
   ],
   "source": [
    "function concat_number_to_string(x::S, y::T) where {S<:AbstractString, T<:Number}\n",
    "    return x * string(y)\n",
    "end\n",
    "\n",
    "function concat_number_to_string(x::S, y::T) where {S<:Number, T<:AbstractString}\n",
    "    return string(x) * y\n",
    "end"
   ]
  },
  {
   "cell_type": "markdown",
   "id": "fa2c27ec",
   "metadata": {},
   "source": [
    "## 3. Structs are Not Mutable <a class=\"anchor\" id=\"structs-immutable\"></a>\n",
    "\n",
    "- Composite objects declared with `struct` are **immutable**; they cannot be modified after construction."
   ]
  },
  {
   "cell_type": "code",
   "execution_count": 36,
   "id": "0f94fd30",
   "metadata": {},
   "outputs": [
    {
     "ename": "LoadError",
     "evalue": "setfield!: immutable struct of type my_immutable_struct cannot be changed",
     "output_type": "error",
     "traceback": [
      "setfield!: immutable struct of type my_immutable_struct cannot be changed",
      "",
      "Stacktrace:",
      " [1] setproperty!(x::my_immutable_struct, f::Symbol, v::String)",
      "   @ Base ./Base.jl:43",
      " [2] top-level scope",
      "   @ In[36]:5",
      " [3] eval",
      "   @ ./boot.jl:373 [inlined]",
      " [4] include_string(mapexpr::typeof(REPL.softscope), mod::Module, code::String, filename::String)",
      "   @ Base ./loading.jl:1196"
     ]
    }
   ],
   "source": [
    "struct my_immutable_struct\n",
    "    a\n",
    "end\n",
    "a = my_immutable_struct(\"original value\")\n",
    "a.a = \"new value\""
   ]
  },
  {
   "cell_type": "markdown",
   "id": "bb5bf34d",
   "metadata": {},
   "source": [
    "- An immutable object might contain mutable objects, such as arrays, as fields. \n",
    "\n",
    "\n",
    "- Those contained objects will remain mutable; only the fields of the immutable object itself cannot be changed to point to different objects."
   ]
  },
  {
   "cell_type": "code",
   "execution_count": 37,
   "id": "369184b8",
   "metadata": {},
   "outputs": [
    {
     "data": {
      "text/plain": [
       "2-element Vector{Float64}:\n",
       " 3.0\n",
       " 2.0"
      ]
     },
     "execution_count": 37,
     "metadata": {},
     "output_type": "execute_result"
    }
   ],
   "source": [
    "struct array_struct\n",
    "    a::Array\n",
    "end\n",
    "a = array_struct([1.0, 2.0])\n",
    "\n",
    "a.a[1] = 3.0  # Modify the contained object\n",
    "a.a"
   ]
  },
  {
   "cell_type": "code",
   "execution_count": 38,
   "id": "4ed5bebe",
   "metadata": {},
   "outputs": [
    {
     "ename": "LoadError",
     "evalue": "setfield!: immutable struct of type array_struct cannot be changed",
     "output_type": "error",
     "traceback": [
      "setfield!: immutable struct of type array_struct cannot be changed",
      "",
      "Stacktrace:",
      " [1] setproperty!(x::array_struct, f::Symbol, v::Vector{Float64})",
      "   @ Base ./Base.jl:43",
      " [2] top-level scope",
      "   @ In[38]:1",
      " [3] eval",
      "   @ ./boot.jl:373 [inlined]",
      " [4] include_string(mapexpr::typeof(REPL.softscope), mod::Module, code::String, filename::String)",
      "   @ Base ./loading.jl:1196"
     ]
    }
   ],
   "source": [
    "a.a = [3.0, 4.0]  # Try to modify the field itself"
   ]
  },
  {
   "cell_type": "markdown",
   "id": "2ae969f3",
   "metadata": {},
   "source": [
    "- As is often the case with Julia, the main reason for structs to be immutable is to allow the compiler to allocate memory efficiently.\n",
    "\n",
    "\n",
    "- However, if you really want a mutable struct, you can simply declare one with the `mutable` keyword:"
   ]
  },
  {
   "cell_type": "code",
   "execution_count": 39,
   "id": "9302116a",
   "metadata": {},
   "outputs": [],
   "source": [
    "mutable struct my_mutable_struct\n",
    "    a\n",
    "end"
   ]
  },
  {
   "cell_type": "code",
   "execution_count": 40,
   "id": "2e3b7a49",
   "metadata": {},
   "outputs": [
    {
     "data": {
      "text/plain": [
       "\"new value\""
      ]
     },
     "execution_count": 40,
     "metadata": {},
     "output_type": "execute_result"
    }
   ],
   "source": [
    "a = my_mutable_struct(\"original value\")\n",
    "a.a = \"new value\"\n",
    "a.a"
   ]
  },
  {
   "cell_type": "markdown",
   "id": "6b39c998",
   "metadata": {},
   "source": [
    "## 4. Further Reading <a class=\"anchor\" id=\"further-reading\"></a>\n",
    "1. [Parametric Types](https://docs.julialang.org/en/v1/manual/types/#Parametric-Types)\n",
    "2. [Parametric Methods](https://docs.julialang.org/en/v1/manual/methods/#Parametric-Methods)\n",
    "3. [Mutable Composite Types](https://docs.julialang.org/en/v1/manual/types/#Mutable-Composite-Types)\n",
    "4. [Performance Tips](https://docs.julialang.org/en/v1/manual/performance-tips/)"
   ]
  }
 ],
 "metadata": {
  "kernelspec": {
   "display_name": "Julia 1.7.2",
   "language": "julia",
   "name": "julia-1.7"
  },
  "language_info": {
   "file_extension": ".jl",
   "mimetype": "application/julia",
   "name": "julia",
   "version": "1.7.2"
  }
 },
 "nbformat": 4,
 "nbformat_minor": 5
}
