{
 "cells": [
  {
   "cell_type": "markdown",
   "id": "0e0cc316",
   "metadata": {},
   "source": [
    "# Lecture 4 - Julia - Types, Methods and Multiple Dispatch\n",
    "\n",
    "## Julia, The Story So Far\n",
    "\n",
    "- In lecture 1, we introduced the basics of the Julia programming language, including arrays, functions, and basic flow control.\n",
    "- In lecture 2, we introduced Pkg.jl, the Julia package manager, and the library DifferentialEquations.jl.\n",
    "- Today, we'll \"remove the training wheels\" and discuss Julia's type system in a lot more detail than before.\n",
    "\n",
    "## Contents\n",
    "1. [Types](#types)\n",
    "2. [Composite Types](#composite-types)\n",
    "3. [Parametric Types](#parametric-types)\n",
    "4. [Methods and Multiple Dispatch](#methods)\n",
    "5. [Parametric Methods](#parametric-methods)\n",
    "6. [Conclusion](#conclusion)\n",
    "7. [Further Reading](#further-reading)\n",
    "8. [Next Week](#next-week)"
   ]
  },
  {
   "cell_type": "code",
   "execution_count": null,
   "id": "afb7794f",
   "metadata": {
    "scrolled": true
   },
   "outputs": [],
   "source": [
    "# Create a temporary environment and add a couple of useful packages for this lecture\n",
    "using Pkg\n",
    "Pkg.activate(; temp = true)\n",
    "Pkg.add([\"BenchmarkTools\", \"AbstractTrees\"])"
   ]
  },
  {
   "cell_type": "code",
   "execution_count": 2,
   "id": "a64ec58d",
   "metadata": {},
   "outputs": [],
   "source": [
    "using BenchmarkTools, AbstractTrees\n",
    "\n",
    "AbstractTrees.children(x::Type) = subtypes(x)  # Useful method for printing type trees"
   ]
  },
  {
   "cell_type": "markdown",
   "id": "a3f8e327",
   "metadata": {},
   "source": [
    "## 1. Types <a class=\"anchor\" id=\"types\"></a>\n",
    "\n",
    "- Every value in Julia is a first-class object, and **all objects have a type**.\n",
    "<br>\n",
    "\n",
    "- In the words of the Julia documentation,\n",
    "\n",
    "\n",
    "> There is no division between object and non-object values: all values in Julia are true objects having a type that belongs to a single, fully connected type graph, all nodes of which are equally first-class as types.\n",
    "\n",
    "- What do we mean when we're talking about a fully connected type graph?"
   ]
  },
  {
   "cell_type": "code",
   "execution_count": 3,
   "id": "93a4b88d",
   "metadata": {
    "scrolled": false
   },
   "outputs": [
    {
     "name": "stdout",
     "output_type": "stream",
     "text": [
      "Number\n",
      "├─ Complex\n",
      "└─ Real\n",
      "   ├─ AbstractFloat\n",
      "   │  ├─ BigFloat\n",
      "   │  ├─ Float16\n",
      "   │  ├─ Float32\n",
      "   │  └─ Float64\n",
      "   ├─ AbstractIrrational\n",
      "   │  └─ Irrational\n",
      "   ├─ Integer\n",
      "   │  ├─ Bool\n",
      "   │  ├─ Signed\n",
      "   │  │  ├─ BigInt\n",
      "   │  │  ├─ Int128\n",
      "   │  │  ├─ Int16\n",
      "   │  │  ├─ Int32\n",
      "   │  │  ├─ Int64\n",
      "   │  │  └─ Int8\n",
      "   │  └─ Unsigned\n",
      "   │     ├─ UInt128\n",
      "   │     ├─ UInt16\n",
      "   │     ├─ UInt32\n",
      "   │     ├─ UInt64\n",
      "   │     └─ UInt8\n",
      "   └─ Rational\n"
     ]
    }
   ],
   "source": [
    "print_tree(Number)"
   ]
  },
  {
   "cell_type": "markdown",
   "id": "27cac7cc",
   "metadata": {},
   "source": [
    "- Why do we need a [type system](https://en.wikipedia.org/wiki/Type_system) at all? Types are essential in specifying the **structure and behaviour** of our program, both at a high level (the code we write in Julia) and at a low level (the underlying actions taken by our computer when we run our code)."
   ]
  },
  {
   "cell_type": "code",
   "execution_count": 4,
   "id": "8742ce87",
   "metadata": {},
   "outputs": [
    {
     "data": {
      "text/plain": [
       "Float64"
      ]
     },
     "execution_count": 4,
     "metadata": {},
     "output_type": "execute_result"
    }
   ],
   "source": [
    "typeof(1.0)"
   ]
  },
  {
   "cell_type": "code",
   "execution_count": 5,
   "id": "a811c73f",
   "metadata": {},
   "outputs": [
    {
     "data": {
      "text/plain": [
       "Int64"
      ]
     },
     "execution_count": 5,
     "metadata": {},
     "output_type": "execute_result"
    }
   ],
   "source": [
    "typeof(1)"
   ]
  },
  {
   "cell_type": "code",
   "execution_count": 6,
   "id": "89b48f9f",
   "metadata": {},
   "outputs": [
    {
     "data": {
      "text/plain": [
       "\"0011111111110000000000000000000000000000000000000000000000000000\""
      ]
     },
     "execution_count": 6,
     "metadata": {},
     "output_type": "execute_result"
    }
   ],
   "source": [
    "bitstring(1.0)"
   ]
  },
  {
   "cell_type": "code",
   "execution_count": 7,
   "id": "7df39eeb",
   "metadata": {},
   "outputs": [
    {
     "data": {
      "text/plain": [
       "\"0000000000000000000000000000000000000000000000000000000000000001\""
      ]
     },
     "execution_count": 7,
     "metadata": {},
     "output_type": "execute_result"
    }
   ],
   "source": [
    "bitstring(1)"
   ]
  },
  {
   "cell_type": "code",
   "execution_count": 8,
   "id": "99d7eb06",
   "metadata": {},
   "outputs": [
    {
     "name": "stdout",
     "output_type": "stream",
     "text": [
      "\t\u001b[0m.text\n",
      "\t\u001b[0m.file\t\u001b[0m\"+\"\n",
      "\t\u001b[0m.globl\t\u001b[0m\"julia_+_1602\"                  \u001b[90m# -- Begin function julia_+_1602\u001b[39m\n",
      "\t\u001b[0m.p2align\t\u001b[33m4\u001b[39m\u001b[0m, \u001b[33m0x90\u001b[39m\n",
      "\t\u001b[0m.type\t\u001b[0m\"julia_+_1602\"\u001b[0m,\u001b[0m@function\n",
      "\u001b[91m\"julia_+_1602\":\u001b[39m                         \u001b[90m# @\"julia_+_1602\"\u001b[39m\n",
      "\u001b[90m; ┌ @ int.jl:87 within `+`\u001b[39m\n",
      "\t\u001b[0m.cfi_startproc\n",
      "\u001b[90m# %bb.0:                                # %top\u001b[39m\n",
      "\t\u001b[96m\u001b[1mpushq\u001b[22m\u001b[39m\t\u001b[0m%rbp\n",
      "\t\u001b[0m.cfi_def_cfa_offset \u001b[33m16\u001b[39m\n",
      "\t\u001b[0m.cfi_offset \u001b[0m%rbp\u001b[0m, \u001b[33m-16\u001b[39m\n",
      "\t\u001b[96m\u001b[1mmovq\u001b[22m\u001b[39m\t\u001b[0m%rsp\u001b[0m, \u001b[0m%rbp\n",
      "\t\u001b[0m.cfi_def_cfa_register \u001b[0m%rbp\n",
      "\t\u001b[96m\u001b[1mleaq\u001b[22m\u001b[39m\t\u001b[33m(\u001b[39m\u001b[0m%rdi\u001b[0m,\u001b[0m%rsi\u001b[33m)\u001b[39m\u001b[0m, \u001b[0m%rax\n",
      "\t\u001b[96m\u001b[1mpopq\u001b[22m\u001b[39m\t\u001b[0m%rbp\n",
      "\t\u001b[0m.cfi_def_cfa \u001b[0m%rsp\u001b[0m, \u001b[33m8\u001b[39m\n",
      "\t\u001b[96m\u001b[1mretq\u001b[22m\u001b[39m\n",
      "\u001b[91m.Lfunc_end0:\u001b[39m\n",
      "\t\u001b[0m.size\t\u001b[0m\"julia_+_1602\"\u001b[0m, \u001b[0m.Lfunc_end0-\"julia_+_1602\"\n",
      "\t\u001b[0m.cfi_endproc\n",
      "\u001b[90m; └\u001b[39m\n",
      "                                        \u001b[90m# -- End function\u001b[39m\n",
      "\t\u001b[0m.section\t\u001b[0m\".note.GNU-stack\"\u001b[0m,\u001b[0m\"\"\u001b[0m,\u001b[0m@progbits\n"
     ]
    }
   ],
   "source": [
    "@code_native 1 + 1"
   ]
  },
  {
   "cell_type": "code",
   "execution_count": 9,
   "id": "ff85aa47",
   "metadata": {},
   "outputs": [
    {
     "name": "stdout",
     "output_type": "stream",
     "text": [
      "\t\u001b[0m.text\n",
      "\t\u001b[0m.file\t\u001b[0m\"+\"\n",
      "\t\u001b[0m.globl\t\u001b[0m\"julia_+_1625\"                  \u001b[90m# -- Begin function julia_+_1625\u001b[39m\n",
      "\t\u001b[0m.p2align\t\u001b[33m4\u001b[39m\u001b[0m, \u001b[33m0x90\u001b[39m\n",
      "\t\u001b[0m.type\t\u001b[0m\"julia_+_1625\"\u001b[0m,\u001b[0m@function\n",
      "\u001b[91m\"julia_+_1625\":\u001b[39m                         \u001b[90m# @\"julia_+_1625\"\u001b[39m\n",
      "\u001b[90m; ┌ @ float.jl:408 within `+`\u001b[39m\n",
      "\t\u001b[0m.cfi_startproc\n",
      "\u001b[90m# %bb.0:                                # %top\u001b[39m\n",
      "\t\u001b[96m\u001b[1mpushq\u001b[22m\u001b[39m\t\u001b[0m%rbp\n",
      "\t\u001b[0m.cfi_def_cfa_offset \u001b[33m16\u001b[39m\n",
      "\t\u001b[0m.cfi_offset \u001b[0m%rbp\u001b[0m, \u001b[33m-16\u001b[39m\n",
      "\t\u001b[96m\u001b[1mmovq\u001b[22m\u001b[39m\t\u001b[0m%rsp\u001b[0m, \u001b[0m%rbp\n",
      "\t\u001b[0m.cfi_def_cfa_register \u001b[0m%rbp\n",
      "\t\u001b[96m\u001b[1mvaddsd\u001b[22m\u001b[39m\t\u001b[0m%xmm1\u001b[0m, \u001b[0m%xmm0\u001b[0m, \u001b[0m%xmm0\n",
      "\t\u001b[96m\u001b[1mpopq\u001b[22m\u001b[39m\t\u001b[0m%rbp\n",
      "\t\u001b[0m.cfi_def_cfa \u001b[0m%rsp\u001b[0m, \u001b[33m8\u001b[39m\n",
      "\t\u001b[96m\u001b[1mretq\u001b[22m\u001b[39m\n",
      "\u001b[91m.Lfunc_end0:\u001b[39m\n",
      "\t\u001b[0m.size\t\u001b[0m\"julia_+_1625\"\u001b[0m, \u001b[0m.Lfunc_end0-\"julia_+_1625\"\n",
      "\t\u001b[0m.cfi_endproc\n",
      "\u001b[90m; └\u001b[39m\n",
      "                                        \u001b[90m# -- End function\u001b[39m\n",
      "\t\u001b[0m.section\t\u001b[0m\".note.GNU-stack\"\u001b[0m,\u001b[0m\"\"\u001b[0m,\u001b[0m@progbits\n"
     ]
    }
   ],
   "source": [
    "@code_native 1.0 + 1.0"
   ]
  },
  {
   "cell_type": "markdown",
   "id": "94ce4a78",
   "metadata": {},
   "source": [
    "- Julia's type system is [**dynamic**](https://en.wikipedia.org/wiki/Type_system#Dynamic_type_checking_and_runtime_type_information). (Also [nominative](https://en.wikipedia.org/wiki/Nominal_type_system) and [parametric](https://en.wikipedia.org/wiki/Parametric_polymorphism).)\n",
    "<br>\n",
    "\n",
    "- In a statically typed language, such as C, C++, and Fortran, every variable has a type which must be specified in advance by the programmer. For example, in C, `int a;`.\n",
    "<br>\n",
    "\n",
    "- In a dynamically typed language, such as Python and Julia, **values have a type only at runtime**, and do not have to be specified in advance. This can save time for the programmer, and make your code more generic (it can work with many different kinds of runtime types - this is called [polymorphism](https://en.wikipedia.org/wiki/Polymorphism_(computer_science))).\n",
    "<br>\n",
    "\n",
    "- **Since Julia is dynamically typed, types are associated with values, not variables.** A variable is simply a name \"bound\" to a value."
   ]
  },
  {
   "cell_type": "code",
   "execution_count": 10,
   "id": "ff7ddf9f",
   "metadata": {},
   "outputs": [
    {
     "data": {
      "text/plain": [
       "1"
      ]
     },
     "execution_count": 10,
     "metadata": {},
     "output_type": "execute_result"
    }
   ],
   "source": [
    "a = 1"
   ]
  },
  {
   "cell_type": "code",
   "execution_count": 11,
   "id": "64c3f8f4",
   "metadata": {},
   "outputs": [
    {
     "data": {
      "text/plain": [
       "Int64"
      ]
     },
     "execution_count": 11,
     "metadata": {},
     "output_type": "execute_result"
    }
   ],
   "source": [
    "typeof(a)"
   ]
  },
  {
   "cell_type": "markdown",
   "id": "e2163ad1",
   "metadata": {},
   "source": [
    "### 1.1. Abstract and Concrete Types\n",
    "\n",
    "- We said earlier that all Julia types belong to \"a single, fully connected type graph, all nodes of which are equally first-class as types.\"\n",
    "<br>\n",
    "\n",
    "- We can further classify the types in the type graph as either:\n",
    "    1. **Abstract**, or\n",
    "    2. **Concrete**.<br><br>\n",
    "- **KEY FACT 1: All Julia objects are instances of a concrete type.**"
   ]
  },
  {
   "cell_type": "code",
   "execution_count": 12,
   "id": "92c6aab1",
   "metadata": {},
   "outputs": [
    {
     "data": {
      "text/plain": [
       "Float64"
      ]
     },
     "execution_count": 12,
     "metadata": {},
     "output_type": "execute_result"
    }
   ],
   "source": [
    "typeof(1.0)"
   ]
  },
  {
   "cell_type": "code",
   "execution_count": 13,
   "id": "68659764",
   "metadata": {
    "scrolled": false
   },
   "outputs": [
    {
     "data": {
      "text/plain": [
       "true"
      ]
     },
     "execution_count": 13,
     "metadata": {},
     "output_type": "execute_result"
    }
   ],
   "source": [
    "isconcretetype(typeof(1.0))"
   ]
  },
  {
   "cell_type": "code",
   "execution_count": 14,
   "id": "b9e68169",
   "metadata": {},
   "outputs": [
    {
     "data": {
      "text/plain": [
       "is_instance_of_concrete_type (generic function with 1 method)"
      ]
     },
     "execution_count": 14,
     "metadata": {},
     "output_type": "execute_result"
    }
   ],
   "source": [
    "is_instance_of_concrete_type(x) = isconcretetype(typeof(x))  # Returns true for all x"
   ]
  },
  {
   "cell_type": "code",
   "execution_count": 15,
   "id": "342de4fd",
   "metadata": {},
   "outputs": [
    {
     "data": {
      "text/plain": [
       "true"
      ]
     },
     "execution_count": 15,
     "metadata": {},
     "output_type": "execute_result"
    }
   ],
   "source": [
    "is_instance_of_concrete_type(Float64)"
   ]
  },
  {
   "cell_type": "markdown",
   "id": "030464f7",
   "metadata": {},
   "source": [
    "- In turn, all concrete types are subtypes of at least one abstract type."
   ]
  },
  {
   "cell_type": "code",
   "execution_count": 16,
   "id": "145a3a24",
   "metadata": {},
   "outputs": [
    {
     "data": {
      "text/plain": [
       "AbstractFloat"
      ]
     },
     "execution_count": 16,
     "metadata": {},
     "output_type": "execute_result"
    }
   ],
   "source": [
    "supertype(typeof(1.0))"
   ]
  },
  {
   "cell_type": "code",
   "execution_count": 17,
   "id": "56da64e7",
   "metadata": {},
   "outputs": [
    {
     "data": {
      "text/plain": [
       "(Float64, AbstractFloat, Real, Number, Any)"
      ]
     },
     "execution_count": 17,
     "metadata": {},
     "output_type": "execute_result"
    }
   ],
   "source": [
    "supertypes(Float64)"
   ]
  },
  {
   "cell_type": "code",
   "execution_count": 18,
   "id": "77a0e825",
   "metadata": {},
   "outputs": [
    {
     "data": {
      "text/plain": [
       "true"
      ]
     },
     "execution_count": 18,
     "metadata": {},
     "output_type": "execute_result"
    }
   ],
   "source": [
    "isabstracttype(AbstractFloat)"
   ]
  },
  {
   "cell_type": "markdown",
   "id": "7ce49148",
   "metadata": {},
   "source": [
    "- The abstract type `Any` sits at the top of the type tree. By definition, all types, both abstract and concrete, are subtypes of `Any`.\n",
    "<br>\n",
    "\n",
    "- We can use the operator `<:`, meaning \"is a subtype of\" to test whether one type is a subtype of another type."
   ]
  },
  {
   "cell_type": "code",
   "execution_count": 19,
   "id": "4f6ae74c",
   "metadata": {},
   "outputs": [
    {
     "data": {
      "text/plain": [
       "is_subtype_of_Any (generic function with 1 method)"
      ]
     },
     "execution_count": 19,
     "metadata": {},
     "output_type": "execute_result"
    }
   ],
   "source": [
    "is_subtype_of_Any(x) = typeof(x) <: Any  # Returns true for all x"
   ]
  },
  {
   "cell_type": "code",
   "execution_count": 20,
   "id": "c25b2a8b",
   "metadata": {},
   "outputs": [
    {
     "data": {
      "text/plain": [
       "true"
      ]
     },
     "execution_count": 20,
     "metadata": {},
     "output_type": "execute_result"
    }
   ],
   "source": [
    "is_subtype_of_Any(Float64)"
   ]
  },
  {
   "cell_type": "markdown",
   "id": "b4b50427",
   "metadata": {},
   "source": [
    "- **KEY FACT 2: Concrete types may not subtype each other.**\n",
    "<br>\n",
    "\n",
    "- In other words, **concrete types are final**, and only abstract types may be supertypes."
   ]
  },
  {
   "cell_type": "code",
   "execution_count": 21,
   "id": "b931e111",
   "metadata": {},
   "outputs": [
    {
     "data": {
      "text/plain": [
       "has_abstract_supertype (generic function with 1 method)"
      ]
     },
     "execution_count": 21,
     "metadata": {},
     "output_type": "execute_result"
    }
   ],
   "source": [
    "has_abstract_supertype(x) = isabstracttype(supertype(typeof(x)))  # Returns true for all x"
   ]
  },
  {
   "cell_type": "markdown",
   "id": "9887fe62",
   "metadata": {},
   "source": [
    "- **KEY FACT 3: Abstract types cannot be instantiated.**\n",
    "<br>\n",
    "\n",
    "- (This is really the same as Key Fact 1, but it's worth emphasising again.)\n",
    "<br>\n",
    "\n",
    "- Therefore, abstract types serve only to describe relationships between related concrete types within Julia's type hierarchy. \n",
    "<br>\n",
    "\n",
    "- Abstract types are branches in the type tree while concrete types are leaves."
   ]
  },
  {
   "cell_type": "code",
   "execution_count": 22,
   "id": "95a4abf8",
   "metadata": {},
   "outputs": [
    {
     "name": "stdout",
     "output_type": "stream",
     "text": [
      "Number\n",
      "├─ Complex\n",
      "└─ Real\n",
      "   ├─ AbstractFloat\n",
      "   │  ├─ BigFloat\n",
      "   │  ├─ Float16\n",
      "   │  ├─ Float32\n",
      "   │  └─ Float64\n",
      "   ├─ AbstractIrrational\n",
      "   │  └─ Irrational\n",
      "   ├─ Integer\n",
      "   │  ├─ Bool\n",
      "   │  ├─ Signed\n",
      "   │  │  ├─ BigInt\n",
      "   │  │  ├─ Int128\n",
      "   │  │  ├─ Int16\n",
      "   │  │  ├─ Int32\n",
      "   │  │  ├─ Int64\n",
      "   │  │  └─ Int8\n",
      "   │  └─ Unsigned\n",
      "   │     ├─ UInt128\n",
      "   │     ├─ UInt16\n",
      "   │     ├─ UInt32\n",
      "   │     ├─ UInt64\n",
      "   │     └─ UInt8\n",
      "   └─ Rational\n"
     ]
    }
   ],
   "source": [
    "print_tree(Number)"
   ]
  },
  {
   "cell_type": "markdown",
   "id": "785f97c2",
   "metadata": {},
   "source": [
    "- Why do we even need abstract types then, if they can never be instantiated?\n",
    "<br>\n",
    "\n",
    "- A well-defined type hierarchy, used in combination with **methods** and **multiple dispatch**, allows you to define behaviour for entire families of related concrete types. More on this later."
   ]
  },
  {
   "cell_type": "markdown",
   "id": "40dbdced",
   "metadata": {},
   "source": [
    "### 1.2. Defining Abstract Types\n",
    "\n",
    "- You can define your own abstract types using the `abstract type` keyword."
   ]
  },
  {
   "cell_type": "code",
   "execution_count": 23,
   "id": "ddaa29ce",
   "metadata": {},
   "outputs": [],
   "source": [
    "abstract type Animal end"
   ]
  },
  {
   "cell_type": "markdown",
   "id": "939abd2f",
   "metadata": {},
   "source": [
    "- In this context, we can use the `<:` operator - \"is a subtype of\" - to indicate relationships between types and thereby construct a user-defined type hierarchy."
   ]
  },
  {
   "cell_type": "code",
   "execution_count": 24,
   "id": "98f8e376",
   "metadata": {},
   "outputs": [],
   "source": [
    "abstract type Feline <: Animal end\n",
    "abstract type Canine <: Animal end"
   ]
  },
  {
   "cell_type": "code",
   "execution_count": 25,
   "id": "e0c5fb87",
   "metadata": {},
   "outputs": [
    {
     "name": "stdout",
     "output_type": "stream",
     "text": [
      "Animal\n",
      "├─ Canine\n",
      "└─ Feline\n"
     ]
    }
   ],
   "source": [
    "print_tree(Animal)"
   ]
  },
  {
   "cell_type": "markdown",
   "id": "31693037",
   "metadata": {},
   "source": [
    "- Remember, we can't instantiate abstract types, so we still can't create any animals. \n"
   ]
  },
  {
   "cell_type": "markdown",
   "id": "88c599d9",
   "metadata": {},
   "source": [
    "## 2. Composite Types (structs)  <a class=\"anchor\" id=\"composite-types\"></a>\n",
    "\n",
    "- How can we define our own concrete types? \n",
    "<br>\n",
    "\n",
    "- The most common user-defined type in Julia is a **composite type** or `struct`. This is the Julia equivalent of a `Class` in Python.\n",
    "\n",
    "\n",
    "### 2.1. Defining Composite Types\n",
    "\n",
    "- Composite types are introduced with the `struct` keyword followed by a block of field names."
   ]
  },
  {
   "cell_type": "code",
   "execution_count": 26,
   "id": "76b3c034",
   "metadata": {},
   "outputs": [],
   "source": [
    "struct Foo\n",
    "    baz\n",
    "    qux\n",
    "    quux\n",
    "end"
   ]
  },
  {
   "cell_type": "code",
   "execution_count": 27,
   "id": "bb9728c3",
   "metadata": {},
   "outputs": [
    {
     "data": {
      "text/plain": [
       "Foo(\"a\", \"b\", \"c\")"
      ]
     },
     "execution_count": 27,
     "metadata": {},
     "output_type": "execute_result"
    }
   ],
   "source": [
    "foo = Foo(\"a\", \"b\", \"c\")"
   ]
  },
  {
   "cell_type": "markdown",
   "id": "cfd5b6a8",
   "metadata": {},
   "source": [
    "- You can also add type annotations to struct definitions, using the `::` operator (meaning \"is a\")."
   ]
  },
  {
   "cell_type": "code",
   "execution_count": 28,
   "id": "4a507c48",
   "metadata": {},
   "outputs": [],
   "source": [
    "struct Bar\n",
    "    baz  # implicit ::Any\n",
    "    qux::Float64\n",
    "    quux::Int64\n",
    "end"
   ]
  },
  {
   "cell_type": "code",
   "execution_count": 29,
   "id": "02dd2e80",
   "metadata": {},
   "outputs": [
    {
     "ename": "LoadError",
     "evalue": "MethodError: \u001b[0mCannot `convert` an object of type \u001b[92mString\u001b[39m\u001b[0m to an object of type \u001b[91mFloat64\u001b[39m\n\n\u001b[0mClosest candidates are:\n\u001b[0m  convert(::Type{T}, \u001b[91m::T\u001b[39m) where T<:Number\n\u001b[0m\u001b[90m   @\u001b[39m \u001b[90mBase\u001b[39m \u001b[90m\u001b[4mnumber.jl:6\u001b[24m\u001b[39m\n\u001b[0m  convert(::Type{T}, \u001b[91m::Number\u001b[39m) where T<:Number\n\u001b[0m\u001b[90m   @\u001b[39m \u001b[90mBase\u001b[39m \u001b[90m\u001b[4mnumber.jl:7\u001b[24m\u001b[39m\n\u001b[0m  convert(::Type{T}, \u001b[91m::Base.TwicePrecision\u001b[39m) where T<:Number\n\u001b[0m\u001b[90m   @\u001b[39m \u001b[90mBase\u001b[39m \u001b[90m\u001b[4mtwiceprecision.jl:273\u001b[24m\u001b[39m\n\u001b[0m  ...\n",
     "output_type": "error",
     "traceback": [
      "MethodError: \u001b[0mCannot `convert` an object of type \u001b[92mString\u001b[39m\u001b[0m to an object of type \u001b[91mFloat64\u001b[39m\n\n\u001b[0mClosest candidates are:\n\u001b[0m  convert(::Type{T}, \u001b[91m::T\u001b[39m) where T<:Number\n\u001b[0m\u001b[90m   @\u001b[39m \u001b[90mBase\u001b[39m \u001b[90m\u001b[4mnumber.jl:6\u001b[24m\u001b[39m\n\u001b[0m  convert(::Type{T}, \u001b[91m::Number\u001b[39m) where T<:Number\n\u001b[0m\u001b[90m   @\u001b[39m \u001b[90mBase\u001b[39m \u001b[90m\u001b[4mnumber.jl:7\u001b[24m\u001b[39m\n\u001b[0m  convert(::Type{T}, \u001b[91m::Base.TwicePrecision\u001b[39m) where T<:Number\n\u001b[0m\u001b[90m   @\u001b[39m \u001b[90mBase\u001b[39m \u001b[90m\u001b[4mtwiceprecision.jl:273\u001b[24m\u001b[39m\n\u001b[0m  ...\n",
      "",
      "Stacktrace:",
      " [1] Bar(baz::String, qux::String, quux::String)",
      "   @ Main ./In[28]:2",
      " [2] top-level scope",
      "   @ In[29]:1"
     ]
    }
   ],
   "source": [
    "bar = Bar(\"a\", \"b\", \"c\")"
   ]
  },
  {
   "cell_type": "code",
   "execution_count": 30,
   "id": "cc9bc34d",
   "metadata": {},
   "outputs": [
    {
     "data": {
      "text/plain": [
       "Bar(\"a\", 1.0, 1)"
      ]
     },
     "execution_count": 30,
     "metadata": {},
     "output_type": "execute_result"
    }
   ],
   "source": [
    "Bar(\"a\", 1.0, 1)"
   ]
  },
  {
   "cell_type": "markdown",
   "id": "096bd5b1",
   "metadata": {},
   "source": [
    "- Doing this can make your code readable, ensure correctness, and has implications for performance (more on this later). However, it can also make your code less flexible if you include overly restrictive type annotations.\n",
    "<br>\n",
    "\n",
    "- **Whenever you omit an explicit type annotation on the field of a struct, `::Any` is implied.**\n",
    "<br>\n",
    "\n",
    "- As with the definition of abstract types, we can use the `<:` operator - \"is a subtype of\" - to indicate that a composite type is a subtype of a specific abstract type."
   ]
  },
  {
   "cell_type": "code",
   "execution_count": 31,
   "id": "b17e0463",
   "metadata": {},
   "outputs": [],
   "source": [
    "struct Dog <: Canine\n",
    "    name\n",
    "    home\n",
    "end\n",
    "\n",
    "struct Wolf <: Canine\n",
    "    name\n",
    "    pack\n",
    "end\n",
    "\n",
    "struct Cat <: Feline\n",
    "    name\n",
    "    home\n",
    "end\n",
    "\n",
    "struct Lion <: Feline\n",
    "    name\n",
    "    pride\n",
    "end"
   ]
  },
  {
   "cell_type": "code",
   "execution_count": 32,
   "id": "64f1bd58",
   "metadata": {},
   "outputs": [
    {
     "name": "stdout",
     "output_type": "stream",
     "text": [
      "Animal\n",
      "├─ Canine\n",
      "│  ├─ Dog\n",
      "│  └─ Wolf\n",
      "└─ Feline\n",
      "   ├─ Cat\n",
      "   └─ Lion\n"
     ]
    }
   ],
   "source": [
    "print_tree(Animal)"
   ]
  },
  {
   "cell_type": "markdown",
   "id": "5e174a8e",
   "metadata": {},
   "source": [
    "### 2.2. Instantiating Composite Types\n",
    "\n",
    "- To create a new object of a given type, simply apply the type name like a function."
   ]
  },
  {
   "cell_type": "code",
   "execution_count": 33,
   "id": "f1935d5f",
   "metadata": {},
   "outputs": [
    {
     "data": {
      "text/plain": [
       "Dog(\"Sammy\", \"Schmidt Family\")"
      ]
     },
     "execution_count": 33,
     "metadata": {},
     "output_type": "execute_result"
    }
   ],
   "source": [
    "sammy = Dog(\"Sammy\", \"Schmidt Family\")"
   ]
  },
  {
   "cell_type": "code",
   "execution_count": 34,
   "id": "ba8e9ebd",
   "metadata": {},
   "outputs": [
    {
     "data": {
      "text/plain": [
       "(:name, :home)"
      ]
     },
     "execution_count": 34,
     "metadata": {},
     "output_type": "execute_result"
    }
   ],
   "source": [
    "fieldnames(Dog)"
   ]
  },
  {
   "cell_type": "markdown",
   "id": "f90d2002",
   "metadata": {},
   "source": [
    "- When we call the type name like this, we are actually calling a **constructor** for that type, which is a function which returns an instance of the given type.\n",
    "<br>\n",
    "\n",
    "- Two default constructors are created automatically every time we declare a new composite type:\n",
    "    1. One which accepts any arguments and attempts to convert them to the types of the fields.\n",
    "    2. Another which accepts arguments matching the field types exactly."
   ]
  },
  {
   "cell_type": "code",
   "execution_count": 35,
   "id": "59711ff6",
   "metadata": {},
   "outputs": [],
   "source": [
    "struct A\n",
    "    a::Float32\n",
    "    b::Float64\n",
    "end"
   ]
  },
  {
   "cell_type": "code",
   "execution_count": 36,
   "id": "d8d8ecc7",
   "metadata": {},
   "outputs": [
    {
     "data": {
      "text/plain": [
       "A(1.0f0, 1.0)"
      ]
     },
     "execution_count": 36,
     "metadata": {},
     "output_type": "execute_result"
    }
   ],
   "source": [
    "A(1.0, 1.0)"
   ]
  },
  {
   "cell_type": "code",
   "execution_count": 37,
   "id": "c30c87a9",
   "metadata": {},
   "outputs": [
    {
     "data": {
      "text/plain": [
       "A(1.0f0, 1.0)"
      ]
     },
     "execution_count": 37,
     "metadata": {},
     "output_type": "execute_result"
    }
   ],
   "source": [
    "A(1f0, 1e0)"
   ]
  },
  {
   "cell_type": "markdown",
   "id": "a81fb0d1",
   "metadata": {},
   "source": [
    "### 2.3. Accessing the Fields of a Composite Type\n",
    "\n",
    "- You can access the field names of a composite type using the standard `foo.bar` notation."
   ]
  },
  {
   "cell_type": "code",
   "execution_count": 38,
   "id": "974a3dc6",
   "metadata": {},
   "outputs": [
    {
     "data": {
      "text/plain": [
       "\"Sammy\""
      ]
     },
     "execution_count": 38,
     "metadata": {},
     "output_type": "execute_result"
    }
   ],
   "source": [
    "sammy.name"
   ]
  },
  {
   "cell_type": "code",
   "execution_count": 39,
   "id": "fd19bb4c",
   "metadata": {},
   "outputs": [
    {
     "data": {
      "text/plain": [
       "\"Schmidt Family\""
      ]
     },
     "execution_count": 39,
     "metadata": {},
     "output_type": "execute_result"
    }
   ],
   "source": [
    "sammy.home"
   ]
  },
  {
   "cell_type": "markdown",
   "id": "0a7ff7a5",
   "metadata": {},
   "source": [
    "### 2.4. Structs are Not Mutable\n",
    "\n",
    "- Composite objects declared with `struct` are **immutable**; they cannot be modified after construction."
   ]
  },
  {
   "cell_type": "code",
   "execution_count": 40,
   "id": "e88dd2a8",
   "metadata": {},
   "outputs": [
    {
     "data": {
      "text/plain": [
       "(:name, :home)"
      ]
     },
     "execution_count": 40,
     "metadata": {},
     "output_type": "execute_result"
    }
   ],
   "source": [
    "fieldnames(Dog)"
   ]
  },
  {
   "cell_type": "code",
   "execution_count": 41,
   "id": "25f81aa2",
   "metadata": {},
   "outputs": [
    {
     "data": {
      "text/plain": [
       "\"Sammy\""
      ]
     },
     "execution_count": 41,
     "metadata": {},
     "output_type": "execute_result"
    }
   ],
   "source": [
    "sammy.name"
   ]
  },
  {
   "cell_type": "code",
   "execution_count": 42,
   "id": "14616be5",
   "metadata": {},
   "outputs": [
    {
     "ename": "LoadError",
     "evalue": "setfield!: immutable struct of type Dog cannot be changed",
     "output_type": "error",
     "traceback": [
      "setfield!: immutable struct of type Dog cannot be changed",
      "",
      "Stacktrace:",
      " [1] setproperty!(x::Dog, f::Symbol, v::String)",
      "   @ Base ./Base.jl:38",
      " [2] top-level scope",
      "   @ In[42]:1"
     ]
    }
   ],
   "source": [
    "sammy.name = \"Good Boy\""
   ]
  },
  {
   "cell_type": "markdown",
   "id": "94e7f219",
   "metadata": {},
   "source": [
    "- **N.B. An immutable object can contain mutable objects, such as arrays, as fields. Those mutable field values will remain mutable; only the fields of the immutable object itself cannot be changed to point to different objects.**"
   ]
  },
  {
   "cell_type": "code",
   "execution_count": 43,
   "id": "b671f122",
   "metadata": {},
   "outputs": [
    {
     "data": {
      "text/plain": [
       "2-element Vector{Float64}:\n",
       " 1.0\n",
       " 2.0"
      ]
     },
     "execution_count": 43,
     "metadata": {},
     "output_type": "execute_result"
    }
   ],
   "source": [
    "struct ArrayStruct\n",
    "    a::Array\n",
    "end\n",
    "array_struct = ArrayStruct([1.0, 2.0])\n",
    "array_struct.a"
   ]
  },
  {
   "cell_type": "code",
   "execution_count": 44,
   "id": "12031dc6",
   "metadata": {},
   "outputs": [
    {
     "data": {
      "text/plain": [
       "2-element Vector{Float64}:\n",
       " 3.0\n",
       " 2.0"
      ]
     },
     "execution_count": 44,
     "metadata": {},
     "output_type": "execute_result"
    }
   ],
   "source": [
    "# Modify the mutable object\n",
    "array_struct.a[1] = 3.0\n",
    "array_struct.a"
   ]
  },
  {
   "cell_type": "code",
   "execution_count": 45,
   "id": "602d90f3",
   "metadata": {},
   "outputs": [
    {
     "ename": "LoadError",
     "evalue": "setfield!: immutable struct of type ArrayStruct cannot be changed",
     "output_type": "error",
     "traceback": [
      "setfield!: immutable struct of type ArrayStruct cannot be changed",
      "",
      "Stacktrace:",
      " [1] setproperty!(x::ArrayStruct, f::Symbol, v::Vector{Float64})",
      "   @ Base ./Base.jl:38",
      " [2] top-level scope",
      "   @ In[45]:2"
     ]
    }
   ],
   "source": [
    "# Attempt to modify the field value itself\n",
    "array_struct.a = [3.0, 4.0]"
   ]
  },
  {
   "cell_type": "code",
   "execution_count": 46,
   "id": "6b3d96c9",
   "metadata": {},
   "outputs": [
    {
     "data": {
      "text/plain": [
       "2-element Vector{Float64}:\n",
       " 3.0\n",
       " 4.0"
      ]
     },
     "execution_count": 46,
     "metadata": {},
     "output_type": "execute_result"
    }
   ],
   "source": [
    "array_struct.a .= [3.0, 4.0]"
   ]
  },
  {
   "cell_type": "code",
   "execution_count": 47,
   "id": "be087a11",
   "metadata": {},
   "outputs": [
    {
     "data": {
      "text/plain": [
       "2-element Vector{Float64}:\n",
       " 3.0\n",
       " 4.0"
      ]
     },
     "execution_count": 47,
     "metadata": {},
     "output_type": "execute_result"
    }
   ],
   "source": [
    "array_struct.a"
   ]
  },
  {
   "cell_type": "markdown",
   "id": "d7c5dcc4",
   "metadata": {},
   "source": [
    "- Why is it like this? Isn't this unnecessarily restrictive for the programmer?\n",
    "<br>\n",
    "\n",
    "- The main reason for structs to be immutable is to allow the compiler to effectively optimise your code. In particular, it allows your objects to be stored efficiently in memory. (Hopefully) more on this in a later lecture.\n",
    "<br>\n",
    "\n",
    "- If you really do need a mutable struct, you can simply declare one with the `mutable` keyword:"
   ]
  },
  {
   "cell_type": "code",
   "execution_count": 48,
   "id": "c4dfa4d5",
   "metadata": {},
   "outputs": [
    {
     "data": {
      "text/plain": [
       "\"original value\""
      ]
     },
     "execution_count": 48,
     "metadata": {},
     "output_type": "execute_result"
    }
   ],
   "source": [
    "mutable struct MyMutableStruct\n",
    "    a\n",
    "end\n",
    "m = MyMutableStruct(\"original value\")\n",
    "m.a"
   ]
  },
  {
   "cell_type": "code",
   "execution_count": 49,
   "id": "433928b4",
   "metadata": {},
   "outputs": [
    {
     "data": {
      "text/plain": [
       "\"new value\""
      ]
     },
     "execution_count": 49,
     "metadata": {},
     "output_type": "execute_result"
    }
   ],
   "source": [
    "m.a = \"new value\"\n",
    "m.a"
   ]
  },
  {
   "cell_type": "markdown",
   "id": "23b8a9aa",
   "metadata": {},
   "source": [
    "- Be warned that using mutable structs will almost certainly impact the performance of your program and should be avoided in performance critical code.\n",
    "<br>\n",
    "\n",
    "- If you find yourself regularly reaching for mutable structs, it may be because you are still transitioning to the \"Julian\" way of thinking."
   ]
  },
  {
   "cell_type": "markdown",
   "id": "3f40571c",
   "metadata": {},
   "source": [
    "### 2.5. Avoid Abstract Type Annotations\n",
    "\n",
    "- To enable Julia to compile your source code into highly efficient machine code, it is strongly advised to avoid abstract type annotations in performance critical code. \n",
    "<br>\n",
    "\n",
    "- For example, don't do this:"
   ]
  },
  {
   "cell_type": "code",
   "execution_count": 50,
   "id": "8a9b8220",
   "metadata": {},
   "outputs": [
    {
     "name": "stdout",
     "output_type": "stream",
     "text": [
      "  17.358 ns (1 allocation: 16 bytes)\n"
     ]
    },
    {
     "data": {
      "text/plain": [
       "12.0"
      ]
     },
     "execution_count": 50,
     "metadata": {},
     "output_type": "execute_result"
    }
   ],
   "source": [
    "struct TwoThings\n",
    "    a  # implicit ::Any\n",
    "    b\n",
    "end\n",
    "\n",
    "function multiply(two_things)\n",
    "    return two_things.a * two_things.b\n",
    "end\n",
    "\n",
    "two_things = TwoThings(3.0, 4.0)\n",
    "\n",
    "@btime multiply(two_things)"
   ]
  },
  {
   "cell_type": "markdown",
   "id": "8bb4c59d",
   "metadata": {},
   "source": [
    "- Or this:"
   ]
  },
  {
   "cell_type": "code",
   "execution_count": 51,
   "id": "7707ba0d",
   "metadata": {
    "scrolled": true
   },
   "outputs": [
    {
     "name": "stdout",
     "output_type": "stream",
     "text": [
      "  17.525 ns (1 allocation: 16 bytes)\n"
     ]
    },
    {
     "data": {
      "text/plain": [
       "12.0"
      ]
     },
     "execution_count": 51,
     "metadata": {},
     "output_type": "execute_result"
    }
   ],
   "source": [
    "struct TwoAbstractFloats\n",
    "    a::AbstractFloat\n",
    "    b::AbstractFloat\n",
    "end\n",
    "\n",
    "two_floats = TwoAbstractFloats(3.0, 4.0)\n",
    "\n",
    "@btime multiply(two_floats)"
   ]
  },
  {
   "cell_type": "markdown",
   "id": "69ad543f",
   "metadata": {},
   "source": [
    "- What if we had used concrete type annotations instead?"
   ]
  },
  {
   "cell_type": "code",
   "execution_count": 52,
   "id": "e6b69f9f",
   "metadata": {},
   "outputs": [
    {
     "name": "stdout",
     "output_type": "stream",
     "text": [
      "  10.628 ns (1 allocation: 16 bytes)\n"
     ]
    },
    {
     "data": {
      "text/plain": [
       "12.0"
      ]
     },
     "execution_count": 52,
     "metadata": {},
     "output_type": "execute_result"
    }
   ],
   "source": [
    "struct TwoFloat64s\n",
    "    a::Float64\n",
    "    b::Float64\n",
    "end\n",
    "\n",
    "two_float64s = TwoFloat64s(3.0, 4.0)\n",
    "\n",
    "@btime multiply(two_float64s)"
   ]
  },
  {
   "cell_type": "code",
   "execution_count": 53,
   "id": "57d61159",
   "metadata": {},
   "outputs": [],
   "source": [
    "struct TwoFloat32\n",
    "    a::Float32\n",
    "    b::Float32\n",
    "end"
   ]
  },
  {
   "cell_type": "markdown",
   "id": "2193bdc3",
   "metadata": {},
   "source": [
    "- Even for such a trivial operation, we can see that there is a significant impact on speed due to the abstract type annotations.\n",
    "<br>\n",
    "\n",
    "- However, we also don't want to create a new, distinct composite type for every possible combination of concrete field types. Fortunately, Julia's parametric type system provides convenient syntax for defining entire families of structs with concrete field types."
   ]
  },
  {
   "cell_type": "markdown",
   "id": "8b57ef4f",
   "metadata": {},
   "source": [
    "## 3. Parametric Types <a class=\"anchor\" id=\"parametric-types\"></a>\n",
    "\n",
    "- We just saw how to define composite types, or structs. For example, to define a point in 2D Cartesian space we could do:"
   ]
  },
  {
   "cell_type": "code",
   "execution_count": 54,
   "id": "c1061521",
   "metadata": {},
   "outputs": [],
   "source": [
    "struct PointGeneric\n",
    "    x\n",
    "    y\n",
    "end"
   ]
  },
  {
   "cell_type": "markdown",
   "id": "fb06fbd6",
   "metadata": {},
   "source": [
    "- In addition, we saw that we can annotate the struct's fields with types, either abstract or concrete, and that this can have consequences for the performance of our code. For example:"
   ]
  },
  {
   "cell_type": "code",
   "execution_count": 55,
   "id": "7319ba25",
   "metadata": {},
   "outputs": [],
   "source": [
    "struct PointFloat64\n",
    "    x::Float64\n",
    "    y::Float64\n",
    "end"
   ]
  },
  {
   "cell_type": "code",
   "execution_count": 56,
   "id": "a6a0668d",
   "metadata": {},
   "outputs": [
    {
     "data": {
      "text/plain": [
       "norm (generic function with 1 method)"
      ]
     },
     "execution_count": 56,
     "metadata": {},
     "output_type": "execute_result"
    }
   ],
   "source": [
    "function norm(point)\n",
    "    (; x, y) = point\n",
    "    return sqrt(x^2 + y^2)\n",
    "end"
   ]
  },
  {
   "cell_type": "code",
   "execution_count": 57,
   "id": "814488e0",
   "metadata": {},
   "outputs": [
    {
     "name": "stdout",
     "output_type": "stream",
     "text": [
      "  50.663 ns (4 allocations: 64 bytes)\n"
     ]
    },
    {
     "data": {
      "text/plain": [
       "5.0"
      ]
     },
     "execution_count": 57,
     "metadata": {},
     "output_type": "execute_result"
    }
   ],
   "source": [
    "p1 = PointGeneric(3.0, 4.0)\n",
    "@btime norm(p1)"
   ]
  },
  {
   "cell_type": "code",
   "execution_count": 58,
   "id": "bd1aed72",
   "metadata": {},
   "outputs": [
    {
     "name": "stdout",
     "output_type": "stream",
     "text": [
      "  10.859 ns (1 allocation: 16 bytes)\n"
     ]
    },
    {
     "data": {
      "text/plain": [
       "5.0"
      ]
     },
     "execution_count": 58,
     "metadata": {},
     "output_type": "execute_result"
    }
   ],
   "source": [
    "p2 = PointFloat64(3.0, 4.0)\n",
    "@btime norm(p2)"
   ]
  },
  {
   "cell_type": "markdown",
   "id": "ffed870b",
   "metadata": {},
   "source": [
    "- Creating a new `Point`-like type for every possible concrete type its fields could take is of course tedious and restrictive. Do not write code like this!"
   ]
  },
  {
   "cell_type": "markdown",
   "id": "64eeec30",
   "metadata": {},
   "source": [
    "### 3.1. Parametric Composite Types \n",
    "\n",
    "- Julia's type system is **parametric**: types can take parameters, such that type declarations actually introduce an entire family of new types - one for each possible combination of the parameter values.\n",
    "<br>\n",
    "\n",
    "- We can think of this like a mathematical function with parameters, e.g. $f(x, y \\,; a, b)$.\n",
    "<br>\n",
    "\n",
    "- Type parameters are introduced immediately after the type name, surrounded by curly braces:"
   ]
  },
  {
   "cell_type": "code",
   "execution_count": 59,
   "id": "f8c07e72",
   "metadata": {},
   "outputs": [],
   "source": [
    "struct Point{T}\n",
    "   x::T\n",
    "   y::T\n",
    "end"
   ]
  },
  {
   "cell_type": "markdown",
   "id": "8bc6a223",
   "metadata": {},
   "source": [
    "- `T`, the type parameter, can be *any* Julia type.\n",
    "<br>\n",
    "\n",
    "- This particular declaration defines a new parametric type, `Point{T}`, holding two \"coordinates\", each of the same type `T`.\n",
    "<br>\n",
    "\n",
    "- For example, `Point{Float64}` is a concrete type equivalent to the type defined by replacing `T` in the definition of `Point` with `Float64`. That is, `Point{Float64}` is equivalent to the `PointFloat64` struct that we defined earlier."
   ]
  },
  {
   "cell_type": "code",
   "execution_count": 60,
   "id": "dd38f9f5",
   "metadata": {},
   "outputs": [
    {
     "data": {
      "text/plain": [
       "Point{Float64}"
      ]
     },
     "execution_count": 60,
     "metadata": {},
     "output_type": "execute_result"
    }
   ],
   "source": [
    "Point{Float64}"
   ]
  },
  {
   "cell_type": "code",
   "execution_count": 61,
   "id": "36eaee6e",
   "metadata": {},
   "outputs": [
    {
     "data": {
      "text/plain": [
       "true"
      ]
     },
     "execution_count": 61,
     "metadata": {},
     "output_type": "execute_result"
    }
   ],
   "source": [
    "isconcretetype(Point{Float64})"
   ]
  },
  {
   "cell_type": "code",
   "execution_count": 62,
   "id": "e58a1436",
   "metadata": {},
   "outputs": [
    {
     "data": {
      "text/plain": [
       "Point{String}"
      ]
     },
     "execution_count": 62,
     "metadata": {},
     "output_type": "execute_result"
    }
   ],
   "source": [
    "Point{String}"
   ]
  },
  {
   "cell_type": "code",
   "execution_count": 63,
   "id": "52adf9fa",
   "metadata": {},
   "outputs": [
    {
     "name": "stdout",
     "output_type": "stream",
     "text": [
      "  50.463 ns (4 allocations: 64 bytes)\n"
     ]
    },
    {
     "data": {
      "text/plain": [
       "5.0"
      ]
     },
     "execution_count": 63,
     "metadata": {},
     "output_type": "execute_result"
    }
   ],
   "source": [
    "p3 = Point{Any}(3.0, 4.0)\n",
    "@btime norm(p3)"
   ]
  },
  {
   "cell_type": "code",
   "execution_count": 64,
   "id": "e8ed5c2a",
   "metadata": {},
   "outputs": [
    {
     "name": "stdout",
     "output_type": "stream",
     "text": [
      "  10.864 ns (1 allocation: 16 bytes)\n"
     ]
    },
    {
     "data": {
      "text/plain": [
       "5.0"
      ]
     },
     "execution_count": 64,
     "metadata": {},
     "output_type": "execute_result"
    }
   ],
   "source": [
    "p4 = Point{Float64}(3.0, 4.0)\n",
    "@btime norm(p4)"
   ]
  },
  {
   "cell_type": "code",
   "execution_count": 65,
   "id": "a9e37b5d",
   "metadata": {
    "scrolled": true
   },
   "outputs": [
    {
     "data": {
      "text/plain": [
       "true"
      ]
     },
     "execution_count": 65,
     "metadata": {},
     "output_type": "execute_result"
    }
   ],
   "source": [
    "isconcretetype(Point{Float64})"
   ]
  },
  {
   "cell_type": "code",
   "execution_count": 66,
   "id": "96a643f8",
   "metadata": {
    "scrolled": true
   },
   "outputs": [
    {
     "data": {
      "text/plain": [
       "false"
      ]
     },
     "execution_count": 66,
     "metadata": {},
     "output_type": "execute_result"
    }
   ],
   "source": [
    "isabstracttype(Point)"
   ]
  },
  {
   "cell_type": "code",
   "execution_count": 67,
   "id": "02f0abbd",
   "metadata": {},
   "outputs": [
    {
     "data": {
      "text/plain": [
       "true"
      ]
     },
     "execution_count": 67,
     "metadata": {},
     "output_type": "execute_result"
    }
   ],
   "source": [
    "isstructtype(Point)"
   ]
  },
  {
   "cell_type": "markdown",
   "id": "42fd1e9e",
   "metadata": {},
   "source": [
    "- We see therefore that our parametric definition of `Point{T}` actually declares an unlimited number of types, one for each possible value of `T`, each of which is now a usable concrete type. \n",
    "<br>\n",
    "\n",
    "- When creating an instance of `Point`, the value of the parameter type `T` can be omitted if it is unambiguous:"
   ]
  },
  {
   "cell_type": "code",
   "execution_count": 68,
   "id": "db5699fe",
   "metadata": {},
   "outputs": [
    {
     "data": {
      "text/plain": [
       "Point{Float64}(1.0, 2.0)"
      ]
     },
     "execution_count": 68,
     "metadata": {},
     "output_type": "execute_result"
    }
   ],
   "source": [
    "Point(1.0, 2.0)"
   ]
  },
  {
   "cell_type": "code",
   "execution_count": 69,
   "id": "af8ce393",
   "metadata": {},
   "outputs": [
    {
     "data": {
      "text/plain": [
       "Point{String}(\"1.0\", \"2.0\")"
      ]
     },
     "execution_count": 69,
     "metadata": {},
     "output_type": "execute_result"
    }
   ],
   "source": [
    "Point(\"1.0\", \"2.0\")"
   ]
  },
  {
   "cell_type": "markdown",
   "id": "d0b9000d",
   "metadata": {},
   "source": [
    "- `Point` itself is a valid type object (neither abstract nor concrete!) containing all possible instances of `Point{T}` as subtypes:"
   ]
  },
  {
   "cell_type": "code",
   "execution_count": 70,
   "id": "5cade840",
   "metadata": {},
   "outputs": [
    {
     "data": {
      "text/plain": [
       "true"
      ]
     },
     "execution_count": 70,
     "metadata": {},
     "output_type": "execute_result"
    }
   ],
   "source": [
    "Point{Float64} <: Point"
   ]
  },
  {
   "cell_type": "code",
   "execution_count": 71,
   "id": "841a2c39",
   "metadata": {},
   "outputs": [
    {
     "data": {
      "text/plain": [
       "true"
      ]
     },
     "execution_count": 71,
     "metadata": {},
     "output_type": "execute_result"
    }
   ],
   "source": [
    "Point{Any} <: Point"
   ]
  },
  {
   "cell_type": "markdown",
   "id": "d2fba9d0",
   "metadata": {},
   "source": [
    "- However, concrete `Point` types with different values of `T` are never subtypes of each other:"
   ]
  },
  {
   "cell_type": "code",
   "execution_count": 72,
   "id": "820b5d64",
   "metadata": {},
   "outputs": [
    {
     "data": {
      "text/plain": [
       "false"
      ]
     },
     "execution_count": 72,
     "metadata": {},
     "output_type": "execute_result"
    }
   ],
   "source": [
    "Point{Float64} <: Point{AbstractFloat}"
   ]
  },
  {
   "cell_type": "code",
   "execution_count": 73,
   "id": "d27fd453",
   "metadata": {},
   "outputs": [
    {
     "data": {
      "text/plain": [
       "true"
      ]
     },
     "execution_count": 73,
     "metadata": {},
     "output_type": "execute_result"
    }
   ],
   "source": [
    "Float64 <: AbstractFloat"
   ]
  },
  {
   "cell_type": "markdown",
   "id": "09bc7de2",
   "metadata": {},
   "source": [
    "- This is because Julia's type system is [**invariant**](https://en.wikipedia.org/wiki/Covariance_and_contravariance_(computer_science)), which means that, for any three types `A`, `B`, `C`, where `C` is parametrised by another type, `A <: B` does not imply that `C{A} <: C{B}`.\n",
    "<br>\n",
    "\n",
    "- Often, we will want to restrict the possible values of the type parameter `T`. For example, to restrict our coordinates to real numbers, we could have done:"
   ]
  },
  {
   "cell_type": "code",
   "execution_count": 74,
   "id": "dabadc7c",
   "metadata": {},
   "outputs": [],
   "source": [
    "struct PointReal{T<:Real}\n",
    "   x::T\n",
    "   y::T\n",
    "end"
   ]
  },
  {
   "cell_type": "code",
   "execution_count": 75,
   "id": "2ed08394",
   "metadata": {
    "scrolled": true
   },
   "outputs": [
    {
     "ename": "LoadError",
     "evalue": "TypeError: in PointReal, in T, expected T<:Real, got Type{String}",
     "output_type": "error",
     "traceback": [
      "TypeError: in PointReal, in T, expected T<:Real, got Type{String}",
      "",
      "Stacktrace:",
      " [1] top-level scope",
      "   @ In[75]:1"
     ]
    }
   ],
   "source": [
    "PointReal{String}"
   ]
  },
  {
   "cell_type": "code",
   "execution_count": 76,
   "id": "b628bf7d",
   "metadata": {},
   "outputs": [
    {
     "data": {
      "text/plain": [
       "false"
      ]
     },
     "execution_count": 76,
     "metadata": {},
     "output_type": "execute_result"
    }
   ],
   "source": [
    "String <: Real"
   ]
  },
  {
   "cell_type": "code",
   "execution_count": 77,
   "id": "25a86a59",
   "metadata": {},
   "outputs": [
    {
     "data": {
      "text/plain": [
       "count_subtypes (generic function with 1 method)"
      ]
     },
     "execution_count": 77,
     "metadata": {},
     "output_type": "execute_result"
    }
   ],
   "source": [
    "function count_subtypes(T)\n",
    "    count = 0\n",
    "    \n",
    "    for subtype in subtypes(T)\n",
    "        count += 1\n",
    "        if !isconcretetype(subtype)\n",
    "            count += count_subtypes(subtype)\n",
    "        end\n",
    "    end\n",
    "    \n",
    "    return count\n",
    "end"
   ]
  },
  {
   "cell_type": "code",
   "execution_count": 78,
   "id": "73cf0b43",
   "metadata": {},
   "outputs": [
    {
     "data": {
      "text/plain": [
       "23"
      ]
     },
     "execution_count": 78,
     "metadata": {},
     "output_type": "execute_result"
    }
   ],
   "source": [
    "count_subtypes(Real)"
   ]
  },
  {
   "cell_type": "code",
   "execution_count": 79,
   "id": "28532891",
   "metadata": {},
   "outputs": [
    {
     "name": "stdout",
     "output_type": "stream",
     "text": [
      "Real\n",
      "├─ AbstractFloat\n",
      "│  ├─ BigFloat\n",
      "│  ├─ Float16\n",
      "│  ├─ Float32\n",
      "│  └─ Float64\n",
      "├─ AbstractIrrational\n",
      "│  └─ Irrational\n",
      "├─ Integer\n",
      "│  ├─ Bool\n",
      "│  ├─ Signed\n",
      "│  │  ├─ BigInt\n",
      "│  │  ├─ Int128\n",
      "│  │  ├─ Int16\n",
      "│  │  ├─ Int32\n",
      "│  │  ├─ Int64\n",
      "│  │  └─ Int8\n",
      "│  └─ Unsigned\n",
      "│     ├─ UInt128\n",
      "│     ├─ UInt16\n",
      "│     ├─ UInt32\n",
      "│     ├─ UInt64\n",
      "│     └─ UInt8\n",
      "└─ Rational\n"
     ]
    }
   ],
   "source": [
    "print_tree(Real)"
   ]
  },
  {
   "cell_type": "markdown",
   "id": "46d3ad8f",
   "metadata": {},
   "source": [
    "- We can also have multiple type parameters for a single parametric type. For example:"
   ]
  },
  {
   "cell_type": "code",
   "execution_count": 80,
   "id": "bbc6c9df",
   "metadata": {},
   "outputs": [],
   "source": [
    "struct Person{A<:AbstractString, B<:Integer, C<:Real}\n",
    "    name::A\n",
    "    age::B\n",
    "    height::C\n",
    "    weight::C\n",
    "end"
   ]
  },
  {
   "cell_type": "code",
   "execution_count": 81,
   "id": "34f6a1de",
   "metadata": {},
   "outputs": [
    {
     "data": {
      "text/plain": [
       "Person{String, Int64, Float64}(\"Alice\", 100, 200.0, 100.0)"
      ]
     },
     "execution_count": 81,
     "metadata": {},
     "output_type": "execute_result"
    }
   ],
   "source": [
    "Person(\"Alice\", 100, 200.0, 100.0)"
   ]
  },
  {
   "cell_type": "markdown",
   "id": "db4d27ab",
   "metadata": {},
   "source": [
    "### 3.2. Parametric Abstract Types\n",
    "\n",
    "- Parametric abstract type declarations declare a collection of abstract types, in much the same way:"
   ]
  },
  {
   "cell_type": "code",
   "execution_count": 82,
   "id": "4cefb62c",
   "metadata": {},
   "outputs": [],
   "source": [
    "abstract type Pointy{T} end"
   ]
  },
  {
   "cell_type": "markdown",
   "id": "1065984a",
   "metadata": {},
   "source": [
    "- Once again, our parametric type declaration defines an unlimited number of abstract types, one for every possible value of `T`.\n",
    "<br>\n",
    "\n",
    "- We could have declared `Point{T}` to be a subtype of `Pointy{T}`. For example:"
   ]
  },
  {
   "cell_type": "code",
   "execution_count": 83,
   "id": "c98c2ad1",
   "metadata": {},
   "outputs": [],
   "source": [
    "struct Point2D{T} <: Pointy{T}\n",
    "   x::T\n",
    "   y::T\n",
    "end"
   ]
  },
  {
   "cell_type": "code",
   "execution_count": 84,
   "id": "482c5d70",
   "metadata": {},
   "outputs": [],
   "source": [
    "struct Point3D{T} <: Pointy{T}\n",
    "   x::T\n",
    "   y::T\n",
    "   z::T\n",
    "end"
   ]
  },
  {
   "cell_type": "markdown",
   "id": "819b7610",
   "metadata": {},
   "source": [
    "- We now have a distinct type tree for each allowed (real) value of `T`. For example:"
   ]
  },
  {
   "cell_type": "code",
   "execution_count": 85,
   "id": "1e26b446",
   "metadata": {},
   "outputs": [
    {
     "name": "stdout",
     "output_type": "stream",
     "text": [
      "Pointy{Float64}\n",
      "├─ Point2D{Float64}\n",
      "└─ Point3D{Float64}\n"
     ]
    }
   ],
   "source": [
    "print_tree(Pointy{Float64})"
   ]
  },
  {
   "cell_type": "code",
   "execution_count": 86,
   "id": "d37759d1",
   "metadata": {},
   "outputs": [
    {
     "name": "stdout",
     "output_type": "stream",
     "text": [
      "Pointy{Int32}\n",
      "├─ Point2D{Int32}\n",
      "└─ Point3D{Int32}\n"
     ]
    }
   ],
   "source": [
    "print_tree(Pointy{Int32})"
   ]
  },
  {
   "cell_type": "code",
   "execution_count": 87,
   "id": "ac9135c3",
   "metadata": {},
   "outputs": [
    {
     "name": "stdout",
     "output_type": "stream",
     "text": [
      "Pointy\n",
      "├─ Point2D\n",
      "└─ Point3D\n"
     ]
    }
   ],
   "source": [
    "print_tree(Pointy)"
   ]
  },
  {
   "cell_type": "markdown",
   "id": "290b01fd",
   "metadata": {},
   "source": [
    "Aside on NaN type (in response to a question)."
   ]
  },
  {
   "cell_type": "code",
   "execution_count": 88,
   "id": "8fd580fe",
   "metadata": {},
   "outputs": [
    {
     "data": {
      "text/plain": [
       "NaN"
      ]
     },
     "execution_count": 88,
     "metadata": {},
     "output_type": "execute_result"
    }
   ],
   "source": [
    "NaN"
   ]
  },
  {
   "cell_type": "code",
   "execution_count": 89,
   "id": "d28c555b",
   "metadata": {},
   "outputs": [
    {
     "data": {
      "text/plain": [
       "NaN32"
      ]
     },
     "execution_count": 89,
     "metadata": {},
     "output_type": "execute_result"
    }
   ],
   "source": [
    "NaN32"
   ]
  },
  {
   "cell_type": "code",
   "execution_count": 90,
   "id": "b99d57ff",
   "metadata": {},
   "outputs": [
    {
     "data": {
      "text/plain": [
       "true"
      ]
     },
     "execution_count": 90,
     "metadata": {},
     "output_type": "execute_result"
    }
   ],
   "source": [
    "NaN64 === NaN"
   ]
  },
  {
   "cell_type": "code",
   "execution_count": 91,
   "id": "2e90211e",
   "metadata": {
    "scrolled": true
   },
   "outputs": [
    {
     "data": {
      "text/plain": [
       "Float64"
      ]
     },
     "execution_count": 91,
     "metadata": {},
     "output_type": "execute_result"
    }
   ],
   "source": [
    "typeof(NaN)"
   ]
  },
  {
   "cell_type": "code",
   "execution_count": 92,
   "id": "03a700f5",
   "metadata": {},
   "outputs": [
    {
     "data": {
      "text/plain": [
       "true"
      ]
     },
     "execution_count": 92,
     "metadata": {},
     "output_type": "execute_result"
    }
   ],
   "source": [
    "isconcretetype(typeof(NaN))"
   ]
  },
  {
   "cell_type": "code",
   "execution_count": 93,
   "id": "c9b15f1e",
   "metadata": {},
   "outputs": [
    {
     "data": {
      "text/plain": [
       "AbstractFloat"
      ]
     },
     "execution_count": 93,
     "metadata": {},
     "output_type": "execute_result"
    }
   ],
   "source": [
    "supertype(typeof(NaN))"
   ]
  },
  {
   "cell_type": "code",
   "execution_count": 94,
   "id": "2887f207",
   "metadata": {},
   "outputs": [
    {
     "name": "stdout",
     "output_type": "stream",
     "text": [
      "AbstractFloat\n",
      "├─ BigFloat\n",
      "├─ Float16\n",
      "├─ Float32\n",
      "└─ Float64\n"
     ]
    }
   ],
   "source": [
    "print_tree(AbstractFloat)"
   ]
  },
  {
   "cell_type": "code",
   "execution_count": 95,
   "id": "6fa5f179",
   "metadata": {},
   "outputs": [
    {
     "data": {
      "text/plain": [
       "NaN16"
      ]
     },
     "execution_count": 95,
     "metadata": {},
     "output_type": "execute_result"
    }
   ],
   "source": [
    "NaN16"
   ]
  },
  {
   "cell_type": "code",
   "execution_count": 96,
   "id": "da513240",
   "metadata": {},
   "outputs": [],
   "source": [
    "nothing"
   ]
  },
  {
   "cell_type": "code",
   "execution_count": 97,
   "id": "f91a0b18",
   "metadata": {},
   "outputs": [
    {
     "data": {
      "text/plain": [
       "Nothing"
      ]
     },
     "execution_count": 97,
     "metadata": {},
     "output_type": "execute_result"
    }
   ],
   "source": [
    "typeof(nothing)"
   ]
  },
  {
   "cell_type": "code",
   "execution_count": 98,
   "id": "fea6c154",
   "metadata": {},
   "outputs": [
    {
     "data": {
      "text/plain": [
       "Any"
      ]
     },
     "execution_count": 98,
     "metadata": {},
     "output_type": "execute_result"
    }
   ],
   "source": [
    "supertype(Nothing)"
   ]
  },
  {
   "cell_type": "code",
   "execution_count": 99,
   "id": "835bafed",
   "metadata": {},
   "outputs": [
    {
     "data": {
      "text/plain": [
       "true"
      ]
     },
     "execution_count": 99,
     "metadata": {},
     "output_type": "execute_result"
    }
   ],
   "source": [
    "Inf === Inf64"
   ]
  },
  {
   "cell_type": "code",
   "execution_count": 100,
   "id": "63da84b2",
   "metadata": {},
   "outputs": [
    {
     "data": {
      "text/plain": [
       "Inf32"
      ]
     },
     "execution_count": 100,
     "metadata": {},
     "output_type": "execute_result"
    }
   ],
   "source": [
    "Inf32"
   ]
  },
  {
   "cell_type": "markdown",
   "id": "3ca05333",
   "metadata": {},
   "source": [
    "## Summary So Far\n",
    "\n",
    "1. Types in Julia can be abstract or concrete.\n",
    "<br>\n",
    "\n",
    "2. A composite type is introduced with the `struct` keyword and consists of a block of field names along with optional type annotations.\n",
    "<br>\n",
    "\n",
    "3. Structs are immutable.\n",
    "<br>\n",
    "\n",
    "4. Abstract type annotations can slow down your code.\n",
    "<br>\n",
    "\n",
    "5. Parametric types define entire families of types."
   ]
  },
  {
   "cell_type": "markdown",
   "id": "47e13976",
   "metadata": {},
   "source": [
    "## 4. Methods and Multiple Dispatch <a class=\"anchor\" id=\"methods\"></a>\n",
    "\n",
    "### 4.1 Methods\n",
    "\n",
    "\n",
    "- Remember from the first lecture that a function maps a tuple of arguments to a return value.\n",
    "<br>\n",
    "\n",
    "- From the Julia documentation (emphasis mine):\n",
    "\n",
    "\n",
    "> It is common for the same conceptual function or operation to be implemented quite differently for **different types of arguments**: adding two integers is very different from adding two floating-point numbers, both of which are distinct from adding an integer to a floating-point number. Despite their implementation differences, these operations all fall under the general concept of \"addition\". Accordingly, in Julia, these behaviors all belong to a single object: the + function.\n",
    "\n",
    "\n",
    "- Conceptually, we have one function (addition), with many possible behaviours, depending on the types of the inputs (integers, floats, matrices, and so on).\n",
    "<br>\n",
    "\n",
    "- **A definition of one possible behaviour for a function, given the number and types of its arguments, is called a method.**"
   ]
  },
  {
   "cell_type": "code",
   "execution_count": 101,
   "id": "15e433f0",
   "metadata": {
    "scrolled": true
   },
   "outputs": [
    {
     "data": {
      "text/html": [
       "# 207 methods for generic function <b>+</b> from \u001b[90mBase\u001b[39m:<ul><li> +(x::<b>T</b>, y::<b>T</b>)<i> where T<:Union{Int128, Int16, Int32, Int64, Int8, UInt128, UInt16, UInt32, UInt64, UInt8}</i> in Base at <a href=\"https://github.com/JuliaLang/julia/tree/bed2cd540a11544ed4be381d471bbf590f0b745e/base/int.jl#L87\" target=\"_blank\">int.jl:87</a></li> <li> +(x::<b>T</b>, y::<b>T</b>)<i> where T<:Union{Float16, Float32, Float64}</i> in Base at <a href=\"https://github.com/JuliaLang/julia/tree/bed2cd540a11544ed4be381d471bbf590f0b745e/base/float.jl#L408\" target=\"_blank\">float.jl:408</a></li> <li> +(c::<b>Union{UInt16, UInt32, UInt64, UInt8}</b>, x::<b>BigInt</b>) in Base.GMP at <a href=\"https://github.com/JuliaLang/julia/tree/bed2cd540a11544ed4be381d471bbf590f0b745e/base/gmp.jl#L539\" target=\"_blank\">gmp.jl:539</a></li> <li> +(c::<b>Union{Int16, Int32, Int64, Int8}</b>, x::<b>BigInt</b>) in Base.GMP at <a href=\"https://github.com/JuliaLang/julia/tree/bed2cd540a11544ed4be381d471bbf590f0b745e/base/gmp.jl#L545\" target=\"_blank\">gmp.jl:545</a></li> <li> +(c::<b>Union{UInt16, UInt32, UInt64, UInt8}</b>, x::<b>BigFloat</b>) in Base.MPFR at <a href=\"https://github.com/JuliaLang/julia/tree/bed2cd540a11544ed4be381d471bbf590f0b745e/base/mpfr.jl#L407\" target=\"_blank\">mpfr.jl:407</a></li> <li> +(c::<b>Union{Int16, Int32, Int64, Int8}</b>, x::<b>BigFloat</b>) in Base.MPFR at <a href=\"https://github.com/JuliaLang/julia/tree/bed2cd540a11544ed4be381d471bbf590f0b745e/base/mpfr.jl#L415\" target=\"_blank\">mpfr.jl:415</a></li> <li> +(c::<b>Union{Float16, Float32, Float64}</b>, x::<b>BigFloat</b>) in Base.MPFR at <a href=\"https://github.com/JuliaLang/julia/tree/bed2cd540a11544ed4be381d471bbf590f0b745e/base/mpfr.jl#L423\" target=\"_blank\">mpfr.jl:423</a></li> <li> +(x::<b>Union{Dates.CompoundPeriod, Dates.Period}</b>) in Dates at <a href=\"file:///cache/build/default-amdci5-5/julialang/julia-release-1-dot-9/usr/share/julia/stdlib/v1.9/Dates/src/periods.jl\" target=\"_blank\">/home/alistair/.julia/juliaup/julia-1.9.3+0.x64.linux.gnu/share/julia/stdlib/v1.9/Dates/src/periods.jl:342</a></li> <li> +(F::<b>LinearAlgebra.Hessenberg</b>, J::<b>LinearAlgebra.UniformScaling</b>) in LinearAlgebra at <a href=\"file:///cache/build/default-amdci5-5/julialang/julia-release-1-dot-9/usr/share/julia/stdlib/v1.9/LinearAlgebra/src/hessenberg.jl\" target=\"_blank\">/home/alistair/.julia/juliaup/julia-1.9.3+0.x64.linux.gnu/share/julia/stdlib/v1.9/LinearAlgebra/src/hessenberg.jl:647</a></li> <li> +(r::<b>AbstractRange{<:Dates.TimeType}</b>, x::<b>Dates.Period</b>) in Dates at <a href=\"file:///cache/build/default-amdci5-5/julialang/julia-release-1-dot-9/usr/share/julia/stdlib/v1.9/Dates/src/ranges.jl\" target=\"_blank\">/home/alistair/.julia/juliaup/julia-1.9.3+0.x64.linux.gnu/share/julia/stdlib/v1.9/Dates/src/ranges.jl:65</a></li> <li> +(x::<b>AbstractArray{<:Dates.TimeType}</b>, y::<b>Union{Dates.CompoundPeriod, Dates.Period}</b>) in Dates at <a href=\"file:///cache/build/default-amdci5-5/julialang/julia-release-1-dot-9/usr/share/julia/stdlib/v1.9/Dates/src/deprecated.jl\" target=\"_blank\">/home/alistair/.julia/juliaup/julia-1.9.3+0.x64.linux.gnu/share/julia/stdlib/v1.9/Dates/src/deprecated.jl:6</a></li> <li> +(A::<b>LinearAlgebra.Tridiagonal</b>, B::<b>LinearAlgebra.Tridiagonal</b>) in LinearAlgebra at <a href=\"file:///cache/build/default-amdci5-5/julialang/julia-release-1-dot-9/usr/share/julia/stdlib/v1.9/LinearAlgebra/src/tridiag.jl\" target=\"_blank\">/home/alistair/.julia/juliaup/julia-1.9.3+0.x64.linux.gnu/share/julia/stdlib/v1.9/LinearAlgebra/src/tridiag.jl:754</a></li> <li> +(x::<b>LinearAlgebra.Tridiagonal</b>, H::<b>LinearAlgebra.UpperHessenberg</b>) in LinearAlgebra at <a href=\"file:///cache/build/default-amdci5-5/julialang/julia-release-1-dot-9/usr/share/julia/stdlib/v1.9/LinearAlgebra/src/hessenberg.jl\" target=\"_blank\">/home/alistair/.julia/juliaup/julia-1.9.3+0.x64.linux.gnu/share/julia/stdlib/v1.9/LinearAlgebra/src/hessenberg.jl:112</a></li> <li> +(A::<b>LinearAlgebra.Tridiagonal</b>, B::<b>LinearAlgebra.SymTridiagonal</b>) in LinearAlgebra at <a href=\"file:///cache/build/default-amdci5-5/julialang/julia-release-1-dot-9/usr/share/julia/stdlib/v1.9/LinearAlgebra/src/special.jl\" target=\"_blank\">/home/alistair/.julia/juliaup/julia-1.9.3+0.x64.linux.gnu/share/julia/stdlib/v1.9/LinearAlgebra/src/special.jl:162</a></li> <li> +(A::<b>LinearAlgebra.Tridiagonal</b>, B::<b>LinearAlgebra.Diagonal</b>) in LinearAlgebra at <a href=\"file:///cache/build/default-amdci5-5/julialang/julia-release-1-dot-9/usr/share/julia/stdlib/v1.9/LinearAlgebra/src/special.jl\" target=\"_blank\">/home/alistair/.julia/juliaup/julia-1.9.3+0.x64.linux.gnu/share/julia/stdlib/v1.9/LinearAlgebra/src/special.jl:178</a></li> <li> +(A::<b>LinearAlgebra.Tridiagonal</b>, B::<b>LinearAlgebra.Bidiagonal</b>) in LinearAlgebra at <a href=\"file:///cache/build/default-amdci5-5/julialang/julia-release-1-dot-9/usr/share/julia/stdlib/v1.9/LinearAlgebra/src/special.jl\" target=\"_blank\">/home/alistair/.julia/juliaup/julia-1.9.3+0.x64.linux.gnu/share/julia/stdlib/v1.9/LinearAlgebra/src/special.jl:198</a></li> <li> +(A::<b>LinearAlgebra.Tridiagonal{var\"#s972\", V} where {var\"#s972\"<:Number, V<:AbstractVector{var\"#s972\"}}</b>, B::<b>LinearAlgebra.UniformScaling</b>) in LinearAlgebra at <a href=\"file:///cache/build/default-amdci5-5/julialang/julia-release-1-dot-9/usr/share/julia/stdlib/v1.9/LinearAlgebra/src/special.jl\" target=\"_blank\">/home/alistair/.julia/juliaup/julia-1.9.3+0.x64.linux.gnu/share/julia/stdlib/v1.9/LinearAlgebra/src/special.jl:231</a></li> <li> +(A::<b>SparseArrays.AbstractSparseMatrix</b>, B::<b>LinearAlgebra.Hermitian{<:Any, <:SparseArrays.AbstractSparseMatrix}</b>) in SparseArrays at <a href=\"file:///cache/build/default-amdci5-5/julialang/julia-release-1-dot-9/usr/share/julia/stdlib/v1.9/SparseArrays/src/linalg.jl\" target=\"_blank\">/home/alistair/.julia/juliaup/julia-1.9.3+0.x64.linux.gnu/share/julia/stdlib/v1.9/SparseArrays/src/linalg.jl:14</a></li> <li> +(A::<b>SparseArrays.AbstractSparseMatrix</b>, B::<b>LinearAlgebra.Hermitian</b>) in SparseArrays at <a href=\"file:///cache/build/default-amdci5-5/julialang/julia-release-1-dot-9/usr/share/julia/stdlib/v1.9/SparseArrays/src/linalg.jl\" target=\"_blank\">/home/alistair/.julia/juliaup/julia-1.9.3+0.x64.linux.gnu/share/julia/stdlib/v1.9/SparseArrays/src/linalg.jl:17</a></li> <li> +(A::<b>SparseArrays.AbstractSparseMatrix</b>, B::<b>LinearAlgebra.Symmetric{<:Any, <:SparseArrays.AbstractSparseMatrix}</b>) in SparseArrays at <a href=\"file:///cache/build/default-amdci5-5/julialang/julia-release-1-dot-9/usr/share/julia/stdlib/v1.9/SparseArrays/src/linalg.jl\" target=\"_blank\">/home/alistair/.julia/juliaup/julia-1.9.3+0.x64.linux.gnu/share/julia/stdlib/v1.9/SparseArrays/src/linalg.jl:14</a></li> <li> +(A::<b>SparseArrays.AbstractSparseMatrix</b>, B::<b>LinearAlgebra.Symmetric</b>) in SparseArrays at <a href=\"file:///cache/build/default-amdci5-5/julialang/julia-release-1-dot-9/usr/share/julia/stdlib/v1.9/SparseArrays/src/linalg.jl\" target=\"_blank\">/home/alistair/.julia/juliaup/julia-1.9.3+0.x64.linux.gnu/share/julia/stdlib/v1.9/SparseArrays/src/linalg.jl:17</a></li> <li> +(x::<b>P</b>, y::<b>P</b>)<i> where P<:Dates.Period</i> in Dates at <a href=\"file:///cache/build/default-amdci5-5/julialang/julia-release-1-dot-9/usr/share/julia/stdlib/v1.9/Dates/src/periods.jl\" target=\"_blank\">/home/alistair/.julia/juliaup/julia-1.9.3+0.x64.linux.gnu/share/julia/stdlib/v1.9/Dates/src/periods.jl:75</a></li> <li> +(x::<b>Dates.Period</b>, y::<b>Dates.Period</b>) in Dates at <a href=\"file:///cache/build/default-amdci5-5/julialang/julia-release-1-dot-9/usr/share/julia/stdlib/v1.9/Dates/src/periods.jl\" target=\"_blank\">/home/alistair/.julia/juliaup/julia-1.9.3+0.x64.linux.gnu/share/julia/stdlib/v1.9/Dates/src/periods.jl:331</a></li> <li> +(y::<b>Dates.Period</b>, x::<b>Dates.CompoundPeriod</b>) in Dates at <a href=\"file:///cache/build/default-amdci5-5/julialang/julia-release-1-dot-9/usr/share/julia/stdlib/v1.9/Dates/src/periods.jl\" target=\"_blank\">/home/alistair/.julia/juliaup/julia-1.9.3+0.x64.linux.gnu/share/julia/stdlib/v1.9/Dates/src/periods.jl:333</a></li> <li> +(y::<b>Dates.Period</b>, x::<b>Dates.TimeType</b>) in Dates at <a href=\"file:///cache/build/default-amdci5-5/julialang/julia-release-1-dot-9/usr/share/julia/stdlib/v1.9/Dates/src/arithmetic.jl\" target=\"_blank\">/home/alistair/.julia/juliaup/julia-1.9.3+0.x64.linux.gnu/share/julia/stdlib/v1.9/Dates/src/arithmetic.jl:85</a></li> <li> +(x::<b>Dates.Period</b>, r::<b>AbstractRange{<:Dates.TimeType}</b>) in Dates at <a href=\"file:///cache/build/default-amdci5-5/julialang/julia-release-1-dot-9/usr/share/julia/stdlib/v1.9/Dates/src/ranges.jl\" target=\"_blank\">/home/alistair/.julia/juliaup/julia-1.9.3+0.x64.linux.gnu/share/julia/stdlib/v1.9/Dates/src/ranges.jl:64</a></li> <li> +(y::<b>Union{Dates.CompoundPeriod, Dates.Period}</b>, x::<b>AbstractArray{<:Dates.TimeType}</b>) in Dates at <a href=\"file:///cache/build/default-amdci5-5/julialang/julia-release-1-dot-9/usr/share/julia/stdlib/v1.9/Dates/src/deprecated.jl\" target=\"_blank\">/home/alistair/.julia/juliaup/julia-1.9.3+0.x64.linux.gnu/share/julia/stdlib/v1.9/Dates/src/deprecated.jl:14</a></li> <li> +(A::<b>LinearAlgebra.UnitUpperTriangular</b>, B::<b>LinearAlgebra.UpperTriangular</b>) in LinearAlgebra at <a href=\"file:///cache/build/default-amdci5-5/julialang/julia-release-1-dot-9/usr/share/julia/stdlib/v1.9/LinearAlgebra/src/triangular.jl\" target=\"_blank\">/home/alistair/.julia/juliaup/julia-1.9.3+0.x64.linux.gnu/share/julia/stdlib/v1.9/LinearAlgebra/src/triangular.jl:646</a></li> <li> +(A::<b>LinearAlgebra.UnitUpperTriangular</b>, B::<b>LinearAlgebra.UnitUpperTriangular</b>) in LinearAlgebra at <a href=\"file:///cache/build/default-amdci5-5/julialang/julia-release-1-dot-9/usr/share/julia/stdlib/v1.9/LinearAlgebra/src/triangular.jl\" target=\"_blank\">/home/alistair/.julia/juliaup/julia-1.9.3+0.x64.linux.gnu/share/julia/stdlib/v1.9/LinearAlgebra/src/triangular.jl:648</a></li> <li> +(UL::<b>LinearAlgebra.UnitUpperTriangular</b>, J::<b>LinearAlgebra.UniformScaling</b>) in LinearAlgebra at <a href=\"file:///cache/build/default-amdci5-5/julialang/julia-release-1-dot-9/usr/share/julia/stdlib/v1.9/LinearAlgebra/src/uniformscaling.jl\" target=\"_blank\">/home/alistair/.julia/juliaup/julia-1.9.3+0.x64.linux.gnu/share/julia/stdlib/v1.9/LinearAlgebra/src/uniformscaling.jl:181</a></li> <li> +(x::<b>LinearAlgebra.UnitUpperTriangular</b>, H::<b>LinearAlgebra.UpperHessenberg</b>) in LinearAlgebra at <a href=\"file:///cache/build/default-amdci5-5/julialang/julia-release-1-dot-9/usr/share/julia/stdlib/v1.9/LinearAlgebra/src/hessenberg.jl\" target=\"_blank\">/home/alistair/.julia/juliaup/julia-1.9.3+0.x64.linux.gnu/share/julia/stdlib/v1.9/LinearAlgebra/src/hessenberg.jl:112</a></li> <li> +(A::<b>LinearAlgebra.UnitUpperTriangular</b>, B::<b>LinearAlgebra.Bidiagonal</b>) in LinearAlgebra at <a href=\"file:///cache/build/default-amdci5-5/julialang/julia-release-1-dot-9/usr/share/julia/stdlib/v1.9/LinearAlgebra/src/special.jl\" target=\"_blank\">/home/alistair/.julia/juliaup/julia-1.9.3+0.x64.linux.gnu/share/julia/stdlib/v1.9/LinearAlgebra/src/special.jl:91</a></li> <li> +(A::<b>LinearAlgebra.Bidiagonal</b>, B::<b>LinearAlgebra.Bidiagonal</b>) in LinearAlgebra at <a href=\"file:///cache/build/default-amdci5-5/julialang/julia-release-1-dot-9/usr/share/julia/stdlib/v1.9/LinearAlgebra/src/bidiag.jl\" target=\"_blank\">/home/alistair/.julia/juliaup/julia-1.9.3+0.x64.linux.gnu/share/julia/stdlib/v1.9/LinearAlgebra/src/bidiag.jl:374</a></li> <li> +(x::<b>LinearAlgebra.Bidiagonal</b>, H::<b>LinearAlgebra.UpperHessenberg</b>) in LinearAlgebra at <a href=\"file:///cache/build/default-amdci5-5/julialang/julia-release-1-dot-9/usr/share/julia/stdlib/v1.9/LinearAlgebra/src/hessenberg.jl\" target=\"_blank\">/home/alistair/.julia/juliaup/julia-1.9.3+0.x64.linux.gnu/share/julia/stdlib/v1.9/LinearAlgebra/src/hessenberg.jl:112</a></li> <li> +(A::<b>LinearAlgebra.Bidiagonal</b>, B::<b>LinearAlgebra.UpperTriangular</b>) in LinearAlgebra at <a href=\"file:///cache/build/default-amdci5-5/julialang/julia-release-1-dot-9/usr/share/julia/stdlib/v1.9/LinearAlgebra/src/special.jl\" target=\"_blank\">/home/alistair/.julia/juliaup/julia-1.9.3+0.x64.linux.gnu/share/julia/stdlib/v1.9/LinearAlgebra/src/special.jl:99</a></li> <li> +(A::<b>LinearAlgebra.Bidiagonal</b>, B::<b>LinearAlgebra.UnitUpperTriangular</b>) in LinearAlgebra at <a href=\"file:///cache/build/default-amdci5-5/julialang/julia-release-1-dot-9/usr/share/julia/stdlib/v1.9/LinearAlgebra/src/special.jl\" target=\"_blank\">/home/alistair/.julia/juliaup/julia-1.9.3+0.x64.linux.gnu/share/julia/stdlib/v1.9/LinearAlgebra/src/special.jl:99</a></li> <li> +(A::<b>LinearAlgebra.Bidiagonal</b>, B::<b>LinearAlgebra.LowerTriangular</b>) in LinearAlgebra at <a href=\"file:///cache/build/default-amdci5-5/julialang/julia-release-1-dot-9/usr/share/julia/stdlib/v1.9/LinearAlgebra/src/special.jl\" target=\"_blank\">/home/alistair/.julia/juliaup/julia-1.9.3+0.x64.linux.gnu/share/julia/stdlib/v1.9/LinearAlgebra/src/special.jl:99</a></li> <li> +(A::<b>LinearAlgebra.Bidiagonal</b>, B::<b>LinearAlgebra.UnitLowerTriangular</b>) in LinearAlgebra at <a href=\"file:///cache/build/default-amdci5-5/julialang/julia-release-1-dot-9/usr/share/julia/stdlib/v1.9/LinearAlgebra/src/special.jl\" target=\"_blank\">/home/alistair/.julia/juliaup/julia-1.9.3+0.x64.linux.gnu/share/julia/stdlib/v1.9/LinearAlgebra/src/special.jl:99</a></li> <li> +(A::<b>LinearAlgebra.Bidiagonal</b>, B::<b>LinearAlgebra.Diagonal</b>) in LinearAlgebra at <a href=\"file:///cache/build/default-amdci5-5/julialang/julia-release-1-dot-9/usr/share/julia/stdlib/v1.9/LinearAlgebra/src/special.jl\" target=\"_blank\">/home/alistair/.julia/juliaup/julia-1.9.3+0.x64.linux.gnu/share/julia/stdlib/v1.9/LinearAlgebra/src/special.jl:120</a></li> <li> +(A::<b>LinearAlgebra.Bidiagonal</b>, B::<b>LinearAlgebra.Tridiagonal</b>) in LinearAlgebra at <a href=\"file:///cache/build/default-amdci5-5/julialang/julia-release-1-dot-9/usr/share/julia/stdlib/v1.9/LinearAlgebra/src/special.jl\" target=\"_blank\">/home/alistair/.julia/juliaup/julia-1.9.3+0.x64.linux.gnu/share/julia/stdlib/v1.9/LinearAlgebra/src/special.jl:188</a></li> <li> +(A::<b>LinearAlgebra.Bidiagonal</b>, B::<b>LinearAlgebra.SymTridiagonal</b>) in LinearAlgebra at <a href=\"file:///cache/build/default-amdci5-5/julialang/julia-release-1-dot-9/usr/share/julia/stdlib/v1.9/LinearAlgebra/src/special.jl\" target=\"_blank\">/home/alistair/.julia/juliaup/julia-1.9.3+0.x64.linux.gnu/share/julia/stdlib/v1.9/LinearAlgebra/src/special.jl:208</a></li> <li> +(A::<b>LinearAlgebra.Bidiagonal{var\"#s972\", V} where {var\"#s972\"<:Number, V<:AbstractVector{var\"#s972\"}}</b>, B::<b>LinearAlgebra.UniformScaling</b>) in LinearAlgebra at <a href=\"file:///cache/build/default-amdci5-5/julialang/julia-release-1-dot-9/usr/share/julia/stdlib/v1.9/LinearAlgebra/src/special.jl\" target=\"_blank\">/home/alistair/.julia/juliaup/julia-1.9.3+0.x64.linux.gnu/share/julia/stdlib/v1.9/LinearAlgebra/src/special.jl:241</a></li> <li> +(A::<b>LinearAlgebra.UnitLowerTriangular</b>, B::<b>LinearAlgebra.LowerTriangular</b>) in LinearAlgebra at <a href=\"file:///cache/build/default-amdci5-5/julialang/julia-release-1-dot-9/usr/share/julia/stdlib/v1.9/LinearAlgebra/src/triangular.jl\" target=\"_blank\">/home/alistair/.julia/juliaup/julia-1.9.3+0.x64.linux.gnu/share/julia/stdlib/v1.9/LinearAlgebra/src/triangular.jl:647</a></li> <li> +(A::<b>LinearAlgebra.UnitLowerTriangular</b>, B::<b>LinearAlgebra.UnitLowerTriangular</b>) in LinearAlgebra at <a href=\"file:///cache/build/default-amdci5-5/julialang/julia-release-1-dot-9/usr/share/julia/stdlib/v1.9/LinearAlgebra/src/triangular.jl\" target=\"_blank\">/home/alistair/.julia/juliaup/julia-1.9.3+0.x64.linux.gnu/share/julia/stdlib/v1.9/LinearAlgebra/src/triangular.jl:649</a></li> <li> +(UL::<b>LinearAlgebra.UnitLowerTriangular</b>, J::<b>LinearAlgebra.UniformScaling</b>) in LinearAlgebra at <a href=\"file:///cache/build/default-amdci5-5/julialang/julia-release-1-dot-9/usr/share/julia/stdlib/v1.9/LinearAlgebra/src/uniformscaling.jl\" target=\"_blank\">/home/alistair/.julia/juliaup/julia-1.9.3+0.x64.linux.gnu/share/julia/stdlib/v1.9/LinearAlgebra/src/uniformscaling.jl:181</a></li> <li> +(A::<b>LinearAlgebra.UnitLowerTriangular</b>, B::<b>LinearAlgebra.Bidiagonal</b>) in LinearAlgebra at <a href=\"file:///cache/build/default-amdci5-5/julialang/julia-release-1-dot-9/usr/share/julia/stdlib/v1.9/LinearAlgebra/src/special.jl\" target=\"_blank\">/home/alistair/.julia/juliaup/julia-1.9.3+0.x64.linux.gnu/share/julia/stdlib/v1.9/LinearAlgebra/src/special.jl:91</a></li> <li> +(A::<b>LinearAlgebra.UpperTriangular</b>, B::<b>LinearAlgebra.UpperTriangular</b>) in LinearAlgebra at <a href=\"file:///cache/build/default-amdci5-5/julialang/julia-release-1-dot-9/usr/share/julia/stdlib/v1.9/LinearAlgebra/src/triangular.jl\" target=\"_blank\">/home/alistair/.julia/juliaup/julia-1.9.3+0.x64.linux.gnu/share/julia/stdlib/v1.9/LinearAlgebra/src/triangular.jl:642</a></li> <li> +(A::<b>LinearAlgebra.UpperTriangular</b>, B::<b>LinearAlgebra.UnitUpperTriangular</b>) in LinearAlgebra at <a href=\"file:///cache/build/default-amdci5-5/julialang/julia-release-1-dot-9/usr/share/julia/stdlib/v1.9/LinearAlgebra/src/triangular.jl\" target=\"_blank\">/home/alistair/.julia/juliaup/julia-1.9.3+0.x64.linux.gnu/share/julia/stdlib/v1.9/LinearAlgebra/src/triangular.jl:644</a></li> <li> +(x::<b>LinearAlgebra.UpperTriangular</b>, H::<b>LinearAlgebra.UpperHessenberg</b>) in LinearAlgebra at <a href=\"file:///cache/build/default-amdci5-5/julialang/julia-release-1-dot-9/usr/share/julia/stdlib/v1.9/LinearAlgebra/src/hessenberg.jl\" target=\"_blank\">/home/alistair/.julia/juliaup/julia-1.9.3+0.x64.linux.gnu/share/julia/stdlib/v1.9/LinearAlgebra/src/hessenberg.jl:112</a></li> <li> +(A::<b>LinearAlgebra.UpperTriangular</b>, B::<b>LinearAlgebra.Bidiagonal</b>) in LinearAlgebra at <a href=\"file:///cache/build/default-amdci5-5/julialang/julia-release-1-dot-9/usr/share/julia/stdlib/v1.9/LinearAlgebra/src/special.jl\" target=\"_blank\">/home/alistair/.julia/juliaup/julia-1.9.3+0.x64.linux.gnu/share/julia/stdlib/v1.9/LinearAlgebra/src/special.jl:91</a></li> <li> +(A::<b>SparseArrays.AbstractSparseMatrixCSC</b>, B::<b>SparseArrays.AbstractSparseMatrixCSC</b>) in SparseArrays at <a href=\"file:///cache/build/default-amdci5-5/julialang/julia-release-1-dot-9/usr/share/julia/stdlib/v1.9/SparseArrays/src/sparsematrix.jl\" target=\"_blank\">/home/alistair/.julia/juliaup/julia-1.9.3+0.x64.linux.gnu/share/julia/stdlib/v1.9/SparseArrays/src/sparsematrix.jl:2065</a></li> <li> +(x::<b>SparseArrays.AbstractSparseVector</b>, y::<b>SparseArrays.AbstractSparseVector</b>) in SparseArrays at <a href=\"file:///cache/build/default-amdci5-5/julialang/julia-release-1-dot-9/usr/share/julia/stdlib/v1.9/SparseArrays/src/sparsevector.jl\" target=\"_blank\">/home/alistair/.julia/juliaup/julia-1.9.3+0.x64.linux.gnu/share/julia/stdlib/v1.9/SparseArrays/src/sparsevector.jl:1516</a></li> <li> +(A::<b>SparseArrays.AbstractSparseMatrixCSC</b>, B::<b>Array</b>) in SparseArrays at <a href=\"file:///cache/build/default-amdci5-5/julialang/julia-release-1-dot-9/usr/share/julia/stdlib/v1.9/SparseArrays/src/sparsematrix.jl\" target=\"_blank\">/home/alistair/.julia/juliaup/julia-1.9.3+0.x64.linux.gnu/share/julia/stdlib/v1.9/SparseArrays/src/sparsematrix.jl:2068</a></li> <li> +(A::<b>SparseArrays.AbstractSparseMatrixCSC{Tv, Ti}</b>, J::<b>LinearAlgebra.UniformScaling{T}</b>)<i> where {T<:Number, Tv, Ti}</i> in SparseArrays at <a href=\"file:///cache/build/default-amdci5-5/julialang/julia-release-1-dot-9/usr/share/julia/stdlib/v1.9/SparseArrays/src/sparsematrix.jl\" target=\"_blank\">/home/alistair/.julia/juliaup/julia-1.9.3+0.x64.linux.gnu/share/julia/stdlib/v1.9/SparseArrays/src/sparsematrix.jl:4098</a></li> <li> +(r1::<b>OrdinalRange</b>, r2::<b>OrdinalRange</b>) in Base at <a href=\"https://github.com/JuliaLang/julia/tree/bed2cd540a11544ed4be381d471bbf590f0b745e/base/range.jl#L1441\" target=\"_blank\">range.jl:1441</a></li> <li> +(x::<b>T</b>, y::<b>Integer</b>)<i> where T<:AbstractChar</i> in Base at <a href=\"https://github.com/JuliaLang/julia/tree/bed2cd540a11544ed4be381d471bbf590f0b745e/base/char.jl#L237\" target=\"_blank\">char.jl:237</a></li> <li> +(A::<b>LinearAlgebra.SymTridiagonal</b>, B::<b>LinearAlgebra.SymTridiagonal</b>) in LinearAlgebra at <a href=\"file:///cache/build/default-amdci5-5/julialang/julia-release-1-dot-9/usr/share/julia/stdlib/v1.9/LinearAlgebra/src/tridiag.jl\" target=\"_blank\">/home/alistair/.julia/juliaup/julia-1.9.3+0.x64.linux.gnu/share/julia/stdlib/v1.9/LinearAlgebra/src/tridiag.jl:207</a></li> <li> +(A::<b>LinearAlgebra.SymTridiagonal</b>, B::<b>LinearAlgebra.Symmetric</b>) in LinearAlgebra at <a href=\"file:///cache/build/default-amdci5-5/julialang/julia-release-1-dot-9/usr/share/julia/stdlib/v1.9/LinearAlgebra/src/symmetric.jl\" target=\"_blank\">/home/alistair/.julia/juliaup/julia-1.9.3+0.x64.linux.gnu/share/julia/stdlib/v1.9/LinearAlgebra/src/symmetric.jl:485</a></li> <li> +(A::<b>LinearAlgebra.SymTridiagonal{var\"#s970\", V} where {var\"#s970\"<:Real, V<:AbstractVector{var\"#s970\"}}</b>, B::<b>LinearAlgebra.Hermitian</b>) in LinearAlgebra at <a href=\"file:///cache/build/default-amdci5-5/julialang/julia-release-1-dot-9/usr/share/julia/stdlib/v1.9/LinearAlgebra/src/symmetric.jl\" target=\"_blank\">/home/alistair/.julia/juliaup/julia-1.9.3+0.x64.linux.gnu/share/julia/stdlib/v1.9/LinearAlgebra/src/symmetric.jl:487</a></li> <li> +(x::<b>LinearAlgebra.SymTridiagonal</b>, H::<b>LinearAlgebra.UpperHessenberg</b>) in LinearAlgebra at <a href=\"file:///cache/build/default-amdci5-5/julialang/julia-release-1-dot-9/usr/share/julia/stdlib/v1.9/LinearAlgebra/src/hessenberg.jl\" target=\"_blank\">/home/alistair/.julia/juliaup/julia-1.9.3+0.x64.linux.gnu/share/julia/stdlib/v1.9/LinearAlgebra/src/hessenberg.jl:112</a></li> <li> +(A::<b>LinearAlgebra.SymTridiagonal</b>, B::<b>LinearAlgebra.Diagonal</b>) in LinearAlgebra at <a href=\"file:///cache/build/default-amdci5-5/julialang/julia-release-1-dot-9/usr/share/julia/stdlib/v1.9/LinearAlgebra/src/special.jl\" target=\"_blank\">/home/alistair/.julia/juliaup/julia-1.9.3+0.x64.linux.gnu/share/julia/stdlib/v1.9/LinearAlgebra/src/special.jl:150</a></li> <li> +(A::<b>LinearAlgebra.SymTridiagonal</b>, B::<b>LinearAlgebra.Tridiagonal</b>) in LinearAlgebra at <a href=\"file:///cache/build/default-amdci5-5/julialang/julia-release-1-dot-9/usr/share/julia/stdlib/v1.9/LinearAlgebra/src/special.jl\" target=\"_blank\">/home/alistair/.julia/juliaup/julia-1.9.3+0.x64.linux.gnu/share/julia/stdlib/v1.9/LinearAlgebra/src/special.jl:164</a></li> <li> +(A::<b>LinearAlgebra.SymTridiagonal</b>, B::<b>LinearAlgebra.Bidiagonal</b>) in LinearAlgebra at <a href=\"file:///cache/build/default-amdci5-5/julialang/julia-release-1-dot-9/usr/share/julia/stdlib/v1.9/LinearAlgebra/src/special.jl\" target=\"_blank\">/home/alistair/.julia/juliaup/julia-1.9.3+0.x64.linux.gnu/share/julia/stdlib/v1.9/LinearAlgebra/src/special.jl:218</a></li> <li> +(A::<b>LinearAlgebra.SymTridiagonal{var\"#s972\", V} where {var\"#s972\"<:Number, V<:AbstractVector{var\"#s972\"}}</b>, B::<b>LinearAlgebra.UniformScaling</b>) in LinearAlgebra at <a href=\"file:///cache/build/default-amdci5-5/julialang/julia-release-1-dot-9/usr/share/julia/stdlib/v1.9/LinearAlgebra/src/special.jl\" target=\"_blank\">/home/alistair/.julia/juliaup/julia-1.9.3+0.x64.linux.gnu/share/julia/stdlib/v1.9/LinearAlgebra/src/special.jl:236</a></li> <li> +(y::<b>AbstractFloat</b>, x::<b>Bool</b>) in Base at <a href=\"https://github.com/JuliaLang/julia/tree/bed2cd540a11544ed4be381d471bbf590f0b745e/base/bool.jl#L176\" target=\"_blank\">bool.jl:176</a></li> <li> +(A::<b>LinearAlgebra.Symmetric</b>, B::<b>LinearAlgebra.Symmetric</b>) in LinearAlgebra at <a href=\"file:///cache/build/default-amdci5-5/julialang/julia-release-1-dot-9/usr/share/julia/stdlib/v1.9/LinearAlgebra/src/symmetric.jl\" target=\"_blank\">/home/alistair/.julia/juliaup/julia-1.9.3+0.x64.linux.gnu/share/julia/stdlib/v1.9/LinearAlgebra/src/symmetric.jl:469</a></li> <li> +(A::<b>LinearAlgebra.Symmetric</b>, B::<b>LinearAlgebra.SymTridiagonal</b>) in LinearAlgebra at <a href=\"file:///cache/build/default-amdci5-5/julialang/julia-release-1-dot-9/usr/share/julia/stdlib/v1.9/LinearAlgebra/src/symmetric.jl\" target=\"_blank\">/home/alistair/.julia/juliaup/julia-1.9.3+0.x64.linux.gnu/share/julia/stdlib/v1.9/LinearAlgebra/src/symmetric.jl:486</a></li> <li> +(S::<b>LinearAlgebra.Symmetric</b>, D::<b>LinearAlgebra.Diagonal</b>) in LinearAlgebra at <a href=\"file:///cache/build/default-amdci5-5/julialang/julia-release-1-dot-9/usr/share/julia/stdlib/v1.9/LinearAlgebra/src/diagonal.jl\" target=\"_blank\">/home/alistair/.julia/juliaup/julia-1.9.3+0.x64.linux.gnu/share/julia/stdlib/v1.9/LinearAlgebra/src/diagonal.jl:191</a></li> <li> +(A::<b>LinearAlgebra.Symmetric{<:Any, <:SparseArrays.AbstractSparseMatrix}</b>, B::<b>SparseArrays.AbstractSparseMatrix</b>) in SparseArrays at <a href=\"file:///cache/build/default-amdci5-5/julialang/julia-release-1-dot-9/usr/share/julia/stdlib/v1.9/SparseArrays/src/linalg.jl\" target=\"_blank\">/home/alistair/.julia/juliaup/julia-1.9.3+0.x64.linux.gnu/share/julia/stdlib/v1.9/SparseArrays/src/linalg.jl:15</a></li> <li> +(A::<b>LinearAlgebra.Symmetric</b>, B::<b>SparseArrays.AbstractSparseMatrix</b>) in SparseArrays at <a href=\"file:///cache/build/default-amdci5-5/julialang/julia-release-1-dot-9/usr/share/julia/stdlib/v1.9/SparseArrays/src/linalg.jl\" target=\"_blank\">/home/alistair/.julia/juliaup/julia-1.9.3+0.x64.linux.gnu/share/julia/stdlib/v1.9/SparseArrays/src/linalg.jl:18</a></li> <li> +(A::<b>LinearAlgebra.Symmetric{<:Real, <:SparseArrays.AbstractSparseMatrix}</b>, B::<b>LinearAlgebra.Hermitian{<:Any, <:SparseArrays.AbstractSparseMatrix}</b>) in SparseArrays at <a href=\"file:///cache/build/default-amdci5-5/julialang/julia-release-1-dot-9/usr/share/julia/stdlib/v1.9/SparseArrays/src/linalg.jl\" target=\"_blank\">/home/alistair/.julia/juliaup/julia-1.9.3+0.x64.linux.gnu/share/julia/stdlib/v1.9/SparseArrays/src/linalg.jl:25</a></li> <li> +(A::<b>LinearAlgebra.Symmetric{var\"#s971\", S} where {var\"#s971\"<:Real, S<:(AbstractMatrix{<:var\"#s971\"})}</b>, B::<b>LinearAlgebra.Hermitian</b>) in LinearAlgebra at <a href=\"file:///cache/build/default-amdci5-5/julialang/julia-release-1-dot-9/usr/share/julia/stdlib/v1.9/LinearAlgebra/src/symmetric.jl\" target=\"_blank\">/home/alistair/.julia/juliaup/julia-1.9.3+0.x64.linux.gnu/share/julia/stdlib/v1.9/LinearAlgebra/src/symmetric.jl:484</a></li> <li> +(A::<b>LinearAlgebra.Symmetric{<:Any, <:SparseArrays.AbstractSparseMatrix}</b>, B::<b>LinearAlgebra.Hermitian{<:Any, <:SparseArrays.AbstractSparseMatrix}</b>) in SparseArrays at <a href=\"file:///cache/build/default-amdci5-5/julialang/julia-release-1-dot-9/usr/share/julia/stdlib/v1.9/SparseArrays/src/linalg.jl\" target=\"_blank\">/home/alistair/.julia/juliaup/julia-1.9.3+0.x64.linux.gnu/share/julia/stdlib/v1.9/SparseArrays/src/linalg.jl:23</a></li> <li> +(x::<b>Dates.Instant</b>) in Dates at <a href=\"file:///cache/build/default-amdci5-5/julialang/julia-release-1-dot-9/usr/share/julia/stdlib/v1.9/Dates/src/arithmetic.jl\" target=\"_blank\">/home/alistair/.julia/juliaup/julia-1.9.3+0.x64.linux.gnu/share/julia/stdlib/v1.9/Dates/src/arithmetic.jl:4</a></li> <li> +(A::<b>LinearAlgebra.Hermitian</b>, B::<b>LinearAlgebra.Hermitian</b>) in LinearAlgebra at <a href=\"file:///cache/build/default-amdci5-5/julialang/julia-release-1-dot-9/usr/share/julia/stdlib/v1.9/LinearAlgebra/src/symmetric.jl\" target=\"_blank\">/home/alistair/.julia/juliaup/julia-1.9.3+0.x64.linux.gnu/share/julia/stdlib/v1.9/LinearAlgebra/src/symmetric.jl:469</a></li> <li> +(A::<b>LinearAlgebra.Hermitian</b>, B::<b>LinearAlgebra.SymTridiagonal{var\"#s969\", V} where {var\"#s969\"<:Real, V<:AbstractVector{var\"#s969\"}}</b>) in LinearAlgebra at <a href=\"file:///cache/build/default-amdci5-5/julialang/julia-release-1-dot-9/usr/share/julia/stdlib/v1.9/LinearAlgebra/src/symmetric.jl\" target=\"_blank\">/home/alistair/.julia/juliaup/julia-1.9.3+0.x64.linux.gnu/share/julia/stdlib/v1.9/LinearAlgebra/src/symmetric.jl:488</a></li> <li> +(H::<b>LinearAlgebra.Hermitian</b>, D::<b>LinearAlgebra.Diagonal{var\"#s972\", V} where {var\"#s972\"<:Real, V<:AbstractVector{var\"#s972\"}}</b>) in LinearAlgebra at <a href=\"file:///cache/build/default-amdci5-5/julialang/julia-release-1-dot-9/usr/share/julia/stdlib/v1.9/LinearAlgebra/src/diagonal.jl\" target=\"_blank\">/home/alistair/.julia/juliaup/julia-1.9.3+0.x64.linux.gnu/share/julia/stdlib/v1.9/LinearAlgebra/src/diagonal.jl:197</a></li> <li> +(A::<b>LinearAlgebra.Hermitian</b>, J::<b>LinearAlgebra.UniformScaling{<:Complex}</b>) in LinearAlgebra at <a href=\"file:///cache/build/default-amdci5-5/julialang/julia-release-1-dot-9/usr/share/julia/stdlib/v1.9/LinearAlgebra/src/uniformscaling.jl\" target=\"_blank\">/home/alistair/.julia/juliaup/julia-1.9.3+0.x64.linux.gnu/share/julia/stdlib/v1.9/LinearAlgebra/src/uniformscaling.jl:195</a></li> <li> +(A::<b>LinearAlgebra.Hermitian{<:Any, <:SparseArrays.AbstractSparseMatrix}</b>, B::<b>SparseArrays.AbstractSparseMatrix</b>) in SparseArrays at <a href=\"file:///cache/build/default-amdci5-5/julialang/julia-release-1-dot-9/usr/share/julia/stdlib/v1.9/SparseArrays/src/linalg.jl\" target=\"_blank\">/home/alistair/.julia/juliaup/julia-1.9.3+0.x64.linux.gnu/share/julia/stdlib/v1.9/SparseArrays/src/linalg.jl:15</a></li> <li> +(A::<b>LinearAlgebra.Hermitian</b>, B::<b>SparseArrays.AbstractSparseMatrix</b>) in SparseArrays at <a href=\"file:///cache/build/default-amdci5-5/julialang/julia-release-1-dot-9/usr/share/julia/stdlib/v1.9/SparseArrays/src/linalg.jl\" target=\"_blank\">/home/alistair/.julia/juliaup/julia-1.9.3+0.x64.linux.gnu/share/julia/stdlib/v1.9/SparseArrays/src/linalg.jl:18</a></li> <li> +(A::<b>LinearAlgebra.Hermitian{<:Any, <:SparseArrays.AbstractSparseMatrix}</b>, B::<b>LinearAlgebra.Symmetric{<:Real, <:SparseArrays.AbstractSparseMatrix}</b>) in SparseArrays at <a href=\"file:///cache/build/default-amdci5-5/julialang/julia-release-1-dot-9/usr/share/julia/stdlib/v1.9/SparseArrays/src/linalg.jl\" target=\"_blank\">/home/alistair/.julia/juliaup/julia-1.9.3+0.x64.linux.gnu/share/julia/stdlib/v1.9/SparseArrays/src/linalg.jl:26</a></li> <li> +(A::<b>LinearAlgebra.Hermitian</b>, B::<b>LinearAlgebra.Symmetric{var\"#s972\", S} where {var\"#s972\"<:Real, S<:(AbstractMatrix{<:var\"#s972\"})}</b>) in LinearAlgebra at <a href=\"file:///cache/build/default-amdci5-5/julialang/julia-release-1-dot-9/usr/share/julia/stdlib/v1.9/LinearAlgebra/src/symmetric.jl\" target=\"_blank\">/home/alistair/.julia/juliaup/julia-1.9.3+0.x64.linux.gnu/share/julia/stdlib/v1.9/LinearAlgebra/src/symmetric.jl:483</a></li> <li> +(A::<b>LinearAlgebra.Hermitian{<:Any, <:SparseArrays.AbstractSparseMatrix}</b>, B::<b>LinearAlgebra.Symmetric{<:Any, <:SparseArrays.AbstractSparseMatrix}</b>) in SparseArrays at <a href=\"file:///cache/build/default-amdci5-5/julialang/julia-release-1-dot-9/usr/share/julia/stdlib/v1.9/SparseArrays/src/linalg.jl\" target=\"_blank\">/home/alistair/.julia/juliaup/julia-1.9.3+0.x64.linux.gnu/share/julia/stdlib/v1.9/SparseArrays/src/linalg.jl:24</a></li> <li> +(A::<b>LinearAlgebra.UpperHessenberg</b>, B::<b>LinearAlgebra.UpperHessenberg</b>) in LinearAlgebra at <a href=\"file:///cache/build/default-amdci5-5/julialang/julia-release-1-dot-9/usr/share/julia/stdlib/v1.9/LinearAlgebra/src/hessenberg.jl\" target=\"_blank\">/home/alistair/.julia/juliaup/julia-1.9.3+0.x64.linux.gnu/share/julia/stdlib/v1.9/LinearAlgebra/src/hessenberg.jl:104</a></li> <li> +(H::<b>LinearAlgebra.UpperHessenberg</b>, x::<b>LinearAlgebra.UniformScaling</b>) in LinearAlgebra at <a href=\"file:///cache/build/default-amdci5-5/julialang/julia-release-1-dot-9/usr/share/julia/stdlib/v1.9/LinearAlgebra/src/hessenberg.jl\" target=\"_blank\">/home/alistair/.julia/juliaup/julia-1.9.3+0.x64.linux.gnu/share/julia/stdlib/v1.9/LinearAlgebra/src/hessenberg.jl:111</a></li> <li> +(H::<b>LinearAlgebra.UpperHessenberg</b>, x::<b>LinearAlgebra.Diagonal</b>) in LinearAlgebra at <a href=\"file:///cache/build/default-amdci5-5/julialang/julia-release-1-dot-9/usr/share/julia/stdlib/v1.9/LinearAlgebra/src/hessenberg.jl\" target=\"_blank\">/home/alistair/.julia/juliaup/julia-1.9.3+0.x64.linux.gnu/share/julia/stdlib/v1.9/LinearAlgebra/src/hessenberg.jl:111</a></li> <li> +(H::<b>LinearAlgebra.UpperHessenberg</b>, x::<b>LinearAlgebra.Bidiagonal</b>) in LinearAlgebra at <a href=\"file:///cache/build/default-amdci5-5/julialang/julia-release-1-dot-9/usr/share/julia/stdlib/v1.9/LinearAlgebra/src/hessenberg.jl\" target=\"_blank\">/home/alistair/.julia/juliaup/julia-1.9.3+0.x64.linux.gnu/share/julia/stdlib/v1.9/LinearAlgebra/src/hessenberg.jl:111</a></li> <li> +(H::<b>LinearAlgebra.UpperHessenberg</b>, x::<b>LinearAlgebra.Tridiagonal</b>) in LinearAlgebra at <a href=\"file:///cache/build/default-amdci5-5/julialang/julia-release-1-dot-9/usr/share/julia/stdlib/v1.9/LinearAlgebra/src/hessenberg.jl\" target=\"_blank\">/home/alistair/.julia/juliaup/julia-1.9.3+0.x64.linux.gnu/share/julia/stdlib/v1.9/LinearAlgebra/src/hessenberg.jl:111</a></li> <li> +(H::<b>LinearAlgebra.UpperHessenberg</b>, x::<b>LinearAlgebra.SymTridiagonal</b>) in LinearAlgebra at <a href=\"file:///cache/build/default-amdci5-5/julialang/julia-release-1-dot-9/usr/share/julia/stdlib/v1.9/LinearAlgebra/src/hessenberg.jl\" target=\"_blank\">/home/alistair/.julia/juliaup/julia-1.9.3+0.x64.linux.gnu/share/julia/stdlib/v1.9/LinearAlgebra/src/hessenberg.jl:111</a></li> <li> +(H::<b>LinearAlgebra.UpperHessenberg</b>, x::<b>LinearAlgebra.UpperTriangular</b>) in LinearAlgebra at <a href=\"file:///cache/build/default-amdci5-5/julialang/julia-release-1-dot-9/usr/share/julia/stdlib/v1.9/LinearAlgebra/src/hessenberg.jl\" target=\"_blank\">/home/alistair/.julia/juliaup/julia-1.9.3+0.x64.linux.gnu/share/julia/stdlib/v1.9/LinearAlgebra/src/hessenberg.jl:111</a></li> <li> +(H::<b>LinearAlgebra.UpperHessenberg</b>, x::<b>LinearAlgebra.UnitUpperTriangular</b>) in LinearAlgebra at <a href=\"file:///cache/build/default-amdci5-5/julialang/julia-release-1-dot-9/usr/share/julia/stdlib/v1.9/LinearAlgebra/src/hessenberg.jl\" target=\"_blank\">/home/alistair/.julia/juliaup/julia-1.9.3+0.x64.linux.gnu/share/julia/stdlib/v1.9/LinearAlgebra/src/hessenberg.jl:111</a></li> <li> +(z::<b>Complex</b>, w::<b>Complex</b>) in Base at <a href=\"https://github.com/JuliaLang/julia/tree/bed2cd540a11544ed4be381d471bbf590f0b745e/base/complex.jl#L291\" target=\"_blank\">complex.jl:291</a></li> <li> +(x::<b>AbstractIrrational</b>, y::<b>AbstractIrrational</b>) in Base at <a href=\"https://github.com/JuliaLang/julia/tree/bed2cd540a11544ed4be381d471bbf590f0b745e/base/irrationals.jl#L161\" target=\"_blank\">irrationals.jl:161</a></li> <li> +(index1::<b>CartesianIndex{N}</b>, index2::<b>CartesianIndex{N}</b>)<i> where N</i> in Base.IteratorsMD at <a href=\"https://github.com/JuliaLang/julia/tree/bed2cd540a11544ed4be381d471bbf590f0b745e/base/multidimensional.jl#L111\" target=\"_blank\">multidimensional.jl:111</a></li> <li> +(A::<b>BitArray</b>, B::<b>BitArray</b>) in Base at <a href=\"https://github.com/JuliaLang/julia/tree/bed2cd540a11544ed4be381d471bbf590f0b745e/base/bitarray.jl#L1184\" target=\"_blank\">bitarray.jl:1184</a></li> <li> +(x::<b>Ptr</b>, y::<b>Integer</b>) in Base at <a href=\"https://github.com/JuliaLang/julia/tree/bed2cd540a11544ed4be381d471bbf590f0b745e/base/pointer.jl#L167\" target=\"_blank\">pointer.jl:167</a></li> <li> +(Da::<b>LinearAlgebra.Diagonal</b>, Db::<b>LinearAlgebra.Diagonal</b>) in LinearAlgebra at <a href=\"file:///cache/build/default-amdci5-5/julialang/julia-release-1-dot-9/usr/share/julia/stdlib/v1.9/LinearAlgebra/src/diagonal.jl\" target=\"_blank\">/home/alistair/.julia/juliaup/julia-1.9.3+0.x64.linux.gnu/share/julia/stdlib/v1.9/LinearAlgebra/src/diagonal.jl:184</a></li> <li> +(D::<b>LinearAlgebra.Diagonal</b>, S::<b>LinearAlgebra.Symmetric</b>) in LinearAlgebra at <a href=\"file:///cache/build/default-amdci5-5/julialang/julia-release-1-dot-9/usr/share/julia/stdlib/v1.9/LinearAlgebra/src/diagonal.jl\" target=\"_blank\">/home/alistair/.julia/juliaup/julia-1.9.3+0.x64.linux.gnu/share/julia/stdlib/v1.9/LinearAlgebra/src/diagonal.jl:188</a></li> <li> +(D::<b>LinearAlgebra.Diagonal{var\"#s972\", V} where {var\"#s972\"<:Real, V<:AbstractVector{var\"#s972\"}}</b>, H::<b>LinearAlgebra.Hermitian</b>) in LinearAlgebra at <a href=\"file:///cache/build/default-amdci5-5/julialang/julia-release-1-dot-9/usr/share/julia/stdlib/v1.9/LinearAlgebra/src/diagonal.jl\" target=\"_blank\">/home/alistair/.julia/juliaup/julia-1.9.3+0.x64.linux.gnu/share/julia/stdlib/v1.9/LinearAlgebra/src/diagonal.jl:194</a></li> <li> +(x::<b>LinearAlgebra.Diagonal</b>, H::<b>LinearAlgebra.UpperHessenberg</b>) in LinearAlgebra at <a href=\"file:///cache/build/default-amdci5-5/julialang/julia-release-1-dot-9/usr/share/julia/stdlib/v1.9/LinearAlgebra/src/hessenberg.jl\" target=\"_blank\">/home/alistair/.julia/juliaup/julia-1.9.3+0.x64.linux.gnu/share/julia/stdlib/v1.9/LinearAlgebra/src/hessenberg.jl:112</a></li> <li> +(A::<b>LinearAlgebra.Diagonal</b>, B::<b>LinearAlgebra.Bidiagonal</b>) in LinearAlgebra at <a href=\"file:///cache/build/default-amdci5-5/julialang/julia-release-1-dot-9/usr/share/julia/stdlib/v1.9/LinearAlgebra/src/special.jl\" target=\"_blank\">/home/alistair/.julia/juliaup/julia-1.9.3+0.x64.linux.gnu/share/julia/stdlib/v1.9/LinearAlgebra/src/special.jl:130</a></li> <li> +(A::<b>LinearAlgebra.Diagonal</b>, B::<b>LinearAlgebra.SymTridiagonal</b>) in LinearAlgebra at <a href=\"file:///cache/build/default-amdci5-5/julialang/julia-release-1-dot-9/usr/share/julia/stdlib/v1.9/LinearAlgebra/src/special.jl\" target=\"_blank\">/home/alistair/.julia/juliaup/julia-1.9.3+0.x64.linux.gnu/share/julia/stdlib/v1.9/LinearAlgebra/src/special.jl:140</a></li> <li> +(A::<b>LinearAlgebra.Diagonal</b>, B::<b>LinearAlgebra.Tridiagonal</b>) in LinearAlgebra at <a href=\"file:///cache/build/default-amdci5-5/julialang/julia-release-1-dot-9/usr/share/julia/stdlib/v1.9/LinearAlgebra/src/special.jl\" target=\"_blank\">/home/alistair/.julia/juliaup/julia-1.9.3+0.x64.linux.gnu/share/julia/stdlib/v1.9/LinearAlgebra/src/special.jl:168</a></li> <li> +(A::<b>LinearAlgebra.Diagonal{var\"#s972\", V} where {var\"#s972\"<:Number, V<:AbstractVector{var\"#s972\"}}</b>, B::<b>LinearAlgebra.UniformScaling</b>) in LinearAlgebra at <a href=\"file:///cache/build/default-amdci5-5/julialang/julia-release-1-dot-9/usr/share/julia/stdlib/v1.9/LinearAlgebra/src/special.jl\" target=\"_blank\">/home/alistair/.julia/juliaup/julia-1.9.3+0.x64.linux.gnu/share/julia/stdlib/v1.9/LinearAlgebra/src/special.jl:246</a></li> <li> +(r1::<b>LinRange{T}</b>, r2::<b>LinRange{T}</b>)<i> where T</i> in Base at <a href=\"https://github.com/JuliaLang/julia/tree/bed2cd540a11544ed4be381d471bbf590f0b745e/base/range.jl#L1448\" target=\"_blank\">range.jl:1448</a></li> <li> +(A::<b>LinearAlgebra.LowerTriangular</b>, B::<b>LinearAlgebra.LowerTriangular</b>) in LinearAlgebra at <a href=\"file:///cache/build/default-amdci5-5/julialang/julia-release-1-dot-9/usr/share/julia/stdlib/v1.9/LinearAlgebra/src/triangular.jl\" target=\"_blank\">/home/alistair/.julia/juliaup/julia-1.9.3+0.x64.linux.gnu/share/julia/stdlib/v1.9/LinearAlgebra/src/triangular.jl:643</a></li> <li> +(A::<b>LinearAlgebra.LowerTriangular</b>, B::<b>LinearAlgebra.UnitLowerTriangular</b>) in LinearAlgebra at <a href=\"file:///cache/build/default-amdci5-5/julialang/julia-release-1-dot-9/usr/share/julia/stdlib/v1.9/LinearAlgebra/src/triangular.jl\" target=\"_blank\">/home/alistair/.julia/juliaup/julia-1.9.3+0.x64.linux.gnu/share/julia/stdlib/v1.9/LinearAlgebra/src/triangular.jl:645</a></li> <li> +(A::<b>LinearAlgebra.AbstractTriangular</b>, B::<b>LinearAlgebra.AbstractTriangular</b>) in LinearAlgebra at <a href=\"file:///cache/build/default-amdci5-5/julialang/julia-release-1-dot-9/usr/share/julia/stdlib/v1.9/LinearAlgebra/src/triangular.jl\" target=\"_blank\">/home/alistair/.julia/juliaup/julia-1.9.3+0.x64.linux.gnu/share/julia/stdlib/v1.9/LinearAlgebra/src/triangular.jl:650</a></li> <li> +(A::<b>LinearAlgebra.LowerTriangular</b>, B::<b>LinearAlgebra.Bidiagonal</b>) in LinearAlgebra at <a href=\"file:///cache/build/default-amdci5-5/julialang/julia-release-1-dot-9/usr/share/julia/stdlib/v1.9/LinearAlgebra/src/special.jl\" target=\"_blank\">/home/alistair/.julia/juliaup/julia-1.9.3+0.x64.linux.gnu/share/julia/stdlib/v1.9/LinearAlgebra/src/special.jl:91</a></li> <li> +(J::<b>LinearAlgebra.UniformScaling</b>) in LinearAlgebra at <a href=\"file:///cache/build/default-amdci5-5/julialang/julia-release-1-dot-9/usr/share/julia/stdlib/v1.9/LinearAlgebra/src/uniformscaling.jl\" target=\"_blank\">/home/alistair/.julia/juliaup/julia-1.9.3+0.x64.linux.gnu/share/julia/stdlib/v1.9/LinearAlgebra/src/uniformscaling.jl:149</a></li> <li> +(J::<b>LinearAlgebra.UniformScaling</b>, x::<b>Number</b>) in LinearAlgebra at <a href=\"file:///cache/build/default-amdci5-5/julialang/julia-release-1-dot-9/usr/share/julia/stdlib/v1.9/LinearAlgebra/src/uniformscaling.jl\" target=\"_blank\">/home/alistair/.julia/juliaup/julia-1.9.3+0.x64.linux.gnu/share/julia/stdlib/v1.9/LinearAlgebra/src/uniformscaling.jl:144</a></li> <li> +(J1::<b>LinearAlgebra.UniformScaling</b>, J2::<b>LinearAlgebra.UniformScaling</b>) in LinearAlgebra at <a href=\"file:///cache/build/default-amdci5-5/julialang/julia-release-1-dot-9/usr/share/julia/stdlib/v1.9/LinearAlgebra/src/uniformscaling.jl\" target=\"_blank\">/home/alistair/.julia/juliaup/julia-1.9.3+0.x64.linux.gnu/share/julia/stdlib/v1.9/LinearAlgebra/src/uniformscaling.jl:150</a></li> <li> +(J::<b>LinearAlgebra.UniformScaling</b>, B::<b>BitMatrix</b>) in LinearAlgebra at <a href=\"file:///cache/build/default-amdci5-5/julialang/julia-release-1-dot-9/usr/share/julia/stdlib/v1.9/LinearAlgebra/src/uniformscaling.jl\" target=\"_blank\">/home/alistair/.julia/juliaup/julia-1.9.3+0.x64.linux.gnu/share/julia/stdlib/v1.9/LinearAlgebra/src/uniformscaling.jl:152</a></li> <li> +(x::<b>LinearAlgebra.UniformScaling</b>, H::<b>LinearAlgebra.UpperHessenberg</b>) in LinearAlgebra at <a href=\"file:///cache/build/default-amdci5-5/julialang/julia-release-1-dot-9/usr/share/julia/stdlib/v1.9/LinearAlgebra/src/hessenberg.jl\" target=\"_blank\">/home/alistair/.julia/juliaup/julia-1.9.3+0.x64.linux.gnu/share/julia/stdlib/v1.9/LinearAlgebra/src/hessenberg.jl:112</a></li> <li> +(J::<b>LinearAlgebra.UniformScaling</b>, F::<b>LinearAlgebra.Hessenberg</b>) in LinearAlgebra at <a href=\"file:///cache/build/default-amdci5-5/julialang/julia-release-1-dot-9/usr/share/julia/stdlib/v1.9/LinearAlgebra/src/hessenberg.jl\" target=\"_blank\">/home/alistair/.julia/juliaup/julia-1.9.3+0.x64.linux.gnu/share/julia/stdlib/v1.9/LinearAlgebra/src/hessenberg.jl:648</a></li> <li> +(A::<b>LinearAlgebra.UniformScaling</b>, B::<b>LinearAlgebra.Tridiagonal{var\"#s972\", V} where {var\"#s972\"<:Number, V<:AbstractVector{var\"#s972\"}}</b>) in LinearAlgebra at <a href=\"file:///cache/build/default-amdci5-5/julialang/julia-release-1-dot-9/usr/share/julia/stdlib/v1.9/LinearAlgebra/src/special.jl\" target=\"_blank\">/home/alistair/.julia/juliaup/julia-1.9.3+0.x64.linux.gnu/share/julia/stdlib/v1.9/LinearAlgebra/src/special.jl:250</a></li> <li> +(A::<b>LinearAlgebra.UniformScaling</b>, B::<b>LinearAlgebra.SymTridiagonal{var\"#s972\", V} where {var\"#s972\"<:Number, V<:AbstractVector{var\"#s972\"}}</b>) in LinearAlgebra at <a href=\"file:///cache/build/default-amdci5-5/julialang/julia-release-1-dot-9/usr/share/julia/stdlib/v1.9/LinearAlgebra/src/special.jl\" target=\"_blank\">/home/alistair/.julia/juliaup/julia-1.9.3+0.x64.linux.gnu/share/julia/stdlib/v1.9/LinearAlgebra/src/special.jl:255</a></li> <li> +(A::<b>LinearAlgebra.UniformScaling</b>, B::<b>LinearAlgebra.Bidiagonal{var\"#s972\", V} where {var\"#s972\"<:Number, V<:AbstractVector{var\"#s972\"}}</b>) in LinearAlgebra at <a href=\"file:///cache/build/default-amdci5-5/julialang/julia-release-1-dot-9/usr/share/julia/stdlib/v1.9/LinearAlgebra/src/special.jl\" target=\"_blank\">/home/alistair/.julia/juliaup/julia-1.9.3+0.x64.linux.gnu/share/julia/stdlib/v1.9/LinearAlgebra/src/special.jl:260</a></li> <li> +(A::<b>LinearAlgebra.UniformScaling</b>, B::<b>LinearAlgebra.Diagonal{var\"#s972\", V} where {var\"#s972\"<:Number, V<:AbstractVector{var\"#s972\"}}</b>) in LinearAlgebra at <a href=\"file:///cache/build/default-amdci5-5/julialang/julia-release-1-dot-9/usr/share/julia/stdlib/v1.9/LinearAlgebra/src/special.jl\" target=\"_blank\">/home/alistair/.julia/juliaup/julia-1.9.3+0.x64.linux.gnu/share/julia/stdlib/v1.9/LinearAlgebra/src/special.jl:265</a></li> <li> +(J::<b>LinearAlgebra.UniformScaling{T}</b>, A::<b>SparseArrays.AbstractSparseMatrixCSC{Tv, Ti}</b>)<i> where {T<:Number, Tv, Ti}</i> in SparseArrays at <a href=\"file:///cache/build/default-amdci5-5/julialang/julia-release-1-dot-9/usr/share/julia/stdlib/v1.9/SparseArrays/src/sparsematrix.jl\" target=\"_blank\">/home/alistair/.julia/juliaup/julia-1.9.3+0.x64.linux.gnu/share/julia/stdlib/v1.9/SparseArrays/src/sparsematrix.jl:4100</a></li> <li> +(J::<b>LinearAlgebra.UniformScaling</b>, A::<b>AbstractMatrix</b>) in LinearAlgebra at <a href=\"file:///cache/build/default-amdci5-5/julialang/julia-release-1-dot-9/usr/share/julia/stdlib/v1.9/LinearAlgebra/src/uniformscaling.jl\" target=\"_blank\">/home/alistair/.julia/juliaup/julia-1.9.3+0.x64.linux.gnu/share/julia/stdlib/v1.9/LinearAlgebra/src/uniformscaling.jl:153</a></li> <li> +(x::<b>Base.TwicePrecision</b>, y::<b>Number</b>) in Base at <a href=\"https://github.com/JuliaLang/julia/tree/bed2cd540a11544ed4be381d471bbf590f0b745e/base/twiceprecision.jl#L290\" target=\"_blank\">twiceprecision.jl:290</a></li> <li> +(x::<b>Base.TwicePrecision{T}</b>, y::<b>Base.TwicePrecision{T}</b>)<i> where T</i> in Base at <a href=\"https://github.com/JuliaLang/julia/tree/bed2cd540a11544ed4be381d471bbf590f0b745e/base/twiceprecision.jl#L296\" target=\"_blank\">twiceprecision.jl:296</a></li> <li> +(x::<b>Base.TwicePrecision</b>, y::<b>Base.TwicePrecision</b>) in Base at <a href=\"https://github.com/JuliaLang/julia/tree/bed2cd540a11544ed4be381d471bbf590f0b745e/base/twiceprecision.jl#L301\" target=\"_blank\">twiceprecision.jl:301</a></li> <li> +(y::<b>Dates.TimeType</b>, x::<b>StridedArray{<:Union{Dates.CompoundPeriod, Dates.Period}}</b>) in Dates at <a href=\"file:///cache/build/default-amdci5-5/julialang/julia-release-1-dot-9/usr/share/julia/stdlib/v1.9/Dates/src/deprecated.jl\" target=\"_blank\">/home/alistair/.julia/juliaup/julia-1.9.3+0.x64.linux.gnu/share/julia/stdlib/v1.9/Dates/src/deprecated.jl:18</a></li> <li> +(A::<b>Array</b>, Bs::<b>Array...</b>) in Base at <a href=\"https://github.com/JuliaLang/julia/tree/bed2cd540a11544ed4be381d471bbf590f0b745e/base/arraymath.jl#L12\" target=\"_blank\">arraymath.jl:12</a></li> <li> +(X::<b>StridedArray{<:Union{Dates.CompoundPeriod, Dates.Period}}</b>, Y::<b>StridedArray{<:Union{Dates.CompoundPeriod, Dates.Period}}</b>) in Dates at <a href=\"file:///cache/build/default-amdci5-5/julialang/julia-release-1-dot-9/usr/share/julia/stdlib/v1.9/Dates/src/deprecated.jl\" target=\"_blank\">/home/alistair/.julia/juliaup/julia-1.9.3+0.x64.linux.gnu/share/julia/stdlib/v1.9/Dates/src/deprecated.jl:62</a></li> <li> +(A::<b>Array</b>, B::<b>SparseArrays.AbstractSparseMatrixCSC</b>) in SparseArrays at <a href=\"file:///cache/build/default-amdci5-5/julialang/julia-release-1-dot-9/usr/share/julia/stdlib/v1.9/SparseArrays/src/sparsematrix.jl\" target=\"_blank\">/home/alistair/.julia/juliaup/julia-1.9.3+0.x64.linux.gnu/share/julia/stdlib/v1.9/SparseArrays/src/sparsematrix.jl:2069</a></li> <li> +(x::<b>StridedArray{<:Union{Dates.CompoundPeriod, Dates.Period}}</b>) in Dates at <a href=\"file:///cache/build/default-amdci5-5/julialang/julia-release-1-dot-9/usr/share/julia/stdlib/v1.9/Dates/src/deprecated.jl\" target=\"_blank\">/home/alistair/.julia/juliaup/julia-1.9.3+0.x64.linux.gnu/share/julia/stdlib/v1.9/Dates/src/deprecated.jl:55</a></li> <li> +(x::<b>StridedArray{<:Union{Dates.CompoundPeriod, Dates.Period}}</b>, y::<b>Dates.TimeType</b>) in Dates at <a href=\"file:///cache/build/default-amdci5-5/julialang/julia-release-1-dot-9/usr/share/julia/stdlib/v1.9/Dates/src/deprecated.jl\" target=\"_blank\">/home/alistair/.julia/juliaup/julia-1.9.3+0.x64.linux.gnu/share/julia/stdlib/v1.9/Dates/src/deprecated.jl:10</a></li> <li> +(r1::<b>StepRangeLen{T, R}</b>, r2::<b>StepRangeLen{T, R}</b>)<i> where {R<:Base.TwicePrecision, T}</i> in Base at <a href=\"https://github.com/JuliaLang/julia/tree/bed2cd540a11544ed4be381d471bbf590f0b745e/base/twiceprecision.jl#L628\" target=\"_blank\">twiceprecision.jl:628</a></li> <li> +(r1::<b>StepRangeLen{T, S}</b>, r2::<b>StepRangeLen{T, S}</b>)<i> where {T, S}</i> in Base at <a href=\"https://github.com/JuliaLang/julia/tree/bed2cd540a11544ed4be381d471bbf590f0b745e/base/range.jl#L1464\" target=\"_blank\">range.jl:1464</a></li> <li> +(r1::<b>Union{LinRange, OrdinalRange, StepRangeLen}</b>, r2::<b>Union{LinRange, OrdinalRange, StepRangeLen}</b>) in Base at <a href=\"https://github.com/JuliaLang/julia/tree/bed2cd540a11544ed4be381d471bbf590f0b745e/base/range.jl#L1457\" target=\"_blank\">range.jl:1457</a></li> <li> +(A::<b>AbstractArray</b>, B::<b>AbstractArray</b>) in Base at <a href=\"https://github.com/JuliaLang/julia/tree/bed2cd540a11544ed4be381d471bbf590f0b745e/base/arraymath.jl#L6\" target=\"_blank\">arraymath.jl:6</a></li> <li> +(x::<b>Rational</b>, y::<b>Integer</b>) in Base at <a href=\"https://github.com/JuliaLang/julia/tree/bed2cd540a11544ed4be381d471bbf590f0b745e/base/rational.jl#L327\" target=\"_blank\">rational.jl:327</a></li> <li> +(a::<b>Pkg.Resolve.VersionWeight</b>, b::<b>Pkg.Resolve.VersionWeight</b>) in Pkg.Resolve at <a href=\"file:///cache/build/default-amdci5-5/julialang/julia-release-1-dot-9/usr/share/julia/stdlib/v1.9/Pkg/src/Resolve/versionweights.jl\" target=\"_blank\">/home/alistair/.julia/juliaup/julia-1.9.3+0.x64.linux.gnu/share/julia/stdlib/v1.9/Pkg/src/Resolve/versionweights.jl:22</a></li> <li> +(x::<b>BigFloat</b>, c::<b>Union{UInt16, UInt32, UInt64, UInt8}</b>) in Base.MPFR at <a href=\"https://github.com/JuliaLang/julia/tree/bed2cd540a11544ed4be381d471bbf590f0b745e/base/mpfr.jl#L402\" target=\"_blank\">mpfr.jl:402</a></li> <li> +(x::<b>BigFloat</b>, c::<b>Union{Int16, Int32, Int64, Int8}</b>) in Base.MPFR at <a href=\"https://github.com/JuliaLang/julia/tree/bed2cd540a11544ed4be381d471bbf590f0b745e/base/mpfr.jl#L410\" target=\"_blank\">mpfr.jl:410</a></li> <li> +(x::<b>BigFloat</b>, c::<b>Union{Float16, Float32, Float64}</b>) in Base.MPFR at <a href=\"https://github.com/JuliaLang/julia/tree/bed2cd540a11544ed4be381d471bbf590f0b745e/base/mpfr.jl#L418\" target=\"_blank\">mpfr.jl:418</a></li> <li> +(x::<b>BigFloat</b>, y::<b>BigFloat</b>) in Base.MPFR at <a href=\"https://github.com/JuliaLang/julia/tree/bed2cd540a11544ed4be381d471bbf590f0b745e/base/mpfr.jl#L395\" target=\"_blank\">mpfr.jl:395</a></li> <li> +(x::<b>BigFloat</b>, c::<b>BigInt</b>) in Base.MPFR at <a href=\"https://github.com/JuliaLang/julia/tree/bed2cd540a11544ed4be381d471bbf590f0b745e/base/mpfr.jl#L426\" target=\"_blank\">mpfr.jl:426</a></li> <li> +(a::<b>BigFloat</b>, b::<b>BigFloat</b>, c::<b>BigFloat</b>) in Base.MPFR at <a href=\"https://github.com/JuliaLang/julia/tree/bed2cd540a11544ed4be381d471bbf590f0b745e/base/mpfr.jl#L567\" target=\"_blank\">mpfr.jl:567</a></li> <li> +(a::<b>BigFloat</b>, b::<b>BigFloat</b>, c::<b>BigFloat</b>, d::<b>BigFloat</b>) in Base.MPFR at <a href=\"https://github.com/JuliaLang/julia/tree/bed2cd540a11544ed4be381d471bbf590f0b745e/base/mpfr.jl#L573\" target=\"_blank\">mpfr.jl:573</a></li> <li> +(a::<b>BigFloat</b>, b::<b>BigFloat</b>, c::<b>BigFloat</b>, d::<b>BigFloat</b>, e::<b>BigFloat</b>) in Base.MPFR at <a href=\"https://github.com/JuliaLang/julia/tree/bed2cd540a11544ed4be381d471bbf590f0b745e/base/mpfr.jl#L580\" target=\"_blank\">mpfr.jl:580</a></li> <li> +(z::<b>Complex{Bool}</b>, x::<b>Bool</b>) in Base at <a href=\"https://github.com/JuliaLang/julia/tree/bed2cd540a11544ed4be381d471bbf590f0b745e/base/complex.jl#L303\" target=\"_blank\">complex.jl:303</a></li> <li> +(z::<b>Complex</b>, x::<b>Bool</b>) in Base at <a href=\"https://github.com/JuliaLang/julia/tree/bed2cd540a11544ed4be381d471bbf590f0b745e/base/complex.jl#L310\" target=\"_blank\">complex.jl:310</a></li> <li> +(z::<b>Complex{Bool}</b>, x::<b>Real</b>) in Base at <a href=\"https://github.com/JuliaLang/julia/tree/bed2cd540a11544ed4be381d471bbf590f0b745e/base/complex.jl#L317\" target=\"_blank\">complex.jl:317</a></li> <li> +(z::<b>Complex</b>) in Base at <a href=\"https://github.com/JuliaLang/julia/tree/bed2cd540a11544ed4be381d471bbf590f0b745e/base/complex.jl#L289\" target=\"_blank\">complex.jl:289</a></li> <li> +(z::<b>Complex</b>, x::<b>Real</b>) in Base at <a href=\"https://github.com/JuliaLang/julia/tree/bed2cd540a11544ed4be381d471bbf590f0b745e/base/complex.jl#L329\" target=\"_blank\">complex.jl:329</a></li> <li> +(dt::<b>Dates.Date</b>, t::<b>Dates.Time</b>) in Dates at <a href=\"file:///cache/build/default-amdci5-5/julialang/julia-release-1-dot-9/usr/share/julia/stdlib/v1.9/Dates/src/arithmetic.jl\" target=\"_blank\">/home/alistair/.julia/juliaup/julia-1.9.3+0.x64.linux.gnu/share/julia/stdlib/v1.9/Dates/src/arithmetic.jl:19</a></li> <li> +(dt::<b>Dates.Date</b>, y::<b>Dates.Year</b>) in Dates at <a href=\"file:///cache/build/default-amdci5-5/julialang/julia-release-1-dot-9/usr/share/julia/stdlib/v1.9/Dates/src/arithmetic.jl\" target=\"_blank\">/home/alistair/.julia/juliaup/julia-1.9.3+0.x64.linux.gnu/share/julia/stdlib/v1.9/Dates/src/arithmetic.jl:27</a></li> <li> +(dt::<b>Dates.Date</b>, z::<b>Dates.Month</b>) in Dates at <a href=\"file:///cache/build/default-amdci5-5/julialang/julia-release-1-dot-9/usr/share/julia/stdlib/v1.9/Dates/src/arithmetic.jl\" target=\"_blank\">/home/alistair/.julia/juliaup/julia-1.9.3+0.x64.linux.gnu/share/julia/stdlib/v1.9/Dates/src/arithmetic.jl:54</a></li> <li> +(x::<b>Dates.Date</b>, y::<b>Dates.Quarter</b>) in Dates at <a href=\"file:///cache/build/default-amdci5-5/julialang/julia-release-1-dot-9/usr/share/julia/stdlib/v1.9/Dates/src/arithmetic.jl\" target=\"_blank\">/home/alistair/.julia/juliaup/julia-1.9.3+0.x64.linux.gnu/share/julia/stdlib/v1.9/Dates/src/arithmetic.jl:73</a></li> <li> +(x::<b>Dates.Date</b>, y::<b>Dates.Week</b>) in Dates at <a href=\"file:///cache/build/default-amdci5-5/julialang/julia-release-1-dot-9/usr/share/julia/stdlib/v1.9/Dates/src/arithmetic.jl\" target=\"_blank\">/home/alistair/.julia/juliaup/julia-1.9.3+0.x64.linux.gnu/share/julia/stdlib/v1.9/Dates/src/arithmetic.jl:77</a></li> <li> +(x::<b>Dates.Date</b>, y::<b>Dates.Day</b>) in Dates at <a href=\"file:///cache/build/default-amdci5-5/julialang/julia-release-1-dot-9/usr/share/julia/stdlib/v1.9/Dates/src/arithmetic.jl\" target=\"_blank\">/home/alistair/.julia/juliaup/julia-1.9.3+0.x64.linux.gnu/share/julia/stdlib/v1.9/Dates/src/arithmetic.jl:79</a></li> <li> +(x::<b>Bool</b>) in Base at <a href=\"https://github.com/JuliaLang/julia/tree/bed2cd540a11544ed4be381d471bbf590f0b745e/base/bool.jl#L163\" target=\"_blank\">bool.jl:163</a></li> <li> +(x::<b>Integer</b>, y::<b>Ptr</b>) in Base at <a href=\"https://github.com/JuliaLang/julia/tree/bed2cd540a11544ed4be381d471bbf590f0b745e/base/pointer.jl#L169\" target=\"_blank\">pointer.jl:169</a></li> <li> +(y::<b>Integer</b>, x::<b>Rational</b>) in Base at <a href=\"https://github.com/JuliaLang/julia/tree/bed2cd540a11544ed4be381d471bbf590f0b745e/base/rational.jl#L334\" target=\"_blank\">rational.jl:334</a></li> <li> +(x::<b>Integer</b>, y::<b>AbstractChar</b>) in Base at <a href=\"https://github.com/JuliaLang/julia/tree/bed2cd540a11544ed4be381d471bbf590f0b745e/base/char.jl#L247\" target=\"_blank\">char.jl:247</a></li> <li> +(x::<b>Bool</b>, y::<b>T</b>)<i> where T<:AbstractFloat</i> in Base at <a href=\"https://github.com/JuliaLang/julia/tree/bed2cd540a11544ed4be381d471bbf590f0b745e/base/bool.jl#L173\" target=\"_blank\">bool.jl:173</a></li> <li> +(x::<b>Bool</b>, y::<b>Bool</b>) in Base at <a href=\"https://github.com/JuliaLang/julia/tree/bed2cd540a11544ed4be381d471bbf590f0b745e/base/bool.jl#L166\" target=\"_blank\">bool.jl:166</a></li> <li> +(x::<b>Bool</b>, z::<b>Complex{Bool}</b>) in Base at <a href=\"https://github.com/JuliaLang/julia/tree/bed2cd540a11544ed4be381d471bbf590f0b745e/base/complex.jl#L302\" target=\"_blank\">complex.jl:302</a></li> <li> +(x::<b>Real</b>, z::<b>Complex{Bool}</b>) in Base at <a href=\"https://github.com/JuliaLang/julia/tree/bed2cd540a11544ed4be381d471bbf590f0b745e/base/complex.jl#L316\" target=\"_blank\">complex.jl:316</a></li> <li> +(x::<b>Bool</b>, z::<b>Complex</b>) in Base at <a href=\"https://github.com/JuliaLang/julia/tree/bed2cd540a11544ed4be381d471bbf590f0b745e/base/complex.jl#L309\" target=\"_blank\">complex.jl:309</a></li> <li> +(x::<b>Real</b>, z::<b>Complex</b>) in Base at <a href=\"https://github.com/JuliaLang/julia/tree/bed2cd540a11544ed4be381d471bbf590f0b745e/base/complex.jl#L328\" target=\"_blank\">complex.jl:328</a></li> <li> +(x::<b>Dates.CompoundPeriod</b>, y::<b>Dates.Period</b>) in Dates at <a href=\"file:///cache/build/default-amdci5-5/julialang/julia-release-1-dot-9/usr/share/julia/stdlib/v1.9/Dates/src/periods.jl\" target=\"_blank\">/home/alistair/.julia/juliaup/julia-1.9.3+0.x64.linux.gnu/share/julia/stdlib/v1.9/Dates/src/periods.jl:332</a></li> <li> +(x::<b>Dates.CompoundPeriod</b>, y::<b>Dates.TimeType</b>) in Dates at <a href=\"file:///cache/build/default-amdci5-5/julialang/julia-release-1-dot-9/usr/share/julia/stdlib/v1.9/Dates/src/periods.jl\" target=\"_blank\">/home/alistair/.julia/juliaup/julia-1.9.3+0.x64.linux.gnu/share/julia/stdlib/v1.9/Dates/src/periods.jl:362</a></li> <li> +(x::<b>Dates.CompoundPeriod</b>, y::<b>Dates.CompoundPeriod</b>) in Dates at <a href=\"file:///cache/build/default-amdci5-5/julialang/julia-release-1-dot-9/usr/share/julia/stdlib/v1.9/Dates/src/periods.jl\" target=\"_blank\">/home/alistair/.julia/juliaup/julia-1.9.3+0.x64.linux.gnu/share/julia/stdlib/v1.9/Dates/src/periods.jl:334</a></li> <li> +(B::<b>BitMatrix</b>, J::<b>LinearAlgebra.UniformScaling</b>) in LinearAlgebra at <a href=\"file:///cache/build/default-amdci5-5/julialang/julia-release-1-dot-9/usr/share/julia/stdlib/v1.9/LinearAlgebra/src/uniformscaling.jl\" target=\"_blank\">/home/alistair/.julia/juliaup/julia-1.9.3+0.x64.linux.gnu/share/julia/stdlib/v1.9/LinearAlgebra/src/uniformscaling.jl:151</a></li> <li> +(A::<b>AbstractMatrix</b>, J::<b>LinearAlgebra.UniformScaling</b>) in LinearAlgebra at <a href=\"file:///cache/build/default-amdci5-5/julialang/julia-release-1-dot-9/usr/share/julia/stdlib/v1.9/LinearAlgebra/src/uniformscaling.jl\" target=\"_blank\">/home/alistair/.julia/juliaup/julia-1.9.3+0.x64.linux.gnu/share/julia/stdlib/v1.9/LinearAlgebra/src/uniformscaling.jl:214</a></li> <li> +(x::<b>AbstractArray{<:Number}</b>) in Base at <a href=\"https://github.com/JuliaLang/julia/tree/bed2cd540a11544ed4be381d471bbf590f0b745e/base/abstractarraymath.jl#L220\" target=\"_blank\">abstractarraymath.jl:220</a></li> <li> +(x::<b>BigInt</b>, c::<b>Union{UInt16, UInt32, UInt64, UInt8}</b>) in Base.GMP at <a href=\"https://github.com/JuliaLang/julia/tree/bed2cd540a11544ed4be381d471bbf590f0b745e/base/gmp.jl#L538\" target=\"_blank\">gmp.jl:538</a></li> <li> +(x::<b>BigInt</b>, c::<b>Union{Int16, Int32, Int64, Int8}</b>) in Base.GMP at <a href=\"https://github.com/JuliaLang/julia/tree/bed2cd540a11544ed4be381d471bbf590f0b745e/base/gmp.jl#L544\" target=\"_blank\">gmp.jl:544</a></li> <li> +(x::<b>BigInt</b>, y::<b>BigInt</b>) in Base.GMP at <a href=\"https://github.com/JuliaLang/julia/tree/bed2cd540a11544ed4be381d471bbf590f0b745e/base/gmp.jl#L490\" target=\"_blank\">gmp.jl:490</a></li> <li> +(a::<b>BigInt</b>, b::<b>BigInt</b>, c::<b>BigInt</b>) in Base.GMP at <a href=\"https://github.com/JuliaLang/julia/tree/bed2cd540a11544ed4be381d471bbf590f0b745e/base/gmp.jl#L530\" target=\"_blank\">gmp.jl:530</a></li> <li> +(a::<b>BigInt</b>, b::<b>BigInt</b>, c::<b>BigInt</b>, d::<b>BigInt</b>) in Base.GMP at <a href=\"https://github.com/JuliaLang/julia/tree/bed2cd540a11544ed4be381d471bbf590f0b745e/base/gmp.jl#L531\" target=\"_blank\">gmp.jl:531</a></li> <li> +(a::<b>BigInt</b>, b::<b>BigInt</b>, c::<b>BigInt</b>, d::<b>BigInt</b>, e::<b>BigInt</b>) in Base.GMP at <a href=\"https://github.com/JuliaLang/julia/tree/bed2cd540a11544ed4be381d471bbf590f0b745e/base/gmp.jl#L532\" target=\"_blank\">gmp.jl:532</a></li> <li> +(x::<b>BigInt</b>, y::<b>BigInt</b>, rest::<b>BigInt...</b>) in Base.GMP at <a href=\"https://github.com/JuliaLang/julia/tree/bed2cd540a11544ed4be381d471bbf590f0b745e/base/gmp.jl#L666\" target=\"_blank\">gmp.jl:666</a></li> <li> +(a::<b>Integer</b>, b::<b>Integer</b>) in Base at <a href=\"https://github.com/JuliaLang/julia/tree/bed2cd540a11544ed4be381d471bbf590f0b745e/base/int.jl#L1038\" target=\"_blank\">int.jl:1038</a></li> <li> +(c::<b>BigInt</b>, x::<b>BigFloat</b>) in Base.MPFR at <a href=\"https://github.com/JuliaLang/julia/tree/bed2cd540a11544ed4be381d471bbf590f0b745e/base/mpfr.jl#L431\" target=\"_blank\">mpfr.jl:431</a></li> <li> +(x::<b>Dates.Time</b>, y::<b>Dates.TimePeriod</b>) in Dates at <a href=\"file:///cache/build/default-amdci5-5/julialang/julia-release-1-dot-9/usr/share/julia/stdlib/v1.9/Dates/src/arithmetic.jl\" target=\"_blank\">/home/alistair/.julia/juliaup/julia-1.9.3+0.x64.linux.gnu/share/julia/stdlib/v1.9/Dates/src/arithmetic.jl:83</a></li> <li> +(t::<b>Dates.Time</b>, dt::<b>Dates.Date</b>) in Dates at <a href=\"file:///cache/build/default-amdci5-5/julialang/julia-release-1-dot-9/usr/share/julia/stdlib/v1.9/Dates/src/arithmetic.jl\" target=\"_blank\">/home/alistair/.julia/juliaup/julia-1.9.3+0.x64.linux.gnu/share/julia/stdlib/v1.9/Dates/src/arithmetic.jl:20</a></li> <li> +(x::<b>Rational{BigInt}</b>, y::<b>Rational{BigInt}</b>) in Base.GMP.MPQ at <a href=\"https://github.com/JuliaLang/julia/tree/bed2cd540a11544ed4be381d471bbf590f0b745e/base/gmp.jl#L1027\" target=\"_blank\">gmp.jl:1027</a></li> <li> +(x::<b>Rational</b>) in Base at <a href=\"https://github.com/JuliaLang/julia/tree/bed2cd540a11544ed4be381d471bbf590f0b745e/base/rational.jl#L284\" target=\"_blank\">rational.jl:284</a></li> <li> +(x::<b>Number</b>, y::<b>Base.TwicePrecision</b>) in Base at <a href=\"https://github.com/JuliaLang/julia/tree/bed2cd540a11544ed4be381d471bbf590f0b745e/base/twiceprecision.jl#L294\" target=\"_blank\">twiceprecision.jl:294</a></li> <li> +(::<b>Number</b>, ::<b>Missing</b>) in Base at <a href=\"https://github.com/JuliaLang/julia/tree/bed2cd540a11544ed4be381d471bbf590f0b745e/base/missing.jl#L124\" target=\"_blank\">missing.jl:124</a></li> <li> +(x::<b>Number</b>, J::<b>LinearAlgebra.UniformScaling</b>) in LinearAlgebra at <a href=\"file:///cache/build/default-amdci5-5/julialang/julia-release-1-dot-9/usr/share/julia/stdlib/v1.9/LinearAlgebra/src/uniformscaling.jl\" target=\"_blank\">/home/alistair/.julia/juliaup/julia-1.9.3+0.x64.linux.gnu/share/julia/stdlib/v1.9/LinearAlgebra/src/uniformscaling.jl:145</a></li> <li> +(x::<b>Rational</b>, y::<b>Rational</b>) in Base at <a href=\"https://github.com/JuliaLang/julia/tree/bed2cd540a11544ed4be381d471bbf590f0b745e/base/rational.jl#L298\" target=\"_blank\">rational.jl:298</a></li> <li> +(x::<b>Number</b>) in Base at <a href=\"https://github.com/JuliaLang/julia/tree/bed2cd540a11544ed4be381d471bbf590f0b745e/base/operators.jl#L515\" target=\"_blank\">operators.jl:515</a></li> <li> +(x::<b>T</b>, y::<b>T</b>)<i> where T<:Number</i> in Base at <a href=\"https://github.com/JuliaLang/julia/tree/bed2cd540a11544ed4be381d471bbf590f0b745e/base/promotion.jl#L485\" target=\"_blank\">promotion.jl:485</a></li> <li> +(x::<b>Number</b>, y::<b>Number</b>) in Base at <a href=\"https://github.com/JuliaLang/julia/tree/bed2cd540a11544ed4be381d471bbf590f0b745e/base/promotion.jl#L410\" target=\"_blank\">promotion.jl:410</a></li> <li> +(::<b>Missing</b>) in Base at <a href=\"https://github.com/JuliaLang/julia/tree/bed2cd540a11544ed4be381d471bbf590f0b745e/base/missing.jl#L101\" target=\"_blank\">missing.jl:101</a></li> <li> +(::<b>Missing</b>, ::<b>Number</b>) in Base at <a href=\"https://github.com/JuliaLang/julia/tree/bed2cd540a11544ed4be381d471bbf590f0b745e/base/missing.jl#L123\" target=\"_blank\">missing.jl:123</a></li> <li> +(x::<b>Missing</b>, y::<b>Dates.AbstractTime</b>) in Dates at <a href=\"file:///cache/build/default-amdci5-5/julialang/julia-release-1-dot-9/usr/share/julia/stdlib/v1.9/Dates/src/arithmetic.jl\" target=\"_blank\">/home/alistair/.julia/juliaup/julia-1.9.3+0.x64.linux.gnu/share/julia/stdlib/v1.9/Dates/src/arithmetic.jl:89</a></li> <li> +(::<b>Missing</b>, ::<b>Missing</b>) in Base at <a href=\"https://github.com/JuliaLang/julia/tree/bed2cd540a11544ed4be381d471bbf590f0b745e/base/missing.jl#L122\" target=\"_blank\">missing.jl:122</a></li> <li> +(level::<b>Base.CoreLogging.LogLevel</b>, inc::<b>Integer</b>) in Base.CoreLogging at <a href=\"https://github.com/JuliaLang/julia/tree/bed2cd540a11544ed4be381d471bbf590f0b745e/base/logging.jl#L131\" target=\"_blank\">logging.jl:131</a></li> <li> +(a::<b>Pkg.Resolve.FieldValue</b>, b::<b>Pkg.Resolve.FieldValue</b>) in Pkg.Resolve at <a href=\"file:///cache/build/default-amdci5-5/julialang/julia-release-1-dot-9/usr/share/julia/stdlib/v1.9/Pkg/src/Resolve/fieldvalues.jl\" target=\"_blank\">/home/alistair/.julia/juliaup/julia-1.9.3+0.x64.linux.gnu/share/julia/stdlib/v1.9/Pkg/src/Resolve/fieldvalues.jl:43</a></li> <li> +(dt::<b>Dates.DateTime</b>, y::<b>Dates.Year</b>) in Dates at <a href=\"file:///cache/build/default-amdci5-5/julialang/julia-release-1-dot-9/usr/share/julia/stdlib/v1.9/Dates/src/arithmetic.jl\" target=\"_blank\">/home/alistair/.julia/juliaup/julia-1.9.3+0.x64.linux.gnu/share/julia/stdlib/v1.9/Dates/src/arithmetic.jl:23</a></li> <li> +(dt::<b>Dates.DateTime</b>, z::<b>Dates.Month</b>) in Dates at <a href=\"file:///cache/build/default-amdci5-5/julialang/julia-release-1-dot-9/usr/share/julia/stdlib/v1.9/Dates/src/arithmetic.jl\" target=\"_blank\">/home/alistair/.julia/juliaup/julia-1.9.3+0.x64.linux.gnu/share/julia/stdlib/v1.9/Dates/src/arithmetic.jl:47</a></li> <li> +(x::<b>Dates.DateTime</b>, y::<b>Dates.Quarter</b>) in Dates at <a href=\"file:///cache/build/default-amdci5-5/julialang/julia-release-1-dot-9/usr/share/julia/stdlib/v1.9/Dates/src/arithmetic.jl\" target=\"_blank\">/home/alistair/.julia/juliaup/julia-1.9.3+0.x64.linux.gnu/share/julia/stdlib/v1.9/Dates/src/arithmetic.jl:75</a></li> <li> +(x::<b>Dates.DateTime</b>, y::<b>Dates.Period</b>) in Dates at <a href=\"file:///cache/build/default-amdci5-5/julialang/julia-release-1-dot-9/usr/share/julia/stdlib/v1.9/Dates/src/arithmetic.jl\" target=\"_blank\">/home/alistair/.julia/juliaup/julia-1.9.3+0.x64.linux.gnu/share/julia/stdlib/v1.9/Dates/src/arithmetic.jl:81</a></li> <li> +(x::<b>Dates.TimeType</b>) in Dates at <a href=\"file:///cache/build/default-amdci5-5/julialang/julia-release-1-dot-9/usr/share/julia/stdlib/v1.9/Dates/src/arithmetic.jl\" target=\"_blank\">/home/alistair/.julia/juliaup/julia-1.9.3+0.x64.linux.gnu/share/julia/stdlib/v1.9/Dates/src/arithmetic.jl:8</a></li> <li> +(x::<b>Dates.AbstractTime</b>, y::<b>Missing</b>) in Dates at <a href=\"file:///cache/build/default-amdci5-5/julialang/julia-release-1-dot-9/usr/share/julia/stdlib/v1.9/Dates/src/arithmetic.jl\" target=\"_blank\">/home/alistair/.julia/juliaup/julia-1.9.3+0.x64.linux.gnu/share/julia/stdlib/v1.9/Dates/src/arithmetic.jl:88</a></li> <li> +(a::<b>Dates.TimeType</b>, b::<b>Dates.Period</b>, c::<b>Dates.Period</b>) in Dates at <a href=\"file:///cache/build/default-amdci5-5/julialang/julia-release-1-dot-9/usr/share/julia/stdlib/v1.9/Dates/src/periods.jl\" target=\"_blank\">/home/alistair/.julia/juliaup/julia-1.9.3+0.x64.linux.gnu/share/julia/stdlib/v1.9/Dates/src/periods.jl:353</a></li> <li> +(a::<b>Dates.TimeType</b>, b::<b>Dates.Period</b>, c::<b>Dates.Period</b>, d::<b>Dates.Period...</b>) in Dates at <a href=\"file:///cache/build/default-amdci5-5/julialang/julia-release-1-dot-9/usr/share/julia/stdlib/v1.9/Dates/src/periods.jl\" target=\"_blank\">/home/alistair/.julia/juliaup/julia-1.9.3+0.x64.linux.gnu/share/julia/stdlib/v1.9/Dates/src/periods.jl:354</a></li> <li> +(x::<b>Dates.TimeType</b>, y::<b>Dates.CompoundPeriod</b>) in Dates at <a href=\"file:///cache/build/default-amdci5-5/julialang/julia-release-1-dot-9/usr/share/julia/stdlib/v1.9/Dates/src/periods.jl\" target=\"_blank\">/home/alistair/.julia/juliaup/julia-1.9.3+0.x64.linux.gnu/share/julia/stdlib/v1.9/Dates/src/periods.jl:356</a></li> <li> +(a, b, c, xs...) in Base at <a href=\"https://github.com/JuliaLang/julia/tree/bed2cd540a11544ed4be381d471bbf590f0b745e/base/operators.jl#L578\" target=\"_blank\">operators.jl:578</a></li> </ul>"
      ],
      "text/plain": [
       "# 207 methods for generic function \"+\" from \u001b[90mBase\u001b[39m:\n",
       "   [1] +(\u001b[90mx\u001b[39m::\u001b[1mT\u001b[22m, \u001b[90my\u001b[39m::\u001b[1mT\u001b[22m) where T<:Union{Int128, Int16, Int32, Int64, Int8, UInt128, UInt16, UInt32, UInt64, UInt8}\n",
       "\u001b[90m     @\u001b[39m \u001b[90m\u001b[4mint.jl:87\u001b[24m\u001b[39m\n",
       "   [2] +(\u001b[90mx\u001b[39m::\u001b[1mT\u001b[22m, \u001b[90my\u001b[39m::\u001b[1mT\u001b[22m) where T<:Union{Float16, Float32, Float64}\n",
       "\u001b[90m     @\u001b[39m \u001b[90m\u001b[4mfloat.jl:408\u001b[24m\u001b[39m\n",
       "   [3] +(\u001b[90mc\u001b[39m::\u001b[1mUnion\u001b[22m\u001b[0m{UInt16, UInt32, UInt64, UInt8}, \u001b[90mx\u001b[39m::\u001b[1mBigInt\u001b[22m)\n",
       "\u001b[90m     @\u001b[39m \u001b[90mBase.GMP\u001b[39m \u001b[90m\u001b[4mgmp.jl:539\u001b[24m\u001b[39m\n",
       "   [4] +(\u001b[90mc\u001b[39m::\u001b[1mUnion\u001b[22m\u001b[0m{Int16, Int32, Int64, Int8}, \u001b[90mx\u001b[39m::\u001b[1mBigInt\u001b[22m)\n",
       "\u001b[90m     @\u001b[39m \u001b[90mBase.GMP\u001b[39m \u001b[90m\u001b[4mgmp.jl:545\u001b[24m\u001b[39m\n",
       "   [5] +(\u001b[90mc\u001b[39m::\u001b[1mUnion\u001b[22m\u001b[0m{UInt16, UInt32, UInt64, UInt8}, \u001b[90mx\u001b[39m::\u001b[1mBigFloat\u001b[22m)\n",
       "\u001b[90m     @\u001b[39m \u001b[90mBase.MPFR\u001b[39m \u001b[90m\u001b[4mmpfr.jl:407\u001b[24m\u001b[39m\n",
       "   [6] +(\u001b[90mc\u001b[39m::\u001b[1mUnion\u001b[22m\u001b[0m{Int16, Int32, Int64, Int8}, \u001b[90mx\u001b[39m::\u001b[1mBigFloat\u001b[22m)\n",
       "\u001b[90m     @\u001b[39m \u001b[90mBase.MPFR\u001b[39m \u001b[90m\u001b[4mmpfr.jl:415\u001b[24m\u001b[39m\n",
       "   [7] +(\u001b[90mc\u001b[39m::\u001b[1mUnion\u001b[22m\u001b[0m{Float16, Float32, Float64}, \u001b[90mx\u001b[39m::\u001b[1mBigFloat\u001b[22m)\n",
       "\u001b[90m     @\u001b[39m \u001b[90mBase.MPFR\u001b[39m \u001b[90m\u001b[4mmpfr.jl:423\u001b[24m\u001b[39m\n",
       "   [8] +(\u001b[90mx\u001b[39m::\u001b[1mUnion\u001b[22m\u001b[0m{Dates.CompoundPeriod, Dates.Period})\n",
       "\u001b[90m     @\u001b[39m \u001b[36mDates\u001b[39m \u001b[90m~/.julia/juliaup/julia-1.9.3+0.x64.linux.gnu/share/julia/stdlib/v1.9/Dates/src/\u001b[39m\u001b[90m\u001b[4mperiods.jl:342\u001b[24m\u001b[39m\n",
       "   [9] +(\u001b[90mF\u001b[39m::\u001b[1mLinearAlgebra.Hessenberg\u001b[22m, \u001b[90mJ\u001b[39m::\u001b[1mLinearAlgebra.UniformScaling\u001b[22m)\n",
       "\u001b[90m     @\u001b[39m \u001b[32mLinearAlgebra\u001b[39m \u001b[90m~/.julia/juliaup/julia-1.9.3+0.x64.linux.gnu/share/julia/stdlib/v1.9/LinearAlgebra/src/\u001b[39m\u001b[90m\u001b[4mhessenberg.jl:647\u001b[24m\u001b[39m\n",
       "  [10] +(\u001b[90mr\u001b[39m::\u001b[1mAbstractRange\u001b[22m\u001b[0m{<:Dates.TimeType}, \u001b[90mx\u001b[39m::\u001b[1mDates.Period\u001b[22m)\n",
       "\u001b[90m     @\u001b[39m \u001b[36mDates\u001b[39m \u001b[90m~/.julia/juliaup/julia-1.9.3+0.x64.linux.gnu/share/julia/stdlib/v1.9/Dates/src/\u001b[39m\u001b[90m\u001b[4mranges.jl:65\u001b[24m\u001b[39m\n",
       "  [11] +(\u001b[90mx\u001b[39m::\u001b[1mAbstractArray\u001b[22m\u001b[0m{<:Dates.TimeType}, \u001b[90my\u001b[39m::\u001b[1mUnion\u001b[22m\u001b[0m{Dates.CompoundPeriod, Dates.Period})\n",
       "\u001b[90m     @\u001b[39m \u001b[36mDates\u001b[39m \u001b[90m~/.julia/juliaup/julia-1.9.3+0.x64.linux.gnu/share/julia/stdlib/v1.9/Dates/src/\u001b[39m\u001b[90m\u001b[4mdeprecated.jl:6\u001b[24m\u001b[39m\n",
       "  [12] +(\u001b[90mA\u001b[39m::\u001b[1mLinearAlgebra.Tridiagonal\u001b[22m, \u001b[90mB\u001b[39m::\u001b[1mLinearAlgebra.Tridiagonal\u001b[22m)\n",
       "\u001b[90m     @\u001b[39m \u001b[32mLinearAlgebra\u001b[39m \u001b[90m~/.julia/juliaup/julia-1.9.3+0.x64.linux.gnu/share/julia/stdlib/v1.9/LinearAlgebra/src/\u001b[39m\u001b[90m\u001b[4mtridiag.jl:754\u001b[24m\u001b[39m\n",
       "  [13] +(\u001b[90mx\u001b[39m::\u001b[1mLinearAlgebra.Tridiagonal\u001b[22m, \u001b[90mH\u001b[39m::\u001b[1mLinearAlgebra.UpperHessenberg\u001b[22m)\n",
       "\u001b[90m     @\u001b[39m \u001b[32mLinearAlgebra\u001b[39m \u001b[90m~/.julia/juliaup/julia-1.9.3+0.x64.linux.gnu/share/julia/stdlib/v1.9/LinearAlgebra/src/\u001b[39m\u001b[90m\u001b[4mhessenberg.jl:112\u001b[24m\u001b[39m\n",
       "  [14] +(\u001b[90mA\u001b[39m::\u001b[1mLinearAlgebra.Tridiagonal\u001b[22m, \u001b[90mB\u001b[39m::\u001b[1mLinearAlgebra.SymTridiagonal\u001b[22m)\n",
       "\u001b[90m     @\u001b[39m \u001b[32mLinearAlgebra\u001b[39m \u001b[90m~/.julia/juliaup/julia-1.9.3+0.x64.linux.gnu/share/julia/stdlib/v1.9/LinearAlgebra/src/\u001b[39m\u001b[90m\u001b[4mspecial.jl:162\u001b[24m\u001b[39m\n",
       "  [15] +(\u001b[90mA\u001b[39m::\u001b[1mLinearAlgebra.Tridiagonal\u001b[22m, \u001b[90mB\u001b[39m::\u001b[1mLinearAlgebra.Diagonal\u001b[22m)\n",
       "\u001b[90m     @\u001b[39m \u001b[32mLinearAlgebra\u001b[39m \u001b[90m~/.julia/juliaup/julia-1.9.3+0.x64.linux.gnu/share/julia/stdlib/v1.9/LinearAlgebra/src/\u001b[39m\u001b[90m\u001b[4mspecial.jl:178\u001b[24m\u001b[39m\n",
       "  [16] +(\u001b[90mA\u001b[39m::\u001b[1mLinearAlgebra.Tridiagonal\u001b[22m, \u001b[90mB\u001b[39m::\u001b[1mLinearAlgebra.Bidiagonal\u001b[22m)\n",
       "\u001b[90m     @\u001b[39m \u001b[32mLinearAlgebra\u001b[39m \u001b[90m~/.julia/juliaup/julia-1.9.3+0.x64.linux.gnu/share/julia/stdlib/v1.9/LinearAlgebra/src/\u001b[39m\u001b[90m\u001b[4mspecial.jl:198\u001b[24m\u001b[39m\n",
       "  [17] +(\u001b[90mA\u001b[39m::\u001b[1mLinearAlgebra.Tridiagonal\u001b[22m\u001b[0m{var\"#s972\", V} where {var\"#s972\"<:Number, V<:AbstractVector{var\"#s972\"}}, \u001b[90mB\u001b[39m::\u001b[1mLinearAlgebra.UniformScaling\u001b[22m)\n",
       "\u001b[90m     @\u001b[39m \u001b[32mLinearAlgebra\u001b[39m \u001b[90m~/.julia/juliaup/julia-1.9.3+0.x64.linux.gnu/share/julia/stdlib/v1.9/LinearAlgebra/src/\u001b[39m\u001b[90m\u001b[4mspecial.jl:231\u001b[24m\u001b[39m\n",
       "  [18] +(\u001b[90mA\u001b[39m::\u001b[1mSparseArrays.AbstractSparseMatrix\u001b[22m, \u001b[90mB\u001b[39m::\u001b[1mLinearAlgebra.Hermitian\u001b[22m\u001b[0m{<:Any, <:SparseArrays.AbstractSparseMatrix})\n",
       "\u001b[90m     @\u001b[39m \u001b[33mSparseArrays\u001b[39m \u001b[90m~/.julia/juliaup/julia-1.9.3+0.x64.linux.gnu/share/julia/stdlib/v1.9/SparseArrays/src/\u001b[39m\u001b[90m\u001b[4mlinalg.jl:14\u001b[24m\u001b[39m\n",
       "  [19] +(\u001b[90mA\u001b[39m::\u001b[1mSparseArrays.AbstractSparseMatrix\u001b[22m, \u001b[90mB\u001b[39m::\u001b[1mLinearAlgebra.Hermitian\u001b[22m)\n",
       "\u001b[90m     @\u001b[39m \u001b[33mSparseArrays\u001b[39m \u001b[90m~/.julia/juliaup/julia-1.9.3+0.x64.linux.gnu/share/julia/stdlib/v1.9/SparseArrays/src/\u001b[39m\u001b[90m\u001b[4mlinalg.jl:17\u001b[24m\u001b[39m\n",
       "  [20] +(\u001b[90mA\u001b[39m::\u001b[1mSparseArrays.AbstractSparseMatrix\u001b[22m, \u001b[90mB\u001b[39m::\u001b[1mLinearAlgebra.Symmetric\u001b[22m\u001b[0m{<:Any, <:SparseArrays.AbstractSparseMatrix})\n",
       "\u001b[90m     @\u001b[39m \u001b[33mSparseArrays\u001b[39m \u001b[90m~/.julia/juliaup/julia-1.9.3+0.x64.linux.gnu/share/julia/stdlib/v1.9/SparseArrays/src/\u001b[39m\u001b[90m\u001b[4mlinalg.jl:14\u001b[24m\u001b[39m\n",
       "  [21] +(\u001b[90mA\u001b[39m::\u001b[1mSparseArrays.AbstractSparseMatrix\u001b[22m, \u001b[90mB\u001b[39m::\u001b[1mLinearAlgebra.Symmetric\u001b[22m)\n",
       "\u001b[90m     @\u001b[39m \u001b[33mSparseArrays\u001b[39m \u001b[90m~/.julia/juliaup/julia-1.9.3+0.x64.linux.gnu/share/julia/stdlib/v1.9/SparseArrays/src/\u001b[39m\u001b[90m\u001b[4mlinalg.jl:17\u001b[24m\u001b[39m\n",
       "  [22] +(\u001b[90mx\u001b[39m::\u001b[1mP\u001b[22m, \u001b[90my\u001b[39m::\u001b[1mP\u001b[22m) where P<:Dates.Period\n",
       "\u001b[90m     @\u001b[39m \u001b[36mDates\u001b[39m \u001b[90m~/.julia/juliaup/julia-1.9.3+0.x64.linux.gnu/share/julia/stdlib/v1.9/Dates/src/\u001b[39m\u001b[90m\u001b[4mperiods.jl:75\u001b[24m\u001b[39m\n",
       "  [23] +(\u001b[90mx\u001b[39m::\u001b[1mDates.Period\u001b[22m, \u001b[90my\u001b[39m::\u001b[1mDates.Period\u001b[22m)\n",
       "\u001b[90m     @\u001b[39m \u001b[36mDates\u001b[39m \u001b[90m~/.julia/juliaup/julia-1.9.3+0.x64.linux.gnu/share/julia/stdlib/v1.9/Dates/src/\u001b[39m\u001b[90m\u001b[4mperiods.jl:331\u001b[24m\u001b[39m\n",
       "  [24] +(\u001b[90my\u001b[39m::\u001b[1mDates.Period\u001b[22m, \u001b[90mx\u001b[39m::\u001b[1mDates.CompoundPeriod\u001b[22m)\n",
       "\u001b[90m     @\u001b[39m \u001b[36mDates\u001b[39m \u001b[90m~/.julia/juliaup/julia-1.9.3+0.x64.linux.gnu/share/julia/stdlib/v1.9/Dates/src/\u001b[39m\u001b[90m\u001b[4mperiods.jl:333\u001b[24m\u001b[39m\n",
       "  [25] +(\u001b[90my\u001b[39m::\u001b[1mDates.Period\u001b[22m, \u001b[90mx\u001b[39m::\u001b[1mDates.TimeType\u001b[22m)\n",
       "\u001b[90m     @\u001b[39m \u001b[36mDates\u001b[39m \u001b[90m~/.julia/juliaup/julia-1.9.3+0.x64.linux.gnu/share/julia/stdlib/v1.9/Dates/src/\u001b[39m\u001b[90m\u001b[4marithmetic.jl:85\u001b[24m\u001b[39m\n",
       "  [26] +(\u001b[90mx\u001b[39m::\u001b[1mDates.Period\u001b[22m, \u001b[90mr\u001b[39m::\u001b[1mAbstractRange\u001b[22m\u001b[0m{<:Dates.TimeType})\n",
       "\u001b[90m     @\u001b[39m \u001b[36mDates\u001b[39m \u001b[90m~/.julia/juliaup/julia-1.9.3+0.x64.linux.gnu/share/julia/stdlib/v1.9/Dates/src/\u001b[39m\u001b[90m\u001b[4mranges.jl:64\u001b[24m\u001b[39m\n",
       "  [27] +(\u001b[90my\u001b[39m::\u001b[1mUnion\u001b[22m\u001b[0m{Dates.CompoundPeriod, Dates.Period}, \u001b[90mx\u001b[39m::\u001b[1mAbstractArray\u001b[22m\u001b[0m{<:Dates.TimeType})\n",
       "\u001b[90m     @\u001b[39m \u001b[36mDates\u001b[39m \u001b[90m~/.julia/juliaup/julia-1.9.3+0.x64.linux.gnu/share/julia/stdlib/v1.9/Dates/src/\u001b[39m\u001b[90m\u001b[4mdeprecated.jl:14\u001b[24m\u001b[39m\n",
       "  [28] +(\u001b[90mA\u001b[39m::\u001b[1mLinearAlgebra.UnitUpperTriangular\u001b[22m, \u001b[90mB\u001b[39m::\u001b[1mLinearAlgebra.UpperTriangular\u001b[22m)\n",
       "\u001b[90m     @\u001b[39m \u001b[32mLinearAlgebra\u001b[39m \u001b[90m~/.julia/juliaup/julia-1.9.3+0.x64.linux.gnu/share/julia/stdlib/v1.9/LinearAlgebra/src/\u001b[39m\u001b[90m\u001b[4mtriangular.jl:646\u001b[24m\u001b[39m\n",
       "  [29] +(\u001b[90mA\u001b[39m::\u001b[1mLinearAlgebra.UnitUpperTriangular\u001b[22m, \u001b[90mB\u001b[39m::\u001b[1mLinearAlgebra.UnitUpperTriangular\u001b[22m)\n",
       "\u001b[90m     @\u001b[39m \u001b[32mLinearAlgebra\u001b[39m \u001b[90m~/.julia/juliaup/julia-1.9.3+0.x64.linux.gnu/share/julia/stdlib/v1.9/LinearAlgebra/src/\u001b[39m\u001b[90m\u001b[4mtriangular.jl:648\u001b[24m\u001b[39m\n",
       "  [30] +(\u001b[90mUL\u001b[39m::\u001b[1mLinearAlgebra.UnitUpperTriangular\u001b[22m, \u001b[90mJ\u001b[39m::\u001b[1mLinearAlgebra.UniformScaling\u001b[22m)\n",
       "\u001b[90m     @\u001b[39m \u001b[32mLinearAlgebra\u001b[39m \u001b[90m~/.julia/juliaup/julia-1.9.3+0.x64.linux.gnu/share/julia/stdlib/v1.9/LinearAlgebra/src/\u001b[39m\u001b[90m\u001b[4muniformscaling.jl:181\u001b[24m\u001b[39m\n",
       "  [31] +(\u001b[90mx\u001b[39m::\u001b[1mLinearAlgebra.UnitUpperTriangular\u001b[22m, \u001b[90mH\u001b[39m::\u001b[1mLinearAlgebra.UpperHessenberg\u001b[22m)\n",
       "\u001b[90m     @\u001b[39m \u001b[32mLinearAlgebra\u001b[39m \u001b[90m~/.julia/juliaup/julia-1.9.3+0.x64.linux.gnu/share/julia/stdlib/v1.9/LinearAlgebra/src/\u001b[39m\u001b[90m\u001b[4mhessenberg.jl:112\u001b[24m\u001b[39m\n",
       "  [32] +(\u001b[90mA\u001b[39m::\u001b[1mLinearAlgebra.UnitUpperTriangular\u001b[22m, \u001b[90mB\u001b[39m::\u001b[1mLinearAlgebra.Bidiagonal\u001b[22m)\n",
       "\u001b[90m     @\u001b[39m \u001b[32mLinearAlgebra\u001b[39m \u001b[90m~/.julia/juliaup/julia-1.9.3+0.x64.linux.gnu/share/julia/stdlib/v1.9/LinearAlgebra/src/\u001b[39m\u001b[90m\u001b[4mspecial.jl:91\u001b[24m\u001b[39m\n",
       "  [33] +(\u001b[90mA\u001b[39m::\u001b[1mLinearAlgebra.Bidiagonal\u001b[22m, \u001b[90mB\u001b[39m::\u001b[1mLinearAlgebra.Bidiagonal\u001b[22m)\n",
       "\u001b[90m     @\u001b[39m \u001b[32mLinearAlgebra\u001b[39m \u001b[90m~/.julia/juliaup/julia-1.9.3+0.x64.linux.gnu/share/julia/stdlib/v1.9/LinearAlgebra/src/\u001b[39m\u001b[90m\u001b[4mbidiag.jl:374\u001b[24m\u001b[39m\n",
       "  [34] +(\u001b[90mx\u001b[39m::\u001b[1mLinearAlgebra.Bidiagonal\u001b[22m, \u001b[90mH\u001b[39m::\u001b[1mLinearAlgebra.UpperHessenberg\u001b[22m)\n",
       "\u001b[90m     @\u001b[39m \u001b[32mLinearAlgebra\u001b[39m \u001b[90m~/.julia/juliaup/julia-1.9.3+0.x64.linux.gnu/share/julia/stdlib/v1.9/LinearAlgebra/src/\u001b[39m\u001b[90m\u001b[4mhessenberg.jl:112\u001b[24m\u001b[39m\n",
       "  [35] +(\u001b[90mA\u001b[39m::\u001b[1mLinearAlgebra.Bidiagonal\u001b[22m, \u001b[90mB\u001b[39m::\u001b[1mLinearAlgebra.UpperTriangular\u001b[22m)\n",
       "\u001b[90m     @\u001b[39m \u001b[32mLinearAlgebra\u001b[39m \u001b[90m~/.julia/juliaup/julia-1.9.3+0.x64.linux.gnu/share/julia/stdlib/v1.9/LinearAlgebra/src/\u001b[39m\u001b[90m\u001b[4mspecial.jl:99\u001b[24m\u001b[39m\n",
       "  [36] +(\u001b[90mA\u001b[39m::\u001b[1mLinearAlgebra.Bidiagonal\u001b[22m, \u001b[90mB\u001b[39m::\u001b[1mLinearAlgebra.UnitUpperTriangular\u001b[22m)\n",
       "\u001b[90m     @\u001b[39m \u001b[32mLinearAlgebra\u001b[39m \u001b[90m~/.julia/juliaup/julia-1.9.3+0.x64.linux.gnu/share/julia/stdlib/v1.9/LinearAlgebra/src/\u001b[39m\u001b[90m\u001b[4mspecial.jl:99\u001b[24m\u001b[39m\n",
       "  [37] +(\u001b[90mA\u001b[39m::\u001b[1mLinearAlgebra.Bidiagonal\u001b[22m, \u001b[90mB\u001b[39m::\u001b[1mLinearAlgebra.LowerTriangular\u001b[22m)\n",
       "\u001b[90m     @\u001b[39m \u001b[32mLinearAlgebra\u001b[39m \u001b[90m~/.julia/juliaup/julia-1.9.3+0.x64.linux.gnu/share/julia/stdlib/v1.9/LinearAlgebra/src/\u001b[39m\u001b[90m\u001b[4mspecial.jl:99\u001b[24m\u001b[39m\n",
       "  [38] +(\u001b[90mA\u001b[39m::\u001b[1mLinearAlgebra.Bidiagonal\u001b[22m, \u001b[90mB\u001b[39m::\u001b[1mLinearAlgebra.UnitLowerTriangular\u001b[22m)\n",
       "\u001b[90m     @\u001b[39m \u001b[32mLinearAlgebra\u001b[39m \u001b[90m~/.julia/juliaup/julia-1.9.3+0.x64.linux.gnu/share/julia/stdlib/v1.9/LinearAlgebra/src/\u001b[39m\u001b[90m\u001b[4mspecial.jl:99\u001b[24m\u001b[39m\n",
       "  [39] +(\u001b[90mA\u001b[39m::\u001b[1mLinearAlgebra.Bidiagonal\u001b[22m, \u001b[90mB\u001b[39m::\u001b[1mLinearAlgebra.Diagonal\u001b[22m)\n",
       "\u001b[90m     @\u001b[39m \u001b[32mLinearAlgebra\u001b[39m \u001b[90m~/.julia/juliaup/julia-1.9.3+0.x64.linux.gnu/share/julia/stdlib/v1.9/LinearAlgebra/src/\u001b[39m\u001b[90m\u001b[4mspecial.jl:120\u001b[24m\u001b[39m\n",
       "  [40] +(\u001b[90mA\u001b[39m::\u001b[1mLinearAlgebra.Bidiagonal\u001b[22m, \u001b[90mB\u001b[39m::\u001b[1mLinearAlgebra.Tridiagonal\u001b[22m)\n",
       "\u001b[90m     @\u001b[39m \u001b[32mLinearAlgebra\u001b[39m \u001b[90m~/.julia/juliaup/julia-1.9.3+0.x64.linux.gnu/share/julia/stdlib/v1.9/LinearAlgebra/src/\u001b[39m\u001b[90m\u001b[4mspecial.jl:188\u001b[24m\u001b[39m\n",
       "  [41] +(\u001b[90mA\u001b[39m::\u001b[1mLinearAlgebra.Bidiagonal\u001b[22m, \u001b[90mB\u001b[39m::\u001b[1mLinearAlgebra.SymTridiagonal\u001b[22m)\n",
       "\u001b[90m     @\u001b[39m \u001b[32mLinearAlgebra\u001b[39m \u001b[90m~/.julia/juliaup/julia-1.9.3+0.x64.linux.gnu/share/julia/stdlib/v1.9/LinearAlgebra/src/\u001b[39m\u001b[90m\u001b[4mspecial.jl:208\u001b[24m\u001b[39m\n",
       "  [42] +(\u001b[90mA\u001b[39m::\u001b[1mLinearAlgebra.Bidiagonal\u001b[22m\u001b[0m{var\"#s972\", V} where {var\"#s972\"<:Number, V<:AbstractVector{var\"#s972\"}}, \u001b[90mB\u001b[39m::\u001b[1mLinearAlgebra.UniformScaling\u001b[22m)\n",
       "\u001b[90m     @\u001b[39m \u001b[32mLinearAlgebra\u001b[39m \u001b[90m~/.julia/juliaup/julia-1.9.3+0.x64.linux.gnu/share/julia/stdlib/v1.9/LinearAlgebra/src/\u001b[39m\u001b[90m\u001b[4mspecial.jl:241\u001b[24m\u001b[39m\n",
       "  [43] +(\u001b[90mA\u001b[39m::\u001b[1mLinearAlgebra.UnitLowerTriangular\u001b[22m, \u001b[90mB\u001b[39m::\u001b[1mLinearAlgebra.LowerTriangular\u001b[22m)\n",
       "\u001b[90m     @\u001b[39m \u001b[32mLinearAlgebra\u001b[39m \u001b[90m~/.julia/juliaup/julia-1.9.3+0.x64.linux.gnu/share/julia/stdlib/v1.9/LinearAlgebra/src/\u001b[39m\u001b[90m\u001b[4mtriangular.jl:647\u001b[24m\u001b[39m\n",
       "  [44] +(\u001b[90mA\u001b[39m::\u001b[1mLinearAlgebra.UnitLowerTriangular\u001b[22m, \u001b[90mB\u001b[39m::\u001b[1mLinearAlgebra.UnitLowerTriangular\u001b[22m)\n",
       "\u001b[90m     @\u001b[39m \u001b[32mLinearAlgebra\u001b[39m \u001b[90m~/.julia/juliaup/julia-1.9.3+0.x64.linux.gnu/share/julia/stdlib/v1.9/LinearAlgebra/src/\u001b[39m\u001b[90m\u001b[4mtriangular.jl:649\u001b[24m\u001b[39m\n",
       "  [45] +(\u001b[90mUL\u001b[39m::\u001b[1mLinearAlgebra.UnitLowerTriangular\u001b[22m, \u001b[90mJ\u001b[39m::\u001b[1mLinearAlgebra.UniformScaling\u001b[22m)\n",
       "\u001b[90m     @\u001b[39m \u001b[32mLinearAlgebra\u001b[39m \u001b[90m~/.julia/juliaup/julia-1.9.3+0.x64.linux.gnu/share/julia/stdlib/v1.9/LinearAlgebra/src/\u001b[39m\u001b[90m\u001b[4muniformscaling.jl:181\u001b[24m\u001b[39m\n",
       "  [46] +(\u001b[90mA\u001b[39m::\u001b[1mLinearAlgebra.UnitLowerTriangular\u001b[22m, \u001b[90mB\u001b[39m::\u001b[1mLinearAlgebra.Bidiagonal\u001b[22m)\n",
       "\u001b[90m     @\u001b[39m \u001b[32mLinearAlgebra\u001b[39m \u001b[90m~/.julia/juliaup/julia-1.9.3+0.x64.linux.gnu/share/julia/stdlib/v1.9/LinearAlgebra/src/\u001b[39m\u001b[90m\u001b[4mspecial.jl:91\u001b[24m\u001b[39m\n",
       "  [47] +(\u001b[90mA\u001b[39m::\u001b[1mLinearAlgebra.UpperTriangular\u001b[22m, \u001b[90mB\u001b[39m::\u001b[1mLinearAlgebra.UpperTriangular\u001b[22m)\n",
       "\u001b[90m     @\u001b[39m \u001b[32mLinearAlgebra\u001b[39m \u001b[90m~/.julia/juliaup/julia-1.9.3+0.x64.linux.gnu/share/julia/stdlib/v1.9/LinearAlgebra/src/\u001b[39m\u001b[90m\u001b[4mtriangular.jl:642\u001b[24m\u001b[39m\n",
       "  [48] +(\u001b[90mA\u001b[39m::\u001b[1mLinearAlgebra.UpperTriangular\u001b[22m, \u001b[90mB\u001b[39m::\u001b[1mLinearAlgebra.UnitUpperTriangular\u001b[22m)\n",
       "\u001b[90m     @\u001b[39m \u001b[32mLinearAlgebra\u001b[39m \u001b[90m~/.julia/juliaup/julia-1.9.3+0.x64.linux.gnu/share/julia/stdlib/v1.9/LinearAlgebra/src/\u001b[39m\u001b[90m\u001b[4mtriangular.jl:644\u001b[24m\u001b[39m\n",
       "  [49] +(\u001b[90mx\u001b[39m::\u001b[1mLinearAlgebra.UpperTriangular\u001b[22m, \u001b[90mH\u001b[39m::\u001b[1mLinearAlgebra.UpperHessenberg\u001b[22m)\n",
       "\u001b[90m     @\u001b[39m \u001b[32mLinearAlgebra\u001b[39m \u001b[90m~/.julia/juliaup/julia-1.9.3+0.x64.linux.gnu/share/julia/stdlib/v1.9/LinearAlgebra/src/\u001b[39m\u001b[90m\u001b[4mhessenberg.jl:112\u001b[24m\u001b[39m\n",
       "  [50] +(\u001b[90mA\u001b[39m::\u001b[1mLinearAlgebra.UpperTriangular\u001b[22m, \u001b[90mB\u001b[39m::\u001b[1mLinearAlgebra.Bidiagonal\u001b[22m)\n",
       "\u001b[90m     @\u001b[39m \u001b[32mLinearAlgebra\u001b[39m \u001b[90m~/.julia/juliaup/julia-1.9.3+0.x64.linux.gnu/share/julia/stdlib/v1.9/LinearAlgebra/src/\u001b[39m\u001b[90m\u001b[4mspecial.jl:91\u001b[24m\u001b[39m\n",
       "  [51] +(\u001b[90mA\u001b[39m::\u001b[1mSparseArrays.AbstractSparseMatrixCSC\u001b[22m, \u001b[90mB\u001b[39m::\u001b[1mSparseArrays.AbstractSparseMatrixCSC\u001b[22m)\n",
       "\u001b[90m     @\u001b[39m \u001b[33mSparseArrays\u001b[39m \u001b[90m~/.julia/juliaup/julia-1.9.3+0.x64.linux.gnu/share/julia/stdlib/v1.9/SparseArrays/src/\u001b[39m\u001b[90m\u001b[4msparsematrix.jl:2065\u001b[24m\u001b[39m\n",
       "  [52] +(\u001b[90mx\u001b[39m::\u001b[1mSparseArrays.AbstractSparseVector\u001b[22m, \u001b[90my\u001b[39m::\u001b[1mSparseArrays.AbstractSparseVector\u001b[22m)\n",
       "\u001b[90m     @\u001b[39m \u001b[33mSparseArrays\u001b[39m \u001b[90m~/.julia/juliaup/julia-1.9.3+0.x64.linux.gnu/share/julia/stdlib/v1.9/SparseArrays/src/\u001b[39m\u001b[90m\u001b[4msparsevector.jl:1516\u001b[24m\u001b[39m\n",
       "  [53] +(\u001b[90mA\u001b[39m::\u001b[1mSparseArrays.AbstractSparseMatrixCSC\u001b[22m, \u001b[90mB\u001b[39m::\u001b[1mArray\u001b[22m)\n",
       "\u001b[90m     @\u001b[39m \u001b[33mSparseArrays\u001b[39m \u001b[90m~/.julia/juliaup/julia-1.9.3+0.x64.linux.gnu/share/julia/stdlib/v1.9/SparseArrays/src/\u001b[39m\u001b[90m\u001b[4msparsematrix.jl:2068\u001b[24m\u001b[39m\n",
       "  [54] +(\u001b[90mA\u001b[39m::\u001b[1mSparseArrays.AbstractSparseMatrixCSC\u001b[22m\u001b[0m{Tv, Ti}, \u001b[90mJ\u001b[39m::\u001b[1mLinearAlgebra.UniformScaling\u001b[22m\u001b[0m{T}) where {T<:Number, Tv, Ti}\n",
       "\u001b[90m     @\u001b[39m \u001b[33mSparseArrays\u001b[39m \u001b[90m~/.julia/juliaup/julia-1.9.3+0.x64.linux.gnu/share/julia/stdlib/v1.9/SparseArrays/src/\u001b[39m\u001b[90m\u001b[4msparsematrix.jl:4098\u001b[24m\u001b[39m\n",
       "  [55] +(\u001b[90mr1\u001b[39m::\u001b[1mOrdinalRange\u001b[22m, \u001b[90mr2\u001b[39m::\u001b[1mOrdinalRange\u001b[22m)\n",
       "\u001b[90m     @\u001b[39m \u001b[90m\u001b[4mrange.jl:1441\u001b[24m\u001b[39m\n",
       "  [56] +(\u001b[90mx\u001b[39m::\u001b[1mT\u001b[22m, \u001b[90my\u001b[39m::\u001b[1mInteger\u001b[22m) where T<:AbstractChar\n",
       "\u001b[90m     @\u001b[39m \u001b[90m\u001b[4mchar.jl:237\u001b[24m\u001b[39m\n",
       "  [57] +(\u001b[90mA\u001b[39m::\u001b[1mLinearAlgebra.SymTridiagonal\u001b[22m, \u001b[90mB\u001b[39m::\u001b[1mLinearAlgebra.SymTridiagonal\u001b[22m)\n",
       "\u001b[90m     @\u001b[39m \u001b[32mLinearAlgebra\u001b[39m \u001b[90m~/.julia/juliaup/julia-1.9.3+0.x64.linux.gnu/share/julia/stdlib/v1.9/LinearAlgebra/src/\u001b[39m\u001b[90m\u001b[4mtridiag.jl:207\u001b[24m\u001b[39m\n",
       "  [58] +(\u001b[90mA\u001b[39m::\u001b[1mLinearAlgebra.SymTridiagonal\u001b[22m, \u001b[90mB\u001b[39m::\u001b[1mLinearAlgebra.Symmetric\u001b[22m)\n",
       "\u001b[90m     @\u001b[39m \u001b[32mLinearAlgebra\u001b[39m \u001b[90m~/.julia/juliaup/julia-1.9.3+0.x64.linux.gnu/share/julia/stdlib/v1.9/LinearAlgebra/src/\u001b[39m\u001b[90m\u001b[4msymmetric.jl:485\u001b[24m\u001b[39m\n",
       "  [59] +(\u001b[90mA\u001b[39m::\u001b[1mLinearAlgebra.SymTridiagonal\u001b[22m\u001b[0m{var\"#s970\", V} where {var\"#s970\"<:Real, V<:AbstractVector{var\"#s970\"}}, \u001b[90mB\u001b[39m::\u001b[1mLinearAlgebra.Hermitian\u001b[22m)\n",
       "\u001b[90m     @\u001b[39m \u001b[32mLinearAlgebra\u001b[39m \u001b[90m~/.julia/juliaup/julia-1.9.3+0.x64.linux.gnu/share/julia/stdlib/v1.9/LinearAlgebra/src/\u001b[39m\u001b[90m\u001b[4msymmetric.jl:487\u001b[24m\u001b[39m\n",
       "  [60] +(\u001b[90mx\u001b[39m::\u001b[1mLinearAlgebra.SymTridiagonal\u001b[22m, \u001b[90mH\u001b[39m::\u001b[1mLinearAlgebra.UpperHessenberg\u001b[22m)\n",
       "\u001b[90m     @\u001b[39m \u001b[32mLinearAlgebra\u001b[39m \u001b[90m~/.julia/juliaup/julia-1.9.3+0.x64.linux.gnu/share/julia/stdlib/v1.9/LinearAlgebra/src/\u001b[39m\u001b[90m\u001b[4mhessenberg.jl:112\u001b[24m\u001b[39m\n",
       "  [61] +(\u001b[90mA\u001b[39m::\u001b[1mLinearAlgebra.SymTridiagonal\u001b[22m, \u001b[90mB\u001b[39m::\u001b[1mLinearAlgebra.Diagonal\u001b[22m)\n",
       "\u001b[90m     @\u001b[39m \u001b[32mLinearAlgebra\u001b[39m \u001b[90m~/.julia/juliaup/julia-1.9.3+0.x64.linux.gnu/share/julia/stdlib/v1.9/LinearAlgebra/src/\u001b[39m\u001b[90m\u001b[4mspecial.jl:150\u001b[24m\u001b[39m\n",
       "  [62] +(\u001b[90mA\u001b[39m::\u001b[1mLinearAlgebra.SymTridiagonal\u001b[22m, \u001b[90mB\u001b[39m::\u001b[1mLinearAlgebra.Tridiagonal\u001b[22m)\n",
       "\u001b[90m     @\u001b[39m \u001b[32mLinearAlgebra\u001b[39m \u001b[90m~/.julia/juliaup/julia-1.9.3+0.x64.linux.gnu/share/julia/stdlib/v1.9/LinearAlgebra/src/\u001b[39m\u001b[90m\u001b[4mspecial.jl:164\u001b[24m\u001b[39m\n",
       "  [63] +(\u001b[90mA\u001b[39m::\u001b[1mLinearAlgebra.SymTridiagonal\u001b[22m, \u001b[90mB\u001b[39m::\u001b[1mLinearAlgebra.Bidiagonal\u001b[22m)\n",
       "\u001b[90m     @\u001b[39m \u001b[32mLinearAlgebra\u001b[39m \u001b[90m~/.julia/juliaup/julia-1.9.3+0.x64.linux.gnu/share/julia/stdlib/v1.9/LinearAlgebra/src/\u001b[39m\u001b[90m\u001b[4mspecial.jl:218\u001b[24m\u001b[39m\n",
       "  [64] +(\u001b[90mA\u001b[39m::\u001b[1mLinearAlgebra.SymTridiagonal\u001b[22m\u001b[0m{var\"#s972\", V} where {var\"#s972\"<:Number, V<:AbstractVector{var\"#s972\"}}, \u001b[90mB\u001b[39m::\u001b[1mLinearAlgebra.UniformScaling\u001b[22m)\n",
       "\u001b[90m     @\u001b[39m \u001b[32mLinearAlgebra\u001b[39m \u001b[90m~/.julia/juliaup/julia-1.9.3+0.x64.linux.gnu/share/julia/stdlib/v1.9/LinearAlgebra/src/\u001b[39m\u001b[90m\u001b[4mspecial.jl:236\u001b[24m\u001b[39m\n",
       "  [65] +(\u001b[90my\u001b[39m::\u001b[1mAbstractFloat\u001b[22m, \u001b[90mx\u001b[39m::\u001b[1mBool\u001b[22m)\n",
       "\u001b[90m     @\u001b[39m \u001b[90m\u001b[4mbool.jl:176\u001b[24m\u001b[39m\n",
       "  [66] +(\u001b[90mA\u001b[39m::\u001b[1mLinearAlgebra.Symmetric\u001b[22m, \u001b[90mB\u001b[39m::\u001b[1mLinearAlgebra.Symmetric\u001b[22m)\n",
       "\u001b[90m     @\u001b[39m \u001b[32mLinearAlgebra\u001b[39m \u001b[90m~/.julia/juliaup/julia-1.9.3+0.x64.linux.gnu/share/julia/stdlib/v1.9/LinearAlgebra/src/\u001b[39m\u001b[90m\u001b[4msymmetric.jl:469\u001b[24m\u001b[39m\n",
       "  [67] +(\u001b[90mA\u001b[39m::\u001b[1mLinearAlgebra.Symmetric\u001b[22m, \u001b[90mB\u001b[39m::\u001b[1mLinearAlgebra.SymTridiagonal\u001b[22m)\n",
       "\u001b[90m     @\u001b[39m \u001b[32mLinearAlgebra\u001b[39m \u001b[90m~/.julia/juliaup/julia-1.9.3+0.x64.linux.gnu/share/julia/stdlib/v1.9/LinearAlgebra/src/\u001b[39m\u001b[90m\u001b[4msymmetric.jl:486\u001b[24m\u001b[39m\n",
       "  [68] +(\u001b[90mS\u001b[39m::\u001b[1mLinearAlgebra.Symmetric\u001b[22m, \u001b[90mD\u001b[39m::\u001b[1mLinearAlgebra.Diagonal\u001b[22m)\n",
       "\u001b[90m     @\u001b[39m \u001b[32mLinearAlgebra\u001b[39m \u001b[90m~/.julia/juliaup/julia-1.9.3+0.x64.linux.gnu/share/julia/stdlib/v1.9/LinearAlgebra/src/\u001b[39m\u001b[90m\u001b[4mdiagonal.jl:191\u001b[24m\u001b[39m\n",
       "  [69] +(\u001b[90mA\u001b[39m::\u001b[1mLinearAlgebra.Symmetric\u001b[22m\u001b[0m{<:Any, <:SparseArrays.AbstractSparseMatrix}, \u001b[90mB\u001b[39m::\u001b[1mSparseArrays.AbstractSparseMatrix\u001b[22m)\n",
       "\u001b[90m     @\u001b[39m \u001b[33mSparseArrays\u001b[39m \u001b[90m~/.julia/juliaup/julia-1.9.3+0.x64.linux.gnu/share/julia/stdlib/v1.9/SparseArrays/src/\u001b[39m\u001b[90m\u001b[4mlinalg.jl:15\u001b[24m\u001b[39m\n",
       "  [70] +(\u001b[90mA\u001b[39m::\u001b[1mLinearAlgebra.Symmetric\u001b[22m, \u001b[90mB\u001b[39m::\u001b[1mSparseArrays.AbstractSparseMatrix\u001b[22m)\n",
       "\u001b[90m     @\u001b[39m \u001b[33mSparseArrays\u001b[39m \u001b[90m~/.julia/juliaup/julia-1.9.3+0.x64.linux.gnu/share/julia/stdlib/v1.9/SparseArrays/src/\u001b[39m\u001b[90m\u001b[4mlinalg.jl:18\u001b[24m\u001b[39m\n",
       "  [71] +(\u001b[90mA\u001b[39m::\u001b[1mLinearAlgebra.Symmetric\u001b[22m\u001b[0m{<:Real, <:SparseArrays.AbstractSparseMatrix}, \u001b[90mB\u001b[39m::\u001b[1mLinearAlgebra.Hermitian\u001b[22m\u001b[0m{<:Any, <:SparseArrays.AbstractSparseMatrix})\n",
       "\u001b[90m     @\u001b[39m \u001b[33mSparseArrays\u001b[39m \u001b[90m~/.julia/juliaup/julia-1.9.3+0.x64.linux.gnu/share/julia/stdlib/v1.9/SparseArrays/src/\u001b[39m\u001b[90m\u001b[4mlinalg.jl:25\u001b[24m\u001b[39m\n",
       "  [72] +(\u001b[90mA\u001b[39m::\u001b[1mLinearAlgebra.Symmetric\u001b[22m\u001b[0m{var\"#s971\", S} where {var\"#s971\"<:Real, S<:(AbstractMatrix{<:var\"#s971\"})}, \u001b[90mB\u001b[39m::\u001b[1mLinearAlgebra.Hermitian\u001b[22m)\n",
       "\u001b[90m     @\u001b[39m \u001b[32mLinearAlgebra\u001b[39m \u001b[90m~/.julia/juliaup/julia-1.9.3+0.x64.linux.gnu/share/julia/stdlib/v1.9/LinearAlgebra/src/\u001b[39m\u001b[90m\u001b[4msymmetric.jl:484\u001b[24m\u001b[39m\n",
       "  [73] +(\u001b[90mA\u001b[39m::\u001b[1mLinearAlgebra.Symmetric\u001b[22m\u001b[0m{<:Any, <:SparseArrays.AbstractSparseMatrix}, \u001b[90mB\u001b[39m::\u001b[1mLinearAlgebra.Hermitian\u001b[22m\u001b[0m{<:Any, <:SparseArrays.AbstractSparseMatrix})\n",
       "\u001b[90m     @\u001b[39m \u001b[33mSparseArrays\u001b[39m \u001b[90m~/.julia/juliaup/julia-1.9.3+0.x64.linux.gnu/share/julia/stdlib/v1.9/SparseArrays/src/\u001b[39m\u001b[90m\u001b[4mlinalg.jl:23\u001b[24m\u001b[39m\n",
       "  [74] +(\u001b[90mx\u001b[39m::\u001b[1mDates.Instant\u001b[22m)\n",
       "\u001b[90m     @\u001b[39m \u001b[36mDates\u001b[39m \u001b[90m~/.julia/juliaup/julia-1.9.3+0.x64.linux.gnu/share/julia/stdlib/v1.9/Dates/src/\u001b[39m\u001b[90m\u001b[4marithmetic.jl:4\u001b[24m\u001b[39m\n",
       "  [75] +(\u001b[90mA\u001b[39m::\u001b[1mLinearAlgebra.Hermitian\u001b[22m, \u001b[90mB\u001b[39m::\u001b[1mLinearAlgebra.Hermitian\u001b[22m)\n",
       "\u001b[90m     @\u001b[39m \u001b[32mLinearAlgebra\u001b[39m \u001b[90m~/.julia/juliaup/julia-1.9.3+0.x64.linux.gnu/share/julia/stdlib/v1.9/LinearAlgebra/src/\u001b[39m\u001b[90m\u001b[4msymmetric.jl:469\u001b[24m\u001b[39m\n",
       "  [76] +(\u001b[90mA\u001b[39m::\u001b[1mLinearAlgebra.Hermitian\u001b[22m, \u001b[90mB\u001b[39m::\u001b[1mLinearAlgebra.SymTridiagonal\u001b[22m\u001b[0m{var\"#s969\", V} where {var\"#s969\"<:Real, V<:AbstractVector{var\"#s969\"}})\n",
       "\u001b[90m     @\u001b[39m \u001b[32mLinearAlgebra\u001b[39m \u001b[90m~/.julia/juliaup/julia-1.9.3+0.x64.linux.gnu/share/julia/stdlib/v1.9/LinearAlgebra/src/\u001b[39m\u001b[90m\u001b[4msymmetric.jl:488\u001b[24m\u001b[39m\n",
       "  [77] +(\u001b[90mH\u001b[39m::\u001b[1mLinearAlgebra.Hermitian\u001b[22m, \u001b[90mD\u001b[39m::\u001b[1mLinearAlgebra.Diagonal\u001b[22m\u001b[0m{var\"#s972\", V} where {var\"#s972\"<:Real, V<:AbstractVector{var\"#s972\"}})\n",
       "\u001b[90m     @\u001b[39m \u001b[32mLinearAlgebra\u001b[39m \u001b[90m~/.julia/juliaup/julia-1.9.3+0.x64.linux.gnu/share/julia/stdlib/v1.9/LinearAlgebra/src/\u001b[39m\u001b[90m\u001b[4mdiagonal.jl:197\u001b[24m\u001b[39m\n",
       "  [78] +(\u001b[90mA\u001b[39m::\u001b[1mLinearAlgebra.Hermitian\u001b[22m, \u001b[90mJ\u001b[39m::\u001b[1mLinearAlgebra.UniformScaling\u001b[22m\u001b[0m{<:Complex})\n",
       "\u001b[90m     @\u001b[39m \u001b[32mLinearAlgebra\u001b[39m \u001b[90m~/.julia/juliaup/julia-1.9.3+0.x64.linux.gnu/share/julia/stdlib/v1.9/LinearAlgebra/src/\u001b[39m\u001b[90m\u001b[4muniformscaling.jl:195\u001b[24m\u001b[39m\n",
       "  [79] +(\u001b[90mA\u001b[39m::\u001b[1mLinearAlgebra.Hermitian\u001b[22m\u001b[0m{<:Any, <:SparseArrays.AbstractSparseMatrix}, \u001b[90mB\u001b[39m::\u001b[1mSparseArrays.AbstractSparseMatrix\u001b[22m)\n",
       "\u001b[90m     @\u001b[39m \u001b[33mSparseArrays\u001b[39m \u001b[90m~/.julia/juliaup/julia-1.9.3+0.x64.linux.gnu/share/julia/stdlib/v1.9/SparseArrays/src/\u001b[39m\u001b[90m\u001b[4mlinalg.jl:15\u001b[24m\u001b[39m\n",
       "  [80] +(\u001b[90mA\u001b[39m::\u001b[1mLinearAlgebra.Hermitian\u001b[22m, \u001b[90mB\u001b[39m::\u001b[1mSparseArrays.AbstractSparseMatrix\u001b[22m)\n",
       "\u001b[90m     @\u001b[39m \u001b[33mSparseArrays\u001b[39m \u001b[90m~/.julia/juliaup/julia-1.9.3+0.x64.linux.gnu/share/julia/stdlib/v1.9/SparseArrays/src/\u001b[39m\u001b[90m\u001b[4mlinalg.jl:18\u001b[24m\u001b[39m\n",
       "  [81] +(\u001b[90mA\u001b[39m::\u001b[1mLinearAlgebra.Hermitian\u001b[22m\u001b[0m{<:Any, <:SparseArrays.AbstractSparseMatrix}, \u001b[90mB\u001b[39m::\u001b[1mLinearAlgebra.Symmetric\u001b[22m\u001b[0m{<:Real, <:SparseArrays.AbstractSparseMatrix})\n",
       "\u001b[90m     @\u001b[39m \u001b[33mSparseArrays\u001b[39m \u001b[90m~/.julia/juliaup/julia-1.9.3+0.x64.linux.gnu/share/julia/stdlib/v1.9/SparseArrays/src/\u001b[39m\u001b[90m\u001b[4mlinalg.jl:26\u001b[24m\u001b[39m\n",
       "  [82] +(\u001b[90mA\u001b[39m::\u001b[1mLinearAlgebra.Hermitian\u001b[22m, \u001b[90mB\u001b[39m::\u001b[1mLinearAlgebra.Symmetric\u001b[22m\u001b[0m{var\"#s972\", S} where {var\"#s972\"<:Real, S<:(AbstractMatrix{<:var\"#s972\"})})\n",
       "\u001b[90m     @\u001b[39m \u001b[32mLinearAlgebra\u001b[39m \u001b[90m~/.julia/juliaup/julia-1.9.3+0.x64.linux.gnu/share/julia/stdlib/v1.9/LinearAlgebra/src/\u001b[39m\u001b[90m\u001b[4msymmetric.jl:483\u001b[24m\u001b[39m\n",
       "  [83] +(\u001b[90mA\u001b[39m::\u001b[1mLinearAlgebra.Hermitian\u001b[22m\u001b[0m{<:Any, <:SparseArrays.AbstractSparseMatrix}, \u001b[90mB\u001b[39m::\u001b[1mLinearAlgebra.Symmetric\u001b[22m\u001b[0m{<:Any, <:SparseArrays.AbstractSparseMatrix})\n",
       "\u001b[90m     @\u001b[39m \u001b[33mSparseArrays\u001b[39m \u001b[90m~/.julia/juliaup/julia-1.9.3+0.x64.linux.gnu/share/julia/stdlib/v1.9/SparseArrays/src/\u001b[39m\u001b[90m\u001b[4mlinalg.jl:24\u001b[24m\u001b[39m\n",
       "  [84] +(\u001b[90mA\u001b[39m::\u001b[1mLinearAlgebra.UpperHessenberg\u001b[22m, \u001b[90mB\u001b[39m::\u001b[1mLinearAlgebra.UpperHessenberg\u001b[22m)\n",
       "\u001b[90m     @\u001b[39m \u001b[32mLinearAlgebra\u001b[39m \u001b[90m~/.julia/juliaup/julia-1.9.3+0.x64.linux.gnu/share/julia/stdlib/v1.9/LinearAlgebra/src/\u001b[39m\u001b[90m\u001b[4mhessenberg.jl:104\u001b[24m\u001b[39m\n",
       "  [85] +(\u001b[90mH\u001b[39m::\u001b[1mLinearAlgebra.UpperHessenberg\u001b[22m, \u001b[90mx\u001b[39m::\u001b[1mLinearAlgebra.UniformScaling\u001b[22m)\n",
       "\u001b[90m     @\u001b[39m \u001b[32mLinearAlgebra\u001b[39m \u001b[90m~/.julia/juliaup/julia-1.9.3+0.x64.linux.gnu/share/julia/stdlib/v1.9/LinearAlgebra/src/\u001b[39m\u001b[90m\u001b[4mhessenberg.jl:111\u001b[24m\u001b[39m\n",
       "  [86] +(\u001b[90mH\u001b[39m::\u001b[1mLinearAlgebra.UpperHessenberg\u001b[22m, \u001b[90mx\u001b[39m::\u001b[1mLinearAlgebra.Diagonal\u001b[22m)\n",
       "\u001b[90m     @\u001b[39m \u001b[32mLinearAlgebra\u001b[39m \u001b[90m~/.julia/juliaup/julia-1.9.3+0.x64.linux.gnu/share/julia/stdlib/v1.9/LinearAlgebra/src/\u001b[39m\u001b[90m\u001b[4mhessenberg.jl:111\u001b[24m\u001b[39m\n",
       "  [87] +(\u001b[90mH\u001b[39m::\u001b[1mLinearAlgebra.UpperHessenberg\u001b[22m, \u001b[90mx\u001b[39m::\u001b[1mLinearAlgebra.Bidiagonal\u001b[22m)\n",
       "\u001b[90m     @\u001b[39m \u001b[32mLinearAlgebra\u001b[39m \u001b[90m~/.julia/juliaup/julia-1.9.3+0.x64.linux.gnu/share/julia/stdlib/v1.9/LinearAlgebra/src/\u001b[39m\u001b[90m\u001b[4mhessenberg.jl:111\u001b[24m\u001b[39m\n",
       "  [88] +(\u001b[90mH\u001b[39m::\u001b[1mLinearAlgebra.UpperHessenberg\u001b[22m, \u001b[90mx\u001b[39m::\u001b[1mLinearAlgebra.Tridiagonal\u001b[22m)\n",
       "\u001b[90m     @\u001b[39m \u001b[32mLinearAlgebra\u001b[39m \u001b[90m~/.julia/juliaup/julia-1.9.3+0.x64.linux.gnu/share/julia/stdlib/v1.9/LinearAlgebra/src/\u001b[39m\u001b[90m\u001b[4mhessenberg.jl:111\u001b[24m\u001b[39m\n",
       "  [89] +(\u001b[90mH\u001b[39m::\u001b[1mLinearAlgebra.UpperHessenberg\u001b[22m, \u001b[90mx\u001b[39m::\u001b[1mLinearAlgebra.SymTridiagonal\u001b[22m)\n",
       "\u001b[90m     @\u001b[39m \u001b[32mLinearAlgebra\u001b[39m \u001b[90m~/.julia/juliaup/julia-1.9.3+0.x64.linux.gnu/share/julia/stdlib/v1.9/LinearAlgebra/src/\u001b[39m\u001b[90m\u001b[4mhessenberg.jl:111\u001b[24m\u001b[39m\n",
       "  [90] +(\u001b[90mH\u001b[39m::\u001b[1mLinearAlgebra.UpperHessenberg\u001b[22m, \u001b[90mx\u001b[39m::\u001b[1mLinearAlgebra.UpperTriangular\u001b[22m)\n",
       "\u001b[90m     @\u001b[39m \u001b[32mLinearAlgebra\u001b[39m \u001b[90m~/.julia/juliaup/julia-1.9.3+0.x64.linux.gnu/share/julia/stdlib/v1.9/LinearAlgebra/src/\u001b[39m\u001b[90m\u001b[4mhessenberg.jl:111\u001b[24m\u001b[39m\n",
       "  [91] +(\u001b[90mH\u001b[39m::\u001b[1mLinearAlgebra.UpperHessenberg\u001b[22m, \u001b[90mx\u001b[39m::\u001b[1mLinearAlgebra.UnitUpperTriangular\u001b[22m)\n",
       "\u001b[90m     @\u001b[39m \u001b[32mLinearAlgebra\u001b[39m \u001b[90m~/.julia/juliaup/julia-1.9.3+0.x64.linux.gnu/share/julia/stdlib/v1.9/LinearAlgebra/src/\u001b[39m\u001b[90m\u001b[4mhessenberg.jl:111\u001b[24m\u001b[39m\n",
       "  [92] +(\u001b[90mz\u001b[39m::\u001b[1mComplex\u001b[22m, \u001b[90mw\u001b[39m::\u001b[1mComplex\u001b[22m)\n",
       "\u001b[90m     @\u001b[39m \u001b[90m\u001b[4mcomplex.jl:291\u001b[24m\u001b[39m\n",
       "  [93] +(\u001b[90mx\u001b[39m::\u001b[1mAbstractIrrational\u001b[22m, \u001b[90my\u001b[39m::\u001b[1mAbstractIrrational\u001b[22m)\n",
       "\u001b[90m     @\u001b[39m \u001b[90m\u001b[4mirrationals.jl:161\u001b[24m\u001b[39m\n",
       "  [94] +(\u001b[90mindex1\u001b[39m::\u001b[1mCartesianIndex\u001b[22m\u001b[0m{N}, \u001b[90mindex2\u001b[39m::\u001b[1mCartesianIndex\u001b[22m\u001b[0m{N}) where N\n",
       "\u001b[90m     @\u001b[39m \u001b[90mBase.IteratorsMD\u001b[39m \u001b[90m\u001b[4mmultidimensional.jl:111\u001b[24m\u001b[39m\n",
       "  [95] +(\u001b[90mA\u001b[39m::\u001b[1mBitArray\u001b[22m, \u001b[90mB\u001b[39m::\u001b[1mBitArray\u001b[22m)\n",
       "\u001b[90m     @\u001b[39m \u001b[90m\u001b[4mbitarray.jl:1184\u001b[24m\u001b[39m\n",
       "  [96] +(\u001b[90mx\u001b[39m::\u001b[1mPtr\u001b[22m, \u001b[90my\u001b[39m::\u001b[1mInteger\u001b[22m)\n",
       "\u001b[90m     @\u001b[39m \u001b[90m\u001b[4mpointer.jl:167\u001b[24m\u001b[39m\n",
       "  [97] +(\u001b[90mDa\u001b[39m::\u001b[1mLinearAlgebra.Diagonal\u001b[22m, \u001b[90mDb\u001b[39m::\u001b[1mLinearAlgebra.Diagonal\u001b[22m)\n",
       "\u001b[90m     @\u001b[39m \u001b[32mLinearAlgebra\u001b[39m \u001b[90m~/.julia/juliaup/julia-1.9.3+0.x64.linux.gnu/share/julia/stdlib/v1.9/LinearAlgebra/src/\u001b[39m\u001b[90m\u001b[4mdiagonal.jl:184\u001b[24m\u001b[39m\n",
       "  [98] +(\u001b[90mD\u001b[39m::\u001b[1mLinearAlgebra.Diagonal\u001b[22m, \u001b[90mS\u001b[39m::\u001b[1mLinearAlgebra.Symmetric\u001b[22m)\n",
       "\u001b[90m     @\u001b[39m \u001b[32mLinearAlgebra\u001b[39m \u001b[90m~/.julia/juliaup/julia-1.9.3+0.x64.linux.gnu/share/julia/stdlib/v1.9/LinearAlgebra/src/\u001b[39m\u001b[90m\u001b[4mdiagonal.jl:188\u001b[24m\u001b[39m\n",
       "  [99] +(\u001b[90mD\u001b[39m::\u001b[1mLinearAlgebra.Diagonal\u001b[22m\u001b[0m{var\"#s972\", V} where {var\"#s972\"<:Real, V<:AbstractVector{var\"#s972\"}}, \u001b[90mH\u001b[39m::\u001b[1mLinearAlgebra.Hermitian\u001b[22m)\n",
       "\u001b[90m     @\u001b[39m \u001b[32mLinearAlgebra\u001b[39m \u001b[90m~/.julia/juliaup/julia-1.9.3+0.x64.linux.gnu/share/julia/stdlib/v1.9/LinearAlgebra/src/\u001b[39m\u001b[90m\u001b[4mdiagonal.jl:194\u001b[24m\u001b[39m\n",
       " [100] +(\u001b[90mx\u001b[39m::\u001b[1mLinearAlgebra.Diagonal\u001b[22m, \u001b[90mH\u001b[39m::\u001b[1mLinearAlgebra.UpperHessenberg\u001b[22m)\n",
       "\u001b[90m     @\u001b[39m \u001b[32mLinearAlgebra\u001b[39m \u001b[90m~/.julia/juliaup/julia-1.9.3+0.x64.linux.gnu/share/julia/stdlib/v1.9/LinearAlgebra/src/\u001b[39m\u001b[90m\u001b[4mhessenberg.jl:112\u001b[24m\u001b[39m\n",
       " [101] +(\u001b[90mA\u001b[39m::\u001b[1mLinearAlgebra.Diagonal\u001b[22m, \u001b[90mB\u001b[39m::\u001b[1mLinearAlgebra.Bidiagonal\u001b[22m)\n",
       "\u001b[90m     @\u001b[39m \u001b[32mLinearAlgebra\u001b[39m \u001b[90m~/.julia/juliaup/julia-1.9.3+0.x64.linux.gnu/share/julia/stdlib/v1.9/LinearAlgebra/src/\u001b[39m\u001b[90m\u001b[4mspecial.jl:130\u001b[24m\u001b[39m\n",
       " [102] +(\u001b[90mA\u001b[39m::\u001b[1mLinearAlgebra.Diagonal\u001b[22m, \u001b[90mB\u001b[39m::\u001b[1mLinearAlgebra.SymTridiagonal\u001b[22m)\n",
       "\u001b[90m     @\u001b[39m \u001b[32mLinearAlgebra\u001b[39m \u001b[90m~/.julia/juliaup/julia-1.9.3+0.x64.linux.gnu/share/julia/stdlib/v1.9/LinearAlgebra/src/\u001b[39m\u001b[90m\u001b[4mspecial.jl:140\u001b[24m\u001b[39m\n",
       " [103] +(\u001b[90mA\u001b[39m::\u001b[1mLinearAlgebra.Diagonal\u001b[22m, \u001b[90mB\u001b[39m::\u001b[1mLinearAlgebra.Tridiagonal\u001b[22m)\n",
       "\u001b[90m     @\u001b[39m \u001b[32mLinearAlgebra\u001b[39m \u001b[90m~/.julia/juliaup/julia-1.9.3+0.x64.linux.gnu/share/julia/stdlib/v1.9/LinearAlgebra/src/\u001b[39m\u001b[90m\u001b[4mspecial.jl:168\u001b[24m\u001b[39m\n",
       " [104] +(\u001b[90mA\u001b[39m::\u001b[1mLinearAlgebra.Diagonal\u001b[22m\u001b[0m{var\"#s972\", V} where {var\"#s972\"<:Number, V<:AbstractVector{var\"#s972\"}}, \u001b[90mB\u001b[39m::\u001b[1mLinearAlgebra.UniformScaling\u001b[22m)\n",
       "\u001b[90m     @\u001b[39m \u001b[32mLinearAlgebra\u001b[39m \u001b[90m~/.julia/juliaup/julia-1.9.3+0.x64.linux.gnu/share/julia/stdlib/v1.9/LinearAlgebra/src/\u001b[39m\u001b[90m\u001b[4mspecial.jl:246\u001b[24m\u001b[39m\n",
       " [105] +(\u001b[90mr1\u001b[39m::\u001b[1mLinRange\u001b[22m\u001b[0m{T}, \u001b[90mr2\u001b[39m::\u001b[1mLinRange\u001b[22m\u001b[0m{T}) where T\n",
       "\u001b[90m     @\u001b[39m \u001b[90m\u001b[4mrange.jl:1448\u001b[24m\u001b[39m\n",
       " [106] +(\u001b[90mA\u001b[39m::\u001b[1mLinearAlgebra.LowerTriangular\u001b[22m, \u001b[90mB\u001b[39m::\u001b[1mLinearAlgebra.LowerTriangular\u001b[22m)\n",
       "\u001b[90m     @\u001b[39m \u001b[32mLinearAlgebra\u001b[39m \u001b[90m~/.julia/juliaup/julia-1.9.3+0.x64.linux.gnu/share/julia/stdlib/v1.9/LinearAlgebra/src/\u001b[39m\u001b[90m\u001b[4mtriangular.jl:643\u001b[24m\u001b[39m\n",
       " [107] +(\u001b[90mA\u001b[39m::\u001b[1mLinearAlgebra.LowerTriangular\u001b[22m, \u001b[90mB\u001b[39m::\u001b[1mLinearAlgebra.UnitLowerTriangular\u001b[22m)\n",
       "\u001b[90m     @\u001b[39m \u001b[32mLinearAlgebra\u001b[39m \u001b[90m~/.julia/juliaup/julia-1.9.3+0.x64.linux.gnu/share/julia/stdlib/v1.9/LinearAlgebra/src/\u001b[39m\u001b[90m\u001b[4mtriangular.jl:645\u001b[24m\u001b[39m\n",
       " [108] +(\u001b[90mA\u001b[39m::\u001b[1mLinearAlgebra.AbstractTriangular\u001b[22m, \u001b[90mB\u001b[39m::\u001b[1mLinearAlgebra.AbstractTriangular\u001b[22m)\n",
       "\u001b[90m     @\u001b[39m \u001b[32mLinearAlgebra\u001b[39m \u001b[90m~/.julia/juliaup/julia-1.9.3+0.x64.linux.gnu/share/julia/stdlib/v1.9/LinearAlgebra/src/\u001b[39m\u001b[90m\u001b[4mtriangular.jl:650\u001b[24m\u001b[39m\n",
       " [109] +(\u001b[90mA\u001b[39m::\u001b[1mLinearAlgebra.LowerTriangular\u001b[22m, \u001b[90mB\u001b[39m::\u001b[1mLinearAlgebra.Bidiagonal\u001b[22m)\n",
       "\u001b[90m     @\u001b[39m \u001b[32mLinearAlgebra\u001b[39m \u001b[90m~/.julia/juliaup/julia-1.9.3+0.x64.linux.gnu/share/julia/stdlib/v1.9/LinearAlgebra/src/\u001b[39m\u001b[90m\u001b[4mspecial.jl:91\u001b[24m\u001b[39m\n",
       " [110] +(\u001b[90mJ\u001b[39m::\u001b[1mLinearAlgebra.UniformScaling\u001b[22m)\n",
       "\u001b[90m     @\u001b[39m \u001b[32mLinearAlgebra\u001b[39m \u001b[90m~/.julia/juliaup/julia-1.9.3+0.x64.linux.gnu/share/julia/stdlib/v1.9/LinearAlgebra/src/\u001b[39m\u001b[90m\u001b[4muniformscaling.jl:149\u001b[24m\u001b[39m\n",
       " [111] +(\u001b[90mJ\u001b[39m::\u001b[1mLinearAlgebra.UniformScaling\u001b[22m, \u001b[90mx\u001b[39m::\u001b[1mNumber\u001b[22m)\n",
       "\u001b[90m     @\u001b[39m \u001b[32mLinearAlgebra\u001b[39m \u001b[90m~/.julia/juliaup/julia-1.9.3+0.x64.linux.gnu/share/julia/stdlib/v1.9/LinearAlgebra/src/\u001b[39m\u001b[90m\u001b[4muniformscaling.jl:144\u001b[24m\u001b[39m\n",
       " [112] +(\u001b[90mJ1\u001b[39m::\u001b[1mLinearAlgebra.UniformScaling\u001b[22m, \u001b[90mJ2\u001b[39m::\u001b[1mLinearAlgebra.UniformScaling\u001b[22m)\n",
       "\u001b[90m     @\u001b[39m \u001b[32mLinearAlgebra\u001b[39m \u001b[90m~/.julia/juliaup/julia-1.9.3+0.x64.linux.gnu/share/julia/stdlib/v1.9/LinearAlgebra/src/\u001b[39m\u001b[90m\u001b[4muniformscaling.jl:150\u001b[24m\u001b[39m\n",
       " [113] +(\u001b[90mJ\u001b[39m::\u001b[1mLinearAlgebra.UniformScaling\u001b[22m, \u001b[90mB\u001b[39m::\u001b[1mBitMatrix\u001b[22m)\n",
       "\u001b[90m     @\u001b[39m \u001b[32mLinearAlgebra\u001b[39m \u001b[90m~/.julia/juliaup/julia-1.9.3+0.x64.linux.gnu/share/julia/stdlib/v1.9/LinearAlgebra/src/\u001b[39m\u001b[90m\u001b[4muniformscaling.jl:152\u001b[24m\u001b[39m\n",
       " [114] +(\u001b[90mx\u001b[39m::\u001b[1mLinearAlgebra.UniformScaling\u001b[22m, \u001b[90mH\u001b[39m::\u001b[1mLinearAlgebra.UpperHessenberg\u001b[22m)\n",
       "\u001b[90m     @\u001b[39m \u001b[32mLinearAlgebra\u001b[39m \u001b[90m~/.julia/juliaup/julia-1.9.3+0.x64.linux.gnu/share/julia/stdlib/v1.9/LinearAlgebra/src/\u001b[39m\u001b[90m\u001b[4mhessenberg.jl:112\u001b[24m\u001b[39m\n",
       " [115] +(\u001b[90mJ\u001b[39m::\u001b[1mLinearAlgebra.UniformScaling\u001b[22m, \u001b[90mF\u001b[39m::\u001b[1mLinearAlgebra.Hessenberg\u001b[22m)\n",
       "\u001b[90m     @\u001b[39m \u001b[32mLinearAlgebra\u001b[39m \u001b[90m~/.julia/juliaup/julia-1.9.3+0.x64.linux.gnu/share/julia/stdlib/v1.9/LinearAlgebra/src/\u001b[39m\u001b[90m\u001b[4mhessenberg.jl:648\u001b[24m\u001b[39m\n",
       " [116] +(\u001b[90mA\u001b[39m::\u001b[1mLinearAlgebra.UniformScaling\u001b[22m, \u001b[90mB\u001b[39m::\u001b[1mLinearAlgebra.Tridiagonal\u001b[22m\u001b[0m{var\"#s972\", V} where {var\"#s972\"<:Number, V<:AbstractVector{var\"#s972\"}})\n",
       "\u001b[90m     @\u001b[39m \u001b[32mLinearAlgebra\u001b[39m \u001b[90m~/.julia/juliaup/julia-1.9.3+0.x64.linux.gnu/share/julia/stdlib/v1.9/LinearAlgebra/src/\u001b[39m\u001b[90m\u001b[4mspecial.jl:250\u001b[24m\u001b[39m\n",
       " [117] +(\u001b[90mA\u001b[39m::\u001b[1mLinearAlgebra.UniformScaling\u001b[22m, \u001b[90mB\u001b[39m::\u001b[1mLinearAlgebra.SymTridiagonal\u001b[22m\u001b[0m{var\"#s972\", V} where {var\"#s972\"<:Number, V<:AbstractVector{var\"#s972\"}})\n",
       "\u001b[90m     @\u001b[39m \u001b[32mLinearAlgebra\u001b[39m \u001b[90m~/.julia/juliaup/julia-1.9.3+0.x64.linux.gnu/share/julia/stdlib/v1.9/LinearAlgebra/src/\u001b[39m\u001b[90m\u001b[4mspecial.jl:255\u001b[24m\u001b[39m\n",
       " [118] +(\u001b[90mA\u001b[39m::\u001b[1mLinearAlgebra.UniformScaling\u001b[22m, \u001b[90mB\u001b[39m::\u001b[1mLinearAlgebra.Bidiagonal\u001b[22m\u001b[0m{var\"#s972\", V} where {var\"#s972\"<:Number, V<:AbstractVector{var\"#s972\"}})\n",
       "\u001b[90m     @\u001b[39m \u001b[32mLinearAlgebra\u001b[39m \u001b[90m~/.julia/juliaup/julia-1.9.3+0.x64.linux.gnu/share/julia/stdlib/v1.9/LinearAlgebra/src/\u001b[39m\u001b[90m\u001b[4mspecial.jl:260\u001b[24m\u001b[39m\n",
       " [119] +(\u001b[90mA\u001b[39m::\u001b[1mLinearAlgebra.UniformScaling\u001b[22m, \u001b[90mB\u001b[39m::\u001b[1mLinearAlgebra.Diagonal\u001b[22m\u001b[0m{var\"#s972\", V} where {var\"#s972\"<:Number, V<:AbstractVector{var\"#s972\"}})\n",
       "\u001b[90m     @\u001b[39m \u001b[32mLinearAlgebra\u001b[39m \u001b[90m~/.julia/juliaup/julia-1.9.3+0.x64.linux.gnu/share/julia/stdlib/v1.9/LinearAlgebra/src/\u001b[39m\u001b[90m\u001b[4mspecial.jl:265\u001b[24m\u001b[39m\n",
       " [120] +(\u001b[90mJ\u001b[39m::\u001b[1mLinearAlgebra.UniformScaling\u001b[22m\u001b[0m{T}, \u001b[90mA\u001b[39m::\u001b[1mSparseArrays.AbstractSparseMatrixCSC\u001b[22m\u001b[0m{Tv, Ti}) where {T<:Number, Tv, Ti}\n",
       "\u001b[90m     @\u001b[39m \u001b[33mSparseArrays\u001b[39m \u001b[90m~/.julia/juliaup/julia-1.9.3+0.x64.linux.gnu/share/julia/stdlib/v1.9/SparseArrays/src/\u001b[39m\u001b[90m\u001b[4msparsematrix.jl:4100\u001b[24m\u001b[39m\n",
       " [121] +(\u001b[90mJ\u001b[39m::\u001b[1mLinearAlgebra.UniformScaling\u001b[22m, \u001b[90mA\u001b[39m::\u001b[1mAbstractMatrix\u001b[22m)\n",
       "\u001b[90m     @\u001b[39m \u001b[32mLinearAlgebra\u001b[39m \u001b[90m~/.julia/juliaup/julia-1.9.3+0.x64.linux.gnu/share/julia/stdlib/v1.9/LinearAlgebra/src/\u001b[39m\u001b[90m\u001b[4muniformscaling.jl:153\u001b[24m\u001b[39m\n",
       " [122] +(\u001b[90mx\u001b[39m::\u001b[1mBase.TwicePrecision\u001b[22m, \u001b[90my\u001b[39m::\u001b[1mNumber\u001b[22m)\n",
       "\u001b[90m     @\u001b[39m \u001b[90m\u001b[4mtwiceprecision.jl:290\u001b[24m\u001b[39m\n",
       " [123] +(\u001b[90mx\u001b[39m::\u001b[1mBase.TwicePrecision\u001b[22m\u001b[0m{T}, \u001b[90my\u001b[39m::\u001b[1mBase.TwicePrecision\u001b[22m\u001b[0m{T}) where T\n",
       "\u001b[90m     @\u001b[39m \u001b[90m\u001b[4mtwiceprecision.jl:296\u001b[24m\u001b[39m\n",
       " [124] +(\u001b[90mx\u001b[39m::\u001b[1mBase.TwicePrecision\u001b[22m, \u001b[90my\u001b[39m::\u001b[1mBase.TwicePrecision\u001b[22m)\n",
       "\u001b[90m     @\u001b[39m \u001b[90m\u001b[4mtwiceprecision.jl:301\u001b[24m\u001b[39m\n",
       " [125] +(\u001b[90my\u001b[39m::\u001b[1mDates.TimeType\u001b[22m, \u001b[90mx\u001b[39m::\u001b[1mStridedArray\u001b[22m\u001b[0m{<:Union{Dates.CompoundPeriod, Dates.Period}})\n",
       "\u001b[90m     @\u001b[39m \u001b[36mDates\u001b[39m \u001b[90m~/.julia/juliaup/julia-1.9.3+0.x64.linux.gnu/share/julia/stdlib/v1.9/Dates/src/\u001b[39m\u001b[90m\u001b[4mdeprecated.jl:18\u001b[24m\u001b[39m\n",
       " [126] +(\u001b[90mA\u001b[39m::\u001b[1mArray\u001b[22m, \u001b[90mBs\u001b[39m::\u001b[1mArray...\u001b[22m)\n",
       "\u001b[90m     @\u001b[39m \u001b[90m\u001b[4marraymath.jl:12\u001b[24m\u001b[39m\n",
       " [127] +(\u001b[90mX\u001b[39m::\u001b[1mStridedArray\u001b[22m\u001b[0m{<:Union{Dates.CompoundPeriod, Dates.Period}}, \u001b[90mY\u001b[39m::\u001b[1mStridedArray\u001b[22m\u001b[0m{<:Union{Dates.CompoundPeriod, Dates.Period}})\n",
       "\u001b[90m     @\u001b[39m \u001b[36mDates\u001b[39m \u001b[90m~/.julia/juliaup/julia-1.9.3+0.x64.linux.gnu/share/julia/stdlib/v1.9/Dates/src/\u001b[39m\u001b[90m\u001b[4mdeprecated.jl:62\u001b[24m\u001b[39m\n",
       " [128] +(\u001b[90mA\u001b[39m::\u001b[1mArray\u001b[22m, \u001b[90mB\u001b[39m::\u001b[1mSparseArrays.AbstractSparseMatrixCSC\u001b[22m)\n",
       "\u001b[90m     @\u001b[39m \u001b[33mSparseArrays\u001b[39m \u001b[90m~/.julia/juliaup/julia-1.9.3+0.x64.linux.gnu/share/julia/stdlib/v1.9/SparseArrays/src/\u001b[39m\u001b[90m\u001b[4msparsematrix.jl:2069\u001b[24m\u001b[39m\n",
       " [129] +(\u001b[90mx\u001b[39m::\u001b[1mStridedArray\u001b[22m\u001b[0m{<:Union{Dates.CompoundPeriod, Dates.Period}})\n",
       "\u001b[90m     @\u001b[39m \u001b[36mDates\u001b[39m \u001b[90m~/.julia/juliaup/julia-1.9.3+0.x64.linux.gnu/share/julia/stdlib/v1.9/Dates/src/\u001b[39m\u001b[90m\u001b[4mdeprecated.jl:55\u001b[24m\u001b[39m\n",
       " [130] +(\u001b[90mx\u001b[39m::\u001b[1mStridedArray\u001b[22m\u001b[0m{<:Union{Dates.CompoundPeriod, Dates.Period}}, \u001b[90my\u001b[39m::\u001b[1mDates.TimeType\u001b[22m)\n",
       "\u001b[90m     @\u001b[39m \u001b[36mDates\u001b[39m \u001b[90m~/.julia/juliaup/julia-1.9.3+0.x64.linux.gnu/share/julia/stdlib/v1.9/Dates/src/\u001b[39m\u001b[90m\u001b[4mdeprecated.jl:10\u001b[24m\u001b[39m\n",
       " [131] +(\u001b[90mr1\u001b[39m::\u001b[1mStepRangeLen\u001b[22m\u001b[0m{T, R}, \u001b[90mr2\u001b[39m::\u001b[1mStepRangeLen\u001b[22m\u001b[0m{T, R}) where {R<:Base.TwicePrecision, T}\n",
       "\u001b[90m     @\u001b[39m \u001b[90m\u001b[4mtwiceprecision.jl:628\u001b[24m\u001b[39m\n",
       " [132] +(\u001b[90mr1\u001b[39m::\u001b[1mStepRangeLen\u001b[22m\u001b[0m{T, S}, \u001b[90mr2\u001b[39m::\u001b[1mStepRangeLen\u001b[22m\u001b[0m{T, S}) where {T, S}\n",
       "\u001b[90m     @\u001b[39m \u001b[90m\u001b[4mrange.jl:1464\u001b[24m\u001b[39m\n",
       " [133] +(\u001b[90mr1\u001b[39m::\u001b[1mUnion\u001b[22m\u001b[0m{LinRange, OrdinalRange, StepRangeLen}, \u001b[90mr2\u001b[39m::\u001b[1mUnion\u001b[22m\u001b[0m{LinRange, OrdinalRange, StepRangeLen})\n",
       "\u001b[90m     @\u001b[39m \u001b[90m\u001b[4mrange.jl:1457\u001b[24m\u001b[39m\n",
       " [134] +(\u001b[90mA\u001b[39m::\u001b[1mAbstractArray\u001b[22m, \u001b[90mB\u001b[39m::\u001b[1mAbstractArray\u001b[22m)\n",
       "\u001b[90m     @\u001b[39m \u001b[90m\u001b[4marraymath.jl:6\u001b[24m\u001b[39m\n",
       " [135] +(\u001b[90mx\u001b[39m::\u001b[1mRational\u001b[22m, \u001b[90my\u001b[39m::\u001b[1mInteger\u001b[22m)\n",
       "\u001b[90m     @\u001b[39m \u001b[90m\u001b[4mrational.jl:327\u001b[24m\u001b[39m\n",
       " [136] +(\u001b[90ma\u001b[39m::\u001b[1mPkg.Resolve.VersionWeight\u001b[22m, \u001b[90mb\u001b[39m::\u001b[1mPkg.Resolve.VersionWeight\u001b[22m)\n",
       "\u001b[90m     @\u001b[39m \u001b[35mPkg.Resolve\u001b[39m \u001b[90m~/.julia/juliaup/julia-1.9.3+0.x64.linux.gnu/share/julia/stdlib/v1.9/Pkg/src/Resolve/\u001b[39m\u001b[90m\u001b[4mversionweights.jl:22\u001b[24m\u001b[39m\n",
       " [137] +(\u001b[90mx\u001b[39m::\u001b[1mBigFloat\u001b[22m, \u001b[90mc\u001b[39m::\u001b[1mUnion\u001b[22m\u001b[0m{UInt16, UInt32, UInt64, UInt8})\n",
       "\u001b[90m     @\u001b[39m \u001b[90mBase.MPFR\u001b[39m \u001b[90m\u001b[4mmpfr.jl:402\u001b[24m\u001b[39m\n",
       " [138] +(\u001b[90mx\u001b[39m::\u001b[1mBigFloat\u001b[22m, \u001b[90mc\u001b[39m::\u001b[1mUnion\u001b[22m\u001b[0m{Int16, Int32, Int64, Int8})\n",
       "\u001b[90m     @\u001b[39m \u001b[90mBase.MPFR\u001b[39m \u001b[90m\u001b[4mmpfr.jl:410\u001b[24m\u001b[39m\n",
       " [139] +(\u001b[90mx\u001b[39m::\u001b[1mBigFloat\u001b[22m, \u001b[90mc\u001b[39m::\u001b[1mUnion\u001b[22m\u001b[0m{Float16, Float32, Float64})\n",
       "\u001b[90m     @\u001b[39m \u001b[90mBase.MPFR\u001b[39m \u001b[90m\u001b[4mmpfr.jl:418\u001b[24m\u001b[39m\n",
       " [140] +(\u001b[90mx\u001b[39m::\u001b[1mBigFloat\u001b[22m, \u001b[90my\u001b[39m::\u001b[1mBigFloat\u001b[22m)\n",
       "\u001b[90m     @\u001b[39m \u001b[90mBase.MPFR\u001b[39m \u001b[90m\u001b[4mmpfr.jl:395\u001b[24m\u001b[39m\n",
       " [141] +(\u001b[90mx\u001b[39m::\u001b[1mBigFloat\u001b[22m, \u001b[90mc\u001b[39m::\u001b[1mBigInt\u001b[22m)\n",
       "\u001b[90m     @\u001b[39m \u001b[90mBase.MPFR\u001b[39m \u001b[90m\u001b[4mmpfr.jl:426\u001b[24m\u001b[39m\n",
       " [142] +(\u001b[90ma\u001b[39m::\u001b[1mBigFloat\u001b[22m, \u001b[90mb\u001b[39m::\u001b[1mBigFloat\u001b[22m, \u001b[90mc\u001b[39m::\u001b[1mBigFloat\u001b[22m)\n",
       "\u001b[90m     @\u001b[39m \u001b[90mBase.MPFR\u001b[39m \u001b[90m\u001b[4mmpfr.jl:567\u001b[24m\u001b[39m\n",
       " [143] +(\u001b[90ma\u001b[39m::\u001b[1mBigFloat\u001b[22m, \u001b[90mb\u001b[39m::\u001b[1mBigFloat\u001b[22m, \u001b[90mc\u001b[39m::\u001b[1mBigFloat\u001b[22m, \u001b[90md\u001b[39m::\u001b[1mBigFloat\u001b[22m)\n",
       "\u001b[90m     @\u001b[39m \u001b[90mBase.MPFR\u001b[39m \u001b[90m\u001b[4mmpfr.jl:573\u001b[24m\u001b[39m\n",
       " [144] +(\u001b[90ma\u001b[39m::\u001b[1mBigFloat\u001b[22m, \u001b[90mb\u001b[39m::\u001b[1mBigFloat\u001b[22m, \u001b[90mc\u001b[39m::\u001b[1mBigFloat\u001b[22m, \u001b[90md\u001b[39m::\u001b[1mBigFloat\u001b[22m, \u001b[90me\u001b[39m::\u001b[1mBigFloat\u001b[22m)\n",
       "\u001b[90m     @\u001b[39m \u001b[90mBase.MPFR\u001b[39m \u001b[90m\u001b[4mmpfr.jl:580\u001b[24m\u001b[39m\n",
       " [145] +(\u001b[90mz\u001b[39m::\u001b[1mComplex\u001b[22m\u001b[0m{Bool}, \u001b[90mx\u001b[39m::\u001b[1mBool\u001b[22m)\n",
       "\u001b[90m     @\u001b[39m \u001b[90m\u001b[4mcomplex.jl:303\u001b[24m\u001b[39m\n",
       " [146] +(\u001b[90mz\u001b[39m::\u001b[1mComplex\u001b[22m, \u001b[90mx\u001b[39m::\u001b[1mBool\u001b[22m)\n",
       "\u001b[90m     @\u001b[39m \u001b[90m\u001b[4mcomplex.jl:310\u001b[24m\u001b[39m\n",
       " [147] +(\u001b[90mz\u001b[39m::\u001b[1mComplex\u001b[22m\u001b[0m{Bool}, \u001b[90mx\u001b[39m::\u001b[1mReal\u001b[22m)\n",
       "\u001b[90m     @\u001b[39m \u001b[90m\u001b[4mcomplex.jl:317\u001b[24m\u001b[39m\n",
       " [148] +(\u001b[90mz\u001b[39m::\u001b[1mComplex\u001b[22m)\n",
       "\u001b[90m     @\u001b[39m \u001b[90m\u001b[4mcomplex.jl:289\u001b[24m\u001b[39m\n",
       " [149] +(\u001b[90mz\u001b[39m::\u001b[1mComplex\u001b[22m, \u001b[90mx\u001b[39m::\u001b[1mReal\u001b[22m)\n",
       "\u001b[90m     @\u001b[39m \u001b[90m\u001b[4mcomplex.jl:329\u001b[24m\u001b[39m\n",
       " [150] +(\u001b[90mdt\u001b[39m::\u001b[1mDates.Date\u001b[22m, \u001b[90mt\u001b[39m::\u001b[1mDates.Time\u001b[22m)\n",
       "\u001b[90m     @\u001b[39m \u001b[36mDates\u001b[39m \u001b[90m~/.julia/juliaup/julia-1.9.3+0.x64.linux.gnu/share/julia/stdlib/v1.9/Dates/src/\u001b[39m\u001b[90m\u001b[4marithmetic.jl:19\u001b[24m\u001b[39m\n",
       " [151] +(\u001b[90mdt\u001b[39m::\u001b[1mDates.Date\u001b[22m, \u001b[90my\u001b[39m::\u001b[1mDates.Year\u001b[22m)\n",
       "\u001b[90m     @\u001b[39m \u001b[36mDates\u001b[39m \u001b[90m~/.julia/juliaup/julia-1.9.3+0.x64.linux.gnu/share/julia/stdlib/v1.9/Dates/src/\u001b[39m\u001b[90m\u001b[4marithmetic.jl:27\u001b[24m\u001b[39m\n",
       " [152] +(\u001b[90mdt\u001b[39m::\u001b[1mDates.Date\u001b[22m, \u001b[90mz\u001b[39m::\u001b[1mDates.Month\u001b[22m)\n",
       "\u001b[90m     @\u001b[39m \u001b[36mDates\u001b[39m \u001b[90m~/.julia/juliaup/julia-1.9.3+0.x64.linux.gnu/share/julia/stdlib/v1.9/Dates/src/\u001b[39m\u001b[90m\u001b[4marithmetic.jl:54\u001b[24m\u001b[39m\n",
       " [153] +(\u001b[90mx\u001b[39m::\u001b[1mDates.Date\u001b[22m, \u001b[90my\u001b[39m::\u001b[1mDates.Quarter\u001b[22m)\n",
       "\u001b[90m     @\u001b[39m \u001b[36mDates\u001b[39m \u001b[90m~/.julia/juliaup/julia-1.9.3+0.x64.linux.gnu/share/julia/stdlib/v1.9/Dates/src/\u001b[39m\u001b[90m\u001b[4marithmetic.jl:73\u001b[24m\u001b[39m\n",
       " [154] +(\u001b[90mx\u001b[39m::\u001b[1mDates.Date\u001b[22m, \u001b[90my\u001b[39m::\u001b[1mDates.Week\u001b[22m)\n",
       "\u001b[90m     @\u001b[39m \u001b[36mDates\u001b[39m \u001b[90m~/.julia/juliaup/julia-1.9.3+0.x64.linux.gnu/share/julia/stdlib/v1.9/Dates/src/\u001b[39m\u001b[90m\u001b[4marithmetic.jl:77\u001b[24m\u001b[39m\n",
       " [155] +(\u001b[90mx\u001b[39m::\u001b[1mDates.Date\u001b[22m, \u001b[90my\u001b[39m::\u001b[1mDates.Day\u001b[22m)\n",
       "\u001b[90m     @\u001b[39m \u001b[36mDates\u001b[39m \u001b[90m~/.julia/juliaup/julia-1.9.3+0.x64.linux.gnu/share/julia/stdlib/v1.9/Dates/src/\u001b[39m\u001b[90m\u001b[4marithmetic.jl:79\u001b[24m\u001b[39m\n",
       " [156] +(\u001b[90mx\u001b[39m::\u001b[1mBool\u001b[22m)\n",
       "\u001b[90m     @\u001b[39m \u001b[90m\u001b[4mbool.jl:163\u001b[24m\u001b[39m\n",
       " [157] +(\u001b[90mx\u001b[39m::\u001b[1mInteger\u001b[22m, \u001b[90my\u001b[39m::\u001b[1mPtr\u001b[22m)\n",
       "\u001b[90m     @\u001b[39m \u001b[90m\u001b[4mpointer.jl:169\u001b[24m\u001b[39m\n",
       " [158] +(\u001b[90my\u001b[39m::\u001b[1mInteger\u001b[22m, \u001b[90mx\u001b[39m::\u001b[1mRational\u001b[22m)\n",
       "\u001b[90m     @\u001b[39m \u001b[90m\u001b[4mrational.jl:334\u001b[24m\u001b[39m\n",
       " [159] +(\u001b[90mx\u001b[39m::\u001b[1mInteger\u001b[22m, \u001b[90my\u001b[39m::\u001b[1mAbstractChar\u001b[22m)\n",
       "\u001b[90m     @\u001b[39m \u001b[90m\u001b[4mchar.jl:247\u001b[24m\u001b[39m\n",
       " [160] +(\u001b[90mx\u001b[39m::\u001b[1mBool\u001b[22m, \u001b[90my\u001b[39m::\u001b[1mT\u001b[22m) where T<:AbstractFloat\n",
       "\u001b[90m     @\u001b[39m \u001b[90m\u001b[4mbool.jl:173\u001b[24m\u001b[39m\n",
       " [161] +(\u001b[90mx\u001b[39m::\u001b[1mBool\u001b[22m, \u001b[90my\u001b[39m::\u001b[1mBool\u001b[22m)\n",
       "\u001b[90m     @\u001b[39m \u001b[90m\u001b[4mbool.jl:166\u001b[24m\u001b[39m\n",
       " [162] +(\u001b[90mx\u001b[39m::\u001b[1mBool\u001b[22m, \u001b[90mz\u001b[39m::\u001b[1mComplex\u001b[22m\u001b[0m{Bool})\n",
       "\u001b[90m     @\u001b[39m \u001b[90m\u001b[4mcomplex.jl:302\u001b[24m\u001b[39m\n",
       " [163] +(\u001b[90mx\u001b[39m::\u001b[1mReal\u001b[22m, \u001b[90mz\u001b[39m::\u001b[1mComplex\u001b[22m\u001b[0m{Bool})\n",
       "\u001b[90m     @\u001b[39m \u001b[90m\u001b[4mcomplex.jl:316\u001b[24m\u001b[39m\n",
       " [164] +(\u001b[90mx\u001b[39m::\u001b[1mBool\u001b[22m, \u001b[90mz\u001b[39m::\u001b[1mComplex\u001b[22m)\n",
       "\u001b[90m     @\u001b[39m \u001b[90m\u001b[4mcomplex.jl:309\u001b[24m\u001b[39m\n",
       " [165] +(\u001b[90mx\u001b[39m::\u001b[1mReal\u001b[22m, \u001b[90mz\u001b[39m::\u001b[1mComplex\u001b[22m)\n",
       "\u001b[90m     @\u001b[39m \u001b[90m\u001b[4mcomplex.jl:328\u001b[24m\u001b[39m\n",
       " [166] +(\u001b[90mx\u001b[39m::\u001b[1mDates.CompoundPeriod\u001b[22m, \u001b[90my\u001b[39m::\u001b[1mDates.Period\u001b[22m)\n",
       "\u001b[90m     @\u001b[39m \u001b[36mDates\u001b[39m \u001b[90m~/.julia/juliaup/julia-1.9.3+0.x64.linux.gnu/share/julia/stdlib/v1.9/Dates/src/\u001b[39m\u001b[90m\u001b[4mperiods.jl:332\u001b[24m\u001b[39m\n",
       " [167] +(\u001b[90mx\u001b[39m::\u001b[1mDates.CompoundPeriod\u001b[22m, \u001b[90my\u001b[39m::\u001b[1mDates.TimeType\u001b[22m)\n",
       "\u001b[90m     @\u001b[39m \u001b[36mDates\u001b[39m \u001b[90m~/.julia/juliaup/julia-1.9.3+0.x64.linux.gnu/share/julia/stdlib/v1.9/Dates/src/\u001b[39m\u001b[90m\u001b[4mperiods.jl:362\u001b[24m\u001b[39m\n",
       " [168] +(\u001b[90mx\u001b[39m::\u001b[1mDates.CompoundPeriod\u001b[22m, \u001b[90my\u001b[39m::\u001b[1mDates.CompoundPeriod\u001b[22m)\n",
       "\u001b[90m     @\u001b[39m \u001b[36mDates\u001b[39m \u001b[90m~/.julia/juliaup/julia-1.9.3+0.x64.linux.gnu/share/julia/stdlib/v1.9/Dates/src/\u001b[39m\u001b[90m\u001b[4mperiods.jl:334\u001b[24m\u001b[39m\n",
       " [169] +(\u001b[90mB\u001b[39m::\u001b[1mBitMatrix\u001b[22m, \u001b[90mJ\u001b[39m::\u001b[1mLinearAlgebra.UniformScaling\u001b[22m)\n",
       "\u001b[90m     @\u001b[39m \u001b[32mLinearAlgebra\u001b[39m \u001b[90m~/.julia/juliaup/julia-1.9.3+0.x64.linux.gnu/share/julia/stdlib/v1.9/LinearAlgebra/src/\u001b[39m\u001b[90m\u001b[4muniformscaling.jl:151\u001b[24m\u001b[39m\n",
       " [170] +(\u001b[90mA\u001b[39m::\u001b[1mAbstractMatrix\u001b[22m, \u001b[90mJ\u001b[39m::\u001b[1mLinearAlgebra.UniformScaling\u001b[22m)\n",
       "\u001b[90m     @\u001b[39m \u001b[32mLinearAlgebra\u001b[39m \u001b[90m~/.julia/juliaup/julia-1.9.3+0.x64.linux.gnu/share/julia/stdlib/v1.9/LinearAlgebra/src/\u001b[39m\u001b[90m\u001b[4muniformscaling.jl:214\u001b[24m\u001b[39m\n",
       " [171] +(\u001b[90mx\u001b[39m::\u001b[1mAbstractArray\u001b[22m\u001b[0m{<:Number})\n",
       "\u001b[90m     @\u001b[39m \u001b[90m\u001b[4mabstractarraymath.jl:220\u001b[24m\u001b[39m\n",
       " [172] +(\u001b[90mx\u001b[39m::\u001b[1mBigInt\u001b[22m, \u001b[90mc\u001b[39m::\u001b[1mUnion\u001b[22m\u001b[0m{UInt16, UInt32, UInt64, UInt8})\n",
       "\u001b[90m     @\u001b[39m \u001b[90mBase.GMP\u001b[39m \u001b[90m\u001b[4mgmp.jl:538\u001b[24m\u001b[39m\n",
       " [173] +(\u001b[90mx\u001b[39m::\u001b[1mBigInt\u001b[22m, \u001b[90mc\u001b[39m::\u001b[1mUnion\u001b[22m\u001b[0m{Int16, Int32, Int64, Int8})\n",
       "\u001b[90m     @\u001b[39m \u001b[90mBase.GMP\u001b[39m \u001b[90m\u001b[4mgmp.jl:544\u001b[24m\u001b[39m\n",
       " [174] +(\u001b[90mx\u001b[39m::\u001b[1mBigInt\u001b[22m, \u001b[90my\u001b[39m::\u001b[1mBigInt\u001b[22m)\n",
       "\u001b[90m     @\u001b[39m \u001b[90mBase.GMP\u001b[39m \u001b[90m\u001b[4mgmp.jl:490\u001b[24m\u001b[39m\n",
       " [175] +(\u001b[90ma\u001b[39m::\u001b[1mBigInt\u001b[22m, \u001b[90mb\u001b[39m::\u001b[1mBigInt\u001b[22m, \u001b[90mc\u001b[39m::\u001b[1mBigInt\u001b[22m)\n",
       "\u001b[90m     @\u001b[39m \u001b[90mBase.GMP\u001b[39m \u001b[90m\u001b[4mgmp.jl:530\u001b[24m\u001b[39m\n",
       " [176] +(\u001b[90ma\u001b[39m::\u001b[1mBigInt\u001b[22m, \u001b[90mb\u001b[39m::\u001b[1mBigInt\u001b[22m, \u001b[90mc\u001b[39m::\u001b[1mBigInt\u001b[22m, \u001b[90md\u001b[39m::\u001b[1mBigInt\u001b[22m)\n",
       "\u001b[90m     @\u001b[39m \u001b[90mBase.GMP\u001b[39m \u001b[90m\u001b[4mgmp.jl:531\u001b[24m\u001b[39m\n",
       " [177] +(\u001b[90ma\u001b[39m::\u001b[1mBigInt\u001b[22m, \u001b[90mb\u001b[39m::\u001b[1mBigInt\u001b[22m, \u001b[90mc\u001b[39m::\u001b[1mBigInt\u001b[22m, \u001b[90md\u001b[39m::\u001b[1mBigInt\u001b[22m, \u001b[90me\u001b[39m::\u001b[1mBigInt\u001b[22m)\n",
       "\u001b[90m     @\u001b[39m \u001b[90mBase.GMP\u001b[39m \u001b[90m\u001b[4mgmp.jl:532\u001b[24m\u001b[39m\n",
       " [178] +(\u001b[90mx\u001b[39m::\u001b[1mBigInt\u001b[22m, \u001b[90my\u001b[39m::\u001b[1mBigInt\u001b[22m, \u001b[90mrest\u001b[39m::\u001b[1mBigInt...\u001b[22m)\n",
       "\u001b[90m     @\u001b[39m \u001b[90mBase.GMP\u001b[39m \u001b[90m\u001b[4mgmp.jl:666\u001b[24m\u001b[39m\n",
       " [179] +(\u001b[90ma\u001b[39m::\u001b[1mInteger\u001b[22m, \u001b[90mb\u001b[39m::\u001b[1mInteger\u001b[22m)\n",
       "\u001b[90m     @\u001b[39m \u001b[90m\u001b[4mint.jl:1038\u001b[24m\u001b[39m\n",
       " [180] +(\u001b[90mc\u001b[39m::\u001b[1mBigInt\u001b[22m, \u001b[90mx\u001b[39m::\u001b[1mBigFloat\u001b[22m)\n",
       "\u001b[90m     @\u001b[39m \u001b[90mBase.MPFR\u001b[39m \u001b[90m\u001b[4mmpfr.jl:431\u001b[24m\u001b[39m\n",
       " [181] +(\u001b[90mx\u001b[39m::\u001b[1mDates.Time\u001b[22m, \u001b[90my\u001b[39m::\u001b[1mDates.TimePeriod\u001b[22m)\n",
       "\u001b[90m     @\u001b[39m \u001b[36mDates\u001b[39m \u001b[90m~/.julia/juliaup/julia-1.9.3+0.x64.linux.gnu/share/julia/stdlib/v1.9/Dates/src/\u001b[39m\u001b[90m\u001b[4marithmetic.jl:83\u001b[24m\u001b[39m\n",
       " [182] +(\u001b[90mt\u001b[39m::\u001b[1mDates.Time\u001b[22m, \u001b[90mdt\u001b[39m::\u001b[1mDates.Date\u001b[22m)\n",
       "\u001b[90m     @\u001b[39m \u001b[36mDates\u001b[39m \u001b[90m~/.julia/juliaup/julia-1.9.3+0.x64.linux.gnu/share/julia/stdlib/v1.9/Dates/src/\u001b[39m\u001b[90m\u001b[4marithmetic.jl:20\u001b[24m\u001b[39m\n",
       " [183] +(\u001b[90mx\u001b[39m::\u001b[1mRational\u001b[22m\u001b[0m{BigInt}, \u001b[90my\u001b[39m::\u001b[1mRational\u001b[22m\u001b[0m{BigInt})\n",
       "\u001b[90m     @\u001b[39m \u001b[90mBase.GMP.MPQ\u001b[39m \u001b[90m\u001b[4mgmp.jl:1027\u001b[24m\u001b[39m\n",
       " [184] +(\u001b[90mx\u001b[39m::\u001b[1mRational\u001b[22m)\n",
       "\u001b[90m     @\u001b[39m \u001b[90m\u001b[4mrational.jl:284\u001b[24m\u001b[39m\n",
       " [185] +(\u001b[90mx\u001b[39m::\u001b[1mNumber\u001b[22m, \u001b[90my\u001b[39m::\u001b[1mBase.TwicePrecision\u001b[22m)\n",
       "\u001b[90m     @\u001b[39m \u001b[90m\u001b[4mtwiceprecision.jl:294\u001b[24m\u001b[39m\n",
       " [186] +(::\u001b[1mNumber\u001b[22m, ::\u001b[1mMissing\u001b[22m)\n",
       "\u001b[90m     @\u001b[39m \u001b[90m\u001b[4mmissing.jl:124\u001b[24m\u001b[39m\n",
       " [187] +(\u001b[90mx\u001b[39m::\u001b[1mNumber\u001b[22m, \u001b[90mJ\u001b[39m::\u001b[1mLinearAlgebra.UniformScaling\u001b[22m)\n",
       "\u001b[90m     @\u001b[39m \u001b[32mLinearAlgebra\u001b[39m \u001b[90m~/.julia/juliaup/julia-1.9.3+0.x64.linux.gnu/share/julia/stdlib/v1.9/LinearAlgebra/src/\u001b[39m\u001b[90m\u001b[4muniformscaling.jl:145\u001b[24m\u001b[39m\n",
       " [188] +(\u001b[90mx\u001b[39m::\u001b[1mRational\u001b[22m, \u001b[90my\u001b[39m::\u001b[1mRational\u001b[22m)\n",
       "\u001b[90m     @\u001b[39m \u001b[90m\u001b[4mrational.jl:298\u001b[24m\u001b[39m\n",
       " [189] +(\u001b[90mx\u001b[39m::\u001b[1mNumber\u001b[22m)\n",
       "\u001b[90m     @\u001b[39m \u001b[90m\u001b[4moperators.jl:515\u001b[24m\u001b[39m\n",
       " [190] +(\u001b[90mx\u001b[39m::\u001b[1mT\u001b[22m, \u001b[90my\u001b[39m::\u001b[1mT\u001b[22m) where T<:Number\n",
       "\u001b[90m     @\u001b[39m \u001b[90m\u001b[4mpromotion.jl:485\u001b[24m\u001b[39m\n",
       " [191] +(\u001b[90mx\u001b[39m::\u001b[1mNumber\u001b[22m, \u001b[90my\u001b[39m::\u001b[1mNumber\u001b[22m)\n",
       "\u001b[90m     @\u001b[39m \u001b[90m\u001b[4mpromotion.jl:410\u001b[24m\u001b[39m\n",
       " [192] +(::\u001b[1mMissing\u001b[22m)\n",
       "\u001b[90m     @\u001b[39m \u001b[90m\u001b[4mmissing.jl:101\u001b[24m\u001b[39m\n",
       " [193] +(::\u001b[1mMissing\u001b[22m, ::\u001b[1mNumber\u001b[22m)\n",
       "\u001b[90m     @\u001b[39m \u001b[90m\u001b[4mmissing.jl:123\u001b[24m\u001b[39m\n",
       " [194] +(\u001b[90mx\u001b[39m::\u001b[1mMissing\u001b[22m, \u001b[90my\u001b[39m::\u001b[1mDates.AbstractTime\u001b[22m)\n",
       "\u001b[90m     @\u001b[39m \u001b[36mDates\u001b[39m \u001b[90m~/.julia/juliaup/julia-1.9.3+0.x64.linux.gnu/share/julia/stdlib/v1.9/Dates/src/\u001b[39m\u001b[90m\u001b[4marithmetic.jl:89\u001b[24m\u001b[39m\n",
       " [195] +(::\u001b[1mMissing\u001b[22m, ::\u001b[1mMissing\u001b[22m)\n",
       "\u001b[90m     @\u001b[39m \u001b[90m\u001b[4mmissing.jl:122\u001b[24m\u001b[39m\n",
       " [196] +(\u001b[90mlevel\u001b[39m::\u001b[1mBase.CoreLogging.LogLevel\u001b[22m, \u001b[90minc\u001b[39m::\u001b[1mInteger\u001b[22m)\n",
       "\u001b[90m     @\u001b[39m \u001b[90mBase.CoreLogging\u001b[39m \u001b[90m\u001b[4mlogging.jl:131\u001b[24m\u001b[39m\n",
       " [197] +(\u001b[90ma\u001b[39m::\u001b[1mPkg.Resolve.FieldValue\u001b[22m, \u001b[90mb\u001b[39m::\u001b[1mPkg.Resolve.FieldValue\u001b[22m)\n",
       "\u001b[90m     @\u001b[39m \u001b[35mPkg.Resolve\u001b[39m \u001b[90m~/.julia/juliaup/julia-1.9.3+0.x64.linux.gnu/share/julia/stdlib/v1.9/Pkg/src/Resolve/\u001b[39m\u001b[90m\u001b[4mfieldvalues.jl:43\u001b[24m\u001b[39m\n",
       " [198] +(\u001b[90mdt\u001b[39m::\u001b[1mDates.DateTime\u001b[22m, \u001b[90my\u001b[39m::\u001b[1mDates.Year\u001b[22m)\n",
       "\u001b[90m     @\u001b[39m \u001b[36mDates\u001b[39m \u001b[90m~/.julia/juliaup/julia-1.9.3+0.x64.linux.gnu/share/julia/stdlib/v1.9/Dates/src/\u001b[39m\u001b[90m\u001b[4marithmetic.jl:23\u001b[24m\u001b[39m\n",
       " [199] +(\u001b[90mdt\u001b[39m::\u001b[1mDates.DateTime\u001b[22m, \u001b[90mz\u001b[39m::\u001b[1mDates.Month\u001b[22m)\n",
       "\u001b[90m     @\u001b[39m \u001b[36mDates\u001b[39m \u001b[90m~/.julia/juliaup/julia-1.9.3+0.x64.linux.gnu/share/julia/stdlib/v1.9/Dates/src/\u001b[39m\u001b[90m\u001b[4marithmetic.jl:47\u001b[24m\u001b[39m\n",
       " [200] +(\u001b[90mx\u001b[39m::\u001b[1mDates.DateTime\u001b[22m, \u001b[90my\u001b[39m::\u001b[1mDates.Quarter\u001b[22m)\n",
       "\u001b[90m     @\u001b[39m \u001b[36mDates\u001b[39m \u001b[90m~/.julia/juliaup/julia-1.9.3+0.x64.linux.gnu/share/julia/stdlib/v1.9/Dates/src/\u001b[39m\u001b[90m\u001b[4marithmetic.jl:75\u001b[24m\u001b[39m\n",
       " [201] +(\u001b[90mx\u001b[39m::\u001b[1mDates.DateTime\u001b[22m, \u001b[90my\u001b[39m::\u001b[1mDates.Period\u001b[22m)\n",
       "\u001b[90m     @\u001b[39m \u001b[36mDates\u001b[39m \u001b[90m~/.julia/juliaup/julia-1.9.3+0.x64.linux.gnu/share/julia/stdlib/v1.9/Dates/src/\u001b[39m\u001b[90m\u001b[4marithmetic.jl:81\u001b[24m\u001b[39m\n",
       " [202] +(\u001b[90mx\u001b[39m::\u001b[1mDates.TimeType\u001b[22m)\n",
       "\u001b[90m     @\u001b[39m \u001b[36mDates\u001b[39m \u001b[90m~/.julia/juliaup/julia-1.9.3+0.x64.linux.gnu/share/julia/stdlib/v1.9/Dates/src/\u001b[39m\u001b[90m\u001b[4marithmetic.jl:8\u001b[24m\u001b[39m\n",
       " [203] +(\u001b[90mx\u001b[39m::\u001b[1mDates.AbstractTime\u001b[22m, \u001b[90my\u001b[39m::\u001b[1mMissing\u001b[22m)\n",
       "\u001b[90m     @\u001b[39m \u001b[36mDates\u001b[39m \u001b[90m~/.julia/juliaup/julia-1.9.3+0.x64.linux.gnu/share/julia/stdlib/v1.9/Dates/src/\u001b[39m\u001b[90m\u001b[4marithmetic.jl:88\u001b[24m\u001b[39m\n",
       " [204] +(\u001b[90ma\u001b[39m::\u001b[1mDates.TimeType\u001b[22m, \u001b[90mb\u001b[39m::\u001b[1mDates.Period\u001b[22m, \u001b[90mc\u001b[39m::\u001b[1mDates.Period\u001b[22m)\n",
       "\u001b[90m     @\u001b[39m \u001b[36mDates\u001b[39m \u001b[90m~/.julia/juliaup/julia-1.9.3+0.x64.linux.gnu/share/julia/stdlib/v1.9/Dates/src/\u001b[39m\u001b[90m\u001b[4mperiods.jl:353\u001b[24m\u001b[39m\n",
       " [205] +(\u001b[90ma\u001b[39m::\u001b[1mDates.TimeType\u001b[22m, \u001b[90mb\u001b[39m::\u001b[1mDates.Period\u001b[22m, \u001b[90mc\u001b[39m::\u001b[1mDates.Period\u001b[22m, \u001b[90md\u001b[39m::\u001b[1mDates.Period...\u001b[22m)\n",
       "\u001b[90m     @\u001b[39m \u001b[36mDates\u001b[39m \u001b[90m~/.julia/juliaup/julia-1.9.3+0.x64.linux.gnu/share/julia/stdlib/v1.9/Dates/src/\u001b[39m\u001b[90m\u001b[4mperiods.jl:354\u001b[24m\u001b[39m\n",
       " [206] +(\u001b[90mx\u001b[39m::\u001b[1mDates.TimeType\u001b[22m, \u001b[90my\u001b[39m::\u001b[1mDates.CompoundPeriod\u001b[22m)\n",
       "\u001b[90m     @\u001b[39m \u001b[36mDates\u001b[39m \u001b[90m~/.julia/juliaup/julia-1.9.3+0.x64.linux.gnu/share/julia/stdlib/v1.9/Dates/src/\u001b[39m\u001b[90m\u001b[4mperiods.jl:356\u001b[24m\u001b[39m\n",
       " [207] +(\u001b[90ma\u001b[39m, \u001b[90mb\u001b[39m, \u001b[90mc\u001b[39m, \u001b[90mxs...\u001b[39m)\n",
       "\u001b[90m     @\u001b[39m \u001b[90m\u001b[4moperators.jl:578\u001b[24m\u001b[39m"
      ]
     },
     "execution_count": 101,
     "metadata": {},
     "output_type": "execute_result"
    }
   ],
   "source": [
    "methods(+)"
   ]
  },
  {
   "cell_type": "markdown",
   "id": "deb92fe8",
   "metadata": {},
   "source": [
    "### 4.2. Multiple Dispatch\n",
    "\n",
    "- Given a single function with many methods, how does Julia choose which method to call?\n",
    "\n",
    "> The choice of which method to execute when a function is applied is called dispatch. **Julia allows the dispatch process to choose which of a function's methods to call based on the number of arguments given, and on the types of all of the function's arguments**. This is different than traditional object-oriented languages, where dispatch occurs based only on the first argument, which often has a special argument syntax, and is sometimes implied rather than explicitly written as an argument. **Using all of a function's arguments to choose which method should be invoked, rather than just the first, is known as multiple dispatch**. \n",
    "\n",
    "\n",
    "- In particular, Julia will automatically select the **most specific** method matching the arguments provided.\n",
    "<br>\n",
    "\n",
    "- What do we mean by most specific? Multiple dispatch can work on both abstract types and concrete types, and subtypes are considered more specific than their supertypes. \n",
    "<br>\n",
    "\n",
    "- This is why a well-defined type hierarchy and multiple dispatch go hand-in-hand.\n",
    "\n",
    "\n",
    "### 4.3. Defining Methods\n",
    "\n",
    "\n",
    "- To define new methods, simply use the same function definition syntax we saw in the first lecture:<br>\n",
    "    1. The first time you define a function with a given name, the function object will be created along with a single method.\n",
    "    2. Each subsequent function declaration with the same function name and distinct arguments (distinct by either number or type) will create a new method associated with the existing function."
   ]
  },
  {
   "cell_type": "code",
   "execution_count": 102,
   "id": "bbe66058",
   "metadata": {},
   "outputs": [
    {
     "data": {
      "text/plain": [
       "add (generic function with 1 method)"
      ]
     },
     "execution_count": 102,
     "metadata": {},
     "output_type": "execute_result"
    }
   ],
   "source": [
    "function add(x, y)\n",
    "    x + y\n",
    "end"
   ]
  },
  {
   "cell_type": "code",
   "execution_count": 103,
   "id": "fa13bdb2",
   "metadata": {},
   "outputs": [
    {
     "data": {
      "text/html": [
       "# 1 method for generic function <b>add</b> from \u001b[35mMain\u001b[39m:<ul><li> add(x, y) in Main at In[102]:1</li> </ul>"
      ],
      "text/plain": [
       "# 1 method for generic function \"add\" from \u001b[35mMain\u001b[39m:\n",
       " [1] add(\u001b[90mx\u001b[39m, \u001b[90my\u001b[39m)\n",
       "\u001b[90m     @\u001b[39m \u001b[90m\u001b[4mIn[102]:1\u001b[24m\u001b[39m"
      ]
     },
     "execution_count": 103,
     "metadata": {},
     "output_type": "execute_result"
    }
   ],
   "source": [
    "methods(add)"
   ]
  },
  {
   "cell_type": "code",
   "execution_count": 104,
   "id": "726a9cd2",
   "metadata": {},
   "outputs": [
    {
     "data": {
      "text/plain": [
       "add (generic function with 2 methods)"
      ]
     },
     "execution_count": 104,
     "metadata": {},
     "output_type": "execute_result"
    }
   ],
   "source": [
    "function add(x::Float64, y::Float64)\n",
    "    x + y\n",
    "end"
   ]
  },
  {
   "cell_type": "code",
   "execution_count": 105,
   "id": "6721424f",
   "metadata": {
    "scrolled": true
   },
   "outputs": [
    {
     "data": {
      "text/html": [
       "# 2 methods for generic function <b>add</b> from \u001b[35mMain\u001b[39m:<ul><li> add(x::<b>Float64</b>, y::<b>Float64</b>) in Main at In[104]:1</li> <li> add(x, y) in Main at In[102]:1</li> </ul>"
      ],
      "text/plain": [
       "# 2 methods for generic function \"add\" from \u001b[35mMain\u001b[39m:\n",
       " [1] add(\u001b[90mx\u001b[39m::\u001b[1mFloat64\u001b[22m, \u001b[90my\u001b[39m::\u001b[1mFloat64\u001b[22m)\n",
       "\u001b[90m     @\u001b[39m \u001b[90m\u001b[4mIn[104]:1\u001b[24m\u001b[39m\n",
       " [2] add(\u001b[90mx\u001b[39m, \u001b[90my\u001b[39m)\n",
       "\u001b[90m     @\u001b[39m \u001b[90m\u001b[4mIn[102]:1\u001b[24m\u001b[39m"
      ]
     },
     "execution_count": 105,
     "metadata": {},
     "output_type": "execute_result"
    }
   ],
   "source": [
    "methods(add)"
   ]
  },
  {
   "cell_type": "code",
   "execution_count": 106,
   "id": "ef50bd0e",
   "metadata": {},
   "outputs": [
    {
     "data": {
      "text/plain": [
       "add (generic function with 3 methods)"
      ]
     },
     "execution_count": 106,
     "metadata": {},
     "output_type": "execute_result"
    }
   ],
   "source": [
    "function add(x::Float64, y::Float32)\n",
    "    x + y\n",
    "end"
   ]
  },
  {
   "cell_type": "code",
   "execution_count": 107,
   "id": "90c1693f",
   "metadata": {},
   "outputs": [
    {
     "data": {
      "text/html": [
       "# 3 methods for generic function <b>add</b> from \u001b[35mMain\u001b[39m:<ul><li> add(x::<b>Float64</b>, y::<b>Float64</b>) in Main at In[104]:1</li> <li> add(x::<b>Float64</b>, y::<b>Float32</b>) in Main at In[106]:1</li> <li> add(x, y) in Main at In[102]:1</li> </ul>"
      ],
      "text/plain": [
       "# 3 methods for generic function \"add\" from \u001b[35mMain\u001b[39m:\n",
       " [1] add(\u001b[90mx\u001b[39m::\u001b[1mFloat64\u001b[22m, \u001b[90my\u001b[39m::\u001b[1mFloat64\u001b[22m)\n",
       "\u001b[90m     @\u001b[39m \u001b[90m\u001b[4mIn[104]:1\u001b[24m\u001b[39m\n",
       " [2] add(\u001b[90mx\u001b[39m::\u001b[1mFloat64\u001b[22m, \u001b[90my\u001b[39m::\u001b[1mFloat32\u001b[22m)\n",
       "\u001b[90m     @\u001b[39m \u001b[90m\u001b[4mIn[106]:1\u001b[24m\u001b[39m\n",
       " [3] add(\u001b[90mx\u001b[39m, \u001b[90my\u001b[39m)\n",
       "\u001b[90m     @\u001b[39m \u001b[90m\u001b[4mIn[102]:1\u001b[24m\u001b[39m"
      ]
     },
     "execution_count": 107,
     "metadata": {},
     "output_type": "execute_result"
    }
   ],
   "source": [
    "methods(add)"
   ]
  },
  {
   "cell_type": "code",
   "execution_count": 108,
   "id": "54106b83",
   "metadata": {},
   "outputs": [
    {
     "data": {
      "text/plain": [
       "add (generic function with 4 methods)"
      ]
     },
     "execution_count": 108,
     "metadata": {},
     "output_type": "execute_result"
    }
   ],
   "source": [
    "function add(x, y, z)\n",
    "    x + y + z\n",
    "end"
   ]
  },
  {
   "cell_type": "code",
   "execution_count": 109,
   "id": "a4218b30",
   "metadata": {},
   "outputs": [
    {
     "data": {
      "text/html": [
       "# 4 methods for generic function <b>add</b> from \u001b[35mMain\u001b[39m:<ul><li> add(x::<b>Float64</b>, y::<b>Float64</b>) in Main at In[104]:1</li> <li> add(x::<b>Float64</b>, y::<b>Float32</b>) in Main at In[106]:1</li> <li> add(x, y) in Main at In[102]:1</li> <li> add(x, y, z) in Main at In[108]:1</li> </ul>"
      ],
      "text/plain": [
       "# 4 methods for generic function \"add\" from \u001b[35mMain\u001b[39m:\n",
       " [1] add(\u001b[90mx\u001b[39m::\u001b[1mFloat64\u001b[22m, \u001b[90my\u001b[39m::\u001b[1mFloat64\u001b[22m)\n",
       "\u001b[90m     @\u001b[39m \u001b[90m\u001b[4mIn[104]:1\u001b[24m\u001b[39m\n",
       " [2] add(\u001b[90mx\u001b[39m::\u001b[1mFloat64\u001b[22m, \u001b[90my\u001b[39m::\u001b[1mFloat32\u001b[22m)\n",
       "\u001b[90m     @\u001b[39m \u001b[90m\u001b[4mIn[106]:1\u001b[24m\u001b[39m\n",
       " [3] add(\u001b[90mx\u001b[39m, \u001b[90my\u001b[39m)\n",
       "\u001b[90m     @\u001b[39m \u001b[90m\u001b[4mIn[102]:1\u001b[24m\u001b[39m\n",
       " [4] add(\u001b[90mx\u001b[39m, \u001b[90my\u001b[39m, \u001b[90mz\u001b[39m)\n",
       "\u001b[90m     @\u001b[39m \u001b[90m\u001b[4mIn[108]:1\u001b[24m\u001b[39m"
      ]
     },
     "execution_count": 109,
     "metadata": {},
     "output_type": "execute_result"
    }
   ],
   "source": [
    "methods(add)"
   ]
  },
  {
   "cell_type": "code",
   "execution_count": 110,
   "id": "75dbec2b",
   "metadata": {},
   "outputs": [
    {
     "data": {
      "text/plain": [
       "6"
      ]
     },
     "execution_count": 110,
     "metadata": {},
     "output_type": "execute_result"
    }
   ],
   "source": [
    "add(1, 2, 3)"
   ]
  },
  {
   "cell_type": "code",
   "execution_count": 111,
   "id": "0185674f",
   "metadata": {},
   "outputs": [
    {
     "data": {
      "text/plain": [
       "3.0f0"
      ]
     },
     "execution_count": 111,
     "metadata": {},
     "output_type": "execute_result"
    }
   ],
   "source": [
    "add(1, 2f0)"
   ]
  },
  {
   "cell_type": "markdown",
   "id": "c967f0f8",
   "metadata": {},
   "source": [
    "- **Important: unlike type annotations on structs, type annotations do not have impact on the performance of methods**. \n",
    "<br>\n",
    "\n",
    "- Instead, each time you call a function with a new combination of arguments for the first time, Julia will automatically compile an efficient version of that function for those specific argument types. Each subsequent invocation of the function with the same argument types will use the already compiled method."
   ]
  },
  {
   "cell_type": "code",
   "execution_count": 112,
   "id": "c2b1b239",
   "metadata": {},
   "outputs": [
    {
     "data": {
      "text/html": [
       "# 4 methods for generic function <b>add</b> from \u001b[35mMain\u001b[39m:<ul><li> add(x::<b>Float64</b>, y::<b>Float64</b>) in Main at In[104]:1</li> <li> add(x::<b>Float64</b>, y::<b>Float32</b>) in Main at In[106]:1</li> <li> add(x, y) in Main at In[102]:1</li> <li> add(x, y, z) in Main at In[108]:1</li> </ul>"
      ],
      "text/plain": [
       "# 4 methods for generic function \"add\" from \u001b[35mMain\u001b[39m:\n",
       " [1] add(\u001b[90mx\u001b[39m::\u001b[1mFloat64\u001b[22m, \u001b[90my\u001b[39m::\u001b[1mFloat64\u001b[22m)\n",
       "\u001b[90m     @\u001b[39m \u001b[90m\u001b[4mIn[104]:1\u001b[24m\u001b[39m\n",
       " [2] add(\u001b[90mx\u001b[39m::\u001b[1mFloat64\u001b[22m, \u001b[90my\u001b[39m::\u001b[1mFloat32\u001b[22m)\n",
       "\u001b[90m     @\u001b[39m \u001b[90m\u001b[4mIn[106]:1\u001b[24m\u001b[39m\n",
       " [3] add(\u001b[90mx\u001b[39m, \u001b[90my\u001b[39m)\n",
       "\u001b[90m     @\u001b[39m \u001b[90m\u001b[4mIn[102]:1\u001b[24m\u001b[39m\n",
       " [4] add(\u001b[90mx\u001b[39m, \u001b[90my\u001b[39m, \u001b[90mz\u001b[39m)\n",
       "\u001b[90m     @\u001b[39m \u001b[90m\u001b[4mIn[108]:1\u001b[24m\u001b[39m"
      ]
     },
     "execution_count": 112,
     "metadata": {},
     "output_type": "execute_result"
    }
   ],
   "source": [
    "methods(add)"
   ]
  },
  {
   "cell_type": "code",
   "execution_count": 113,
   "id": "f8ed64d7",
   "metadata": {},
   "outputs": [
    {
     "name": "stdout",
     "output_type": "stream",
     "text": [
      "  0.860 ns (0 allocations: 0 bytes)\n"
     ]
    },
    {
     "data": {
      "text/plain": [
       "3.0f0"
      ]
     },
     "execution_count": 113,
     "metadata": {},
     "output_type": "execute_result"
    }
   ],
   "source": [
    "@btime add(1f0, 2f0)  # 32-bit floats"
   ]
  },
  {
   "cell_type": "code",
   "execution_count": 114,
   "id": "4ffb31db",
   "metadata": {},
   "outputs": [
    {
     "data": {
      "text/plain": [
       "add (generic function with 5 methods)"
      ]
     },
     "execution_count": 114,
     "metadata": {},
     "output_type": "execute_result"
    }
   ],
   "source": [
    "function add(x::Float32, y::Float32)\n",
    "    x + y\n",
    "end"
   ]
  },
  {
   "cell_type": "code",
   "execution_count": 115,
   "id": "ab28706d",
   "metadata": {},
   "outputs": [
    {
     "data": {
      "text/html": [
       "# 5 methods for generic function <b>add</b> from \u001b[35mMain\u001b[39m:<ul><li> add(x::<b>Float64</b>, y::<b>Float64</b>) in Main at In[104]:1</li> <li> add(x::<b>Float64</b>, y::<b>Float32</b>) in Main at In[106]:1</li> <li> add(x::<b>Float32</b>, y::<b>Float32</b>) in Main at In[114]:1</li> <li> add(x, y) in Main at In[102]:1</li> <li> add(x, y, z) in Main at In[108]:1</li> </ul>"
      ],
      "text/plain": [
       "# 5 methods for generic function \"add\" from \u001b[35mMain\u001b[39m:\n",
       " [1] add(\u001b[90mx\u001b[39m::\u001b[1mFloat64\u001b[22m, \u001b[90my\u001b[39m::\u001b[1mFloat64\u001b[22m)\n",
       "\u001b[90m     @\u001b[39m \u001b[90m\u001b[4mIn[104]:1\u001b[24m\u001b[39m\n",
       " [2] add(\u001b[90mx\u001b[39m::\u001b[1mFloat64\u001b[22m, \u001b[90my\u001b[39m::\u001b[1mFloat32\u001b[22m)\n",
       "\u001b[90m     @\u001b[39m \u001b[90m\u001b[4mIn[106]:1\u001b[24m\u001b[39m\n",
       " [3] add(\u001b[90mx\u001b[39m::\u001b[1mFloat32\u001b[22m, \u001b[90my\u001b[39m::\u001b[1mFloat32\u001b[22m)\n",
       "\u001b[90m     @\u001b[39m \u001b[90m\u001b[4mIn[114]:1\u001b[24m\u001b[39m\n",
       " [4] add(\u001b[90mx\u001b[39m, \u001b[90my\u001b[39m)\n",
       "\u001b[90m     @\u001b[39m \u001b[90m\u001b[4mIn[102]:1\u001b[24m\u001b[39m\n",
       " [5] add(\u001b[90mx\u001b[39m, \u001b[90my\u001b[39m, \u001b[90mz\u001b[39m)\n",
       "\u001b[90m     @\u001b[39m \u001b[90m\u001b[4mIn[108]:1\u001b[24m\u001b[39m"
      ]
     },
     "execution_count": 115,
     "metadata": {},
     "output_type": "execute_result"
    }
   ],
   "source": [
    "methods(add)"
   ]
  },
  {
   "cell_type": "code",
   "execution_count": 116,
   "id": "60112622",
   "metadata": {
    "scrolled": true
   },
   "outputs": [
    {
     "name": "stdout",
     "output_type": "stream",
     "text": [
      "  0.859 ns (0 allocations: 0 bytes)\n"
     ]
    },
    {
     "data": {
      "text/plain": [
       "3.0f0"
      ]
     },
     "execution_count": 116,
     "metadata": {},
     "output_type": "execute_result"
    }
   ],
   "source": [
    "@btime add(1f0, 2f0)"
   ]
  },
  {
   "cell_type": "markdown",
   "id": "d907c1c1",
   "metadata": {},
   "source": [
    "### 4.4. Example: Animals\n",
    "\n",
    "- Earlier, we defined some animals. Now, let's add behaviour using methods and multiple dispatch."
   ]
  },
  {
   "cell_type": "code",
   "execution_count": 117,
   "id": "129d0fde",
   "metadata": {
    "scrolled": true
   },
   "outputs": [
    {
     "name": "stdout",
     "output_type": "stream",
     "text": [
      "Animal\n",
      "├─ Canine\n",
      "│  ├─ Dog\n",
      "│  └─ Wolf\n",
      "└─ Feline\n",
      "   ├─ Cat\n",
      "   └─ Lion\n"
     ]
    }
   ],
   "source": [
    "print_tree(Animal)"
   ]
  },
  {
   "cell_type": "code",
   "execution_count": 118,
   "id": "0291add2",
   "metadata": {},
   "outputs": [
    {
     "data": {
      "text/plain": [
       "(:name, :home)"
      ]
     },
     "execution_count": 118,
     "metadata": {},
     "output_type": "execute_result"
    }
   ],
   "source": [
    "fieldnames(Dog)"
   ]
  },
  {
   "cell_type": "code",
   "execution_count": 119,
   "id": "7882a6dd",
   "metadata": {},
   "outputs": [
    {
     "data": {
      "text/plain": [
       "(:name, :pack)"
      ]
     },
     "execution_count": 119,
     "metadata": {},
     "output_type": "execute_result"
    }
   ],
   "source": [
    "fieldnames(Wolf)"
   ]
  },
  {
   "cell_type": "code",
   "execution_count": 120,
   "id": "04f3f7a5",
   "metadata": {},
   "outputs": [
    {
     "data": {
      "text/plain": [
       "(:name, :home)"
      ]
     },
     "execution_count": 120,
     "metadata": {},
     "output_type": "execute_result"
    }
   ],
   "source": [
    "fieldnames(Cat)"
   ]
  },
  {
   "cell_type": "code",
   "execution_count": 121,
   "id": "74b5aacc",
   "metadata": {},
   "outputs": [
    {
     "data": {
      "text/plain": [
       "(:name, :pride)"
      ]
     },
     "execution_count": 121,
     "metadata": {},
     "output_type": "execute_result"
    }
   ],
   "source": [
    "fieldnames(Lion)"
   ]
  },
  {
   "cell_type": "code",
   "execution_count": 122,
   "id": "a69b3654",
   "metadata": {},
   "outputs": [],
   "source": [
    "# Create some animals\n",
    "teddy = Dog(\"Teddy\", \"Fischer Family\")\n",
    "yukon = Wolf(\"Yukon\", \"Inner Alaska Pack\")\n",
    "felix = Cat(\"Felix\", \"Müller Family\")\n",
    "simba = Lion(\"Simba\", \"Mount Elgon Pride\");"
   ]
  },
  {
   "cell_type": "code",
   "execution_count": 123,
   "id": "670236c4",
   "metadata": {},
   "outputs": [
    {
     "data": {
      "text/plain": [
       "encounter (generic function with 2 methods)"
      ]
     },
     "execution_count": 123,
     "metadata": {},
     "output_type": "execute_result"
    }
   ],
   "source": [
    "# Methods can be annotated with abstract types\n",
    "function encounter(canine_one::Canine, canine_two::Canine)\n",
    "    println(\"Uncertain whether these two canines will get along. Remain wary.\")\n",
    "end\n",
    "\n",
    "# Methods without type annotations will accept any type\n",
    "function encounter(animal_one, animal_two)\n",
    "    println(\"No well defined encounter for a $(typeof(animal_one)) and a $(typeof(animal_two)).\")\n",
    "end"
   ]
  },
  {
   "cell_type": "code",
   "execution_count": 124,
   "id": "d7b59ea1",
   "metadata": {},
   "outputs": [
    {
     "data": {
      "text/html": [
       "# 2 methods for generic function <b>encounter</b> from \u001b[35mMain\u001b[39m:<ul><li> encounter(canine_one::<b>Canine</b>, canine_two::<b>Canine</b>) in Main at In[123]:2</li> <li> encounter(animal_one, animal_two) in Main at In[123]:7</li> </ul>"
      ],
      "text/plain": [
       "# 2 methods for generic function \"encounter\" from \u001b[35mMain\u001b[39m:\n",
       " [1] encounter(\u001b[90mcanine_one\u001b[39m::\u001b[1mCanine\u001b[22m, \u001b[90mcanine_two\u001b[39m::\u001b[1mCanine\u001b[22m)\n",
       "\u001b[90m     @\u001b[39m \u001b[90m\u001b[4mIn[123]:2\u001b[24m\u001b[39m\n",
       " [2] encounter(\u001b[90manimal_one\u001b[39m, \u001b[90manimal_two\u001b[39m)\n",
       "\u001b[90m     @\u001b[39m \u001b[90m\u001b[4mIn[123]:7\u001b[24m\u001b[39m"
      ]
     },
     "execution_count": 124,
     "metadata": {},
     "output_type": "execute_result"
    }
   ],
   "source": [
    "methods(encounter)"
   ]
  },
  {
   "cell_type": "code",
   "execution_count": 125,
   "id": "3d5bfe5e",
   "metadata": {},
   "outputs": [
    {
     "name": "stdout",
     "output_type": "stream",
     "text": [
      "Uncertain whether these two canines will get along. Remain wary.\n"
     ]
    }
   ],
   "source": [
    "encounter(teddy, yukon)"
   ]
  },
  {
   "cell_type": "code",
   "execution_count": 126,
   "id": "4b7fd208",
   "metadata": {},
   "outputs": [
    {
     "name": "stdout",
     "output_type": "stream",
     "text": [
      "No well defined encounter for a Dog and a Cat.\n"
     ]
    }
   ],
   "source": [
    "encounter(teddy, felix)"
   ]
  },
  {
   "cell_type": "code",
   "execution_count": 127,
   "id": "8c72bf30",
   "metadata": {},
   "outputs": [
    {
     "data": {
      "text/plain": [
       "encounter (generic function with 6 methods)"
      ]
     },
     "execution_count": 127,
     "metadata": {},
     "output_type": "execute_result"
    }
   ],
   "source": [
    "# Define more specific methods annotated with concrete types\n",
    "function encounter(dog_one::Dog, dog_two::Dog)\n",
    "    println(\"$(dog_one.name) wags tail. So does $(dog_two.name).\")\n",
    "end\n",
    "\n",
    "function encounter(cat_one::Cat, cat_two::Cat)\n",
    "    println(\"No thanks.\")\n",
    "end\n",
    "\n",
    "function encounter(dog::Dog, cat::Cat)\n",
    "    println(\"$(cat.name) chases $(dog.name) away.\")\n",
    "end\n",
    "\n",
    "encounter(cat::Cat, dog::Dog) = encounter(dog, cat)  # Allow arguments to be provided in either order"
   ]
  },
  {
   "cell_type": "code",
   "execution_count": 128,
   "id": "045f124a",
   "metadata": {},
   "outputs": [
    {
     "data": {
      "text/html": [
       "# 6 methods for generic function <b>encounter</b> from \u001b[35mMain\u001b[39m:<ul><li> encounter(dog_one::<b>Dog</b>, dog_two::<b>Dog</b>) in Main at In[127]:2</li> <li> encounter(canine_one::<b>Canine</b>, canine_two::<b>Canine</b>) in Main at In[123]:2</li> <li> encounter(cat_one::<b>Cat</b>, cat_two::<b>Cat</b>) in Main at In[127]:6</li> <li> encounter(dog::<b>Dog</b>, cat::<b>Cat</b>) in Main at In[127]:10</li> <li> encounter(cat::<b>Cat</b>, dog::<b>Dog</b>) in Main at In[127]:14</li> <li> encounter(animal_one, animal_two) in Main at In[123]:7</li> </ul>"
      ],
      "text/plain": [
       "# 6 methods for generic function \"encounter\" from \u001b[35mMain\u001b[39m:\n",
       " [1] encounter(\u001b[90mdog_one\u001b[39m::\u001b[1mDog\u001b[22m, \u001b[90mdog_two\u001b[39m::\u001b[1mDog\u001b[22m)\n",
       "\u001b[90m     @\u001b[39m \u001b[90m\u001b[4mIn[127]:2\u001b[24m\u001b[39m\n",
       " [2] encounter(\u001b[90mcanine_one\u001b[39m::\u001b[1mCanine\u001b[22m, \u001b[90mcanine_two\u001b[39m::\u001b[1mCanine\u001b[22m)\n",
       "\u001b[90m     @\u001b[39m \u001b[90m\u001b[4mIn[123]:2\u001b[24m\u001b[39m\n",
       " [3] encounter(\u001b[90mcat_one\u001b[39m::\u001b[1mCat\u001b[22m, \u001b[90mcat_two\u001b[39m::\u001b[1mCat\u001b[22m)\n",
       "\u001b[90m     @\u001b[39m \u001b[90m\u001b[4mIn[127]:6\u001b[24m\u001b[39m\n",
       " [4] encounter(\u001b[90mdog\u001b[39m::\u001b[1mDog\u001b[22m, \u001b[90mcat\u001b[39m::\u001b[1mCat\u001b[22m)\n",
       "\u001b[90m     @\u001b[39m \u001b[90m\u001b[4mIn[127]:10\u001b[24m\u001b[39m\n",
       " [5] encounter(\u001b[90mcat\u001b[39m::\u001b[1mCat\u001b[22m, \u001b[90mdog\u001b[39m::\u001b[1mDog\u001b[22m)\n",
       "\u001b[90m     @\u001b[39m \u001b[90m\u001b[4mIn[127]:14\u001b[24m\u001b[39m\n",
       " [6] encounter(\u001b[90manimal_one\u001b[39m, \u001b[90manimal_two\u001b[39m)\n",
       "\u001b[90m     @\u001b[39m \u001b[90m\u001b[4mIn[123]:7\u001b[24m\u001b[39m"
      ]
     },
     "execution_count": 128,
     "metadata": {},
     "output_type": "execute_result"
    }
   ],
   "source": [
    "methods(encounter)"
   ]
  },
  {
   "cell_type": "code",
   "execution_count": 129,
   "id": "5d1f6c8b",
   "metadata": {},
   "outputs": [
    {
     "name": "stdout",
     "output_type": "stream",
     "text": [
      "Felix chases Teddy away.\n"
     ]
    }
   ],
   "source": [
    "encounter(teddy, felix)"
   ]
  },
  {
   "cell_type": "code",
   "execution_count": 130,
   "id": "b88518b5",
   "metadata": {
    "scrolled": true
   },
   "outputs": [
    {
     "name": "stdout",
     "output_type": "stream",
     "text": [
      "No well defined encounter for a Lion and a Cat.\n"
     ]
    }
   ],
   "source": [
    "encounter(simba, felix)"
   ]
  },
  {
   "cell_type": "code",
   "execution_count": 131,
   "id": "0dd01cf0",
   "metadata": {},
   "outputs": [
    {
     "name": "stdout",
     "output_type": "stream",
     "text": [
      "No thanks.\n"
     ]
    }
   ],
   "source": [
    "encounter(felix, felix)"
   ]
  },
  {
   "cell_type": "markdown",
   "id": "3ad68b44",
   "metadata": {},
   "source": [
    "- **Multiple dispatch is one of the core programming paradigms of the Julia language.**\n",
    "<br>\n",
    "\n",
    "- How does this compare to standard object-oriented languages? How would you do same example with the animals and their encounters in Python?\n",
    "<br>\n",
    "\n",
    "\n",
    "- **Tip**: To get the most out of Julia's multiple dispatch, avoid the temptation to define overly specific functions. For example, you could define a method `encounter` for *any* objects which can do a thing called encounter. Add methods to the function `encounter` instead of defining new functions like `encounter_dog_dog` or `encounter_dog_dog_dog`."
   ]
  },
  {
   "cell_type": "code",
   "execution_count": 132,
   "id": "2bd81af1",
   "metadata": {},
   "outputs": [
    {
     "data": {
      "text/plain": [
       "add (generic function with 5 methods)"
      ]
     },
     "execution_count": 132,
     "metadata": {},
     "output_type": "execute_result"
    }
   ],
   "source": [
    "function add(a::Float32, b::Float32)\n",
    "     println(\"Add floats\")\n",
    "end"
   ]
  },
  {
   "cell_type": "code",
   "execution_count": 133,
   "id": "13a6458e",
   "metadata": {},
   "outputs": [
    {
     "data": {
      "text/plain": [
       "add (generic function with 5 methods)"
      ]
     },
     "execution_count": 133,
     "metadata": {},
     "output_type": "execute_result"
    }
   ],
   "source": [
    "function add(a::Float32, b::Float32)\n",
    "     println(\"Add more floats\")\n",
    "end"
   ]
  },
  {
   "cell_type": "code",
   "execution_count": 134,
   "id": "7caf5fe4",
   "metadata": {},
   "outputs": [
    {
     "name": "stdout",
     "output_type": "stream",
     "text": [
      "Add more floats\n"
     ]
    }
   ],
   "source": [
    "add(1f0, 2f0)"
   ]
  },
  {
   "cell_type": "markdown",
   "id": "ef0aab1e",
   "metadata": {},
   "source": [
    "## 5. Parametric Methods <a class=\"anchor\" id=\"parametric-methods\"></a>\n",
    "\n",
    "\n",
    "- Type parameters can also be used in method definitions. For example:"
   ]
  },
  {
   "cell_type": "code",
   "execution_count": 135,
   "id": "db3bb467",
   "metadata": {},
   "outputs": [
    {
     "data": {
      "text/plain": [
       "f (generic function with 2 methods)"
      ]
     },
     "execution_count": 135,
     "metadata": {},
     "output_type": "execute_result"
    }
   ],
   "source": [
    "function f(x::T, y::T) where {T}\n",
    "    return true\n",
    "end\n",
    "\n",
    "function f(x, y)\n",
    "    return false\n",
    "end"
   ]
  },
  {
   "cell_type": "markdown",
   "id": "a504c6b9",
   "metadata": {},
   "source": [
    "- What do you think this function does?\n"
   ]
  },
  {
   "cell_type": "code",
   "execution_count": 136,
   "id": "888ea99a",
   "metadata": {},
   "outputs": [
    {
     "data": {
      "text/plain": [
       "false"
      ]
     },
     "execution_count": 136,
     "metadata": {},
     "output_type": "execute_result"
    }
   ],
   "source": [
    "f(1f0, 1e0)"
   ]
  },
  {
   "cell_type": "code",
   "execution_count": 137,
   "id": "057ef895",
   "metadata": {},
   "outputs": [
    {
     "data": {
      "text/plain": [
       "true"
      ]
     },
     "execution_count": 137,
     "metadata": {},
     "output_type": "execute_result"
    }
   ],
   "source": [
    "f(1f0, 2f0)"
   ]
  },
  {
   "cell_type": "code",
   "execution_count": 138,
   "id": "a786f6ea",
   "metadata": {},
   "outputs": [
    {
     "data": {
      "text/html": [
       "# 2 methods for generic function <b>f</b> from \u001b[35mMain\u001b[39m:<ul><li> f(x::<b>T</b>, y::<b>T</b>)<i> where T</i> in Main at In[135]:1</li> <li> f(x, y) in Main at In[135]:5</li> </ul>"
      ],
      "text/plain": [
       "# 2 methods for generic function \"f\" from \u001b[35mMain\u001b[39m:\n",
       " [1] f(\u001b[90mx\u001b[39m::\u001b[1mT\u001b[22m, \u001b[90my\u001b[39m::\u001b[1mT\u001b[22m) where T\n",
       "\u001b[90m     @\u001b[39m \u001b[90m\u001b[4mIn[135]:1\u001b[24m\u001b[39m\n",
       " [2] f(\u001b[90mx\u001b[39m, \u001b[90my\u001b[39m)\n",
       "\u001b[90m     @\u001b[39m \u001b[90m\u001b[4mIn[135]:5\u001b[24m\u001b[39m"
      ]
     },
     "execution_count": 138,
     "metadata": {},
     "output_type": "execute_result"
    }
   ],
   "source": [
    "methods(f)"
   ]
  },
  {
   "cell_type": "markdown",
   "id": "5aabf792",
   "metadata": {},
   "source": [
    "- As before, the values of `T` can be restricted to subtypes of a given type. For example:"
   ]
  },
  {
   "cell_type": "code",
   "execution_count": 139,
   "id": "34e7a12b",
   "metadata": {},
   "outputs": [
    {
     "data": {
      "text/plain": [
       "f_numeric (generic function with 2 methods)"
      ]
     },
     "execution_count": 139,
     "metadata": {},
     "output_type": "execute_result"
    }
   ],
   "source": [
    "function f_numeric(x::T, y::T) where {T<:Number}\n",
    "    return true\n",
    "end\n",
    "\n",
    "function f_numeric(x, y)\n",
    "    return false\n",
    "end"
   ]
  },
  {
   "cell_type": "markdown",
   "id": "3ab8d659",
   "metadata": {},
   "source": [
    "- What do you think this function does?"
   ]
  },
  {
   "cell_type": "code",
   "execution_count": 140,
   "id": "bd1393cd",
   "metadata": {},
   "outputs": [
    {
     "data": {
      "text/plain": [
       "false"
      ]
     },
     "execution_count": 140,
     "metadata": {},
     "output_type": "execute_result"
    }
   ],
   "source": [
    "f_numeric(1f0, 2e0)"
   ]
  },
  {
   "cell_type": "code",
   "execution_count": 141,
   "id": "5a3feee5",
   "metadata": {},
   "outputs": [
    {
     "data": {
      "text/plain": [
       "true"
      ]
     },
     "execution_count": 141,
     "metadata": {},
     "output_type": "execute_result"
    }
   ],
   "source": [
    "f(\"1\", \"2\")"
   ]
  },
  {
   "cell_type": "code",
   "execution_count": 142,
   "id": "dd835bca",
   "metadata": {},
   "outputs": [
    {
     "data": {
      "text/plain": [
       "false"
      ]
     },
     "execution_count": 142,
     "metadata": {},
     "output_type": "execute_result"
    }
   ],
   "source": [
    "f_numeric(\"1\", \"2\")"
   ]
  },
  {
   "cell_type": "code",
   "execution_count": 143,
   "id": "28db6a32",
   "metadata": {},
   "outputs": [
    {
     "data": {
      "text/html": [
       "# 2 methods for generic function <b>f_numeric</b> from \u001b[35mMain\u001b[39m:<ul><li> f_numeric(x::<b>T</b>, y::<b>T</b>)<i> where T<:Number</i> in Main at In[139]:1</li> <li> f_numeric(x, y) in Main at In[139]:5</li> </ul>"
      ],
      "text/plain": [
       "# 2 methods for generic function \"f_numeric\" from \u001b[35mMain\u001b[39m:\n",
       " [1] f_numeric(\u001b[90mx\u001b[39m::\u001b[1mT\u001b[22m, \u001b[90my\u001b[39m::\u001b[1mT\u001b[22m) where T<:Number\n",
       "\u001b[90m     @\u001b[39m \u001b[90m\u001b[4mIn[139]:1\u001b[24m\u001b[39m\n",
       " [2] f_numeric(\u001b[90mx\u001b[39m, \u001b[90my\u001b[39m)\n",
       "\u001b[90m     @\u001b[39m \u001b[90m\u001b[4mIn[139]:5\u001b[24m\u001b[39m"
      ]
     },
     "execution_count": 143,
     "metadata": {},
     "output_type": "execute_result"
    }
   ],
   "source": [
    "methods(f_numeric)"
   ]
  },
  {
   "cell_type": "markdown",
   "id": "a1ce0125",
   "metadata": {},
   "source": [
    "- The method type parameter `T` can also be used inside the function body:"
   ]
  },
  {
   "cell_type": "code",
   "execution_count": 144,
   "id": "a69fe3e0",
   "metadata": {},
   "outputs": [
    {
     "data": {
      "text/plain": [
       "g (generic function with 1 method)"
      ]
     },
     "execution_count": 144,
     "metadata": {},
     "output_type": "execute_result"
    }
   ],
   "source": [
    "function g(x::T) where T\n",
    "    return T\n",
    "end"
   ]
  },
  {
   "cell_type": "markdown",
   "id": "8962d0ef",
   "metadata": {},
   "source": [
    "- What do you think this function does?"
   ]
  },
  {
   "cell_type": "code",
   "execution_count": 145,
   "id": "e8a38e1f",
   "metadata": {},
   "outputs": [
    {
     "data": {
      "text/plain": [
       "Float32"
      ]
     },
     "execution_count": 145,
     "metadata": {},
     "output_type": "execute_result"
    }
   ],
   "source": [
    "g(1f0)"
   ]
  },
  {
   "cell_type": "markdown",
   "id": "362658db",
   "metadata": {},
   "source": [
    "- As before, multiple type parameters are possible:"
   ]
  },
  {
   "cell_type": "code",
   "execution_count": 146,
   "id": "e251bb01",
   "metadata": {
    "scrolled": true
   },
   "outputs": [
    {
     "data": {
      "text/plain": [
       "concat_number_to_string (generic function with 2 methods)"
      ]
     },
     "execution_count": 146,
     "metadata": {},
     "output_type": "execute_result"
    }
   ],
   "source": [
    "function concat_number_to_string(x::S, y::N) where {S<:AbstractString, N<:Number}\n",
    "    return x * string(y)\n",
    "end\n",
    "\n",
    "function concat_number_to_string(x::N, y::S) where {N<:Number, S<:AbstractString}\n",
    "    return string(x) * y\n",
    "end"
   ]
  },
  {
   "cell_type": "code",
   "execution_count": 147,
   "id": "24939242",
   "metadata": {},
   "outputs": [
    {
     "data": {
      "text/plain": [
       "\"My number is 1.0\""
      ]
     },
     "execution_count": 147,
     "metadata": {},
     "output_type": "execute_result"
    }
   ],
   "source": [
    "concat_number_to_string(\"My number is \", 1.0)"
   ]
  },
  {
   "cell_type": "code",
   "execution_count": 148,
   "id": "7a25ea32",
   "metadata": {},
   "outputs": [
    {
     "data": {
      "text/plain": [
       "\"1.0 is my number.\""
      ]
     },
     "execution_count": 148,
     "metadata": {},
     "output_type": "execute_result"
    }
   ],
   "source": [
    "concat_number_to_string(1.0, \" is my number.\")"
   ]
  },
  {
   "cell_type": "code",
   "execution_count": 149,
   "id": "be03d76e",
   "metadata": {},
   "outputs": [
    {
     "data": {
      "text/html": [
       "# 2 methods for generic function <b>concat_number_to_string</b> from \u001b[35mMain\u001b[39m:<ul><li> concat_number_to_string(x::<b>S</b>, y::<b>N</b>)<i> where {S<:AbstractString, N<:Number}</i> in Main at In[146]:1</li> <li> concat_number_to_string(x::<b>N</b>, y::<b>S</b>)<i> where {N<:Number, S<:AbstractString}</i> in Main at In[146]:5</li> </ul>"
      ],
      "text/plain": [
       "# 2 methods for generic function \"concat_number_to_string\" from \u001b[35mMain\u001b[39m:\n",
       " [1] concat_number_to_string(\u001b[90mx\u001b[39m::\u001b[1mS\u001b[22m, \u001b[90my\u001b[39m::\u001b[1mN\u001b[22m) where {S<:AbstractString, N<:Number}\n",
       "\u001b[90m     @\u001b[39m \u001b[90m\u001b[4mIn[146]:1\u001b[24m\u001b[39m\n",
       " [2] concat_number_to_string(\u001b[90mx\u001b[39m::\u001b[1mN\u001b[22m, \u001b[90my\u001b[39m::\u001b[1mS\u001b[22m) where {N<:Number, S<:AbstractString}\n",
       "\u001b[90m     @\u001b[39m \u001b[90m\u001b[4mIn[146]:5\u001b[24m\u001b[39m"
      ]
     },
     "execution_count": 149,
     "metadata": {},
     "output_type": "execute_result"
    }
   ],
   "source": [
    "methods(concat_number_to_string)"
   ]
  },
  {
   "cell_type": "markdown",
   "id": "630c0896",
   "metadata": {},
   "source": [
    "- Why are parametric methods useful? One use-case is to ensure the **correctness** of your code, by enforcing invariants."
   ]
  },
  {
   "cell_type": "code",
   "execution_count": 150,
   "id": "732a0b95",
   "metadata": {},
   "outputs": [
    {
     "data": {
      "text/plain": [
       "strict_add (generic function with 1 method)"
      ]
     },
     "execution_count": 150,
     "metadata": {},
     "output_type": "execute_result"
    }
   ],
   "source": [
    "function strict_add(x::T, y::T) where {T}\n",
    "    x + y\n",
    "end"
   ]
  },
  {
   "cell_type": "code",
   "execution_count": 151,
   "id": "cc1303cc",
   "metadata": {},
   "outputs": [
    {
     "ename": "LoadError",
     "evalue": "MethodError: no method matching strict_add(::Float32, ::Float64)\n\n\u001b[0mClosest candidates are:\n\u001b[0m  strict_add(::T, \u001b[91m::T\u001b[39m) where T\n\u001b[0m\u001b[90m   @\u001b[39m \u001b[35mMain\u001b[39m \u001b[90m\u001b[4mIn[150]:1\u001b[24m\u001b[39m\n",
     "output_type": "error",
     "traceback": [
      "MethodError: no method matching strict_add(::Float32, ::Float64)\n\n\u001b[0mClosest candidates are:\n\u001b[0m  strict_add(::T, \u001b[91m::T\u001b[39m) where T\n\u001b[0m\u001b[90m   @\u001b[39m \u001b[35mMain\u001b[39m \u001b[90m\u001b[4mIn[150]:1\u001b[24m\u001b[39m\n",
      "",
      "Stacktrace:",
      " [1] top-level scope",
      "   @ In[151]:1"
     ]
    }
   ],
   "source": [
    "strict_add(1f0, 2e0)"
   ]
  },
  {
   "cell_type": "code",
   "execution_count": 152,
   "id": "5b68e4c1",
   "metadata": {},
   "outputs": [
    {
     "data": {
      "text/plain": [
       "CodeInfo(\n",
       "\u001b[90m1 ─\u001b[39m %1 = Base.add_float(x, y)\n",
       "\u001b[90m└──\u001b[39m      return %1\n",
       ")"
      ]
     },
     "execution_count": 152,
     "metadata": {},
     "output_type": "execute_result"
    }
   ],
   "source": [
    "@code_lowered 1f0 + 1f0"
   ]
  },
  {
   "cell_type": "code",
   "execution_count": 153,
   "id": "126949e2",
   "metadata": {},
   "outputs": [
    {
     "data": {
      "text/plain": [
       "CodeInfo(\n",
       "\u001b[90m1 ─\u001b[39m %1 = Base.:+\n",
       "\u001b[90m│  \u001b[39m %2 = Base.promote(x, y)\n",
       "\u001b[90m│  \u001b[39m %3 = Core._apply_iterate(Base.iterate, %1, %2)\n",
       "\u001b[90m└──\u001b[39m      return %3\n",
       ")"
      ]
     },
     "execution_count": 153,
     "metadata": {},
     "output_type": "execute_result"
    }
   ],
   "source": [
    "@code_lowered 1.0f0 + 2.0e0"
   ]
  },
  {
   "cell_type": "markdown",
   "id": "bc0cf892",
   "metadata": {},
   "source": [
    "## 6. Conclusion <a class=\"anchor\" id=\"conclusion\"></a>\n",
    "\n",
    "- When you need to define custom structure and behaviour in Julia - which will be often - think about:<br>\n",
    "    1. Structs (for structure).\n",
    "    2. Methods which operate on your structs (for behaviour)."
   ]
  },
  {
   "cell_type": "markdown",
   "id": "d43baf95",
   "metadata": {},
   "source": [
    "## 7. Further Reading <a class=\"anchor\" id=\"further-reading\"></a>\n",
    "\n",
    "- The [official Julia documentation](https://docs.julialang.org/en/v1/) is quite thorough and well-explained on the topics we've covered today:  \n",
    "\n",
    "    1. [Types](https://docs.julialang.org/en/v1/manual/types/)\n",
    "    2. [Methods and Multiple Dispatch](https://docs.julialang.org/en/v1/manual/methods/)\n",
    "    3. [Julia Performance Tips](https://docs.julialang.org/en/v1/manual/performance-tips/)<br><br>\n",
    "    \n",
    "\n",
    "- [JuliaCon 2019 | The Unreasonable Effectiveness of Multiple Dispatch | Stefan Karpinski](https://www.youtube.com/watch?v=kc9HwsxE1OY)\n"
   ]
  },
  {
   "cell_type": "markdown",
   "id": "c288a55c",
   "metadata": {},
   "source": [
    "## 8. Next Week <a class=\"anchor\" id=\"next-week\"></a>\n",
    "1. Chaos in Dynamical Systems, Part I\n",
    "2. [DynamicalSystems.jl](https://juliadynamics.github.io/DynamicalSystems.jl/latest/), Part I"
   ]
  }
 ],
 "metadata": {
  "kernelspec": {
   "display_name": "Julia 1.9.3",
   "language": "julia",
   "name": "julia-1.9"
  },
  "language_info": {
   "file_extension": ".jl",
   "mimetype": "application/julia",
   "name": "julia",
   "version": "1.9.3"
  }
 },
 "nbformat": 4,
 "nbformat_minor": 5
}
