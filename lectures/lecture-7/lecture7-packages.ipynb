{
 "cells": [
  {
   "cell_type": "code",
   "execution_count": 1,
   "id": "1e11efd9",
   "metadata": {},
   "outputs": [],
   "source": [
    "# remove folders from previous executions of this notebook first, otherwise it won't work\n",
    "try\n",
    "    rm(\"MyTest\", recursive=true)\n",
    "catch e \n",
    "    println(\"MyTest already deleted.\")\n",
    "end \n",
    "\n",
    "try \n",
    "    rm(\"MyTestTwo\", recursive=true)\n",
    "catch e \n",
    "    println(\"MyTestTwo already deleted.\")\n",
    "end"
   ]
  },
  {
   "cell_type": "markdown",
   "id": "f2100271",
   "metadata": {},
   "source": [
    "# Packages and Modules (Part II) \n",
    "\n",
    "* We talked about Julia's `Pkg` and `module` before, today we will see how you write your own packages, so that you can do that to do a simple SIR package\n",
    "* Note: In this notebook I sometimes write the input of a cell into a file, when you execute this notebook on your computer, you have to make sure that the cell number is correct, you might have to change it. But usually you will much rather code modules in editors/IDEs like VSCode(ium). \n",
    "\n",
    "\n",
    "## Pkg\n",
    "\n",
    "Hopefully, you remember the basic usage of `Pkg` Julia's system that manages enviroments and packages\n",
    "\n",
    "* `activate` actvites an environment \n",
    "* `add`, `rm` add and remove packages from the current environment \n",
    "* `up` updates the current environment \n",
    "* `status` displays information about the current environment\n",
    "* `test` tests if a package works correctly on our system\n",
    "\n",
    "The dependencies and the status of an environment are stored in the `Manifest.toml` and `Project.toml` files that are automatically created and usually also automatically edited.\n",
    "\n",
    "We saw that we can generate a new project like this:"
   ]
  },
  {
   "cell_type": "code",
   "execution_count": 2,
   "id": "78bbe257",
   "metadata": {},
   "outputs": [
    {
     "name": "stderr",
     "output_type": "stream",
     "text": [
      "\u001b[32m\u001b[1m  Generating\u001b[22m\u001b[39m  project MyTest:\n",
      "    MyTest/Project.toml\n",
      "    MyTest/src/MyTest.jl\n"
     ]
    }
   ],
   "source": [
    "]generate MyTest"
   ]
  },
  {
   "cell_type": "code",
   "execution_count": 3,
   "id": "17a8b607",
   "metadata": {},
   "outputs": [
    {
     "name": "stdout",
     "output_type": "stream",
     "text": [
      "MyTest\n",
      "├── Project.toml\n",
      "└── src\n",
      "    └── MyTest.jl\n",
      "\n",
      "1 directory, 2 files\n"
     ]
    }
   ],
   "source": [
    ";tree MyTest"
   ]
  },
  {
   "cell_type": "code",
   "execution_count": 4,
   "id": "aa877753",
   "metadata": {},
   "outputs": [
    {
     "name": "stdout",
     "output_type": "stream",
     "text": [
      "module MyTest\n",
      "\n",
      "greet() = print(\"Hello World!\")\n",
      "\n",
      "end # module\n"
     ]
    }
   ],
   "source": [
    ";less MyTest/src/MyTest.jl"
   ]
  },
  {
   "cell_type": "markdown",
   "id": "6bd2eaaf",
   "metadata": {},
   "source": [
    "The `generate` command already gives us the basic structure of a package with a `Project.toml` for the environment and the `MyTest.jl` inside the `src` folder that defines the `module` `MyTest`. We can do this also slightly more advanced with `PkgTemplates`. \n",
    "\n",
    "### PkgTemplates\n",
    "\n",
    "* `PkgTemplates` provides a more sophistaced initialization that can e.g. include GitHub, CI/CD, Licences, etc. \n",
    "* It works by defining a template\n",
    "* The minimum is: \n",
    "    * The GitHub or Gitlab username `user`\n",
    "    * Your name and mail `authors`\n",
    "    * The directory on your local machine `dir` \n",
    "    * The minimum required Julia version `julia`"
   ]
  },
  {
   "cell_type": "code",
   "execution_count": 5,
   "id": "783bacc8",
   "metadata": {},
   "outputs": [
    {
     "name": "stderr",
     "output_type": "stream",
     "text": [
      "┌ Info: Running prehooks\n",
      "└ @ PkgTemplates /Users/max/.julia/packages/PkgTemplates/j6Nfl/src/template.jl:130\n",
      "┌ Info: Running hooks\n",
      "└ @ PkgTemplates /Users/max/.julia/packages/PkgTemplates/j6Nfl/src/template.jl:130\n",
      "\u001b[32m\u001b[1m  Activating\u001b[22m\u001b[39m project at `~/Nextcloud/TUM-Dynamics-Lecture/lectures/lecture-7/MyTestTwo`\n",
      "\u001b[32m\u001b[1m    Updating\u001b[22m\u001b[39m registry at `~/.julia/registries/General.toml`\n",
      "┌ Warning: The active manifest file at `/Users/max/Nextcloud/TUM-Dynamics-Lecture/lectures/lecture-7/MyTestTwo/Manifest.toml` has an old format that is being maintained.\n",
      "│ To update to the new format run `Pkg.upgrade_manifest()` which will upgrade the format without re-resolving.\n",
      "└ @ Pkg.Types /Users/julia/buildbot/worker/package_macos64/build/usr/share/julia/stdlib/v1.7/Pkg/src/manifest.jl:287\n",
      "\u001b[32m\u001b[1m  No Changes\u001b[22m\u001b[39m to `~/Nextcloud/TUM-Dynamics-Lecture/lectures/lecture-7/MyTestTwo/Project.toml`\n",
      "\u001b[32m\u001b[1m  No Changes\u001b[22m\u001b[39m to `~/Nextcloud/TUM-Dynamics-Lecture/lectures/lecture-7/MyTestTwo/Manifest.toml`\n",
      "\u001b[32m\u001b[1mPrecompiling\u001b[22m\u001b[39m project...\n",
      "\u001b[32m  ✓ \u001b[39mMyTestTwo\n",
      "  1 dependency successfully precompiled in 2 seconds\n",
      "\u001b[32m\u001b[1m  Activating\u001b[22m\u001b[39m project at `~/.julia/environments/v1.7`\n",
      "\u001b[32m\u001b[1m  Activating\u001b[22m\u001b[39m new project at `~/Nextcloud/TUM-Dynamics-Lecture/lectures/lecture-7/MyTestTwo/docs`\n",
      "\u001b[32m\u001b[1m   Resolving\u001b[22m\u001b[39m package versions...\n",
      "\u001b[32m\u001b[1m    Updating\u001b[22m\u001b[39m `~/Nextcloud/TUM-Dynamics-Lecture/lectures/lecture-7/MyTestTwo/docs/Project.toml`\n",
      " \u001b[90m [e30172f5] \u001b[39m\u001b[92m+ Documenter v0.27.23\u001b[39m\n",
      "\u001b[32m\u001b[1m    Updating\u001b[22m\u001b[39m `~/Nextcloud/TUM-Dynamics-Lecture/lectures/lecture-7/MyTestTwo/docs/Manifest.toml`\n",
      " \u001b[90m [a4c015fc] \u001b[39m\u001b[92m+ ANSIColoredPrinters v0.0.1\u001b[39m\n",
      " \u001b[90m [ffbed154] \u001b[39m\u001b[92m+ DocStringExtensions v0.9.2\u001b[39m\n",
      " \u001b[90m [e30172f5] \u001b[39m\u001b[92m+ Documenter v0.27.23\u001b[39m\n",
      " \u001b[90m [b5f81e59] \u001b[39m\u001b[92m+ IOCapture v0.2.2\u001b[39m\n",
      " \u001b[90m [682c06a0] \u001b[39m\u001b[92m+ JSON v0.21.3\u001b[39m\n",
      " \u001b[90m [69de0a69] \u001b[39m\u001b[92m+ Parsers v2.5.1\u001b[39m\n",
      " \u001b[90m [66db9d55] \u001b[39m\u001b[92m+ SnoopPrecompile v1.0.1\u001b[39m\n",
      " \u001b[90m [2a0f44e3] \u001b[39m\u001b[92m+ Base64\u001b[39m\n",
      " \u001b[90m [ade2ca70] \u001b[39m\u001b[92m+ Dates\u001b[39m\n",
      " \u001b[90m [b77e0a4c] \u001b[39m\u001b[92m+ InteractiveUtils\u001b[39m\n",
      " \u001b[90m [76f85450] \u001b[39m\u001b[92m+ LibGit2\u001b[39m\n",
      " \u001b[90m [56ddb016] \u001b[39m\u001b[92m+ Logging\u001b[39m\n",
      " \u001b[90m [d6f4376e] \u001b[39m\u001b[92m+ Markdown\u001b[39m\n",
      " \u001b[90m [a63ad114] \u001b[39m\u001b[92m+ Mmap\u001b[39m\n",
      " \u001b[90m [ca575930] \u001b[39m\u001b[92m+ NetworkOptions\u001b[39m\n",
      " \u001b[90m [de0858da] \u001b[39m\u001b[92m+ Printf\u001b[39m\n",
      " \u001b[90m [3fa0cd96] \u001b[39m\u001b[92m+ REPL\u001b[39m\n",
      " \u001b[90m [9a3f8284] \u001b[39m\u001b[92m+ Random\u001b[39m\n",
      " \u001b[90m [ea8e919c] \u001b[39m\u001b[92m+ SHA\u001b[39m\n",
      " \u001b[90m [9e88b42a] \u001b[39m\u001b[92m+ Serialization\u001b[39m\n",
      " \u001b[90m [6462fe0b] \u001b[39m\u001b[92m+ Sockets\u001b[39m\n",
      " \u001b[90m [8dfed614] \u001b[39m\u001b[92m+ Test\u001b[39m\n",
      " \u001b[90m [4ec0a83e] \u001b[39m\u001b[92m+ Unicode\u001b[39m\n",
      "\u001b[32m\u001b[1m   Resolving\u001b[22m\u001b[39m package versions...\n",
      "\u001b[32m\u001b[1m    Updating\u001b[22m\u001b[39m `~/Nextcloud/TUM-Dynamics-Lecture/lectures/lecture-7/MyTestTwo/docs/Project.toml`\n",
      " \u001b[90m [98ba6296] \u001b[39m\u001b[92m+ MyTestTwo v0.1.0 `..`\u001b[39m\n",
      "\u001b[32m\u001b[1m    Updating\u001b[22m\u001b[39m `~/Nextcloud/TUM-Dynamics-Lecture/lectures/lecture-7/MyTestTwo/docs/Manifest.toml`\n",
      " \u001b[90m [98ba6296] \u001b[39m\u001b[92m+ MyTestTwo v0.1.0 `..`\u001b[39m\n",
      "\u001b[32m\u001b[1m  Activating\u001b[22m\u001b[39m project at `~/.julia/environments/v1.7`\n",
      "┌ Info: Running posthooks\n",
      "└ @ PkgTemplates /Users/max/.julia/packages/PkgTemplates/j6Nfl/src/template.jl:130\n",
      "┌ Info: New package is at /Users/max/Nextcloud/TUM-Dynamics-Lecture/lectures/lecture-7/MyTestTwo\n",
      "└ @ PkgTemplates /Users/max/.julia/packages/PkgTemplates/j6Nfl/src/template.jl:140\n"
     ]
    }
   ],
   "source": [
    "using PkgTemplates\n",
    "tmp = Template(user=\"my-github-user-name\",authors=\"My Name <mail@adress.com>\",dir=\".\",julia=v\"1.6.0\",plugins=[Documenter()])\n",
    "tmp(\"MyTestTwo.jl\")"
   ]
  },
  {
   "cell_type": "code",
   "execution_count": null,
   "id": "a04ad7d8",
   "metadata": {},
   "outputs": [],
   "source": []
  },
  {
   "cell_type": "markdown",
   "id": "95c7575a",
   "metadata": {},
   "source": [
    "It's handy to save the `Template` call somewhere, e.g. directly in Julia's startup script, see [PkgTemplates doc for different options](https://juliaci.github.io/PkgTemplates.jl/stable/user/#Saving-Templates-1).\n",
    "\n",
    "This creates the basic package structure: "
   ]
  },
  {
   "cell_type": "code",
   "execution_count": 6,
   "id": "841abb08",
   "metadata": {
    "scrolled": true
   },
   "outputs": [
    {
     "name": "stdout",
     "output_type": "stream",
     "text": [
      "MyTestTwo\n",
      "├── LICENSE\n",
      "├── Manifest.toml\n",
      "├── Project.toml\n",
      "├── README.md\n",
      "├── docs\n",
      "│   ├── Manifest.toml\n",
      "│   ├── Project.toml\n",
      "│   ├── make.jl\n",
      "│   └── src\n",
      "│       └── index.md\n",
      "├── src\n",
      "│   └── MyTestTwo.jl\n",
      "└── test\n",
      "    └── runtests.jl\n",
      "\n",
      "4 directories, 10 files\n"
     ]
    }
   ],
   "source": [
    ";tree MyTestTwo"
   ]
  },
  {
   "cell_type": "code",
   "execution_count": 7,
   "id": "d1eda2ad",
   "metadata": {},
   "outputs": [
    {
     "name": "stdout",
     "output_type": "stream",
     "text": [
      "/Users/max/Nextcloud/TUM-Dynamics-Lecture/lectures/lecture-7/MyTestTwo\n"
     ]
    }
   ],
   "source": [
    ";cd MyTestTwo"
   ]
  },
  {
   "cell_type": "code",
   "execution_count": 8,
   "id": "d5db2c09",
   "metadata": {},
   "outputs": [
    {
     "name": "stderr",
     "output_type": "stream",
     "text": [
      "\u001b[32m\u001b[1m  Activating\u001b[22m\u001b[39m project at `~/Nextcloud/TUM-Dynamics-Lecture/lectures/lecture-7/MyTestTwo`\n"
     ]
    }
   ],
   "source": [
    "]activate ."
   ]
  },
  {
   "cell_type": "code",
   "execution_count": 9,
   "id": "16e521fe",
   "metadata": {},
   "outputs": [
    {
     "name": "stdout",
     "output_type": "stream",
     "text": [
      "\u001b[36m\u001b[1m     Project\u001b[22m\u001b[39m MyTestTwo v0.1.0\n",
      "\u001b[32m\u001b[1m      Status\u001b[22m\u001b[39m `~/Nextcloud/TUM-Dynamics-Lecture/lectures/lecture-7/MyTestTwo/Project.toml` (empty project)\n"
     ]
    }
   ],
   "source": [
    "]status"
   ]
  },
  {
   "cell_type": "markdown",
   "id": "1096dad4",
   "metadata": {},
   "source": [
    "This already initialised a few more files. It includes a license file "
   ]
  },
  {
   "cell_type": "code",
   "execution_count": 10,
   "id": "68f88fd1",
   "metadata": {},
   "outputs": [
    {
     "name": "stdout",
     "output_type": "stream",
     "text": [
      "MIT License\n",
      "\n",
      "Copyright (c) 2022 My Name <mail@adress.com>\n",
      "\n",
      "Permission is hereby granted, free of charge, to any person obtaining a copy\n",
      "of this software and associated documentation files (the \"Software\"), to deal\n",
      "in the Software without restriction, including without limitation the rights\n",
      "to use, copy, modify, merge, publish, distribute, sublicense, and/or sell\n",
      "copies of the Software, and to permit persons to whom the Software is\n",
      "furnished to do so, subject to the following conditions:\n",
      "\n",
      "The above copyright notice and this permission notice shall be included in all\n",
      "copies or substantial portions of the Software.\n",
      "\n",
      "THE SOFTWARE IS PROVIDED \"AS IS\", WITHOUT WARRANTY OF ANY KIND, EXPRESS OR\n",
      "IMPLIED, INCLUDING BUT NOT LIMITED TO THE WARRANTIES OF MERCHANTABILITY,\n",
      "FITNESS FOR A PARTICULAR PURPOSE AND NONINFRINGEMENT. IN NO EVENT SHALL THE\n",
      "AUTHORS OR COPYRIGHT HOLDERS BE LIABLE FOR ANY CLAIM, DAMAGES OR OTHER\n",
      "LIABILITY, WHETHER IN AN ACTION OF CONTRACT, TORT OR OTHERWISE, ARISING FROM,\n",
      "OUT OF OR IN CONNECTION WITH THE SOFTWARE OR THE USE OR OTHER DEALINGS IN THE\n",
      "SOFTWARE.\n"
     ]
    }
   ],
   "source": [
    ";less LICENSE"
   ]
  },
  {
   "cell_type": "markdown",
   "id": "c5b90a51",
   "metadata": {},
   "source": [
    "An almost empty readme file:"
   ]
  },
  {
   "cell_type": "code",
   "execution_count": 11,
   "id": "29183fe9",
   "metadata": {},
   "outputs": [
    {
     "name": "stdout",
     "output_type": "stream",
     "text": [
      "# MyTestTwo\n"
     ]
    }
   ],
   "source": [
    ";less README.md"
   ]
  },
  {
   "cell_type": "markdown",
   "id": "7488db3c",
   "metadata": {},
   "source": [
    "And the folder structure for tests which we will talk about in just a few minutes. Additionally, `PkgTemplates` provides additional, more advanced features via the keyword `plugins`. \n",
    "Plugins can modifiy some of these files and add further template files \n",
    "\n",
    "* `License(name=\"MIT\", destination=\"LICENSE\")` for the license file \n",
    "* `Git(....)` for the git configuration\n",
    "* Options for CI/CD (we will talk about that in the next lectures)\n",
    "* Further Options for tests\n",
    "* `Documenter()` Documentation (can also include CI presets)\n",
    "* Badges that are displayed on the GitHub page that link to the documentation, CI report, etc...\n",
    "* [Full documentation of PackageTemplates](https://invenia.github.io/PkgTemplates.jl/dev/user/) for all further plugins that can be added "
   ]
  },
  {
   "cell_type": "markdown",
   "id": "88553a1f",
   "metadata": {},
   "source": [
    "## Modules \n",
    "\n",
    "* We first write a function for our module: "
   ]
  },
  {
   "cell_type": "code",
   "execution_count": 12,
   "id": "46dce1c8",
   "metadata": {},
   "outputs": [
    {
     "data": {
      "text/plain": [
       "add_two"
      ]
     },
     "execution_count": 12,
     "metadata": {},
     "output_type": "execute_result"
    }
   ],
   "source": [
    "\"\"\"\n",
    "    add_two(x::T) where {T<:Number} \n",
    "\n",
    "Adds two to the input number.\n",
    "\"\"\"\n",
    "function add_two(x::T) where {T<:Number}\n",
    "    x + T(2) \n",
    "end\n",
    "\n",
    "\"\"\"\n",
    "    add_two(x::AbstractArray{T,N}) where {T,N} \n",
    "\n",
    "Adds two to an array element-wise.\n",
    "\"\"\"\n",
    "function add_two(x::AbstractArray{T,N}) where {T,N}\n",
    "    x .+ T(2)\n",
    "end"
   ]
  },
  {
   "cell_type": "markdown",
   "id": "063a4c8c",
   "metadata": {},
   "source": [
    "For the documentation that we add later, we should include docstrings. There's no clear convention wheather you should write one docstring for every function of the same name or just one for all. The docstring should cover all the behaviour of all functions though!\n",
    "\n",
    "We save that as a file in our package:"
   ]
  },
  {
   "cell_type": "code",
   "execution_count": 13,
   "id": "bf335038",
   "metadata": {},
   "outputs": [
    {
     "data": {
      "text/plain": [
       "297"
      ]
     },
     "execution_count": 13,
     "metadata": {},
     "output_type": "execute_result"
    }
   ],
   "source": [
    "write(\"src/more_functions.jl\",In[12])"
   ]
  },
  {
   "cell_type": "markdown",
   "id": "e4173462",
   "metadata": {},
   "source": [
    "* We've seen the `module` command before, it is the common practice that every package defines the module in the central `src/MyTestTwo.jl` file. This will usually look something like this: "
   ]
  },
  {
   "cell_type": "code",
   "execution_count": 14,
   "id": "e6d6ab75",
   "metadata": {},
   "outputs": [
    {
     "ename": "LoadError",
     "evalue": "SystemError: opening file \"/Users/max/Nextcloud/TUM-Dynamics-Lecture/lectures/lecture-7/MyTestTwo/more_functions.jl\": No such file or directory",
     "output_type": "error",
     "traceback": [
      "SystemError: opening file \"/Users/max/Nextcloud/TUM-Dynamics-Lecture/lectures/lecture-7/MyTestTwo/more_functions.jl\": No such file or directory",
      "",
      "Stacktrace:",
      "  [1] systemerror(p::String, errno::Int32; extrainfo::Nothing)",
      "    @ Base ./error.jl:174",
      "  [2] #systemerror#68",
      "    @ ./error.jl:173 [inlined]",
      "  [3] systemerror",
      "    @ ./error.jl:173 [inlined]",
      "  [4] open(fname::String; lock::Bool, read::Nothing, write::Nothing, create::Nothing, truncate::Nothing, append::Nothing)",
      "    @ Base ./iostream.jl:293",
      "  [5] open",
      "    @ ./iostream.jl:282 [inlined]",
      "  [6] open(f::Base.var\"#364#365\"{String}, args::String; kwargs::Base.Pairs{Symbol, Union{}, Tuple{}, NamedTuple{(), Tuple{}}})",
      "    @ Base ./io.jl:328",
      "  [7] open",
      "    @ ./io.jl:328 [inlined]",
      "  [8] read",
      "    @ ./io.jl:436 [inlined]",
      "  [9] _include(mapexpr::Function, mod::Module, _path::String)",
      "    @ Base ./loading.jl:1249",
      " [10] include(mod::Module, _path::String)",
      "    @ Base ./Base.jl:418",
      " [11] include(x::String)",
      "    @ Main.MyTestTwo ./In[14]:1",
      " [12] top-level scope",
      "    @ In[14]:4",
      " [13] eval",
      "    @ ./boot.jl:373 [inlined]",
      " [14] include_string(mapexpr::typeof(REPL.softscope), mod::Module, code::String, filename::String)",
      "    @ Base ./loading.jl:1196"
     ]
    }
   ],
   "source": [
    "module MyTestTwo \n",
    "    using StatsBase # import other packages that your whole package needs \n",
    "\n",
    "    include(\"more_functions.jl\") # include source code files where the actual functions of your project are \n",
    "    \n",
    "    export add_two # export some of the functions that the users can use directly\n",
    "\n",
    "    function __init__() # OPTIONAL: this special function is always executed when the module is loaded \n",
    "        nothing \n",
    "    end \n",
    "end "
   ]
  },
  {
   "cell_type": "markdown",
   "id": "f9787051",
   "metadata": {},
   "source": [
    "The error only occurs here in the Jupyter notebook, it will not occur when the package/module is called in the proper way"
   ]
  },
  {
   "cell_type": "code",
   "execution_count": 15,
   "id": "1ca50a10",
   "metadata": {},
   "outputs": [
    {
     "data": {
      "text/plain": [
       "425"
      ]
     },
     "execution_count": 15,
     "metadata": {},
     "output_type": "execute_result"
    }
   ],
   "source": [
    "write(\"src/MyTestTwo.jl\",In[14])"
   ]
  },
  {
   "cell_type": "markdown",
   "id": "32845d79",
   "metadata": {},
   "source": [
    "* `include`: The order of the files that you include matters, they are loaded sequentially, one after the other. If you e.g. define abstract types, you should do this in the first file you include (or sometimes also directly in the module file)\n",
    "* `export`: All functions that are exported can be called directly after the user imports the library with `using MyTestTwo`, all other functions can be still called directly with e.g. `MyTestTwo.other_function`\n",
    "* `__init__`: The init funcition is usually not necessary. However, it is sometimes used to determine what hardware is available and chooses the right functions based on that (e.g. whether a GPU is available or not)"
   ]
  },
  {
   "cell_type": "code",
   "execution_count": 16,
   "id": "cc86056e",
   "metadata": {},
   "outputs": [
    {
     "name": "stdout",
     "output_type": "stream",
     "text": [
      ".\n",
      "├── LICENSE\n",
      "├── Manifest.toml\n",
      "├── Project.toml\n",
      "├── README.md\n",
      "├── docs\n",
      "│   ├── Manifest.toml\n",
      "│   ├── Project.toml\n",
      "│   ├── make.jl\n",
      "│   └── src\n",
      "│       └── index.md\n",
      "├── src\n",
      "│   ├── MyTestTwo.jl\n",
      "│   └── more_functions.jl\n",
      "└── test\n",
      "    └── runtests.jl\n",
      "\n",
      "4 directories, 11 files\n"
     ]
    }
   ],
   "source": [
    ";tree ."
   ]
  },
  {
   "cell_type": "code",
   "execution_count": 17,
   "id": "5683dc0c",
   "metadata": {},
   "outputs": [
    {
     "name": "stderr",
     "output_type": "stream",
     "text": [
      "\u001b[32m\u001b[1m   Resolving\u001b[22m\u001b[39m package versions...\n",
      "\u001b[32m\u001b[1m    Updating\u001b[22m\u001b[39m `~/Nextcloud/TUM-Dynamics-Lecture/lectures/lecture-7/MyTestTwo/Project.toml`\n",
      " \u001b[90m [2913bbd2] \u001b[39m\u001b[92m+ StatsBase v0.33.21\u001b[39m\n",
      "\u001b[32m\u001b[1m    Updating\u001b[22m\u001b[39m `~/Nextcloud/TUM-Dynamics-Lecture/lectures/lecture-7/MyTestTwo/Manifest.toml`\n",
      " \u001b[90m [d360d2e6] \u001b[39m\u001b[92m+ ChainRulesCore v1.15.6\u001b[39m\n",
      " \u001b[90m [9e997f8a] \u001b[39m\u001b[92m+ ChangesOfVariables v0.1.4\u001b[39m\n",
      " \u001b[90m [34da2185] \u001b[39m\u001b[92m+ Compat v4.5.0\u001b[39m\n",
      " \u001b[90m [9a962f9c] \u001b[39m\u001b[92m+ DataAPI v1.13.0\u001b[39m\n",
      " \u001b[90m [864edb3b] \u001b[39m\u001b[92m+ DataStructures v0.18.13\u001b[39m\n",
      " \u001b[90m [ffbed154] \u001b[39m\u001b[92m+ DocStringExtensions v0.9.2\u001b[39m\n",
      " \u001b[90m [3587e190] \u001b[39m\u001b[92m+ InverseFunctions v0.1.8\u001b[39m\n",
      " \u001b[90m [92d709cd] \u001b[39m\u001b[92m+ IrrationalConstants v0.1.1\u001b[39m\n",
      " \u001b[90m [2ab3a3ac] \u001b[39m\u001b[92m+ LogExpFunctions v0.3.19\u001b[39m\n",
      " \u001b[90m [e1d29d7a] \u001b[39m\u001b[92m+ Missings v1.0.2\u001b[39m\n",
      " \u001b[90m [bac558e1] \u001b[39m\u001b[92m+ OrderedCollections v1.4.1\u001b[39m\n",
      " \u001b[90m [a2af1166] \u001b[39m\u001b[92m+ SortingAlgorithms v1.1.0\u001b[39m\n",
      " \u001b[90m [82ae8749] \u001b[39m\u001b[92m+ StatsAPI v1.5.0\u001b[39m\n",
      " \u001b[90m [2913bbd2] \u001b[39m\u001b[92m+ StatsBase v0.33.21\u001b[39m\n",
      " \u001b[90m [56f22d72] \u001b[39m\u001b[92m+ Artifacts\u001b[39m\n",
      " \u001b[90m [2a0f44e3] \u001b[39m\u001b[92m+ Base64\u001b[39m\n",
      " \u001b[90m [ade2ca70] \u001b[39m\u001b[92m+ Dates\u001b[39m\n",
      " \u001b[90m [b77e0a4c] \u001b[39m\u001b[92m+ InteractiveUtils\u001b[39m\n",
      " \u001b[90m [76f85450] \u001b[39m\u001b[92m+ LibGit2\u001b[39m\n",
      " \u001b[90m [8f399da3] \u001b[39m\u001b[92m+ Libdl\u001b[39m\n",
      " \u001b[90m [37e2e46d] \u001b[39m\u001b[92m+ LinearAlgebra\u001b[39m\n",
      " \u001b[90m [56ddb016] \u001b[39m\u001b[92m+ Logging\u001b[39m\n",
      " \u001b[90m [d6f4376e] \u001b[39m\u001b[92m+ Markdown\u001b[39m\n",
      " \u001b[90m [ca575930] \u001b[39m\u001b[92m+ NetworkOptions\u001b[39m\n",
      " \u001b[90m [de0858da] \u001b[39m\u001b[92m+ Printf\u001b[39m\n",
      " \u001b[90m [9a3f8284] \u001b[39m\u001b[92m+ Random\u001b[39m\n",
      " \u001b[90m [ea8e919c] \u001b[39m\u001b[92m+ SHA\u001b[39m\n",
      " \u001b[90m [9e88b42a] \u001b[39m\u001b[92m+ Serialization\u001b[39m\n",
      " \u001b[90m [2f01184e] \u001b[39m\u001b[92m+ SparseArrays\u001b[39m\n",
      " \u001b[90m [10745b16] \u001b[39m\u001b[92m+ Statistics\u001b[39m\n",
      " \u001b[90m [8dfed614] \u001b[39m\u001b[92m+ Test\u001b[39m\n",
      " \u001b[90m [cf7118a7] \u001b[39m\u001b[92m+ UUIDs\u001b[39m\n",
      " \u001b[90m [4ec0a83e] \u001b[39m\u001b[92m+ Unicode\u001b[39m\n",
      " \u001b[90m [e66e0078] \u001b[39m\u001b[92m+ CompilerSupportLibraries_jll\u001b[39m\n",
      " \u001b[90m [4536629a] \u001b[39m\u001b[92m+ OpenBLAS_jll\u001b[39m\n",
      " \u001b[90m [8e850b90] \u001b[39m\u001b[92m+ libblastrampoline_jll\u001b[39m\n",
      "┌ Warning: The active manifest file is an older format with no julia version entry. Dependencies may have been resolved with a different julia version.\n",
      "└ @ nothing /Users/max/Nextcloud/TUM-Dynamics-Lecture/lectures/lecture-7/MyTestTwo/Manifest.toml:0\n",
      "\u001b[32m\u001b[1mPrecompiling\u001b[22m\u001b[39m project...\n",
      "\u001b[32m  ✓ \u001b[39mMyTestTwo\n",
      "  1 dependency successfully precompiled in 1 seconds (17 already precompiled)\n"
     ]
    }
   ],
   "source": [
    "]add StatsBase "
   ]
  },
  {
   "cell_type": "markdown",
   "id": "8fa5f026",
   "metadata": {},
   "source": [
    "We add all packages we imported to environment."
   ]
  },
  {
   "cell_type": "markdown",
   "id": "2c773b43",
   "metadata": {},
   "source": [
    "### Registry \n",
    "\n",
    "The Julia community manages all packages in regestries. "
   ]
  },
  {
   "cell_type": "code",
   "execution_count": 18,
   "id": "63a36e0d",
   "metadata": {},
   "outputs": [
    {
     "name": "stderr",
     "output_type": "stream",
     "text": [
      "\u001b[32m\u001b[1mRegistry Status\u001b[22m\u001b[39m \n",
      "\u001b[90m [23338594]\u001b[39m General\n"
     ]
    }
   ],
   "source": [
    "]registry st"
   ]
  },
  {
   "cell_type": "markdown",
   "id": "acaead52",
   "metadata": {},
   "source": [
    "* Normally, that is just the `General` registry that is itself a GitHub repository where all packages are listed  [General Registry](https://github.com/JuliaRegistries/General). \n",
    "\n",
    "* This repository is not managed manually but by bots. As long as a package follows the regular Julia package structure, it is relativly easy to add it to this registry with the [Registrator](https://github.com/JuliaRegistries/Registrator.jl/#registrator) bot."
   ]
  },
  {
   "cell_type": "markdown",
   "id": "27874af8",
   "metadata": {},
   "source": [
    "## Tests\n",
    "\n",
    "It is good practice to write unit tests for most functions of every package, that test if the package works as intended. They are particular practical to catch unwanted errors: You might make changes to one function that is also used by other functions and affects them. A properly written test makes sure that all functions still work as intended. \n",
    "\n",
    "Julia uses the `Test` package for that. In the package structure, all tests are written in the `test` subfolder that was created by `PkgTemplates` for us. These test are executed every time we call `]test MyTestTwo`. "
   ]
  },
  {
   "cell_type": "markdown",
   "id": "f4951ee1",
   "metadata": {},
   "source": [
    "* Usually each important function is tested seperately \n",
    "* One should avoid large computation in tests, i.e. tests should run fairly quickly (~ minutes)\n",
    "* The `runtests.jl` files is meant to load common packages and include all different tests"
   ]
  },
  {
   "cell_type": "code",
   "execution_count": 19,
   "id": "fb45daea",
   "metadata": {},
   "outputs": [
    {
     "name": "stderr",
     "output_type": "stream",
     "text": [
      "\u001b[32m\u001b[1m   Resolving\u001b[22m\u001b[39m package versions...\n",
      "\u001b[32m\u001b[1m    Updating\u001b[22m\u001b[39m `~/Nextcloud/TUM-Dynamics-Lecture/lectures/lecture-7/MyTestTwo/Project.toml`\n",
      " \u001b[90m [8dfed614] \u001b[39m\u001b[92m+ Test\u001b[39m\n",
      "\u001b[32m\u001b[1m  No Changes\u001b[22m\u001b[39m to `~/Nextcloud/TUM-Dynamics-Lecture/lectures/lecture-7/MyTestTwo/Manifest.toml`\n"
     ]
    }
   ],
   "source": [
    "]add Test"
   ]
  },
  {
   "cell_type": "code",
   "execution_count": 20,
   "id": "21265f96",
   "metadata": {},
   "outputs": [],
   "source": [
    "using Test "
   ]
  },
  {
   "cell_type": "code",
   "execution_count": 21,
   "id": "90abd622",
   "metadata": {},
   "outputs": [
    {
     "data": {
      "text/plain": [
       "\u001b[32m\u001b[1mTest Passed\u001b[22m\u001b[39m\n",
       "  Expression: add_two([2.0, 4.0]) ≈ [4.0, 6.0]\n",
       "   Evaluated: [4.0, 6.0] ≈ [4.0, 6.0]"
      ]
     },
     "execution_count": 21,
     "metadata": {},
     "output_type": "execute_result"
    }
   ],
   "source": [
    "@test add_two(2.) ≈ 4.\n",
    "    \n",
    "@test add_two([2.,4.]) ≈ [4.,6.]"
   ]
  },
  {
   "cell_type": "code",
   "execution_count": 22,
   "id": "9a97d5fd",
   "metadata": {},
   "outputs": [
    {
     "data": {
      "text/plain": [
       "64"
      ]
     },
     "execution_count": 22,
     "metadata": {},
     "output_type": "execute_result"
    }
   ],
   "source": [
    "write(\"test/function_tests.jl\",In[21])"
   ]
  },
  {
   "cell_type": "code",
   "execution_count": 23,
   "id": "d291401e",
   "metadata": {},
   "outputs": [
    {
     "name": "stderr",
     "output_type": "stream",
     "text": [
      "┌ Info: Precompiling MyTestTwo [98ba6296-b0dd-4d69-957d-5ee3316ddeba]\n",
      "└ @ Base loading.jl:1423\n",
      "WARNING: using MyTestTwo.MyTestTwo in module Main conflicts with an existing identifier.\n",
      "WARNING: using MyTestTwo.add_two in module Main conflicts with an existing identifier.\n"
     ]
    },
    {
     "ename": "LoadError",
     "evalue": "importing MyTestTwo into Main conflicts with an existing identifier",
     "output_type": "error",
     "traceback": [
      "importing MyTestTwo into Main conflicts with an existing identifier",
      "",
      "Stacktrace:",
      " [1] eval",
      "   @ ./boot.jl:373 [inlined]",
      " [2] include_string(mapexpr::typeof(REPL.softscope), mod::Module, code::String, filename::String)",
      "   @ Base ./loading.jl:1196"
     ]
    }
   ],
   "source": [
    "using Test, MyTestTwo # import packages that all tests need \n",
    "\n",
    "# maybe you load some data or define some constant that all tests need \n",
    "\n",
    "@testset \"Test MyTestTwo.jl Basics\" begin\n",
    "    include(\"function_tests.jl\") # include individual tests \n",
    "end "
   ]
  },
  {
   "cell_type": "code",
   "execution_count": null,
   "id": "686c0159",
   "metadata": {},
   "outputs": [],
   "source": [
    ";tree ."
   ]
  },
  {
   "cell_type": "code",
   "execution_count": 24,
   "id": "f3278c1c",
   "metadata": {},
   "outputs": [
    {
     "data": {
      "text/plain": [
       "242"
      ]
     },
     "execution_count": 24,
     "metadata": {},
     "output_type": "execute_result"
    }
   ],
   "source": [
    "write(\"test/runtests.jl\",In[23])"
   ]
  },
  {
   "cell_type": "markdown",
   "id": "9f1224c7",
   "metadata": {
    "cell_style": "split"
   },
   "source": [
    "It did not work from Jupyter but will work from the command line"
   ]
  },
  {
   "cell_type": "markdown",
   "id": "be97dc64",
   "metadata": {},
   "source": [
    "* A `@testset` groups different tests together \n",
    "* Behind `@test` there has to be boolean, if it evaluates to `true` the test is passed, if it evaluates to `false` the test is failed\n",
    "* Different OSes and hardware can sometimes lead to slightly different numerical results, it is important to account for that when writing test with some kind of relative tolerence\n",
    "* An easy way to do this is by using `≈` instead of `==`\n",
    "\n",
    "### Random Numbers and Tests\n",
    "* If your functions use random numbers at some point, we can make the results reproducible nonetheless by using a specific random seed"
   ]
  },
  {
   "cell_type": "code",
   "execution_count": 25,
   "id": "f85bb10a",
   "metadata": {},
   "outputs": [
    {
     "data": {
      "text/plain": [
       "0.13850537979311484"
      ]
     },
     "execution_count": 25,
     "metadata": {},
     "output_type": "execute_result"
    }
   ],
   "source": [
    "rand()"
   ]
  },
  {
   "cell_type": "code",
   "execution_count": 26,
   "id": "faaf37ba",
   "metadata": {},
   "outputs": [
    {
     "data": {
      "text/plain": [
       "TaskLocalRNG()"
      ]
     },
     "execution_count": 26,
     "metadata": {},
     "output_type": "execute_result"
    }
   ],
   "source": [
    "using Random\n",
    "\n",
    "Random.seed!(1234)"
   ]
  },
  {
   "cell_type": "code",
   "execution_count": 27,
   "id": "25094f6f",
   "metadata": {},
   "outputs": [
    {
     "data": {
      "text/plain": [
       "0.32597672886359486"
      ]
     },
     "execution_count": 27,
     "metadata": {},
     "output_type": "execute_result"
    }
   ],
   "source": [
    "rand()"
   ]
  },
  {
   "cell_type": "code",
   "execution_count": 28,
   "id": "bb7df9ee",
   "metadata": {},
   "outputs": [
    {
     "data": {
      "text/plain": [
       "TaskLocalRNG()"
      ]
     },
     "execution_count": 28,
     "metadata": {},
     "output_type": "execute_result"
    }
   ],
   "source": [
    "Random.seed!(1234)"
   ]
  },
  {
   "cell_type": "code",
   "execution_count": 29,
   "id": "fdcb892f",
   "metadata": {},
   "outputs": [
    {
     "data": {
      "text/plain": [
       "0.32597672886359486"
      ]
     },
     "execution_count": 29,
     "metadata": {},
     "output_type": "execute_result"
    }
   ],
   "source": [
    "rand()"
   ]
  },
  {
   "cell_type": "markdown",
   "id": "6f832cd9",
   "metadata": {},
   "source": [
    "The default random number generator of Julia should work across different OSes the same when a random seed is set."
   ]
  },
  {
   "cell_type": "markdown",
   "id": "b495ed76",
   "metadata": {},
   "source": [
    "## Documentation \n",
    "\n",
    "Every package also should have a documentation. The Julia package structure also has a dedicated place for that and libraries that help building the documentation. The most common library for that is `Documenter.jl`"
   ]
  },
  {
   "cell_type": "code",
   "execution_count": 30,
   "id": "26754d92",
   "metadata": {},
   "outputs": [
    {
     "name": "stdout",
     "output_type": "stream",
     "text": [
      ".\n",
      "├── LICENSE\n",
      "├── Manifest.toml\n",
      "├── Project.toml\n",
      "├── README.md\n",
      "├── docs\n",
      "│   ├── Manifest.toml\n",
      "│   ├── Project.toml\n",
      "│   ├── make.jl\n",
      "│   └── src\n",
      "│       └── index.md\n",
      "├── src\n",
      "│   ├── MyTestTwo.jl\n",
      "│   └── more_functions.jl\n",
      "└── test\n",
      "    ├── function_tests.jl\n",
      "    └── runtests.jl\n",
      "\n",
      "4 directories, 12 files\n"
     ]
    }
   ],
   "source": [
    ";tree ."
   ]
  },
  {
   "cell_type": "code",
   "execution_count": 31,
   "id": "87918541",
   "metadata": {},
   "outputs": [
    {
     "name": "stdout",
     "output_type": "stream",
     "text": [
      "```@meta\n",
      "CurrentModule = MyTestTwo\n",
      "```\n",
      "\n",
      "# MyTestTwo\n",
      "\n",
      "Documentation for [MyTestTwo](https://github.com/my-github-user-name/MyTestTwo.jl).\n",
      "\n",
      "```@index\n",
      "```\n",
      "\n",
      "```@autodocs\n",
      "Modules = [MyTestTwo]\n",
      "```\n"
     ]
    }
   ],
   "source": [
    ";less docs/src/index.md"
   ]
  },
  {
   "cell_type": "code",
   "execution_count": 32,
   "id": "50f3f6b2",
   "metadata": {},
   "outputs": [
    {
     "name": "stdout",
     "output_type": "stream",
     "text": [
      "using MyTestTwo\n",
      "using Documenter\n",
      "\n",
      "DocMeta.setdocmeta!(MyTestTwo, :DocTestSetup, :(using MyTestTwo); recursive=true)\n",
      "\n",
      "makedocs(;\n",
      "    modules=[MyTestTwo],\n",
      "    authors=\"My Name <mail@adress.com>\",\n",
      "    repo=\"https://github.com/my-github-user-name/MyTestTwo.jl/blob/{commit}{path}#{line}\",\n",
      "    sitename=\"MyTestTwo.jl\",\n",
      "    format=Documenter.HTML(;\n",
      "        prettyurls=get(ENV, \"CI\", \"false\") == \"true\",\n",
      "        edit_link=\"main\",\n",
      "        assets=String[],\n",
      "    ),\n",
      "    pages=[\n",
      "        \"Home\" => \"index.md\",\n",
      "    ],\n",
      ")\n"
     ]
    }
   ],
   "source": [
    ";less docs/make.jl"
   ]
  },
  {
   "cell_type": "markdown",
   "id": "fe5aa268",
   "metadata": {},
   "source": [
    "* With `Documenter` we can write the documentation using Markdown, similar to what we are doing here in Jupyter notebooks\n",
    "* `Documenter` also scans all source files for docstrings that are written befor the function definitons "
   ]
  },
  {
   "cell_type": "markdown",
   "id": "07eef7a6",
   "metadata": {},
   "source": [
    "* The `@autodocs` macro automatically collects all docstrings of all functions in our package. \n",
    "* The preset that we generated with `PkgTemplates` will already give as a first draft of a documenation when we build it (we have to do this outside of a Jupyter notebook)\n",
    "* The documentation is saved in the `docs/build` folder\n",
    "* If you have LaTeX installed, it is also possible to get a pdf using LaTeX"
   ]
  },
  {
   "cell_type": "markdown",
   "id": "c5472f3b",
   "metadata": {},
   "source": [
    "* Instead of `@autodocs` we can also directly choose ourselves which functions are listed with the `@docs` macro: "
   ]
  },
  {
   "cell_type": "code",
   "execution_count": 33,
   "id": "1db26753",
   "metadata": {},
   "outputs": [
    {
     "ename": "LoadError",
     "evalue": "syntax: extra token \"just\" after end of expression",
     "output_type": "error",
     "traceback": [
      "syntax: extra token \"just\" after end of expression",
      "",
      "Stacktrace:",
      " [1] top-level scope",
      "   @ In[33]:3",
      " [2] eval",
      "   @ ./boot.jl:373 [inlined]",
      " [3] include_string(mapexpr::typeof(REPL.softscope), mod::Module, code::String, filename::String)",
      "   @ Base ./loading.jl:1196"
     ]
    }
   ],
   "source": [
    "## One of our functions \n",
    "\n",
    "Here, we just list this one function\n",
    "    \n",
    "```@docs\n",
    "add_two \n",
    "```"
   ]
  },
  {
   "cell_type": "code",
   "execution_count": 34,
   "id": "fb531236",
   "metadata": {},
   "outputs": [
    {
     "data": {
      "text/plain": [
       "89"
      ]
     },
     "execution_count": 34,
     "metadata": {},
     "output_type": "execute_result"
    }
   ],
   "source": [
    "write(\"docs/src/functions.md\",In[33])"
   ]
  },
  {
   "cell_type": "markdown",
   "id": "5b385ccd",
   "metadata": {},
   "source": [
    "We can also add more pages to the documentation by editing the `make.jl` file. We just have to add them to the `pages` keyword. "
   ]
  },
  {
   "cell_type": "code",
   "execution_count": 35,
   "id": "f6acf966",
   "metadata": {},
   "outputs": [
    {
     "ename": "LoadError",
     "evalue": "importing MyTestTwo into Main conflicts with an existing identifier",
     "output_type": "error",
     "traceback": [
      "importing MyTestTwo into Main conflicts with an existing identifier",
      "",
      "Stacktrace:",
      " [1] eval",
      "   @ ./boot.jl:373 [inlined]",
      " [2] include_string(mapexpr::typeof(REPL.softscope), mod::Module, code::String, filename::String)",
      "   @ Base ./loading.jl:1196"
     ]
    }
   ],
   "source": [
    "using MyTestTwo\n",
    "using Documenter\n",
    "\n",
    "DocMeta.setdocmeta!(MyTestTwo, :DocTestSetup, :(using MyTestTwo); recursive=true)\n",
    "\n",
    "makedocs(;\n",
    "    modules=[MyTestTwo],\n",
    "    authors=\"My Name <mail@adress.com>\",\n",
    "    repo=\"https://github.com/my-github-user-name/MyTestTwo.jl/blob/{commit}{path}#{line}\",\n",
    "    sitename=\"MyTestTwo.jl\",\n",
    "    format=Documenter.HTML(;\n",
    "        prettyurls=get(ENV, \"CI\", \"false\") == \"true\",\n",
    "        assets=String[],\n",
    "    ),\n",
    "    pages=[\n",
    "        \"Home\" => \"index.md\",\n",
    "        \"Functions\" => \"functions.md\"\n",
    "    ],\n",
    ")"
   ]
  },
  {
   "cell_type": "code",
   "execution_count": 36,
   "id": "474a1b9d",
   "metadata": {},
   "outputs": [
    {
     "data": {
      "text/plain": [
       "517"
      ]
     },
     "execution_count": 36,
     "metadata": {},
     "output_type": "execute_result"
    }
   ],
   "source": [
    "write(\"docs/make.jl\",In[35])"
   ]
  },
  {
   "cell_type": "markdown",
   "id": "3cf7ea15",
   "metadata": {},
   "source": [
    "To make the documention: \n",
    "* Open Julia and change to the `docs` folder\n",
    "* Activate the `docs` environment\n",
    "* Execture `include(make.jl)`"
   ]
  },
  {
   "cell_type": "markdown",
   "id": "f474a966",
   "metadata": {},
   "source": [
    "* The documentation will not fully work if you just open it in your browser unfortunately (in this case it does though). You will either need to run a local webserver (e.g. with `python3 -m http.server` and then opening `localhost:8000` in your browser) or upload it somewhere.\n",
    "\n",
    "* In the next lectures we will look into how to automate these building processes, uploading the documentation and also running the tests with CI/CD"
   ]
  },
  {
   "cell_type": "markdown",
   "id": "af8b6b1f",
   "metadata": {},
   "source": [
    "Further recourses on Documenter.jl you can find in its [documentation](https://juliadocs.github.io/Documenter.jl/stable/)"
   ]
  },
  {
   "cell_type": "code",
   "execution_count": null,
   "id": "b2b8d544",
   "metadata": {},
   "outputs": [],
   "source": []
  }
 ],
 "metadata": {
  "kernelspec": {
   "display_name": "Julia 1.7.2",
   "language": "julia",
   "name": "julia-1.7"
  },
  "language_info": {
   "file_extension": ".jl",
   "mimetype": "application/julia",
   "name": "julia",
   "version": "1.7.2"
  }
 },
 "nbformat": 4,
 "nbformat_minor": 5
}
