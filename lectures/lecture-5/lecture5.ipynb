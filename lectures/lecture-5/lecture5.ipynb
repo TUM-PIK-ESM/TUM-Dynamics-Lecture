{
 "cells": [
  {
   "cell_type": "markdown",
   "id": "226ff741",
   "metadata": {},
   "source": [
    "# Lecture 5 - Scoping of Variables and DynamicalSystems.jl\n",
    "\n",
    "## Contents\n",
    "1. [Julia - Modules, Namespaces, and Variable Scopes](#modules)\n",
    "2. [DynamicalSystems.jl](#dynsys)\n",
    "3. [Further Reading](#further-reading)"
   ]
  },
  {
   "cell_type": "markdown",
   "id": "1b312899",
   "metadata": {},
   "source": [
    "## 1. Modules, Namespaces, and Variable Scopes <a class=\"anchor\" id=\"modules\"></a>\n",
    "\n",
    "In last week's exercise you came across global variables, and demonstrated their negative impact on performance.\n",
    "\n",
    "To quote from the Julia [Performance Tips](https://docs.julialang.org/en/v1/manual/performance-tips/#Avoid-global-variables):\n",
    "\n",
    "> A global variable might have its value, and therefore its type, change at any point. This makes it difficult for the compiler to optimize code using global variables. Variables should be local, or passed as arguments to functions, whenever possible."
   ]
  },
  {
   "cell_type": "code",
   "execution_count": 19,
   "id": "3e8cb0c0",
   "metadata": {},
   "outputs": [
    {
     "data": {
      "text/plain": [
       "2-element Vector{Float64}:\n",
       "  0.9335152056745355\n",
       " -0.04773062839177583"
      ]
     },
     "execution_count": 19,
     "metadata": {},
     "output_type": "execute_result"
    }
   ],
   "source": [
    "# These are global variables and that's bad. But why?\n",
    "α = 1.0\n",
    "β = 0.5\n",
    "γ = 1.0\n",
    "δ = 0.2\n",
    "\n",
    "function lotka_volterra(x)\n",
    "    return [α*x[1] - β*x[1]*x[2], -γ*x[2] + δ*x[1]*x[2]]\n",
    "end\n",
    "\n",
    "u = rand(2)\n",
    "lotka_volterra(u)"
   ]
  },
  {
   "cell_type": "markdown",
   "id": "74a4e619",
   "metadata": {},
   "source": [
    "We are free to change the types of these global variables."
   ]
  },
  {
   "cell_type": "code",
   "execution_count": 20,
   "id": "e3602bca",
   "metadata": {
    "scrolled": true
   },
   "outputs": [
    {
     "data": {
      "text/plain": [
       "2-element Vector{Float64}:\n",
       "  0.9335152056745355\n",
       " -0.04773062839177583"
      ]
     },
     "execution_count": 20,
     "metadata": {},
     "output_type": "execute_result"
    }
   ],
   "source": [
    "α = 1              # Mathematically equivalent but it's now an integer\n",
    "lotka_volterra(u)  # This function call will now have to do something different \"under the hood\""
   ]
  },
  {
   "cell_type": "code",
   "execution_count": 21,
   "id": "22f66985",
   "metadata": {
    "scrolled": true
   },
   "outputs": [
    {
     "name": "stdout",
     "output_type": "stream",
     "text": [
      "MethodInstance for lotka_volterra(::Vector{Float64})\n",
      "  from lotka_volterra(x) in Main at In[19]:7\n",
      "Arguments\n",
      "  #self#\u001b[36m::Core.Const(lotka_volterra)\u001b[39m\n",
      "  x\u001b[36m::Vector{Float64}\u001b[39m\n",
      "Body\u001b[91m\u001b[1m::Vector\u001b[22m\u001b[39m\n",
      "\u001b[90m1 ─\u001b[39m %1  = Base.getindex(x, 1)\u001b[36m::Float64\u001b[39m\n",
      "\u001b[90m│  \u001b[39m %2  = (Main.α * %1)\u001b[91m\u001b[1m::Any\u001b[22m\u001b[39m\n",
      "\u001b[90m│  \u001b[39m %3  = Base.getindex(x, 1)\u001b[36m::Float64\u001b[39m\n",
      "\u001b[90m│  \u001b[39m %4  = Base.getindex(x, 2)\u001b[36m::Float64\u001b[39m\n",
      "\u001b[90m│  \u001b[39m %5  = (Main.β * %3 * %4)\u001b[91m\u001b[1m::Any\u001b[22m\u001b[39m\n",
      "\u001b[90m│  \u001b[39m %6  = (%2 - %5)\u001b[91m\u001b[1m::Any\u001b[22m\u001b[39m\n",
      "\u001b[90m│  \u001b[39m %7  = -Main.γ\u001b[91m\u001b[1m::Any\u001b[22m\u001b[39m\n",
      "\u001b[90m│  \u001b[39m %8  = Base.getindex(x, 2)\u001b[36m::Float64\u001b[39m\n",
      "\u001b[90m│  \u001b[39m %9  = (%7 * %8)\u001b[91m\u001b[1m::Any\u001b[22m\u001b[39m\n",
      "\u001b[90m│  \u001b[39m %10 = Base.getindex(x, 1)\u001b[36m::Float64\u001b[39m\n",
      "\u001b[90m│  \u001b[39m %11 = Base.getindex(x, 2)\u001b[36m::Float64\u001b[39m\n",
      "\u001b[90m│  \u001b[39m %12 = (Main.δ * %10 * %11)\u001b[91m\u001b[1m::Any\u001b[22m\u001b[39m\n",
      "\u001b[90m│  \u001b[39m %13 = (%9 + %12)\u001b[91m\u001b[1m::Any\u001b[22m\u001b[39m\n",
      "\u001b[90m│  \u001b[39m %14 = Base.vect(%6, %13)\u001b[91m\u001b[1m::Vector\u001b[22m\u001b[39m\n",
      "\u001b[90m└──\u001b[39m       return %14\n",
      "\n"
     ]
    }
   ],
   "source": [
    "@code_warntype(lotka_volterra(u))"
   ]
  },
  {
   "cell_type": "markdown",
   "id": "fd24ab67",
   "metadata": {},
   "source": [
    "But what _are_ global and local variables, and why does it matter? To understand this, we first need to (briefly) talk about modules and namespaces."
   ]
  },
  {
   "cell_type": "markdown",
   "id": "99ece6db",
   "metadata": {},
   "source": [
    "### 1.1. Modules\n",
    "\n",
    "In Julia, modules are used to organise code into coherent units. They are defined as follows:"
   ]
  },
  {
   "cell_type": "code",
   "execution_count": 22,
   "id": "6ff09f09",
   "metadata": {},
   "outputs": [
    {
     "data": {
      "text/plain": [
       "Main.MyOtherModule"
      ]
     },
     "execution_count": 22,
     "metadata": {},
     "output_type": "execute_result"
    }
   ],
   "source": [
    "module MyModule\n",
    "    # Put any code you want here\n",
    "end\n",
    "\n",
    "module MyOtherModule\n",
    "    # Put some other code here\n",
    "end"
   ]
  },
  {
   "cell_type": "markdown",
   "id": "36663629",
   "metadata": {},
   "source": [
    "The key feature of a module is that it defines a _namespace_.\n",
    "\n",
    "A namespace is a __set__ of names which refer to objects. Within a given namespace, those names must be unique. That is, a name may refer to no more than one object within a namespace.\n",
    "\n",
    "Hence you can simply think of a namespace as a dictionary which maps names to objects."
   ]
  },
  {
   "cell_type": "code",
   "execution_count": 23,
   "id": "ff907782",
   "metadata": {
    "scrolled": true
   },
   "outputs": [
    {
     "ename": "LoadError",
     "evalue": "invalid redefinition of constant Point",
     "output_type": "error",
     "traceback": [
      "invalid redefinition of constant Point",
      "",
      "Stacktrace:",
      " [1] top-level scope",
      "   @ In[23]:8",
      " [2] eval",
      "   @ ./boot.jl:373 [inlined]",
      " [3] include_string(mapexpr::typeof(REPL.softscope), mod::Module, code::String, filename::String)",
      "   @ Base ./loading.jl:1196"
     ]
    }
   ],
   "source": [
    "# What happens if we try to introduce non-unique names in a namespace?\n",
    "module Points\n",
    "    struct Point\n",
    "        x\n",
    "        y\n",
    "    end\n",
    "    \n",
    "    struct Point\n",
    "        x\n",
    "        y\n",
    "        z\n",
    "    end\n",
    "\n",
    "    # If this were allowed, any subsequent reference to the name Point within this module would be ambiguous.\n",
    "end"
   ]
  },
  {
   "cell_type": "markdown",
   "id": "bd1f2f7c",
   "metadata": {},
   "source": [
    "Since modules define namespaces, __different modules can use the same names for objects without worrying about a conflict__. This is the whole point of namespaces!"
   ]
  },
  {
   "cell_type": "code",
   "execution_count": 24,
   "id": "edd2a28f",
   "metadata": {},
   "outputs": [
    {
     "data": {
      "text/plain": [
       "Main.ThreeDimensions"
      ]
     },
     "execution_count": 24,
     "metadata": {},
     "output_type": "execute_result"
    }
   ],
   "source": [
    "module TwoDimensions\n",
    "    struct Point\n",
    "        x\n",
    "        y\n",
    "    end\n",
    "end\n",
    "   \n",
    "module ThreeDimensions\n",
    "    struct Point\n",
    "        x\n",
    "        y\n",
    "        z\n",
    "    end\n",
    "end"
   ]
  },
  {
   "cell_type": "markdown",
   "id": "ded159d8",
   "metadata": {},
   "source": [
    "That's why you are free to define a method called, for example, `lorenz`, without having to worry that a method with this name already exists in another package, for example, `DynamicalSystems.jl`. Since the code lives in different modules, and therefore different namespaces, there's no risk of a conflict.\n",
    "\n",
    "In Julia, the \"top-level\" module is called `Main`."
   ]
  },
  {
   "cell_type": "code",
   "execution_count": 25,
   "id": "620b7f28",
   "metadata": {},
   "outputs": [
    {
     "data": {
      "text/plain": [
       "Main"
      ]
     },
     "execution_count": 25,
     "metadata": {},
     "output_type": "execute_result"
    }
   ],
   "source": [
    "@__MODULE__"
   ]
  },
  {
   "cell_type": "markdown",
   "id": "9f8f7fcb",
   "metadata": {},
   "source": [
    "When we enter a Julia program, we're automatically in the top-level module.\n",
    "\n",
    "Similarly, any code we execute at the REPL belongs to the module `Main`. In fact, the modules which we just defined are all _submodules_ of the module `Main`, in which we defined them."
   ]
  },
  {
   "cell_type": "code",
   "execution_count": 26,
   "id": "38ee7447",
   "metadata": {
    "scrolled": true
   },
   "outputs": [
    {
     "data": {
      "text/plain": [
       "Main.TwoDimensions"
      ]
     },
     "execution_count": 26,
     "metadata": {},
     "output_type": "execute_result"
    }
   ],
   "source": [
    "TwoDimensions"
   ]
  },
  {
   "cell_type": "markdown",
   "id": "324f2590",
   "metadata": {},
   "source": [
    "In practice, **you should use modules (and especially submodules) sparingly**. Most of the time, you should use files to organise your code, not modules.\n",
    "\n",
    "A common style in Julia projects is to simply have all of the project code living within one module:"
   ]
  },
  {
   "cell_type": "code",
   "execution_count": null,
   "id": "bf0fa673",
   "metadata": {},
   "outputs": [],
   "source": [
    "# A typical layout for MyPackage.jl\n",
    "module MyPackage\n",
    "\n",
    "# export, using, import statements are usually here\n",
    "\n",
    "include(\"file1.jl\")  # source code is organised into files, but the code actually gets executed here\n",
    "include(\"file2.jl\")  # for more on this see the docs on code loading\n",
    "\n",
    "end"
   ]
  },
  {
   "cell_type": "markdown",
   "id": "36c19ba3",
   "metadata": {},
   "source": [
    "For more on this, see the Julia docs on [modules]() and [code loading]().\n",
    "\n",
    "Now that we understand modules and namespaces, we're ready to talk about _variable scopes_."
   ]
  },
  {
   "cell_type": "markdown",
   "id": "74b1f6ae",
   "metadata": {},
   "source": [
    "### 1.2. Variable Scopes\n",
    "\n",
    "Definition: __The scope of a variable is the region of code within which a variable is visible.__\n",
    "\n",
    "This may sound similar to our definition of modules, but in fact it relates to how variables are named and referenced __inside__ a given module.\n",
    "\n",
    "We said earlier that names within a module must be unique. Yet we often re-use names within a module, for example, as function arguments:"
   ]
  },
  {
   "cell_type": "code",
   "execution_count": 27,
   "id": "85ab9509",
   "metadata": {},
   "outputs": [
    {
     "data": {
      "text/plain": [
       "cube (generic function with 1 method)"
      ]
     },
     "execution_count": 27,
     "metadata": {},
     "output_type": "execute_result"
    }
   ],
   "source": [
    "function square(x)\n",
    "    x ^ 2\n",
    "end\n",
    "\n",
    "function cube(x)\n",
    "    x ^ 3\n",
    "end"
   ]
  },
  {
   "cell_type": "markdown",
   "id": "0851f39f",
   "metadata": {},
   "source": [
    "Clearly we have re-used the variable name `x` within the same module and with no fear of ambiguity."
   ]
  },
  {
   "cell_type": "code",
   "execution_count": 28,
   "id": "41805eed",
   "metadata": {},
   "outputs": [
    {
     "data": {
      "text/plain": [
       "4"
      ]
     },
     "execution_count": 28,
     "metadata": {},
     "output_type": "execute_result"
    }
   ],
   "source": [
    "square(2)"
   ]
  },
  {
   "cell_type": "code",
   "execution_count": 29,
   "id": "6768b786",
   "metadata": {},
   "outputs": [
    {
     "data": {
      "text/plain": [
       "8"
      ]
     },
     "execution_count": 29,
     "metadata": {},
     "output_type": "execute_result"
    }
   ],
   "source": [
    "cube(2)"
   ]
  },
  {
   "cell_type": "code",
   "execution_count": 30,
   "id": "8f310a01",
   "metadata": {},
   "outputs": [
    {
     "ename": "LoadError",
     "evalue": "UndefVarError: x not defined",
     "output_type": "error",
     "traceback": [
      "UndefVarError: x not defined",
      "",
      "Stacktrace:",
      " [1] top-level scope",
      "   @ :0",
      " [2] eval",
      "   @ ./boot.jl:373 [inlined]",
      " [3] include_string(mapexpr::typeof(REPL.softscope), mod::Module, code::String, filename::String)",
      "   @ Base ./loading.jl:1196"
     ]
    }
   ],
   "source": [
    "# But what if we now try to access the variable x outside of the function?\n",
    "x"
   ]
  },
  {
   "cell_type": "markdown",
   "id": "c2a9e791",
   "metadata": {},
   "source": [
    "As we can see, the variable `x` is only visible **inside the function body**.\n",
    "\n",
    "**Scope rules** determine where in a module a variable is visible, and in turn when the same variable name does or doesn't refer to the same object.\n",
    "\n",
    "The main distinction between scopes in Julia is between _global_ scopes and _local_ scopes."
   ]
  },
  {
   "cell_type": "markdown",
   "id": "10d9ae1f",
   "metadata": {},
   "source": [
    "#### 1.2.1. Global Scopes\n",
    "\n",
    "In Julia, each module defines a new _global scope_.\n",
    "\n",
    "Once a variable is defined within a global scope, it is visible anywhere within the global scope."
   ]
  },
  {
   "cell_type": "code",
   "execution_count": 31,
   "id": "f1392987",
   "metadata": {},
   "outputs": [
    {
     "data": {
      "text/plain": [
       "Main.AnotherModule"
      ]
     },
     "execution_count": 31,
     "metadata": {},
     "output_type": "execute_result"
    }
   ],
   "source": [
    "module AnotherModule\n",
    "    a = 1.5  # global variable now visible anywhere within the module (global scope)\n",
    "\n",
    "    function f(x)\n",
    "        return a * x\n",
    "    end\n",
    "end"
   ]
  },
  {
   "cell_type": "code",
   "execution_count": 32,
   "id": "f3d711ad",
   "metadata": {
    "scrolled": true
   },
   "outputs": [
    {
     "data": {
      "text/plain": [
       "3.0"
      ]
     },
     "execution_count": 32,
     "metadata": {},
     "output_type": "execute_result"
    }
   ],
   "source": [
    "AnotherModule.f(2)"
   ]
  },
  {
   "cell_type": "markdown",
   "id": "dc2b58e1",
   "metadata": {},
   "source": [
    "There is no all-encompassing global scope in Julia, and global scopes cannot be nested. That is, submodules do not \"inherit\" the global scope from their parent modules."
   ]
  },
  {
   "cell_type": "code",
   "execution_count": 33,
   "id": "f7f38760",
   "metadata": {},
   "outputs": [
    {
     "ename": "LoadError",
     "evalue": "UndefVarError: a not defined",
     "output_type": "error",
     "traceback": [
      "UndefVarError: a not defined",
      "",
      "Stacktrace:",
      " [1] top-level scope",
      "   @ In[33]:5",
      " [2] eval",
      "   @ ./boot.jl:373 [inlined]",
      " [3] include_string(mapexpr::typeof(REPL.softscope), mod::Module, code::String, filename::String)",
      "   @ Base ./loading.jl:1196"
     ]
    }
   ],
   "source": [
    "module A\n",
    "    a = 1\n",
    "\n",
    "    module B\n",
    "        a + 1  # a is defined in the global scope of A and is therefore not visible in the global scope of B\n",
    "    end\n",
    "end"
   ]
  },
  {
   "cell_type": "markdown",
   "id": "4874166e",
   "metadata": {},
   "source": [
    "In Julia, there is a one-to-one relationship between modules and global scopes."
   ]
  },
  {
   "cell_type": "markdown",
   "id": "0aa31ada",
   "metadata": {},
   "source": [
    "#### 1.2.2. Local Scopes\n",
    "\n",
    "Most code blocks, for example function definitions and for-loops, introduce a new _local scope_.\n",
    "\n",
    "As the name suggests, a variable defined within a local scope remains local to that scope. It is only visible within the local scope."
   ]
  },
  {
   "cell_type": "code",
   "execution_count": 34,
   "id": "a8363dc6",
   "metadata": {},
   "outputs": [
    {
     "name": "stdout",
     "output_type": "stream",
     "text": [
      "hello\n"
     ]
    }
   ],
   "source": [
    "# Example from the Julia documentation\n",
    "function greet()\n",
    "    greeting = \"hello\"  # new local variable within the function's local scope\n",
    "    println(greeting)\n",
    "end\n",
    "\n",
    "greet()"
   ]
  },
  {
   "cell_type": "code",
   "execution_count": 35,
   "id": "38830f34",
   "metadata": {},
   "outputs": [
    {
     "ename": "LoadError",
     "evalue": "UndefVarError: greeting not defined",
     "output_type": "error",
     "traceback": [
      "UndefVarError: greeting not defined",
      "",
      "Stacktrace:",
      " [1] top-level scope",
      "   @ :0",
      " [2] eval",
      "   @ ./boot.jl:373 [inlined]",
      " [3] include_string(mapexpr::typeof(REPL.softscope), mod::Module, code::String, filename::String)",
      "   @ Base ./loading.jl:1196"
     ]
    }
   ],
   "source": [
    "greeting"
   ]
  },
  {
   "cell_type": "markdown",
   "id": "f8388f72",
   "metadata": {},
   "source": [
    "Since the variable `greeting` is local to the function `greet`, it's not defined in the enclosing global scope. Let's consider another example."
   ]
  },
  {
   "cell_type": "code",
   "execution_count": 39,
   "id": "90b75002",
   "metadata": {},
   "outputs": [
    {
     "name": "stdout",
     "output_type": "stream",
     "text": [
      "hello\n"
     ]
    }
   ],
   "source": [
    "greeting = \"hi\"  # global\n",
    "\n",
    "function greet()\n",
    "    greeting = \"hello\"  # new local variable within the function's local scope\n",
    "    println(greeting)\n",
    "end\n",
    "\n",
    "greet()"
   ]
  },
  {
   "cell_type": "code",
   "execution_count": 37,
   "id": "21b2743c",
   "metadata": {},
   "outputs": [
    {
     "data": {
      "text/plain": [
       "\"hi\""
      ]
     },
     "execution_count": 37,
     "metadata": {},
     "output_type": "execute_result"
    }
   ],
   "source": [
    "greeting"
   ]
  },
  {
   "cell_type": "markdown",
   "id": "03839e99",
   "metadata": {},
   "source": [
    "Since the assignment of `\"hello\"` to the variable `greeting` occurs in the local scope of the function `greet`, the value of the global variable `greeting` is unaffected.\n",
    "\n",
    "If a variable is not found in the local scope, Julia will search for it in the **enclosing scopes**:"
   ]
  },
  {
   "cell_type": "code",
   "execution_count": 40,
   "id": "c7e9b407",
   "metadata": {},
   "outputs": [
    {
     "name": "stdout",
     "output_type": "stream",
     "text": [
      "hi\n"
     ]
    }
   ],
   "source": [
    "greeting = \"hi\"\n",
    "\n",
    "function greet()\n",
    "    println(greeting)\n",
    "end\n",
    "\n",
    "greet()"
   ]
  },
  {
   "cell_type": "markdown",
   "id": "e1ca0cc1",
   "metadata": {},
   "source": [
    "In this case, the enclosing scope was the global scope. But local scopes can also be nested, such that the enclosing scope could be another local scope:"
   ]
  },
  {
   "cell_type": "code",
   "execution_count": 42,
   "id": "bd663f93",
   "metadata": {},
   "outputs": [
    {
     "name": "stdout",
     "output_type": "stream",
     "text": [
      "hello\n"
     ]
    }
   ],
   "source": [
    "greeting = \"hi\"  # global\n",
    "\n",
    "function greet()\n",
    "    greeting = \"hello\"  # local\n",
    "    \n",
    "    function inner_print_greeting()\n",
    "        println(greeting)\n",
    "    end\n",
    "    \n",
    "    inner_print_greeting()\n",
    "end\n",
    "\n",
    "greet()"
   ]
  },
  {
   "cell_type": "markdown",
   "id": "03c364e7",
   "metadata": {},
   "source": [
    "Scopes in Julia are in fact a lot more nuanced than presented here, but hopefully you now appreciate the basic distinction between a global and a local scope. \n",
    "\n",
    "In particular, let's revisit our favourite example. Can you now see why this version is type-stable, while the version with global variables was not?"
   ]
  },
  {
   "cell_type": "code",
   "execution_count": 43,
   "id": "37bf3b62",
   "metadata": {},
   "outputs": [
    {
     "data": {
      "text/plain": [
       "lotka_volterra (generic function with 2 methods)"
      ]
     },
     "execution_count": 43,
     "metadata": {},
     "output_type": "execute_result"
    }
   ],
   "source": [
    "function lotka_volterra(x, p)\n",
    "    α, β, γ, δ = p  # These are now local variables\n",
    "    return [α*x[1] - β*x[1]*x[2], -γ*x[2] + δ*x[1]*x[2]]\n",
    "end"
   ]
  },
  {
   "cell_type": "markdown",
   "id": "c522b1df",
   "metadata": {},
   "source": [
    "If you want to get the full picture on global and local scopes, see the [docs](https://docs.julialang.org/en/v1/manual/variables-and-scoping/)."
   ]
  },
  {
   "cell_type": "markdown",
   "id": "f4d0aaf9",
   "metadata": {},
   "source": [
    "## 2. DynamicalSystems.jl <a class=\"anchor\" id=\"dynsys\"></a>"
   ]
  },
  {
   "cell_type": "code",
   "execution_count": null,
   "id": "1e0f7412",
   "metadata": {},
   "outputs": [],
   "source": [
    "using Pkg\n",
    "Pkg.add(\"DynamicalSystems\")"
   ]
  },
  {
   "cell_type": "code",
   "execution_count": 44,
   "id": "761e9a98",
   "metadata": {},
   "outputs": [],
   "source": [
    "using DynamicalSystems\n",
    "using CairoMakie  # Fancy plotting"
   ]
  },
  {
   "cell_type": "markdown",
   "id": "68240fcc",
   "metadata": {},
   "source": [
    "`DynamicalSystems.jl` is a very useful package for simulating and analysing dynamical systems."
   ]
  },
  {
   "cell_type": "markdown",
   "id": "f70788c6",
   "metadata": {},
   "source": [
    "### 2.1. Interface\n",
    "\n",
    "As you know, a dynamical system can be either continuous in time, \n",
    "\n",
    "$$\\frac{d\\vec{u}}{dt} = \\vec{f}(\\vec{u}, p, t),$$\n",
    "\n",
    "or discrete (a map),\n",
    "\n",
    "$$\\vec{u}_{n+1} = \\vec{f}(\\vec{u}_n, p, n),$$\n",
    "\n",
    "where $\\vec{u}$ is the state of the system, $p$ are the parameters of the system, and the function $\\vec{f}$ describes the equations of motion of the dynamical system.\n",
    "\n",
    "Given some dynamical system, continuous or discrete, with equations of motion $\\vec{f}$, `DynamicalSystems.jl` implements the abstract data type `DynamicalSystem` to describe such a system."
   ]
  },
  {
   "cell_type": "code",
   "execution_count": 45,
   "id": "cb2f5205",
   "metadata": {
    "scrolled": true
   },
   "outputs": [
    {
     "data": {
      "text/plain": [
       "true"
      ]
     },
     "execution_count": 45,
     "metadata": {},
     "output_type": "execute_result"
    }
   ],
   "source": [
    "isabstracttype(DynamicalSystem)"
   ]
  },
  {
   "cell_type": "markdown",
   "id": "12dd8800",
   "metadata": {},
   "source": [
    "The Julia function `f` implementing the equations of motion $\\vec{f}$ may be defined in-place or out-of-place:\n",
    "\n",
    "- **Out-of-place** `f` is more efficient for **small systems** and requires a function signature of the form \n",
    "\n",
    "    ```f(u, p, t) -> SVector``` \n",
    "    \n",
    "    where `SVector` is a static array type from the `StaticArrays.jl` library.\n",
    "\n",
    "\n",
    "- **In-place** `f` is more efficient for **large systems** and requires a function signature of the form\n",
    "\n",
    "    `f!(du, u, p, t) -> nothing`\n",
    "\n",
    "This may remind you of `DifferentialEquations.jl`, and that's because `DynamicalSystems.jl` uses `DifferentialEquations.jl` to integrate continuous dynamical systems and implements the same API.\n",
    "\n",
    "The `DynamicalSystem` constructors will automatically detect from the function signature whether you have provided an in-place or out-of-place method for the equations of motion.\n",
    "\n",
    "The specific concrete subtype of `DynamicalSystem` you should use will depend on whether your system is continuous or discrete. In particular, discrete systems are described using `DiscreteDynamicalSystem` and continuous systems are described using `ContinuousDynamicalSystem`."
   ]
  },
  {
   "cell_type": "code",
   "execution_count": 46,
   "id": "3ee6057a",
   "metadata": {
    "scrolled": true
   },
   "outputs": [
    {
     "data": {
      "text/plain": [
       "true"
      ]
     },
     "execution_count": 46,
     "metadata": {},
     "output_type": "execute_result"
    }
   ],
   "source": [
    "(DiscreteDynamicalSystem <: DynamicalSystem) && (ContinuousDynamicalSystem <: DynamicalSystem)"
   ]
  },
  {
   "cell_type": "markdown",
   "id": "a2b5ea3b",
   "metadata": {},
   "source": [
    "Let's look at some examples."
   ]
  },
  {
   "cell_type": "markdown",
   "id": "1681edfb",
   "metadata": {},
   "source": [
    "#### Example 1: Hénon Map (Discrete, Out-of-Place)\n",
    "\n",
    "The Hénon Map is a classic discrete-time dynamical system which exhibits chaotic behaviour. It was developed as a simplified discrete-time analogue of the Lorenz system.\n",
    "\n",
    "$$\\begin{aligned}\n",
    "x_{n+1} &= 1 - ax^2_n+y_n \\\\\n",
    "y_{n+1} & = bx_n\n",
    "\\end{aligned}$$"
   ]
  },
  {
   "cell_type": "code",
   "execution_count": 47,
   "id": "5d888931",
   "metadata": {},
   "outputs": [
    {
     "data": {
      "text/plain": [
       "f_henon (generic function with 1 method)"
      ]
     },
     "execution_count": 47,
     "metadata": {},
     "output_type": "execute_result"
    }
   ],
   "source": [
    "function f_henon(u, p, t)\n",
    "    x, y = u\n",
    "    a, b = p\n",
    "    return SVector{2}(1.0 - a * x^2 + y, b * x)\n",
    "end"
   ]
  },
  {
   "cell_type": "code",
   "execution_count": 48,
   "id": "2905fdf4",
   "metadata": {
    "scrolled": false
   },
   "outputs": [
    {
     "data": {
      "text/plain": [
       "2-dimensional discrete dynamical system\n",
       " state:       [0.756815, 0.89041]\n",
       " rule f:      f_henon\n",
       " in-place?    false\n",
       " jacobian:    ForwardDiff\n",
       " parameters:  [1.4, 0.3]"
      ]
     },
     "execution_count": 48,
     "metadata": {},
     "output_type": "execute_result"
    }
   ],
   "source": [
    "u = rand(2)\n",
    "p = [1.4, 0.3]\n",
    "henon = DiscreteDynamicalSystem(f_henon, u, p)"
   ]
  },
  {
   "cell_type": "code",
   "execution_count": 81,
   "id": "19c778a0",
   "metadata": {},
   "outputs": [
    {
     "data": {
      "text/plain": [
       "1-element Vector{Any}:\n",
       " 1"
      ]
     },
     "execution_count": 81,
     "metadata": {},
     "output_type": "execute_result"
    }
   ],
   "source": [
    "arr = []\n",
    "push!(arr, 1)"
   ]
  },
  {
   "cell_type": "code",
   "execution_count": 82,
   "id": "34437375",
   "metadata": {},
   "outputs": [
    {
     "ename": "LoadError",
     "evalue": "MethodError: no method matching resize!(::SVector{2, Float64}, ::Int64)\n\u001b[0mClosest candidates are:\n\u001b[0m  resize!(\u001b[91m::Vector\u001b[39m, ::Integer) at /opt/julia-1.7.2/share/julia/base/array.jl:1170\n\u001b[0m  resize!(\u001b[91m::BitVector\u001b[39m, ::Integer) at /opt/julia-1.7.2/share/julia/base/bitarray.jl:810\n\u001b[0m  resize!(\u001b[91m::SciMLBase.DEIntegrator\u001b[39m, ::Int64) at ~/.julia/packages/SciMLBase/YVSzo/src/integrator_interface.jl:18\n\u001b[0m  ...",
     "output_type": "error",
     "traceback": [
      "MethodError: no method matching resize!(::SVector{2, Float64}, ::Int64)\n\u001b[0mClosest candidates are:\n\u001b[0m  resize!(\u001b[91m::Vector\u001b[39m, ::Integer) at /opt/julia-1.7.2/share/julia/base/array.jl:1170\n\u001b[0m  resize!(\u001b[91m::BitVector\u001b[39m, ::Integer) at /opt/julia-1.7.2/share/julia/base/bitarray.jl:810\n\u001b[0m  resize!(\u001b[91m::SciMLBase.DEIntegrator\u001b[39m, ::Int64) at ~/.julia/packages/SciMLBase/YVSzo/src/integrator_interface.jl:18\n\u001b[0m  ...",
      "",
      "Stacktrace:",
      " [1] _append!(a::SVector{2, Float64}, #unused#::Base.HasLength, iter::Tuple{Int64})",
      "   @ Base ./array.jl:1058",
      " [2] append!(a::SVector{2, Float64}, iter::Tuple{Int64})",
      "   @ Base ./array.jl:1050",
      " [3] push!(a::SVector{2, Float64}, iter::Int64)",
      "   @ Base ./array.jl:1051",
      " [4] top-level scope",
      "   @ In[82]:2",
      " [5] eval",
      "   @ ./boot.jl:373 [inlined]",
      " [6] include_string(mapexpr::typeof(REPL.softscope), mod::Module, code::String, filename::String)",
      "   @ Base ./loading.jl:1196"
     ]
    }
   ],
   "source": [
    "s_arr = SVector{2}(0.0, 0.0)\n",
    "push!(s_arr, 1)"
   ]
  },
  {
   "cell_type": "markdown",
   "id": "e8abe9db",
   "metadata": {},
   "source": [
    "#### Example 2: Lorenz '63 (Continous, In-Place)\n",
    "$$\\begin{aligned} \\dot{X} &= \\sigma(Y-X) \\\\ \\dot{Y} &= -XZ + \\rho X -Y \\\\ \\dot{Z} &= XY - \\beta Z \\end{aligned}$$"
   ]
  },
  {
   "cell_type": "code",
   "execution_count": 49,
   "id": "0083df7c",
   "metadata": {},
   "outputs": [
    {
     "data": {
      "text/plain": [
       "f_lorenz63! (generic function with 1 method)"
      ]
     },
     "execution_count": 49,
     "metadata": {},
     "output_type": "execute_result"
    }
   ],
   "source": [
    "function f_lorenz63!(du, u, p, t)\n",
    "    σ, ρ, β = p\n",
    "    du[1] = σ * (u[2] - u[1])\n",
    "    du[2] = u[1] * (ρ - u[3]) - u[2]\n",
    "    du[3] = u[1] * u[2] - β * u[3]\n",
    "    return nothing\n",
    "end"
   ]
  },
  {
   "cell_type": "code",
   "execution_count": 50,
   "id": "1f72a1d0",
   "metadata": {},
   "outputs": [
    {
     "data": {
      "text/plain": [
       "3-dimensional continuous dynamical system\n",
       " state:       [0.589564, 0.476088, 0.602897]\n",
       " rule f:      f_lorenz63!\n",
       " in-place?    true\n",
       " jacobian:    ForwardDiff\n",
       " parameters:  [10.0, 28.0, 2.66667]"
      ]
     },
     "execution_count": 50,
     "metadata": {},
     "output_type": "execute_result"
    }
   ],
   "source": [
    "lorenz63 = ContinuousDynamicalSystem(f_lorenz63!, rand(3), [10.0, 28.0, 8/3])"
   ]
  },
  {
   "cell_type": "markdown",
   "id": "1a8f988f",
   "metadata": {},
   "source": [
    "### 2.2. Trajectories\n",
    "\n",
    "Given an instance of (a concrete subtype of) `DynamicalSystem`, it is then incredibly straightforward to compute trajectories with the `trajectory` function."
   ]
  },
  {
   "cell_type": "code",
   "execution_count": 53,
   "id": "0a4205ed",
   "metadata": {},
   "outputs": [
    {
     "data": {
      "text/plain": [
       "2-dimensional Dataset{Float64} with 11 points\n",
       "  0.756815   0.89041\n",
       "  1.08853    0.227044\n",
       " -0.431826   0.32656\n",
       "  1.0655    -0.129548\n",
       " -0.718945   0.319649\n",
       "  0.596013  -0.215684\n",
       "  0.286991   0.178804\n",
       "  1.06349    0.0860974\n",
       " -0.497331   0.319048\n",
       "  0.972775  -0.149199\n",
       " -0.474008   0.291833"
      ]
     },
     "execution_count": 53,
     "metadata": {},
     "output_type": "execute_result"
    }
   ],
   "source": [
    "trajectory(henon, 10)  # integrate the discrete system for 10 steps"
   ]
  },
  {
   "cell_type": "code",
   "execution_count": 54,
   "id": "098bc523",
   "metadata": {},
   "outputs": [
    {
     "data": {
      "text/plain": [
       "3-dimensional Dataset{Float64} with 101 points\n",
       "   0.589564    0.476088   0.602897\n",
       "   1.16758     2.44667    0.565293\n",
       "   3.65957     7.86803    1.46749\n",
       "  10.9601     21.752     10.5876\n",
       "  19.6813     18.9535    44.0281\n",
       "   7.5956     -7.76949   39.0899\n",
       "  -2.77679    -8.56313   28.9262\n",
       "  -6.24364    -8.29897   25.699\n",
       "  -7.90538    -9.37294   25.2278\n",
       "  -9.19342   -10.1793    26.8146\n",
       "  -9.5862     -9.3017    28.7722\n",
       "  -8.74525    -7.54092   28.8205\n",
       "  -7.62947    -6.79101   27.0929\n",
       "   ⋮                     \n",
       "  -7.03634    -9.0544    21.9351\n",
       "  -9.50474   -12.0976    24.6698\n",
       " -11.1756    -11.364     30.2173\n",
       "  -9.61918    -6.76613   31.5913\n",
       "  -6.79388    -4.52093   27.9909\n",
       "  -5.52636    -5.27993   23.9121\n",
       "  -6.21251    -7.77713   21.5799\n",
       "  -8.4911    -11.3053    22.7389\n",
       " -11.0327    -12.6627    28.2634\n",
       " -10.7152     -8.448     32.2788\n",
       "  -7.66343    -4.59756   29.7408\n",
       "  -5.52207    -4.44585   25.1758"
      ]
     },
     "execution_count": 54,
     "metadata": {},
     "output_type": "execute_result"
    }
   ],
   "source": [
    "trajectory(lorenz63, 10, Δt = 0.1)  # integrate the continuous system for 10 seconds with timesteps = 0.1s"
   ]
  },
  {
   "cell_type": "markdown",
   "id": "2754e5e0",
   "metadata": {},
   "source": [
    "### 2.3. Pre-Defined Dynamical Systems\n",
    "\n",
    "In fact, `DynamicalSystems.jl` also provides a huge number of pre-defined dynamical systems, making the process of setting up and integrating dynamical systems even easier still."
   ]
  },
  {
   "cell_type": "code",
   "execution_count": 55,
   "id": "290e4430",
   "metadata": {},
   "outputs": [
    {
     "data": {
      "text/plain": [
       "3-dimensional continuous dynamical system\n",
       " state:       [0.0, 10.0, 0.0]\n",
       " rule f:      loop\n",
       " in-place?    false\n",
       " jacobian:    loop_jac\n",
       " parameters:  [10.0, 28.0, 2.66667]"
      ]
     },
     "execution_count": 55,
     "metadata": {},
     "output_type": "execute_result"
    }
   ],
   "source": [
    "ds = Systems.lorenz()  # Lorenz '63 with default parameters"
   ]
  },
  {
   "cell_type": "code",
   "execution_count": 56,
   "id": "e26c9adb",
   "metadata": {},
   "outputs": [
    {
     "data": {
      "text/plain": [
       "3-dimensional Dataset{Float64} with 11 points\n",
       "  0.0      10.0       0.0\n",
       "  8.92478  19.6843    6.02839\n",
       " 20.0553   24.8278   39.9785\n",
       "  9.89834  -7.67213  42.312\n",
       " -2.67297  -9.86486  30.4531\n",
       " -6.73013  -8.71064  27.4841\n",
       " -7.91     -8.6127   26.6731\n",
       " -8.44188  -8.84913  26.7275\n",
       " -8.72491  -8.86503  27.1909\n",
       " -8.70356  -8.53165  27.5098\n",
       " -8.44777  -8.15714  27.3383"
      ]
     },
     "execution_count": 56,
     "metadata": {},
     "output_type": "execute_result"
    }
   ],
   "source": [
    "trajectory(ds, 1, Δt = 0.1)"
   ]
  },
  {
   "cell_type": "markdown",
   "id": "61d61360",
   "metadata": {},
   "source": [
    "With these tools in hand, you're free to focus on the interesting analysis of dynamical systems!"
   ]
  },
  {
   "cell_type": "markdown",
   "id": "f1790d76",
   "metadata": {},
   "source": [
    "### 2.4. Tools for Chaotic Systems\n",
    "\n",
    "Everything we've seen so far simply adds convenience to things you already know how to do in Julia. However, `DynamicalSystems.jl` also provides a number of exceptionally useful tools for the exploration and analysis of chaotic dynamical systems. Here's a small selection."
   ]
  },
  {
   "cell_type": "markdown",
   "id": "a32def78",
   "metadata": {},
   "source": [
    "#### 2.4.1. Orbit Diagrams (Bifurcation Diagrams)\n",
    "\n",
    "In the first exercise you plotted the famous orbit diagram of the logistic map,\n",
    "\n",
    "$$x_{n+1} = rx_n(1-x_n).$$\n",
    "\n",
    "Let's see how we could do this unsing the `orbitdiagram` function of `DynamicalSystems.jl`."
   ]
  },
  {
   "cell_type": "code",
   "execution_count": 57,
   "id": "ed174c73",
   "metadata": {},
   "outputs": [],
   "source": [
    "ds = Systems.logistic()  # Logistic map with default parameters\n",
    "\n",
    "# Params for orbitdiagram function\n",
    "i = 1                   # Number of variables to save (logistic map only has one variable)\n",
    "r_index = 1             # Index of the parameter to vary (logistic map only has one parameter)\n",
    "r_values = 2.8:0.005:4  # Values of the parameter r at which to compute the orbits\n",
    "n_points = 2000         # Number of points to save for each parameter value\n",
    "transient_steps = 2000  # Number of transient steps (output is only saved after this many steps have elapsed)\n",
    "\n",
    "output = orbitdiagram(ds, i, r_index, r_values, n = n_points, Ttr = transient_steps);"
   ]
  },
  {
   "cell_type": "code",
   "execution_count": 62,
   "id": "0a06cd89",
   "metadata": {
    "scrolled": false
   },
   "outputs": [
    {
     "name": "stdout",
     "output_type": "stream",
     "text": [
      "r = 3.345\n"
     ]
    },
    {
     "data": {
      "text/plain": [
       "2000-element Vector{Float64}:\n",
       " 0.8324883056211538\n",
       " 0.46646535656120774\n",
       " 0.8324883056211535\n",
       " 0.46646535656120847\n",
       " 0.8324883056211538\n",
       " 0.46646535656120774\n",
       " 0.8324883056211535\n",
       " 0.46646535656120847\n",
       " 0.8324883056211538\n",
       " 0.46646535656120774\n",
       " 0.8324883056211535\n",
       " 0.46646535656120847\n",
       " 0.8324883056211538\n",
       " ⋮\n",
       " 0.8324883056211538\n",
       " 0.46646535656120774\n",
       " 0.8324883056211535\n",
       " 0.46646535656120847\n",
       " 0.8324883056211538\n",
       " 0.46646535656120774\n",
       " 0.8324883056211535\n",
       " 0.46646535656120847\n",
       " 0.8324883056211538\n",
       " 0.46646535656120774\n",
       " 0.8324883056211535\n",
       " 0.46646535656120847"
      ]
     },
     "execution_count": 62,
     "metadata": {},
     "output_type": "execute_result"
    }
   ],
   "source": [
    "j = 110\n",
    "println(\"r = $(r_values[j])\")\n",
    "output[j]"
   ]
  },
  {
   "cell_type": "markdown",
   "id": "8ee68211",
   "metadata": {},
   "source": [
    "Even better, let's plot it!"
   ]
  },
  {
   "cell_type": "code",
   "execution_count": 63,
   "id": "87fc4fb8",
   "metadata": {},
   "outputs": [
    {
     "data": {
      "image/png": "[encoded data removed]",
      "text/plain": [
       "Figure()"
      ]
     },
     "execution_count": 63,
     "metadata": {},
     "output_type": "execute_result"
    }
   ],
   "source": [
    "N = length(r_values)\n",
    "\n",
    "# Flatten the data arrays and make them the same length\n",
    "x = zeros(N * n_points)\n",
    "y = zeros(N * n_points)\n",
    "for j in 1:N\n",
    "    x[(1 + (j - 1) * n_points):j * n_points] .= r_values[j]\n",
    "    y[(1 + (j - 1) * n_points):j * n_points] .= output[j]\n",
    "end\n",
    "\n",
    "fig, ax = scatter(x, y; axis = (xlabel = L\"r\", ylabel = L\"x\"), markersize = 0.8, color = (\"black\", 0.05))\n",
    "xlims!(ax, r_values[1], r_values[end])\n",
    "ylims!(ax,0,1)\n",
    "fig"
   ]
  },
  {
   "cell_type": "markdown",
   "id": "6f7ce91f",
   "metadata": {},
   "source": [
    "Aside on modules"
   ]
  },
  {
   "cell_type": "code",
   "execution_count": 66,
   "id": "2ce30ca1",
   "metadata": {},
   "outputs": [
    {
     "data": {
      "text/plain": [
       "plot (generic function with 1 method)"
      ]
     },
     "execution_count": 66,
     "metadata": {},
     "output_type": "execute_result"
    }
   ],
   "source": [
    "# In Plots.jl\n",
    "function plot(x::Vector, y::Vector)\n",
    "    # do something\n",
    "end"
   ]
  },
  {
   "cell_type": "code",
   "execution_count": 65,
   "id": "2c8eac93",
   "metadata": {},
   "outputs": [
    {
     "data": {
      "text/plain": [
       "plot (generic function with 1 method)"
      ]
     },
     "execution_count": 65,
     "metadata": {},
     "output_type": "execute_result"
    }
   ],
   "source": [
    "# In YourPackage.jl\n",
    "function plot(x::Vector, y::Vector)\n",
    "    # do something\n",
    "end"
   ]
  },
  {
   "cell_type": "code",
   "execution_count": 71,
   "id": "380b9cfc",
   "metadata": {},
   "outputs": [
    {
     "name": "stderr",
     "output_type": "stream",
     "text": [
      "WARNING: replacing module MyModule.\n"
     ]
    },
    {
     "data": {
      "text/plain": [
       "Main.MyModule"
      ]
     },
     "execution_count": 71,
     "metadata": {},
     "output_type": "execute_result"
    }
   ],
   "source": [
    "module MyModule\n",
    "    export a\n",
    "\n",
    "    a = 1\n",
    "end"
   ]
  },
  {
   "cell_type": "code",
   "execution_count": 72,
   "id": "b371bf05",
   "metadata": {},
   "outputs": [],
   "source": [
    "using .MyModule"
   ]
  },
  {
   "cell_type": "code",
   "execution_count": 73,
   "id": "f86748f2",
   "metadata": {},
   "outputs": [
    {
     "data": {
      "text/plain": [
       "1"
      ]
     },
     "execution_count": 73,
     "metadata": {},
     "output_type": "execute_result"
    }
   ],
   "source": [
    "a"
   ]
  },
  {
   "cell_type": "markdown",
   "id": "951479db",
   "metadata": {},
   "source": [
    "End of aside on modules"
   ]
  },
  {
   "cell_type": "markdown",
   "id": "c0c9813c",
   "metadata": {},
   "source": [
    "#### 2.4.2. Lyapunov Exponents\n",
    "`DynamicalSystems.jl` provides a number of useful methods for computing Lyapunov exponents."
   ]
  },
  {
   "cell_type": "code",
   "execution_count": 74,
   "id": "737018de",
   "metadata": {
    "scrolled": true
   },
   "outputs": [
    {
     "data": {
      "text/plain": [
       "0.41929992463638543"
      ]
     },
     "execution_count": 74,
     "metadata": {},
     "output_type": "execute_result"
    }
   ],
   "source": [
    "# Maximum Lyapunov exponent of the Hénon map we defined earlier\n",
    "lyapunov(henon, 10000)  # 10000 steps"
   ]
  },
  {
   "cell_type": "code",
   "execution_count": 75,
   "id": "aa718d2b",
   "metadata": {
    "scrolled": true
   },
   "outputs": [
    {
     "data": {
      "text/plain": [
       "2-element Vector{Float64}:\n",
       "  0.4192247580105785\n",
       " -1.623197562336517"
      ]
     },
     "execution_count": 75,
     "metadata": {},
     "output_type": "execute_result"
    }
   ],
   "source": [
    "# Lyapunov spectrum of the Hénon map we defined earlier\n",
    "lyapunovspectrum(henon, 10000)"
   ]
  },
  {
   "cell_type": "code",
   "execution_count": 76,
   "id": "e8047f61",
   "metadata": {},
   "outputs": [
    {
     "data": {
      "text/plain": [
       "0.9052304203931157"
      ]
     },
     "execution_count": 76,
     "metadata": {},
     "output_type": "execute_result"
    }
   ],
   "source": [
    "# Maximum Lyapunov exponent of the Lorenz system we defined earlier\n",
    "lyapunov(lorenz63, 10000)  # 10000 seconds"
   ]
  },
  {
   "cell_type": "markdown",
   "id": "4ae7a879",
   "metadata": {},
   "source": [
    "How long do we need for the algorithm to properly converge?"
   ]
  },
  {
   "cell_type": "code",
   "execution_count": 77,
   "id": "6649acab",
   "metadata": {},
   "outputs": [
    {
     "name": "stdout",
     "output_type": "stream",
     "text": [
      "T =      10s, λ = 0.045610 \n",
      "T =     100s, λ = 0.811380 \n",
      "T =    1000s, λ = 0.899523 \n",
      "T =   10000s, λ = 0.905230 \n",
      "T =  100000s, λ = 0.905770 \n",
      "T = 1000000s, λ = 0.905603 \n",
      " 47.148093 seconds (2.70 k allocations: 221.594 KiB)\n"
     ]
    }
   ],
   "source": [
    "using Printf\n",
    "@time for i in 1:6\n",
    "    T = 10^i\n",
    "    λ = lyapunov(lorenz63, T)\n",
    "    @printf \"T = %7is, λ = %f \\n\" T λ\n",
    "end"
   ]
  },
  {
   "cell_type": "code",
   "execution_count": 78,
   "id": "463dee62",
   "metadata": {},
   "outputs": [
    {
     "data": {
      "text/plain": [
       "3-element Vector{Float64}:\n",
       "   0.9053507408794503\n",
       "   0.00018207823619466055\n",
       " -14.572118587717567"
      ]
     },
     "execution_count": 78,
     "metadata": {},
     "output_type": "execute_result"
    }
   ],
   "source": [
    "# Lyapunov spectrum of the Lorenz system we defined earlier\n",
    "lyapunovspectrum(lorenz63, 10000)"
   ]
  },
  {
   "cell_type": "markdown",
   "id": "13d6323d",
   "metadata": {},
   "source": [
    "See how easy it is to compute Lyapunov exponents this way? With just two lines of code we can compute the full Lyapunov spectrum!"
   ]
  },
  {
   "cell_type": "code",
   "execution_count": 79,
   "id": "d7de0761",
   "metadata": {},
   "outputs": [
    {
     "data": {
      "text/plain": [
       "3-element Vector{Float64}:\n",
       "   0.9052368797267423\n",
       "   8.971758837805676e-5\n",
       " -14.571913970662806"
      ]
     },
     "execution_count": 79,
     "metadata": {},
     "output_type": "execute_result"
    }
   ],
   "source": [
    "ds = Systems.lorenz()\n",
    "lyapunovspectrum(ds, 10000)"
   ]
  },
  {
   "cell_type": "markdown",
   "id": "b5f3e659",
   "metadata": {},
   "source": [
    "#### 2.4.3. Interactive GUIs\n",
    "\n",
    "`DynamicalSystems.jl` also provides a number of great interactive utilities via the package `InteractiveDynamics.jl` for exploring dynamical systems and chaos."
   ]
  },
  {
   "cell_type": "code",
   "execution_count": null,
   "id": "8afdd347",
   "metadata": {},
   "outputs": [],
   "source": [
    "# Run this in VSCode!\n",
    "using DynamicalSystems\n",
    "using InteractiveDynamics\n",
    "using OrdinaryDiffEq\n",
    "using GLMakie\n",
    "\n",
    "lorenz = Systems.lorenz()\n",
    "\n",
    "param_ranges = Dict(\n",
    "    1 => 1:0.1:30,\n",
    "    2 => 0:0.1:50,\n",
    "    3 => 1:0.01:10.0,\n",
    ")\n",
    "param_names = Dict(1 => \"σ\", 2 => \"ρ\", 3 => \"β\")\n",
    "\n",
    "diffeq = (alg = Tsit5(), adaptive = false, dt = 0.01)  # args for DiffEq solvers\n",
    "\n",
    "interactive_evolution(lorenz, [rand(3), rand(3)], ps = param_ranges, diffeq = diffeq, pnames = param_names)"
   ]
  },
  {
   "cell_type": "code",
   "execution_count": null,
   "id": "98c4956f",
   "metadata": {},
   "outputs": [],
   "source": [
    "# Run this in VSCode!\n",
    "using DynamicalSystems\n",
    "using InteractiveDynamics\n",
    "using OrdinaryDiffEq\n",
    "using GLMakie\n",
    "\n",
    "henon = Systems.henon()\n",
    "\n",
    "i = 1                    # First variable\n",
    "p_index = 1              # First parameter\n",
    "p_min, p_max = 0.8, 1.4  # Min,max value of parameter\n",
    "\n",
    "title = \"Orbit Diagram for the Hénon map\"\n",
    "\n",
    "interactive_orbitdiagram(henon, p_index, p_min, p_max, i, parname = \"a\", title = t)"
   ]
  },
  {
   "cell_type": "markdown",
   "id": "88caee2b",
   "metadata": {},
   "source": [
    "## 3. Further Reading <a class=\"anchor\" id=\"further-reading\"></a>\n",
    "1. [Julia - Modules](https://docs.julialang.org/en/v1/manual/modules/)\n",
    "2. [Julia - Code Loading](https://docs.julialang.org/en/v1/manual/code-loading/)\n",
    "3. [Julia - Variable Scoping](https://docs.julialang.org/en/v1/manual/variables-and-scoping/)\n",
    "4. [Namespaces in Programming Languages (Wikipeda)](https://en.wikipedia.org/wiki/Namespace#In_programming_languages)\n",
    "5. [DynamicalSystems.jl docs](https://juliadynamics.github.io/DynamicalSystems.jl/latest/)"
   ]
  }
 ],
 "metadata": {
  "kernelspec": {
   "display_name": "Julia 1.7.2",
   "language": "julia",
   "name": "julia-1.7"
  },
  "language_info": {
   "file_extension": ".jl",
   "mimetype": "application/julia",
   "name": "julia",
   "version": "1.7.2"
  }
 },
 "nbformat": 4,
 "nbformat_minor": 5
}
