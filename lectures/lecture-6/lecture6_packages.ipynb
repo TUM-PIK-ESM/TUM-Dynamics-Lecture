{
 "cells": [
  {
   "cell_type": "markdown",
   "id": "34b1c9c6",
   "metadata": {},
   "source": [
    "# Lecture 6 - Part II - More on Writing Julia Packages\n",
    "\n",
    "- In the second lecture, we talked about [Pkg.jl](https://pkgdocs.julialang.org/v1/), Julia's built-in package manager.\n",
    "<br>\n",
    "\n",
    "- Today, you will see how to write your own packages, so that you can write a simple SIR package.\n",
    "\n",
    "## Contents\n",
    "1. [Pkg.jl](#pkg)\n",
    "2. [PkgTemplates.jl](#pkg-templates)\n",
    "3. [Modules](#modules)\n",
    "4. [Registries](#registry)\n",
    "5. [Tests](#tests)\n",
    "6. [Documentation](#docs)"
   ]
  },
  {
   "cell_type": "markdown",
   "id": "9d0e5a3a",
   "metadata": {},
   "source": [
    "## 1. Pkg.jl <a class=\"anchor\" id=\"pkg\"></a>\n",
    "\n",
    "- Hopefully, you remember the basic usage of Pkg.jl for managing enviroments and packages:\n",
    "\n",
    "    * `activate`: activate an environment \n",
    "    * `add`, `rm`: add and remove packages from the current environment \n",
    "    * `up`: update the current environment \n",
    "    * `status`: display information about the current environment\n",
    "    * `test`: test if a package works correctly on our system<br><br>\n",
    "\n",
    "- The dependencies and the status of an environment are stored in the `Project.toml` and `Manifest.toml` files that are automatically created (and usually also edited automatically).\n",
    "<br>\n",
    "\n",
    "- We saw that we can generate a new project like this:"
   ]
  },
  {
   "cell_type": "code",
   "execution_count": 11,
   "id": "53cfef1b",
   "metadata": {},
   "outputs": [],
   "source": [
    "cd(\"/home/alistair/code/\")"
   ]
  },
  {
   "cell_type": "code",
   "execution_count": 12,
   "id": "78bbe257",
   "metadata": {},
   "outputs": [
    {
     "name": "stderr",
     "output_type": "stream",
     "text": [
      "\u001b[32m\u001b[1m  Generating\u001b[22m\u001b[39m  project MyTest:\n",
      "    MyTest/Project.toml\n",
      "    MyTest/src/MyTest.jl\n"
     ]
    }
   ],
   "source": [
    "] generate MyTest"
   ]
  },
  {
   "cell_type": "markdown",
   "id": "707d1126",
   "metadata": {},
   "source": [
    "- Remember we can use `]` to execute shell commands from the Julia REPL-"
   ]
  },
  {
   "cell_type": "code",
   "execution_count": 13,
   "id": "17a8b607",
   "metadata": {},
   "outputs": [
    {
     "name": "stdout",
     "output_type": "stream",
     "text": [
      "MyTest\n",
      "├── Project.toml\n",
      "└── src\n",
      "    └── MyTest.jl\n",
      "\n",
      "1 directory, 2 files\n"
     ]
    }
   ],
   "source": [
    ";tree MyTest"
   ]
  },
  {
   "cell_type": "code",
   "execution_count": 14,
   "id": "aa877753",
   "metadata": {},
   "outputs": [
    {
     "name": "stdout",
     "output_type": "stream",
     "text": [
      "module MyTest\n",
      "\n",
      "greet() = print(\"Hello World!\")\n",
      "\n",
      "end # module MyTest\n"
     ]
    }
   ],
   "source": [
    "; less MyTest/src/MyTest.jl"
   ]
  },
  {
   "cell_type": "markdown",
   "id": "6bd2eaaf",
   "metadata": {},
   "source": [
    "- The Linux `less` command views the contents of a file.\n",
    "<br>\n",
    "\n",
    "- The `generate` command already gives us the basic structure of a package with a `Project.toml` for the environment and `MyTest.jl` inside the `src` folder that defines the module `MyTest`.\n",
    "<br>\n",
    "\n",
    "- An alternative and more feature-complete approach is possible with PkgTemplates.jl.\n",
    "\n",
    "## 2. [PkgTemplates.jl](https://github.com/JuliaCI/PkgTemplates.jl) <a class=\"anchor\" id=\"pkg-templates\"></a>\n",
    "\n",
    "* PkgTemplates.jl provides a more sophisticated initialization that can e.g. include GitHub, CI/CD, licences, etc. \n",
    "<br>\n",
    "\n",
    "* It works by defining a [template](https://juliaci.github.io/PkgTemplates.jl/stable/user/#Template).\n",
    "<br>\n",
    "\n",
    "* The minimum is: \n",
    "    * The GitHub or Gitlab username `user`\n",
    "    * Your name and mail `authors`\n",
    "    * The directory on your local machine `dir` \n",
    "    * The minimum required Julia version `julia`"
   ]
  },
  {
   "cell_type": "code",
   "execution_count": 16,
   "id": "783bacc8",
   "metadata": {},
   "outputs": [
    {
     "data": {
      "text/plain": [
       "Template:\n",
       "  authors: [\"Alistair White <alistair.white@tum.de>\"]\n",
       "  dir: \"~/code\"\n",
       "  host: \"github.com\"\n",
       "  julia: v\"1.9.3\"\n",
       "  user: \"white-alistair\"\n",
       "  plugins:\n",
       "    CompatHelper:\n",
       "      file: \"~/.julia/packages/PkgTemplates/LISo2/templates/github/workflows/CompatHelper.yml\"\n",
       "      destination: \"CompatHelper.yml\"\n",
       "      cron: \"0 0 * * *\"\n",
       "    Documenter:\n",
       "      assets: String[]\n",
       "      logo: Logo(nothing, nothing)\n",
       "      makedocs_kwargs: Dict{Symbol, Any}()\n",
       "      canonical_url: nothing\n",
       "      make_jl: \"~/.julia/packages/PkgTemplates/LISo2/templates/docs/make.jl\"\n",
       "      index_md: \"~/.julia/packages/PkgTemplates/LISo2/templates/docs/src/index.md\"\n",
       "      devbranch: nothing\n",
       "      edit_link: :devbranch\n",
       "    Git:\n",
       "      ignore: String[]\n",
       "      name: nothing\n",
       "      email: nothing\n",
       "      branch: \"main\"\n",
       "      ssh: false\n",
       "      jl: true\n",
       "      manifest: false\n",
       "      gpgsign: false\n",
       "    GitHubActions:\n",
       "      file: \"~/.julia/packages/PkgTemplates/LISo2/templates/github/workflows/CI.yml\"\n",
       "      destination: \"CI.yml\"\n",
       "      linux: true\n",
       "      osx: false\n",
       "      windows: false\n",
       "      x64: true\n",
       "      x86: false\n",
       "      coverage: true\n",
       "      extra_versions: [\"1.0\", \"1.9\", \"nightly\"]\n",
       "    License:\n",
       "      path: \"~/.julia/packages/PkgTemplates/LISo2/templates/licenses/MIT\"\n",
       "      destination: \"LICENSE\"\n",
       "    ProjectFile:\n",
       "      version: v\"1.0.0-DEV\"\n",
       "    Readme:\n",
       "      file: \"~/.julia/packages/PkgTemplates/LISo2/templates/README.md\"\n",
       "      destination: \"README.md\"\n",
       "      inline_badges: false\n",
       "      badge_order: DataType[Documenter{GitHubActions}, Documenter{GitLabCI}, Documenter{TravisCI}, GitHubActions, GitLabCI, TravisCI, AppVeyor, DroneCI, CirrusCI, Codecov, Coveralls, BlueStyleBadge, ColPracBadge, PkgEvalBadge]\n",
       "      badge_off: DataType[]\n",
       "    SrcDir:\n",
       "      file: \"~/.julia/packages/PkgTemplates/LISo2/templates/src/module.jl\"\n",
       "    TagBot:\n",
       "      file: \"~/.julia/packages/PkgTemplates/LISo2/templates/github/workflows/TagBot.yml\"\n",
       "      destination: \"TagBot.yml\"\n",
       "      trigger: \"JuliaTagBot\"\n",
       "      token: Secret(\"GITHUB_TOKEN\")\n",
       "      ssh: Secret(\"DOCUMENTER_KEY\")\n",
       "      ssh_password: nothing\n",
       "      changelog: nothing\n",
       "      changelog_ignore: nothing\n",
       "      gpg: nothing\n",
       "      gpg_password: nothing\n",
       "      registry: nothing\n",
       "      branches: nothing\n",
       "      dispatch: nothing\n",
       "      dispatch_delay: nothing\n",
       "    Tests:\n",
       "      file: \"~/.julia/packages/PkgTemplates/LISo2/templates/test/runtests.jl\"\n",
       "      project: false"
      ]
     },
     "execution_count": 16,
     "metadata": {},
     "output_type": "execute_result"
    }
   ],
   "source": [
    "using PkgTemplates\n",
    "\n",
    "template2 = Template(\n",
    "    user=\"white-alistair\",\n",
    "    authors=\"Alistair White <alistair.white@tum.de>\",\n",
    "    dir=\".\",\n",
    "    julia=v\"1.9.3\",\n",
    "    plugins=[\n",
    "        Documenter(),\n",
    "    ]\n",
    ")"
   ]
  },
  {
   "cell_type": "code",
   "execution_count": 17,
   "id": "418cdb6b",
   "metadata": {},
   "outputs": [
    {
     "name": "stderr",
     "output_type": "stream",
     "text": [
      "\u001b[36m\u001b[1m[ \u001b[22m\u001b[39m\u001b[36m\u001b[1mInfo: \u001b[22m\u001b[39mRunning prehooks\n",
      "\u001b[36m\u001b[1m[ \u001b[22m\u001b[39m\u001b[36m\u001b[1mInfo: \u001b[22m\u001b[39mRunning hooks\n",
      "\u001b[32m\u001b[1m  Activating\u001b[22m\u001b[39m project at `~/code/MyTestTwo`\n",
      "\u001b[32m\u001b[1m    Updating\u001b[22m\u001b[39m registry at `~/.julia/registries/General.toml`\n",
      "\u001b[32m\u001b[1m  No Changes\u001b[22m\u001b[39m to `~/code/MyTestTwo/Project.toml`\n",
      "\u001b[32m\u001b[1m  No Changes\u001b[22m\u001b[39m to `~/code/MyTestTwo/Manifest.toml`\n",
      "\u001b[32m\u001b[1mPrecompiling\u001b[22m\u001b[39m project...\n",
      "\u001b[32m  ✓ \u001b[39mMyTestTwo\n",
      "  1 dependency successfully precompiled in 0 seconds\n",
      "\u001b[32m\u001b[1m  Activating\u001b[22m\u001b[39m project at `~/.julia/environments/v1.9`\n",
      "\u001b[32m\u001b[1m  Activating\u001b[22m\u001b[39m new project at `~/code/MyTestTwo/docs`\n",
      "\u001b[32m\u001b[1m   Resolving\u001b[22m\u001b[39m package versions...\n",
      "\u001b[32m\u001b[1m    Updating\u001b[22m\u001b[39m `~/code/MyTestTwo/docs/Project.toml`\n",
      "  \u001b[90m[e30172f5] \u001b[39m\u001b[92m+ Documenter v1.1.2\u001b[39m\n",
      "\u001b[32m\u001b[1m    Updating\u001b[22m\u001b[39m `~/code/MyTestTwo/docs/Manifest.toml`\n",
      "  \u001b[90m[a4c015fc] \u001b[39m\u001b[92m+ ANSIColoredPrinters v0.0.1\u001b[39m\n",
      "  \u001b[90m[1520ce14] \u001b[39m\u001b[92m+ AbstractTrees v0.4.4\u001b[39m\n",
      "  \u001b[90m[ffbed154] \u001b[39m\u001b[92m+ DocStringExtensions v0.9.3\u001b[39m\n",
      "  \u001b[90m[e30172f5] \u001b[39m\u001b[92m+ Documenter v1.1.2\u001b[39m\n",
      "  \u001b[90m[b5f81e59] \u001b[39m\u001b[92m+ IOCapture v0.2.3\u001b[39m\n",
      "  \u001b[90m[682c06a0] \u001b[39m\u001b[92m+ JSON v0.21.4\u001b[39m\n",
      "  \u001b[90m[0e77f7df] \u001b[39m\u001b[92m+ LazilyInitializedFields v1.2.2\u001b[39m\n",
      "  \u001b[90m[d0879d2d] \u001b[39m\u001b[92m+ MarkdownAST v0.1.2\u001b[39m\n",
      "  \u001b[90m[69de0a69] \u001b[39m\u001b[92m+ Parsers v2.8.0\u001b[39m\n",
      "  \u001b[90m[aea7be01] \u001b[39m\u001b[92m+ PrecompileTools v1.2.0\u001b[39m\n",
      "  \u001b[90m[21216c6a] \u001b[39m\u001b[92m+ Preferences v1.4.1\u001b[39m\n",
      "  \u001b[90m[2792f1a3] \u001b[39m\u001b[92m+ RegistryInstances v0.1.0\u001b[39m\n",
      "  \u001b[90m[0dad84c5] \u001b[39m\u001b[92m+ ArgTools v1.1.1\u001b[39m\n",
      "  \u001b[90m[56f22d72] \u001b[39m\u001b[92m+ Artifacts\u001b[39m\n",
      "  \u001b[90m[2a0f44e3] \u001b[39m\u001b[92m+ Base64\u001b[39m\n",
      "  \u001b[90m[ade2ca70] \u001b[39m\u001b[92m+ Dates\u001b[39m\n",
      "  \u001b[90m[f43a241f] \u001b[39m\u001b[92m+ Downloads v1.6.0\u001b[39m\n",
      "  \u001b[90m[7b1f6079] \u001b[39m\u001b[92m+ FileWatching\u001b[39m\n",
      "  \u001b[90m[b77e0a4c] \u001b[39m\u001b[92m+ InteractiveUtils\u001b[39m\n",
      "  \u001b[90m[b27032c2] \u001b[39m\u001b[92m+ LibCURL v0.6.3\u001b[39m\n",
      "  \u001b[90m[76f85450] \u001b[39m\u001b[92m+ LibGit2\u001b[39m\n",
      "  \u001b[90m[8f399da3] \u001b[39m\u001b[92m+ Libdl\u001b[39m\n",
      "  \u001b[90m[56ddb016] \u001b[39m\u001b[92m+ Logging\u001b[39m\n",
      "  \u001b[90m[d6f4376e] \u001b[39m\u001b[92m+ Markdown\u001b[39m\n",
      "  \u001b[90m[a63ad114] \u001b[39m\u001b[92m+ Mmap\u001b[39m\n",
      "  \u001b[90m[ca575930] \u001b[39m\u001b[92m+ NetworkOptions v1.2.0\u001b[39m\n",
      "  \u001b[90m[44cfe95a] \u001b[39m\u001b[92m+ Pkg v1.9.2\u001b[39m\n",
      "  \u001b[90m[de0858da] \u001b[39m\u001b[92m+ Printf\u001b[39m\n",
      "  \u001b[90m[3fa0cd96] \u001b[39m\u001b[92m+ REPL\u001b[39m\n",
      "  \u001b[90m[9a3f8284] \u001b[39m\u001b[92m+ Random\u001b[39m\n",
      "  \u001b[90m[ea8e919c] \u001b[39m\u001b[92m+ SHA v0.7.0\u001b[39m\n",
      "  \u001b[90m[9e88b42a] \u001b[39m\u001b[92m+ Serialization\u001b[39m\n",
      "  \u001b[90m[6462fe0b] \u001b[39m\u001b[92m+ Sockets\u001b[39m\n",
      "  \u001b[90m[fa267f1f] \u001b[39m\u001b[92m+ TOML v1.0.3\u001b[39m\n",
      "  \u001b[90m[a4e569a6] \u001b[39m\u001b[92m+ Tar v1.10.0\u001b[39m\n",
      "  \u001b[90m[8dfed614] \u001b[39m\u001b[92m+ Test\u001b[39m\n",
      "  \u001b[90m[cf7118a7] \u001b[39m\u001b[92m+ UUIDs\u001b[39m\n",
      "  \u001b[90m[4ec0a83e] \u001b[39m\u001b[92m+ Unicode\u001b[39m\n",
      "  \u001b[90m[deac9b47] \u001b[39m\u001b[92m+ LibCURL_jll v7.84.0+0\u001b[39m\n",
      "  \u001b[90m[29816b5a] \u001b[39m\u001b[92m+ LibSSH2_jll v1.10.2+0\u001b[39m\n",
      "  \u001b[90m[c8ffd9c3] \u001b[39m\u001b[92m+ MbedTLS_jll v2.28.2+0\u001b[39m\n",
      "  \u001b[90m[14a3606d] \u001b[39m\u001b[92m+ MozillaCACerts_jll v2022.10.11\u001b[39m\n",
      "  \u001b[90m[83775a58] \u001b[39m\u001b[92m+ Zlib_jll v1.2.13+0\u001b[39m\n",
      "  \u001b[90m[8e850ede] \u001b[39m\u001b[92m+ nghttp2_jll v1.48.0+0\u001b[39m\n",
      "  \u001b[90m[3f19e933] \u001b[39m\u001b[92m+ p7zip_jll v17.4.0+0\u001b[39m\n",
      "\u001b[32m\u001b[1m   Resolving\u001b[22m\u001b[39m package versions...\n",
      "\u001b[32m\u001b[1m    Updating\u001b[22m\u001b[39m `~/code/MyTestTwo/docs/Project.toml`\n",
      "  \u001b[90m[01d30116] \u001b[39m\u001b[92m+ MyTestTwo v1.0.0-DEV `..`\u001b[39m\n",
      "\u001b[32m\u001b[1m    Updating\u001b[22m\u001b[39m `~/code/MyTestTwo/docs/Manifest.toml`\n",
      "  \u001b[90m[01d30116] \u001b[39m\u001b[92m+ MyTestTwo v1.0.0-DEV `..`\u001b[39m\n",
      "\u001b[32m\u001b[1m  Activating\u001b[22m\u001b[39m project at `~/.julia/environments/v1.9`\n",
      "\u001b[36m\u001b[1m[ \u001b[22m\u001b[39m\u001b[36m\u001b[1mInfo: \u001b[22m\u001b[39mRunning posthooks\n",
      "\u001b[36m\u001b[1m[ \u001b[22m\u001b[39m\u001b[36m\u001b[1mInfo: \u001b[22m\u001b[39mNew package is at /home/alistair/code/MyTestTwo\n"
     ]
    }
   ],
   "source": [
    "template2(\"MyTestTwo.jl\")"
   ]
  },
  {
   "cell_type": "markdown",
   "id": "95c7575a",
   "metadata": {},
   "source": [
    "- It's handy to save the `Template` call somewhere, e.g. directly in Julia's `startup.jl` script. See the [PkgTemplates.jl doc for different options](https://juliaci.github.io/PkgTemplates.jl/stable/user/#Saving-Templates-1).\n",
    "<br>\n",
    "\n",
    "- This creates the basic package structure: "
   ]
  },
  {
   "cell_type": "code",
   "execution_count": 18,
   "id": "841abb08",
   "metadata": {
    "scrolled": true
   },
   "outputs": [
    {
     "name": "stdout",
     "output_type": "stream",
     "text": [
      "MyTestTwo\n",
      "├── docs\n",
      "│   ├── make.jl\n",
      "│   ├── Manifest.toml\n",
      "│   ├── Project.toml\n",
      "│   └── src\n",
      "│       └── index.md\n",
      "├── LICENSE\n",
      "├── Manifest.toml\n",
      "├── Project.toml\n",
      "├── README.md\n",
      "├── src\n",
      "│   └── MyTestTwo.jl\n",
      "└── test\n",
      "    └── runtests.jl\n",
      "\n",
      "4 directories, 10 files\n"
     ]
    }
   ],
   "source": [
    ";tree MyTestTwo"
   ]
  },
  {
   "cell_type": "markdown",
   "id": "1096dad4",
   "metadata": {},
   "source": [
    "- This already initialised a few more files. For example, it includes a license file:"
   ]
  },
  {
   "cell_type": "code",
   "execution_count": 20,
   "id": "68f88fd1",
   "metadata": {},
   "outputs": [
    {
     "name": "stdout",
     "output_type": "stream",
     "text": [
      "MIT License\n",
      "\n",
      "Copyright (c) 2023 Alistair White <alistair.white@tum.de>\n",
      "\n",
      "Permission is hereby granted, free of charge, to any person obtaining a copy\n",
      "of this software and associated documentation files (the \"Software\"), to deal\n",
      "in the Software without restriction, including without limitation the rights\n",
      "to use, copy, modify, merge, publish, distribute, sublicense, and/or sell\n",
      "copies of the Software, and to permit persons to whom the Software is\n",
      "furnished to do so, subject to the following conditions:\n",
      "\n",
      "The above copyright notice and this permission notice shall be included in all\n",
      "copies or substantial portions of the Software.\n",
      "\n",
      "THE SOFTWARE IS PROVIDED \"AS IS\", WITHOUT WARRANTY OF ANY KIND, EXPRESS OR\n",
      "IMPLIED, INCLUDING BUT NOT LIMITED TO THE WARRANTIES OF MERCHANTABILITY,\n",
      "FITNESS FOR A PARTICULAR PURPOSE AND NONINFRINGEMENT. IN NO EVENT SHALL THE\n",
      "AUTHORS OR COPYRIGHT HOLDERS BE LIABLE FOR ANY CLAIM, DAMAGES OR OTHER\n",
      "LIABILITY, WHETHER IN AN ACTION OF CONTRACT, TORT OR OTHERWISE, ARISING FROM,\n",
      "OUT OF OR IN CONNECTION WITH THE SOFTWARE OR THE USE OR OTHER DEALINGS IN THE\n",
      "SOFTWARE.\n"
     ]
    }
   ],
   "source": [
    ";less MyTestTwo/LICENSE"
   ]
  },
  {
   "cell_type": "markdown",
   "id": "c5b90a51",
   "metadata": {},
   "source": [
    "- And an almost empty README file:"
   ]
  },
  {
   "cell_type": "code",
   "execution_count": 21,
   "id": "29183fe9",
   "metadata": {},
   "outputs": [
    {
     "name": "stdout",
     "output_type": "stream",
     "text": [
      "# MyTestTwo\n",
      "\n",
      "[![Build Status](https://github.com/white-alistair/MyTestTwo.jl/actions/workflows/CI.yml/badge.svg?branch=main)](https://github.com/white-alistair/MyTestTwo.jl/actions/workflows/CI.yml?query=branch%3Amain)\n"
     ]
    }
   ],
   "source": [
    ";less MyTestTwo/README.md"
   ]
  },
  {
   "cell_type": "markdown",
   "id": "7488db3c",
   "metadata": {},
   "source": [
    "- We also have the folder structure for tests, which we will talk about in a few minutes. \n",
    "<br>\n",
    "\n",
    "- Additionally, PkgTemplates.jl provides additional, more advanced features via the keyword `plugins`. \n",
    "Plugins can modify some of these files and add further template files \n",
    "\n",
    "    * `License(name=\"MIT\", destination=\"LICENSE\")` for the license file \n",
    "    * `Git(....)` for the git configuration\n",
    "    * Options for CI/CD (we will talk about that in the next lectures)\n",
    "    * Further Options for tests\n",
    "    * `Documenter()` for documentation (can also include CI presets)\n",
    "    * Badges that are displayed on the GitHub page that link to the documentation, CI report, etc.<br><br>\n",
    "\n",
    "- See the [full documentation of PackageTemplates.jl](https://invenia.github.io/PkgTemplates.jl/dev/user/) for details of all the plugins that can be added."
   ]
  },
  {
   "cell_type": "markdown",
   "id": "88553a1f",
   "metadata": {},
   "source": [
    "## 3. Modules <a class=\"anchor\" id=\"modules\"></a>\n",
    "\n",
    "* We first write a function for our module: "
   ]
  },
  {
   "cell_type": "code",
   "execution_count": 22,
   "id": "46dce1c8",
   "metadata": {},
   "outputs": [
    {
     "data": {
      "text/plain": [
       "add_two"
      ]
     },
     "execution_count": 22,
     "metadata": {},
     "output_type": "execute_result"
    }
   ],
   "source": [
    "\"\"\"\n",
    "    add_two(x::T) where {T<:Number} \n",
    "\n",
    "Adds two to the input number.\n",
    "\"\"\"\n",
    "function add_two(x::T) where {T<:Number}\n",
    "    x + T(2) \n",
    "end\n",
    "\n",
    "\"\"\"\n",
    "    add_two(x::AbstractArray{T,N}) where {T,N} \n",
    "\n",
    "Adds two to an array element-wise.\n",
    "\"\"\"\n",
    "function add_two(x::AbstractArray{T,N}) where {T,N}\n",
    "    x .+ T(2)\n",
    "end"
   ]
  },
  {
   "cell_type": "markdown",
   "id": "063a4c8c",
   "metadata": {},
   "source": [
    "- For the documentation that we add later, we should include docstrings. There's no clear convention wheather you should write one docstring for every function of the same name or just one for all. The docstring should cover all the behaviour of all functions though!\n",
    "<br>\n",
    "\n",
    "* We've seen the [module](https://docs.julialang.org/en/v1/manual/modules/) command before; it defines a [namespace](https://en.wikipedia.org/wiki/Namespace). It is the common practice that every package defines a module in the central `src/MyTestTwo.jl` file with a name such as `MyTestTwo`. This will usually look something like this: "
   ]
  },
  {
   "cell_type": "code",
   "execution_count": null,
   "id": "e6d6ab75",
   "metadata": {},
   "outputs": [],
   "source": [
    "module MyTestTwo \n",
    "    using StatsBase # import other packages that your package needs \n",
    "\n",
    "    include(\"more_functions.jl\") # include source code files where the actual functions of your project are \n",
    "    \n",
    "    export add_two # export some of the functions that the users can use directly\n",
    "\n",
    "    function __init__() # OPTIONAL: this special function is always executed when the module is loaded \n",
    "        nothing \n",
    "    end\n",
    "end "
   ]
  },
  {
   "cell_type": "markdown",
   "id": "32845d79",
   "metadata": {},
   "source": [
    "- This module definition contains a number of important keywords that you'll see and use often:\n",
    "    * `include`: This simply executes the code in the given file. The order of the files that you include matters; they are loaded sequentially, one after the other. If you e.g. define abstract types, you should do this in the first file you include (or sometimes also directly in the module file).\n",
    "    <br>\n",
    "\n",
    "    * `export`: This exports the given objects directly into the namespace of the importer. That means all objects that are exported can be accessed directly after the user imports the library with `using MyTestTwo`. All other objects can be still accessed directly with e.g. `MyTestTwo.other_function`\n",
    "    <br>\n",
    "\n",
    "    * `__init__`: The init function is usually not necessary. However, it is sometimes used to determine what hardware is available and chooses the right functions based on that (e.g. whether a GPU is available or not)."
   ]
  },
  {
   "cell_type": "code",
   "execution_count": null,
   "id": "cc86056e",
   "metadata": {},
   "outputs": [],
   "source": [
    ";tree ."
   ]
  },
  {
   "cell_type": "markdown",
   "id": "8e9d2e86",
   "metadata": {},
   "source": [
    "- Remember that we also need to add all packages we imported to environment."
   ]
  },
  {
   "cell_type": "markdown",
   "id": "2c773b43",
   "metadata": {},
   "source": [
    "## 4. Registries <a class=\"anchor\" id=\"registry\"></a>\n",
    "\n",
    "- The Julia community manages packages in [registries](https://pkgdocs.julialang.org/v1/registries/). "
   ]
  },
  {
   "cell_type": "code",
   "execution_count": 23,
   "id": "63a36e0d",
   "metadata": {},
   "outputs": [
    {
     "name": "stderr",
     "output_type": "stream",
     "text": [
      "\u001b[32m\u001b[1mRegistry Status\u001b[22m\u001b[39m \n",
      "\u001b[90m [23338594]\u001b[39m General (https://github.com/JuliaRegistries/General.git)\n"
     ]
    }
   ],
   "source": [
    "]registry st"
   ]
  },
  {
   "cell_type": "markdown",
   "id": "acaead52",
   "metadata": {},
   "source": [
    "* Normally, that is just the  [General](https://github.com/JuliaRegistries/General) registry that is itself a GitHub repository where all packages are listed. \n",
    "<br>\n",
    "\n",
    "* This repository is not managed manually but by bots. As long as a package follows the regular Julia package structure, it is relatively easy to add it to this registry with the [Registrator](https://github.com/JuliaRegistries/Registrator.jl/#registrator) bot."
   ]
  },
  {
   "cell_type": "markdown",
   "id": "27874af8",
   "metadata": {},
   "source": [
    "## 5. Tests <a class=\"anchor\" id=\"tests\"></a>\n",
    "\n",
    "- It is good practice to write [unit tests](https://en.wikipedia.org/wiki/Unit_testing) for as much of the functionality of your package as is possible. \n",
    "<br>\n",
    "\n",
    "- The purpose of a unit test is, as the name suggests, to verify that a given \"unit\" of code in your package works as intended. Hence, unit tests should ideally isolate and test a single piece of functionality.\n",
    "<br>\n",
    "\n",
    "- The basic idea is that, if all the individual units of your code work as intended, then the overall program formed by putting them together will also work (this is, of course, a simplification; see also [integration testing](https://en.wikipedia.org/wiki/Integration_testing)).\n",
    "<br>\n",
    "\n",
    "- Unit tests are particularly useful for catching unwanted errors: you might make changes to one function that is also used by other functions and affects them. A properly written unit test makes sure that all functions still work as intended. \n",
    "<br>\n",
    "\n",
    "- Julia uses the `Test` package for testing. In the package structure, all tests are written in the `test` subfolder that was created by `PkgTemplates` for us. These test are executed every time we call `]test MyTestTwo`. \n",
    "<br>\n",
    "\n",
    "- Usually, each important function is tested seperately.\n",
    "<br>\n",
    "\n",
    "- One should avoid large computation in tests, i.e. tests should run fairly quickly (~ minutes).\n",
    "<br>\n",
    "\n",
    "- The `runtests.jl` files is meant to load common packages and include all different tests"
   ]
  },
  {
   "cell_type": "code",
   "execution_count": 24,
   "id": "fb45daea",
   "metadata": {},
   "outputs": [
    {
     "name": "stderr",
     "output_type": "stream",
     "text": [
      "\u001b[32m\u001b[1m   Resolving\u001b[22m\u001b[39m package versions...\n",
      "\u001b[32m\u001b[1m    Updating\u001b[22m\u001b[39m `~/.julia/environments/v1.9/Project.toml`\n",
      "  \u001b[90m[8dfed614] \u001b[39m\u001b[92m+ Test\u001b[39m\n",
      "\u001b[32m\u001b[1m  No Changes\u001b[22m\u001b[39m to `~/.julia/environments/v1.9/Manifest.toml`\n",
      "\u001b[32m\u001b[1mPrecompiling\u001b[22m\u001b[39m project...\n",
      "\u001b[32m  ✓ \u001b[39m\u001b[90mDistributions → DistributionsChainRulesCoreExt\u001b[39m\n",
      "\u001b[32m  ✓ \u001b[39m\u001b[90mDistributionsAD\u001b[39m\n",
      "\u001b[32m  ✓ \u001b[39m\u001b[90mDistributionsAD → DistributionsADForwardDiffExt\u001b[39m\n",
      "\u001b[32m  ✓ \u001b[39m\u001b[90mTracker\u001b[39m\n",
      "\u001b[32m  ✓ \u001b[39m\u001b[90mArrayInterface → ArrayInterfaceTrackerExt\u001b[39m\n",
      "\u001b[32m  ✓ \u001b[39m\u001b[90mTracker → TrackerPDMatsExt\u001b[39m\n",
      "\u001b[32m  ✓ \u001b[39m\u001b[90mFiniteDiff\u001b[39m\n",
      "\u001b[32m  ✓ \u001b[39m\u001b[90mRecursiveArrayTools\u001b[39m\n",
      "\u001b[32m  ✓ \u001b[39m\u001b[90mStaticArrayInterface\u001b[39m\n",
      "\u001b[32m  ✓ \u001b[39m\u001b[90mSciMLOperators\u001b[39m\n",
      "\u001b[32m  ✓ \u001b[39m\u001b[90mFiniteDiff → FiniteDiffStaticArraysExt\u001b[39m\n",
      "\u001b[32m  ✓ \u001b[39m\u001b[90mNLSolversBase\u001b[39m\n",
      "\u001b[32m  ✓ \u001b[39m\u001b[90mDistributionsAD → DistributionsADTrackerExt\u001b[39m\n",
      "\u001b[32m  ✓ \u001b[39m\u001b[90mCloseOpenIntervals\u001b[39m\n",
      "\u001b[32m  ✓ \u001b[39m\u001b[90mStaticArrayInterface → StaticArrayInterfaceOffsetArraysExt\u001b[39m\n",
      "\u001b[32m  ✓ \u001b[39m\u001b[90mDataInterpolations\u001b[39m\n",
      "\u001b[32m  ✓ \u001b[39m\u001b[90mLayoutPointers\u001b[39m\n",
      "\u001b[32m  ✓ \u001b[39m\u001b[90mStaticArrayInterface → StaticArrayInterfaceStaticArraysExt\u001b[39m\n",
      "\u001b[32m  ✓ \u001b[39m\u001b[90mRecursiveArrayTools → RecursiveArrayToolsTrackerExt\u001b[39m\n",
      "\u001b[32m  ✓ \u001b[39m\u001b[90mDataInterpolations → DataInterpolationsChainRulesCoreExt\u001b[39m\n",
      "\u001b[32m  ✓ \u001b[39m\u001b[90mEllipsisNotation\u001b[39m\n",
      "\u001b[32m  ✓ \u001b[39m\u001b[90mSparseDiffTools\u001b[39m\n",
      "\u001b[32m  ✓ \u001b[39m\u001b[90mStrideArraysCore\u001b[39m\n",
      "\u001b[32m  ✓ \u001b[39m\u001b[90mLineSearches\u001b[39m\n",
      "\u001b[32m  ✓ \u001b[39m\u001b[90mPolyester\u001b[39m\n",
      "\u001b[32m  ✓ \u001b[39m\u001b[90mNLsolve\u001b[39m\n",
      "\u001b[32m  ✓ \u001b[39m\u001b[90mFastBroadcast\u001b[39m\n",
      "\u001b[32m  ✓ \u001b[39m\u001b[90mOptim\u001b[39m\n",
      "\u001b[32m  ✓ \u001b[39m\u001b[90mSciMLBase\u001b[39m\n",
      "\u001b[32m  ✓ \u001b[39m\u001b[90mDataInterpolations → DataInterpolationsOptimExt\u001b[39m\n",
      "\u001b[32m  ✓ \u001b[39m\u001b[90mReverseDiff\u001b[39m\n",
      "\u001b[32m  ✓ \u001b[39m\u001b[90mPreallocationTools → PreallocationToolsReverseDiffExt\u001b[39m\n",
      "\u001b[32m  ✓ \u001b[39m\u001b[90mVectorizationBase\u001b[39m\n",
      "\u001b[32m  ✓ \u001b[39m\u001b[90mDistributionsAD → DistributionsADReverseDiffExt\u001b[39m\n",
      "\u001b[32m  ✓ \u001b[39m\u001b[90mSLEEFPirates\u001b[39m\n",
      "\u001b[32m  ✓ \u001b[39m\u001b[90mDiffEqBase\u001b[39m\n",
      "\u001b[32m  ✓ \u001b[39m\u001b[90mSciMLNLSolve\u001b[39m\n",
      "\u001b[32m  ✓ \u001b[39m\u001b[90mDiffEqBase → DiffEqBaseDistributionsExt\u001b[39m\n",
      "\u001b[32m  ✓ \u001b[39m\u001b[90mDiffEqCallbacks\u001b[39m\n",
      "\u001b[32m  ✓ \u001b[39m\u001b[90mDiffEqBase → DiffEqBaseTrackerExt\u001b[39m\n",
      "\u001b[32m  ✓ \u001b[39m\u001b[90mJumpProcesses\u001b[39m\n",
      "\u001b[32m  ✓ \u001b[39m\u001b[90mDiffEqNoiseProcess\u001b[39m\n",
      "\u001b[32m  ✓ \u001b[39m\u001b[90mDiffEqBase → DiffEqBaseReverseDiffExt\u001b[39m\n",
      "\u001b[32m  ✓ \u001b[39m\u001b[90mSimpleNonlinearSolve\u001b[39m\n",
      "\u001b[32m  ✓ \u001b[39m\u001b[90mSimpleNonlinearSolve → SimpleNonlinearSolveNNlibExt\u001b[39m\n",
      "\u001b[32m  ✓ \u001b[39m\u001b[90mZygote\u001b[39m\n",
      "\u001b[32m  ✓ \u001b[39m\u001b[90mZygote → ZygoteColorsExt\u001b[39m\n",
      "\u001b[32m  ✓ \u001b[39m\u001b[90mZygote → ZygoteDistancesExt\u001b[39m\n",
      "\u001b[32m  ✓ \u001b[39m\u001b[90mDiffEqNoiseProcess → DiffEqNoiseProcessReverseDiffExt\u001b[39m\n",
      "\u001b[32m  ✓ \u001b[39m\u001b[90mSparseDiffTools → SparseDiffToolsZygoteExt\u001b[39m\n",
      "\u001b[32m  ✓ \u001b[39m\u001b[90mZygote → ZygoteTrackerExt\u001b[39m\n",
      "\u001b[32m  ✓ \u001b[39m\u001b[90mRecursiveArrayTools → RecursiveArrayToolsZygoteExt\u001b[39m\n",
      "\u001b[32m  ✓ \u001b[39m\u001b[90mDiffEqBase → DiffEqBaseZygoteExt\u001b[39m\n",
      "\u001b[32m  ✓ \u001b[39m\u001b[90mFlux\u001b[39m\n",
      "\u001b[32m  ✓ \u001b[39m\u001b[90mLoopVectorization\u001b[39m\n",
      "\u001b[32m  ✓ \u001b[39m\u001b[90mLoopVectorization → SpecialFunctionsExt\u001b[39m\n",
      "\u001b[32m  ✓ \u001b[39m\u001b[90mLoopVectorization → ForwardDiffExt\u001b[39m\n",
      "\u001b[32m  ✓ \u001b[39m\u001b[90mTriangularSolve\u001b[39m\n",
      "\u001b[32m  ✓ \u001b[39m\u001b[90mRecursiveFactorization\u001b[39m\n",
      "\u001b[32m  ✓ \u001b[39m\u001b[90mLinearSolve\u001b[39m\n",
      "\u001b[32m  ✓ \u001b[39m\u001b[90mLinearSolve → LinearSolveCUDAExt\u001b[39m\n",
      "\u001b[32m  ✓ \u001b[39m\u001b[90mNonlinearSolve\u001b[39m\n",
      "\u001b[91m  ✗ \u001b[39m\u001b[90mOrdinaryDiffEq\u001b[39m\n",
      "\u001b[91m  ✗ \u001b[39m\u001b[90mStochasticDiffEq\u001b[39m\n",
      "\n",
      "  \u001b[33m1\u001b[39m dependency had warnings during precompilation:\u001b[33m\n",
      "┌ \u001b[39mTracker [9f7883ad-71c0-57eb-9f7f-b5c9e6d3789c]\u001b[33m\n",
      "│  \u001b[39m\u001b[33m\u001b[1m┌ \u001b[22m\u001b[39m\u001b[33m\u001b[1mWarning: \u001b[22m\u001b[39mModule ForwardDiff with build ID fafbfcfd-4db0-d310-0000-24def7670166 is missing from the cache.\u001b[33m\n",
      "│  \u001b[39m\u001b[33m\u001b[1m│ \u001b[22m\u001b[39mThis may mean ForwardDiff [f6369f11-7733-5829-9624-2563aa707210] does not support precompilation but is imported by a module that does.\u001b[33m\n",
      "│  \u001b[39m\u001b[33m\u001b[1m└ \u001b[22m\u001b[39m\u001b[90m@ Base loading.jl:1793\u001b[39m\u001b[33m\n",
      "│  \u001b[39m\u001b[91m\u001b[1m┌ \u001b[22m\u001b[39m\u001b[91m\u001b[1mError: \u001b[22m\u001b[39mError during loading of extension ForwardDiffStaticArraysExt of ForwardDiff, use `Base.retry_load_extensions()` to retry.\u001b[33m\n",
      "│  \u001b[39m\u001b[91m\u001b[1m│ \u001b[22m\u001b[39m  exception =\u001b[33m\n",
      "│  \u001b[39m\u001b[91m\u001b[1m│ \u001b[22m\u001b[39m   \u001b[0m1-element ExceptionStack:\u001b[33m\n",
      "│  \u001b[39m\u001b[91m\u001b[1m│ \u001b[22m\u001b[39m   Declaring __precompile__(false) is not allowed in files that are being precompiled.\u001b[33m\n",
      "│  \u001b[39m\u001b[91m\u001b[1m│ \u001b[22m\u001b[39m   Stacktrace:\u001b[33m\n",
      "│  \u001b[39m\u001b[91m\u001b[1m│ \u001b[22m\u001b[39m     [1] \u001b[0m\u001b[1m_require\u001b[22m\u001b[0m\u001b[1m(\u001b[22m\u001b[90mpkg\u001b[39m::\u001b[0mBase.PkgId, \u001b[90menv\u001b[39m::\u001b[0mNothing\u001b[0m\u001b[1m)\u001b[22m\u001b[33m\n",
      "│  \u001b[39m\u001b[91m\u001b[1m│ \u001b[22m\u001b[39m   \u001b[90m    @\u001b[39m \u001b[90mBase\u001b[39m \u001b[90m./\u001b[39m\u001b[90m\u001b[4mloading.jl:1825\u001b[24m\u001b[39m\u001b[33m\n",
      "│  \u001b[39m\u001b[91m\u001b[1m│ \u001b[22m\u001b[39m     [2] \u001b[0m\u001b[1m_require_prelocked\u001b[22m\u001b[0m\u001b[1m(\u001b[22m\u001b[90muuidkey\u001b[39m::\u001b[0mBase.PkgId, \u001b[90menv\u001b[39m::\u001b[0mNothing\u001b[0m\u001b[1m)\u001b[22m\u001b[33m\n",
      "│  \u001b[39m\u001b[91m\u001b[1m│ \u001b[22m\u001b[39m   \u001b[90m    @\u001b[39m \u001b[90mBase\u001b[39m \u001b[90m./\u001b[39m\u001b[90m\u001b[4mloading.jl:1660\u001b[24m\u001b[39m\u001b[33m\n",
      "│  \u001b[39m\u001b[91m\u001b[1m│ \u001b[22m\u001b[39m     [3] \u001b[0m\u001b[1m_require_prelocked\u001b[22m\u001b[0m\u001b[1m(\u001b[22m\u001b[90muuidkey\u001b[39m::\u001b[0mBase.PkgId\u001b[0m\u001b[1m)\u001b[22m\u001b[33m\n",
      "│  \u001b[39m\u001b[91m\u001b[1m│ \u001b[22m\u001b[39m   \u001b[90m    @\u001b[39m \u001b[90mBase\u001b[39m \u001b[90m./\u001b[39m\u001b[90m\u001b[4mloading.jl:1658\u001b[24m\u001b[39m\u001b[33m\n",
      "│  \u001b[39m\u001b[91m\u001b[1m│ \u001b[22m\u001b[39m     [4] \u001b[0m\u001b[1mrun_extension_callbacks\u001b[22m\u001b[0m\u001b[1m(\u001b[22m\u001b[90mextid\u001b[39m::\u001b[0mBase.ExtensionId\u001b[0m\u001b[1m)\u001b[22m\u001b[33m\n",
      "│  \u001b[39m\u001b[91m\u001b[1m│ \u001b[22m\u001b[39m   \u001b[90m    @\u001b[39m \u001b[90mBase\u001b[39m \u001b[90m./\u001b[39m\u001b[90m\u001b[4mloading.jl:1255\u001b[24m\u001b[39m\u001b[33m\n",
      "│  \u001b[39m\u001b[91m\u001b[1m│ \u001b[22m\u001b[39m     [5] \u001b[0m\u001b[1mrun_extension_callbacks\u001b[22m\u001b[0m\u001b[1m(\u001b[22m\u001b[90mpkgid\u001b[39m::\u001b[0mBase.PkgId\u001b[0m\u001b[1m)\u001b[22m\u001b[33m\n",
      "│  \u001b[39m\u001b[91m\u001b[1m│ \u001b[22m\u001b[39m   \u001b[90m    @\u001b[39m \u001b[90mBase\u001b[39m \u001b[90m./\u001b[39m\u001b[90m\u001b[4mloading.jl:1290\u001b[24m\u001b[39m\u001b[33m\n",
      "│  \u001b[39m\u001b[91m\u001b[1m│ \u001b[22m\u001b[39m     [6] \u001b[0m\u001b[1mrun_package_callbacks\u001b[22m\u001b[0m\u001b[1m(\u001b[22m\u001b[90mmodkey\u001b[39m::\u001b[0mBase.PkgId\u001b[0m\u001b[1m)\u001b[22m\u001b[33m\n",
      "│  \u001b[39m\u001b[91m\u001b[1m│ \u001b[22m\u001b[39m   \u001b[90m    @\u001b[39m \u001b[90mBase\u001b[39m \u001b[90m./\u001b[39m\u001b[90m\u001b[4mloading.jl:1124\u001b[24m\u001b[39m\u001b[33m\n",
      "│  \u001b[39m\u001b[91m\u001b[1m│ \u001b[22m\u001b[39m     [7] \u001b[0m\u001b[1m_tryrequire_from_serialized\u001b[22m\u001b[0m\u001b[1m(\u001b[22m\u001b[90mmodkey\u001b[39m::\u001b[0mBase.PkgId, \u001b[90mpath\u001b[39m::\u001b[0mString, \u001b[90mocachepath\u001b[39m::\u001b[0mString, \u001b[90msourcepath\u001b[39m::\u001b[0mString, \u001b[90mdepmods\u001b[39m::\u001b[0mVector\u001b[90m{Any}\u001b[39m\u001b[0m\u001b[1m)\u001b[22m\u001b[33m\n",
      "│  \u001b[39m\u001b[91m\u001b[1m│ \u001b[22m\u001b[39m   \u001b[90m    @\u001b[39m \u001b[90mBase\u001b[39m \u001b[90m./\u001b[39m\u001b[90m\u001b[4mloading.jl:1398\u001b[24m\u001b[39m\u001b[33m\n",
      "│  \u001b[39m\u001b[91m\u001b[1m│ \u001b[22m\u001b[39m     [8] \u001b[0m\u001b[1m_require_search_from_serialized\u001b[22m\u001b[0m\u001b[1m(\u001b[22m\u001b[90mpkg\u001b[39m::\u001b[0mBase.PkgId, \u001b[90msourcepath\u001b[39m::\u001b[0mString, \u001b[90mbuild_id\u001b[39m::\u001b[0mUInt128\u001b[0m\u001b[1m)\u001b[22m\u001b[33m\n",
      "│  \u001b[39m\u001b[91m\u001b[1m│ \u001b[22m\u001b[39m   \u001b[90m    @\u001b[39m \u001b[90mBase\u001b[39m \u001b[90m./\u001b[39m\u001b[90m\u001b[4mloading.jl:1494\u001b[24m\u001b[39m\u001b[33m\n",
      "│  \u001b[39m\u001b[91m\u001b[1m│ \u001b[22m\u001b[39m     [9] \u001b[0m\u001b[1m_require\u001b[22m\u001b[0m\u001b[1m(\u001b[22m\u001b[90mpkg\u001b[39m::\u001b[0mBase.PkgId, \u001b[90menv\u001b[39m::\u001b[0mString\u001b[0m\u001b[1m)\u001b[22m\u001b[33m\n",
      "│  \u001b[39m\u001b[91m\u001b[1m│ \u001b[22m\u001b[39m   \u001b[90m    @\u001b[39m \u001b[90mBase\u001b[39m \u001b[90m./\u001b[39m\u001b[90m\u001b[4mloading.jl:1783\u001b[24m\u001b[39m\u001b[33m\n",
      "│  \u001b[39m\u001b[91m\u001b[1m│ \u001b[22m\u001b[39m    [10] \u001b[0m\u001b[1m_require_prelocked\u001b[22m\u001b[0m\u001b[1m(\u001b[22m\u001b[90muuidkey\u001b[39m::\u001b[0mBase.PkgId, \u001b[90menv\u001b[39m::\u001b[0mString\u001b[0m\u001b[1m)\u001b[22m\u001b[33m\n",
      "│  \u001b[39m\u001b[91m\u001b[1m│ \u001b[22m\u001b[39m   \u001b[90m    @\u001b[39m \u001b[90mBase\u001b[39m \u001b[90m./\u001b[39m\u001b[90m\u001b[4mloading.jl:1660\u001b[24m\u001b[39m\u001b[33m\n",
      "│  \u001b[39m\u001b[91m\u001b[1m│ \u001b[22m\u001b[39m    [11] \u001b[0m\u001b[1mmacro expansion\u001b[22m\u001b[33m\n",
      "│  \u001b[39m\u001b[91m\u001b[1m│ \u001b[22m\u001b[39m   \u001b[90m    @\u001b[39m \u001b[90m./\u001b[39m\u001b[90m\u001b[4mloading.jl:1648\u001b[24m\u001b[39m\u001b[90m [inlined]\u001b[39m\u001b[33m\n",
      "│  \u001b[39m\u001b[91m\u001b[1m│ \u001b[22m\u001b[39m    [12] \u001b[0m\u001b[1mmacro expansion\u001b[22m\u001b[33m\n",
      "│  \u001b[39m\u001b[91m\u001b[1m│ \u001b[22m\u001b[39m   \u001b[90m    @\u001b[39m \u001b[90m./\u001b[39m\u001b[90m\u001b[4mlock.jl:267\u001b[24m\u001b[39m\u001b[90m [inlined]\u001b[39m\u001b[33m\n",
      "│  \u001b[39m\u001b[91m\u001b[1m│ \u001b[22m\u001b[39m    [13] \u001b[0m\u001b[1mrequire\u001b[22m\u001b[0m\u001b[1m(\u001b[22m\u001b[90minto\u001b[39m::\u001b[0mModule, \u001b[90mmod\u001b[39m::\u001b[0mSymbol\u001b[0m\u001b[1m)\u001b[22m\u001b[33m\n",
      "│  \u001b[39m\u001b[91m\u001b[1m│ \u001b[22m\u001b[39m   \u001b[90m    @\u001b[39m \u001b[90mBase\u001b[39m \u001b[90m./\u001b[39m\u001b[90m\u001b[4mloading.jl:1611\u001b[24m\u001b[39m\u001b[33m\n",
      "│  \u001b[39m\u001b[91m\u001b[1m│ \u001b[22m\u001b[39m    [14] \u001b[0m\u001b[1minclude\u001b[22m\u001b[0m\u001b[1m(\u001b[22m\u001b[90mmod\u001b[39m::\u001b[0mModule, \u001b[90m_path\u001b[39m::\u001b[0mString\u001b[0m\u001b[1m)\u001b[22m\u001b[33m\n",
      "│  \u001b[39m\u001b[91m\u001b[1m│ \u001b[22m\u001b[39m   \u001b[90m    @\u001b[39m \u001b[90mBase\u001b[39m \u001b[90m./\u001b[39m\u001b[90m\u001b[4mBase.jl:457\u001b[24m\u001b[39m\u001b[33m\n",
      "│  \u001b[39m\u001b[91m\u001b[1m│ \u001b[22m\u001b[39m    [15] \u001b[0m\u001b[1minclude\u001b[22m\u001b[0m\u001b[1m(\u001b[22m\u001b[90mx\u001b[39m::\u001b[0mString\u001b[0m\u001b[1m)\u001b[22m\u001b[33m\n",
      "│  \u001b[39m\u001b[91m\u001b[1m│ \u001b[22m\u001b[39m   \u001b[90m    @\u001b[39m \u001b[35mTracker\u001b[39m \u001b[90m~/.julia/packages/Tracker/tdXqL/src/\u001b[39m\u001b[90m\u001b[4mTracker.jl:1\u001b[24m\u001b[39m\u001b[33m\n",
      "│  \u001b[39m\u001b[91m\u001b[1m│ \u001b[22m\u001b[39m    [16] top-level scope\u001b[33m\n",
      "│  \u001b[39m\u001b[91m\u001b[1m│ \u001b[22m\u001b[39m   \u001b[90m    @\u001b[39m \u001b[90m~/.julia/packages/Tracker/tdXqL/src/\u001b[39m\u001b[90m\u001b[4mTracker.jl:75\u001b[24m\u001b[39m\u001b[33m\n",
      "│  \u001b[39m\u001b[91m\u001b[1m│ \u001b[22m\u001b[39m    [17] \u001b[0m\u001b[1minclude\u001b[22m\u001b[33m\n",
      "│  \u001b[39m\u001b[91m\u001b[1m│ \u001b[22m\u001b[39m   \u001b[90m    @\u001b[39m \u001b[90m./\u001b[39m\u001b[90m\u001b[4mBase.jl:457\u001b[24m\u001b[39m\u001b[90m [inlined]\u001b[39m\u001b[33m\n",
      "│  \u001b[39m\u001b[91m\u001b[1m│ \u001b[22m\u001b[39m    [18] \u001b[0m\u001b[1minclude_package_for_output\u001b[22m\u001b[0m\u001b[1m(\u001b[22m\u001b[90mpkg\u001b[39m::\u001b[0mBase.PkgId, \u001b[90minput\u001b[39m::\u001b[0mString, \u001b[90mdepot_path\u001b[39m::\u001b[0mVector\u001b[90m{String}\u001b[39m, \u001b[90mdl_load_path\u001b[39m::\u001b[0mVector\u001b[90m{String}\u001b[39m, \u001b[90mload_path\u001b[39m::\u001b[0mVector\u001b[90m{String}\u001b[39m, \u001b[90mconcrete_deps\u001b[39m::\u001b[0mVector\u001b[90m{Pair{Base.PkgId, UInt128}}\u001b[39m, \u001b[90msource\u001b[39m::\u001b[0mNothing\u001b[0m\u001b[1m)\u001b[22m\u001b[33m\n",
      "│  \u001b[39m\u001b[91m\u001b[1m│ \u001b[22m\u001b[39m   \u001b[90m    @\u001b[39m \u001b[90mBase\u001b[39m \u001b[90m./\u001b[39m\u001b[90m\u001b[4mloading.jl:2049\u001b[24m\u001b[39m\u001b[33m\n",
      "│  \u001b[39m\u001b[91m\u001b[1m│ \u001b[22m\u001b[39m    [19] top-level scope\u001b[33m\n",
      "│  \u001b[39m\u001b[91m\u001b[1m│ \u001b[22m\u001b[39m   \u001b[90m    @\u001b[39m \u001b[90m\u001b[4mstdin:3\u001b[24m\u001b[39m\u001b[33m\n",
      "│  \u001b[39m\u001b[91m\u001b[1m│ \u001b[22m\u001b[39m    [20] \u001b[0m\u001b[1meval\u001b[22m\u001b[33m\n",
      "│  \u001b[39m\u001b[91m\u001b[1m│ \u001b[22m\u001b[39m   \u001b[90m    @\u001b[39m \u001b[90m./\u001b[39m\u001b[90m\u001b[4mboot.jl:370\u001b[24m\u001b[39m\u001b[90m [inlined]\u001b[39m\u001b[33m\n",
      "│  \u001b[39m\u001b[91m\u001b[1m│ \u001b[22m\u001b[39m    [21] \u001b[0m\u001b[1minclude_string\u001b[22m\u001b[0m\u001b[1m(\u001b[22m\u001b[90mmapexpr\u001b[39m::\u001b[0mtypeof(identity), \u001b[90mmod\u001b[39m::\u001b[0mModule, \u001b[90mcode\u001b[39m::\u001b[0mString, \u001b[90mfilename\u001b[39m::\u001b[0mString\u001b[0m\u001b[1m)\u001b[22m\u001b[33m\n",
      "│  \u001b[39m\u001b[91m\u001b[1m│ \u001b[22m\u001b[39m   \u001b[90m    @\u001b[39m \u001b[90mBase\u001b[39m \u001b[90m./\u001b[39m\u001b[90m\u001b[4mloading.jl:1903\u001b[24m\u001b[39m\u001b[33m\n",
      "│  \u001b[39m\u001b[91m\u001b[1m│ \u001b[22m\u001b[39m    [22] \u001b[0m\u001b[1minclude_string\u001b[22m\u001b[33m\n",
      "│  \u001b[39m\u001b[91m\u001b[1m│ \u001b[22m\u001b[39m   \u001b[90m    @\u001b[39m \u001b[90m./\u001b[39m\u001b[90m\u001b[4mloading.jl:1913\u001b[24m\u001b[39m\u001b[90m [inlined]\u001b[39m\u001b[33m\n",
      "│  \u001b[39m\u001b[91m\u001b[1m│ \u001b[22m\u001b[39m    [23] \u001b[0m\u001b[1mexec_options\u001b[22m\u001b[0m\u001b[1m(\u001b[22m\u001b[90mopts\u001b[39m::\u001b[0mBase.JLOptions\u001b[0m\u001b[1m)\u001b[22m\u001b[33m\n",
      "│  \u001b[39m\u001b[91m\u001b[1m│ \u001b[22m\u001b[39m   \u001b[90m    @\u001b[39m \u001b[90mBase\u001b[39m \u001b[90m./\u001b[39m\u001b[90m\u001b[4mclient.jl:305\u001b[24m\u001b[39m\u001b[33m\n",
      "│  \u001b[39m\u001b[91m\u001b[1m│ \u001b[22m\u001b[39m    [24] \u001b[0m\u001b[1m_start\u001b[22m\u001b[0m\u001b[1m(\u001b[22m\u001b[0m\u001b[1m)\u001b[22m\u001b[33m\n",
      "│  \u001b[39m\u001b[91m\u001b[1m│ \u001b[22m\u001b[39m   \u001b[90m    @\u001b[39m \u001b[90mBase\u001b[39m \u001b[90m./\u001b[39m\u001b[90m\u001b[4mclient.jl:522\u001b[24m\u001b[39m\u001b[33m\n",
      "│  \u001b[39m\u001b[91m\u001b[1m└ \u001b[22m\u001b[39m\u001b[90m@ Base loading.jl:1261\u001b[39m\u001b[33m\n",
      "└  \u001b[39m\n"
     ]
    }
   ],
   "source": [
    "]add Test"
   ]
  },
  {
   "cell_type": "code",
   "execution_count": 25,
   "id": "21265f96",
   "metadata": {},
   "outputs": [],
   "source": [
    "using Test "
   ]
  },
  {
   "cell_type": "code",
   "execution_count": null,
   "id": "90abd622",
   "metadata": {},
   "outputs": [],
   "source": [
    "@test add_two(2.) ≈ 4.\n",
    "    \n",
    "@test add_two([2.,4.]) ≈ [4.,6.]"
   ]
  },
  {
   "cell_type": "code",
   "execution_count": null,
   "id": "d291401e",
   "metadata": {},
   "outputs": [],
   "source": [
    "using Test, MyTestTwo # import packages that all tests need \n",
    "\n",
    "# maybe you load some data or define some constant that all tests need \n",
    "\n",
    "@testset \"Test MyTestTwo.jl Basics\" begin\n",
    "    include(\"function_tests.jl\") # include individual tests \n",
    "end "
   ]
  },
  {
   "cell_type": "markdown",
   "id": "be97dc64",
   "metadata": {},
   "source": [
    "* A `@testset` groups different tests together\n",
    "<br>\n",
    "\n",
    "* The argument to `@test` must be a boolean; if it evaluates to `true` the test passes, if it evaluates to `false` the test fails.\n",
    "<br>\n",
    "\n",
    "* Different operating systems and hardware can sometimes lead to slightly different numerical results; it is important to account for that when writing tests with some kind of relative tolerence. In general, you should never check for exact equality of floating point numbers!\n",
    "<br>\n",
    "\n",
    "* An easy way to do this is by using `≈` (`\\approx` in Julia) instead of `==`"
   ]
  },
  {
   "cell_type": "markdown",
   "id": "8d4bb83c",
   "metadata": {},
   "source": [
    "### Random Numbers and Tests\n",
    "* If your functions use random numbers at some point, it is important to make the results reproducible by specifying the [seed](https://en.wikipedia.org/wiki/Random_seed) for the random number generator."
   ]
  },
  {
   "cell_type": "code",
   "execution_count": 27,
   "id": "f85bb10a",
   "metadata": {},
   "outputs": [
    {
     "data": {
      "text/plain": [
       "0.6509715267800616"
      ]
     },
     "execution_count": 27,
     "metadata": {},
     "output_type": "execute_result"
    }
   ],
   "source": [
    "rand()"
   ]
  },
  {
   "cell_type": "code",
   "execution_count": 28,
   "id": "faaf37ba",
   "metadata": {},
   "outputs": [
    {
     "data": {
      "text/plain": [
       "TaskLocalRNG()"
      ]
     },
     "execution_count": 28,
     "metadata": {},
     "output_type": "execute_result"
    }
   ],
   "source": [
    "using Random\n",
    "\n",
    "Random.seed!(1234)"
   ]
  },
  {
   "cell_type": "code",
   "execution_count": 29,
   "id": "25094f6f",
   "metadata": {},
   "outputs": [
    {
     "data": {
      "text/plain": [
       "0.32597672886359486"
      ]
     },
     "execution_count": 29,
     "metadata": {},
     "output_type": "execute_result"
    }
   ],
   "source": [
    "rand()"
   ]
  },
  {
   "cell_type": "code",
   "execution_count": 30,
   "id": "cc14a473",
   "metadata": {},
   "outputs": [
    {
     "data": {
      "text/plain": [
       "0.5490511363155669"
      ]
     },
     "execution_count": 30,
     "metadata": {},
     "output_type": "execute_result"
    }
   ],
   "source": [
    "rand()"
   ]
  },
  {
   "cell_type": "code",
   "execution_count": 31,
   "id": "bb7df9ee",
   "metadata": {},
   "outputs": [
    {
     "data": {
      "text/plain": [
       "TaskLocalRNG()"
      ]
     },
     "execution_count": 31,
     "metadata": {},
     "output_type": "execute_result"
    }
   ],
   "source": [
    "Random.seed!(1234)"
   ]
  },
  {
   "cell_type": "code",
   "execution_count": 32,
   "id": "fdcb892f",
   "metadata": {},
   "outputs": [
    {
     "data": {
      "text/plain": [
       "0.32597672886359486"
      ]
     },
     "execution_count": 32,
     "metadata": {},
     "output_type": "execute_result"
    }
   ],
   "source": [
    "rand()"
   ]
  },
  {
   "cell_type": "code",
   "execution_count": 33,
   "id": "18b61c6f",
   "metadata": {},
   "outputs": [
    {
     "data": {
      "text/plain": [
       "0.5490511363155669"
      ]
     },
     "execution_count": 33,
     "metadata": {},
     "output_type": "execute_result"
    }
   ],
   "source": [
    "rand()"
   ]
  },
  {
   "cell_type": "markdown",
   "id": "6f832cd9",
   "metadata": {},
   "source": [
    "- Julia's default random number generator should produce consistent results across different operating systems when the random seed is set."
   ]
  },
  {
   "cell_type": "markdown",
   "id": "b495ed76",
   "metadata": {},
   "source": [
    "## 6. Documentation <a class=\"anchor\" id=\"docs\"></a>\n",
    "\n",
    "- Every package also should have documentation, especially when it is intended to be used by other people (e.g. us when we are reviewing your projects!). \n",
    "<br>\n",
    "\n",
    "- The Julia package structure also has a dedicated place for that as well as libraries that help to build the documentation. The most common library for that is [Documenter.jl](https://documenter.juliadocs.org/stable/).\n",
    "<br>\n",
    "\n",
    "- In fact, the package we created using PkgTemplates.jl already has much of the infrastructure we need for doing this."
   ]
  },
  {
   "cell_type": "code",
   "execution_count": 35,
   "id": "26754d92",
   "metadata": {},
   "outputs": [
    {
     "name": "stdout",
     "output_type": "stream",
     "text": [
      "MyTestTwo\n",
      "├── docs\n",
      "│   ├── make.jl\n",
      "│   ├── Manifest.toml\n",
      "│   ├── Project.toml\n",
      "│   └── src\n",
      "│       └── index.md\n",
      "├── LICENSE\n",
      "├── Manifest.toml\n",
      "├── Project.toml\n",
      "├── README.md\n",
      "├── src\n",
      "│   ├── functions.jl\n",
      "│   └── MyTestTwo.jl\n",
      "└── test\n",
      "    ├── functions.jl\n",
      "    └── runtests.jl\n",
      "\n",
      "4 directories, 12 files\n"
     ]
    }
   ],
   "source": [
    ";tree MyTestTwo"
   ]
  },
  {
   "cell_type": "markdown",
   "id": "fe5aa268",
   "metadata": {},
   "source": [
    "* With Documenter.jl we can write the documentation using Markdown, similar to what we are doing here in Jupyter notebooks\n",
    "<br>\n",
    "\n",
    "* Documenter.jl also scans all source files for docstrings that are written directly before the function definitons.\n",
    "<br>\n",
    "\n",
    "* The `@autodocs` macro automatically collects all docstrings of all functions in our package. \n",
    "<br>\n",
    "\n",
    "* The preset that we generated with `PkgTemplates` will already give as a first draft of a documentation when we build it (we have to do this outside of a Jupyter notebook).\n",
    "<br>\n",
    "\n",
    "* The documentation is saved in the `docs/build` folder.\n",
    "<br>\n",
    "\n",
    "* If you have LaTeX installed, it is also possible to get a pdf using LaTeX.\n",
    "<br>\n",
    "\n",
    "* Instead of `@autodocs` we can also directly choose ourselves which functions are listed with the `@docs` macro: "
   ]
  },
  {
   "cell_type": "code",
   "execution_count": null,
   "id": "1db26753",
   "metadata": {},
   "outputs": [],
   "source": [
    "## One of our functions \n",
    "\n",
    "Here, we just list this one function\n",
    "    \n",
    "```@docs\n",
    "add_two \n",
    "```"
   ]
  },
  {
   "cell_type": "markdown",
   "id": "5b385ccd",
   "metadata": {},
   "source": [
    "- We can also add more pages to the documentation by editing the `make.jl` file. We just have to add them to the `pages` keyword:"
   ]
  },
  {
   "cell_type": "code",
   "execution_count": null,
   "id": "f6acf966",
   "metadata": {},
   "outputs": [],
   "source": [
    "using MyTestTwo\n",
    "using Documenter\n",
    "\n",
    "DocMeta.setdocmeta!(MyTestTwo, :DocTestSetup, :(using MyTestTwo); recursive=true)\n",
    "\n",
    "makedocs(;\n",
    "    modules=[MyTestTwo],\n",
    "    authors=\"My Name <mail@adress.com>\",\n",
    "    repo=\"https://github.com/my-github-user-name/MyTestTwo.jl/blob/{commit}{path}#{line}\",\n",
    "    sitename=\"MyTestTwo.jl\",\n",
    "    format=Documenter.HTML(;\n",
    "        prettyurls=get(ENV, \"CI\", \"false\") == \"true\",\n",
    "        assets=String[],\n",
    "    ),\n",
    "    pages=[\n",
    "        \"Home\" => \"index.md\",\n",
    "        \"Functions\" => \"functions.md\"\n",
    "    ],\n",
    ")"
   ]
  },
  {
   "cell_type": "markdown",
   "id": "3cf7ea15",
   "metadata": {},
   "source": [
    "- To make the documention: \n",
    "    * Open Julia and change to the `docs` folder\n",
    "    * Activate the `docs` environment\n",
    "    * Execute `include(make.jl)`\n",
    "    \n",
    "* The documentation will not fully work if you just open it in your browser unfortunately (in this case it does though). You will either need to run a local webserver (e.g. with `python3 -m http.server` and then opening `localhost:8000` in your browser) or upload it somewhere.\n",
    "<br>\n",
    "\n",
    "* In the next lectures we will look at how to automate much of what we've seen in this lecture, including uploading and hosting documentation as well as running tests with CI/CD."
   ]
  }
 ],
 "metadata": {
  "kernelspec": {
   "display_name": "Julia 1.9.3",
   "language": "julia",
   "name": "julia-1.9"
  },
  "language_info": {
   "file_extension": ".jl",
   "mimetype": "application/julia",
   "name": "julia",
   "version": "1.9.3"
  }
 },
 "nbformat": 4,
 "nbformat_minor": 5
}
